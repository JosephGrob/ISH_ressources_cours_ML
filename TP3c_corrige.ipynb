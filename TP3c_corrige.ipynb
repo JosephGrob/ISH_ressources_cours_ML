{
  "nbformat": 4,
  "nbformat_minor": 0,
  "metadata": {
    "colab": {
      "provenance": [],
      "collapsed_sections": [],
      "mount_file_id": "1S4Y_ZrHpBy-zY8a29Q1tZw_bdKoWPGSj",
      "authorship_tag": "ABX9TyN8TGC18zlZ5xm3dzEpe5sj",
      "include_colab_link": true
    },
    "kernelspec": {
      "name": "python3",
      "display_name": "Python 3"
    },
    "language_info": {
      "name": "python"
    }
  },
  "cells": [
    {
      "cell_type": "markdown",
      "metadata": {
        "id": "view-in-github",
        "colab_type": "text"
      },
      "source": [
        "<a href=\"https://colab.research.google.com/github/gguex/ISH_ressources_cours_ML/blob/main/TP3_!corrige.ipynb\" target=\"_parent\"><img src=\"https://colab.research.google.com/assets/colab-badge.svg\" alt=\"Open In Colab\"/></a>"
      ]
    },
    {
      "cell_type": "code",
      "execution_count": 1,
      "metadata": {
        "id": "ahMTP6mv1wSQ"
      },
      "outputs": [],
      "source": [
        "import pandas as pd\n",
        "import numpy as np\n",
        "import matplotlib.pyplot as plt\n",
        "# Pour modifier la taille de sortie de graphiques dans le notebook\n",
        "plt.rcParams['figure.figsize'] = [15, 8]\n",
        "# Les modèles de régression\n",
        "from sklearn.linear_model import LinearRegression, LogisticRegression\n",
        "# Pour la CV\n",
        "from sklearn.model_selection import train_test_split, GridSearchCV\n",
        "# Nos score F1\n",
        "from sklearn.metrics import f1_score\n",
        "# Pour encoder les sorties en vecteurs one-hot\n",
        "from sklearn.preprocessing import OneHotEncoder"
      ]
    },
    {
      "cell_type": "code",
      "source": [
        "# On charge le fichier de données\n",
        "file_path = \"drive/MyDrive/Colab Notebooks/ml_data/TP3/PimaIndiansDiabetes.csv\"\n",
        "data = pd.read_csv(file_path)\n",
        "data "
      ],
      "metadata": {
        "colab": {
          "base_uri": "https://localhost:8080/",
          "height": 424
        },
        "id": "TMEbQ2Lq2JOj",
        "outputId": "a82741d5-f470-40dd-f359-cadae74ce492"
      },
      "execution_count": 2,
      "outputs": [
        {
          "output_type": "execute_result",
          "data": {
            "text/plain": [
              "     pregnant  glucose  pressure  triceps  insulin  mass  pedigree  age  \\\n",
              "0           6      148        72       35        0  33.6     0.627   50   \n",
              "1           1       85        66       29        0  26.6     0.351   31   \n",
              "2           8      183        64        0        0  23.3     0.672   32   \n",
              "3           1       89        66       23       94  28.1     0.167   21   \n",
              "4           0      137        40       35      168  43.1     2.288   33   \n",
              "..        ...      ...       ...      ...      ...   ...       ...  ...   \n",
              "763        10      101        76       48      180  32.9     0.171   63   \n",
              "764         2      122        70       27        0  36.8     0.340   27   \n",
              "765         5      121        72       23      112  26.2     0.245   30   \n",
              "766         1      126        60        0        0  30.1     0.349   47   \n",
              "767         1       93        70       31        0  30.4     0.315   23   \n",
              "\n",
              "    diabetes  \n",
              "0        pos  \n",
              "1        neg  \n",
              "2        pos  \n",
              "3        neg  \n",
              "4        pos  \n",
              "..       ...  \n",
              "763      neg  \n",
              "764      neg  \n",
              "765      neg  \n",
              "766      pos  \n",
              "767      neg  \n",
              "\n",
              "[768 rows x 9 columns]"
            ],
            "text/html": [
              "\n",
              "  <div id=\"df-ce07648c-7f1e-4ce5-9b93-4df5caa36c08\">\n",
              "    <div class=\"colab-df-container\">\n",
              "      <div>\n",
              "<style scoped>\n",
              "    .dataframe tbody tr th:only-of-type {\n",
              "        vertical-align: middle;\n",
              "    }\n",
              "\n",
              "    .dataframe tbody tr th {\n",
              "        vertical-align: top;\n",
              "    }\n",
              "\n",
              "    .dataframe thead th {\n",
              "        text-align: right;\n",
              "    }\n",
              "</style>\n",
              "<table border=\"1\" class=\"dataframe\">\n",
              "  <thead>\n",
              "    <tr style=\"text-align: right;\">\n",
              "      <th></th>\n",
              "      <th>pregnant</th>\n",
              "      <th>glucose</th>\n",
              "      <th>pressure</th>\n",
              "      <th>triceps</th>\n",
              "      <th>insulin</th>\n",
              "      <th>mass</th>\n",
              "      <th>pedigree</th>\n",
              "      <th>age</th>\n",
              "      <th>diabetes</th>\n",
              "    </tr>\n",
              "  </thead>\n",
              "  <tbody>\n",
              "    <tr>\n",
              "      <th>0</th>\n",
              "      <td>6</td>\n",
              "      <td>148</td>\n",
              "      <td>72</td>\n",
              "      <td>35</td>\n",
              "      <td>0</td>\n",
              "      <td>33.6</td>\n",
              "      <td>0.627</td>\n",
              "      <td>50</td>\n",
              "      <td>pos</td>\n",
              "    </tr>\n",
              "    <tr>\n",
              "      <th>1</th>\n",
              "      <td>1</td>\n",
              "      <td>85</td>\n",
              "      <td>66</td>\n",
              "      <td>29</td>\n",
              "      <td>0</td>\n",
              "      <td>26.6</td>\n",
              "      <td>0.351</td>\n",
              "      <td>31</td>\n",
              "      <td>neg</td>\n",
              "    </tr>\n",
              "    <tr>\n",
              "      <th>2</th>\n",
              "      <td>8</td>\n",
              "      <td>183</td>\n",
              "      <td>64</td>\n",
              "      <td>0</td>\n",
              "      <td>0</td>\n",
              "      <td>23.3</td>\n",
              "      <td>0.672</td>\n",
              "      <td>32</td>\n",
              "      <td>pos</td>\n",
              "    </tr>\n",
              "    <tr>\n",
              "      <th>3</th>\n",
              "      <td>1</td>\n",
              "      <td>89</td>\n",
              "      <td>66</td>\n",
              "      <td>23</td>\n",
              "      <td>94</td>\n",
              "      <td>28.1</td>\n",
              "      <td>0.167</td>\n",
              "      <td>21</td>\n",
              "      <td>neg</td>\n",
              "    </tr>\n",
              "    <tr>\n",
              "      <th>4</th>\n",
              "      <td>0</td>\n",
              "      <td>137</td>\n",
              "      <td>40</td>\n",
              "      <td>35</td>\n",
              "      <td>168</td>\n",
              "      <td>43.1</td>\n",
              "      <td>2.288</td>\n",
              "      <td>33</td>\n",
              "      <td>pos</td>\n",
              "    </tr>\n",
              "    <tr>\n",
              "      <th>...</th>\n",
              "      <td>...</td>\n",
              "      <td>...</td>\n",
              "      <td>...</td>\n",
              "      <td>...</td>\n",
              "      <td>...</td>\n",
              "      <td>...</td>\n",
              "      <td>...</td>\n",
              "      <td>...</td>\n",
              "      <td>...</td>\n",
              "    </tr>\n",
              "    <tr>\n",
              "      <th>763</th>\n",
              "      <td>10</td>\n",
              "      <td>101</td>\n",
              "      <td>76</td>\n",
              "      <td>48</td>\n",
              "      <td>180</td>\n",
              "      <td>32.9</td>\n",
              "      <td>0.171</td>\n",
              "      <td>63</td>\n",
              "      <td>neg</td>\n",
              "    </tr>\n",
              "    <tr>\n",
              "      <th>764</th>\n",
              "      <td>2</td>\n",
              "      <td>122</td>\n",
              "      <td>70</td>\n",
              "      <td>27</td>\n",
              "      <td>0</td>\n",
              "      <td>36.8</td>\n",
              "      <td>0.340</td>\n",
              "      <td>27</td>\n",
              "      <td>neg</td>\n",
              "    </tr>\n",
              "    <tr>\n",
              "      <th>765</th>\n",
              "      <td>5</td>\n",
              "      <td>121</td>\n",
              "      <td>72</td>\n",
              "      <td>23</td>\n",
              "      <td>112</td>\n",
              "      <td>26.2</td>\n",
              "      <td>0.245</td>\n",
              "      <td>30</td>\n",
              "      <td>neg</td>\n",
              "    </tr>\n",
              "    <tr>\n",
              "      <th>766</th>\n",
              "      <td>1</td>\n",
              "      <td>126</td>\n",
              "      <td>60</td>\n",
              "      <td>0</td>\n",
              "      <td>0</td>\n",
              "      <td>30.1</td>\n",
              "      <td>0.349</td>\n",
              "      <td>47</td>\n",
              "      <td>pos</td>\n",
              "    </tr>\n",
              "    <tr>\n",
              "      <th>767</th>\n",
              "      <td>1</td>\n",
              "      <td>93</td>\n",
              "      <td>70</td>\n",
              "      <td>31</td>\n",
              "      <td>0</td>\n",
              "      <td>30.4</td>\n",
              "      <td>0.315</td>\n",
              "      <td>23</td>\n",
              "      <td>neg</td>\n",
              "    </tr>\n",
              "  </tbody>\n",
              "</table>\n",
              "<p>768 rows × 9 columns</p>\n",
              "</div>\n",
              "      <button class=\"colab-df-convert\" onclick=\"convertToInteractive('df-ce07648c-7f1e-4ce5-9b93-4df5caa36c08')\"\n",
              "              title=\"Convert this dataframe to an interactive table.\"\n",
              "              style=\"display:none;\">\n",
              "        \n",
              "  <svg xmlns=\"http://www.w3.org/2000/svg\" height=\"24px\"viewBox=\"0 0 24 24\"\n",
              "       width=\"24px\">\n",
              "    <path d=\"M0 0h24v24H0V0z\" fill=\"none\"/>\n",
              "    <path d=\"M18.56 5.44l.94 2.06.94-2.06 2.06-.94-2.06-.94-.94-2.06-.94 2.06-2.06.94zm-11 1L8.5 8.5l.94-2.06 2.06-.94-2.06-.94L8.5 2.5l-.94 2.06-2.06.94zm10 10l.94 2.06.94-2.06 2.06-.94-2.06-.94-.94-2.06-.94 2.06-2.06.94z\"/><path d=\"M17.41 7.96l-1.37-1.37c-.4-.4-.92-.59-1.43-.59-.52 0-1.04.2-1.43.59L10.3 9.45l-7.72 7.72c-.78.78-.78 2.05 0 2.83L4 21.41c.39.39.9.59 1.41.59.51 0 1.02-.2 1.41-.59l7.78-7.78 2.81-2.81c.8-.78.8-2.07 0-2.86zM5.41 20L4 18.59l7.72-7.72 1.47 1.35L5.41 20z\"/>\n",
              "  </svg>\n",
              "      </button>\n",
              "      \n",
              "  <style>\n",
              "    .colab-df-container {\n",
              "      display:flex;\n",
              "      flex-wrap:wrap;\n",
              "      gap: 12px;\n",
              "    }\n",
              "\n",
              "    .colab-df-convert {\n",
              "      background-color: #E8F0FE;\n",
              "      border: none;\n",
              "      border-radius: 50%;\n",
              "      cursor: pointer;\n",
              "      display: none;\n",
              "      fill: #1967D2;\n",
              "      height: 32px;\n",
              "      padding: 0 0 0 0;\n",
              "      width: 32px;\n",
              "    }\n",
              "\n",
              "    .colab-df-convert:hover {\n",
              "      background-color: #E2EBFA;\n",
              "      box-shadow: 0px 1px 2px rgba(60, 64, 67, 0.3), 0px 1px 3px 1px rgba(60, 64, 67, 0.15);\n",
              "      fill: #174EA6;\n",
              "    }\n",
              "\n",
              "    [theme=dark] .colab-df-convert {\n",
              "      background-color: #3B4455;\n",
              "      fill: #D2E3FC;\n",
              "    }\n",
              "\n",
              "    [theme=dark] .colab-df-convert:hover {\n",
              "      background-color: #434B5C;\n",
              "      box-shadow: 0px 1px 3px 1px rgba(0, 0, 0, 0.15);\n",
              "      filter: drop-shadow(0px 1px 2px rgba(0, 0, 0, 0.3));\n",
              "      fill: #FFFFFF;\n",
              "    }\n",
              "  </style>\n",
              "\n",
              "      <script>\n",
              "        const buttonEl =\n",
              "          document.querySelector('#df-ce07648c-7f1e-4ce5-9b93-4df5caa36c08 button.colab-df-convert');\n",
              "        buttonEl.style.display =\n",
              "          google.colab.kernel.accessAllowed ? 'block' : 'none';\n",
              "\n",
              "        async function convertToInteractive(key) {\n",
              "          const element = document.querySelector('#df-ce07648c-7f1e-4ce5-9b93-4df5caa36c08');\n",
              "          const dataTable =\n",
              "            await google.colab.kernel.invokeFunction('convertToInteractive',\n",
              "                                                     [key], {});\n",
              "          if (!dataTable) return;\n",
              "\n",
              "          const docLinkHtml = 'Like what you see? Visit the ' +\n",
              "            '<a target=\"_blank\" href=https://colab.research.google.com/notebooks/data_table.ipynb>data table notebook</a>'\n",
              "            + ' to learn more about interactive tables.';\n",
              "          element.innerHTML = '';\n",
              "          dataTable['output_type'] = 'display_data';\n",
              "          await google.colab.output.renderOutput(dataTable, element);\n",
              "          const docLink = document.createElement('div');\n",
              "          docLink.innerHTML = docLinkHtml;\n",
              "          element.appendChild(docLink);\n",
              "        }\n",
              "      </script>\n",
              "    </div>\n",
              "  </div>\n",
              "  "
            ]
          },
          "metadata": {},
          "execution_count": 2
        }
      ]
    },
    {
      "cell_type": "code",
      "source": [
        "# Les inputs sont toutes les données sauf \"diabetes\"\n",
        "inputs = data.drop(\"diabetes\", axis=1)\n",
        "# Les sorties sont la variable \"diabetes\", qu'on transforme en variable binaire\n",
        "outputs = (data[\"diabetes\"].to_numpy() == \"pos\")*1\n",
        "# On sépare en jeux d'entrainement/validation et test\n",
        "inputs_train_val, inputs_test, outputs_train_val, outputs_test \\\n",
        "  = train_test_split(inputs, outputs, test_size=0.2, stratify=outputs)"
      ],
      "metadata": {
        "id": "2KblI6gm2cTu"
      },
      "execution_count": 3,
      "outputs": []
    },
    {
      "cell_type": "code",
      "source": [
        "# On fait le modèle linéaire\n",
        "linear_reg = LinearRegression()\n",
        "linear_reg.fit(inputs_train_val, outputs_train_val)"
      ],
      "metadata": {
        "colab": {
          "base_uri": "https://localhost:8080/"
        },
        "id": "kW9UQxSj2mMH",
        "outputId": "d1ac93bc-7f0a-4ff9-dff4-cb0c3f6c0e66"
      },
      "execution_count": 4,
      "outputs": [
        {
          "output_type": "execute_result",
          "data": {
            "text/plain": [
              "LinearRegression()"
            ]
          },
          "metadata": {},
          "execution_count": 4
        }
      ]
    },
    {
      "cell_type": "code",
      "source": [
        "# On calcule les prédictions\n",
        "outputs_lin_train = (linear_reg.predict(inputs_train_val) > 0.5)*1\n",
        "outputs_lin_test = (linear_reg.predict(inputs_test) > 0.5)*1\n",
        "# On calcule le F1 train et test\n",
        "f1_lin_train = f1_score(outputs_train_val, outputs_lin_train)\n",
        "f1_lin_test = f1_score(outputs_test, outputs_lin_test)"
      ],
      "metadata": {
        "id": "6ZFJL2E23Xaz"
      },
      "execution_count": 5,
      "outputs": []
    },
    {
      "cell_type": "code",
      "source": [
        "# Paramètres pour la CV\n",
        "params = np.linspace(0.001, 5, 50)\n",
        "param_dict = {\"C\": params}\n",
        "k = 5\n",
        "# Modèle avec un peu plus d'itérations (1e4 = 1000)\n",
        "logistic_reg = LogisticRegression(max_iter=1e4)\n",
        "# Recherche sur grille avec CV\n",
        "grid_search = GridSearchCV(logistic_reg, \n",
        "                            param_dict,\n",
        "                            cv=k,\n",
        "                            scoring=\"f1\")\n",
        "grid_search.fit(inputs_train_val, outputs_train_val)"
      ],
      "metadata": {
        "colab": {
          "base_uri": "https://localhost:8080/"
        },
        "id": "-EgRfgRa3lct",
        "outputId": "5efbfd4c-1e70-4d87-c3d7-ad5a3bcc6803"
      },
      "execution_count": 6,
      "outputs": [
        {
          "output_type": "execute_result",
          "data": {
            "text/plain": [
              "GridSearchCV(cv=5, estimator=LogisticRegression(max_iter=10000.0),\n",
              "             param_grid={'C': array([1.00000000e-03, 1.03020408e-01, 2.05040816e-01, 3.07061224e-01,\n",
              "       4.09081633e-01, 5.11102041e-01, 6.13122449e-01, 7.15142857e-01,\n",
              "       8.17163265e-01, 9.19183673e-01, 1.02120408e+00, 1.12322449e+00,\n",
              "       1.22524490e+00, 1.32726531e+00, 1.42928571e+00, 1.53130612e+00,\n",
              "       1.63332653e+00, 1.73534...\n",
              "       2.44948980e+00, 2.55151020e+00, 2.65353061e+00, 2.75555102e+00,\n",
              "       2.85757143e+00, 2.95959184e+00, 3.06161224e+00, 3.16363265e+00,\n",
              "       3.26565306e+00, 3.36767347e+00, 3.46969388e+00, 3.57171429e+00,\n",
              "       3.67373469e+00, 3.77575510e+00, 3.87777551e+00, 3.97979592e+00,\n",
              "       4.08181633e+00, 4.18383673e+00, 4.28585714e+00, 4.38787755e+00,\n",
              "       4.48989796e+00, 4.59191837e+00, 4.69393878e+00, 4.79595918e+00,\n",
              "       4.89797959e+00, 5.00000000e+00])},\n",
              "             scoring='f1')"
            ]
          },
          "metadata": {},
          "execution_count": 6
        }
      ]
    },
    {
      "cell_type": "code",
      "source": [
        "# Plot des scores\n",
        "f1_scores = grid_search.cv_results_[\"mean_test_score\"]\n",
        "# Plot des scores\n",
        "fig, ax = plt.subplots()\n",
        "ax.plot(params, f1_scores, c=\"red\")\n",
        "ax.set_xlabel(\"$\\lambda$\")\n",
        "ax.set_ylabel(\"$F1 score$\")\n",
        "plt.plot()"
      ],
      "metadata": {
        "colab": {
          "base_uri": "https://localhost:8080/",
          "height": 516
        },
        "id": "c1gXxGjB3zL-",
        "outputId": "136a3fab-4170-4635-e577-36eb8da75cf1"
      },
      "execution_count": 7,
      "outputs": [
        {
          "output_type": "execute_result",
          "data": {
            "text/plain": [
              "[]"
            ]
          },
          "metadata": {},
          "execution_count": 7
        },
        {
          "output_type": "display_data",
          "data": {
            "text/plain": [
              "<Figure size 1080x576 with 1 Axes>"
            ],
            "image/png": "[encoded data removed]"
          },
          "metadata": {
            "needs_background": "light"
          }
        }
      ]
    },
    {
      "cell_type": "code",
      "source": [
        "# On sauve le meilleur modèle\n",
        "best_C = grid_search.best_params_[\"C\"]\n",
        "best_log_reg = grid_search.best_estimator_\n",
        "# Les prédictions\n",
        "outputs_log_train = best_log_reg.predict(inputs_train_val)\n",
        "outputs_log_test = best_log_reg.predict(inputs_test)\n",
        "# Les scores f1\n",
        "f1_log_train = f1_score(outputs_train_val, outputs_log_train)\n",
        "f1_log_test = f1_score(outputs_test, outputs_log_test)"
      ],
      "metadata": {
        "id": "BcssWVgJ4Bsi"
      },
      "execution_count": 8,
      "outputs": []
    },
    {
      "cell_type": "code",
      "source": [
        "print(f\"Le F1 pour le modèle linéaire est de \"\n",
        "f\"{f1_lin_train:.2%} (train) {f1_lin_test:.2%} (test)\")\n",
        "print(f\"Le F1 pour le modèle logistique (C={best_C:.4f}) est \"\n",
        "f\"de {f1_log_train:.2%} (train) {f1_log_test:.2%} (test)\")"
      ],
      "metadata": {
        "colab": {
          "base_uri": "https://localhost:8080/"
        },
        "id": "v2grm2qI5duv",
        "outputId": "a2a8964d-56d8-4830-c159-ed7bc8a7b334"
      },
      "execution_count": 9,
      "outputs": [
        {
          "output_type": "stream",
          "name": "stdout",
          "text": [
            "Le F1 pour le modèle linéaire est de 63.30% (train) 60.87% (test)\n",
            "Le F1 pour le modèle logistique (C=0.4091) est de 63.87% (train) 65.96% (test)\n"
          ]
        }
      ]
    }
  ]
}
