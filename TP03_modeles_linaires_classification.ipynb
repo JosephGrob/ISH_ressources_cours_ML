{
  "nbformat": 4,
  "nbformat_minor": 0,
  "metadata": {
    "colab": {
      "provenance": [],
      "mount_file_id": "1eYB-KBM_AxI6wa74I3b2lZHdlb3aTOCJ",
      "authorship_tag": "ABX9TyOtD6j/lLvgNiEGRIKGuGeU",
      "include_colab_link": true
    },
    "kernelspec": {
      "name": "python3",
      "display_name": "Python 3"
    },
    "language_info": {
      "name": "python"
    }
  },
  "cells": [
    {
      "cell_type": "markdown",
      "metadata": {
        "id": "view-in-github",
        "colab_type": "text"
      },
      "source": [
        "<a href=\"https://colab.research.google.com/github/gguex/ISH_ressources_cours_ML/blob/main/TP03_modeles_linaires_classification.ipynb\" target=\"_parent\"><img src=\"https://colab.research.google.com/assets/colab-badge.svg\" alt=\"Open In Colab\"/></a>"
      ]
    },
    {
      "cell_type": "markdown",
      "source": [
        "# TP 3:  modèles linéaires pour la classification\n",
        "\n",
        "Dans ce troisième TP, nous allons faire des régressions linéaires et logistiques pour de la classification. Il y aura deux parties :\n",
        "\n",
        "* La régression linéaire et logistique pour une variable binaire\n",
        "* La régression linéaire et logistique pour une variable multimodale\n",
        "\n",
        "Un exercice consitera à refaire ces modèles, afin d'optimiser cette fois la mesure F1, sur un nouveau jeu de données.\n",
        "\n",
        "Les librairies et modules nécessaires sont"
      ],
      "metadata": {
        "id": "qNpexjLWmjpE"
      }
    },
    {
      "cell_type": "code",
      "execution_count": 1,
      "metadata": {
        "id": "1ZGiKBDBh6R7"
      },
      "outputs": [],
      "source": [
        "import pandas as pd\n",
        "import numpy as np\n",
        "import matplotlib.pyplot as plt\n",
        "# Pour modifier la taille de sortie de graphiques dans le notebook\n",
        "plt.rcParams['figure.figsize'] = [20, 10]\n",
        "# Les modèles de régression\n",
        "from sklearn.linear_model import LinearRegression, LogisticRegression\n",
        "# Pour la CV\n",
        "from sklearn.model_selection import train_test_split, GridSearchCV\n",
        "# Nos différentes mesures\n",
        "from sklearn.metrics import make_scorer, accuracy_score, \\\n",
        "  precision_score, recall_score\n",
        "# Pour encoder les sorties en vecteurs one-hot\n",
        "from sklearn.preprocessing import OneHotEncoder"
      ]
    },
    {
      "cell_type": "markdown",
      "source": [
        "---"
      ],
      "metadata": {
        "id": "AtpWtaA5oSr2"
      }
    },
    {
      "cell_type": "markdown",
      "source": [
        "## 1. Variable binaire\n",
        "\n",
        "Nous allons utiliser ici le jeu de données \"BreastCancer.csv\" (https://www.rdocumentation.org/packages/mlbench/versions/2.1-3/topics/BreastCancer) possédant une variable \"Class\" indiquant si la tumeur prélevée est bénigne ou maligne. Les autres variables sont numériques.\n",
        "\n",
        "On commence par charger le jeu de données"
      ],
      "metadata": {
        "id": "ZazFet2X2VZw"
      }
    },
    {
      "cell_type": "code",
      "source": [
        "file_path = \"drive/MyDrive/Colab Notebooks/ml_data/TP3/BreastCancer.csv\"\n",
        "data = pd.read_csv(file_path)\n",
        "data"
      ],
      "metadata": {
        "colab": {
          "base_uri": "https://localhost:8080/",
          "height": 424
        },
        "id": "GD-0rMr9moRh",
        "outputId": "031f0c4b-1f03-4311-e923-94c2d8bd99c3"
      },
      "execution_count": 2,
      "outputs": [
        {
          "output_type": "execute_result",
          "data": {
            "text/plain": [
              "          Id  Cl.thickness  Cell.size  Cell.shape  Marg.adhesion  \\\n",
              "0    1000025             5          1           1              1   \n",
              "1    1002945             5          4           4              5   \n",
              "2    1015425             3          1           1              1   \n",
              "3    1016277             6          8           8              1   \n",
              "4    1017023             4          1           1              3   \n",
              "..       ...           ...        ...         ...            ...   \n",
              "678   776715             3          1           1              1   \n",
              "679   841769             2          1           1              1   \n",
              "680   888820             5         10          10              3   \n",
              "681   897471             4          8           6              4   \n",
              "682   897471             4          8           8              5   \n",
              "\n",
              "     Epith.c.size  Bare.nuclei  Bl.cromatin  Normal.nucleoli  Mitoses  \\\n",
              "0               2            1            3                1        1   \n",
              "1               7           10            3                2        1   \n",
              "2               2            2            3                1        1   \n",
              "3               3            4            3                7        1   \n",
              "4               2            1            3                1        1   \n",
              "..            ...          ...          ...              ...      ...   \n",
              "678             3            2            1                1        1   \n",
              "679             2            1            1                1        1   \n",
              "680             7            3            8               10        2   \n",
              "681             3            4           10                6        1   \n",
              "682             4            5           10                4        1   \n",
              "\n",
              "         Class  \n",
              "0       benign  \n",
              "1       benign  \n",
              "2       benign  \n",
              "3       benign  \n",
              "4       benign  \n",
              "..         ...  \n",
              "678     benign  \n",
              "679     benign  \n",
              "680  malignant  \n",
              "681  malignant  \n",
              "682  malignant  \n",
              "\n",
              "[683 rows x 11 columns]"
            ],
            "text/html": [
              "\n",
              "  <div id=\"df-deccb6fa-420b-48dc-88e9-ad1986adc3f4\" class=\"colab-df-container\">\n",
              "    <div>\n",
              "<style scoped>\n",
              "    .dataframe tbody tr th:only-of-type {\n",
              "        vertical-align: middle;\n",
              "    }\n",
              "\n",
              "    .dataframe tbody tr th {\n",
              "        vertical-align: top;\n",
              "    }\n",
              "\n",
              "    .dataframe thead th {\n",
              "        text-align: right;\n",
              "    }\n",
              "</style>\n",
              "<table border=\"1\" class=\"dataframe\">\n",
              "  <thead>\n",
              "    <tr style=\"text-align: right;\">\n",
              "      <th></th>\n",
              "      <th>Id</th>\n",
              "      <th>Cl.thickness</th>\n",
              "      <th>Cell.size</th>\n",
              "      <th>Cell.shape</th>\n",
              "      <th>Marg.adhesion</th>\n",
              "      <th>Epith.c.size</th>\n",
              "      <th>Bare.nuclei</th>\n",
              "      <th>Bl.cromatin</th>\n",
              "      <th>Normal.nucleoli</th>\n",
              "      <th>Mitoses</th>\n",
              "      <th>Class</th>\n",
              "    </tr>\n",
              "  </thead>\n",
              "  <tbody>\n",
              "    <tr>\n",
              "      <th>0</th>\n",
              "      <td>1000025</td>\n",
              "      <td>5</td>\n",
              "      <td>1</td>\n",
              "      <td>1</td>\n",
              "      <td>1</td>\n",
              "      <td>2</td>\n",
              "      <td>1</td>\n",
              "      <td>3</td>\n",
              "      <td>1</td>\n",
              "      <td>1</td>\n",
              "      <td>benign</td>\n",
              "    </tr>\n",
              "    <tr>\n",
              "      <th>1</th>\n",
              "      <td>1002945</td>\n",
              "      <td>5</td>\n",
              "      <td>4</td>\n",
              "      <td>4</td>\n",
              "      <td>5</td>\n",
              "      <td>7</td>\n",
              "      <td>10</td>\n",
              "      <td>3</td>\n",
              "      <td>2</td>\n",
              "      <td>1</td>\n",
              "      <td>benign</td>\n",
              "    </tr>\n",
              "    <tr>\n",
              "      <th>2</th>\n",
              "      <td>1015425</td>\n",
              "      <td>3</td>\n",
              "      <td>1</td>\n",
              "      <td>1</td>\n",
              "      <td>1</td>\n",
              "      <td>2</td>\n",
              "      <td>2</td>\n",
              "      <td>3</td>\n",
              "      <td>1</td>\n",
              "      <td>1</td>\n",
              "      <td>benign</td>\n",
              "    </tr>\n",
              "    <tr>\n",
              "      <th>3</th>\n",
              "      <td>1016277</td>\n",
              "      <td>6</td>\n",
              "      <td>8</td>\n",
              "      <td>8</td>\n",
              "      <td>1</td>\n",
              "      <td>3</td>\n",
              "      <td>4</td>\n",
              "      <td>3</td>\n",
              "      <td>7</td>\n",
              "      <td>1</td>\n",
              "      <td>benign</td>\n",
              "    </tr>\n",
              "    <tr>\n",
              "      <th>4</th>\n",
              "      <td>1017023</td>\n",
              "      <td>4</td>\n",
              "      <td>1</td>\n",
              "      <td>1</td>\n",
              "      <td>3</td>\n",
              "      <td>2</td>\n",
              "      <td>1</td>\n",
              "      <td>3</td>\n",
              "      <td>1</td>\n",
              "      <td>1</td>\n",
              "      <td>benign</td>\n",
              "    </tr>\n",
              "    <tr>\n",
              "      <th>...</th>\n",
              "      <td>...</td>\n",
              "      <td>...</td>\n",
              "      <td>...</td>\n",
              "      <td>...</td>\n",
              "      <td>...</td>\n",
              "      <td>...</td>\n",
              "      <td>...</td>\n",
              "      <td>...</td>\n",
              "      <td>...</td>\n",
              "      <td>...</td>\n",
              "      <td>...</td>\n",
              "    </tr>\n",
              "    <tr>\n",
              "      <th>678</th>\n",
              "      <td>776715</td>\n",
              "      <td>3</td>\n",
              "      <td>1</td>\n",
              "      <td>1</td>\n",
              "      <td>1</td>\n",
              "      <td>3</td>\n",
              "      <td>2</td>\n",
              "      <td>1</td>\n",
              "      <td>1</td>\n",
              "      <td>1</td>\n",
              "      <td>benign</td>\n",
              "    </tr>\n",
              "    <tr>\n",
              "      <th>679</th>\n",
              "      <td>841769</td>\n",
              "      <td>2</td>\n",
              "      <td>1</td>\n",
              "      <td>1</td>\n",
              "      <td>1</td>\n",
              "      <td>2</td>\n",
              "      <td>1</td>\n",
              "      <td>1</td>\n",
              "      <td>1</td>\n",
              "      <td>1</td>\n",
              "      <td>benign</td>\n",
              "    </tr>\n",
              "    <tr>\n",
              "      <th>680</th>\n",
              "      <td>888820</td>\n",
              "      <td>5</td>\n",
              "      <td>10</td>\n",
              "      <td>10</td>\n",
              "      <td>3</td>\n",
              "      <td>7</td>\n",
              "      <td>3</td>\n",
              "      <td>8</td>\n",
              "      <td>10</td>\n",
              "      <td>2</td>\n",
              "      <td>malignant</td>\n",
              "    </tr>\n",
              "    <tr>\n",
              "      <th>681</th>\n",
              "      <td>897471</td>\n",
              "      <td>4</td>\n",
              "      <td>8</td>\n",
              "      <td>6</td>\n",
              "      <td>4</td>\n",
              "      <td>3</td>\n",
              "      <td>4</td>\n",
              "      <td>10</td>\n",
              "      <td>6</td>\n",
              "      <td>1</td>\n",
              "      <td>malignant</td>\n",
              "    </tr>\n",
              "    <tr>\n",
              "      <th>682</th>\n",
              "      <td>897471</td>\n",
              "      <td>4</td>\n",
              "      <td>8</td>\n",
              "      <td>8</td>\n",
              "      <td>5</td>\n",
              "      <td>4</td>\n",
              "      <td>5</td>\n",
              "      <td>10</td>\n",
              "      <td>4</td>\n",
              "      <td>1</td>\n",
              "      <td>malignant</td>\n",
              "    </tr>\n",
              "  </tbody>\n",
              "</table>\n",
              "<p>683 rows × 11 columns</p>\n",
              "</div>\n",
              "    <div class=\"colab-df-buttons\">\n",
              "\n",
              "  <div class=\"colab-df-container\">\n",
              "    <button class=\"colab-df-convert\" onclick=\"convertToInteractive('df-deccb6fa-420b-48dc-88e9-ad1986adc3f4')\"\n",
              "            title=\"Convert this dataframe to an interactive table.\"\n",
              "            style=\"display:none;\">\n",
              "\n",
              "  <svg xmlns=\"http://www.w3.org/2000/svg\" height=\"24px\" viewBox=\"0 -960 960 960\">\n",
              "    <path d=\"M120-120v-720h720v720H120Zm60-500h600v-160H180v160Zm220 220h160v-160H400v160Zm0 220h160v-160H400v160ZM180-400h160v-160H180v160Zm440 0h160v-160H620v160ZM180-180h160v-160H180v160Zm440 0h160v-160H620v160Z\"/>\n",
              "  </svg>\n",
              "    </button>\n",
              "\n",
              "  <style>\n",
              "    .colab-df-container {\n",
              "      display:flex;\n",
              "      gap: 12px;\n",
              "    }\n",
              "\n",
              "    .colab-df-convert {\n",
              "      background-color: #E8F0FE;\n",
              "      border: none;\n",
              "      border-radius: 50%;\n",
              "      cursor: pointer;\n",
              "      display: none;\n",
              "      fill: #1967D2;\n",
              "      height: 32px;\n",
              "      padding: 0 0 0 0;\n",
              "      width: 32px;\n",
              "    }\n",
              "\n",
              "    .colab-df-convert:hover {\n",
              "      background-color: #E2EBFA;\n",
              "      box-shadow: 0px 1px 2px rgba(60, 64, 67, 0.3), 0px 1px 3px 1px rgba(60, 64, 67, 0.15);\n",
              "      fill: #174EA6;\n",
              "    }\n",
              "\n",
              "    .colab-df-buttons div {\n",
              "      margin-bottom: 4px;\n",
              "    }\n",
              "\n",
              "    [theme=dark] .colab-df-convert {\n",
              "      background-color: #3B4455;\n",
              "      fill: #D2E3FC;\n",
              "    }\n",
              "\n",
              "    [theme=dark] .colab-df-convert:hover {\n",
              "      background-color: #434B5C;\n",
              "      box-shadow: 0px 1px 3px 1px rgba(0, 0, 0, 0.15);\n",
              "      filter: drop-shadow(0px 1px 2px rgba(0, 0, 0, 0.3));\n",
              "      fill: #FFFFFF;\n",
              "    }\n",
              "  </style>\n",
              "\n",
              "    <script>\n",
              "      const buttonEl =\n",
              "        document.querySelector('#df-deccb6fa-420b-48dc-88e9-ad1986adc3f4 button.colab-df-convert');\n",
              "      buttonEl.style.display =\n",
              "        google.colab.kernel.accessAllowed ? 'block' : 'none';\n",
              "\n",
              "      async function convertToInteractive(key) {\n",
              "        const element = document.querySelector('#df-deccb6fa-420b-48dc-88e9-ad1986adc3f4');\n",
              "        const dataTable =\n",
              "          await google.colab.kernel.invokeFunction('convertToInteractive',\n",
              "                                                    [key], {});\n",
              "        if (!dataTable) return;\n",
              "\n",
              "        const docLinkHtml = 'Like what you see? Visit the ' +\n",
              "          '<a target=\"_blank\" href=https://colab.research.google.com/notebooks/data_table.ipynb>data table notebook</a>'\n",
              "          + ' to learn more about interactive tables.';\n",
              "        element.innerHTML = '';\n",
              "        dataTable['output_type'] = 'display_data';\n",
              "        await google.colab.output.renderOutput(dataTable, element);\n",
              "        const docLink = document.createElement('div');\n",
              "        docLink.innerHTML = docLinkHtml;\n",
              "        element.appendChild(docLink);\n",
              "      }\n",
              "    </script>\n",
              "  </div>\n",
              "\n",
              "\n",
              "<div id=\"df-9b041ebd-8087-468f-8607-46c292898c5c\">\n",
              "  <button class=\"colab-df-quickchart\" onclick=\"quickchart('df-9b041ebd-8087-468f-8607-46c292898c5c')\"\n",
              "            title=\"Suggest charts.\"\n",
              "            style=\"display:none;\">\n",
              "\n",
              "<svg xmlns=\"http://www.w3.org/2000/svg\" height=\"24px\"viewBox=\"0 0 24 24\"\n",
              "     width=\"24px\">\n",
              "    <g>\n",
              "        <path d=\"M19 3H5c-1.1 0-2 .9-2 2v14c0 1.1.9 2 2 2h14c1.1 0 2-.9 2-2V5c0-1.1-.9-2-2-2zM9 17H7v-7h2v7zm4 0h-2V7h2v10zm4 0h-2v-4h2v4z\"/>\n",
              "    </g>\n",
              "</svg>\n",
              "  </button>\n",
              "\n",
              "<style>\n",
              "  .colab-df-quickchart {\n",
              "      --bg-color: #E8F0FE;\n",
              "      --fill-color: #1967D2;\n",
              "      --hover-bg-color: #E2EBFA;\n",
              "      --hover-fill-color: #174EA6;\n",
              "      --disabled-fill-color: #AAA;\n",
              "      --disabled-bg-color: #DDD;\n",
              "  }\n",
              "\n",
              "  [theme=dark] .colab-df-quickchart {\n",
              "      --bg-color: #3B4455;\n",
              "      --fill-color: #D2E3FC;\n",
              "      --hover-bg-color: #434B5C;\n",
              "      --hover-fill-color: #FFFFFF;\n",
              "      --disabled-bg-color: #3B4455;\n",
              "      --disabled-fill-color: #666;\n",
              "  }\n",
              "\n",
              "  .colab-df-quickchart {\n",
              "    background-color: var(--bg-color);\n",
              "    border: none;\n",
              "    border-radius: 50%;\n",
              "    cursor: pointer;\n",
              "    display: none;\n",
              "    fill: var(--fill-color);\n",
              "    height: 32px;\n",
              "    padding: 0;\n",
              "    width: 32px;\n",
              "  }\n",
              "\n",
              "  .colab-df-quickchart:hover {\n",
              "    background-color: var(--hover-bg-color);\n",
              "    box-shadow: 0 1px 2px rgba(60, 64, 67, 0.3), 0 1px 3px 1px rgba(60, 64, 67, 0.15);\n",
              "    fill: var(--button-hover-fill-color);\n",
              "  }\n",
              "\n",
              "  .colab-df-quickchart-complete:disabled,\n",
              "  .colab-df-quickchart-complete:disabled:hover {\n",
              "    background-color: var(--disabled-bg-color);\n",
              "    fill: var(--disabled-fill-color);\n",
              "    box-shadow: none;\n",
              "  }\n",
              "\n",
              "  .colab-df-spinner {\n",
              "    border: 2px solid var(--fill-color);\n",
              "    border-color: transparent;\n",
              "    border-bottom-color: var(--fill-color);\n",
              "    animation:\n",
              "      spin 1s steps(1) infinite;\n",
              "  }\n",
              "\n",
              "  @keyframes spin {\n",
              "    0% {\n",
              "      border-color: transparent;\n",
              "      border-bottom-color: var(--fill-color);\n",
              "      border-left-color: var(--fill-color);\n",
              "    }\n",
              "    20% {\n",
              "      border-color: transparent;\n",
              "      border-left-color: var(--fill-color);\n",
              "      border-top-color: var(--fill-color);\n",
              "    }\n",
              "    30% {\n",
              "      border-color: transparent;\n",
              "      border-left-color: var(--fill-color);\n",
              "      border-top-color: var(--fill-color);\n",
              "      border-right-color: var(--fill-color);\n",
              "    }\n",
              "    40% {\n",
              "      border-color: transparent;\n",
              "      border-right-color: var(--fill-color);\n",
              "      border-top-color: var(--fill-color);\n",
              "    }\n",
              "    60% {\n",
              "      border-color: transparent;\n",
              "      border-right-color: var(--fill-color);\n",
              "    }\n",
              "    80% {\n",
              "      border-color: transparent;\n",
              "      border-right-color: var(--fill-color);\n",
              "      border-bottom-color: var(--fill-color);\n",
              "    }\n",
              "    90% {\n",
              "      border-color: transparent;\n",
              "      border-bottom-color: var(--fill-color);\n",
              "    }\n",
              "  }\n",
              "</style>\n",
              "\n",
              "  <script>\n",
              "    async function quickchart(key) {\n",
              "      const quickchartButtonEl =\n",
              "        document.querySelector('#' + key + ' button');\n",
              "      quickchartButtonEl.disabled = true;  // To prevent multiple clicks.\n",
              "      quickchartButtonEl.classList.add('colab-df-spinner');\n",
              "      try {\n",
              "        const charts = await google.colab.kernel.invokeFunction(\n",
              "            'suggestCharts', [key], {});\n",
              "      } catch (error) {\n",
              "        console.error('Error during call to suggestCharts:', error);\n",
              "      }\n",
              "      quickchartButtonEl.classList.remove('colab-df-spinner');\n",
              "      quickchartButtonEl.classList.add('colab-df-quickchart-complete');\n",
              "    }\n",
              "    (() => {\n",
              "      let quickchartButtonEl =\n",
              "        document.querySelector('#df-9b041ebd-8087-468f-8607-46c292898c5c button');\n",
              "      quickchartButtonEl.style.display =\n",
              "        google.colab.kernel.accessAllowed ? 'block' : 'none';\n",
              "    })();\n",
              "  </script>\n",
              "</div>\n",
              "    </div>\n",
              "  </div>\n"
            ]
          },
          "metadata": {},
          "execution_count": 2
        }
      ]
    },
    {
      "cell_type": "markdown",
      "source": [
        "On isole nos entrées et sorties, et on transforme ces dernières en un vecteur binaire avec \"benign\" = 0 et \"malignant\" = 1."
      ],
      "metadata": {
        "id": "tcW6CKnno3k3"
      }
    },
    {
      "cell_type": "code",
      "source": [
        "inputs = data.drop([\"Id\", \"Class\"], axis=1)\n",
        "outputs = (data[\"Class\"].to_numpy() == \"malignant\")*1\n",
        "outputs"
      ],
      "metadata": {
        "id": "_lwRDh1GnaPY",
        "colab": {
          "base_uri": "https://localhost:8080/"
        },
        "outputId": "808f1ccc-ffa5-4286-8335-0e95d4919985"
      },
      "execution_count": 3,
      "outputs": [
        {
          "output_type": "execute_result",
          "data": {
            "text/plain": [
              "array([0, 0, 0, 0, 0, 1, 0, 0, 0, 0, 0, 0, 1, 0, 1, 1, 0, 0, 1, 0, 1, 1,\n",
              "       0, 0, 1, 0, 0, 0, 0, 0, 0, 1, 0, 0, 0, 1, 0, 1, 1, 1, 1, 1, 1, 0,\n",
              "       1, 0, 0, 1, 1, 1, 1, 1, 1, 1, 1, 1, 1, 1, 1, 0, 1, 1, 0, 1, 0, 1,\n",
              "       1, 0, 0, 1, 0, 1, 1, 0, 0, 0, 0, 0, 0, 0, 0, 0, 1, 1, 1, 1, 0, 0,\n",
              "       0, 0, 0, 0, 0, 0, 0, 0, 1, 1, 1, 1, 0, 1, 1, 1, 1, 1, 0, 1, 0, 1,\n",
              "       1, 1, 0, 0, 0, 1, 0, 0, 0, 0, 1, 1, 1, 0, 1, 0, 1, 0, 0, 0, 1, 0,\n",
              "       0, 0, 0, 0, 0, 0, 0, 1, 0, 0, 1, 0, 0, 1, 0, 1, 1, 0, 0, 1, 0, 0,\n",
              "       1, 1, 0, 0, 0, 0, 1, 1, 0, 0, 0, 0, 0, 1, 1, 1, 0, 1, 0, 1, 0, 0,\n",
              "       0, 1, 1, 0, 1, 1, 1, 0, 1, 1, 0, 0, 0, 0, 0, 0, 0, 0, 1, 1, 0, 0,\n",
              "       0, 1, 1, 0, 0, 0, 1, 1, 0, 1, 1, 1, 0, 0, 1, 0, 0, 1, 1, 1, 1, 0,\n",
              "       1, 1, 0, 1, 1, 1, 0, 1, 0, 1, 1, 1, 1, 0, 0, 0, 0, 0, 0, 1, 1, 0,\n",
              "       0, 1, 0, 1, 1, 1, 0, 0, 0, 0, 1, 1, 1, 1, 1, 0, 1, 1, 1, 0, 1, 0,\n",
              "       1, 1, 0, 0, 0, 0, 1, 0, 0, 1, 1, 1, 1, 1, 0, 1, 1, 0, 0, 1, 1, 0,\n",
              "       0, 1, 1, 0, 1, 0, 1, 1, 0, 0, 1, 0, 0, 0, 1, 0, 0, 1, 1, 0, 0, 1,\n",
              "       0, 1, 0, 0, 1, 0, 1, 1, 1, 0, 0, 1, 1, 0, 1, 0, 0, 1, 1, 0, 0, 0,\n",
              "       1, 0, 0, 0, 1, 1, 0, 0, 0, 1, 0, 0, 1, 1, 1, 1, 1, 1, 0, 0, 0, 0,\n",
              "       1, 1, 0, 0, 0, 0, 0, 0, 0, 0, 0, 0, 0, 0, 0, 1, 0, 0, 0, 0, 1, 0,\n",
              "       0, 0, 0, 1, 0, 0, 0, 0, 0, 0, 0, 0, 1, 0, 0, 0, 0, 0, 0, 0, 0, 0,\n",
              "       0, 1, 0, 1, 0, 1, 0, 0, 0, 0, 1, 0, 0, 0, 1, 0, 1, 0, 0, 0, 0, 0,\n",
              "       0, 0, 1, 1, 0, 0, 0, 1, 0, 0, 0, 0, 0, 0, 0, 0, 1, 0, 0, 0, 1, 0,\n",
              "       1, 1, 1, 0, 0, 0, 0, 0, 0, 0, 1, 1, 1, 0, 0, 0, 0, 0, 0, 0, 0, 0,\n",
              "       0, 0, 1, 0, 0, 1, 1, 0, 0, 0, 1, 1, 1, 0, 1, 0, 1, 0, 0, 0, 0, 0,\n",
              "       0, 0, 0, 0, 0, 0, 0, 1, 0, 0, 0, 0, 0, 0, 0, 1, 1, 0, 0, 0, 1, 0,\n",
              "       0, 1, 1, 0, 0, 0, 0, 0, 0, 1, 0, 0, 0, 0, 0, 0, 0, 0, 0, 0, 0, 0,\n",
              "       0, 0, 0, 1, 0, 0, 1, 0, 0, 0, 0, 0, 0, 0, 0, 0, 0, 0, 0, 0, 0, 0,\n",
              "       1, 0, 0, 1, 1, 1, 1, 0, 0, 1, 0, 0, 0, 0, 0, 0, 1, 1, 0, 0, 0, 1,\n",
              "       0, 1, 0, 1, 1, 1, 0, 1, 0, 0, 0, 0, 0, 0, 0, 0, 1, 1, 1, 0, 0, 1,\n",
              "       0, 1, 1, 1, 0, 0, 0, 0, 0, 0, 0, 0, 0, 0, 0, 0, 1, 0, 0, 0, 0, 0,\n",
              "       0, 1, 0, 0, 1, 0, 0, 0, 0, 0, 0, 0, 0, 0, 0, 0, 1, 0, 0, 0, 0, 0,\n",
              "       0, 0, 0, 0, 1, 0, 0, 0, 0, 0, 0, 0, 0, 0, 1, 1, 1, 0, 0, 0, 0, 0,\n",
              "       0, 0, 0, 0, 1, 1, 0, 0, 0, 0, 0, 0, 0, 0, 0, 1, 0, 0, 0, 0, 1, 1,\n",
              "       1])"
            ]
          },
          "metadata": {},
          "execution_count": 3
        }
      ]
    },
    {
      "cell_type": "markdown",
      "source": [
        "On va maintenant séparer notre jeu de données en jeu d'entrainement/validation et test, avec l'option `stratify=outputs`, c'est-à-dire qu'on prend garde à ce que les classes contenues dans le vecteur `outputs` soient réparties de manière similaire dans les deux jeux de données."
      ],
      "metadata": {
        "id": "KStKIDgHpDLb"
      }
    },
    {
      "cell_type": "code",
      "source": [
        "inputs_train_val, inputs_test, outputs_train_val, outputs_test \\\n",
        "  = train_test_split(inputs, outputs, test_size=0.2, stratify=outputs)\n",
        "# On observe les proportions\n",
        "print(f\"Proportion de malignant dans train_val : \"\n",
        "      f\"{np.sum(outputs_train_val) / len(outputs_train_val):.2%}\")\n",
        "print(f\"Proportion de malignant dans test : \"\n",
        "      f\"{np.sum(outputs_test) / len(outputs_test):.2%}\")"
      ],
      "metadata": {
        "id": "dUA0yZiRswQT",
        "colab": {
          "base_uri": "https://localhost:8080/"
        },
        "outputId": "46f498bd-60cc-47a5-b147-7ccc86c79d09"
      },
      "execution_count": 4,
      "outputs": [
        {
          "output_type": "stream",
          "name": "stdout",
          "text": [
            "Proportion de malignant dans train_val : 34.98%\n",
            "Proportion de malignant dans test : 35.04%\n"
          ]
        }
      ]
    },
    {
      "cell_type": "markdown",
      "source": [
        "On va maintenant entrainer un modèle linéaire sur le jeu d'entrainement/validation"
      ],
      "metadata": {
        "id": "FHkKmVS-pk4w"
      }
    },
    {
      "cell_type": "code",
      "source": [
        "linear_reg = LinearRegression()\n",
        "linear_reg.fit(inputs_train_val, outputs_train_val)"
      ],
      "metadata": {
        "colab": {
          "base_uri": "https://localhost:8080/",
          "height": 75
        },
        "id": "RpxyUaCMtM9N",
        "outputId": "25ba0d10-3909-4b89-d48f-cc482e3dcd39"
      },
      "execution_count": 5,
      "outputs": [
        {
          "output_type": "execute_result",
          "data": {
            "text/plain": [
              "LinearRegression()"
            ],
            "text/html": [
              "<style>#sk-container-id-1 {color: black;background-color: white;}#sk-container-id-1 pre{padding: 0;}#sk-container-id-1 div.sk-toggleable {background-color: white;}#sk-container-id-1 label.sk-toggleable__label {cursor: pointer;display: block;width: 100%;margin-bottom: 0;padding: 0.3em;box-sizing: border-box;text-align: center;}#sk-container-id-1 label.sk-toggleable__label-arrow:before {content: \"▸\";float: left;margin-right: 0.25em;color: #696969;}#sk-container-id-1 label.sk-toggleable__label-arrow:hover:before {color: black;}#sk-container-id-1 div.sk-estimator:hover label.sk-toggleable__label-arrow:before {color: black;}#sk-container-id-1 div.sk-toggleable__content {max-height: 0;max-width: 0;overflow: hidden;text-align: left;background-color: #f0f8ff;}#sk-container-id-1 div.sk-toggleable__content pre {margin: 0.2em;color: black;border-radius: 0.25em;background-color: #f0f8ff;}#sk-container-id-1 input.sk-toggleable__control:checked~div.sk-toggleable__content {max-height: 200px;max-width: 100%;overflow: auto;}#sk-container-id-1 input.sk-toggleable__control:checked~label.sk-toggleable__label-arrow:before {content: \"▾\";}#sk-container-id-1 div.sk-estimator input.sk-toggleable__control:checked~label.sk-toggleable__label {background-color: #d4ebff;}#sk-container-id-1 div.sk-label input.sk-toggleable__control:checked~label.sk-toggleable__label {background-color: #d4ebff;}#sk-container-id-1 input.sk-hidden--visually {border: 0;clip: rect(1px 1px 1px 1px);clip: rect(1px, 1px, 1px, 1px);height: 1px;margin: -1px;overflow: hidden;padding: 0;position: absolute;width: 1px;}#sk-container-id-1 div.sk-estimator {font-family: monospace;background-color: #f0f8ff;border: 1px dotted black;border-radius: 0.25em;box-sizing: border-box;margin-bottom: 0.5em;}#sk-container-id-1 div.sk-estimator:hover {background-color: #d4ebff;}#sk-container-id-1 div.sk-parallel-item::after {content: \"\";width: 100%;border-bottom: 1px solid gray;flex-grow: 1;}#sk-container-id-1 div.sk-label:hover label.sk-toggleable__label {background-color: #d4ebff;}#sk-container-id-1 div.sk-serial::before {content: \"\";position: absolute;border-left: 1px solid gray;box-sizing: border-box;top: 0;bottom: 0;left: 50%;z-index: 0;}#sk-container-id-1 div.sk-serial {display: flex;flex-direction: column;align-items: center;background-color: white;padding-right: 0.2em;padding-left: 0.2em;position: relative;}#sk-container-id-1 div.sk-item {position: relative;z-index: 1;}#sk-container-id-1 div.sk-parallel {display: flex;align-items: stretch;justify-content: center;background-color: white;position: relative;}#sk-container-id-1 div.sk-item::before, #sk-container-id-1 div.sk-parallel-item::before {content: \"\";position: absolute;border-left: 1px solid gray;box-sizing: border-box;top: 0;bottom: 0;left: 50%;z-index: -1;}#sk-container-id-1 div.sk-parallel-item {display: flex;flex-direction: column;z-index: 1;position: relative;background-color: white;}#sk-container-id-1 div.sk-parallel-item:first-child::after {align-self: flex-end;width: 50%;}#sk-container-id-1 div.sk-parallel-item:last-child::after {align-self: flex-start;width: 50%;}#sk-container-id-1 div.sk-parallel-item:only-child::after {width: 0;}#sk-container-id-1 div.sk-dashed-wrapped {border: 1px dashed gray;margin: 0 0.4em 0.5em 0.4em;box-sizing: border-box;padding-bottom: 0.4em;background-color: white;}#sk-container-id-1 div.sk-label label {font-family: monospace;font-weight: bold;display: inline-block;line-height: 1.2em;}#sk-container-id-1 div.sk-label-container {text-align: center;}#sk-container-id-1 div.sk-container {/* jupyter's `normalize.less` sets `[hidden] { display: none; }` but bootstrap.min.css set `[hidden] { display: none !important; }` so we also need the `!important` here to be able to override the default hidden behavior on the sphinx rendered scikit-learn.org. See: https://github.com/scikit-learn/scikit-learn/issues/21755 */display: inline-block !important;position: relative;}#sk-container-id-1 div.sk-text-repr-fallback {display: none;}</style><div id=\"sk-container-id-1\" class=\"sk-top-container\"><div class=\"sk-text-repr-fallback\"><pre>LinearRegression()</pre><b>In a Jupyter environment, please rerun this cell to show the HTML representation or trust the notebook. <br />On GitHub, the HTML representation is unable to render, please try loading this page with nbviewer.org.</b></div><div class=\"sk-container\" hidden><div class=\"sk-item\"><div class=\"sk-estimator sk-toggleable\"><input class=\"sk-toggleable__control sk-hidden--visually\" id=\"sk-estimator-id-1\" type=\"checkbox\" checked><label for=\"sk-estimator-id-1\" class=\"sk-toggleable__label sk-toggleable__label-arrow\">LinearRegression</label><div class=\"sk-toggleable__content\"><pre>LinearRegression()</pre></div></div></div></div></div>"
            ]
          },
          "metadata": {},
          "execution_count": 5
        }
      ]
    },
    {
      "cell_type": "markdown",
      "source": [
        "Les prédictions $\\widehat{y}_i = 1$ s'obtiennent ssi $\\widehat{z}_i > 5$. On calcul ensuite l'exactitude, la précision et le rappel, pour les jeux d'entrainement et de test"
      ],
      "metadata": {
        "id": "s6XLC8x_pope"
      }
    },
    {
      "cell_type": "code",
      "source": [
        "# Les prédictions\n",
        "outputs_lin_train = (linear_reg.predict(inputs_train_val) > 0.5)*1\n",
        "outputs_lin_test = (linear_reg.predict(inputs_test) > 0.5)*1\n",
        "# Les scores\n",
        "accuracy_lin_train = np.mean(outputs_train_val == outputs_lin_train)\n",
        "accuracy_lin_test = np.mean(outputs_test == outputs_lin_test)\n",
        "precision_lin_train = precision_score(outputs_train_val, outputs_lin_train)\n",
        "precision_lin_test = precision_score(outputs_test, outputs_lin_test)\n",
        "recall_lin_train = recall_score(outputs_train_val, outputs_lin_train)\n",
        "recall_lin_test = recall_score(outputs_test, outputs_lin_test)"
      ],
      "metadata": {
        "id": "fjCe_518ulep"
      },
      "execution_count": 6,
      "outputs": []
    },
    {
      "cell_type": "markdown",
      "source": [
        "La régression logistique sera régularisée avec un hyperparamètre $\\lambda \\in [0.001, 0.5]$. On effectue donc une `GridSearchCV`, mais en observant nos trois mesures (`refit`, qui permet d'entrainer automatiquement le meilleur modèle, doit être mis selon une de ces mesures ou sur `False`)"
      ],
      "metadata": {
        "id": "VzKk5djmqI13"
      }
    },
    {
      "cell_type": "code",
      "source": [
        "# Paramètres pour la CV\n",
        "params = np.linspace(0.001, 0.5, 50)\n",
        "param_dict = {\"C\": params}\n",
        "k = 5\n",
        "# Recherche sur grille avec CV\n",
        "logistic_reg = LogisticRegression()\n",
        "gride_search = GridSearchCV(logistic_reg,\n",
        "                            param_dict,\n",
        "                            cv=k,\n",
        "                            scoring=[\"accuracy\", \"precision\", \"recall\"],\n",
        "                            refit=\"recall\")\n",
        "gride_search.fit(inputs_train_val, outputs_train_val)"
      ],
      "metadata": {
        "colab": {
          "base_uri": "https://localhost:8080/",
          "height": 118
        },
        "id": "8zq5T6KOp2cq",
        "outputId": "e06843fa-5cfc-423e-ef83-3e83e473d162"
      },
      "execution_count": 7,
      "outputs": [
        {
          "output_type": "execute_result",
          "data": {
            "text/plain": [
              "GridSearchCV(cv=5, estimator=LogisticRegression(),\n",
              "             param_grid={'C': array([0.001     , 0.01118367, 0.02136735, 0.03155102, 0.04173469,\n",
              "       0.05191837, 0.06210204, 0.07228571, 0.08246939, 0.09265306,\n",
              "       0.10283673, 0.11302041, 0.12320408, 0.13338776, 0.14357143,\n",
              "       0.1537551 , 0.16393878, 0.17412245, 0.18430612, 0.1944898 ,\n",
              "       0.20467347, 0.21485714, 0.22504082, 0.23522449, 0.24540816,\n",
              "       0.25559184, 0.26577551, 0.27595918, 0.28614286, 0.29632653,\n",
              "       0.3065102 , 0.31669388, 0.32687755, 0.33706122, 0.3472449 ,\n",
              "       0.35742857, 0.36761224, 0.37779592, 0.38797959, 0.39816327,\n",
              "       0.40834694, 0.41853061, 0.42871429, 0.43889796, 0.44908163,\n",
              "       0.45926531, 0.46944898, 0.47963265, 0.48981633, 0.5       ])},\n",
              "             refit='recall', scoring=['accuracy', 'precision', 'recall'])"
            ],
            "text/html": [
              "<style>#sk-container-id-2 {color: black;background-color: white;}#sk-container-id-2 pre{padding: 0;}#sk-container-id-2 div.sk-toggleable {background-color: white;}#sk-container-id-2 label.sk-toggleable__label {cursor: pointer;display: block;width: 100%;margin-bottom: 0;padding: 0.3em;box-sizing: border-box;text-align: center;}#sk-container-id-2 label.sk-toggleable__label-arrow:before {content: \"▸\";float: left;margin-right: 0.25em;color: #696969;}#sk-container-id-2 label.sk-toggleable__label-arrow:hover:before {color: black;}#sk-container-id-2 div.sk-estimator:hover label.sk-toggleable__label-arrow:before {color: black;}#sk-container-id-2 div.sk-toggleable__content {max-height: 0;max-width: 0;overflow: hidden;text-align: left;background-color: #f0f8ff;}#sk-container-id-2 div.sk-toggleable__content pre {margin: 0.2em;color: black;border-radius: 0.25em;background-color: #f0f8ff;}#sk-container-id-2 input.sk-toggleable__control:checked~div.sk-toggleable__content {max-height: 200px;max-width: 100%;overflow: auto;}#sk-container-id-2 input.sk-toggleable__control:checked~label.sk-toggleable__label-arrow:before {content: \"▾\";}#sk-container-id-2 div.sk-estimator input.sk-toggleable__control:checked~label.sk-toggleable__label {background-color: #d4ebff;}#sk-container-id-2 div.sk-label input.sk-toggleable__control:checked~label.sk-toggleable__label {background-color: #d4ebff;}#sk-container-id-2 input.sk-hidden--visually {border: 0;clip: rect(1px 1px 1px 1px);clip: rect(1px, 1px, 1px, 1px);height: 1px;margin: -1px;overflow: hidden;padding: 0;position: absolute;width: 1px;}#sk-container-id-2 div.sk-estimator {font-family: monospace;background-color: #f0f8ff;border: 1px dotted black;border-radius: 0.25em;box-sizing: border-box;margin-bottom: 0.5em;}#sk-container-id-2 div.sk-estimator:hover {background-color: #d4ebff;}#sk-container-id-2 div.sk-parallel-item::after {content: \"\";width: 100%;border-bottom: 1px solid gray;flex-grow: 1;}#sk-container-id-2 div.sk-label:hover label.sk-toggleable__label {background-color: #d4ebff;}#sk-container-id-2 div.sk-serial::before {content: \"\";position: absolute;border-left: 1px solid gray;box-sizing: border-box;top: 0;bottom: 0;left: 50%;z-index: 0;}#sk-container-id-2 div.sk-serial {display: flex;flex-direction: column;align-items: center;background-color: white;padding-right: 0.2em;padding-left: 0.2em;position: relative;}#sk-container-id-2 div.sk-item {position: relative;z-index: 1;}#sk-container-id-2 div.sk-parallel {display: flex;align-items: stretch;justify-content: center;background-color: white;position: relative;}#sk-container-id-2 div.sk-item::before, #sk-container-id-2 div.sk-parallel-item::before {content: \"\";position: absolute;border-left: 1px solid gray;box-sizing: border-box;top: 0;bottom: 0;left: 50%;z-index: -1;}#sk-container-id-2 div.sk-parallel-item {display: flex;flex-direction: column;z-index: 1;position: relative;background-color: white;}#sk-container-id-2 div.sk-parallel-item:first-child::after {align-self: flex-end;width: 50%;}#sk-container-id-2 div.sk-parallel-item:last-child::after {align-self: flex-start;width: 50%;}#sk-container-id-2 div.sk-parallel-item:only-child::after {width: 0;}#sk-container-id-2 div.sk-dashed-wrapped {border: 1px dashed gray;margin: 0 0.4em 0.5em 0.4em;box-sizing: border-box;padding-bottom: 0.4em;background-color: white;}#sk-container-id-2 div.sk-label label {font-family: monospace;font-weight: bold;display: inline-block;line-height: 1.2em;}#sk-container-id-2 div.sk-label-container {text-align: center;}#sk-container-id-2 div.sk-container {/* jupyter's `normalize.less` sets `[hidden] { display: none; }` but bootstrap.min.css set `[hidden] { display: none !important; }` so we also need the `!important` here to be able to override the default hidden behavior on the sphinx rendered scikit-learn.org. See: https://github.com/scikit-learn/scikit-learn/issues/21755 */display: inline-block !important;position: relative;}#sk-container-id-2 div.sk-text-repr-fallback {display: none;}</style><div id=\"sk-container-id-2\" class=\"sk-top-container\"><div class=\"sk-text-repr-fallback\"><pre>GridSearchCV(cv=5, estimator=LogisticRegression(),\n",
              "             param_grid={&#x27;C&#x27;: array([0.001     , 0.01118367, 0.02136735, 0.03155102, 0.04173469,\n",
              "       0.05191837, 0.06210204, 0.07228571, 0.08246939, 0.09265306,\n",
              "       0.10283673, 0.11302041, 0.12320408, 0.13338776, 0.14357143,\n",
              "       0.1537551 , 0.16393878, 0.17412245, 0.18430612, 0.1944898 ,\n",
              "       0.20467347, 0.21485714, 0.22504082, 0.23522449, 0.24540816,\n",
              "       0.25559184, 0.26577551, 0.27595918, 0.28614286, 0.29632653,\n",
              "       0.3065102 , 0.31669388, 0.32687755, 0.33706122, 0.3472449 ,\n",
              "       0.35742857, 0.36761224, 0.37779592, 0.38797959, 0.39816327,\n",
              "       0.40834694, 0.41853061, 0.42871429, 0.43889796, 0.44908163,\n",
              "       0.45926531, 0.46944898, 0.47963265, 0.48981633, 0.5       ])},\n",
              "             refit=&#x27;recall&#x27;, scoring=[&#x27;accuracy&#x27;, &#x27;precision&#x27;, &#x27;recall&#x27;])</pre><b>In a Jupyter environment, please rerun this cell to show the HTML representation or trust the notebook. <br />On GitHub, the HTML representation is unable to render, please try loading this page with nbviewer.org.</b></div><div class=\"sk-container\" hidden><div class=\"sk-item sk-dashed-wrapped\"><div class=\"sk-label-container\"><div class=\"sk-label sk-toggleable\"><input class=\"sk-toggleable__control sk-hidden--visually\" id=\"sk-estimator-id-2\" type=\"checkbox\" ><label for=\"sk-estimator-id-2\" class=\"sk-toggleable__label sk-toggleable__label-arrow\">GridSearchCV</label><div class=\"sk-toggleable__content\"><pre>GridSearchCV(cv=5, estimator=LogisticRegression(),\n",
              "             param_grid={&#x27;C&#x27;: array([0.001     , 0.01118367, 0.02136735, 0.03155102, 0.04173469,\n",
              "       0.05191837, 0.06210204, 0.07228571, 0.08246939, 0.09265306,\n",
              "       0.10283673, 0.11302041, 0.12320408, 0.13338776, 0.14357143,\n",
              "       0.1537551 , 0.16393878, 0.17412245, 0.18430612, 0.1944898 ,\n",
              "       0.20467347, 0.21485714, 0.22504082, 0.23522449, 0.24540816,\n",
              "       0.25559184, 0.26577551, 0.27595918, 0.28614286, 0.29632653,\n",
              "       0.3065102 , 0.31669388, 0.32687755, 0.33706122, 0.3472449 ,\n",
              "       0.35742857, 0.36761224, 0.37779592, 0.38797959, 0.39816327,\n",
              "       0.40834694, 0.41853061, 0.42871429, 0.43889796, 0.44908163,\n",
              "       0.45926531, 0.46944898, 0.47963265, 0.48981633, 0.5       ])},\n",
              "             refit=&#x27;recall&#x27;, scoring=[&#x27;accuracy&#x27;, &#x27;precision&#x27;, &#x27;recall&#x27;])</pre></div></div></div><div class=\"sk-parallel\"><div class=\"sk-parallel-item\"><div class=\"sk-item\"><div class=\"sk-label-container\"><div class=\"sk-label sk-toggleable\"><input class=\"sk-toggleable__control sk-hidden--visually\" id=\"sk-estimator-id-3\" type=\"checkbox\" ><label for=\"sk-estimator-id-3\" class=\"sk-toggleable__label sk-toggleable__label-arrow\">estimator: LogisticRegression</label><div class=\"sk-toggleable__content\"><pre>LogisticRegression()</pre></div></div></div><div class=\"sk-serial\"><div class=\"sk-item\"><div class=\"sk-estimator sk-toggleable\"><input class=\"sk-toggleable__control sk-hidden--visually\" id=\"sk-estimator-id-4\" type=\"checkbox\" ><label for=\"sk-estimator-id-4\" class=\"sk-toggleable__label sk-toggleable__label-arrow\">LogisticRegression</label><div class=\"sk-toggleable__content\"><pre>LogisticRegression()</pre></div></div></div></div></div></div></div></div></div></div>"
            ]
          },
          "metadata": {},
          "execution_count": 7
        }
      ]
    },
    {
      "cell_type": "markdown",
      "source": [
        "On va faire le graphique de ces scores en fonction de $\\lambda$"
      ],
      "metadata": {
        "id": "PJPpngoIqzuQ"
      }
    },
    {
      "cell_type": "code",
      "source": [
        "# Plot des scores\n",
        "accuracy_scores = gride_search.cv_results_[\"mean_test_accuracy\"]\n",
        "precision_scores = gride_search.cv_results_[\"mean_test_precision\"]\n",
        "recall_scores = gride_search.cv_results_[\"mean_test_recall\"]\n",
        "# Plot des scores\n",
        "fig, ax = plt.subplots()\n",
        "ax.plot(params, accuracy_scores, c=\"red\", label=\"Accuracy\")\n",
        "ax.plot(params, precision_scores, c=\"blue\", label=\"Precision\")\n",
        "ax.plot(params, recall_scores, c=\"green\", label=\"Recall\")\n",
        "ax.set_xlabel(\"$C$\")\n",
        "ax.set_ylabel(\"$Score$\")\n",
        "ax.legend()\n",
        "plt.plot()"
      ],
      "metadata": {
        "colab": {
          "base_uri": "https://localhost:8080/",
          "height": 867
        },
        "id": "trBmabzG6405",
        "outputId": "dc7bd7e9-68a6-4bd2-970e-c1366866cec7"
      },
      "execution_count": 8,
      "outputs": [
        {
          "output_type": "execute_result",
          "data": {
            "text/plain": [
              "[]"
            ]
          },
          "metadata": {},
          "execution_count": 8
        },
        {
          "output_type": "display_data",
          "data": {
            "text/plain": [
              "<Figure size 2000x1000 with 1 Axes>"
            ],
            "image/png": "[encoded data removed]"
          },
          "metadata": {}
        }
      ]
    },
    {
      "cell_type": "markdown",
      "source": [
        "Sélectionnons le meilleur hyparamètre selon le rappel, puis entrainons ce modèle sur tout notre jeu d'entrainement/validation"
      ],
      "metadata": {
        "id": "QhOet8tFq47J"
      }
    },
    {
      "cell_type": "code",
      "source": [
        "# Les meilleurs modèles selon le recall\n",
        "index_best_recall = np.where(recall_scores == max(recall_scores))[0][0]\n",
        "best_recall_par = params[index_best_recall]\n",
        "best_recall_log_reg = LogisticRegression(C=best_recall_par)\n",
        "best_recall_log_reg.fit(inputs_train_val, outputs_train_val)"
      ],
      "metadata": {
        "colab": {
          "base_uri": "https://localhost:8080/",
          "height": 75
        },
        "id": "KF-o9DIgqI9h",
        "outputId": "f47df7bc-dfcc-4f16-df88-67141012c530"
      },
      "execution_count": 9,
      "outputs": [
        {
          "output_type": "execute_result",
          "data": {
            "text/plain": [
              "LogisticRegression(C=0.02136734693877551)"
            ],
            "text/html": [
              "<style>#sk-container-id-3 {color: black;background-color: white;}#sk-container-id-3 pre{padding: 0;}#sk-container-id-3 div.sk-toggleable {background-color: white;}#sk-container-id-3 label.sk-toggleable__label {cursor: pointer;display: block;width: 100%;margin-bottom: 0;padding: 0.3em;box-sizing: border-box;text-align: center;}#sk-container-id-3 label.sk-toggleable__label-arrow:before {content: \"▸\";float: left;margin-right: 0.25em;color: #696969;}#sk-container-id-3 label.sk-toggleable__label-arrow:hover:before {color: black;}#sk-container-id-3 div.sk-estimator:hover label.sk-toggleable__label-arrow:before {color: black;}#sk-container-id-3 div.sk-toggleable__content {max-height: 0;max-width: 0;overflow: hidden;text-align: left;background-color: #f0f8ff;}#sk-container-id-3 div.sk-toggleable__content pre {margin: 0.2em;color: black;border-radius: 0.25em;background-color: #f0f8ff;}#sk-container-id-3 input.sk-toggleable__control:checked~div.sk-toggleable__content {max-height: 200px;max-width: 100%;overflow: auto;}#sk-container-id-3 input.sk-toggleable__control:checked~label.sk-toggleable__label-arrow:before {content: \"▾\";}#sk-container-id-3 div.sk-estimator input.sk-toggleable__control:checked~label.sk-toggleable__label {background-color: #d4ebff;}#sk-container-id-3 div.sk-label input.sk-toggleable__control:checked~label.sk-toggleable__label {background-color: #d4ebff;}#sk-container-id-3 input.sk-hidden--visually {border: 0;clip: rect(1px 1px 1px 1px);clip: rect(1px, 1px, 1px, 1px);height: 1px;margin: -1px;overflow: hidden;padding: 0;position: absolute;width: 1px;}#sk-container-id-3 div.sk-estimator {font-family: monospace;background-color: #f0f8ff;border: 1px dotted black;border-radius: 0.25em;box-sizing: border-box;margin-bottom: 0.5em;}#sk-container-id-3 div.sk-estimator:hover {background-color: #d4ebff;}#sk-container-id-3 div.sk-parallel-item::after {content: \"\";width: 100%;border-bottom: 1px solid gray;flex-grow: 1;}#sk-container-id-3 div.sk-label:hover label.sk-toggleable__label {background-color: #d4ebff;}#sk-container-id-3 div.sk-serial::before {content: \"\";position: absolute;border-left: 1px solid gray;box-sizing: border-box;top: 0;bottom: 0;left: 50%;z-index: 0;}#sk-container-id-3 div.sk-serial {display: flex;flex-direction: column;align-items: center;background-color: white;padding-right: 0.2em;padding-left: 0.2em;position: relative;}#sk-container-id-3 div.sk-item {position: relative;z-index: 1;}#sk-container-id-3 div.sk-parallel {display: flex;align-items: stretch;justify-content: center;background-color: white;position: relative;}#sk-container-id-3 div.sk-item::before, #sk-container-id-3 div.sk-parallel-item::before {content: \"\";position: absolute;border-left: 1px solid gray;box-sizing: border-box;top: 0;bottom: 0;left: 50%;z-index: -1;}#sk-container-id-3 div.sk-parallel-item {display: flex;flex-direction: column;z-index: 1;position: relative;background-color: white;}#sk-container-id-3 div.sk-parallel-item:first-child::after {align-self: flex-end;width: 50%;}#sk-container-id-3 div.sk-parallel-item:last-child::after {align-self: flex-start;width: 50%;}#sk-container-id-3 div.sk-parallel-item:only-child::after {width: 0;}#sk-container-id-3 div.sk-dashed-wrapped {border: 1px dashed gray;margin: 0 0.4em 0.5em 0.4em;box-sizing: border-box;padding-bottom: 0.4em;background-color: white;}#sk-container-id-3 div.sk-label label {font-family: monospace;font-weight: bold;display: inline-block;line-height: 1.2em;}#sk-container-id-3 div.sk-label-container {text-align: center;}#sk-container-id-3 div.sk-container {/* jupyter's `normalize.less` sets `[hidden] { display: none; }` but bootstrap.min.css set `[hidden] { display: none !important; }` so we also need the `!important` here to be able to override the default hidden behavior on the sphinx rendered scikit-learn.org. See: https://github.com/scikit-learn/scikit-learn/issues/21755 */display: inline-block !important;position: relative;}#sk-container-id-3 div.sk-text-repr-fallback {display: none;}</style><div id=\"sk-container-id-3\" class=\"sk-top-container\"><div class=\"sk-text-repr-fallback\"><pre>LogisticRegression(C=0.02136734693877551)</pre><b>In a Jupyter environment, please rerun this cell to show the HTML representation or trust the notebook. <br />On GitHub, the HTML representation is unable to render, please try loading this page with nbviewer.org.</b></div><div class=\"sk-container\" hidden><div class=\"sk-item\"><div class=\"sk-estimator sk-toggleable\"><input class=\"sk-toggleable__control sk-hidden--visually\" id=\"sk-estimator-id-5\" type=\"checkbox\" checked><label for=\"sk-estimator-id-5\" class=\"sk-toggleable__label sk-toggleable__label-arrow\">LogisticRegression</label><div class=\"sk-toggleable__content\"><pre>LogisticRegression(C=0.02136734693877551)</pre></div></div></div></div></div>"
            ]
          },
          "metadata": {},
          "execution_count": 9
        }
      ]
    },
    {
      "cell_type": "markdown",
      "source": [
        "On calcule maintenant les différentes mesures selon ce modèle, sur le jeu d'entrainement/validation et test"
      ],
      "metadata": {
        "id": "AQX4r9r2rIMn"
      }
    },
    {
      "cell_type": "code",
      "source": [
        "# Les prédictions\n",
        "outputs_log_train = best_recall_log_reg.predict(inputs_train_val)\n",
        "outputs_log_test = best_recall_log_reg.predict(inputs_test)\n",
        "# Les scores\n",
        "accuracy_log_train = accuracy_score(outputs_train_val, outputs_log_train)\n",
        "accuracy_log_test = accuracy_score(outputs_test, outputs_log_test)\n",
        "precision_log_train = precision_score(outputs_train_val, outputs_log_train)\n",
        "precision_log_test = precision_score(outputs_test, outputs_log_test)\n",
        "recall_log_train = recall_score(outputs_train_val, outputs_log_train)\n",
        "recall_log_test = recall_score(outputs_test, outputs_log_test)"
      ],
      "metadata": {
        "id": "6tkT4kWNuclW"
      },
      "execution_count": 10,
      "outputs": []
    },
    {
      "cell_type": "markdown",
      "source": [
        "Comparons les résultats entre notre modèle linéaire et le modèle logisitique retenu"
      ],
      "metadata": {
        "id": "kzcJqb17rPxM"
      }
    },
    {
      "cell_type": "code",
      "source": [
        "print(f\"L'exactitude pour le modèle linéaire est de \"\n",
        "f\"{accuracy_lin_train:.2%} (train) {accuracy_lin_test:.2%} (test)\")\n",
        "print(f\"La précision pour le modèle linéaire est de \"\n",
        "f\"{precision_lin_train:.2%} (train) {precision_lin_test:.2%} (test)\")\n",
        "print(f\"Le rappel pour le modèle linéaire est de \"\n",
        "f\"{recall_lin_train:.2%} (train) {recall_lin_test:.2%} (test)\")\n",
        "print(f\"L'exactitude pour le modèle logistique (C={best_recall_par:.4f}) est \"\n",
        "f\"de {accuracy_log_train:.2%} (train) {accuracy_log_test:.2%} (test)\")\n",
        "print(f\"La précision pour le modèle logistique (C={best_recall_par:.4f}) est \"\n",
        "f\"de {precision_log_train:.2%} (train) {precision_log_test:.2%} (test)\")\n",
        "print(f\"Le rappel pour le modèle logistique (C={best_recall_par:.4f}) est \"\n",
        "f\"de {recall_log_train:.2%} (train) {recall_log_test:.2%} (test)\")"
      ],
      "metadata": {
        "colab": {
          "base_uri": "https://localhost:8080/"
        },
        "id": "XcR07z9tzzts",
        "outputId": "69f86470-7ba3-42d9-9ff5-cb7e728dca17"
      },
      "execution_count": 11,
      "outputs": [
        {
          "output_type": "stream",
          "name": "stdout",
          "text": [
            "L'exactitude pour le modèle linéaire est de 96.15% (train) 95.62% (test)\n",
            "La précision pour le modèle linéaire est de 96.70% (train) 95.65% (test)\n",
            "Le rappel pour le modèle linéaire est de 92.15% (train) 91.67% (test)\n",
            "L'exactitude pour le modèle logistique (C=0.0214) est de 96.89% (train) 97.81% (test)\n",
            "La précision pour le modèle logistique (C=0.0214) est de 96.28% (train) 95.92% (test)\n",
            "Le rappel pour le modèle logistique (C=0.0214) est de 94.76% (train) 97.92% (test)\n"
          ]
        }
      ]
    },
    {
      "cell_type": "markdown",
      "source": [
        "---"
      ],
      "metadata": {
        "id": "HWv40bm61UXS"
      }
    },
    {
      "cell_type": "markdown",
      "source": [
        "## 2. Multiples classes\n",
        "\n",
        "La même procédure peut être effectuée sur un jeu de données contenant une variable avec de multiples classes, en l'occurence les Iris de Fisher, qui contient le type d'Iris dans \"variety\". On charge les données"
      ],
      "metadata": {
        "id": "Zkv5CgG62N8x"
      }
    },
    {
      "cell_type": "code",
      "source": [
        "file_path = \"drive/MyDrive/Colab Notebooks/ml_data/TP3/iris.csv\"\n",
        "data = pd.read_csv(file_path)\n",
        "inputs = data.drop([\"variety\"], axis=1)\n",
        "outputs = data[\"variety\"]"
      ],
      "metadata": {
        "id": "PPNhJXwa1cZq"
      },
      "execution_count": 12,
      "outputs": []
    },
    {
      "cell_type": "markdown",
      "source": [
        "On va maintenant utiliser une instance de `OneHotEncoder()` pour recoder notre variable catégorielle en vecteurs one-hot. Notons que l'argument `categories_` continent l'ordre dans lequel le recodage a été effectué"
      ],
      "metadata": {
        "id": "KGzX2H-grotf"
      }
    },
    {
      "cell_type": "code",
      "source": [
        "encoder_1hot = OneHotEncoder()\n",
        "outputs_1hot = encoder_1hot.fit_transform(\n",
        "    outputs.to_numpy().reshape(-1, 1)\n",
        "    ).toarray()\n",
        "print(outputs_1hot[:10,:])\n",
        "# Une array contenant les classes dans le bon ordre\n",
        "classes = encoder_1hot.categories_[0]\n",
        "print(classes)"
      ],
      "metadata": {
        "colab": {
          "base_uri": "https://localhost:8080/"
        },
        "id": "JnYHY_kPiw2g",
        "outputId": "a6055dd3-f2de-4c76-c4f8-f4e3e838e303"
      },
      "execution_count": 13,
      "outputs": [
        {
          "output_type": "stream",
          "name": "stdout",
          "text": [
            "[[1. 0. 0.]\n",
            " [1. 0. 0.]\n",
            " [1. 0. 0.]\n",
            " [1. 0. 0.]\n",
            " [1. 0. 0.]\n",
            " [1. 0. 0.]\n",
            " [1. 0. 0.]\n",
            " [1. 0. 0.]\n",
            " [1. 0. 0.]\n",
            " [1. 0. 0.]]\n",
            "['Setosa' 'Versicolor' 'Virginica']\n"
          ]
        }
      ]
    },
    {
      "cell_type": "markdown",
      "source": [
        "Séparons en jeu d'entrainement/validation et test, tout en stratifiant selon `outputs`"
      ],
      "metadata": {
        "id": "W0VtvJp5sE9Z"
      }
    },
    {
      "cell_type": "code",
      "source": [
        "inputs_train_val, inputs_test, outputs_train_val, outputs_test, \\\n",
        "outputs_1hot_train_val, outputs_1hot_test \\\n",
        "  = train_test_split(inputs, outputs, outputs_1hot, stratify=outputs)"
      ],
      "metadata": {
        "id": "yXKXldtijDO4"
      },
      "execution_count": 14,
      "outputs": []
    },
    {
      "cell_type": "markdown",
      "source": [
        "La fonction ci-dessous nous permettra d'entrainer autant de modèles linaires qu'il y a de classe dans notre matrice de vecteur one-hot. Chaque modèle va essayer de prédire un des vecteurs one-hot"
      ],
      "metadata": {
        "id": "sszwhMaxsOvR"
      }
    },
    {
      "cell_type": "code",
      "source": [
        "def train_lin_models(inputs, outputs_1hot):\n",
        "  # Pour contenir les modèles\n",
        "  lin_models = []\n",
        "  # Boucle sur le nombre de classes\n",
        "  for j in range(outputs_1hot.shape[1]):\n",
        "    # On fait la régression avec comme sortie la colonne j\n",
        "    lin_reg = LinearRegression()\n",
        "    lin_reg.fit(inputs, outputs_1hot[:, j])\n",
        "    lin_models.append(lin_reg)\n",
        "  # Retour du vecteur de modèles\n",
        "  return lin_models"
      ],
      "metadata": {
        "id": "2Js_vKGJrAos"
      },
      "execution_count": 15,
      "outputs": []
    },
    {
      "cell_type": "markdown",
      "source": [
        "On utilise cette fonction pour entrainer tous nos modèles linaires"
      ],
      "metadata": {
        "id": "WlFMPvDMseyT"
      }
    },
    {
      "cell_type": "code",
      "source": [
        "trained_lin_models = train_lin_models(inputs_train_val, outputs_1hot_train_val)"
      ],
      "metadata": {
        "id": "aghBNjhsknpD"
      },
      "execution_count": 16,
      "outputs": []
    },
    {
      "cell_type": "markdown",
      "source": [
        "La fonction ci-dessous nous permet de prédire les classes en fonction des entrées et des différents modèles. La classe retenue correspond au numéro de la régression linéaire qui donne la plus grande sortie"
      ],
      "metadata": {
        "id": "MFla9o1Usi0C"
      }
    },
    {
      "cell_type": "code",
      "source": [
        "def predict_class(lin_models, inputs):\n",
        "  # Nombre d'individus dans les entrées\n",
        "  n_indiv = inputs.shape[0]\n",
        "  # Nombre de modèles linéaires\n",
        "  n_model = len(trained_lin_models)\n",
        "  # Boucle pour remplir les prédictions linéaire dans\n",
        "  # une matrice de taille n_indiv x n_model\n",
        "  pred_mat = np.zeros((n_indiv, n_model))\n",
        "  for i in range(n_model):\n",
        "    pred = lin_models[i].predict(inputs)\n",
        "    pred_mat[:, i] = pred\n",
        "  # Transformation en vecteur de groupe\n",
        "  class_pred = np.argmax(pred_mat, axis=1)\n",
        "  # Retour du vecteur de class\n",
        "  return class_pred\n"
      ],
      "metadata": {
        "id": "SADpPgbasXB0"
      },
      "execution_count": 17,
      "outputs": []
    },
    {
      "cell_type": "markdown",
      "source": [
        "On fait les prédictions sur les jeux d'entrainement/validation et test"
      ],
      "metadata": {
        "id": "iFDQ7gHktoo2"
      }
    },
    {
      "cell_type": "code",
      "source": [
        "outputs_num_lin_train = predict_class(trained_lin_models, inputs_train_val)\n",
        "outputs_num_lin_test = predict_class(trained_lin_models, inputs_test)\n",
        "outputs_lin_train = classes[outputs_num_lin_train]\n",
        "outputs_lin_test = classes[outputs_num_lin_test]\n",
        "print(outputs_lin_test)"
      ],
      "metadata": {
        "id": "yo2xwGZep2zZ",
        "colab": {
          "base_uri": "https://localhost:8080/"
        },
        "outputId": "2668f996-1527-41b9-aec4-fa06b7cef32e"
      },
      "execution_count": 18,
      "outputs": [
        {
          "output_type": "stream",
          "name": "stdout",
          "text": [
            "['Virginica' 'Virginica' 'Versicolor' 'Setosa' 'Versicolor' 'Virginica'\n",
            " 'Setosa' 'Setosa' 'Virginica' 'Virginica' 'Setosa' 'Setosa' 'Setosa'\n",
            " 'Setosa' 'Setosa' 'Virginica' 'Versicolor' 'Virginica' 'Versicolor'\n",
            " 'Virginica' 'Virginica' 'Virginica' 'Virginica' 'Virginica' 'Versicolor'\n",
            " 'Versicolor' 'Virginica' 'Virginica' 'Setosa' 'Virginica' 'Setosa'\n",
            " 'Setosa' 'Setosa' 'Setosa' 'Virginica' 'Virginica' 'Versicolor'\n",
            " 'Versicolor']\n"
          ]
        }
      ]
    },
    {
      "cell_type": "markdown",
      "source": [
        "On calcule maintenant l'exactitude et la précision"
      ],
      "metadata": {
        "id": "cGLpm4edtylD"
      }
    },
    {
      "cell_type": "code",
      "source": [
        "accuracy_lin_train = np.mean(outputs_train_val == outputs_lin_train)\n",
        "accuracy_lin_test = np.mean(outputs_test == outputs_lin_test)\n",
        "precision_lin_train = precision_score(outputs_train_val, outputs_lin_train,\n",
        "                                      average=\"weighted\")\n",
        "precision_lin_test = precision_score(outputs_test, outputs_lin_test,\n",
        "                                     average=\"weighted\")"
      ],
      "metadata": {
        "id": "w7aeiL6ily4a"
      },
      "execution_count": 19,
      "outputs": []
    },
    {
      "cell_type": "markdown",
      "source": [
        "On va rafaire tout cela avec une régression logistique multinomiale régularisée avec $\\lambda \\in [0.001, 2]$. **Attention**, l'option `multi_class` doit être sur `\"multinomial\"` lors de l'instanciation de la classe `LogisticRegression`, afin de bien faire une régression avec la fonction *softmax*. On remarque ici que l'on doit créer un score personnalisé (qui s'appuie sur `precision_score`) afin de dire comment doit être calculé la précision avec des classes multiples (ici, l'option `average=\"weighted\"` permet de faire la moyenne pondérée de la précision sur chaque classe)."
      ],
      "metadata": {
        "id": "JjWKBpmLw74L"
      }
    },
    {
      "cell_type": "code",
      "source": [
        "# Paramètres pour la CV\n",
        "params = np.linspace(0.001, 5, 50)\n",
        "param_dict = {\"C\": params}\n",
        "k = 5\n",
        "# Fonction particulière pour le scoring :\n",
        "# on fait la moyenne pondérée des précisions par classe, one-vs-rest\n",
        "def my_precision(y_true, y_pred):\n",
        "  return precision_score(y_true, y_pred, average=\"weighted\")\n",
        "# Pour ce modèle, on a du augmenter le nombre d'itérations\n",
        "# dans la descente du gradient\n",
        "logistic_reg = LogisticRegression(max_iter=10000, multi_class=\"multinomial\")\n",
        "# Recherche sur grille avec CV\n",
        "grid_search = GridSearchCV(logistic_reg,\n",
        "                           param_dict,\n",
        "                           cv=k,\n",
        "                           scoring={\"accuracy\": \"accuracy\",\n",
        "                                    \"precision\": make_scorer(my_precision)},\n",
        "                           refit=False,\n",
        "                           error_score='raise')\n",
        "grid_search.fit(inputs_train_val, outputs_train_val)"
      ],
      "metadata": {
        "colab": {
          "base_uri": "https://localhost:8080/",
          "height": 207
        },
        "id": "nM4kxFsKl-MQ",
        "outputId": "d37cfb0e-6033-411d-b290-af24e23df8f1"
      },
      "execution_count": 20,
      "outputs": [
        {
          "output_type": "stream",
          "name": "stderr",
          "text": [
            "/usr/local/lib/python3.10/dist-packages/sklearn/metrics/_classification.py:1344: UndefinedMetricWarning: Precision is ill-defined and being set to 0.0 in labels with no predicted samples. Use `zero_division` parameter to control this behavior.\n",
            "  _warn_prf(average, modifier, msg_start, len(result))\n",
            "/usr/local/lib/python3.10/dist-packages/sklearn/metrics/_classification.py:1344: UndefinedMetricWarning: Precision is ill-defined and being set to 0.0 in labels with no predicted samples. Use `zero_division` parameter to control this behavior.\n",
            "  _warn_prf(average, modifier, msg_start, len(result))\n"
          ]
        },
        {
          "output_type": "execute_result",
          "data": {
            "text/plain": [
              "GridSearchCV(cv=5, error_score='raise',\n",
              "             estimator=LogisticRegression(max_iter=10000,\n",
              "                                          multi_class='multinomial'),\n",
              "             param_grid={'C': array([1.00000000e-03, 1.03020408e-01, 2.05040816e-01, 3.07061224e-01,\n",
              "       4.09081633e-01, 5.11102041e-01, 6.13122449e-01, 7.15142857e-01,\n",
              "       8.17163265e-01, 9.19183673e-01, 1.02120408e+00, 1.12322449e+00,\n",
              "       1.22524490e+00, 1.32726531e+00, 1.429285...\n",
              "       3.26565306e+00, 3.36767347e+00, 3.46969388e+00, 3.57171429e+00,\n",
              "       3.67373469e+00, 3.77575510e+00, 3.87777551e+00, 3.97979592e+00,\n",
              "       4.08181633e+00, 4.18383673e+00, 4.28585714e+00, 4.38787755e+00,\n",
              "       4.48989796e+00, 4.59191837e+00, 4.69393878e+00, 4.79595918e+00,\n",
              "       4.89797959e+00, 5.00000000e+00])},\n",
              "             refit=False,\n",
              "             scoring={'accuracy': 'accuracy',\n",
              "                      'precision': make_scorer(my_precision)})"
            ],
            "text/html": [
              "<style>#sk-container-id-4 {color: black;background-color: white;}#sk-container-id-4 pre{padding: 0;}#sk-container-id-4 div.sk-toggleable {background-color: white;}#sk-container-id-4 label.sk-toggleable__label {cursor: pointer;display: block;width: 100%;margin-bottom: 0;padding: 0.3em;box-sizing: border-box;text-align: center;}#sk-container-id-4 label.sk-toggleable__label-arrow:before {content: \"▸\";float: left;margin-right: 0.25em;color: #696969;}#sk-container-id-4 label.sk-toggleable__label-arrow:hover:before {color: black;}#sk-container-id-4 div.sk-estimator:hover label.sk-toggleable__label-arrow:before {color: black;}#sk-container-id-4 div.sk-toggleable__content {max-height: 0;max-width: 0;overflow: hidden;text-align: left;background-color: #f0f8ff;}#sk-container-id-4 div.sk-toggleable__content pre {margin: 0.2em;color: black;border-radius: 0.25em;background-color: #f0f8ff;}#sk-container-id-4 input.sk-toggleable__control:checked~div.sk-toggleable__content {max-height: 200px;max-width: 100%;overflow: auto;}#sk-container-id-4 input.sk-toggleable__control:checked~label.sk-toggleable__label-arrow:before {content: \"▾\";}#sk-container-id-4 div.sk-estimator input.sk-toggleable__control:checked~label.sk-toggleable__label {background-color: #d4ebff;}#sk-container-id-4 div.sk-label input.sk-toggleable__control:checked~label.sk-toggleable__label {background-color: #d4ebff;}#sk-container-id-4 input.sk-hidden--visually {border: 0;clip: rect(1px 1px 1px 1px);clip: rect(1px, 1px, 1px, 1px);height: 1px;margin: -1px;overflow: hidden;padding: 0;position: absolute;width: 1px;}#sk-container-id-4 div.sk-estimator {font-family: monospace;background-color: #f0f8ff;border: 1px dotted black;border-radius: 0.25em;box-sizing: border-box;margin-bottom: 0.5em;}#sk-container-id-4 div.sk-estimator:hover {background-color: #d4ebff;}#sk-container-id-4 div.sk-parallel-item::after {content: \"\";width: 100%;border-bottom: 1px solid gray;flex-grow: 1;}#sk-container-id-4 div.sk-label:hover label.sk-toggleable__label {background-color: #d4ebff;}#sk-container-id-4 div.sk-serial::before {content: \"\";position: absolute;border-left: 1px solid gray;box-sizing: border-box;top: 0;bottom: 0;left: 50%;z-index: 0;}#sk-container-id-4 div.sk-serial {display: flex;flex-direction: column;align-items: center;background-color: white;padding-right: 0.2em;padding-left: 0.2em;position: relative;}#sk-container-id-4 div.sk-item {position: relative;z-index: 1;}#sk-container-id-4 div.sk-parallel {display: flex;align-items: stretch;justify-content: center;background-color: white;position: relative;}#sk-container-id-4 div.sk-item::before, #sk-container-id-4 div.sk-parallel-item::before {content: \"\";position: absolute;border-left: 1px solid gray;box-sizing: border-box;top: 0;bottom: 0;left: 50%;z-index: -1;}#sk-container-id-4 div.sk-parallel-item {display: flex;flex-direction: column;z-index: 1;position: relative;background-color: white;}#sk-container-id-4 div.sk-parallel-item:first-child::after {align-self: flex-end;width: 50%;}#sk-container-id-4 div.sk-parallel-item:last-child::after {align-self: flex-start;width: 50%;}#sk-container-id-4 div.sk-parallel-item:only-child::after {width: 0;}#sk-container-id-4 div.sk-dashed-wrapped {border: 1px dashed gray;margin: 0 0.4em 0.5em 0.4em;box-sizing: border-box;padding-bottom: 0.4em;background-color: white;}#sk-container-id-4 div.sk-label label {font-family: monospace;font-weight: bold;display: inline-block;line-height: 1.2em;}#sk-container-id-4 div.sk-label-container {text-align: center;}#sk-container-id-4 div.sk-container {/* jupyter's `normalize.less` sets `[hidden] { display: none; }` but bootstrap.min.css set `[hidden] { display: none !important; }` so we also need the `!important` here to be able to override the default hidden behavior on the sphinx rendered scikit-learn.org. See: https://github.com/scikit-learn/scikit-learn/issues/21755 */display: inline-block !important;position: relative;}#sk-container-id-4 div.sk-text-repr-fallback {display: none;}</style><div id=\"sk-container-id-4\" class=\"sk-top-container\"><div class=\"sk-text-repr-fallback\"><pre>GridSearchCV(cv=5, error_score=&#x27;raise&#x27;,\n",
              "             estimator=LogisticRegression(max_iter=10000,\n",
              "                                          multi_class=&#x27;multinomial&#x27;),\n",
              "             param_grid={&#x27;C&#x27;: array([1.00000000e-03, 1.03020408e-01, 2.05040816e-01, 3.07061224e-01,\n",
              "       4.09081633e-01, 5.11102041e-01, 6.13122449e-01, 7.15142857e-01,\n",
              "       8.17163265e-01, 9.19183673e-01, 1.02120408e+00, 1.12322449e+00,\n",
              "       1.22524490e+00, 1.32726531e+00, 1.429285...\n",
              "       3.26565306e+00, 3.36767347e+00, 3.46969388e+00, 3.57171429e+00,\n",
              "       3.67373469e+00, 3.77575510e+00, 3.87777551e+00, 3.97979592e+00,\n",
              "       4.08181633e+00, 4.18383673e+00, 4.28585714e+00, 4.38787755e+00,\n",
              "       4.48989796e+00, 4.59191837e+00, 4.69393878e+00, 4.79595918e+00,\n",
              "       4.89797959e+00, 5.00000000e+00])},\n",
              "             refit=False,\n",
              "             scoring={&#x27;accuracy&#x27;: &#x27;accuracy&#x27;,\n",
              "                      &#x27;precision&#x27;: make_scorer(my_precision)})</pre><b>In a Jupyter environment, please rerun this cell to show the HTML representation or trust the notebook. <br />On GitHub, the HTML representation is unable to render, please try loading this page with nbviewer.org.</b></div><div class=\"sk-container\" hidden><div class=\"sk-item sk-dashed-wrapped\"><div class=\"sk-label-container\"><div class=\"sk-label sk-toggleable\"><input class=\"sk-toggleable__control sk-hidden--visually\" id=\"sk-estimator-id-6\" type=\"checkbox\" ><label for=\"sk-estimator-id-6\" class=\"sk-toggleable__label sk-toggleable__label-arrow\">GridSearchCV</label><div class=\"sk-toggleable__content\"><pre>GridSearchCV(cv=5, error_score=&#x27;raise&#x27;,\n",
              "             estimator=LogisticRegression(max_iter=10000,\n",
              "                                          multi_class=&#x27;multinomial&#x27;),\n",
              "             param_grid={&#x27;C&#x27;: array([1.00000000e-03, 1.03020408e-01, 2.05040816e-01, 3.07061224e-01,\n",
              "       4.09081633e-01, 5.11102041e-01, 6.13122449e-01, 7.15142857e-01,\n",
              "       8.17163265e-01, 9.19183673e-01, 1.02120408e+00, 1.12322449e+00,\n",
              "       1.22524490e+00, 1.32726531e+00, 1.429285...\n",
              "       3.26565306e+00, 3.36767347e+00, 3.46969388e+00, 3.57171429e+00,\n",
              "       3.67373469e+00, 3.77575510e+00, 3.87777551e+00, 3.97979592e+00,\n",
              "       4.08181633e+00, 4.18383673e+00, 4.28585714e+00, 4.38787755e+00,\n",
              "       4.48989796e+00, 4.59191837e+00, 4.69393878e+00, 4.79595918e+00,\n",
              "       4.89797959e+00, 5.00000000e+00])},\n",
              "             refit=False,\n",
              "             scoring={&#x27;accuracy&#x27;: &#x27;accuracy&#x27;,\n",
              "                      &#x27;precision&#x27;: make_scorer(my_precision)})</pre></div></div></div><div class=\"sk-parallel\"><div class=\"sk-parallel-item\"><div class=\"sk-item\"><div class=\"sk-label-container\"><div class=\"sk-label sk-toggleable\"><input class=\"sk-toggleable__control sk-hidden--visually\" id=\"sk-estimator-id-7\" type=\"checkbox\" ><label for=\"sk-estimator-id-7\" class=\"sk-toggleable__label sk-toggleable__label-arrow\">estimator: LogisticRegression</label><div class=\"sk-toggleable__content\"><pre>LogisticRegression(max_iter=10000, multi_class=&#x27;multinomial&#x27;)</pre></div></div></div><div class=\"sk-serial\"><div class=\"sk-item\"><div class=\"sk-estimator sk-toggleable\"><input class=\"sk-toggleable__control sk-hidden--visually\" id=\"sk-estimator-id-8\" type=\"checkbox\" ><label for=\"sk-estimator-id-8\" class=\"sk-toggleable__label sk-toggleable__label-arrow\">LogisticRegression</label><div class=\"sk-toggleable__content\"><pre>LogisticRegression(max_iter=10000, multi_class=&#x27;multinomial&#x27;)</pre></div></div></div></div></div></div></div></div></div></div>"
            ]
          },
          "metadata": {},
          "execution_count": 20
        }
      ]
    },
    {
      "cell_type": "markdown",
      "source": [
        "On peut maintenant faire le graphique de nos mesures en fonction de $\\lambda$"
      ],
      "metadata": {
        "id": "8Z67hlgjxTHL"
      }
    },
    {
      "cell_type": "code",
      "source": [
        "# Plot des scores\n",
        "accuracy_scores = grid_search.cv_results_[\"mean_test_accuracy\"]\n",
        "precision_scores = grid_search.cv_results_[\"mean_test_precision\"]\n",
        "# Plot des scores\n",
        "fig, ax = plt.subplots()\n",
        "ax.plot(params, accuracy_scores, c=\"red\", label=\"Accuracy\")\n",
        "ax.plot(params, precision_scores, c=\"blue\", label=\"Precision\")\n",
        "ax.set_xlabel(\"$\\lambda$\")\n",
        "ax.set_ylabel(\"$Score$\")\n",
        "ax.legend()\n",
        "plt.plot()"
      ],
      "metadata": {
        "colab": {
          "base_uri": "https://localhost:8080/",
          "height": 868
        },
        "id": "1McXkke7o2zS",
        "outputId": "754153b9-0d4e-46e6-f6f4-b2e029ef4ea7"
      },
      "execution_count": 21,
      "outputs": [
        {
          "output_type": "execute_result",
          "data": {
            "text/plain": [
              "[]"
            ]
          },
          "metadata": {},
          "execution_count": 21
        },
        {
          "output_type": "display_data",
          "data": {
            "text/plain": [
              "<Figure size 2000x1000 with 1 Axes>"
            ],
            "image/png": "[encoded data removed]"
          },
          "metadata": {}
        }
      ]
    },
    {
      "cell_type": "markdown",
      "source": [
        "On retient le meilleur modèle selon la précision"
      ],
      "metadata": {
        "id": "TnBTd8X7xZ8R"
      }
    },
    {
      "cell_type": "code",
      "source": [
        "# Les meilleurs modèles selon la précision\n",
        "index_best_precision = np.where(precision_scores == max(precision_scores))[0][0]\n",
        "best_precision_par = params[index_best_precision]\n",
        "best_precision_log_reg = LogisticRegression(max_iter=10000, C=best_precision_par)\n",
        "best_precision_log_reg.fit(inputs_train_val, outputs_train_val)"
      ],
      "metadata": {
        "colab": {
          "base_uri": "https://localhost:8080/",
          "height": 75
        },
        "id": "vJmHnujxVIfa",
        "outputId": "cd00fc90-01c2-4dfd-f561-12e6ef266152"
      },
      "execution_count": 22,
      "outputs": [
        {
          "output_type": "execute_result",
          "data": {
            "text/plain": [
              "LogisticRegression(C=1.0212040816326529, max_iter=10000)"
            ],
            "text/html": [
              "<style>#sk-container-id-5 {color: black;background-color: white;}#sk-container-id-5 pre{padding: 0;}#sk-container-id-5 div.sk-toggleable {background-color: white;}#sk-container-id-5 label.sk-toggleable__label {cursor: pointer;display: block;width: 100%;margin-bottom: 0;padding: 0.3em;box-sizing: border-box;text-align: center;}#sk-container-id-5 label.sk-toggleable__label-arrow:before {content: \"▸\";float: left;margin-right: 0.25em;color: #696969;}#sk-container-id-5 label.sk-toggleable__label-arrow:hover:before {color: black;}#sk-container-id-5 div.sk-estimator:hover label.sk-toggleable__label-arrow:before {color: black;}#sk-container-id-5 div.sk-toggleable__content {max-height: 0;max-width: 0;overflow: hidden;text-align: left;background-color: #f0f8ff;}#sk-container-id-5 div.sk-toggleable__content pre {margin: 0.2em;color: black;border-radius: 0.25em;background-color: #f0f8ff;}#sk-container-id-5 input.sk-toggleable__control:checked~div.sk-toggleable__content {max-height: 200px;max-width: 100%;overflow: auto;}#sk-container-id-5 input.sk-toggleable__control:checked~label.sk-toggleable__label-arrow:before {content: \"▾\";}#sk-container-id-5 div.sk-estimator input.sk-toggleable__control:checked~label.sk-toggleable__label {background-color: #d4ebff;}#sk-container-id-5 div.sk-label input.sk-toggleable__control:checked~label.sk-toggleable__label {background-color: #d4ebff;}#sk-container-id-5 input.sk-hidden--visually {border: 0;clip: rect(1px 1px 1px 1px);clip: rect(1px, 1px, 1px, 1px);height: 1px;margin: -1px;overflow: hidden;padding: 0;position: absolute;width: 1px;}#sk-container-id-5 div.sk-estimator {font-family: monospace;background-color: #f0f8ff;border: 1px dotted black;border-radius: 0.25em;box-sizing: border-box;margin-bottom: 0.5em;}#sk-container-id-5 div.sk-estimator:hover {background-color: #d4ebff;}#sk-container-id-5 div.sk-parallel-item::after {content: \"\";width: 100%;border-bottom: 1px solid gray;flex-grow: 1;}#sk-container-id-5 div.sk-label:hover label.sk-toggleable__label {background-color: #d4ebff;}#sk-container-id-5 div.sk-serial::before {content: \"\";position: absolute;border-left: 1px solid gray;box-sizing: border-box;top: 0;bottom: 0;left: 50%;z-index: 0;}#sk-container-id-5 div.sk-serial {display: flex;flex-direction: column;align-items: center;background-color: white;padding-right: 0.2em;padding-left: 0.2em;position: relative;}#sk-container-id-5 div.sk-item {position: relative;z-index: 1;}#sk-container-id-5 div.sk-parallel {display: flex;align-items: stretch;justify-content: center;background-color: white;position: relative;}#sk-container-id-5 div.sk-item::before, #sk-container-id-5 div.sk-parallel-item::before {content: \"\";position: absolute;border-left: 1px solid gray;box-sizing: border-box;top: 0;bottom: 0;left: 50%;z-index: -1;}#sk-container-id-5 div.sk-parallel-item {display: flex;flex-direction: column;z-index: 1;position: relative;background-color: white;}#sk-container-id-5 div.sk-parallel-item:first-child::after {align-self: flex-end;width: 50%;}#sk-container-id-5 div.sk-parallel-item:last-child::after {align-self: flex-start;width: 50%;}#sk-container-id-5 div.sk-parallel-item:only-child::after {width: 0;}#sk-container-id-5 div.sk-dashed-wrapped {border: 1px dashed gray;margin: 0 0.4em 0.5em 0.4em;box-sizing: border-box;padding-bottom: 0.4em;background-color: white;}#sk-container-id-5 div.sk-label label {font-family: monospace;font-weight: bold;display: inline-block;line-height: 1.2em;}#sk-container-id-5 div.sk-label-container {text-align: center;}#sk-container-id-5 div.sk-container {/* jupyter's `normalize.less` sets `[hidden] { display: none; }` but bootstrap.min.css set `[hidden] { display: none !important; }` so we also need the `!important` here to be able to override the default hidden behavior on the sphinx rendered scikit-learn.org. See: https://github.com/scikit-learn/scikit-learn/issues/21755 */display: inline-block !important;position: relative;}#sk-container-id-5 div.sk-text-repr-fallback {display: none;}</style><div id=\"sk-container-id-5\" class=\"sk-top-container\"><div class=\"sk-text-repr-fallback\"><pre>LogisticRegression(C=1.0212040816326529, max_iter=10000)</pre><b>In a Jupyter environment, please rerun this cell to show the HTML representation or trust the notebook. <br />On GitHub, the HTML representation is unable to render, please try loading this page with nbviewer.org.</b></div><div class=\"sk-container\" hidden><div class=\"sk-item\"><div class=\"sk-estimator sk-toggleable\"><input class=\"sk-toggleable__control sk-hidden--visually\" id=\"sk-estimator-id-9\" type=\"checkbox\" checked><label for=\"sk-estimator-id-9\" class=\"sk-toggleable__label sk-toggleable__label-arrow\">LogisticRegression</label><div class=\"sk-toggleable__content\"><pre>LogisticRegression(C=1.0212040816326529, max_iter=10000)</pre></div></div></div></div></div>"
            ]
          },
          "metadata": {},
          "execution_count": 22
        }
      ]
    },
    {
      "cell_type": "markdown",
      "source": [
        "On calcule les mesures"
      ],
      "metadata": {
        "id": "aWpa2ExtxgGO"
      }
    },
    {
      "cell_type": "code",
      "source": [
        "# Les prédictions\n",
        "outputs_log_train = best_precision_log_reg.predict(inputs_train_val)\n",
        "outputs_log_test = best_precision_log_reg.predict(inputs_test)\n",
        "# Les scores\n",
        "accuracy_log_train = accuracy_score(outputs_train_val, outputs_log_train)\n",
        "accuracy_log_test = accuracy_score(outputs_test, outputs_log_test)\n",
        "precision_log_train = my_precision(outputs_train_val, outputs_log_train)\n",
        "precision_log_test = my_precision(outputs_test, outputs_log_test)"
      ],
      "metadata": {
        "id": "C81-QRSTV_1f"
      },
      "execution_count": 23,
      "outputs": []
    },
    {
      "cell_type": "markdown",
      "source": [
        "Et on compare à la régression linéaire"
      ],
      "metadata": {
        "id": "EBTQ5mNoxizv"
      }
    },
    {
      "cell_type": "code",
      "source": [
        "print(f\"L'exactitude pour le modèle linéaire est de \"\n",
        "f\"{accuracy_lin_train:.2%} (train) {accuracy_lin_test:.2%} (test)\")\n",
        "print(f\"La précision pour le modèle linéaire est de \"\n",
        "f\"{precision_lin_train:.2%} (train) {precision_lin_test:.2%} (test)\")\n",
        "print(f\"L'exactitude pour le modèle logistique (C={best_recall_par:.4f}) est \"\n",
        "f\"de {accuracy_log_train:.2%} (train) {accuracy_log_test:.2%} (test)\")\n",
        "print(f\"La précision pour le modèle logistique (C={best_recall_par:.4f}) est \"\n",
        "f\"de {precision_log_train:.2%} (train) {precision_log_test:.2%} (test)\")"
      ],
      "metadata": {
        "colab": {
          "base_uri": "https://localhost:8080/"
        },
        "id": "45b6EE0nnzC8",
        "outputId": "a32b5d53-0e41-4a49-8c7d-bb15cdd0c467"
      },
      "execution_count": 24,
      "outputs": [
        {
          "output_type": "stream",
          "name": "stdout",
          "text": [
            "L'exactitude pour le modèle linéaire est de 86.61% (train) 81.58% (test)\n",
            "La précision pour le modèle linéaire est de 87.30% (train) 84.58% (test)\n",
            "L'exactitude pour le modèle logistique (C=0.0214) est de 97.32% (train) 97.37% (test)\n",
            "La précision pour le modèle logistique (C=0.0214) est de 97.34% (train) 97.57% (test)\n"
          ]
        }
      ]
    },
    {
      "cell_type": "markdown",
      "source": [
        "Finalement, on va afficher, à l'aide de `contourf`, les zones de décision de notre modèle. Il s'agit pour cela de créer des points d'une grille (définie sur les variables \"petal.length\" et \"petal.width\", les variables associées aux sépales seront maintenues constantes sur leur moyenne) puis d'estimer les prédictions de ces différents points. Remarquez que nous utilisons ici `predict_proba` qui premet d'obtenir les probabilités d'être dans chaque classe. Les `contourf` utilisent ensuite ces probabilités pour tracer les contours"
      ],
      "metadata": {
        "id": "qcV7tYL_xm6D"
      }
    },
    {
      "cell_type": "code",
      "source": [
        "# On fait une grille\n",
        "grid_size = 500\n",
        "p_length_min = data[\"petal.length\"].min()\n",
        "p_length_max =  data[\"petal.length\"].max()\n",
        "p_width_min = data[\"petal.width\"].min()\n",
        "p_width_max =  data[\"petal.width\"].max()\n",
        "grid_x, grid_y = np.meshgrid(np.linspace(p_length_min, p_length_max, grid_size),\n",
        "                             np.linspace(p_width_min, p_width_max, grid_size))\n",
        "\n",
        "# On recrée un jeu de données avec les points de la grille\n",
        "mean_sepal_length = data[\"sepal.length\"].mean()\n",
        "mean_sepal_width = data[\"sepal.width\"].mean()\n",
        "grid_data_mat = np.stack((np.repeat([mean_sepal_length], grid_size**2),\n",
        "                          np.repeat([mean_sepal_width], grid_size**2),\n",
        "                          grid_x.flatten(),\n",
        "                          grid_y.flatten())).T\n",
        "grid_data = pd.DataFrame(grid_data_mat, columns=inputs.columns)\n",
        "\n",
        "# Les prédicions probabiliste sur la grille\n",
        "grid_proba_pred = best_precision_log_reg.predict_proba(grid_data)\n",
        "\n",
        "# Création d'un dictionnaire pour les couleurs\n",
        "colors = {\"Setosa\": \"blue\", \"Versicolor\": \"green\", \"Virginica\": \"red\"}\n",
        "\n",
        "# Création des objets servant à l'affichage graphique\n",
        "fig, ax = plt.subplots()\n",
        "\n",
        "# On ajoute notre contour\n",
        "pred_0 = grid_proba_pred[:, 0].reshape(grid_x.shape)\n",
        "pred_1 = grid_proba_pred[:, 1].reshape(grid_x.shape)\n",
        "pred_2 = grid_proba_pred[:, 2].reshape(grid_x.shape)\n",
        "ax.contourf(grid_x, grid_y, pred_0, cmap=\"Blues\", alpha=0.4)\n",
        "ax.contourf(grid_x, grid_y, pred_1, cmap=\"Greens\", alpha=0.4)\n",
        "ax.contourf(grid_x, grid_y, pred_2, cmap=\"Reds\", alpha=0.4)\n",
        "\n",
        "# On fait une boucle sur les espèces\n",
        "for species in data[\"variety\"].unique():\n",
        "\n",
        "  # Selection de l'espèce\n",
        "  species_df = data[data[\"variety\"] == species]\n",
        "\n",
        "  # Scatter plot de l'espèce\n",
        "  ax.scatter(x=species_df[\"petal.length\"],\n",
        "            y=species_df[\"petal.width\"],\n",
        "            c=colors[species],\n",
        "            label=species)\n",
        "\n",
        "# Ajout du nom des axes, d'un titre, d'une légende, et d'une grille\n",
        "ax.set_xlabel(\"Petal Length\")\n",
        "ax.set_ylabel(\"Petal Width\")\n",
        "ax.set_title(\"Iris\")\n",
        "ax.legend()\n",
        "ax.grid(True)\n",
        "\n",
        "plt.plot()"
      ],
      "metadata": {
        "colab": {
          "base_uri": "https://localhost:8080/",
          "height": 889
        },
        "id": "cJ--cNK4WlfY",
        "outputId": "eb29a5db-031b-4981-d7ca-814d0e9d17a8"
      },
      "execution_count": 25,
      "outputs": [
        {
          "output_type": "execute_result",
          "data": {
            "text/plain": [
              "[]"
            ]
          },
          "metadata": {},
          "execution_count": 25
        },
        {
          "output_type": "display_data",
          "data": {
            "text/plain": [
              "<Figure size 2000x1000 with 1 Axes>"
            ],
            "image/png": "[encoded data removed]"
          },
          "metadata": {}
        }
      ]
    },
    {
      "cell_type": "markdown",
      "source": [
        "## Exercice\n",
        "\n",
        "Dans cet exercice, vous allez effectuer la même procédure que dans les exemples précédents, mais sur le jeu de données \"PimaIndiansDiabetes.csv\" (plus d'info https://www.rdocumentation.org/packages/mlbench/versions/2.1-3/topics/PimaIndiansDiabetes) et pour optimiser la mesure F1 (https://scikit-learn.org/stable/modules/generated/sklearn.metrics.f1_score.html).\n",
        "\n",
        "* La variable dépendante est \"diabetes\", qui peut être \"pos\" ou \"neg\". Toutes les autres variables sont numériques.\n",
        "* Il s'agira de faire une régression linaire et une régression logistique régularisée. À vous de trouver l'intervalle des hyparamètres à tester.\n",
        "* La mesure à optimiser est la mesure F1, qui peut être calculée avec `sklearn.metrics.f1_score`.\n",
        "\n",
        "Bonne chance !"
      ],
      "metadata": {
        "id": "pZda0S9RyjmK"
      }
    }
  ]
}