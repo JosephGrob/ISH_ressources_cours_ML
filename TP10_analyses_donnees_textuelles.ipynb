{
  "cells": [
    {
      "cell_type": "markdown",
      "metadata": {
        "id": "view-in-github",
        "colab_type": "text"
      },
      "source": [
        "<a href=\"https://colab.research.google.com/github/gguex/ISH_ressources_cours_ML/blob/main/TP10_analyses_donnees_textuelles.ipynb\" target=\"_parent\"><img src=\"https://colab.research.google.com/assets/colab-badge.svg\" alt=\"Open In Colab\"/></a>"
      ]
    },
    {
      "cell_type": "markdown",
      "source": [
        "# TP 10 : Analyses de données textuelles\n",
        "\n",
        "Dans ce TP, nous allons effectuer quelques méthodes d'analyse textuelle sur les Misérables de Victor Hugo. Le texte des 5 tomes a été obtenu via le projet gutenberg (https://www.gutenberg.org/) et nous allons utiliser le texte en anglais.\n",
        "\n",
        "Plusieurs librairies offrent des outils de traitement de données textuelles en Python, tel que **nltk**, **sklearn**, **spacy**, **gensim**, et **flair**. Ici, nous allons utiliser : \n",
        "\n",
        "* Spacy (https://spacy.io/) : qui fournit plusieurs *modèles de langage* permettant d'effectuer des tâches de tokenisation, tagging et parsing. De nombreuses autres méthodes sont également disponibles.\n",
        "\n",
        "* Gensim (https://radimrehurek.com/gensim/) : qui se concentre sur les méthodes de topic modeling et d'embedding, et qui permet de charger des certains modèles pré-entrainés.\n",
        "\n",
        "Notez que Python possède de nombreuses fonctionnalités permettant de traiter les chaînes de caractères (voir p.ex. https://www.w3schools.com/python/python_ref_string.asp\n",
        ") et la librairie `re` permet de gerer les expression régulières (https://docs.python.org/3/library/re.html). Avec ces deux éléments, il est déjà possible de créer de nombreux traitements en partant de zéro.\n",
        "\n",
        "Les librairies nécessaires sont les suivantes : "
      ],
      "metadata": {
        "id": "09lrqym6zbyA"
      }
    },
    {
      "cell_type": "code",
      "execution_count": 1,
      "metadata": {
        "id": "HJMTWxz1Kgk9"
      },
      "outputs": [],
      "source": [
        "import pandas as pd\n",
        "import numpy as np\n",
        "import os\n",
        "from tqdm import tqdm\n",
        "# Permet de créer des décomptes d'objet dans une liste\n",
        "import collections\n",
        "import matplotlib.pyplot as plt\n",
        "# Permet de faire des grilles de graphique\n",
        "from matplotlib.gridspec import GridSpec\n",
        "# Pour traiter les expressions régulières\n",
        "import re\n",
        "# Pour les pré-traitements, le tagging et le parsing\n",
        "import spacy\n",
        "# Aide pour la décompositon spectrale nécessaire à l'AFC\n",
        "import scipy\n",
        "# Pour la LDA et les word embeddings\n",
        "import gensim\n",
        "from gensim.models import TfidfModel, LdaModel, CoherenceModel, Word2Vec\n",
        "# Pour projeter les coordonnées\n",
        "from sklearn.manifold import TSNE"
      ]
    },
    {
      "cell_type": "markdown",
      "metadata": {
        "id": "pYuDdR06sTiW"
      },
      "source": [
        "---"
      ]
    },
    {
      "cell_type": "markdown",
      "source": [
        "## 1. Pré-traitements et statistiques"
      ],
      "metadata": {
        "id": "diDT31mL3NJt"
      }
    },
    {
      "cell_type": "markdown",
      "source": [
        "### 1.1 Séparation du texte en plusieurs documents\n",
        "\n",
        "Le corpus des Misérables en anglais est contenu dans un seul fichier. Seulement, nous allons adopter une structure de données où chaque document de notre corpus est contenu dans un fichier séparé. Pour cela, nous allons séparer notre texte à l'aide d'expressions régulières.\n",
        "\n",
        "On commence par charge le corpus et le sauvegarder par lignes."
      ],
      "metadata": {
        "id": "0_afGqTW3VUu"
      }
    },
    {
      "cell_type": "code",
      "execution_count": 2,
      "metadata": {
        "id": "-mogx6EaeNE6"
      },
      "outputs": [],
      "source": [
        "corpus_path = \"/content/drive/MyDrive/Colab Notebooks/\" \\\n",
        "              \"ml_data/TP10/les_miserables.txt\"\n",
        "with open(corpus_path) as corpus_file:\n",
        "  corpus_lines = corpus_file.readlines()"
      ]
    },
    {
      "cell_type": "code",
      "execution_count": 3,
      "metadata": {
        "colab": {
          "base_uri": "https://localhost:8080/"
        },
        "id": "oKAAfDmYMLDT",
        "outputId": "3b2944d3-31da-4e65-8524-14770563cee0"
      },
      "outputs": [
        {
          "output_type": "execute_result",
          "data": {
            "text/plain": [
              "['LES MISÉRABLES\\n',\n",
              " '\\n',\n",
              " '\\n',\n",
              " '\\n',\n",
              " '\\n',\n",
              " 'PREFACE\\n',\n",
              " '\\n',\n",
              " '\\n',\n",
              " 'So long as there shall exist, by virtue of law and custom, decrees of\\n',\n",
              " 'damnation pronounced by society, artificially creating hells amid the\\n',\n",
              " 'civilization of earth, and adding the element of human fate to divine\\n']"
            ]
          },
          "metadata": {},
          "execution_count": 3
        }
      ],
      "source": [
        "corpus_lines[0:11]"
      ]
    },
    {
      "cell_type": "markdown",
      "source": [
        "Nous allons maintenant définir des expressions régulières qui permettent d'identifier les lignes séparatrices de notre corpus. Il y a trois échelons possibles: Volume (e.g. \"VOLUME I\"), livre (e.g. \"BOOK FIRST-A JUST MAN\") et chapitre (e.g. \"CHAPTER I—M. MYRIEL\")."
      ],
      "metadata": {
        "id": "7WyMLdea_pLn"
      }
    },
    {
      "cell_type": "code",
      "execution_count": 4,
      "metadata": {
        "id": "GN7AWImNK7tk"
      },
      "outputs": [],
      "source": [
        "regex_for_volume = \"^VOLUME [A-Z]+$\"\n",
        "regex_for_book = \"^BOOK \"\n",
        "regex_for_chapter = \"^CHAPTER \""
      ]
    },
    {
      "cell_type": "markdown",
      "source": [
        "La boucle suivante ajoute les lignes une par une dans une variable, puis sauve cette variable (et la vide) une fois qu'une ligne séparatrice de l'unité choisie apparaît (attention, on sauve également la dernière itération de la variable). Ici, nous allons séparer notre corpus par livre avec `regex_for_book` (on omet toute les lignes qui contiennent des séparateurs)."
      ],
      "metadata": {
        "id": "ybbMbGM3AkM7"
      }
    },
    {
      "cell_type": "code",
      "execution_count": 5,
      "metadata": {
        "colab": {
          "base_uri": "https://localhost:8080/"
        },
        "id": "RlaEwlZsO2Bo",
        "outputId": "07ccdd9a-b71c-4151-8803-efee5202f8b8"
      },
      "outputs": [
        {
          "output_type": "stream",
          "name": "stdout",
          "text": [
            "LES MISÉRABLES\n",
            "\n",
            "\n",
            "\n",
            "\n",
            "PREFACE\n",
            "\n",
            "\n",
            "So long as there shall exist, by virtue of law and custom, decrees of\n",
            "damnation pronounced by society, artificially creating hells amid the\n",
            "civilization of earth, and adding the element of human fate to divine\n",
            "destiny; so long as the three great problems of the century—the\n",
            "degradation of man through pauperism, the corruption of woman through\n",
            "hunger, the crippling of children through lack of light—are unsolved;\n",
            "so long as social asphyxia is possible in any part of the world;—in\n",
            "other words, and with a still wider significance, so long as ignorance\n",
            "and poverty exist \n",
            "----------------------------\n",
            "\n",
            "\n",
            "\n",
            "\n",
            "\n",
            "In 1815, M. Charles-François-Bienvenu Myriel was Bishop of D—— He was\n",
            "an old man of about seventy-five years of age; he had occupied the see\n",
            "of D—— since 1806.\n",
            "\n",
            "Although this detail has no connection whatever with the real substance\n",
            "of what we are about to relate, it will not be superfluous, if merely\n",
            "for the sake of exactness in all points, to mention here the various\n",
            "rumors and remarks which had been in circulation about him from the\n",
            "very moment when he arrived in the diocese. True or false, that which\n",
            "is said of men often occupies as important a place in their lives, and\n",
            "above all in t\n"
          ]
        }
      ],
      "source": [
        "book_texts = []\n",
        "text = \"\"\n",
        "# Boucle sur les lignes\n",
        "for line in corpus_lines:\n",
        "  # Si c'est une ligne avec \"BOOK ...\", ou la fin, on sauve le texte\n",
        "  if re.match(regex_for_book, line) or line == corpus_lines[-1]:\n",
        "    book_texts.append(text)\n",
        "    text = \"\"\n",
        "  # Ajout de la une ligne si ce n'est pas \"VOLUME\", \"BOOK\", \"CHAPTER\"\n",
        "  if re.match(regex_for_volume, line) is None and \\\n",
        "     re.match(regex_for_book, line) is None and \\\n",
        "     re.match(regex_for_chapter, line) is None:\n",
        "    text += line\n",
        "\n",
        "# Affichage du début des deux premiers chapitres\n",
        "print(book_texts[0][0:600])\n",
        "print(\"----------------------------\")\n",
        "print(book_texts[1][0:600])"
      ]
    },
    {
      "cell_type": "markdown",
      "source": [
        "Finalement, on sauve les différents documents dans un nouveau dossier, afin de n'avoir plus à refaire ce traitement par la suite. Attention de bien nommer les fichiers pour que ceux-ci se trouve dans l'ordre alphabétique (on ajoute un 0 devant le numéro des livres de 0 à 9)."
      ],
      "metadata": {
        "id": "uwEcV6PoBJ87"
      }
    },
    {
      "cell_type": "code",
      "execution_count": 6,
      "metadata": {
        "id": "PQeNy3HLnC-0"
      },
      "outputs": [],
      "source": [
        "books = \"/content/drive/MyDrive/Colab Notebooks/ml_data/TP10/by_book\"\n",
        "# On crée le dossier pour le roman séparé par livre\n",
        "os.makedirs(books, exist_ok=True)\n",
        "# On écrit les livres (pour classer, 2 digits, avec un 0 devant pour les unités)\n",
        "for i, text in enumerate(book_texts):\n",
        "  with open(f\"{books}/book_{i:02d}.txt\", \"w\") as book_file:\n",
        "    book_file.write(text)"
      ]
    },
    {
      "cell_type": "markdown",
      "metadata": {
        "id": "YF5o1VstsHlu"
      },
      "source": [
        "----"
      ]
    },
    {
      "cell_type": "markdown",
      "source": [
        "### 1.2 Traitement du texte et statistiques\n",
        "\n",
        "Dans cette partie nous allons effectuer le traitement du texte et sortir quelques statistiques sur notre corpus. Nous allons utiliser pour cela **Spacy** et son modèle de langage `\"en_core_web_sm\"` (d'autres sont disponibles sous https://spacy.io/usage/models). On doit télécharger le modèle (qu'une seule fois), puis le charger sous un nom de fonction (ici `nlp()`)."
      ],
      "metadata": {
        "id": "udrk39_9BVVl"
      }
    },
    {
      "cell_type": "code",
      "source": [
        "# La ligne suivante doit être exécutée qu'une fois, decommentez-là lors de la \n",
        "# permière exécution\n",
        "\n",
        "# !spacy download \"en_core_web_sm\"\n",
        "nlp = spacy.load(\"en_core_web_sm\")"
      ],
      "metadata": {
        "id": "HXhKH5h32ToR"
      },
      "execution_count": 7,
      "outputs": []
    },
    {
      "cell_type": "markdown",
      "source": [
        "On va lister le dossier du corpus puis classer le nom des fichiers par ordre alphabétique (pour conserver l'ordre de narration du livre)."
      ],
      "metadata": {
        "id": "vLEVZGr4Cgmm"
      }
    },
    {
      "cell_type": "code",
      "execution_count": 8,
      "metadata": {
        "id": "RkwM5x7Av58c"
      },
      "outputs": [],
      "source": [
        "corpus_path = \"/content/drive/MyDrive/Colab Notebooks/ml_data/TP10/by_book\"\n",
        "file_names = os.listdir(corpus_path)\n",
        "file_names.sort()"
      ]
    },
    {
      "cell_type": "markdown",
      "source": [
        "Avant d'effectuer notre traitement complet, regardons comment Spacy traite un seul docuement. Nous chargeons le premier fichier et l'affichons."
      ],
      "metadata": {
        "id": "ua4T82uWCMB9"
      }
    },
    {
      "cell_type": "code",
      "execution_count": 9,
      "metadata": {
        "colab": {
          "base_uri": "https://localhost:8080/",
          "height": 35
        },
        "id": "YDizNSdTlv37",
        "outputId": "e31c68ff-69ac-4c45-b970-8628565a9b18"
      },
      "outputs": [
        {
          "output_type": "execute_result",
          "data": {
            "text/plain": [
              "'\\n\\n\\n\\n\\nIn 1815, M. Charles-François-Bienvenu Myriel was Bishop of D—— He was\\nan old man of about seventy-five years of age; he had occupied the see\\nof D—— since 1806.\\n\\nAlthough this detail has no connec'"
            ],
            "application/vnd.google.colaboratory.intrinsic+json": {
              "type": "string"
            }
          },
          "metadata": {},
          "execution_count": 9
        }
      ],
      "source": [
        "example_file_path = f\"{corpus_path}/{file_names[1]}\"\n",
        "with open(example_file_path, \"r\") as example_file:\n",
        "  example_text = example_file.read()\n",
        "# On affiche le début\n",
        "example_text[:200]"
      ]
    },
    {
      "cell_type": "markdown",
      "source": [
        "En applicant notre fonction `nlp()` sur notre texte, Spacy va effectuer tout une série d'opérations (un *pipeline*, voir https://spacy.io/usage/processing-pipelines), dont les résultats seront contenus dans l'objet retourné par cette fonction (ici, `example_doc`). Notez qu'il est possible de désactiver certaines fonctionnalité du *pipeline*, si l'on cherche à avoir des résultats plus rapidement."
      ],
      "metadata": {
        "id": "lHmx7DIAC5Fp"
      }
    },
    {
      "cell_type": "code",
      "execution_count": null,
      "metadata": {
        "id": "nxYPJmav10Gk"
      },
      "outputs": [],
      "source": [
        "example_doc = nlp(example_text)"
      ]
    },
    {
      "cell_type": "markdown",
      "source": [
        "Le nombre de tokens du corpus peut être obtenu avec grâce à la longueur de l'objet."
      ],
      "metadata": {
        "id": "ru-jBAlyDf2f"
      }
    },
    {
      "cell_type": "code",
      "execution_count": null,
      "metadata": {
        "colab": {
          "base_uri": "https://localhost:8080/"
        },
        "id": "88-tqjZN11mx",
        "outputId": "15714620-9734-475b-926c-08770b2b253f"
      },
      "outputs": [
        {
          "output_type": "execute_result",
          "data": {
            "text/plain": [
              "31113"
            ]
          },
          "metadata": {},
          "execution_count": 30
        }
      ],
      "source": [
        "len(example_doc)"
      ]
    },
    {
      "cell_type": "markdown",
      "source": [
        "Nous pouvons également itérer sur cet objet, qui donnera alors les tokens un par un. Chacun de ces tokens est en fait un objet qui contient un grand nombre d'informations."
      ],
      "metadata": {
        "id": "EpbmRuLSDmY9"
      }
    },
    {
      "cell_type": "code",
      "execution_count": null,
      "metadata": {
        "colab": {
          "base_uri": "https://localhost:8080/",
          "height": 1000
        },
        "id": "STy2pATN3h1j",
        "outputId": "22fafa12-8dd1-49ad-9178-03235c100782"
      },
      "outputs": [
        {
          "output_type": "execute_result",
          "data": {
            "text/plain": [
              "        text    lemma_   pos_  tag_      dep_ ent_type_  is_stop  is_digit  \\\n",
              "0         In        in    ADP    IN      prep               True     False   \n",
              "1       1815      1815    NUM    CD      pobj      DATE    False      True   \n",
              "2          ,         ,  PUNCT     ,     punct              False     False   \n",
              "3         M.        M.  PROPN   NNP  compound    PERSON    False     False   \n",
              "4    Charles   Charles  PROPN   NNP  compound    PERSON    False     False   \n",
              "5          -         -  PUNCT  HYPH     punct    PERSON    False     False   \n",
              "6   François  François  PROPN   NNP  compound    PERSON    False     False   \n",
              "7          -         -  PUNCT  HYPH     punct    PERSON    False     False   \n",
              "8   Bienvenu  Bienvenu  PROPN   NNP  compound    PERSON    False     False   \n",
              "9     Myriel    Myriel  PROPN   NNP     nsubj    PERSON    False     False   \n",
              "10       was        be    AUX   VBD     ccomp               True     False   \n",
              "11    Bishop    Bishop  PROPN   NNP      attr       ORG    False     False   \n",
              "12        of        of    ADP    IN      prep               True     False   \n",
              "13         D         D  PROPN   NNP      pobj              False     False   \n",
              "14         —         —  PUNCT     :     punct              False     False   \n",
              "15         —         —  PUNCT     :     punct              False     False   \n",
              "16        He        he   PRON   PRP     nsubj               True     False   \n",
              "17       was        be    AUX   VBD     ccomp               True     False   \n",
              "18        an        an    DET    DT       det               True     False   \n",
              "19       old       old    ADJ    JJ      amod              False     False   \n",
              "20       man       man   NOUN    NN      attr              False     False   \n",
              "21        of        of    ADP    IN      prep               True     False   \n",
              "22     about     about    ADV    RB    advmod  CARDINAL     True     False   \n",
              "23   seventy   seventy    NUM    CD  compound  CARDINAL    False     False   \n",
              "24         -         -  PUNCT  HYPH     punct  CARDINAL    False     False   \n",
              "25      five      five    NUM    CD    nummod               True     False   \n",
              "26     years      year   NOUN   NNS      pobj              False     False   \n",
              "27        of        of    ADP    IN      prep               True     False   \n",
              "28       age       age   NOUN    NN      pobj              False     False   \n",
              "29         ;         ;  PUNCT     :     punct              False     False   \n",
              "30        he        he   PRON   PRP     nsubj               True     False   \n",
              "31       had      have    AUX   VBD       aux               True     False   \n",
              "32  occupied    occupy   VERB   VBN      ROOT              False     False   \n",
              "33       the       the    DET    DT       det               True     False   \n",
              "34       see       see   NOUN    NN      dobj               True     False   \n",
              "35        of        of    ADP    IN      prep               True     False   \n",
              "36         D         D  PROPN   NNP      pobj              False     False   \n",
              "37         —         —  PUNCT     :     punct              False     False   \n",
              "38         —         —  PUNCT     :     punct              False     False   \n",
              "39     since     since  SCONJ    IN      prep               True     False   \n",
              "40      1806      1806    NUM    CD      pobj      DATE    False      True   \n",
              "41         .         .  PUNCT     .     punct              False     False   \n",
              "\n",
              "    is_punct  \n",
              "0      False  \n",
              "1      False  \n",
              "2       True  \n",
              "3      False  \n",
              "4      False  \n",
              "5       True  \n",
              "6      False  \n",
              "7       True  \n",
              "8      False  \n",
              "9      False  \n",
              "10     False  \n",
              "11     False  \n",
              "12     False  \n",
              "13     False  \n",
              "14      True  \n",
              "15      True  \n",
              "16     False  \n",
              "17     False  \n",
              "18     False  \n",
              "19     False  \n",
              "20     False  \n",
              "21     False  \n",
              "22     False  \n",
              "23     False  \n",
              "24      True  \n",
              "25     False  \n",
              "26     False  \n",
              "27     False  \n",
              "28     False  \n",
              "29      True  \n",
              "30     False  \n",
              "31     False  \n",
              "32     False  \n",
              "33     False  \n",
              "34     False  \n",
              "35     False  \n",
              "36     False  \n",
              "37      True  \n",
              "38      True  \n",
              "39     False  \n",
              "40     False  \n",
              "41      True  "
            ],
            "text/html": [
              "\n",
              "  <div id=\"df-d70602e2-dddd-4b23-ba58-5d28c15ab85a\">\n",
              "    <div class=\"colab-df-container\">\n",
              "      <div>\n",
              "<style scoped>\n",
              "    .dataframe tbody tr th:only-of-type {\n",
              "        vertical-align: middle;\n",
              "    }\n",
              "\n",
              "    .dataframe tbody tr th {\n",
              "        vertical-align: top;\n",
              "    }\n",
              "\n",
              "    .dataframe thead th {\n",
              "        text-align: right;\n",
              "    }\n",
              "</style>\n",
              "<table border=\"1\" class=\"dataframe\">\n",
              "  <thead>\n",
              "    <tr style=\"text-align: right;\">\n",
              "      <th></th>\n",
              "      <th>text</th>\n",
              "      <th>lemma_</th>\n",
              "      <th>pos_</th>\n",
              "      <th>tag_</th>\n",
              "      <th>dep_</th>\n",
              "      <th>ent_type_</th>\n",
              "      <th>is_stop</th>\n",
              "      <th>is_digit</th>\n",
              "      <th>is_punct</th>\n",
              "    </tr>\n",
              "  </thead>\n",
              "  <tbody>\n",
              "    <tr>\n",
              "      <th>0</th>\n",
              "      <td>In</td>\n",
              "      <td>in</td>\n",
              "      <td>ADP</td>\n",
              "      <td>IN</td>\n",
              "      <td>prep</td>\n",
              "      <td></td>\n",
              "      <td>True</td>\n",
              "      <td>False</td>\n",
              "      <td>False</td>\n",
              "    </tr>\n",
              "    <tr>\n",
              "      <th>1</th>\n",
              "      <td>1815</td>\n",
              "      <td>1815</td>\n",
              "      <td>NUM</td>\n",
              "      <td>CD</td>\n",
              "      <td>pobj</td>\n",
              "      <td>DATE</td>\n",
              "      <td>False</td>\n",
              "      <td>True</td>\n",
              "      <td>False</td>\n",
              "    </tr>\n",
              "    <tr>\n",
              "      <th>2</th>\n",
              "      <td>,</td>\n",
              "      <td>,</td>\n",
              "      <td>PUNCT</td>\n",
              "      <td>,</td>\n",
              "      <td>punct</td>\n",
              "      <td></td>\n",
              "      <td>False</td>\n",
              "      <td>False</td>\n",
              "      <td>True</td>\n",
              "    </tr>\n",
              "    <tr>\n",
              "      <th>3</th>\n",
              "      <td>M.</td>\n",
              "      <td>M.</td>\n",
              "      <td>PROPN</td>\n",
              "      <td>NNP</td>\n",
              "      <td>compound</td>\n",
              "      <td>PERSON</td>\n",
              "      <td>False</td>\n",
              "      <td>False</td>\n",
              "      <td>False</td>\n",
              "    </tr>\n",
              "    <tr>\n",
              "      <th>4</th>\n",
              "      <td>Charles</td>\n",
              "      <td>Charles</td>\n",
              "      <td>PROPN</td>\n",
              "      <td>NNP</td>\n",
              "      <td>compound</td>\n",
              "      <td>PERSON</td>\n",
              "      <td>False</td>\n",
              "      <td>False</td>\n",
              "      <td>False</td>\n",
              "    </tr>\n",
              "    <tr>\n",
              "      <th>5</th>\n",
              "      <td>-</td>\n",
              "      <td>-</td>\n",
              "      <td>PUNCT</td>\n",
              "      <td>HYPH</td>\n",
              "      <td>punct</td>\n",
              "      <td>PERSON</td>\n",
              "      <td>False</td>\n",
              "      <td>False</td>\n",
              "      <td>True</td>\n",
              "    </tr>\n",
              "    <tr>\n",
              "      <th>6</th>\n",
              "      <td>François</td>\n",
              "      <td>François</td>\n",
              "      <td>PROPN</td>\n",
              "      <td>NNP</td>\n",
              "      <td>compound</td>\n",
              "      <td>PERSON</td>\n",
              "      <td>False</td>\n",
              "      <td>False</td>\n",
              "      <td>False</td>\n",
              "    </tr>\n",
              "    <tr>\n",
              "      <th>7</th>\n",
              "      <td>-</td>\n",
              "      <td>-</td>\n",
              "      <td>PUNCT</td>\n",
              "      <td>HYPH</td>\n",
              "      <td>punct</td>\n",
              "      <td>PERSON</td>\n",
              "      <td>False</td>\n",
              "      <td>False</td>\n",
              "      <td>True</td>\n",
              "    </tr>\n",
              "    <tr>\n",
              "      <th>8</th>\n",
              "      <td>Bienvenu</td>\n",
              "      <td>Bienvenu</td>\n",
              "      <td>PROPN</td>\n",
              "      <td>NNP</td>\n",
              "      <td>compound</td>\n",
              "      <td>PERSON</td>\n",
              "      <td>False</td>\n",
              "      <td>False</td>\n",
              "      <td>False</td>\n",
              "    </tr>\n",
              "    <tr>\n",
              "      <th>9</th>\n",
              "      <td>Myriel</td>\n",
              "      <td>Myriel</td>\n",
              "      <td>PROPN</td>\n",
              "      <td>NNP</td>\n",
              "      <td>nsubj</td>\n",
              "      <td>PERSON</td>\n",
              "      <td>False</td>\n",
              "      <td>False</td>\n",
              "      <td>False</td>\n",
              "    </tr>\n",
              "    <tr>\n",
              "      <th>10</th>\n",
              "      <td>was</td>\n",
              "      <td>be</td>\n",
              "      <td>AUX</td>\n",
              "      <td>VBD</td>\n",
              "      <td>ccomp</td>\n",
              "      <td></td>\n",
              "      <td>True</td>\n",
              "      <td>False</td>\n",
              "      <td>False</td>\n",
              "    </tr>\n",
              "    <tr>\n",
              "      <th>11</th>\n",
              "      <td>Bishop</td>\n",
              "      <td>Bishop</td>\n",
              "      <td>PROPN</td>\n",
              "      <td>NNP</td>\n",
              "      <td>attr</td>\n",
              "      <td>ORG</td>\n",
              "      <td>False</td>\n",
              "      <td>False</td>\n",
              "      <td>False</td>\n",
              "    </tr>\n",
              "    <tr>\n",
              "      <th>12</th>\n",
              "      <td>of</td>\n",
              "      <td>of</td>\n",
              "      <td>ADP</td>\n",
              "      <td>IN</td>\n",
              "      <td>prep</td>\n",
              "      <td></td>\n",
              "      <td>True</td>\n",
              "      <td>False</td>\n",
              "      <td>False</td>\n",
              "    </tr>\n",
              "    <tr>\n",
              "      <th>13</th>\n",
              "      <td>D</td>\n",
              "      <td>D</td>\n",
              "      <td>PROPN</td>\n",
              "      <td>NNP</td>\n",
              "      <td>pobj</td>\n",
              "      <td></td>\n",
              "      <td>False</td>\n",
              "      <td>False</td>\n",
              "      <td>False</td>\n",
              "    </tr>\n",
              "    <tr>\n",
              "      <th>14</th>\n",
              "      <td>—</td>\n",
              "      <td>—</td>\n",
              "      <td>PUNCT</td>\n",
              "      <td>:</td>\n",
              "      <td>punct</td>\n",
              "      <td></td>\n",
              "      <td>False</td>\n",
              "      <td>False</td>\n",
              "      <td>True</td>\n",
              "    </tr>\n",
              "    <tr>\n",
              "      <th>15</th>\n",
              "      <td>—</td>\n",
              "      <td>—</td>\n",
              "      <td>PUNCT</td>\n",
              "      <td>:</td>\n",
              "      <td>punct</td>\n",
              "      <td></td>\n",
              "      <td>False</td>\n",
              "      <td>False</td>\n",
              "      <td>True</td>\n",
              "    </tr>\n",
              "    <tr>\n",
              "      <th>16</th>\n",
              "      <td>He</td>\n",
              "      <td>he</td>\n",
              "      <td>PRON</td>\n",
              "      <td>PRP</td>\n",
              "      <td>nsubj</td>\n",
              "      <td></td>\n",
              "      <td>True</td>\n",
              "      <td>False</td>\n",
              "      <td>False</td>\n",
              "    </tr>\n",
              "    <tr>\n",
              "      <th>17</th>\n",
              "      <td>was</td>\n",
              "      <td>be</td>\n",
              "      <td>AUX</td>\n",
              "      <td>VBD</td>\n",
              "      <td>ccomp</td>\n",
              "      <td></td>\n",
              "      <td>True</td>\n",
              "      <td>False</td>\n",
              "      <td>False</td>\n",
              "    </tr>\n",
              "    <tr>\n",
              "      <th>18</th>\n",
              "      <td>an</td>\n",
              "      <td>an</td>\n",
              "      <td>DET</td>\n",
              "      <td>DT</td>\n",
              "      <td>det</td>\n",
              "      <td></td>\n",
              "      <td>True</td>\n",
              "      <td>False</td>\n",
              "      <td>False</td>\n",
              "    </tr>\n",
              "    <tr>\n",
              "      <th>19</th>\n",
              "      <td>old</td>\n",
              "      <td>old</td>\n",
              "      <td>ADJ</td>\n",
              "      <td>JJ</td>\n",
              "      <td>amod</td>\n",
              "      <td></td>\n",
              "      <td>False</td>\n",
              "      <td>False</td>\n",
              "      <td>False</td>\n",
              "    </tr>\n",
              "    <tr>\n",
              "      <th>20</th>\n",
              "      <td>man</td>\n",
              "      <td>man</td>\n",
              "      <td>NOUN</td>\n",
              "      <td>NN</td>\n",
              "      <td>attr</td>\n",
              "      <td></td>\n",
              "      <td>False</td>\n",
              "      <td>False</td>\n",
              "      <td>False</td>\n",
              "    </tr>\n",
              "    <tr>\n",
              "      <th>21</th>\n",
              "      <td>of</td>\n",
              "      <td>of</td>\n",
              "      <td>ADP</td>\n",
              "      <td>IN</td>\n",
              "      <td>prep</td>\n",
              "      <td></td>\n",
              "      <td>True</td>\n",
              "      <td>False</td>\n",
              "      <td>False</td>\n",
              "    </tr>\n",
              "    <tr>\n",
              "      <th>22</th>\n",
              "      <td>about</td>\n",
              "      <td>about</td>\n",
              "      <td>ADV</td>\n",
              "      <td>RB</td>\n",
              "      <td>advmod</td>\n",
              "      <td>CARDINAL</td>\n",
              "      <td>True</td>\n",
              "      <td>False</td>\n",
              "      <td>False</td>\n",
              "    </tr>\n",
              "    <tr>\n",
              "      <th>23</th>\n",
              "      <td>seventy</td>\n",
              "      <td>seventy</td>\n",
              "      <td>NUM</td>\n",
              "      <td>CD</td>\n",
              "      <td>compound</td>\n",
              "      <td>CARDINAL</td>\n",
              "      <td>False</td>\n",
              "      <td>False</td>\n",
              "      <td>False</td>\n",
              "    </tr>\n",
              "    <tr>\n",
              "      <th>24</th>\n",
              "      <td>-</td>\n",
              "      <td>-</td>\n",
              "      <td>PUNCT</td>\n",
              "      <td>HYPH</td>\n",
              "      <td>punct</td>\n",
              "      <td>CARDINAL</td>\n",
              "      <td>False</td>\n",
              "      <td>False</td>\n",
              "      <td>True</td>\n",
              "    </tr>\n",
              "    <tr>\n",
              "      <th>25</th>\n",
              "      <td>five</td>\n",
              "      <td>five</td>\n",
              "      <td>NUM</td>\n",
              "      <td>CD</td>\n",
              "      <td>nummod</td>\n",
              "      <td></td>\n",
              "      <td>True</td>\n",
              "      <td>False</td>\n",
              "      <td>False</td>\n",
              "    </tr>\n",
              "    <tr>\n",
              "      <th>26</th>\n",
              "      <td>years</td>\n",
              "      <td>year</td>\n",
              "      <td>NOUN</td>\n",
              "      <td>NNS</td>\n",
              "      <td>pobj</td>\n",
              "      <td></td>\n",
              "      <td>False</td>\n",
              "      <td>False</td>\n",
              "      <td>False</td>\n",
              "    </tr>\n",
              "    <tr>\n",
              "      <th>27</th>\n",
              "      <td>of</td>\n",
              "      <td>of</td>\n",
              "      <td>ADP</td>\n",
              "      <td>IN</td>\n",
              "      <td>prep</td>\n",
              "      <td></td>\n",
              "      <td>True</td>\n",
              "      <td>False</td>\n",
              "      <td>False</td>\n",
              "    </tr>\n",
              "    <tr>\n",
              "      <th>28</th>\n",
              "      <td>age</td>\n",
              "      <td>age</td>\n",
              "      <td>NOUN</td>\n",
              "      <td>NN</td>\n",
              "      <td>pobj</td>\n",
              "      <td></td>\n",
              "      <td>False</td>\n",
              "      <td>False</td>\n",
              "      <td>False</td>\n",
              "    </tr>\n",
              "    <tr>\n",
              "      <th>29</th>\n",
              "      <td>;</td>\n",
              "      <td>;</td>\n",
              "      <td>PUNCT</td>\n",
              "      <td>:</td>\n",
              "      <td>punct</td>\n",
              "      <td></td>\n",
              "      <td>False</td>\n",
              "      <td>False</td>\n",
              "      <td>True</td>\n",
              "    </tr>\n",
              "    <tr>\n",
              "      <th>30</th>\n",
              "      <td>he</td>\n",
              "      <td>he</td>\n",
              "      <td>PRON</td>\n",
              "      <td>PRP</td>\n",
              "      <td>nsubj</td>\n",
              "      <td></td>\n",
              "      <td>True</td>\n",
              "      <td>False</td>\n",
              "      <td>False</td>\n",
              "    </tr>\n",
              "    <tr>\n",
              "      <th>31</th>\n",
              "      <td>had</td>\n",
              "      <td>have</td>\n",
              "      <td>AUX</td>\n",
              "      <td>VBD</td>\n",
              "      <td>aux</td>\n",
              "      <td></td>\n",
              "      <td>True</td>\n",
              "      <td>False</td>\n",
              "      <td>False</td>\n",
              "    </tr>\n",
              "    <tr>\n",
              "      <th>32</th>\n",
              "      <td>occupied</td>\n",
              "      <td>occupy</td>\n",
              "      <td>VERB</td>\n",
              "      <td>VBN</td>\n",
              "      <td>ROOT</td>\n",
              "      <td></td>\n",
              "      <td>False</td>\n",
              "      <td>False</td>\n",
              "      <td>False</td>\n",
              "    </tr>\n",
              "    <tr>\n",
              "      <th>33</th>\n",
              "      <td>the</td>\n",
              "      <td>the</td>\n",
              "      <td>DET</td>\n",
              "      <td>DT</td>\n",
              "      <td>det</td>\n",
              "      <td></td>\n",
              "      <td>True</td>\n",
              "      <td>False</td>\n",
              "      <td>False</td>\n",
              "    </tr>\n",
              "    <tr>\n",
              "      <th>34</th>\n",
              "      <td>see</td>\n",
              "      <td>see</td>\n",
              "      <td>NOUN</td>\n",
              "      <td>NN</td>\n",
              "      <td>dobj</td>\n",
              "      <td></td>\n",
              "      <td>True</td>\n",
              "      <td>False</td>\n",
              "      <td>False</td>\n",
              "    </tr>\n",
              "    <tr>\n",
              "      <th>35</th>\n",
              "      <td>of</td>\n",
              "      <td>of</td>\n",
              "      <td>ADP</td>\n",
              "      <td>IN</td>\n",
              "      <td>prep</td>\n",
              "      <td></td>\n",
              "      <td>True</td>\n",
              "      <td>False</td>\n",
              "      <td>False</td>\n",
              "    </tr>\n",
              "    <tr>\n",
              "      <th>36</th>\n",
              "      <td>D</td>\n",
              "      <td>D</td>\n",
              "      <td>PROPN</td>\n",
              "      <td>NNP</td>\n",
              "      <td>pobj</td>\n",
              "      <td></td>\n",
              "      <td>False</td>\n",
              "      <td>False</td>\n",
              "      <td>False</td>\n",
              "    </tr>\n",
              "    <tr>\n",
              "      <th>37</th>\n",
              "      <td>—</td>\n",
              "      <td>—</td>\n",
              "      <td>PUNCT</td>\n",
              "      <td>:</td>\n",
              "      <td>punct</td>\n",
              "      <td></td>\n",
              "      <td>False</td>\n",
              "      <td>False</td>\n",
              "      <td>True</td>\n",
              "    </tr>\n",
              "    <tr>\n",
              "      <th>38</th>\n",
              "      <td>—</td>\n",
              "      <td>—</td>\n",
              "      <td>PUNCT</td>\n",
              "      <td>:</td>\n",
              "      <td>punct</td>\n",
              "      <td></td>\n",
              "      <td>False</td>\n",
              "      <td>False</td>\n",
              "      <td>True</td>\n",
              "    </tr>\n",
              "    <tr>\n",
              "      <th>39</th>\n",
              "      <td>since</td>\n",
              "      <td>since</td>\n",
              "      <td>SCONJ</td>\n",
              "      <td>IN</td>\n",
              "      <td>prep</td>\n",
              "      <td></td>\n",
              "      <td>True</td>\n",
              "      <td>False</td>\n",
              "      <td>False</td>\n",
              "    </tr>\n",
              "    <tr>\n",
              "      <th>40</th>\n",
              "      <td>1806</td>\n",
              "      <td>1806</td>\n",
              "      <td>NUM</td>\n",
              "      <td>CD</td>\n",
              "      <td>pobj</td>\n",
              "      <td>DATE</td>\n",
              "      <td>False</td>\n",
              "      <td>True</td>\n",
              "      <td>False</td>\n",
              "    </tr>\n",
              "    <tr>\n",
              "      <th>41</th>\n",
              "      <td>.</td>\n",
              "      <td>.</td>\n",
              "      <td>PUNCT</td>\n",
              "      <td>.</td>\n",
              "      <td>punct</td>\n",
              "      <td></td>\n",
              "      <td>False</td>\n",
              "      <td>False</td>\n",
              "      <td>True</td>\n",
              "    </tr>\n",
              "  </tbody>\n",
              "</table>\n",
              "</div>\n",
              "      <button class=\"colab-df-convert\" onclick=\"convertToInteractive('df-d70602e2-dddd-4b23-ba58-5d28c15ab85a')\"\n",
              "              title=\"Convert this dataframe to an interactive table.\"\n",
              "              style=\"display:none;\">\n",
              "        \n",
              "  <svg xmlns=\"http://www.w3.org/2000/svg\" height=\"24px\"viewBox=\"0 0 24 24\"\n",
              "       width=\"24px\">\n",
              "    <path d=\"M0 0h24v24H0V0z\" fill=\"none\"/>\n",
              "    <path d=\"M18.56 5.44l.94 2.06.94-2.06 2.06-.94-2.06-.94-.94-2.06-.94 2.06-2.06.94zm-11 1L8.5 8.5l.94-2.06 2.06-.94-2.06-.94L8.5 2.5l-.94 2.06-2.06.94zm10 10l.94 2.06.94-2.06 2.06-.94-2.06-.94-.94-2.06-.94 2.06-2.06.94z\"/><path d=\"M17.41 7.96l-1.37-1.37c-.4-.4-.92-.59-1.43-.59-.52 0-1.04.2-1.43.59L10.3 9.45l-7.72 7.72c-.78.78-.78 2.05 0 2.83L4 21.41c.39.39.9.59 1.41.59.51 0 1.02-.2 1.41-.59l7.78-7.78 2.81-2.81c.8-.78.8-2.07 0-2.86zM5.41 20L4 18.59l7.72-7.72 1.47 1.35L5.41 20z\"/>\n",
              "  </svg>\n",
              "      </button>\n",
              "      \n",
              "  <style>\n",
              "    .colab-df-container {\n",
              "      display:flex;\n",
              "      flex-wrap:wrap;\n",
              "      gap: 12px;\n",
              "    }\n",
              "\n",
              "    .colab-df-convert {\n",
              "      background-color: #E8F0FE;\n",
              "      border: none;\n",
              "      border-radius: 50%;\n",
              "      cursor: pointer;\n",
              "      display: none;\n",
              "      fill: #1967D2;\n",
              "      height: 32px;\n",
              "      padding: 0 0 0 0;\n",
              "      width: 32px;\n",
              "    }\n",
              "\n",
              "    .colab-df-convert:hover {\n",
              "      background-color: #E2EBFA;\n",
              "      box-shadow: 0px 1px 2px rgba(60, 64, 67, 0.3), 0px 1px 3px 1px rgba(60, 64, 67, 0.15);\n",
              "      fill: #174EA6;\n",
              "    }\n",
              "\n",
              "    [theme=dark] .colab-df-convert {\n",
              "      background-color: #3B4455;\n",
              "      fill: #D2E3FC;\n",
              "    }\n",
              "\n",
              "    [theme=dark] .colab-df-convert:hover {\n",
              "      background-color: #434B5C;\n",
              "      box-shadow: 0px 1px 3px 1px rgba(0, 0, 0, 0.15);\n",
              "      filter: drop-shadow(0px 1px 2px rgba(0, 0, 0, 0.3));\n",
              "      fill: #FFFFFF;\n",
              "    }\n",
              "  </style>\n",
              "\n",
              "      <script>\n",
              "        const buttonEl =\n",
              "          document.querySelector('#df-d70602e2-dddd-4b23-ba58-5d28c15ab85a button.colab-df-convert');\n",
              "        buttonEl.style.display =\n",
              "          google.colab.kernel.accessAllowed ? 'block' : 'none';\n",
              "\n",
              "        async function convertToInteractive(key) {\n",
              "          const element = document.querySelector('#df-d70602e2-dddd-4b23-ba58-5d28c15ab85a');\n",
              "          const dataTable =\n",
              "            await google.colab.kernel.invokeFunction('convertToInteractive',\n",
              "                                                     [key], {});\n",
              "          if (!dataTable) return;\n",
              "\n",
              "          const docLinkHtml = 'Like what you see? Visit the ' +\n",
              "            '<a target=\"_blank\" href=https://colab.research.google.com/notebooks/data_table.ipynb>data table notebook</a>'\n",
              "            + ' to learn more about interactive tables.';\n",
              "          element.innerHTML = '';\n",
              "          dataTable['output_type'] = 'display_data';\n",
              "          await google.colab.output.renderOutput(dataTable, element);\n",
              "          const docLink = document.createElement('div');\n",
              "          docLink.innerHTML = docLinkHtml;\n",
              "          element.appendChild(docLink);\n",
              "        }\n",
              "      </script>\n",
              "    </div>\n",
              "  </div>\n",
              "  "
            ]
          },
          "metadata": {},
          "execution_count": 31
        }
      ],
      "source": [
        "example_sent = list(example_doc.sents)[0]\n",
        "token_texts = []\n",
        "token_lemmas = []\n",
        "token_poss = []\n",
        "token_tags = []\n",
        "token_deps = []\n",
        "token_ent_types = []\n",
        "token_is_stops = []\n",
        "token_is_digits = []\n",
        "token_is_puncts = []\n",
        "\n",
        "# On boucle sur les tokens\n",
        "for token in example_sent:\n",
        "  if not token.is_space:\n",
        "    token_texts.append(token.text) # Le texte du token\n",
        "    token_lemmas.append(token.lemma_) # Son lemme\n",
        "    token_poss.append(token.pos_) # Son tag POS\n",
        "    token_tags.append(token.tag_) # Son tag POS détaillé\n",
        "    token_deps.append(token.dep_) # Son tag de parsing\n",
        "    token_ent_types.append(token.ent_type_) # Son tag NER (si s'en est un)\n",
        "    token_is_stops.append(token.is_stop) # Si c'est un stopwords\n",
        "    token_is_digits.append(token.is_digit) # Si c'est un chiffre\n",
        "    token_is_puncts.append(token.is_punct) # Si c'est une ponctuation\n",
        "\n",
        "# On affiche dans une DataFrame formatée\n",
        "sentence_data = pd.DataFrame({\"L\": token_texts, \n",
        "                              \"lemma_\": token_lemmas, \n",
        "                              \"pos_\": token_poss, \n",
        "                              \"tag_\": token_tags, \n",
        "                              \"dep_\": token_deps, \n",
        "                              \"ent_type_\": token_ent_types, \n",
        "                              \"is_stop\": token_is_stops, \n",
        "                              \"is_digit\": token_is_digits, \n",
        "                              \"is_punct\": token_is_puncts}) \n",
        "sentence_data"
      ]
    },
    {
      "cell_type": "markdown",
      "source": [
        "Pour le tagging des stopwords, Spacy utilise une liste interne."
      ],
      "metadata": {
        "id": "ydsyG9GvEO4x"
      }
    },
    {
      "cell_type": "code",
      "source": [
        "print(spacy.lang.en.stop_words.STOP_WORDS)"
      ],
      "metadata": {
        "id": "ihrzGNKuDZBg",
        "colab": {
          "base_uri": "https://localhost:8080/"
        },
        "outputId": "d2bea617-d1c9-4da6-845a-e79d08eb30da"
      },
      "execution_count": null,
      "outputs": [
        {
          "output_type": "stream",
          "name": "stdout",
          "text": [
            "{'something', 'become', 'hundred', 'seems', 'always', 'then', 'somewhere', 'eight', 'any', 'either', 'n‘t', 'via', 'yet', 'should', 'its', 'whoever', 'sixty', '’s', 'out', 'anyhow', 'none', 'when', 'this', 'each', 'around', 'moreover', 'toward', 'part', 'hereafter', 'nowhere', 'that', 'yourself', \"'m\", 'up', 'please', 'he', 'down', \"n't\", 'enough', 'mostly', 'who', 'were', 'except', 'done', \"'s\", 'due', '’ll', 'indeed', 'show', 'might', 'beyond', 'to', 'thus', 'fifteen', 'where', 'thereupon', 'their', 'but', 'regarding', 'such', 'you', 'less', 'per', 'thence', 'former', 'everywhere', 'one', 'neither', 'at', 'without', 'on', 'below', 'while', 'could', 'everyone', 'she', 'towards', \"'ll\", 'hereby', 'twelve', 'him', 'every', 'how', 'thereby', 'serious', \"'ve\", 'those', 'already', 'perhaps', 'besides', 'nevertheless', 'not', 'be', 'again', '‘d', 'sometimes', 'mine', 'few', 'although', 'nor', 'do', 'before', 'my', 'can', 'whether', 'a', 'if', 'been', 'almost', 'once', 'thru', 'is', 'itself', 'beforehand', 'hers', 'into', 'formerly', 'many', 'another', 'someone', 'your', 'meanwhile', '‘ll', 'amount', 'beside', 'go', 'never', 'so', 'ca', 'us', 'ever', 'five', 'whither', 'for', '‘m', 'across', 'whenever', 're', 'quite', 'during', 'am', 'was', 'all', 'cannot', 'further', 'sometime', 'nine', 'put', 'also', 'get', 'whereupon', 'other', 'latterly', 'whom', 'very', 'hereupon', 'yourselves', 'or', 'forty', 'between', 'wherever', 'whence', 'upon', 'since', 'third', 'ourselves', 'most', 'over', 'did', 'however', '‘ve', 'call', 'onto', 'because', 'became', 'anyway', 'through', 'front', 'herein', 'himself', 'still', 'fifty', 'noone', 'some', 'bottom', 'i', 'themselves', 'in', 'hence', 'six', '’m', 'latter', 'than', 'has', 'least', 'whole', 'everything', 'give', 'throughout', 'used', 'are', 'well', 'about', 'what', 'anyone', 'these', 'behind', 'our', 'his', 'more', 'whereafter', 'there', 'next', 'same', 'take', 'until', 'me', 'though', 'becomes', 'as', 'whose', 'does', '‘s', 'above', 'rather', 'keep', 'otherwise', 'under', 'now', 'both', 'we', 'herself', '’re', '’d', 'it', 'full', 'made', 'thereafter', 'various', 'see', 'four', 'must', 'else', 'they', 'using', 'even', 'from', 'twenty', 'together', 'only', 'name', 'n’t', 'by', 'afterwards', 'others', 'too', 'seeming', 'the', 'really', 'off', 'move', 'after', 'top', \"'re\", 'would', 'whereas', 'nothing', 'several', 'and', 'empty', 'seemed', 'two', 'elsewhere', 'unless', 'have', 'her', 'much', 'wherein', 'therefore', 'ten', 'anywhere', 'back', 'with', 'ours', 'alone', 'becoming', 'an', 'will', 'why', 'eleven', 'just', \"'d\", 'often', 'whatever', 'therein', 'here', 'nobody', 'somehow', 'may', 'whereby', 'them', 'doing', 'along', 'anything', 'say', '‘re', 'within', 'which', 'make', 'being', 'had', 'no', 'amongst', 'against', 'last', 'first', 'among', 'myself', 'seem', 'of', 'yours', 'side', 'namely', 'three', '’ve', 'own'}\n"
          ]
        }
      ]
    },
    {
      "cell_type": "markdown",
      "source": [
        "Il est possible d'étendre cette liste de la manière suivante (une liste de stopwords universelle n'existe pas)."
      ],
      "metadata": {
        "id": "BrSq9c8IEX_z"
      }
    },
    {
      "cell_type": "code",
      "source": [
        "new_stopwords = [\"say\", \"says\", \"saying\", \"said\"]\n",
        "for stopword in new_stopwords:\n",
        "  nlp.vocab[stopword].is_stop = True"
      ],
      "metadata": {
        "id": "slkIjt56CwQ9"
      },
      "execution_count": null,
      "outputs": []
    },
    {
      "cell_type": "markdown",
      "source": [
        "Pour obtenir les statistiques du corpus, nous allons créer une fonction qui les calcule et qui retourne un dictionnaire. Cette fonction va se lancer sur tous les documents de notre corpus."
      ],
      "metadata": {
        "id": "3hOIyQSzFCo4"
      }
    },
    {
      "cell_type": "code",
      "execution_count": null,
      "metadata": {
        "id": "Has9GyIi3p_Q"
      },
      "outputs": [],
      "source": [
        "def get_statistics(doc):\n",
        "  \n",
        "  lemmas = []\n",
        "  poss = []\n",
        "\n",
        "  # On boucle sur les tokens, et on sauve leur lemme et leur tag POS\n",
        "  for token in doc:\n",
        "    if not (token.is_stop or token.is_punct or token.is_space):\n",
        "      lemmas.append(token.lemma_.lower())\n",
        "      poss.append(token.pos_)\n",
        "\n",
        "  # On boucle sur doc.ents pour obtenir les entités de type \"PERSON\"\n",
        "  pers = [ent.text for ent in doc.ents if ent.label_==\"PERSON\"]  \n",
        "\n",
        "  # Grâce à collections.Counter(), on crée des dictionnaires contenant la\n",
        "  # fréquence des différents éléments.\n",
        "  lemma_counts = collections.Counter(lemmas)\n",
        "  pos_counts = collections.Counter(poss)\n",
        "  per_counts = collections.Counter(pers)\n",
        "\n",
        "  statistic_dict = {\n",
        "      \"n_tokens\": len(doc), # Le nombre de tokens \n",
        "      \"n_lemmas\": len(lemmas), # Le nombre de lemmes\n",
        "      \"n_lemma_types\": len(set(lemmas)), # le nombre de lemmes unique\n",
        "      \"top_5_lemmas\": {lemma: count for lemma, count in # Les 5 lemmes les plus fréquents\n",
        "                       sorted(lemma_counts.items(), \n",
        "                              key=lambda item: item[1],\n",
        "                              reverse=True)[:6]},\n",
        "      \"pos_distrib\": {pos: round(count/len(lemmas)*100, 2) for pos, count in # La distribution des tag POS\n",
        "                      sorted(pos_counts.items(), \n",
        "                             key=lambda item: item[1],\n",
        "                             reverse=True)},\n",
        "      \"top_5_pers\": {per: count for per, count in # Les 5 personnages les plus fréquents\n",
        "                     sorted(per_counts.items(), \n",
        "                            key=lambda item: item[1],\n",
        "                            reverse=True)[:6]},\n",
        "  }\n",
        "  \n",
        "  return(statistic_dict)"
      ]
    },
    {
      "cell_type": "markdown",
      "source": [
        "En appliquant cette fonction à notre objet d'exemple, on obtient les statistiques."
      ],
      "metadata": {
        "id": "KCDY2HsoGGhY"
      }
    },
    {
      "cell_type": "code",
      "execution_count": null,
      "metadata": {
        "colab": {
          "base_uri": "https://localhost:8080/"
        },
        "id": "1s_sgkT5p9qG",
        "outputId": "77ac0c11-d838-4b3d-a4e6-bf1e11d34c65"
      },
      "outputs": [
        {
          "output_type": "execute_result",
          "data": {
            "text/plain": [
              "{'n_tokens': 31113,\n",
              " 'n_lemmas': 9714,\n",
              " 'n_lemma_types': 3419,\n",
              " 'top_5_lemmas': {'bishop': 181,\n",
              "  'man': 127,\n",
              "  'good': 66,\n",
              "  'old': 46,\n",
              "  'monseigneur': 44,\n",
              "  'god': 44},\n",
              " 'pos_distrib': {'NOUN': 46.41,\n",
              "  'VERB': 23.8,\n",
              "  'ADJ': 13.09,\n",
              "  'PROPN': 11.75,\n",
              "  'ADV': 2.56,\n",
              "  'NUM': 0.91,\n",
              "  'ADP': 0.54,\n",
              "  'AUX': 0.35,\n",
              "  'X': 0.28,\n",
              "  'INTJ': 0.25,\n",
              "  'DET': 0.03,\n",
              "  'SCONJ': 0.02,\n",
              "  'PRON': 0.02},\n",
              " 'top_5_pers': {'Madame Magloire': 14,\n",
              "  'Magloire': 5,\n",
              "  'Madam Magloire': 4,\n",
              "  'M. Myriel': 3,\n",
              "  'Providence': 3,\n",
              "  'Curé': 2}}"
            ]
          },
          "metadata": {},
          "execution_count": 35
        }
      ],
      "source": [
        "get_statistics(example_doc)"
      ]
    },
    {
      "cell_type": "markdown",
      "source": [
        "Nous allons maintenant créer une fonction qui sauve le document pré-traité dans un fichier donné en argument. On va sauver chaque phrase dans une ligne séparée, pour pouvoir les retrouver par la suite."
      ],
      "metadata": {
        "id": "pveXg8qAGQTa"
      }
    },
    {
      "cell_type": "code",
      "execution_count": null,
      "metadata": {
        "id": "BN76hTz4ksPU"
      },
      "outputs": [],
      "source": [
        "def save_preprocess_doc(doc, output_path):\n",
        "  \n",
        "  with open(output_path, \"w\") as output_file:\n",
        "    # l'attibut doc.sents de Spacy contient les phrases, on boucle dessus\n",
        "    for sent in doc.sents:\n",
        "      line = \"\"\n",
        "      # On boucle sur les tokens\n",
        "      for token in sent:\n",
        "        # On ne garde que les token qui ne sont pas des stopwords, \n",
        "        # des ponctuations ou des espaces.\n",
        "        if not (token.is_stop or token.is_punct or token.is_space):\n",
        "          # On écrit le lemme, en minuscule\n",
        "          line += f\"{token.lemma_.lower()} \"\n",
        "      # Si la ligne n'est pas vide, on l'écrit dans le fichier\n",
        "      if re.sub(r\"\\s+\", \"\", line) != \"\":\n",
        "        output_file.write(line[:-1] + \"\\n\")"
      ]
    },
    {
      "cell_type": "markdown",
      "source": [
        "On peut tester notre fonction sur notre document d'exemple."
      ],
      "metadata": {
        "id": "KMc1gJgAHwte"
      }
    },
    {
      "cell_type": "code",
      "execution_count": null,
      "metadata": {
        "id": "qh6dNm2Znfx0"
      },
      "outputs": [],
      "source": [
        "save_preprocess_doc(example_doc, \"example_pp.txt\")"
      ]
    },
    {
      "cell_type": "markdown",
      "source": [
        "On va maintenant appliquer nos fonctions sur tous les documents. On fait une boucle sur les noms des fichiers, on charge le document, on le transforme en objet Spacy, puis on lance nos fonctions. Les fichiers traités sont sauvegardés dans un nouveau dossier et les résultats des statistiques sont enregistrés dans une DataFrame, que l'on affiche."
      ],
      "metadata": {
        "id": "cVYP2qoVH2ee"
      }
    },
    {
      "cell_type": "code",
      "execution_count": null,
      "metadata": {
        "colab": {
          "base_uri": "https://localhost:8080/",
          "height": 1000
        },
        "id": "83qw-bzNbMcX",
        "outputId": "f11ecead-e732-4bfc-ebf9-4ba74dd98c2b"
      },
      "outputs": [
        {
          "output_type": "stream",
          "name": "stderr",
          "text": [
            "100%|██████████| 49/49 [01:33<00:00,  1.91s/it]\n"
          ]
        },
        {
          "output_type": "execute_result",
          "data": {
            "text/plain": [
              "   n_tokens n_lemmas n_lemma_types  \\\n",
              "0       149       63            56   \n",
              "1     31113     9714          3419   \n",
              "2     29786     9463          2789   \n",
              "3     15259     5327          2624   \n",
              "4      6719     2150          1154   \n",
              "5     21198     6771          2413   \n",
              "6      6026     1822           894   \n",
              "7     36967    11066          2934   \n",
              "8      9542     2952          1242   \n",
              "9     29083    10286          3302   \n",
              "10     7566     2556          1367   \n",
              "11    27681     8692          2642   \n",
              "12     8324     2860          1349   \n",
              "13    15973     5292          1942   \n",
              "14    15696     5349          2180   \n",
              "15     6195     1986          1165   \n",
              "16    24528     7511          2434   \n",
              "17    10143     3509          2079   \n",
              "18     5230     1730          1107   \n",
              "19    19476     6362          2611   \n",
              "20    16377     5429          2645   \n",
              "21    10709     3454          1674   \n",
              "22     9228     2941          1307   \n",
              "23     4352     1416           931   \n",
              "24    45740    14086          3451   \n",
              "25    18643     6239          2643   \n",
              "26     9222     2861          1372   \n",
              "27    19010     6227          2435   \n",
              "28     5147     1616           926   \n",
              "29     8297     2540          1162   \n",
              "30    19202     6144          2267   \n",
              "31    12250     4209          2184   \n",
              "32    18246     5487          2011   \n",
              "33     3868     1278           763   \n",
              "34    11318     4020          1952   \n",
              "35     5879     1920          1078   \n",
              "36    16622     5881          2547   \n",
              "37     5686     1915          1095   \n",
              "38     8872     2801          1214   \n",
              "39     9152     3065          1504   \n",
              "40    42720    14285          4025   \n",
              "41     9729     3536          1897   \n",
              "42    21729     7248          2459   \n",
              "43     6096     1956          1120   \n",
              "44    16027     5172          2269   \n",
              "45    12556     4130          1944   \n",
              "46    13141     3785          1489   \n",
              "47     6605     2063           956   \n",
              "48    18018     5596          1975   \n",
              "\n",
              "                                         top_5_lemmas  \\\n",
              "0   {'long': 4, 'les': 2, 'misérables': 2, 'exist'...   \n",
              "1   {'bishop': 181, 'man': 127, 'good': 66, 'old':...   \n",
              "2   {'man': 162, 'jean': 100, 'valjean': 99, 'bish...   \n",
              "3   {'tholomyès': 52, 'de': 43, 'favourite': 41, '...   \n",
              "4   {'child': 43, 'mother': 38, 'little': 36, 'thé...   \n",
              "5   {'m.': 98, 'madeleine': 94, 'man': 93, 'javert...   \n",
              "6   {'m.': 39, 'javert': 38, 'madeleine': 37, 'may...   \n",
              "7   {'man': 138, 'm.': 95, 'go': 63, 'little': 62,...   \n",
              "8   {'javert': 48, 'm.': 42, 'fantine': 38, 'jean'...   \n",
              "9   {'man': 90, 'english': 88, 'battle': 81, 'wate...   \n",
              "10  {'man': 29, 'boulatruelle': 23, 'm.': 20, 'fal...   \n",
              "11  {'thénardier': 174, 'cosette': 154, 'man': 150...   \n",
              "12  {'jean': 48, 'valjean': 48, 'old': 34, 'cosett...   \n",
              "13  {'jean': 116, 'valjean': 115, 'javert': 64, 'm...   \n",
              "14  {'convent': 55, 'mother': 53, 'nun': 43, 'de':...   \n",
              "15  {'man': 27, 'infinite': 18, 'convent': 17, 'ph...   \n",
              "16  {'fauchelevent': 183, 'man': 96, 'jean': 91, '...   \n",
              "17  {'paris': 56, 'child': 38, 'gamin': 36, 'littl...   \n",
              "18  {'m.': 29, 'gillenormand': 29, 'man': 23, 'gre...   \n",
              "19  {'marius': 95, 'm.': 68, 'de': 63, 'man': 63, ...   \n",
              "20  {'marius': 55, 'man': 54, 'enjolras': 39, 'cou...   \n",
              "21  {'marius': 65, 'm.': 36, 'old': 32, 'man': 31,...   \n",
              "22  {'marius': 81, 'day': 36, 'girl': 35, 'bench':...   \n",
              "23  {'man': 21, 'low': 9, 'social': 9, 'work': 8, ...   \n",
              "24  {'marius': 233, 'man': 185, 'jondrette': 147, ...   \n",
              "25  {'man': 83, 'revolution': 54, 'right': 46, 'lo...   \n",
              "26  {'marius': 55, 'man': 32, 'know': 25, 'long': ...   \n",
              "27  {'cosette': 117, 'jean': 99, 'valjean': 99, 'm...   \n",
              "28  {'gavroche': 30, 'man': 27, 'old': 26, 'montpa...   \n",
              "29  {'cosette': 52, 'love': 52, 'think': 23, 'soul...   \n",
              "30  {'gavroche': 124, 'child': 53, 'thénardier': 5...   \n",
              "31  {'slang': 74, 'word': 37, 'man': 35, 'le': 31,...   \n",
              "32  {'marius': 151, 'cosette': 83, 'man': 53, 'com...   \n",
              "33  {'go': 19, 'cosette': 14, 'mabeuf': 14, 'day':...   \n",
              "34  {'rue': 43, 'man': 37, 'insurrection': 29, 're...   \n",
              "35  {'gavroche': 26, 'man': 18, 'old': 17, 'pistol...   \n",
              "36  {'rue': 56, 'man': 51, 'de': 48, 'barricade': ...   \n",
              "37  {'war': 27, 'street': 22, 'rue': 20, 'man': 16...   \n",
              "38  {'marius': 61, 'barricade': 47, 'enjolras': 25...   \n",
              "39  {'jean': 58, 'valjean': 58, 'cosette': 40, 'ga...   \n",
              "40  {'barricade': 167, 'man': 151, 'enjolras': 117...   \n",
              "41  {'sewer': 97, 'paris': 57, 'rue': 45, 'city': ...   \n",
              "42  {'jean': 127, 'valjean': 126, 'man': 97, 'mari...   \n",
              "43  {'javert': 40, 'man': 26, 'jean': 20, 'valjean...   \n",
              "44  {'marius': 91, 'man': 73, 'cosette': 62, 'm.':...   \n",
              "45  {'cosette': 57, 'jean': 39, 'valjean': 38, 'ma...   \n",
              "46  {'marius': 84, 'jean': 79, 'valjean': 79, 'cos...   \n",
              "47  {'jean': 64, 'valjean': 47, 'cosette': 47, 'da...   \n",
              "48  {'marius': 99, 'man': 90, 'cosette': 86, 'jean...   \n",
              "\n",
              "                                          pos_distrib  \\\n",
              "0   {'NOUN': 49.21, 'ADJ': 14.29, 'PROPN': 12.7, '...   \n",
              "1   {'NOUN': 46.41, 'VERB': 23.8, 'ADJ': 13.09, 'P...   \n",
              "2   {'NOUN': 45.74, 'VERB': 26.62, 'ADJ': 12.74, '...   \n",
              "3   {'NOUN': 42.05, 'VERB': 21.34, 'PROPN': 19.24,...   \n",
              "4   {'NOUN': 46.42, 'VERB': 23.21, 'ADJ': 15.91, '...   \n",
              "5   {'NOUN': 45.44, 'VERB': 25.74, 'ADJ': 13.87, '...   \n",
              "6   {'NOUN': 38.75, 'VERB': 26.89, 'PROPN': 18.72,...   \n",
              "7   {'NOUN': 44.34, 'VERB': 28.28, 'ADJ': 12.21, '...   \n",
              "8   {'NOUN': 41.77, 'VERB': 28.01, 'PROPN': 12.8, ...   \n",
              "9   {'NOUN': 46.91, 'VERB': 22.34, 'PROPN': 14.51,...   \n",
              "10  {'NOUN': 49.92, 'VERB': 24.96, 'ADJ': 10.92, '...   \n",
              "11  {'NOUN': 45.26, 'VERB': 26.84, 'ADJ': 13.14, '...   \n",
              "12  {'NOUN': 45.59, 'VERB': 24.13, 'ADJ': 13.81, '...   \n",
              "13  {'NOUN': 41.67, 'VERB': 25.47, 'PROPN': 15.4, ...   \n",
              "14  {'NOUN': 45.0, 'VERB': 20.15, 'PROPN': 16.38, ...   \n",
              "15  {'NOUN': 52.82, 'VERB': 21.05, 'ADJ': 15.96, '...   \n",
              "16  {'NOUN': 43.44, 'VERB': 25.06, 'PROPN': 15.36,...   \n",
              "17  {'NOUN': 45.57, 'VERB': 21.15, 'PROPN': 15.39,...   \n",
              "18  {'NOUN': 43.01, 'VERB': 20.81, 'ADJ': 14.8, 'P...   \n",
              "19  {'NOUN': 42.46, 'VERB': 22.93, 'PROPN': 17.04,...   \n",
              "20  {'NOUN': 43.23, 'VERB': 22.27, 'PROPN': 16.36,...   \n",
              "21  {'NOUN': 45.6, 'VERB': 24.9, 'ADJ': 12.71, 'PR...   \n",
              "22  {'NOUN': 42.71, 'VERB': 26.76, 'ADJ': 14.82, '...   \n",
              "23  {'NOUN': 50.49, 'VERB': 19.21, 'ADJ': 15.04, '...   \n",
              "24  {'NOUN': 44.19, 'VERB': 27.61, 'ADJ': 12.29, '...   \n",
              "25  {'NOUN': 46.5, 'VERB': 20.87, 'ADJ': 14.25, 'P...   \n",
              "26  {'NOUN': 42.29, 'VERB': 26.49, 'PROPN': 13.81,...   \n",
              "27  {'NOUN': 45.7, 'VERB': 24.54, 'ADJ': 14.69, 'P...   \n",
              "28  {'NOUN': 44.68, 'VERB': 26.79, 'ADJ': 13.99, '...   \n",
              "29  {'NOUN': 46.65, 'VERB': 28.03, 'ADJ': 12.28, '...   \n",
              "30  {'NOUN': 44.74, 'VERB': 26.24, 'ADJ': 12.22, '...   \n",
              "31  {'NOUN': 50.53, 'VERB': 20.65, 'ADJ': 15.04, '...   \n",
              "32  {'NOUN': 40.51, 'VERB': 28.07, 'ADJ': 12.43, '...   \n",
              "33  {'NOUN': 40.61, 'VERB': 27.0, 'PROPN': 16.04, ...   \n",
              "34  {'NOUN': 48.21, 'VERB': 20.2, 'PROPN': 15.1, '...   \n",
              "35  {'NOUN': 42.45, 'VERB': 23.18, 'PROPN': 18.54,...   \n",
              "36  {'NOUN': 42.24, 'VERB': 22.45, 'PROPN': 18.31,...   \n",
              "37  {'NOUN': 46.58, 'VERB': 23.86, 'ADJ': 14.36, '...   \n",
              "38  {'NOUN': 41.16, 'VERB': 28.67, 'PROPN': 12.82,...   \n",
              "39  {'NOUN': 42.71, 'VERB': 24.47, 'PROPN': 16.15,...   \n",
              "40  {'NOUN': 48.72, 'VERB': 25.13, 'ADJ': 11.76, '...   \n",
              "41  {'NOUN': 47.45, 'VERB': 18.27, 'PROPN': 15.07,...   \n",
              "42  {'NOUN': 45.06, 'VERB': 26.13, 'ADJ': 12.24, '...   \n",
              "43  {'NOUN': 46.47, 'VERB': 25.56, 'ADJ': 14.52, '...   \n",
              "44  {'NOUN': 42.11, 'VERB': 23.45, 'PROPN': 15.24,...   \n",
              "45  {'NOUN': 45.4, 'VERB': 23.27, 'ADJ': 14.0, 'PR...   \n",
              "46  {'NOUN': 39.31, 'VERB': 28.85, 'PROPN': 13.08,...   \n",
              "47  {'NOUN': 36.06, 'VERB': 27.24, 'PROPN': 16.58,...   \n",
              "48  {'NOUN': 40.01, 'VERB': 27.72, 'PROPN': 13.3, ...   \n",
              "\n",
              "                                           top_5_pers  \n",
              "0          {'LES MISÉRABLES': 1, 'Les Misérables': 1}  \n",
              "1   {'Madame Magloire': 14, 'Magloire': 5, 'Madam ...  \n",
              "2   {'Jean Valjean': 73, 'Madame Magloire': 18, 'L...  \n",
              "3   {'Fantine': 36, 'Tholomyès': 19, 'Favourite': ...  \n",
              "4   {'Fantine': 8, 'Cosette': 5, 'Madame Thénardie...  \n",
              "5   {'Fantine': 54, 'Madeleine': 45, 'M. Madeleine...  \n",
              "6   {'M. Madeleine': 33, 'Mayor': 21, 'Fantine': 1...  \n",
              "7   {'Fantine': 35, 'M. Madeleine': 33, 'Jean Valj...  \n",
              "8   {'Fantine': 37, 'Jean Valjean': 23, 'M. Madele...  \n",
              "9   {'Waterloo': 70, 'Blücher': 21, 'Cambronne': 7...  \n",
              "10  {'Jean Valjean': 14, 'Boulatruelle': 8, 'M. Ma...  \n",
              "11  {'Cosette': 75, 'Thénardier': 59, 'Madame Thén...  \n",
              "12  {'Jean Valjean': 38, 'Cosette': 13, 'Salpêtriè...  \n",
              "13  {'Jean Valjean': 84, 'Cosette': 16, 'Jean\n",
              "Valj...  \n",
              "14  {'Martin Verga': 9, 'Madame Albertine': 4, 'Je...  \n",
              "15  {'Babel': 1, 'Labarre': 1, 'Sirven': 1, 'Thil'...  \n",
              "16  {'Jean Valjean': 66, 'Mestienne': 20, 'Mother'...  \n",
              "17  {'Jack': 2, 'Neuilly': 2, 'Louis XV': 2, 'Barr...  \n",
              "18  {'M. Gillenormand': 14, 'Marais': 2, 'Louis XI...  \n",
              "19  {'M. Gillenormand': 31, 'Théodule': 17, 'Water...  \n",
              "20  {'Combeferre': 9, 'Joly': 6, 'Laigle de Meaux'...  \n",
              "21  {'M. Mabeuf': 18, 'Théodule': 13, 'M. Gillenor...  \n",
              "22  {'M. Leblanc': 14, 'Ursule': 3, 'Monsieur Lebl...  \n",
              "23  {'Babeuf': 3, 'Gueulemer': 3, 'Luther': 2, 'Co...  \n",
              "24  {'Jondrette': 102, 'M. Leblanc': 72, 'Thénardi...  \n",
              "25  {'Louis Philippe': 21, 'Robespierre': 5, 'Gran...  \n",
              "26  {'M. Mabeuf': 8, 'Thénardier': 6, 'Magnon': 5,...  \n",
              "27  {'Jean Valjean': 73, 'Cosette': 46, 'Jean\n",
              "Valj...  \n",
              "28  {'Jean Valjean': 8, 'Cosette': 8, 'Gavroche': ...  \n",
              "29  {'Cosette': 32, 'Jean Valjean': 11, 'Théodule ...  \n",
              "30  {'Gavroche': 37, 'Thénardier': 26, 'Magnon': 1...  \n",
              "31  {'Slang': 5, 'Levantine': 3, 'Thunes': 3, 'Rou...  \n",
              "32  {'Cosette': 30, 'M. Gillenormand': 13, 'Thénar...  \n",
              "33  {'M. Mabeuf': 10, 'Cosette': 6, 'Jean Valjean'...  \n",
              "34  {'Mavot': 3, 'Danton': 2, 'Lombier': 2, 'Grève...  \n",
              "35  {'Gavroche': 6, 'Louis XVIII': 2, 'Patagon': 2...  \n",
              "36  {'Joly': 19, 'Grantaire': 12, 'Laigle': 9, 'Ga...  \n",
              "37  {'Place': 1, 'Saint-Martin': 1, 'Saint-Jacques...  \n",
              "38  {'Enjolras': 5, 'Combeferre': 5, 'Gavroche': 4...  \n",
              "39  {'Jean Valjean': 44, 'Gavroche': 12, 'Cosette'...  \n",
              "40  {'Jean Valjean': 42, 'Combeferre': 16, 'Enjolr...  \n",
              "41  {'Bruneseau': 3, 'Nineveh': 2, 'Henri II': 2, ...  \n",
              "42  {'Jean Valjean': 93, 'Thénardier': 16, 'Jean\n",
              "V...  \n",
              "43  {'Jean Valjean': 17, 'Javert': 1, 'Grève': 1, ...  \n",
              "44  {'M. Gillenormand': 18, 'Cosette': 16, 'Jean V...  \n",
              "45  {'Jean Valjean': 29, 'Cosette': 12, 'M. Gillen...  \n",
              "46  {'Jean Valjean': 57, 'Cosette': 28, 'Jean\n",
              "Valj...  \n",
              "47  {'Jean Valjean': 37, 'Cosette': 22, 'Nicolette...  \n",
              "48  {'Jean Valjean': 54, 'Cosette': 39, 'Thénardie...  "
            ],
            "text/html": [
              "\n",
              "  <div id=\"df-31b67bcf-5d48-4103-87b4-86a274036827\">\n",
              "    <div class=\"colab-df-container\">\n",
              "      <div>\n",
              "<style scoped>\n",
              "    .dataframe tbody tr th:only-of-type {\n",
              "        vertical-align: middle;\n",
              "    }\n",
              "\n",
              "    .dataframe tbody tr th {\n",
              "        vertical-align: top;\n",
              "    }\n",
              "\n",
              "    .dataframe thead th {\n",
              "        text-align: right;\n",
              "    }\n",
              "</style>\n",
              "<table border=\"1\" class=\"dataframe\">\n",
              "  <thead>\n",
              "    <tr style=\"text-align: right;\">\n",
              "      <th></th>\n",
              "      <th>n_tokens</th>\n",
              "      <th>n_lemmas</th>\n",
              "      <th>n_lemma_types</th>\n",
              "      <th>top_5_lemmas</th>\n",
              "      <th>pos_distrib</th>\n",
              "      <th>top_5_pers</th>\n",
              "    </tr>\n",
              "  </thead>\n",
              "  <tbody>\n",
              "    <tr>\n",
              "      <th>0</th>\n",
              "      <td>149</td>\n",
              "      <td>63</td>\n",
              "      <td>56</td>\n",
              "      <td>{'long': 4, 'les': 2, 'misérables': 2, 'exist'...</td>\n",
              "      <td>{'NOUN': 49.21, 'ADJ': 14.29, 'PROPN': 12.7, '...</td>\n",
              "      <td>{'LES MISÉRABLES': 1, 'Les Misérables': 1}</td>\n",
              "    </tr>\n",
              "    <tr>\n",
              "      <th>1</th>\n",
              "      <td>31113</td>\n",
              "      <td>9714</td>\n",
              "      <td>3419</td>\n",
              "      <td>{'bishop': 181, 'man': 127, 'good': 66, 'old':...</td>\n",
              "      <td>{'NOUN': 46.41, 'VERB': 23.8, 'ADJ': 13.09, 'P...</td>\n",
              "      <td>{'Madame Magloire': 14, 'Magloire': 5, 'Madam ...</td>\n",
              "    </tr>\n",
              "    <tr>\n",
              "      <th>2</th>\n",
              "      <td>29786</td>\n",
              "      <td>9463</td>\n",
              "      <td>2789</td>\n",
              "      <td>{'man': 162, 'jean': 100, 'valjean': 99, 'bish...</td>\n",
              "      <td>{'NOUN': 45.74, 'VERB': 26.62, 'ADJ': 12.74, '...</td>\n",
              "      <td>{'Jean Valjean': 73, 'Madame Magloire': 18, 'L...</td>\n",
              "    </tr>\n",
              "    <tr>\n",
              "      <th>3</th>\n",
              "      <td>15259</td>\n",
              "      <td>5327</td>\n",
              "      <td>2624</td>\n",
              "      <td>{'tholomyès': 52, 'de': 43, 'favourite': 41, '...</td>\n",
              "      <td>{'NOUN': 42.05, 'VERB': 21.34, 'PROPN': 19.24,...</td>\n",
              "      <td>{'Fantine': 36, 'Tholomyès': 19, 'Favourite': ...</td>\n",
              "    </tr>\n",
              "    <tr>\n",
              "      <th>4</th>\n",
              "      <td>6719</td>\n",
              "      <td>2150</td>\n",
              "      <td>1154</td>\n",
              "      <td>{'child': 43, 'mother': 38, 'little': 36, 'thé...</td>\n",
              "      <td>{'NOUN': 46.42, 'VERB': 23.21, 'ADJ': 15.91, '...</td>\n",
              "      <td>{'Fantine': 8, 'Cosette': 5, 'Madame Thénardie...</td>\n",
              "    </tr>\n",
              "    <tr>\n",
              "      <th>5</th>\n",
              "      <td>21198</td>\n",
              "      <td>6771</td>\n",
              "      <td>2413</td>\n",
              "      <td>{'m.': 98, 'madeleine': 94, 'man': 93, 'javert...</td>\n",
              "      <td>{'NOUN': 45.44, 'VERB': 25.74, 'ADJ': 13.87, '...</td>\n",
              "      <td>{'Fantine': 54, 'Madeleine': 45, 'M. Madeleine...</td>\n",
              "    </tr>\n",
              "    <tr>\n",
              "      <th>6</th>\n",
              "      <td>6026</td>\n",
              "      <td>1822</td>\n",
              "      <td>894</td>\n",
              "      <td>{'m.': 39, 'javert': 38, 'madeleine': 37, 'may...</td>\n",
              "      <td>{'NOUN': 38.75, 'VERB': 26.89, 'PROPN': 18.72,...</td>\n",
              "      <td>{'M. Madeleine': 33, 'Mayor': 21, 'Fantine': 1...</td>\n",
              "    </tr>\n",
              "    <tr>\n",
              "      <th>7</th>\n",
              "      <td>36967</td>\n",
              "      <td>11066</td>\n",
              "      <td>2934</td>\n",
              "      <td>{'man': 138, 'm.': 95, 'go': 63, 'little': 62,...</td>\n",
              "      <td>{'NOUN': 44.34, 'VERB': 28.28, 'ADJ': 12.21, '...</td>\n",
              "      <td>{'Fantine': 35, 'M. Madeleine': 33, 'Jean Valj...</td>\n",
              "    </tr>\n",
              "    <tr>\n",
              "      <th>8</th>\n",
              "      <td>9542</td>\n",
              "      <td>2952</td>\n",
              "      <td>1242</td>\n",
              "      <td>{'javert': 48, 'm.': 42, 'fantine': 38, 'jean'...</td>\n",
              "      <td>{'NOUN': 41.77, 'VERB': 28.01, 'PROPN': 12.8, ...</td>\n",
              "      <td>{'Fantine': 37, 'Jean Valjean': 23, 'M. Madele...</td>\n",
              "    </tr>\n",
              "    <tr>\n",
              "      <th>9</th>\n",
              "      <td>29083</td>\n",
              "      <td>10286</td>\n",
              "      <td>3302</td>\n",
              "      <td>{'man': 90, 'english': 88, 'battle': 81, 'wate...</td>\n",
              "      <td>{'NOUN': 46.91, 'VERB': 22.34, 'PROPN': 14.51,...</td>\n",
              "      <td>{'Waterloo': 70, 'Blücher': 21, 'Cambronne': 7...</td>\n",
              "    </tr>\n",
              "    <tr>\n",
              "      <th>10</th>\n",
              "      <td>7566</td>\n",
              "      <td>2556</td>\n",
              "      <td>1367</td>\n",
              "      <td>{'man': 29, 'boulatruelle': 23, 'm.': 20, 'fal...</td>\n",
              "      <td>{'NOUN': 49.92, 'VERB': 24.96, 'ADJ': 10.92, '...</td>\n",
              "      <td>{'Jean Valjean': 14, 'Boulatruelle': 8, 'M. Ma...</td>\n",
              "    </tr>\n",
              "    <tr>\n",
              "      <th>11</th>\n",
              "      <td>27681</td>\n",
              "      <td>8692</td>\n",
              "      <td>2642</td>\n",
              "      <td>{'thénardier': 174, 'cosette': 154, 'man': 150...</td>\n",
              "      <td>{'NOUN': 45.26, 'VERB': 26.84, 'ADJ': 13.14, '...</td>\n",
              "      <td>{'Cosette': 75, 'Thénardier': 59, 'Madame Thén...</td>\n",
              "    </tr>\n",
              "    <tr>\n",
              "      <th>12</th>\n",
              "      <td>8324</td>\n",
              "      <td>2860</td>\n",
              "      <td>1349</td>\n",
              "      <td>{'jean': 48, 'valjean': 48, 'old': 34, 'cosett...</td>\n",
              "      <td>{'NOUN': 45.59, 'VERB': 24.13, 'ADJ': 13.81, '...</td>\n",
              "      <td>{'Jean Valjean': 38, 'Cosette': 13, 'Salpêtriè...</td>\n",
              "    </tr>\n",
              "    <tr>\n",
              "      <th>13</th>\n",
              "      <td>15973</td>\n",
              "      <td>5292</td>\n",
              "      <td>1942</td>\n",
              "      <td>{'jean': 116, 'valjean': 115, 'javert': 64, 'm...</td>\n",
              "      <td>{'NOUN': 41.67, 'VERB': 25.47, 'PROPN': 15.4, ...</td>\n",
              "      <td>{'Jean Valjean': 84, 'Cosette': 16, 'Jean\n",
              "Valj...</td>\n",
              "    </tr>\n",
              "    <tr>\n",
              "      <th>14</th>\n",
              "      <td>15696</td>\n",
              "      <td>5349</td>\n",
              "      <td>2180</td>\n",
              "      <td>{'convent': 55, 'mother': 53, 'nun': 43, 'de':...</td>\n",
              "      <td>{'NOUN': 45.0, 'VERB': 20.15, 'PROPN': 16.38, ...</td>\n",
              "      <td>{'Martin Verga': 9, 'Madame Albertine': 4, 'Je...</td>\n",
              "    </tr>\n",
              "    <tr>\n",
              "      <th>15</th>\n",
              "      <td>6195</td>\n",
              "      <td>1986</td>\n",
              "      <td>1165</td>\n",
              "      <td>{'man': 27, 'infinite': 18, 'convent': 17, 'ph...</td>\n",
              "      <td>{'NOUN': 52.82, 'VERB': 21.05, 'ADJ': 15.96, '...</td>\n",
              "      <td>{'Babel': 1, 'Labarre': 1, 'Sirven': 1, 'Thil'...</td>\n",
              "    </tr>\n",
              "    <tr>\n",
              "      <th>16</th>\n",
              "      <td>24528</td>\n",
              "      <td>7511</td>\n",
              "      <td>2434</td>\n",
              "      <td>{'fauchelevent': 183, 'man': 96, 'jean': 91, '...</td>\n",
              "      <td>{'NOUN': 43.44, 'VERB': 25.06, 'PROPN': 15.36,...</td>\n",
              "      <td>{'Jean Valjean': 66, 'Mestienne': 20, 'Mother'...</td>\n",
              "    </tr>\n",
              "    <tr>\n",
              "      <th>17</th>\n",
              "      <td>10143</td>\n",
              "      <td>3509</td>\n",
              "      <td>2079</td>\n",
              "      <td>{'paris': 56, 'child': 38, 'gamin': 36, 'littl...</td>\n",
              "      <td>{'NOUN': 45.57, 'VERB': 21.15, 'PROPN': 15.39,...</td>\n",
              "      <td>{'Jack': 2, 'Neuilly': 2, 'Louis XV': 2, 'Barr...</td>\n",
              "    </tr>\n",
              "    <tr>\n",
              "      <th>18</th>\n",
              "      <td>5230</td>\n",
              "      <td>1730</td>\n",
              "      <td>1107</td>\n",
              "      <td>{'m.': 29, 'gillenormand': 29, 'man': 23, 'gre...</td>\n",
              "      <td>{'NOUN': 43.01, 'VERB': 20.81, 'ADJ': 14.8, 'P...</td>\n",
              "      <td>{'M. Gillenormand': 14, 'Marais': 2, 'Louis XI...</td>\n",
              "    </tr>\n",
              "    <tr>\n",
              "      <th>19</th>\n",
              "      <td>19476</td>\n",
              "      <td>6362</td>\n",
              "      <td>2611</td>\n",
              "      <td>{'marius': 95, 'm.': 68, 'de': 63, 'man': 63, ...</td>\n",
              "      <td>{'NOUN': 42.46, 'VERB': 22.93, 'PROPN': 17.04,...</td>\n",
              "      <td>{'M. Gillenormand': 31, 'Théodule': 17, 'Water...</td>\n",
              "    </tr>\n",
              "    <tr>\n",
              "      <th>20</th>\n",
              "      <td>16377</td>\n",
              "      <td>5429</td>\n",
              "      <td>2645</td>\n",
              "      <td>{'marius': 55, 'man': 54, 'enjolras': 39, 'cou...</td>\n",
              "      <td>{'NOUN': 43.23, 'VERB': 22.27, 'PROPN': 16.36,...</td>\n",
              "      <td>{'Combeferre': 9, 'Joly': 6, 'Laigle de Meaux'...</td>\n",
              "    </tr>\n",
              "    <tr>\n",
              "      <th>21</th>\n",
              "      <td>10709</td>\n",
              "      <td>3454</td>\n",
              "      <td>1674</td>\n",
              "      <td>{'marius': 65, 'm.': 36, 'old': 32, 'man': 31,...</td>\n",
              "      <td>{'NOUN': 45.6, 'VERB': 24.9, 'ADJ': 12.71, 'PR...</td>\n",
              "      <td>{'M. Mabeuf': 18, 'Théodule': 13, 'M. Gillenor...</td>\n",
              "    </tr>\n",
              "    <tr>\n",
              "      <th>22</th>\n",
              "      <td>9228</td>\n",
              "      <td>2941</td>\n",
              "      <td>1307</td>\n",
              "      <td>{'marius': 81, 'day': 36, 'girl': 35, 'bench':...</td>\n",
              "      <td>{'NOUN': 42.71, 'VERB': 26.76, 'ADJ': 14.82, '...</td>\n",
              "      <td>{'M. Leblanc': 14, 'Ursule': 3, 'Monsieur Lebl...</td>\n",
              "    </tr>\n",
              "    <tr>\n",
              "      <th>23</th>\n",
              "      <td>4352</td>\n",
              "      <td>1416</td>\n",
              "      <td>931</td>\n",
              "      <td>{'man': 21, 'low': 9, 'social': 9, 'work': 8, ...</td>\n",
              "      <td>{'NOUN': 50.49, 'VERB': 19.21, 'ADJ': 15.04, '...</td>\n",
              "      <td>{'Babeuf': 3, 'Gueulemer': 3, 'Luther': 2, 'Co...</td>\n",
              "    </tr>\n",
              "    <tr>\n",
              "      <th>24</th>\n",
              "      <td>45740</td>\n",
              "      <td>14086</td>\n",
              "      <td>3451</td>\n",
              "      <td>{'marius': 233, 'man': 185, 'jondrette': 147, ...</td>\n",
              "      <td>{'NOUN': 44.19, 'VERB': 27.61, 'ADJ': 12.29, '...</td>\n",
              "      <td>{'Jondrette': 102, 'M. Leblanc': 72, 'Thénardi...</td>\n",
              "    </tr>\n",
              "    <tr>\n",
              "      <th>25</th>\n",
              "      <td>18643</td>\n",
              "      <td>6239</td>\n",
              "      <td>2643</td>\n",
              "      <td>{'man': 83, 'revolution': 54, 'right': 46, 'lo...</td>\n",
              "      <td>{'NOUN': 46.5, 'VERB': 20.87, 'ADJ': 14.25, 'P...</td>\n",
              "      <td>{'Louis Philippe': 21, 'Robespierre': 5, 'Gran...</td>\n",
              "    </tr>\n",
              "    <tr>\n",
              "      <th>26</th>\n",
              "      <td>9222</td>\n",
              "      <td>2861</td>\n",
              "      <td>1372</td>\n",
              "      <td>{'marius': 55, 'man': 32, 'know': 25, 'long': ...</td>\n",
              "      <td>{'NOUN': 42.29, 'VERB': 26.49, 'PROPN': 13.81,...</td>\n",
              "      <td>{'M. Mabeuf': 8, 'Thénardier': 6, 'Magnon': 5,...</td>\n",
              "    </tr>\n",
              "    <tr>\n",
              "      <th>27</th>\n",
              "      <td>19010</td>\n",
              "      <td>6227</td>\n",
              "      <td>2435</td>\n",
              "      <td>{'cosette': 117, 'jean': 99, 'valjean': 99, 'm...</td>\n",
              "      <td>{'NOUN': 45.7, 'VERB': 24.54, 'ADJ': 14.69, 'P...</td>\n",
              "      <td>{'Jean Valjean': 73, 'Cosette': 46, 'Jean\n",
              "Valj...</td>\n",
              "    </tr>\n",
              "    <tr>\n",
              "      <th>28</th>\n",
              "      <td>5147</td>\n",
              "      <td>1616</td>\n",
              "      <td>926</td>\n",
              "      <td>{'gavroche': 30, 'man': 27, 'old': 26, 'montpa...</td>\n",
              "      <td>{'NOUN': 44.68, 'VERB': 26.79, 'ADJ': 13.99, '...</td>\n",
              "      <td>{'Jean Valjean': 8, 'Cosette': 8, 'Gavroche': ...</td>\n",
              "    </tr>\n",
              "    <tr>\n",
              "      <th>29</th>\n",
              "      <td>8297</td>\n",
              "      <td>2540</td>\n",
              "      <td>1162</td>\n",
              "      <td>{'cosette': 52, 'love': 52, 'think': 23, 'soul...</td>\n",
              "      <td>{'NOUN': 46.65, 'VERB': 28.03, 'ADJ': 12.28, '...</td>\n",
              "      <td>{'Cosette': 32, 'Jean Valjean': 11, 'Théodule ...</td>\n",
              "    </tr>\n",
              "    <tr>\n",
              "      <th>30</th>\n",
              "      <td>19202</td>\n",
              "      <td>6144</td>\n",
              "      <td>2267</td>\n",
              "      <td>{'gavroche': 124, 'child': 53, 'thénardier': 5...</td>\n",
              "      <td>{'NOUN': 44.74, 'VERB': 26.24, 'ADJ': 12.22, '...</td>\n",
              "      <td>{'Gavroche': 37, 'Thénardier': 26, 'Magnon': 1...</td>\n",
              "    </tr>\n",
              "    <tr>\n",
              "      <th>31</th>\n",
              "      <td>12250</td>\n",
              "      <td>4209</td>\n",
              "      <td>2184</td>\n",
              "      <td>{'slang': 74, 'word': 37, 'man': 35, 'le': 31,...</td>\n",
              "      <td>{'NOUN': 50.53, 'VERB': 20.65, 'ADJ': 15.04, '...</td>\n",
              "      <td>{'Slang': 5, 'Levantine': 3, 'Thunes': 3, 'Rou...</td>\n",
              "    </tr>\n",
              "    <tr>\n",
              "      <th>32</th>\n",
              "      <td>18246</td>\n",
              "      <td>5487</td>\n",
              "      <td>2011</td>\n",
              "      <td>{'marius': 151, 'cosette': 83, 'man': 53, 'com...</td>\n",
              "      <td>{'NOUN': 40.51, 'VERB': 28.07, 'ADJ': 12.43, '...</td>\n",
              "      <td>{'Cosette': 30, 'M. Gillenormand': 13, 'Thénar...</td>\n",
              "    </tr>\n",
              "    <tr>\n",
              "      <th>33</th>\n",
              "      <td>3868</td>\n",
              "      <td>1278</td>\n",
              "      <td>763</td>\n",
              "      <td>{'go': 19, 'cosette': 14, 'mabeuf': 14, 'day':...</td>\n",
              "      <td>{'NOUN': 40.61, 'VERB': 27.0, 'PROPN': 16.04, ...</td>\n",
              "      <td>{'M. Mabeuf': 10, 'Cosette': 6, 'Jean Valjean'...</td>\n",
              "    </tr>\n",
              "    <tr>\n",
              "      <th>34</th>\n",
              "      <td>11318</td>\n",
              "      <td>4020</td>\n",
              "      <td>1952</td>\n",
              "      <td>{'rue': 43, 'man': 37, 'insurrection': 29, 're...</td>\n",
              "      <td>{'NOUN': 48.21, 'VERB': 20.2, 'PROPN': 15.1, '...</td>\n",
              "      <td>{'Mavot': 3, 'Danton': 2, 'Lombier': 2, 'Grève...</td>\n",
              "    </tr>\n",
              "    <tr>\n",
              "      <th>35</th>\n",
              "      <td>5879</td>\n",
              "      <td>1920</td>\n",
              "      <td>1078</td>\n",
              "      <td>{'gavroche': 26, 'man': 18, 'old': 17, 'pistol...</td>\n",
              "      <td>{'NOUN': 42.45, 'VERB': 23.18, 'PROPN': 18.54,...</td>\n",
              "      <td>{'Gavroche': 6, 'Louis XVIII': 2, 'Patagon': 2...</td>\n",
              "    </tr>\n",
              "    <tr>\n",
              "      <th>36</th>\n",
              "      <td>16622</td>\n",
              "      <td>5881</td>\n",
              "      <td>2547</td>\n",
              "      <td>{'rue': 56, 'man': 51, 'de': 48, 'barricade': ...</td>\n",
              "      <td>{'NOUN': 42.24, 'VERB': 22.45, 'PROPN': 18.31,...</td>\n",
              "      <td>{'Joly': 19, 'Grantaire': 12, 'Laigle': 9, 'Ga...</td>\n",
              "    </tr>\n",
              "    <tr>\n",
              "      <th>37</th>\n",
              "      <td>5686</td>\n",
              "      <td>1915</td>\n",
              "      <td>1095</td>\n",
              "      <td>{'war': 27, 'street': 22, 'rue': 20, 'man': 16...</td>\n",
              "      <td>{'NOUN': 46.58, 'VERB': 23.86, 'ADJ': 14.36, '...</td>\n",
              "      <td>{'Place': 1, 'Saint-Martin': 1, 'Saint-Jacques...</td>\n",
              "    </tr>\n",
              "    <tr>\n",
              "      <th>38</th>\n",
              "      <td>8872</td>\n",
              "      <td>2801</td>\n",
              "      <td>1214</td>\n",
              "      <td>{'marius': 61, 'barricade': 47, 'enjolras': 25...</td>\n",
              "      <td>{'NOUN': 41.16, 'VERB': 28.67, 'PROPN': 12.82,...</td>\n",
              "      <td>{'Enjolras': 5, 'Combeferre': 5, 'Gavroche': 4...</td>\n",
              "    </tr>\n",
              "    <tr>\n",
              "      <th>39</th>\n",
              "      <td>9152</td>\n",
              "      <td>3065</td>\n",
              "      <td>1504</td>\n",
              "      <td>{'jean': 58, 'valjean': 58, 'cosette': 40, 'ga...</td>\n",
              "      <td>{'NOUN': 42.71, 'VERB': 24.47, 'PROPN': 16.15,...</td>\n",
              "      <td>{'Jean Valjean': 44, 'Gavroche': 12, 'Cosette'...</td>\n",
              "    </tr>\n",
              "    <tr>\n",
              "      <th>40</th>\n",
              "      <td>42720</td>\n",
              "      <td>14285</td>\n",
              "      <td>4025</td>\n",
              "      <td>{'barricade': 167, 'man': 151, 'enjolras': 117...</td>\n",
              "      <td>{'NOUN': 48.72, 'VERB': 25.13, 'ADJ': 11.76, '...</td>\n",
              "      <td>{'Jean Valjean': 42, 'Combeferre': 16, 'Enjolr...</td>\n",
              "    </tr>\n",
              "    <tr>\n",
              "      <th>41</th>\n",
              "      <td>9729</td>\n",
              "      <td>3536</td>\n",
              "      <td>1897</td>\n",
              "      <td>{'sewer': 97, 'paris': 57, 'rue': 45, 'city': ...</td>\n",
              "      <td>{'NOUN': 47.45, 'VERB': 18.27, 'PROPN': 15.07,...</td>\n",
              "      <td>{'Bruneseau': 3, 'Nineveh': 2, 'Henri II': 2, ...</td>\n",
              "    </tr>\n",
              "    <tr>\n",
              "      <th>42</th>\n",
              "      <td>21729</td>\n",
              "      <td>7248</td>\n",
              "      <td>2459</td>\n",
              "      <td>{'jean': 127, 'valjean': 126, 'man': 97, 'mari...</td>\n",
              "      <td>{'NOUN': 45.06, 'VERB': 26.13, 'ADJ': 12.24, '...</td>\n",
              "      <td>{'Jean Valjean': 93, 'Thénardier': 16, 'Jean\n",
              "V...</td>\n",
              "    </tr>\n",
              "    <tr>\n",
              "      <th>43</th>\n",
              "      <td>6096</td>\n",
              "      <td>1956</td>\n",
              "      <td>1120</td>\n",
              "      <td>{'javert': 40, 'man': 26, 'jean': 20, 'valjean...</td>\n",
              "      <td>{'NOUN': 46.47, 'VERB': 25.56, 'ADJ': 14.52, '...</td>\n",
              "      <td>{'Jean Valjean': 17, 'Javert': 1, 'Grève': 1, ...</td>\n",
              "    </tr>\n",
              "    <tr>\n",
              "      <th>44</th>\n",
              "      <td>16027</td>\n",
              "      <td>5172</td>\n",
              "      <td>2269</td>\n",
              "      <td>{'marius': 91, 'man': 73, 'cosette': 62, 'm.':...</td>\n",
              "      <td>{'NOUN': 42.11, 'VERB': 23.45, 'PROPN': 15.24,...</td>\n",
              "      <td>{'M. Gillenormand': 18, 'Cosette': 16, 'Jean V...</td>\n",
              "    </tr>\n",
              "    <tr>\n",
              "      <th>45</th>\n",
              "      <td>12556</td>\n",
              "      <td>4130</td>\n",
              "      <td>1944</td>\n",
              "      <td>{'cosette': 57, 'jean': 39, 'valjean': 38, 'ma...</td>\n",
              "      <td>{'NOUN': 45.4, 'VERB': 23.27, 'ADJ': 14.0, 'PR...</td>\n",
              "      <td>{'Jean Valjean': 29, 'Cosette': 12, 'M. Gillen...</td>\n",
              "    </tr>\n",
              "    <tr>\n",
              "      <th>46</th>\n",
              "      <td>13141</td>\n",
              "      <td>3785</td>\n",
              "      <td>1489</td>\n",
              "      <td>{'marius': 84, 'jean': 79, 'valjean': 79, 'cos...</td>\n",
              "      <td>{'NOUN': 39.31, 'VERB': 28.85, 'PROPN': 13.08,...</td>\n",
              "      <td>{'Jean Valjean': 57, 'Cosette': 28, 'Jean\n",
              "Valj...</td>\n",
              "    </tr>\n",
              "    <tr>\n",
              "      <th>47</th>\n",
              "      <td>6605</td>\n",
              "      <td>2063</td>\n",
              "      <td>956</td>\n",
              "      <td>{'jean': 64, 'valjean': 47, 'cosette': 47, 'da...</td>\n",
              "      <td>{'NOUN': 36.06, 'VERB': 27.24, 'PROPN': 16.58,...</td>\n",
              "      <td>{'Jean Valjean': 37, 'Cosette': 22, 'Nicolette...</td>\n",
              "    </tr>\n",
              "    <tr>\n",
              "      <th>48</th>\n",
              "      <td>18018</td>\n",
              "      <td>5596</td>\n",
              "      <td>1975</td>\n",
              "      <td>{'marius': 99, 'man': 90, 'cosette': 86, 'jean...</td>\n",
              "      <td>{'NOUN': 40.01, 'VERB': 27.72, 'PROPN': 13.3, ...</td>\n",
              "      <td>{'Jean Valjean': 54, 'Cosette': 39, 'Thénardie...</td>\n",
              "    </tr>\n",
              "  </tbody>\n",
              "</table>\n",
              "</div>\n",
              "      <button class=\"colab-df-convert\" onclick=\"convertToInteractive('df-31b67bcf-5d48-4103-87b4-86a274036827')\"\n",
              "              title=\"Convert this dataframe to an interactive table.\"\n",
              "              style=\"display:none;\">\n",
              "        \n",
              "  <svg xmlns=\"http://www.w3.org/2000/svg\" height=\"24px\"viewBox=\"0 0 24 24\"\n",
              "       width=\"24px\">\n",
              "    <path d=\"M0 0h24v24H0V0z\" fill=\"none\"/>\n",
              "    <path d=\"M18.56 5.44l.94 2.06.94-2.06 2.06-.94-2.06-.94-.94-2.06-.94 2.06-2.06.94zm-11 1L8.5 8.5l.94-2.06 2.06-.94-2.06-.94L8.5 2.5l-.94 2.06-2.06.94zm10 10l.94 2.06.94-2.06 2.06-.94-2.06-.94-.94-2.06-.94 2.06-2.06.94z\"/><path d=\"M17.41 7.96l-1.37-1.37c-.4-.4-.92-.59-1.43-.59-.52 0-1.04.2-1.43.59L10.3 9.45l-7.72 7.72c-.78.78-.78 2.05 0 2.83L4 21.41c.39.39.9.59 1.41.59.51 0 1.02-.2 1.41-.59l7.78-7.78 2.81-2.81c.8-.78.8-2.07 0-2.86zM5.41 20L4 18.59l7.72-7.72 1.47 1.35L5.41 20z\"/>\n",
              "  </svg>\n",
              "      </button>\n",
              "      \n",
              "  <style>\n",
              "    .colab-df-container {\n",
              "      display:flex;\n",
              "      flex-wrap:wrap;\n",
              "      gap: 12px;\n",
              "    }\n",
              "\n",
              "    .colab-df-convert {\n",
              "      background-color: #E8F0FE;\n",
              "      border: none;\n",
              "      border-radius: 50%;\n",
              "      cursor: pointer;\n",
              "      display: none;\n",
              "      fill: #1967D2;\n",
              "      height: 32px;\n",
              "      padding: 0 0 0 0;\n",
              "      width: 32px;\n",
              "    }\n",
              "\n",
              "    .colab-df-convert:hover {\n",
              "      background-color: #E2EBFA;\n",
              "      box-shadow: 0px 1px 2px rgba(60, 64, 67, 0.3), 0px 1px 3px 1px rgba(60, 64, 67, 0.15);\n",
              "      fill: #174EA6;\n",
              "    }\n",
              "\n",
              "    [theme=dark] .colab-df-convert {\n",
              "      background-color: #3B4455;\n",
              "      fill: #D2E3FC;\n",
              "    }\n",
              "\n",
              "    [theme=dark] .colab-df-convert:hover {\n",
              "      background-color: #434B5C;\n",
              "      box-shadow: 0px 1px 3px 1px rgba(0, 0, 0, 0.15);\n",
              "      filter: drop-shadow(0px 1px 2px rgba(0, 0, 0, 0.3));\n",
              "      fill: #FFFFFF;\n",
              "    }\n",
              "  </style>\n",
              "\n",
              "      <script>\n",
              "        const buttonEl =\n",
              "          document.querySelector('#df-31b67bcf-5d48-4103-87b4-86a274036827 button.colab-df-convert');\n",
              "        buttonEl.style.display =\n",
              "          google.colab.kernel.accessAllowed ? 'block' : 'none';\n",
              "\n",
              "        async function convertToInteractive(key) {\n",
              "          const element = document.querySelector('#df-31b67bcf-5d48-4103-87b4-86a274036827');\n",
              "          const dataTable =\n",
              "            await google.colab.kernel.invokeFunction('convertToInteractive',\n",
              "                                                     [key], {});\n",
              "          if (!dataTable) return;\n",
              "\n",
              "          const docLinkHtml = 'Like what you see? Visit the ' +\n",
              "            '<a target=\"_blank\" href=https://colab.research.google.com/notebooks/data_table.ipynb>data table notebook</a>'\n",
              "            + ' to learn more about interactive tables.';\n",
              "          element.innerHTML = '';\n",
              "          dataTable['output_type'] = 'display_data';\n",
              "          await google.colab.output.renderOutput(dataTable, element);\n",
              "          const docLink = document.createElement('div');\n",
              "          docLink.innerHTML = docLinkHtml;\n",
              "          element.appendChild(docLink);\n",
              "        }\n",
              "      </script>\n",
              "    </div>\n",
              "  </div>\n",
              "  "
            ]
          },
          "metadata": {},
          "execution_count": 38
        }
      ],
      "source": [
        "# Notre DataFrame de résultats\n",
        "stat_results = pd.DataFrame(None, columns=[\"n_tokens\", \"n_lemmas\", \n",
        "                                           \"n_lemma_types\", \"top_5_lemmas\",\n",
        "                                           \"pos_distrib\", \"top_5_pers\"])\n",
        "# Notre dossier contenant le corpus pré-traité\n",
        "corpus_pp_path = \"/content/drive/MyDrive/Colab Notebooks/ml_data/TP10/by_book_pp\"\n",
        "os.makedirs(corpus_pp_path, exist_ok=True)\n",
        "for file_name in tqdm(file_names):\n",
        "  # Le chemin du fichier\n",
        "  file_path = f\"{corpus_path}/{file_name}\"\n",
        "  # On l'ouvre \n",
        "  with open(file_path, \"r\") as text_file:\n",
        "    text = text_file.read()\n",
        "  # On le transform en doc spacy\n",
        "  doc = nlp(text)\n",
        "  # Les statistiques\n",
        "  stat_dict = get_statistics(doc)\n",
        "  # En ligne et dans la Dataframe\n",
        "  new_row = pd.DataFrame.from_dict(stat_dict, orient=\"index\").T\n",
        "  stat_results = pd.concat([stat_results, new_row], axis=0, ignore_index=True)\n",
        "  # La sauvegarde du corpus prétraité\n",
        "  save_preprocess_doc(doc, f\"{corpus_pp_path}/{file_name}\")\n",
        "\n",
        "stat_results"
      ]
    },
    {
      "cell_type": "markdown",
      "metadata": {
        "id": "Hsxq7kqQt-J9"
      },
      "source": [
        "---"
      ]
    },
    {
      "cell_type": "markdown",
      "source": [
        "## 2. Construction de la matrice terme-document, pondération tf-idf et filtrage des mots selon leur fréquence.\n",
        "\n",
        "Nos premières analyses vont utiliser le corpus avec la table terme-document (la transposée de document-terme). Il y a plusieurs manière de l'obtenir, mais nous allons utiliser ici **Gensim**, qui propose des objets permettant de la manipuler aisément.\n",
        "\n",
        "On commence par charger notre corpus en tant que liste de liste (liste de documents, qui sont des listes de tokens). On affiche les 10 premiers tokens du premier document."
      ],
      "metadata": {
        "id": "6dvuccudITDN"
      }
    },
    {
      "cell_type": "code",
      "execution_count": null,
      "metadata": {
        "colab": {
          "base_uri": "https://localhost:8080/"
        },
        "id": "eVgzjpWps30c",
        "outputId": "097714d3-1ba5-4e15-d42f-628b566fff43"
      },
      "outputs": [
        {
          "output_type": "execute_result",
          "data": {
            "text/plain": [
              "['les',\n",
              " 'misérables',\n",
              " 'preface',\n",
              " 'long',\n",
              " 'shall',\n",
              " 'exist',\n",
              " 'virtue',\n",
              " 'law',\n",
              " 'custom',\n",
              " 'decree']"
            ]
          },
          "metadata": {},
          "execution_count": 48
        }
      ],
      "source": [
        "corpus_pp_path = \"/content/drive/MyDrive/Colab Notebooks/ml_data/TP10/by_book_pp\"\n",
        "file_names = os.listdir(corpus_pp_path)\n",
        "\n",
        "texts = []\n",
        "for file_name in file_names:\n",
        "  with open(f\"{corpus_pp_path}/{file_name}\") as text_file:\n",
        "    texts.append(text_file.read().split())\n",
        "\n",
        "texts[0][:10]"
      ]
    },
    {
      "cell_type": "markdown",
      "source": [
        "Gensim utilise un objet de type `gensim.corpora.Dictionary` pour traduire les tokens de notre corpus en identifiant numérique. On doit créer cette objet en donnant notre corpus. Si un token `t` se traduit par l'identifiant `i`, alors `dictionary[i]` donne `t` et `dictionary.token2id[t]` donne `i`."
      ],
      "metadata": {
        "id": "o8QSNNrnJYHM"
      }
    },
    {
      "cell_type": "code",
      "execution_count": null,
      "metadata": {
        "colab": {
          "base_uri": "https://localhost:8080/"
        },
        "id": "ukXGp0gvxzPD",
        "outputId": "14566e19-53cd-40db-b2f4-7a2a26972025"
      },
      "outputs": [
        {
          "output_type": "stream",
          "name": "stdout",
          "text": [
            "17692\n",
            "{'1862': 0, 'add': 1, 'amid': 2, 'artificially': 3, 'asphyxia': 4, 'book': 5, 'century': 6, 'child': 7, 'civilization': 8, 'corruption': 9, 'create': 10, 'crippling': 11, 'custom': 12, 'damnation': 13, 'decree': 14, 'degradation': 15, 'destiny': 16, 'divine': 17, 'earth': 18, 'element': 19, 'exist': 20, 'fail': 21, 'fantine': 22, 'fate': 23, 'great': 24, 'hauteville': 25, 'hell': 26, 'house': 27, 'human': 28, 'hunger': 29, 'ignorance': 30, 'lack': 31, 'law': 32, 'les': 33, 'light': 34, 'long': 35, 'man': 36, 'misérables': 37, 'nature': 38, 'pauperism': 39, 'possible': 40, 'poverty': 41, 'preface': 42, 'problem': 43, 'pronounce': 44, 'shall': 45, 'significance': 46, 'social': 47, 'society': 48, 'unsolved': 49, 'use': 50, 'virtue': 51, 'wide': 52, 'woman': 53, 'word': 54, 'world;—in': 55, ',—charge': 56, '1,000': 57, '1,500': 58, '100': 59, '15,000': 60, '150': 61, '15th': 62, '16': 63, '1685': 64, '1712': 65, '1714': 66, '1785': 67, '1793': 68, '18': 69, '1804': 70, '1806': 71, '1809': 72, '1811': 73, '1812': 74, '1813': 75, '1814': 76, '1815': 77, '18—.': 78, '2,000': 79, '200': 80, '250': 81, '27th': 82, '29': 83, '29th': 84, '3,000': 85, '300': 86, '400': 87, '50': 88, '500': 89, '5th': 90, '6,000': 91, '6th': 92, '93': 93, 'abandon': 94, 'abbey': 95, 'abbé': 96, 'abbés': 97, 'ability': 98, 'abjure': 99, 'able': 100, 'abnegation': 101, 'abode': 102, 'abridge': 103, 'abrupt': 104, 'abruptly': 105, 'absence': 106, 'absent': 107, 'absolute': 108, 'absolutely': 109, 'absolve': 110, 'absorb': 111, 'abstain': 112, 'abstraction': 113, 'abstruse': 114, 'abuse': 115, 'abut': 116, 'abyss': 117, 'accept': 118, 'access': 119, 'accessible': 120, 'accidentally': 121, 'acclamation': 122, 'accompany': 123, 'accomplice': 124, 'accomplish': 125, 'accord': 126, 'accordance': 127, 'accost': 128, 'account': 129, 'accuse': 130, 'accuser': 131, 'accustom': 132, 'acquaint': 133, 'acquire': 134, 'acre': 135, 'act': 136, 'action': 137, 'activity': 138, 'actually': 139, 'adam': 140, 'adapt': 141, 'addition': 142, 'address': 143, 'adherence': 144, 'adjoin': 145, 'administer': 146, 'administration': 147, 'administrative': 148, 'admirable': 149, 'admirably': 150, 'admirals': 151, 'admiration': 152, 'admire': 153, 'admit': 154, 'adoration': 155, 'adore': 156, 'adoring': 157, 'adorn': 158, 'adrien': 159, 'advance': 160, 'advanced': 161, 'advancement': 162, 'advantage': 163, 'advent': 164, 'adventure': 165, 'adversary': 166, 'advocate': 167, 'affable': 168, 'affair': 169, 'affectation': 170, 'affection': 171, 'affectionate': 172, 'affirmation': 173, 'afflict': 174, 'afford': 175, 'afraid': 176, 'agde': 177, 'age': 178, 'aged': 179, 'ago': 180, 'agonized': 181, 'agony': 182, 'agree': 183, 'agreeable': 184, 'ah': 185, 'aid': 186, 'air': 187, 'air,—the': 188, 'aix': 189, 'alarm': 190, 'alarming': 191, 'alas': 192, 'alcove': 193, 'alexandre': 194, 'alive': 195, 'alley': 196, 'allot': 197, 'allow': 198, 'allowance': 199, 'allude': 200, 'allusion': 201, 'alm': 202, 'aloud': 203, 'alpes': 204, 'altar': 205, 'alter': 206, 'altogether': 207, 'amass': 208, 'amavit_,—because': 209, 'ambition': 210, 'amelioration': 211, 'american': 212, 'amiable': 213, 'analyze': 214, 'anaras': 215, 'anchylosis': 216, 'ancient': 217, 'anent': 218, 'angel': 219, 'angelo': 220, 'angry': 221, 'anguish': 222, 'animal': 223, 'ankle': 224, 'announce': 225, 'annual': 226, 'answer': 227, 'ant': 228, 'antechamber': 229, 'anteroom': 230, 'antique': 231, 'antoine': 232, 'antoinette': 233, 'anxiety': 234, 'apart': 235, 'apartment': 236, 'aperture': 237, 'apocalypse': 238, 'apostle': 239, 'apostleship': 240, 'apothecary': 241, 'apparent': 242, 'appeal': 243, 'appear': 244, 'appearance': 245, 'appease': 246, 'appellation': 247, 'applaud': 248, 'apply': 249, 'appoint': 250, 'approach': 251, 'april': 252, 'arabic': 253, 'arcade': 254, 'archangel': 255, 'archbishop': 256, 'archduchess': 257, 'arche': 258, 'archidiaconate': 259, 'arduous': 260, 'argue': 261, 'argument': 262, 'arise': 263, 'arles': 264, 'arm': 265, 'armchair': 266, 'armpit': 267, 'army': 268, 'arnoux': 269, 'arouse': 270, 'arrange': 271, 'arrangement': 272, 'arrest': 273, 'arrival': 274, 'arrive': 275, 'arrogant': 276, 'art': 277, 'ascend': 278, 'ashe': 279, 'aside': 280, 'ask': 281, 'asleep': 282, 'aspect': 283, 'asperity': 284, 'aspirant': 285, 'aspiration': 286, 'ass': 287, 'assail': 288, 'assemble': 289, 'assembly': 290, 'assertion': 291, 'assess': 292, 'assiduous': 293, 'assistance': 294, 'assizes': 295, 'assume': 296, 'assure': 297, 'asthma': 298, 'astonish': 299, 'astonishment': 300, 'atheist': 301, 'atom': 302, 'attach': 303, 'attain': 304, 'attempt': 305, 'attend': 306, 'attendance': 307, 'attention': 308, 'attic': 309, 'attitude': 310, 'attorney': 311, 'attract': 312, 'attribute': 313, 'auch': 314, 'audaciously': 315, 'audience': 316, 'auditor': 317, 'augur': 318, 'august': 319, 'augustine,—‘place': 320, 'augustins': 321, 'aunt': 322, 'aurelius': 323, 'austerity': 324, 'austerlitz': 325, 'authentic': 326, 'authority': 327, 'authorize': 328, 'auxiliary': 329, 'avaricious': 330, 'avoid': 331, 'avow': 332, 'await': 333, 'awake': 334, 'award': 335, 'aware': 336, 'away': 337, 'axe': 338, 'azrael': 339, 'b': 340, 'back': 341, 'background': 342, 'backslider': 343, 'bad': 344, 'badly': 345, 'bah': 346, 'bailiff': 347, 'bake': 348, 'balance': 349, 'ballot': 350, 'ban': 351, 'band': 352, 'bandit': 353, 'banishment': 354, 'baptism': 355, 'baptismal': 356, 'baptistine': 357, 'bar': 358, 'barabbas': 359, 'barcelonette': 360, 'bare': 361, 'barefoot': 362, 'barefoote': 363, 'barely': 364, 'barleycourt': 365, 'baron': 366, 'barrack': 367, 'baruch': 368, 'basses': 369, 'battle': 370, 'beadle': 371, 'beam': 372, 'beaming': 373, 'bear': 374, 'bearing': 375, 'beast': 376, 'beating': 377, 'beaulieu': 378, 'beautiful': 379, 'beauty': 380, 'bec': 381, 'beccaria': 382, 'bed': 383, 'bed,—a': 384, 'bedazzlement': 385, 'bedchamber': 386, 'bedroom': 387, 'bedside': 388, 'beg': 389, 'beggar': 390, 'begin': 391, 'beginning': 392, 'beheld': 393, 'behold': 394, 'behoove': 395, 'belief': 396, 'believe': 397, 'believer': 398, 'belong': 399, 'beloved': 400, 'bench': 401, 'bend': 402, 'beneath': 403, 'benediction': 404, 'benefice': 405, 'beneficent': 406, 'benefit': 407, 'benevolence': 408, 'bent': 409, 'bergère': 410, 'berton': 411, 'beseech': 412, 'bestow': 413, 'betook': 414, 'betray': 415, 'bible': 416, 'bienvenu': 417, 'big': 418, 'bigot': 419, 'bigoted': 420, 'bigwig': 421, 'bind': 422, 'birth': 423, 'birthday': 424, 'bishop': 425, 'bishopric': 426, 'bit': 427, 'bitter': 428, 'bitterness': 429, 'black': 430, 'blacken': 431, 'blackened': 432, 'blade': 433, 'blame': 434, 'blanc': 435, 'blaze': 436, 'bless': 437, 'blessing': 438, 'blood': 439, 'blow': 440, 'blue': 441, 'blush': 442, 'blushing': 443, 'board': 444, 'boast': 445, 'body': 446, 'boil': 447, 'boischevron': 448, 'bold': 449, 'boldness': 450, 'bolt': 451, 'bonapartist': 452, 'bookcase': 453, 'books': 454, 'bookseller': 455, 'border': 456, 'borrow': 457, 'bossuet': 458, 'botany': 459, 'bouen': 460, 'bough': 461, 'bound': 462, 'bouquet': 463, 'bourgeois': 464, 'bow': 465, 'box': 466, 'boy': 467, 'brahmin': 468, 'brain': 469, 'bramble': 470, 'bravery': 471, 'brazier': 472, 'breach': 473, 'bread': 474, 'break': 475, 'breakfast': 476, 'breast': 477, 'breath': 478, 'breath,—in': 479, 'breeze': 480, 'bretagne': 481, 'breviary': 482, 'briançon': 483, 'brick': 484, 'bridge': 485, 'brief': 486, 'briefly': 487, 'brigand': 488, 'brignolles': 489, 'brim': 490, 'bring': 491, 'brink': 492, 'broad': 493, 'broom': 494, 'brother': 495, 'brotherhood': 496, 'brotherly': 497, 'brow': 498, 'bruit': 499, 'brumaire': 500, 'brutality': 501, 'brûlart': 502, 'bud': 503, 'budget': 504, 'bugaboo': 505, 'build': 506, 'building': 507, 'bullion': 508, 'burden': 509, 'burgess': 510, 'burn': 511, 'burst': 512, 'bursting': 513, 'bury': 514, 'business': 515, 'bustling': 516, 'busy': 517, 'bâville': 518, 'bès': 519, 'bé': 520, 'cabin': 521, 'caen': 522, 'calculate': 523, 'calculation': 524, 'call': 525, 'callow': 526, 'calm': 527, 'camail': 528, 'candid': 529, 'candle': 530, 'candlestick': 531, 'cane': 532, 'cannes': 533, 'canon': 534, 'canonship': 535, 'canopy': 536, 'canton': 537, 'cap': 538, 'cap!”—“oh': 539, 'capable': 540, 'capacity': 541, 'capitulation': 542, 'caprice': 543, 'capuchin': 544, 'cardboard': 545, 'cardinal': 546, 'cardinalship': 547, 'care': 548, 'career': 549, 'caress': 550, 'carpenter': 551, 'carpentry': 552, 'carpet': 553, 'carriage': 554, 'carrier': 555, 'carry': 556, 'cart': 557, 'cartouche': 558, 'case': 559, 'cashier': 560, 'cassette': 561, 'cassock': 562, 'cast': 563, 'catastrophe': 564, 'catch': 565, 'catechism': 566, 'cathedral': 567, 'cato': 568, 'cause': 569, 'cavern': 570, 'cease': 571, 'ceiling': 572, 'celebration': 573, 'cell': 574, 'cellar': 575, 'ceremony': 576, 'certain': 577, 'certainly': 578, 'chair': 579, 'chaise': 580, 'chaldaic': 581, 'chaliot': 582, 'chamber': 583, 'chamberlain': 584, 'champ': 585, 'champtercier': 586, 'chance': 587, 'change': 588, 'chant': 589, 'chaos': 590, 'chapel': 591, 'chaplain': 592, 'chaplaincy': 593, 'character': 594, 'characteristic': 595, 'charge': 596, 'charitable': 597, 'charity': 598, 'charles': 599, 'charm': 600, 'charming': 601, 'chartres': 602, 'chastelar': 603, 'chasuble': 604, 'check': 605, 'cheek': 606, 'cheer': 607, 'cheerfully': 608, 'cherish': 609, 'cherubim': 610, 'chest': 611, 'chestnut': 612, 'childhood': 613, 'childish': 614, 'chill': 615, 'chimney': 616, 'chimæra': 617, 'choice': 618, 'choose': 619, 'chopping': 620, 'chorister': 621, 'christ': 622, 'church': 623, 'churchman': 624, 'château': 625, 'circuit': 626, 'circulation': 627, 'circumstance': 628, 'cite': 629, 'citizen': 630, 'citizens': 631, 'city': 632, 'claim': 633, 'claire': 634, 'clap': 635, 'clapping': 636, 'class': 637, 'claude': 638, 'clean': 639, 'clear': 640, 'clearly': 641, 'clemency': 642, 'clerical': 643, 'clever': 644, 'cleverness': 645, 'cliff': 646, 'clinton': 647, 'cloak': 648, 'clock': 649, 'close': 650, 'closed': 651, 'cloth': 652, 'clothe': 653, 'cloud': 654, 'clump': 655, 'coach': 656, 'coarse': 657, 'coin': 658, 'cold': 659, 'coldness': 660, 'colleague': 661, 'collect': 662, 'colonel': 663, 'color': 664, 'combat': 665, 'combatant': 666, 'combine': 667, 'come': 668, 'comfort': 669, 'comfortably': 670, 'comforter': 671, 'command': 672, 'commander': 673, 'commence': 674, 'comment': 675, 'commissioned': 676, 'commit': 677, 'committed': 678, 'common': 679, 'commune': 680, 'communicate': 681, 'community': 682, 'commute': 683, 'company': 684, 'compare': 685, 'compartment': 686, 'compassion': 687, 'compassionate': 688, 'complete': 689, 'complexion': 690, 'complicate': 691, 'compose': 692, 'comprehend': 693, 'comte': 694, 'comtesse': 695, 'conceal': 696, 'conceive': 697, 'concern': 698, 'conclavist': 699, 'conclude': 700, 'conclusion': 701, 'concord': 702, 'concretion': 703, 'condemn': 704, 'condemnation': 705, 'condense': 706, 'conduct': 707, 'confer': 708, 'conference': 709, 'confess': 710, 'confession': 711, 'confide': 712, 'confidence': 713, 'confidential': 714, 'confine': 715, 'confound': 716, 'confused': 717, 'confusion': 718, 'congratulate': 719, 'congregation': 720, 'conjunction': 721, 'connect': 722, 'connection': 723, 'conquer': 724, 'conscience': 725, 'conscience,—and': 726, 'conscientiously': 727, 'conscious': 728, 'consecration': 729, 'consider': 730, 'considerable': 731, 'consideration': 732, 'consist': 733, 'consistency': 734, 'consolation': 735, 'console': 736, 'consoler': 737, 'constellation': 738, 'consternation': 739, 'constitute': 740, 'constraint': 741, 'construct': 742, 'contact': 743, 'contagion': 744, 'contain': 745, 'contemplate': 746, 'contemplation': 747, 'contemplator': 748, 'contemporary': 749, 'content': 750, 'contest': 751, 'continue': 752, 'contradiction': 753, 'contribute': 754, 'contrive': 755, 'convalescent': 756, 'convene': 757, 'convent': 758, 'convention': 759, 'conventionary': 760, 'converge': 761, 'conversation': 762, 'converse': 763, 'conversion': 764, 'convert': 765, 'conviction': 766, 'convince': 767, 'cope': 768, 'copper': 769, 'coppice': 770, 'cord': 771, 'cordiality': 772, 'corneille': 773, 'corner': 774, 'cornwallis': 775, 'coronation': 776, 'corpulent': 777, 'correspondence': 778, 'cost': 779, 'coterie': 780, 'cottage': 781, 'cotyledon': 782, 'couch': 783, 'couloubroux': 784, 'council': 785, 'councillor': 786, 'counsel': 787, 'count': 788, 'countenance': 789, 'counterfeit': 790, 'counterfeiting': 791, 'country': 792, 'county': 793, 'coupe': 794, 'course': 795, 'court': 796, 'courtesy': 797, 'courtyard': 798, 'cousin': 799, 'cover': 800, 'covey': 801, 'cow': 802, 'cowardly': 803, 'cramp': 804, 'cravatte': 805, 'creation': 806, 'creator': 807, 'creature': 808, 'credit': 809, 'credo': 810, 'crillon': 811, 'crime': 812, 'criminal': 813, 'crosier,—all': 814, 'cross': 815, 'crotchet': 816, 'crowd': 817, 'crowded': 818, 'crown': 819, 'crucifix': 820, 'crudity': 821, 'crumble': 822, 'crumbling': 823, 'crush': 824, 'cry': 825, 'cudgel': 826, 'culpable': 827, 'cultivate': 828, 'cultivation': 829, 'cunningly': 830, 'cupboard': 831, 'curacy': 832, 'curate': 833, 'curiosity': 834, 'curious': 835, 'curse': 836, 'curtain': 837, 'curé': 838, 'curés': 839, 'custodierit': 840, 'custodiunt': 841, 'customary': 842, 'cut': 843, 'cæsar': 844, 'césar': 845, 'cîteaux': 846, 'd': 847, 'damask': 848, 'dame': 849, 'damn': 850, 'dance': 851, 'danger': 852, 'dangerous': 853, 'dante': 854, 'dare': 855, 'dark': 856, 'darkness': 857, 'date': 858, 'daughter': 859, 'dauphin': 860, 'dauphiné': 861, 'dawn': 862, 'day': 863, 'days': 864, 'daytime': 865, 'dazzle': 866, 'de': 867, 'dead': 868, 'deal': 869, 'dear': 870, 'death': 871, 'debate': 872, 'debt': 873, 'dec.': 874, 'decay': 875, 'decease': 876, 'deceive': 877, 'decide': 878, 'decimate': 879, 'decipher': 880, 'decisive': 881, 'declaimer': 882, 'declare': 883, 'decline': 884, 'decorate': 885, 'decoration': 886, 'decrepit': 887, 'deed': 888, 'deep': 889, 'deeply': 890, 'default': 891, 'defend': 892, 'deformity': 893, 'degree': 894, 'deify': 895, 'delicacy': 896, 'delicate': 897, 'delight': 898, 'delightful': 899, 'delivery': 900, 'demand': 901, 'democratic': 902, 'demolish': 903, 'demolition': 904, 'denial': 905, 'denounce': 906, 'denunciator': 907, 'deny': 908, 'depart': 909, 'department': 910, 'departure': 911, 'dependent': 912, 'depict': 913, 'deposit': 914, 'deprivation': 915, 'depth': 916, 'deputy': 917, 'des': 918, 'descend': 919, 'describe': 920, 'desert': 921, 'designate': 922, 'desirable': 923, 'desire': 924, 'desirous': 925, 'despair': 926, 'despairing': 927, 'despise': 928, 'despoil': 929, 'despot': 930, 'dessert': 931, 'destine': 932, 'destroy': 933, 'destruction': 934, 'detach': 935, 'detail': 936, 'detest': 937, 'deuce': 938, 'deum': 939, 'develop': 940, 'development': 941, 'devil': 942, 'devolny': 943, 'devote': 944, 'devotee': 945, 'devour': 946, 'devoutly': 947, 'diaconate': 948, 'dialect': 949, 'diamond': 950, 'diaphaneity': 951, 'dictate': 952, 'diderot': 953, 'die': 954, 'diet': 955, 'dieu': 956, 'differ': 957, 'difference': 958, 'difficult': 959, 'difficulty': 960, 'dig': 961, 'digestion': 962, 'digger': 963, 'dignified': 964, 'dignify': 965, 'dignity': 966, 'dimly': 967, 'dine': 968, 'dining': 969, 'dinner': 970, 'dint': 971, 'diocesan': 972, 'diocese': 973, 'dip': 974, 'diplomacy': 975, 'direct': 976, 'direction': 977, 'directly': 978, 'directness': 979, 'director': 980, 'disappear': 981, 'disarm': 982, 'disaster': 983, 'discern': 984, 'discernible': 985, 'disciple': 986, 'disconcert': 987, 'discourse': 988, 'discover': 989, 'discovery': 990, 'discredit': 991, 'discreetly': 992, 'discuss': 993, 'discussion': 994, 'disdain': 995, 'disembarkation': 996, 'disgrace': 997, 'dish': 998, 'dismantle': 999, 'dismount': 1000, 'dispensation': 1001, 'disperse': 1002, 'display': 1003, 'displease': 1004, 'disposal': 1005, 'dispose': 1006, 'disposition': 1007, 'dissertation': 1008, 'dissolve': 1009, 'distance': 1010, 'distant': 1011, 'distinction': 1012, 'distinctly': 1013, 'distinctness': 1014, 'distinguish': 1015, 'distraction': 1016, 'distress': 1017, 'district': 1018, 'distrust': 1019, 'ditch': 1020, 'diver': 1021, 'divide': 1022, 'divinely': 1023, 'doctor': 1024, 'doctrine': 1025, 'dogma': 1026, 'domestic': 1027, 'dominus': 1028, 'domum': 1029, 'donkey': 1030, 'donor': 1031, 'door': 1032, 'door,—the': 1033, 'doorstep': 1034, 'double': 1035, 'doubt': 1036, 'dowager': 1037, 'down,—for': 1038, 'dozen': 1039, 'drag': 1040, 'dragonnade': 1041, 'dragoons,—only': 1042, 'draguignan': 1043, 'drape': 1044, 'draw': 1045, 'drawing': 1046, 'drawl': 1047, 'dream': 1048, 'dress': 1049, 'drink': 1050, 'droop': 1051, 'drooping;—a': 1052, 'drop': 1053, 'dry': 1054, 'dryly': 1055, 'duchêne': 1056, 'duck': 1057, 'duke': 1058, 'dung': 1059, 'dunghill': 1060, 'dupe': 1061, 'dupe,—history': 1062, 'durance': 1063, 'dust': 1064, 'duty': 1065, 'dwell': 1066, 'dwelling': 1067, 'dwelt': 1068, 'd’arc': 1069, 'd’argens': 1070, 'd’assisi': 1071, 'd’embrun': 1072, 'eagle': 1073, 'eam': 1074, 'ear': 1075, 'early': 1076, 'ease': 1077, 'easily': 1078, 'easy': 1079, 'eat': 1080, 'eatable': 1081, 'ecclesiaste': 1082, 'ecclesiastes': 1083, 'ecclesiastical': 1084, 'economy': 1085, 'ecstasy': 1086, 'eddy': 1087, 'edge': 1088, 'educate': 1089, 'educe': 1090, 'eel': 1091, 'efface': 1092, 'effect': 1093, 'effigy': 1094, 'effort': 1095, 'egad': 1096, 'egotism': 1097, 'eighteen': 1098, 'eighty': 1099, 'elba': 1100, 'elbow': 1101, 'eld': 1102, 'elder': 1103, 'elderly': 1104, 'elegant': 1105, 'elevation': 1106, 'elijah': 1107, 'eloquence': 1108, 'eloquent': 1109, 'embarrass': 1110, 'embarrassed': 1111, 'embarrassment': 1112, 'embe': 1113, 'embolden': 1114, 'embrace': 1115, 'embroil': 1116, 'embrun': 1117, 'emerge': 1118, 'emigrant': 1119, 'emigrate': 1120, 'eminence': 1121, 'eminent': 1122, 'emotion': 1123, 'emperor': 1124, 'empire': 1125, 'en': 1126, 'enable': 1127, 'encircle': 1128, 'enclose': 1129, 'enclosure': 1130, 'encounter': 1131, 'encourage': 1132, 'encouraged': 1133, 'encumber': 1134, 'end': 1135, 'endowed': 1136, 'energetic': 1137, 'engender': 1138, 'england': 1139, 'english': 1140, 'engraft': 1141, 'engrave': 1142, 'engross': 1143, 'enigma': 1144, 'enjoy': 1145, 'enjoyment': 1146, 'enlighten': 1147, 'enormous': 1148, 'ens': 1149, 'ensue': 1150, 'entail': 1151, 'enter': 1152, 'entertain': 1153, 'enthusiasm': 1154, 'enthusiastic': 1155, 'entire': 1156, 'entirely': 1157, 'entitle': 1158, 'enumerating': 1159, 'ephesians': 1160, 'epicurus': 1161, 'epidemics,—we': 1162, 'episcopal': 1163, 'episcopate': 1164, 'epistle': 1165, 'epithet': 1166, 'epoch': 1167, 'equal': 1168, 'equally': 1169, 'equipage': 1170, 'equitable': 1171, 'equivalent': 1172, 'era': 1173, 'erect': 1174, 'err': 1175, 'error': 1176, 'escape': 1177, 'escort': 1178, 'esdras': 1179, 'especially': 1180, 'espouse': 1181, 'essay': 1182, 'essence': 1183, 'essential': 1184, 'establish': 1185, 'establishment': 1186, 'estrangement': 1187, 'etc': 1188, 'eternal': 1189, 'eternity': 1190, 'ether': 1191, 'eunuch': 1192, 'eve': 1193, 'evening': 1194, 'event': 1195, 'evident': 1196, 'evidently': 1197, 'evil': 1198, 'ex': 1199, 'exact': 1200, 'exactly': 1201, 'exactness': 1202, 'exalted': 1203, 'examine': 1204, 'examine,—prayer': 1205, 'example': 1206, 'exasperate': 1207, 'excellent': 1208, 'exception': 1209, 'excess': 1210, 'exchange': 1211, 'exclaim': 1212, 'exclamation': 1213, 'excommunicated': 1214, 'excuse': 1215, 'execrate': 1216, 'execution': 1217, 'executioner': 1218, 'exercise': 1219, 'exhaust': 1220, 'exhibit': 1221, 'exhilarate': 1222, 'exhorting': 1223, 'exile': 1224, 'existence': 1225, 'exit': 1226, 'exodus': 1227, 'exordium': 1228, 'expect': 1229, 'expectation': 1230, 'expense': 1231, 'experience': 1232, 'experienced': 1233, 'expiate': 1234, 'expire': 1235, 'explain': 1236, 'explanation': 1237, 'explosion': 1238, 'expose': 1239, 'express': 1240, 'expression': 1241, 'exquisite': 1242, 'exquisitely': 1243, 'extend': 1244, 'extent': 1245, 'exterior': 1246, 'exterminate': 1247, 'exterminator': 1248, 'extinction': 1249, 'extra': 1250, 'extract': 1251, 'extraction': 1252, 'extreme': 1253, 'extremely': 1254, 'extremity': 1255, 'eye': 1256, 'eyelid': 1257, 'fable': 1258, 'fabricate': 1259, 'face': 1260, 'fact': 1261, 'faculty': 1262, 'failing': 1263, 'fair': 1264, 'faith': 1265, 'fall': 1266, 'false': 1267, 'falsely': 1268, 'familiarity': 1269, 'familiarize': 1270, 'family': 1271, 'fancy': 1272, 'faoucq': 1273, 'far': 1274, 'farewell': 1275, 'farmer': 1276, 'fas': 1277, 'fashion': 1278, 'fast': 1279, 'fasten': 1280, 'fat': 1281, 'fatal': 1282, 'father': 1283, 'fathomless': 1284, 'fatigue': 1285, 'fault': 1286, 'fauq': 1287, 'faux': 1288, 'favor': 1289, 'favorite': 1290, 'fear': 1291, 'feature': 1292, 'fee': 1293, 'feeble': 1294, 'feel': 1295, 'fellow': 1296, 'female': 1297, 'feminine': 1298, 'fence': 1299, 'ferocious': 1300, 'ferociously': 1301, 'ferocity': 1302, 'fesch': 1303, 'festival': 1304, 'fetch': 1305, 'fetich': 1306, 'feudal': 1307, 'fever': 1308, 'fiat': 1309, 'fiction': 1310, 'field': 1311, 'fifth': 1312, 'figure': 1313, 'filial': 1314, 'fill': 1315, 'filter': 1316, 'finally': 1317, 'finances,—and': 1318, 'find': 1319, 'finding': 1320, 'fine': 1321, 'finger': 1322, 'finis': 1323, 'finish': 1324, 'fire': 1325, 'firedog': 1326, 'firm': 1327, 'fish': 1328, 'fit': 1329, 'fitting': 1330, 'fix': 1331, 'flame': 1332, 'flander': 1333, 'flash': 1334, 'flat': 1335, 'flavius': 1336, 'flesh': 1337, 'fleurs': 1338, 'flight': 1339, 'flinch': 1340, 'float': 1341, 'flock': 1342, 'floor': 1343, 'florentine': 1344, 'flour': 1345, 'flow': 1346, 'flower': 1347, 'flute': 1348, 'fluting': 1349, 'fold': 1350, 'foliage': 1351, 'folio': 1352, 'follow': 1353, 'following': 1354, 'folly': 1355, 'fond': 1356, 'food': 1357, 'fool': 1358, 'foot': 1359, 'footing': 1360, 'forcalquier': 1361, 'force': 1362, 'forefinger': 1363, 'foreign': 1364, 'forever': 1365, 'forget': 1366, 'forgetful': 1367, 'forgetfulness': 1368, 'fork': 1369, 'form': 1370, 'formation': 1371, 'formidable': 1372, 'forth': 1373, 'fortnight': 1374, 'fortune': 1375, 'forward': 1376, 'foundation': 1377, 'foundling': 1378, 'fouquier': 1379, 'fourth': 1380, 'fragment': 1381, 'frame': 1382, 'franc': 1383, 'france': 1384, 'francis': 1385, 'francs,—who': 1386, 'françois': 1387, 'fraternity': 1388, 'fray': 1389, 'free': 1390, 'freedom': 1391, 'french': 1392, 'frequency': 1393, 'fresh': 1394, 'friday': 1395, 'friend': 1396, 'fright': 1397, 'frightful': 1398, 'frog': 1399, 'fromage': 1400, 'frown': 1401, 'frugal': 1402, 'frugality': 1403, 'fruit': 1404, 'funereal': 1405, 'furnace': 1406, 'furnish': 1407, 'furniture': 1408, 'future': 1409, 'g': 1410, 'gain': 1411, 'gaiter': 1412, 'gala': 1413, 'gallantry': 1414, 'gallery': 1415, 'gallican': 1416, 'galloon': 1417, 'game': 1418, 'garden': 1419, 'gardener': 1420, 'gardening': 1421, 'garlanded': 1422, 'garment': 1423, 'garrison': 1424, 'gaspard': 1425, 'gate': 1426, 'gather': 1427, 'gay': 1428, 'gayety': 1429, 'gaze': 1430, 'geese': 1431, 'gendarme': 1432, 'general': 1433, 'generally': 1434, 'generals': 1435, 'generalship': 1436, 'generous': 1437, 'genesis': 1438, 'genius': 1439, 'genlis': 1440, 'gentle': 1441, 'gentleman': 1442, 'gently': 1443, 'genuine': 1444, 'germain': 1445, 'germinate': 1446, 'gesture': 1447, 'get': 1448, 'getting': 1449, 'gifted': 1450, 'gigantic': 1451, 'gild': 1452, 'gilding': 1453, 'gilt': 1454, 'girl': 1455, 'give': 1456, 'giving': 1457, 'glacial': 1458, 'glance': 1459, 'glandève': 1460, 'glass': 1461, 'glaze': 1462, 'gleam': 1463, 'glisten': 1464, 'gloom': 1465, 'gloomy': 1466, 'go': 1467, 'goal': 1468, 'goat': 1469, 'gobble': 1470, 'god': 1471, 'goeth': 1472, 'gold': 1473, 'golden': 1474, 'good': 1475, 'goodman': 1476, 'goodness': 1477, 'goose': 1478, 'gorge': 1479, 'gospel': 1480, 'gossip': 1481, 'gouty': 1482, 'govern': 1483, 'grace': 1484, 'graceful': 1485, 'gradually': 1486, 'grafting': 1487, 'grain': 1488, 'gramont': 1489, 'granary': 1490, 'grand': 1491, 'grandaunt': 1492, 'grandest': 1493, 'grandeur': 1494, 'grandfather': 1495, 'grandmother': 1496, 'grandson': 1497, 'grant': 1498, 'grase': 1499, 'grasp': 1500, 'grass': 1501, 'grasse': 1502, 'grasshopper': 1503, 'gratis': 1504, 'gratuitous': 1505, 'gratuitously': 1506, 'grave': 1507, 'gravely': 1508, 'gravitation': 1509, 'gravity': 1510, 'greatly': 1511, 'greatness': 1512, 'greedy': 1513, 'green': 1514, 'gregory': 1515, 'grief': 1516, 'grinder': 1517, 'groan': 1518, 'ground': 1519, 'groundswell': 1520, 'group': 1521, 'grow': 1522, 'growl': 1523, 'growth': 1524, 'grumble': 1525, 'grève': 1526, 'guard': 1527, 'guest': 1528, 'guide': 1529, 'guillotine': 1530, 'guilty': 1531, 'guise': 1532, 'guy': 1533, 'géborand': 1534, 'habit': 1535, 'habitual': 1536, 'habitually': 1537, 'hair': 1538, 'haired': 1539, 'hairy': 1540, 'half': 1541, 'hall': 1542, 'hallucination': 1543, 'halt': 1544, 'hamlet': 1545, 'hand': 1546, 'handful': 1547, 'handsome': 1548, 'hang': 1549, 'hangman': 1550, 'happen': 1551, 'happiness': 1552, 'happy': 1553, 'hard': 1554, 'hardly': 1555, 'harem': 1556, 'harm': 1557, 'harsh': 1558, 'harshly': 1559, 'harshness': 1560, 'harvest': 1561, 'harvesting': 1562, 'haste': 1563, 'hat': 1564, 'hate': 1565, 'hatred': 1566, 'hautes': 1567, 'have': 1568, 'having': 1569, 'hazardous': 1570, 'head': 1571, 'heading': 1572, 'health': 1573, 'hear': 1574, 'heart': 1575, 'hearth': 1576, 'heaven': 1577, 'heavenward': 1578, 'hedge': 1579, 'heed': 1580, 'heedless': 1581, 'height': 1582, 'heir': 1583, 'help': 1584, 'hen': 1585, 'henri': 1586, 'heraldic': 1587, 'herd': 1588, 'heresy': 1589, 'heretic': 1590, 'herewith': 1591, 'herod': 1592, 'hidden': 1593, 'hide': 1594, 'hideous': 1595, 'hideousness': 1596, 'high': 1597, 'highness': 1598, 'highway': 1599, 'hilly': 1600, 'hit': 1601, 'hobbes': 1602, 'hoeing': 1603, 'hoist': 1604, 'hold': 1605, 'hole': 1606, 'holiness': 1607, 'hollow': 1608, 'holy': 1609, 'home': 1610, 'honest': 1611, 'honor': 1612, 'honoré': 1613, 'hope': 1614, 'horizon': 1615, 'horrible': 1616, 'horror': 1617, 'horse': 1618, 'horseback': 1619, 'horseman': 1620, 'hospital': 1621, 'hospitality': 1622, 'hostile': 1623, 'hour': 1624, 'household': 1625, 'housekeeper': 1626, 'hovel': 1627, 'hu': 1628, 'huge': 1629, 'hugo': 1630, 'huguenot': 1631, 'humane': 1632, 'humanity': 1633, 'humble': 1634, 'humility': 1635, 'hungry': 1636, 'hunt': 1637, 'hurrah': 1638, 'hurry': 1639, 'husband': 1640, 'hut': 1641, 'hypocrisy': 1642, 'hypothesis': 1643, 'ice': 1644, 'idea': 1645, 'ideal': 1646, 'ideologist': 1647, 'idiom': 1648, 'idol,—it': 1649, 'idolatry': 1650, 'ignorant': 1651, 'ignore': 1652, 'ill': 1653, 'illegible': 1654, 'illuminate': 1655, 'illustration': 1656, 'image': 1657, 'imagination': 1658, 'imagine': 1659, 'imitation': 1660, 'immediately': 1661, 'immense': 1662, 'immensity': 1663, 'immolate': 1664, 'immortality': 1665, 'impart': 1666, 'impatiently': 1667, 'impenetrable': 1668, 'imperial': 1669, 'impertinent': 1670, 'impious': 1671, 'implicate': 1672, 'import': 1673, 'important': 1674, 'impose': 1675, 'impossibility': 1676, 'impossible': 1677, 'impost': 1678, 'imprecation': 1679, 'impression': 1680, 'imprint': 1681, 'imprudence': 1682, 'incapacitate': 1683, 'incarcerate': 1684, 'incessantly': 1685, 'incident': 1686, 'incline': 1687, 'include': 1688, 'income': 1689, 'incomplete': 1690, 'incomprehensible': 1691, 'inconsiderate': 1692, 'inconvenience': 1693, 'incur': 1694, 'incurable': 1695, 'indescribable': 1696, 'indestructible': 1697, 'indicate': 1698, 'indifference': 1699, 'indifferent': 1700, 'indigent': 1701, 'indignation': 1702, 'indirectly': 1703, 'indiscretion': 1704, 'individuality': 1705, 'induce': 1706, 'indulge': 1707, 'indulgent': 1708, 'inert': 1709, 'inexorable': 1710, 'infant': 1711, 'infantile': 1712, 'infectious': 1713, 'infest': 1714, 'infidelity': 1715, 'infinite': 1716, 'infinity': 1717, 'inflict': 1718, 'influence': 1719, 'information': 1720, 'inhabitant': 1721, 'inherit': 1722, 'inheritance': 1723, 'initiate': 1724, 'initiative': 1725, 'injury': 1726, 'ink': 1727, 'inkstand': 1728, 'inmost': 1729, 'innate': 1730, 'inner': 1731, 'innocence': 1732, 'innocent': 1733, 'innumerable': 1734, 'inquire': 1735, 'inquiry': 1736, 'insanity': 1737, 'inscription': 1738, 'insect': 1739, 'inside': 1740, 'insist': 1741, 'inspire': 1742, 'instal': 1743, 'installation': 1744, 'instant': 1745, 'instantly': 1746, 'instigation': 1747, 'instinct': 1748, 'institute': 1749, 'instruct': 1750, 'instruction': 1751, 'insulting': 1752, 'intellect': 1753, 'intelligent': 1754, 'intend': 1755, 'intention': 1756, 'inter': 1757, 'interest': 1758, 'interfere': 1759, 'interpose': 1760, 'interrogate': 1761, 'interrogation': 1762, 'interrupt': 1763, 'intervene': 1764, 'intrenchment': 1765, 'intrinsic': 1766, 'invade': 1767, 'invariably': 1768, 'invent': 1769, 'invisible': 1770, 'involve': 1771, 'iron': 1772, 'ironwork': 1773, 'irresponsible': 1774, 'isis': 1775, 'island': 1776, 'isolation': 1777, 'isère': 1778, 'italy': 1779, 'jar': 1780, 'jauziers': 1781, 'jealousy': 1782, 'jean': 1783, 'jeanne': 1784, 'jeered': 1785, 'jehovah': 1786, 'jerome': 1787, 'jest': 1788, 'jesus': 1789, 'jewel': 1790, 'john': 1791, 'joint': 1792, 'josephus': 1793, 'joug': 1794, 'jourdan': 1795, 'journey': 1796, 'joy': 1797, 'judge': 1798, 'july': 1799, 'june': 1800, 'junior': 1801, 'jurisdiction': 1802, 'jussieu': 1803, 'justice': 1804, 'juvenal': 1805, 'keep': 1806, 'key': 1807, 'kill': 1808, 'kind': 1809, 'kindly': 1810, 'kindness': 1811, 'king': 1812, 'kitchen': 1813, 'knee': 1814, 'kneel': 1815, 'knife': 1816, 'knight': 1817, 'knock': 1818, 'know': 1819, 'knoweth': 1820, 'la': 1821, 'labor': 1822, 'lace': 1823, 'lackey': 1824, 'lad': 1825, 'ladle': 1826, 'lady': 1827, 'lair': 1828, 'lake': 1829, 'lamoignon': 1830, 'lamp': 1831, 'land': 1832, 'language': 1833, 'languedoc': 1834, 'large': 1835, 'latch': 1836, 'later': 1837, 'latin': 1838, 'laugh': 1839, 'laughable': 1840, 'lawsuit': 1841, 'lay': 1842, 'lazarists': 1843, 'le': 1844, 'lead': 1845, 'leader': 1846, 'leaf': 1847, 'lean': 1848, 'leanness': 1849, 'leap': 1850, 'learn': 1851, 'leather': 1852, 'leave': 1853, 'lebrun': 1854, 'leg': 1855, 'legend': 1856, 'legion': 1857, 'legislative': 1858, 'legitimate': 1859, 'leisure': 1860, 'lent': 1861, 'lesson': 1862, 'lest': 1863, 'let': 1864, 'letellier': 1865, 'letter': 1866, 'level': 1867, 'leviticus': 1868, 'levy': 1869, 'liberate': 1870, 'liberty': 1871, 'library': 1872, 'lie': 1873, 'lieutenant': 1874, 'life': 1875, 'lightning': 1876, 'like': 1877, 'limit': 1878, 'line': 1879, 'linen': 1880, 'linguist': 1881, 'link': 1882, 'linnæus': 1883, 'liquidation': 1884, 'listen': 1885, 'little': 1886, 'live': 1887, 'livery': 1888, 'livid': 1889, 'livre': 1890, 'load': 1891, 'local': 1892, 'locality': 1893, 'lock': 1894, 'locution': 1895, 'lodge': 1896, 'lofty': 1897, 'logic': 1898, 'lonely': 1899, 'look': 1900, 'loose': 1901, 'lord': 1902, 'lords': 1903, 'lose': 1904, 'lot': 1905, 'lottery': 1906, 'loud': 1907, 'loudly': 1908, 'louis': 1909, 'louise': 1910, 'louvois': 1911, 'love': 1912, 'lover': 1913, 'low': 1914, 'lowly': 1915, 'lucidity': 1916, 'lucky': 1917, 'lucrative': 1918, 'lucretius': 1919, 'lugubrious': 1920, 'luminous': 1921, 'lux': 1922, 'luxury': 1923, 'lys': 1924, 'lérins': 1925, 'lô': 1926, 'l’aigle': 1927, 'm.': 1928, 'maccabees': 1929, 'machine': 1930, 'madam': 1931, 'madame': 1932, 'mademoiselle': 1933, 'magician': 1934, 'magistrate': 1935, 'magloire': 1936, 'magnificence': 1937, 'magnificent': 1938, 'magnify': 1939, 'mahogany': 1940, 'maid': 1941, 'maillard': 1942, 'main': 1943, 'maintain': 1944, 'maire': 1945, 'maistre': 1946, 'majesty': 1947, 'major': 1948, 'majority': 1949, 'make': 1950, 'malady': 1951, 'malice': 1952, 'manage': 1953, 'manhood': 1954, 'manifestation': 1955, 'manner': 1956, 'manosque': 1957, 'manou': 1958, 'mantle': 1959, 'manufacture': 1960, 'manure': 1961, 'manuscript': 1962, 'marat': 1963, 'marble': 1964, 'march': 1965, 'marcus': 1966, 'margin': 1967, 'marie': 1968, 'mark': 1969, 'marquis': 1970, 'marriage': 1971, 'marry': 1972, 'marshal': 1973, 'martyr': 1974, 'marvellous': 1975, 'mass': 1976, 'masse': 1977, 'massive': 1978, 'master': 1979, 'mat': 1980, 'materialism': 1981, 'maternal': 1982, 'maternity': 1983, 'matter': 1984, 'maturity': 1985, 'mayor': 1986, 'meadow': 1987, 'meal': 1988, 'mean': 1989, 'meaning': 1990, 'measure': 1991, 'meat': 1992, 'mechanically': 1993, 'mechanism': 1994, 'medical': 1995, 'meditate': 1996, 'meditation': 1997, 'medium': 1998, 'meet': 1999, 'meeting': 2000, 'member': 2001, 'memorable': 2002, 'memorandum': 2003, 'memory': 2004, 'men?—perceive': 2005, 'menace': 2006, 'mention': 2007, 'menæchmus': 2008, 'merchant': 2009, 'mercy': 2010, 'mere': 2011, 'merely': 2012, 'merit': 2013, 'merovingian': 2014, 'merrily': 2015, 'mesgrigny': 2016, 'messieurs': 2017, 'metaphysic': 2018, 'method': 2019, 'metropolis': 2020, 'meuse': 2021, 'michael': 2022, 'midday': 2023, 'middle': 2024, 'midst': 2025, 'mien': 2026, 'mildly': 2027, 'military': 2028, 'milk': 2029, 'mill': 2030, 'million': 2031, 'mind': 2032, 'minerva': 2033, 'mingle': 2034, 'minister': 2035, 'mire': 2036, 'miserable': 2037, 'misery': 2038, 'misfortune': 2039, 'misinformed': 2040, 'mission': 2041, 'mistake': 2042, 'mistaken': 2043, 'mitre': 2044, 'mixed': 2045, 'mode': 2046, 'modest': 2047, 'modify': 2048, 'mohammedan': 2049, 'moment': 2050, 'momentary': 2051, 'mon': 2052, 'monarchy': 2053, 'money': 2054, 'moniteur': 2055, 'monologue': 2056, 'monseigneur': 2057, 'monsieur': 2058, 'monsignor': 2059, 'monster': 2060, 'monstrous': 2061, 'montdidier': 2062, 'month': 2063, 'montrevel': 2064, 'mood': 2065, 'moor': 2066, 'moral': 2067, 'morning': 2068, 'morrow': 2069, 'moses': 2070, 'mother': 2071, 'motionless': 2072, 'mould': 2073, 'mount': 2074, 'mountain': 2075, 'mountaineer': 2076, 'mountainous': 2077, 'mountebank': 2078, 'mourn': 2079, 'mournful': 2080, 'mousqueton': 2081, 'moussu': 2082, 'mouth': 2083, 'moutu': 2084, 'move': 2085, 'movement': 2086, 'mown': 2087, 'mule': 2088, 'multitude': 2089, 'multum': 2090, 'mumble': 2091, 'murder': 2092, 'murderer': 2093, 'murmur': 2094, 'murmuring': 2095, 'museum': 2096, 'myriel': 2097, 'mysterious': 2098, 'mystery': 2099, 'naigeon': 2100, 'nail': 2101, 'naked': 2102, 'name': 2103, 'napery': 2104, 'napoleon': 2105, 'narcissus': 2106, 'narrow': 2107, 'nasal': 2108, 'nation': 2109, 'natural': 2110, 'naturally': 2111, 'natured': 2112, 'near': 2113, 'nearly': 2114, 'necessary': 2115, 'necessitous': 2116, 'necessity': 2117, 'neck': 2118, 'need': 2119, 'needham': 2120, 'needs': 2121, 'needy': 2122, 'nefas': 2123, 'neglect': 2124, 'neighbor': 2125, 'neighborhood': 2126, 'neighboring': 2127, 'nephew': 2128, 'neutral': 2129, 'new': 2130, 'newcomer': 2131, 'nice': 2132, 'night': 2133, 'night.—“thank': 2134, 'nightingale': 2135, 'nile': 2136, 'ninety': 2137, 'nisi': 2138, 'nobility': 2139, 'noble': 2140, 'nocturnal': 2141, 'noise': 2142, 'non': 2143, 'nonsense': 2144, 'nonsensical': 2145, 'norman': 2146, 'nose': 2147, 'notable': 2148, 'notary': 2149, 'note': 2150, 'nothingness': 2151, 'notice': 2152, 'notification': 2153, 'notre': 2154, 'nought': 2155, 'nowadays': 2156, 'number': 2157, 'numerous': 2158, 'nurse': 2159, 'nursery': 2160, 'nursing': 2161, 'o': 2162, 'obedience': 2163, 'obey': 2164, 'object': 2165, 'objection': 2166, 'oblige': 2167, 'oblivion': 2168, 'obscure': 2169, 'obscurity': 2170, 'observe': 2171, 'obstacle': 2172, 'obstinacy': 2173, 'obtain': 2174, 'occasion': 2175, 'occasionally': 2176, 'occupy': 2177, 'occur': 2178, 'octogenarian': 2179, 'odd': 2180, 'offend': 2181, 'offer': 2182, 'offering': 2183, 'office': 2184, 'officer': 2185, 'official': 2186, 'officiate': 2187, 'oh': 2188, 'oil': 2189, 'old': 2190, 'olden': 2191, 'ollioules': 2192, 'omit': 2193, 'one': 2194, 'onkelos': 2195, 'only,—noise': 2196, 'onté': 2197, 'open': 2198, 'opening': 2199, 'opinion': 2200, 'opportunity': 2201, 'oppose': 2202, 'opposite': 2203, 'opposition': 2204, 'oppressed': 2205, 'opulent': 2206, 'oratory': 2207, 'ordain': 2208, 'order': 2209, 'ordinary': 2210, 'organism': 2211, 'orient': 2212, 'original': 2213, 'ornament': 2214, 'orphan': 2215, 'orthodoxy': 2216, 'ought': 2217, 'outcry': 2218, 'outset': 2219, 'outside': 2220, 'oval': 2221, 'overflow': 2222, 'overhear': 2223, 'overthrow': 2224, 'overwhelm': 2225, 'owe': 2226, 'ox': 2227, 'oyster': 2228, 'o’clock': 2229, 'p.s.': 2230, 'pace': 2231, 'packer': 2232, 'paddock': 2233, 'page': 2234, 'painful': 2235, 'paint': 2236, 'painting': 2237, 'pair': 2238, 'palace': 2239, 'pale': 2240, 'palimps': 2241, 'pallium': 2242, 'pallor': 2243, 'pant': 2244, 'pantheistical': 2245, 'pantheon': 2246, 'papal': 2247, 'paper': 2248, 'parable': 2249, 'paradise': 2250, 'paralysis': 2251, 'paraphrase': 2252, 'pardon': 2253, 'pardonable': 2254, 'paris': 2255, 'parish': 2256, 'parishioner': 2257, 'parliament': 2258, 'parliamentary': 2259, 'paroxysm': 2260, 'part': 2261, 'particular': 2262, 'particularly': 2263, 'party': 2264, 'parvulo': 2265, 'pascal': 2266, 'pass': 2267, 'passa': 2268, 'passage': 2269, 'passer': 2270, 'passion': 2271, 'passionate': 2272, 'passively': 2273, 'past': 2274, 'paste': 2275, 'pastor': 2276, 'pastoral': 2277, 'paternally': 2278, 'path': 2279, 'patient': 2280, 'patrem': 2281, 'patriotic': 2282, 'patrol': 2283, 'patron': 2284, 'pattern': 2285, 'paul': 2286, 'pause': 2287, 'pave': 2288, 'pay': 2289, 'peace': 2290, 'peaceful': 2291, 'pearl': 2292, 'peasant': 2293, 'peculiar': 2294, 'pedantry': 2295, 'peer': 2296, 'peerage': 2297, 'peevish': 2298, 'pekin': 2299, 'pen': 2300, 'penalty': 2301, 'penetrate': 2302, 'penitent': 2303, 'pension': 2304, 'pensive': 2305, 'people': 2306, 'perceive': 2307, 'perchance': 2308, 'perfect': 2309, 'perfection': 2310, 'perfectly': 2311, 'perform': 2312, 'perfume': 2313, 'peril': 2314, 'perilous': 2315, 'period': 2316, 'perish': 2317, 'permanent': 2318, 'permit': 2319, 'perpendicular': 2320, 'perplex': 2321, 'perquisite': 2322, 'perrette': 2323, 'persecute': 2324, 'persist': 2325, 'persistent': 2326, 'person': 2327, 'personage': 2328, 'personal': 2329, 'personality': 2330, 'perspective': 2331, 'persuade': 2332, 'persuasive': 2333, 'peteghem': 2334, 'petty': 2335, 'phantom': 2336, 'pharmacy': 2337, 'philippe': 2338, 'philosopher': 2339, 'philosophical': 2340, 'philosophy': 2341, 'phrase': 2342, 'physician': 2343, 'physiognomy': 2344, 'physiologist': 2345, 'picture': 2346, 'piece': 2347, 'pier': 2348, 'pierce': 2349, 'pigault': 2350, 'pink': 2351, 'pissot': 2352, 'pitch': 2353, 'pity': 2354, 'piédmont': 2355, 'place': 2356, 'plain': 2357, 'plant': 2358, 'play': 2359, 'pleasantly': 2360, 'please': 2361, 'pleased': 2362, 'pleasing': 2363, 'pleasure': 2364, 'plot': 2365, 'pluck': 2366, 'plump': 2367, 'plunge': 2368, 'pocula': 2369, 'point': 2370, 'poinçot': 2371, 'political': 2372, 'politician': 2373, 'pompierry': 2374, 'pontifical': 2375, 'pontifically': 2376, 'poor': 2377, 'poorly': 2378, 'pope': 2379, 'populace': 2380, 'porch': 2381, 'pork': 2382, 'porter': 2383, 'portion': 2384, 'portrait': 2385, 'possess': 2386, 'possession': 2387, 'possibility': 2388, 'possibly': 2389, 'post': 2390, 'posting': 2391, 'pot': 2392, 'pour': 2393, 'power': 2394, 'powerful': 2395, 'pray': 2396, 'prayer': 2397, 'preach': 2398, 'preacher': 2399, 'prebend': 2400, 'prebends,—the': 2401, 'precaution': 2402, 'precede': 2403, 'precipice': 2404, 'precipitate': 2405, 'precipitation': 2406, 'precisely': 2407, 'prefect': 2408, 'prefer': 2409, 'prejudice': 2410, 'prelate': 2411, 'prelate,—revenue': 2412, 'prenomen': 2413, 'preoccupation': 2414, 'preparation': 2415, 'prepare': 2416, 'presbytery': 2417, 'presence': 2418, 'present': 2419, 'preserve': 2420, 'presidency': 2421, 'president': 2422, 'press': 2423, 'pretend': 2424, 'pretension': 2425, 'pretext': 2426, 'pretty': 2427, 'prevalent': 2428, 'prevent': 2429, 'previously': 2430, 'prey': 2431, 'prie': 2432, 'priest': 2433, 'priesthood': 2434, 'prince': 2435, 'principal': 2436, 'principle': 2437, 'prior': 2438, 'prison': 2439, 'prisoner': 2440, 'private': 2441, 'privilege': 2442, 'probability': 2443, 'probable': 2444, 'probably': 2445, 'proclaim': 2446, 'procure': 2447, 'prodigious': 2448, 'produce': 2449, 'product': 2450, 'profess': 2451, 'profession': 2452, 'profile': 2453, 'profit': 2454, 'profound': 2455, 'profundity': 2456, 'progress': 2457, 'project': 2458, 'promise': 2459, 'promotion': 2460, 'proof': 2461, 'prop': 2462, 'proper': 2463, 'properly': 2464, 'property': 2465, 'prophet': 2466, 'proportion': 2467, 'propose': 2468, 'proscribe': 2469, 'prosperity': 2470, 'prostitution': 2471, 'protect': 2472, 'protest': 2473, 'proud': 2474, 'prove': 2475, 'provence': 2476, 'provençal': 2477, 'provide': 2478, 'providence': 2479, 'provoke': 2480, 'provost': 2481, 'prudhomme': 2482, 'prussia': 2483, 'préameneu': 2484, 'prêtre': 2485, 'psalms': 2486, 'pseudonym': 2487, 'ptolemaïs': 2488, 'public': 2489, 'publish': 2490, 'puddle': 2491, 'puerile': 2492, 'puerility': 2493, 'puerte': 2494, 'puget': 2495, 'pull': 2496, 'pulpit': 2497, 'punishable': 2498, 'puny': 2499, 'pupil': 2500, 'purchase': 2501, 'purchasing': 2502, 'pure': 2503, 'purple': 2504, 'purpose': 2505, 'purse': 2506, 'pursue': 2507, 'push': 2508, 'put': 2509, 'pyrrhon': 2510, 'quai': 2511, 'qualification': 2512, 'quality': 2513, 'quantity': 2514, 'quarrel': 2515, 'quarter': 2516, 'quarto': 2517, 'quasi': 2518, 'queen': 2519, 'quest': 2520, 'question': 2521, 'queue': 2522, 'queyras': 2523, 'qui': 2524, 'quia': 2525, 'quickly': 2526, 'quill': 2527, 'quit': 2528, 'quiver': 2529, 'quote': 2530, 'race': 2531, 'radiance': 2532, 'radiant': 2533, 'radiate': 2534, 'rag': 2535, 'raillery': 2536, 'rain': 2537, 'rainy': 2538, 'raise': 2539, 'raoul': 2540, 'rare': 2541, 'rarely': 2542, 'rascal': 2543, 'ravine': 2544, 'ray': 2545, 'reach': 2546, 'reaction': 2547, 'read': 2548, 'reading': 2549, 'real': 2550, 'reality': 2551, 'realize': 2552, 'reappear': 2553, 'reason': 2554, 'reasonable': 2555, 'reasoning': 2556, 'rebuff': 2557, 'rebuild': 2558, 'recall': 2559, 'recantation': 2560, 'recapitulation': 2561, 'receipt': 2562, 'receive': 2563, 'reckon': 2564, 'reckoning': 2565, 'recognize': 2566, 'recognized,—that': 2567, 'recoil': 2568, 'recollect': 2569, 'recommend': 2570, 'reconcile': 2571, 'recover': 2572, 'red': 2573, 'redouble': 2574, 'reference': 2575, 'refined': 2576, 'reflection': 2577, 'refrain': 2578, 'refuge': 2579, 'refusal': 2580, 'refuse': 2581, 'regard': 2582, 'regicide': 2583, 'regild': 2584, 'regime': 2585, 'regiment': 2586, 'regimental': 2587, 'regret': 2588, 'regrettable': 2589, 'regular': 2590, 'regulate': 2591, 'regulation': 2592, 'reign': 2593, 'reject': 2594, 'rejoin': 2595, 'rejoinder': 2596, 'relate': 2597, 'relation': 2598, 'relative': 2599, 'relief': 2600, 'relieve': 2601, 'religion': 2602, 'religious': 2603, 'remain': 2604, 'remark': 2605, 'remnant': 2606, 'remonstrance': 2607, 'remove': 2608, 'render': 2609, 'renounce': 2610, 'renunciation': 2611, 'repair': 2612, 'repast': 2613, 'repeat': 2614, 'reply': 2615, 'report': 2616, 'represent': 2617, 'representation': 2618, 'representative': 2619, 'repress': 2620, 'reprimand': 2621, 'reproach': 2622, 'reprove': 2623, 'republic': 2624, 'repulsive': 2625, 'request': 2626, 'require': 2627, 'requirement': 2628, 'resemblance': 2629, 'resemble': 2630, 'reserve': 2631, 'residence': 2632, 'resign': 2633, 'resigned': 2634, 'resinous': 2635, 'resist': 2636, 'resistance': 2637, 'resolve': 2638, 'resource': 2639, 'respect': 2640, 'respectable': 2641, 'responsibility': 2642, 'responsible': 2643, 'rest': 2644, 'restrain': 2645, 'result': 2646, 'resume': 2647, 'retain': 2648, 'retire': 2649, 'retirement': 2650, 'retort': 2651, 'retrace': 2652, 'return': 2653, 'revarnishe': 2654, 'reveal': 2655, 'revenge': 2656, 'revenue': 2657, 'revere': 2658, 'reverence': 2659, 'reverend': 2660, 'reverie': 2661, 'revolution': 2662, 'revolutionist': 2663, 'rich': 2664, 'ride': 2665, 'riding': 2666, 'right': 2667, 'rightly': 2668, 'rim': 2669, 'rise': 2670, 'risk': 2671, 'rite': 2672, 'rival': 2673, 'road': 2674, 'rob': 2675, 'robber': 2676, 'robbery': 2677, 'robust': 2678, 'rochefort': 2679, 'rock': 2680, 'rod': 2681, 'roll': 2682, 'roman': 2683, 'romans': 2684, 'rome': 2685, 'room': 2686, 'rope': 2687, 'rose': 2688, 'round': 2689, 'royal': 2690, 'royalist': 2691, 'royalty': 2692, 'ruddy': 2693, 'rue': 2694, 'ruin': 2695, 'rule': 2696, 'rumor': 2697, 'rusticity': 2698, 'rye': 2699, 'sabran': 2700, 'sack': 2701, 'sacrament': 2702, 'sacred': 2703, 'sacrifice': 2704, 'sacristy': 2705, 'sad': 2706, 'sadness': 2707, 'safe': 2708, 'safely': 2709, 'sage': 2710, 'sagé': 2711, 'saint': 2712, 'sainte': 2713, 'sainted': 2714, 'sake': 2715, 'salad': 2716, 'salary': 2717, 'sales': 2718, 'sally': 2719, 'salon': 2720, 'sambre': 2721, 'sanctity': 2722, 'sardanapalus': 2723, 'satellite': 2724, 'satisfaction': 2725, 'satisfied': 2726, 'satisfy': 2727, 'sauce': 2728, 'saulx': 2729, 'save': 2730, 'savory': 2731, 'saying': 2732, 'scab': 2733, 'scaffold': 2734, 'scandalize': 2735, 'scene': 2736, 'scent': 2737, 'schoolboy': 2738, 'schoolmaster': 2739, 'science': 2740, 'scoff': 2741, 'scold': 2742, 'score': 2743, 'scorn': 2744, 'scourge': 2745, 'scruple': 2746, 'scrutinize': 2747, 'seam': 2748, 'search': 2749, 'season': 2750, 'seat': 2751, 'seated': 2752, 'second': 2753, 'secret': 2754, 'secretary': 2755, 'seditious': 2756, 'see': 2757, 'seed': 2758, 'seek': 2759, 'seeker': 2760, 'seigneur': 2761, 'seignor': 2762, 'seignorial': 2763, 'seize': 2764, 'select': 2765, 'self': 2766, 'sell': 2767, 'seller': 2768, 'semi': 2769, 'seminary': 2770, 'senate': 2771, 'senator': 2772, 'senatorial': 2773, 'send': 2774, 'senez': 2775, 'senior': 2776, 'sense': 2777, 'sensuality': 2778, 'sentence': 2779, 'sentiment': 2780, 'separate': 2781, 'sepulchre': 2782, 'serene': 2783, 'serenity': 2784, 'serge': 2785, 'sermon': 2786, 'servant': 2787, 'serve': 2788, 'service': 2789, 'servitor': 2790, 'set': 2791, 'settle': 2792, 'seven': 2793, 'seventeen': 2794, 'seventy': 2795, 'severe': 2796, 'severity': 2797, 'sex': 2798, 'shade': 2799, 'shadow': 2800, 'shake': 2801, 'shallow': 2802, 'share': 2803, 'shed': 2804, 'sheep': 2805, 'sheet': 2806, 'shelf': 2807, 'shelter': 2808, 'shepherd': 2809, 'shiver': 2810, 'shock': 2811, 'shocked': 2812, 'shoe': 2813, 'shore': 2814, 'short': 2815, 'shortens,—the': 2816, 'shortly': 2817, 'shoulder': 2818, 'show': 2819, 'shower': 2820, 'shut': 2821, 'sick': 2822, 'sickness': 2823, 'side': 2824, 'sideboard': 2825, 'sight': 2826, 'sightedness': 2827, 'sign': 2828, 'signify': 2829, 'silence': 2830, 'silent': 2831, 'silhouette': 2832, 'silk': 2833, 'silver': 2834, 'silverware': 2835, 'similar': 2836, 'simore': 2837, 'simple': 2838, 'simplicity': 2839, 'simply': 2840, 'sin': 2841, 'sinecure': 2842, 'singe': 2843, 'single': 2844, 'singular': 2845, 'sinister': 2846, 'sinite': 2847, 'sinner': 2848, 'sir': 2849, 'sire': 2850, 'sister': 2851, 'sisteron': 2852, 'sit': 2853, 'sitting': 2854, 'situate': 2855, 'situated': 2856, 'situation': 2857, 'skilful': 2858, 'skirt': 2859, 'skull': 2860, 'sky': 2861, 'slavery': 2862, 'slay': 2863, 'sleep': 2864, 'slight': 2865, 'slightly': 2866, 'slip': 2867, 'slope': 2868, 'slowly': 2869, 'slowness': 2870, 'slumber': 2871, 'small': 2872, 'smile': 2873, 'smitten': 2874, 'smoke': 2875, 'soak': 2876, 'soanen': 2877, 'sofa': 2878, 'soft': 2879, 'soften': 2880, 'soil': 2881, 'sol': 2882, 'solar': 2883, 'sole': 2884, 'solemn': 2885, 'solemnity': 2886, 'solicit': 2887, 'solitary': 2888, 'solitude': 2889, 'solomon': 2890, 'solve': 2891, 'sombre': 2892, 'somewhat': 2893, 'somnambulism': 2894, 'son': 2895, 'soon': 2896, 'sorrow': 2897, 'sorry': 2898, 'sort': 2899, 'sou': 2900, 'soul': 2901, 'sound': 2902, 'soup': 2903, 'sous': 2904, 'south': 2905, 'souvenir': 2906, 'space': 2907, 'speak': 2908, 'speaker': 2909, 'speaking': 2910, 'special': 2911, 'specie': 2912, 'speck': 2913, 'spectacle': 2914, 'spectre': 2915, 'speculation': 2916, 'speech': 2917, 'speedy': 2918, 'spend': 2919, 'spider': 2920, 'spinster': 2921, 'spirit': 2922, 'spiritual': 2923, 'spit': 2924, 'spite': 2925, 'splendid': 2926, 'splendidly': 2927, 'splendor': 2928, 'spoil': 2929, 'spoon': 2930, 'spoonful': 2931, 'sport': 2932, 'spot': 2933, 'sprain': 2934, 'spread': 2935, 'spring': 2936, 'sprout': 2937, 'squadron': 2938, 'square': 2939, 'st.': 2940, 'stable': 2941, 'staff': 2942, 'staircase': 2943, 'stake': 2944, 'stammer': 2945, 'stamp': 2946, 'stamped': 2947, 'stand': 2948, 'star': 2949, 'stare': 2950, 'starlight': 2951, 'starry': 2952, 'state': 2953, 'station': 2954, 'stature': 2955, 'steadily': 2956, 'steady': 2957, 'steal': 2958, 'steel': 2959, 'steep': 2960, 'step': 2961, 'stephen': 2962, 'steward': 2963, 'stick': 2964, 'stigmatize': 2965, 'stirrup': 2966, 'stocking': 2967, 'stone': 2968, 'stop': 2969, 'stormy': 2970, 'story': 2971, 'stout': 2972, 'straight': 2973, 'straighten': 2974, 'strange': 2975, 'strangely': 2976, 'straw': 2977, 'street': 2978, 'strength': 2979, 'stretch': 2980, 'stride': 2981, 'strike': 2982, 'strip': 2983, 'stroll': 2984, 'strong': 2985, 'strongly': 2986, 'strove': 2987, 'strut': 2988, 'stubborn': 2989, 'study': 2990, 'stuff': 2991, 'stunt': 2992, 'stupefied': 2993, 'stupid': 2994, 'stupidly': 2995, 'style': 2996, 'suavity': 2997, 'sub': 2998, 'subject': 2999, 'sublime': 3000, 'sublimity': 3001, 'submission': 3002, 'subordinate': 3003, 'subsist': 3004, 'substance': 3005, 'succeed': 3006, 'success': 3007, 'succession': 3008, 'successive': 3009, 'successively': 3010, 'succor': 3011, 'suddenly': 3012, 'suffer': 3013, 'sufferer': 3014, 'suffering': 3015, 'suffice': 3016, 'sufficient': 3017, 'sufficiently': 3018, 'suite': 3019, 'sum': 3020, 'sum_—i': 3021, 'summer': 3022, 'summon': 3023, 'sun': 3024, 'sunday': 3025, 'sup': 3026, 'superb': 3027, 'superfluity': 3028, 'superfluous': 3029, 'superhuman': 3030, 'superior': 3031, 'supper': 3032, 'supply': 3033, 'support': 3034, 'suppose': 3035, 'suppress': 3036, 'supremacy': 3037, 'supreme': 3038, 'sure': 3039, 'surface': 3040, 'surmount': 3041, 'surplice': 3042, 'surprise': 3043, 'surround': 3044, 'survey': 3045, 'survive': 3046, 'suspect': 3047, 'suspicion': 3048, 'suspicious': 3049, 'swallow': 3050, 'swan': 3051, 'swear': 3052, 'sweat': 3053, 'sweating': 3054, 'swedenborg': 3055, 'sweep': 3056, 'swell': 3057, 'sylvanie': 3058, 'sympathy': 3059, 'synod': 3060, 'system': 3061, 'sés': 3062, 'ta': 3063, 'table': 3064, 'tacitly': 3065, 'taciturn': 3066, 'tacitus': 3067, 'tainville': 3068, 'take': 3069, 'tale': 3070, 'talent': 3071, 'talk': 3072, 'tall': 3073, 'tank': 3074, 'tantalus': 3075, 'task': 3076, 'tassel': 3077, 'taste': 3078, 'tavannes': 3079, 'tax': 3080, 'taxis': 3081, 'te': 3082, 'teach': 3083, 'teacher': 3084, 'teaching': 3085, 'team': 3086, 'tear': 3087, 'telemachus': 3088, 'tell': 3089, 'temperature': 3090, 'temple': 3091, 'tempt': 3092, 'temptation': 3093, 'tempting': 3094, 'tend': 3095, 'tendency': 3096, 'tender': 3097, 'tenderness': 3098, 'term': 3099, 'terminate': 3100, 'terrestrial': 3101, 'terrible': 3102, 'terrify': 3103, 'territory': 3104, 'terror': 3105, 'terror,—did': 3106, 'tertullian': 3107, 'tetê': 3108, 'text': 3109, 'thank': 3110, 'thatched': 3111, 'thee': 3112, 'theft': 3113, 'thenceforth': 3114, 'theological': 3115, 'theology': 3116, 'theory': 3117, 'theresa': 3118, 'thickness': 3119, 'thief': 3120, 'thin': 3121, 'thing': 3122, 'think': 3123, 'thinker': 3124, 'thirteen': 3125, 'thirty': 3126, 'thither': 3127, 'thomas': 3128, 'thoroughly': 3129, 'thou': 3130, 'thought': 3131, 'thoughtful': 3132, 'thoughtfully': 3133, 'thoughtless': 3134, 'thousand': 3135, 'threadbare': 3136, 'threaten': 3137, 'throw': 3138, 'thumb': 3139, 'thunderbolt': 3140, 'thy': 3141, 'tiara': 3142, 'tilt': 3143, 'time': 3144, 'times,—we': 3145, 'timid': 3146, 'tin': 3147, 'tiny': 3148, 'tire': 3149, 'tired': 3150, 'tiridate': 3151, 'tis': 3152, 'tithe': 3153, 'title': 3154, 'toil': 3155, 'toilet': 3156, 'tolerable': 3157, 'tolerably': 3158, 'tolerant': 3159, 'tomb': 3160, 'tone': 3161, 'tongue': 3162, 'tooth': 3163, 'torment': 3164, 'torture': 3165, 'total': 3166, 'touch': 3167, 'touching': 3168, 'tournefort': 3169, 'tourteau': 3170, 'tower': 3171, 'town': 3172, 'track': 3173, 'tragic': 3174, 'train': 3175, 'trait': 3176, 'tranquil': 3177, 'transcribe': 3178, 'transfigure': 3179, 'transform': 3180, 'transformation': 3181, 'transparency': 3182, 'transport': 3183, 'trappist': 3184, 'travel': 3185, 'traverse': 3186, 'treachery': 3187, 'treasure': 3188, 'treasurer': 3189, 'treasury': 3190, 'treat': 3191, 'tree': 3192, 'tremble': 3193, 'trembling': 3194, 'trial': 3195, 'tribunal': 3196, 'trickle': 3197, 'trim': 3198, 'trip': 3199, 'triumph': 3200, 'troop': 3201, 'trouble': 3202, 'troubled': 3203, 'true': 3204, 'truffle': 3205, 'trunk': 3206, 'trust': 3207, 'truth': 3208, 'try': 3209, 'tuiles': 3210, 'tumbril': 3211, 'turkey': 3212, 'turn': 3213, 'twaddle': 3214, 'typhus': 3215, 'tyranny': 3216, 'tyrant': 3217, 'tyrant,—ignorance': 3218, 'ubaye': 3219, 'ubayette': 3220, 'ugly': 3221, 'ultra': 3222, 'ultramontane': 3223, 'un': 3224, 'uncle': 3225, 'undergo': 3226, 'underlie': 3227, 'understand': 3228, 'understanding': 3229, 'unearth': 3230, 'uneasiness,—places': 3231, 'uneffaceable': 3232, 'unfaile': 3233, 'unfastened': 3234, 'unfold': 3235, 'unfortunate': 3236, 'unhappy': 3237, 'union': 3238, 'unity': 3239, 'universal': 3240, 'universe': 3241, 'unjust': 3242, 'unknown': 3243, 'unpleasant': 3244, 'unseen': 3245, 'unutterable': 3246, 'uphold': 3247, 'upper': 3248, 'upright': 3249, 'upsetting': 3250, 'urbanist': 3251, 'urge': 3252, 'urn': 3253, 'usage': 3254, 'useful': 3255, 'useless': 3256, 'usual': 3257, 'usually': 3258, 'usurer': 3259, 'usurp': 3260, 'usury': 3261, 'utensil': 3262, 'utility': 3263, 'utrecht': 3264, 'utter': 3265, 'utterance': 3266, 'utterly': 3267, 'vaguely': 3268, 'vain': 3269, 'valley': 3270, 'value': 3271, 'vanish': 3272, 'vanishing': 3273, 'vanity': 3274, 'vanum': 3275, 'var': 3276, 'variety': 3277, 'vase': 3278, 'vast': 3279, 'vault': 3280, 'vegetable': 3281, 'vegetation': 3282, 'veil': 3283, 'velvet': 3284, 'vence': 3285, 'vendôme': 3286, 'venerable': 3287, 'venerate': 3288, 'venial': 3289, 'verge': 3290, 'verify': 3291, 'vermis': 3292, 'versaille': 3293, 'verse': 3294, 'vertigo': 3295, 'vestment': 3296, 'vibrate': 3297, 'vicar': 3298, 'vicarage': 3299, 'vicarship': 3300, 'vice': 3301, 'vicinity': 3302, 'vicissitude': 3303, 'vicomtess': 3304, 'view': 3305, 'vigilant': 3306, 'village': 3307, 'vincent': 3308, 'vindicate': 3309, 'vine': 3310, 'vinegar': 3311, 'violent': 3312, 'virgin': 3313, 'virtuous': 3314, 'visage': 3315, 'visible': 3316, 'vision': 3317, 'visit': 3318, 'visitor': 3319, 'vitality': 3320, 'vocation': 3321, 'voice': 3322, 'voltaire': 3323, 'voltairian': 3324, 'volume': 3325, 'voluntary': 3326, 'voluptuousness': 3327, 'vote': 3328, 'voting': 3329, 'votre': 3330, 'vulgar': 3331, 'vulnerable': 3332, 'vulture': 3333, 'wadded': 3334, 'wafer': 3335, 'waist': 3336, 'wait': 3337, 'walk': 3338, 'wall': 3339, 'want': 3340, 'war': 3341, 'warm': 3342, 'wash': 3343, 'washed': 3344, 'washing': 3345, 'waste': 3346, 'watch': 3347, 'water': 3348, 'watering': 3349, 'waterloo': 3350, 'wave': 3351, 'wax': 3352, 'way': 3353, 'weaken': 3354, 'weakly': 3355, 'wealthy': 3356, 'wear': 3357, 'weather': 3358, 'week': 3359, 'weep': 3360, 'weigh': 3361, 'weight': 3362, 'welcome': 3363, 'well': 3364, 'wert': 3365, 'whatsoever': 3366, 'wheel': 3367, 'wheelbarrow': 3368, 'whisper': 3369, 'white': 3370, 'whitewash': 3371, 'whitish': 3372, 'wholesome': 3373, 'whomsoever': 3374, 'widely': 3375, 'widow': 3376, 'wife': 3377, 'wild': 3378, 'will': 3379, 'willing': 3380, 'willingly': 3381, 'win': 3382, 'wind': 3383, 'windfall': 3384, 'window': 3385, 'wing': 3386, 'wink': 3387, 'winter': 3388, 'wisdom': 3389, 'wise': 3390, 'wisely': 3391, 'wish': 3392, 'wit': 3393, 'witness': 3394, 'woe': 3395, 'wolf': 3396, 'wood': 3397, 'wooden': 3398, 'woodwork': 3399, 'woollen': 3400, 'words—_palabre': 3401, 'work': 3402, 'workman': 3403, 'world': 3404, 'worm': 3405, 'worship': 3406, 'worthy': 3407, 'wound': 3408, 'wrath': 3409, 'wretch': 3410, 'wretched': 3411, 'wretchedness': 3412, 'wrinkle': 3413, 'write': 3414, 'writer': 3415, 'writing': 3416, 'wrong': 3417, 'xv': 3418, 'xvi': 3419, 'xvii': 3420, 'xviii': 3421, 'yawn': 3422, 'year': 3423, 'yearly': 3424, 'yellow': 3425, 'yes': 3426, 'yesterday': 3427, 'yield': 3428, 'yonder': 3429, 'young': 3430, 'youth': 3431, 'youthful': 3432, 'zero': 3433, 'æschylus': 3434, 'étienne': 3435, '”—_“well': 3436, '12': 3437, '1795': 3438, '1796': 3439, '20': 3440, '22d': 3441, '24,601': 3442, '25': 3443, '2d': 3444, '3': 3445, '30': 3446, '4th': 3447, 'abandonment': 3448, 'abominable': 3449, 'abomination': 3450, 'absurd': 3451, 'abysses,—the': 3452, 'accumulation': 3453, 'acquaintance': 3454, 'adjoining': 3455, 'adroit': 3456, 'adroitness': 3457, 'advice': 3458, 'advise': 3459, 'afar': 3460, 'afresh': 3461, 'aggravation': 3462, 'agitate': 3463, 'ahead': 3464, 'ajar': 3465, 'alarmed': 3466, 'alert': 3467, 'alloz': 3468, 'alps': 3469, 'alternate': 3470, 'alternative': 3471, 'amazement': 3472, 'anchor': 3473, 'angelic': 3474, 'anger': 3475, 'angle': 3476, 'angrily': 3477, 'animate': 3478, 'animation': 3479, 'annihilate': 3480, 'annihilation': 3481, 'apparition': 3482, 'appropriateness': 3483, 'apron': 3484, 'arch': 3485, 'arched': 3486, 'artery': 3487, 'artisan': 3488, 'assassin': 3489, 'assault': 3490, 'assist': 3491, 'associate': 3492, 'assuredly': 3493, 'astounded': 3494, 'athwart': 3495, 'attack': 3496, 'attentive': 3497, 'attentively': 3498, 'audacious': 3499, 'audible': 3500, 'audincourt': 3501, 'augment': 3502, 'aureole': 3503, 'authenticate': 3504, 'author': 3505, 'avail': 3506, 'avenue': 3507, 'avidity': 3508, 'awaken': 3509, 'awakened': 3510, 'baby': 3511, 'backwards': 3512, 'bacon': 3513, 'bag': 3514, 'baker': 3515, 'balcony': 3516, 'bale': 3517, 'ball': 3518, 'bank': 3519, 'bark': 3520, 'barn': 3521, 'barrel': 3522, 'barricade': 3523, 'basket': 3524, 'bathe': 3525, 'beard': 3526, 'beat': 3527, 'because,—strange': 3528, 'bed.—he': 3529, 'being': 3530, 'bell': 3531, 'bertrand': 3532, 'beset': 3533, 'bestrode': 3534, 'betake': 3535, 'beure': 3536, 'beware': 3537, 'bewilder': 3538, 'bewildered': 3539, 'bicêtre': 3540, 'bid': 3541, 'billow': 3542, 'bird': 3543, 'bite': 3544, 'blameworthy': 3545, 'bleed': 3546, 'blind': 3547, 'blouse': 3548, 'bohemian': 3549, 'bolder': 3550, 'bone': 3551, 'bosom': 3552, 'bottle': 3553, 'bottomless': 3554, 'boulevard': 3555, 'boundary': 3556, 'bowl': 3557, 'branch': 3558, 'brand': 3559, 'bras': 3560, 'brave': 3561, 'breaking': 3562, 'breathe': 3563, 'breathing': 3564, 'brevet': 3565, 'brie': 3566, 'brigadier': 3567, 'bright': 3568, 'brightness': 3569, 'bristle': 3570, 'bristling': 3571, 'broth': 3572, 'brown': 3573, 'bruise': 3574, 'brushwood': 3575, 'brutal': 3576, 'brutalizing': 3577, 'brute': 3578, 'brutishness': 3579, 'bubble': 3580, 'buckle': 3581, 'bulge': 3582, 'bull': 3583, 'buona': 3584, 'burglary': 3585, 'bush': 3586, 'busily': 3587, 'button': 3588, 'buy': 3589, 'cabbage,—to': 3590, 'cable': 3591, 'cage': 3592, 'cannon': 3593, 'capstan': 3594, 'captain': 3595, 'captivity': 3596, 'capture': 3597, 'careful': 3598, 'carefully': 3599, 'careless': 3600, 'carp': 3601, 'carter': 3602, 'caryatid': 3603, 'cat': 3604, 'celestial': 3605, 'centre': 3606, 'certainly,—and': 3607, 'certainty': 3608, 'chaffaut': 3609, 'chain': 3610, 'channel': 3611, 'chase': 3612, 'chastisement': 3613, 'checker': 3614, 'cheerful': 3615, 'cheese': 3616, 'chemical': 3617, 'chief': 3618, 'churlishly': 3619, 'châtillon': 3620, 'cipher': 3621, 'circulate': 3622, 'clamor': 3623, 'clarify': 3624, 'clasp': 3625, 'clearness': 3626, 'clench': 3627, 'climb': 3628, 'closely': 3629, 'clothing': 3630, 'club': 3631, 'coat': 3632, 'cochefilet': 3633, 'cochlearia': 3634, 'cock': 3635, 'code': 3636, 'colbas': 3637, 'collar': 3638, 'colossal': 3639, 'column': 3640, 'comfortable': 3641, 'commiseration': 3642, 'compile': 3643, 'completely': 3644, 'complicated': 3645, 'comrade': 3646, 'comté': 3647, 'condition': 3648, 'confuse': 3649, 'confusedly': 3650, 'consciously': 3651, 'consciousness': 3652, 'consequently': 3653, 'constant': 3654, 'constantly': 3655, 'construction': 3656, 'consummate': 3657, 'contemplating': 3658, 'continuation': 3659, 'contour': 3660, 'contract': 3661, 'contraction': 3662, 'convey': 3663, 'convict': 3664, 'convulsively': 3665, 'cook': 3666, 'coping': 3667, 'cordial': 3668, 'corinthians': 3669, 'corpse': 3670, 'corrupt': 3671, 'cotton': 3672, 'couverte': 3673, 'crabbed': 3674, 'cradle': 3675, 'crane': 3676, 'cravat': 3677, 'crawl': 3678, 'crazy': 3679, 'creditor': 3680, 'crew': 3681, 'crosse': 3682, 'crouch': 3683, 'cruelty': 3684, 'crupper': 3685, 'culprit': 3686, 'cup': 3687, 'cupboard.—on': 3688, 'curling': 3689, 'cursorily': 3690, 'daily': 3691, 'dairy': 3692, 'dandle': 3693, 'danube': 3694, 'dart': 3695, 'dash': 3696, 'dashing': 3697, 'daybreak': 3698, 'daylight': 3699, 'dazzling': 3700, 'deaden': 3701, 'deaf': 3702, 'debtor': 3703, 'decidedly': 3704, 'deck': 3705, 'declaration': 3706, 'deeds,—whose': 3707, 'defect': 3708, 'definitely': 3709, 'deformed': 3710, 'deject': 3711, 'deliberate': 3712, 'deliberation': 3713, 'delinquent': 3714, 'deliverance': 3715, 'demon': 3716, 'den': 3717, 'denizen': 3718, 'derive': 3719, 'deserted': 3720, 'deserve': 3721, 'deserving': 3722, 'design': 3723, 'desolate': 3724, 'desperate': 3725, 'destination': 3726, 'detain': 3727, 'dilapidated': 3728, 'dim': 3729, 'diminish': 3730, 'diminution': 3731, 'directory': 3732, 'disagreeable': 3733, 'disastrous': 3734, 'discharged': 3735, 'disconsolate': 3736, 'disentangle': 3737, 'disguise': 3738, 'dismay': 3739, 'dismissal': 3740, 'displace': 3741, 'disproportionate': 3742, 'disproportionately': 3743, 'disproportione': 3744, 'dissimulate': 3745, 'dissipate': 3746, 'distant.—just': 3747, 'distillery': 3748, 'distinct': 3749, 'distinguishable': 3750, 'distribute': 3751, 'disturb': 3752, 'divert': 3753, 'division': 3754, 'dog': 3755, 'doorway': 3756, 'dost': 3757, 'doubtful': 3758, 'doubtless': 3759, 'downstream': 3760, 'dragging': 3761, 'dreamer': 3762, 'dreary': 3763, 'drilling': 3764, 'drip': 3765, 'drive': 3766, 'drouot': 3767, 'drown': 3768, 'drowsiness': 3769, 'drudge': 3770, 'du': 3771, 'duly': 3772, 'd’asse': 3773, 'eagerly': 3774, 'earn': 3775, 'earning': 3776, 'earthenware': 3777, 'earthquake': 3778, 'eating': 3779, 'eating,—a': 3780, 'echo': 3781, 'eclipse': 3782, 'education': 3783, 'effaced': 3784, 'eke': 3785, 'elapse': 3786, 'elevate': 3787, 'embarrassing': 3788, 'emit': 3789, 'emphasize': 3790, 'employ': 3791, 'employment': 3792, 'empurple': 3793, 'encompass': 3794, 'endow': 3795, 'engage': 3796, 'engulf': 3797, 'engulfment': 3798, 'engulfs': 3799, 'enlarge': 3800, 'enlightenment': 3801, 'enormity': 3802, 'entrance': 3803, 'envelop': 3804, 'envious': 3805, 'environ': 3806, 'equilibrium': 3807, 'escoublon': 3808, 'estate': 3809, 'evangelical': 3810, 'eventually': 3811, 'everything,—of': 3812, 'evidence': 3813, 'exaggerate': 3814, 'exaggeration': 3815, 'exceed': 3816, 'excessive': 3817, 'execute': 3818, 'exhausted': 3819, 'exhortation': 3820, 'expanse': 3821, 'expel': 3822, 'expensive': 3823, 'expiation': 3824, 'expiration': 3825, 'explicit': 3826, 'expressive': 3827, 'external': 3828, 'extinguish': 3829, 'extraordinary': 3830, 'eyelash': 3831, 'fact,—the': 3832, 'factory': 3833, 'fainting': 3834, 'faithful': 3835, 'familiar': 3836, 'famish': 3837, 'fan': 3838, 'fantastic': 3839, 'fare': 3840, 'farm': 3841, 'fathers': 3842, 'fatigued': 3843, 'faverolles': 3844, 'feebler': 3845, 'feed': 3846, 'felicity': 3847, 'fencing': 3848, 'feverish': 3849, 'fichu': 3850, 'fierce': 3851, 'fig': 3852, 'final': 3853, 'firelight': 3854, 'firelight,—“come': 3855, 'fireplace': 3856, 'firmly': 3857, 'firstly': 3858, 'fishmarket': 3859, 'fishmonger': 3860, 'fist': 3861, 'flank': 3862, 'flap': 3863, 'fle': 3864, 'flee': 3865, 'fling': 3866, 'floated': 3867, 'floréal': 3868, 'fluctuation': 3869, 'fly': 3870, 'foam': 3871, 'fog': 3872, 'folder': 3873, 'foolish': 3874, 'footed': 3875, 'foresight': 3876, 'forest': 3877, 'forevermore': 3878, 'forge': 3879, 'formless': 3880, 'fortify': 3881, 'fortress': 3882, 'fortunate': 3883, 'fortunately': 3884, 'foundry': 3885, 'fountain': 3886, 'fourteen': 3887, 'frail': 3888, 'franche': 3889, 'francs.—double': 3890, 'frantically': 3891, 'freeze': 3892, 'frequent': 3893, 'frequently': 3894, 'friar': 3895, 'friendly': 3896, 'frighten': 3897, 'frightened': 3898, 'frigid': 3899, 'frizzed': 3900, 'fruitière': 3901, 'fully': 3902, 'fumble': 3903, 'furiously': 3904, 'furtive': 3905, 'fury': 3906, 'gait': 3907, 'galley': 3908, 'galleys,—a': 3909, 'gallop': 3910, 'gallow': 3911, 'galvanic': 3912, 'gang': 3913, 'gassendi': 3914, 'gaux': 3915, 'gayly': 3916, 'gendarmerie': 3917, 'gentleness': 3918, 'gerbaud': 3919, 'germany': 3920, 'gervais': 3921, 'gindre': 3922, 'girdle': 3923, 'glad': 3924, 'glimpse': 3925, 'glitter': 3926, 'gloaming': 3927, 'glory': 3928, 'glow': 3929, 'gown': 3930, 'grander': 3931, 'grated': 3932, 'grating': 3933, 'gray': 3934, 'grenoble': 3935, 'grimace': 3936, 'grip': 3937, 'gruffly': 3938, 'grumblingly': 3939, 'grurin': 3940, 'guides': 3941, 'guillons': 3942, 'gulf': 3943, 'gun': 3944, 'gurdy': 3945, 'gust': 3946, 'gédéon': 3947, 'habitation': 3948, 'haggard': 3949, 'halles': 3950, 'hammer': 3951, 'handkerchief': 3952, 'handle': 3953, 'harangue': 3954, 'harden': 3955, 'hardness': 3956, 'hardship': 3957, 'harmonious': 3958, 'hastily': 3959, 'hasty': 3960, 'haunt': 3961, 'hay': 3962, 'haystack': 3963, 'haze': 3964, 'heap': 3965, 'heat': 3966, 'heather': 3967, 'heave': 3968, 'heavy': 3969, 'hebrews': 3970, 'heel': 3971, 'henceforth': 3972, 'hesitate': 3973, 'hesitation': 3974, 'hideously': 3975, 'hill': 3976, 'him.—they': 3977, 'himself,—a': 3978, 'himself,—in': 3979, 'hinge': 3980, 'hip': 3981, 'hire': 3982, 'history': 3983, 'hither': 3984, 'hitherto': 3985, 'hoard': 3986, 'hoarse': 3987, 'horn': 3988, 'horrify': 3989, 'hospitable': 3990, 'host': 3991, 'hostelry': 3992, 'hot': 3993, 'hotel': 3994, 'humbly': 3995, 'humiliate': 3996, 'hurdy': 3997, 'hurricane': 3998, 'hurt': 3999, 'i.': 4000, 'icy': 4001, 'ignite': 4002, 'ignominy': 4003, 'ignorantin': 4004, 'illumine': 4005, 'immediate': 4006, 'immerse': 4007, 'immobility': 4008, 'immortal': 4009, 'imparted': 4010, 'impassive': 4011, 'impede': 4012, 'imperceptible': 4013, 'imperious': 4014, 'imperiously': 4015, 'imperturbable': 4016, 'impetuously': 4017, 'implacable': 4018, 'implement': 4019, 'implore': 4020, 'importune': 4021, 'impress': 4022, 'improbable': 4023, 'impulse': 4024, 'inaccessible': 4025, 'inarticulate': 4026, 'incessant': 4027, 'incorruptible': 4028, 'increase': 4029, 'incredible': 4030, 'indecision': 4031, 'indefinitely': 4032, 'indignity': 4033, 'indistinctly': 4034, 'individual': 4035, 'indoor': 4036, 'industrious': 4037, 'industry': 4038, 'ineffable': 4039, 'inexhaustible': 4040, 'inexorability': 4041, 'infamy': 4042, 'infancy': 4043, 'infer': 4044, 'infirmity': 4045, 'ingenious': 4046, 'inhabited': 4047, 'iniquitous': 4048, 'injure': 4049, 'injustice': 4050, 'inn': 4051, 'inoffensive': 4052, 'inscribe': 4053, 'insignificant': 4054, 'install': 4055, 'instinctive': 4056, 'intelligence': 4057, 'interior': 4058, 'intermittent': 4059, 'internal': 4060, 'intersect': 4061, 'intersperse': 4062, 'interval': 4063, 'intolerable': 4064, 'intoxicated': 4065, 'intrust': 4066, 'inward': 4067, 'irregular': 4068, 'irremediable': 4069, 'irreparable': 4070, 'irritate': 4071, 'irritated': 4072, 'isabeau': 4073, 'issue': 4074, 'it,—the': 4075, 'iv': 4076, 'ivory': 4077, 'jack': 4078, 'jacquin': 4079, 'jailer': 4080, 'january': 4081, 'jeannette': 4082, 'jewelry': 4083, 'joyous': 4084, 'juan': 4085, 'judgment': 4086, 'jug': 4087, 'jump': 4088, 'keel': 4089, 'keeper': 4090, 'kennel': 4091, 'kiss': 4092, 'knapsack': 4093, 'knitted': 4094, 'knot': 4095, 'knotty': 4096, 'knows?—each': 4097, 'knuckle': 4098, 'labarre': 4099, 'laborer': 4100, 'laboriously': 4101, 'lamb': 4102, 'landing': 4103, 'landlord': 4104, 'landscape': 4105, 'lane': 4106, 'lash': 4107, 'last': 4108, 'late': 4109, 'laughter': 4110, 'lauzet': 4111, 'league': 4112, 'left': 4113, 'lend': 4114, 'length': 4115, 'lever': 4116, 'liberation': 4117, 'lift': 4118, 'lighted': 4119, 'lightly': 4120, 'limb': 4121, 'limbo': 4122, 'limitless': 4123, 'linger': 4124, 'lip': 4125, 'literally': 4126, 'lividness': 4127, 'living': 4128, 'loaf': 4129, 'locksmith': 4130, 'lodging': 4131, 'lods': 4132, 'loft': 4133, 'london': 4134, 'loosen': 4135, 'loss': 4136, 'lower': 4137, 'lucenet': 4138, 'lurk': 4139, 'l’abbé': 4140, 'madness': 4141, 'magic': 4142, 'majestic': 4143, 'majore': 4144, 'maker': 4145, 'making': 4146, 'man,—hope': 4147, 'manifest': 4148, 'manifold': 4149, 'mankind': 4150, 'manœuvre': 4151, 'maraude': 4152, 'marauding': 4153, 'maritime': 4154, 'market': 4155, 'marmot': 4156, 'marquise': 4157, 'marseilles': 4158, 'match': 4159, 'mathieu': 4160, 'matt': 4161, 'matthew': 4162, 'mattress': 4163, 'maubert': 4164, 'mauve': 4165, 'mauves': 4166, 'meantime': 4167, 'measured': 4168, 'mechanical': 4169, 'meditating': 4170, 'medusa': 4171, 'melancholy': 4172, 'mell': 4173, 'menacing': 4174, 'mendicant': 4175, 'merry': 4176, 'message': 4177, 'messieur': 4178, 'mid': 4179, 'midnight': 4180, 'millet': 4181, 'millstone': 4182, 'miner': 4183, 'minute': 4184, 'minuteness': 4185, 'miss': 4186, 'misshapen': 4187, 'mist': 4188, 'mistress': 4189, 'mitred': 4190, 'mixture': 4191, 'moisson': 4192, 'momentarily': 4193, 'montenotte': 4194, 'montorgueil': 4195, 'moon': 4196, 'moonlight': 4197, 'moralizing': 4198, 'morally': 4199, 'muddy': 4200, 'muscle': 4201, 'musebois': 4202, 'mutter': 4203, 'mutton': 4204, 'narrate': 4205, 'native': 4206, 'neat': 4207, 'news': 4208, 'newspaper': 4209, 'nickname': 4210, 'nineteen': 4211, 'nonsentient': 4212, 'north': 4213, 'nostril': 4214, 'not': 4215, 'nourish': 4216, 'novel': 4217, 'obduracy': 4218, 'oblong': 4219, 'obstinate': 4220, 'occupation': 4221, 'ocean': 4222, 'october': 4223, 'odor': 4224, 'of’—that': 4225, 'oiled': 4226, 'ominous': 4227, 'oppress': 4228, 'oppression': 4229, 'orange': 4230, 'organized': 4231, 'orgueil': 4232, 'ostentation': 4233, 'outdoors': 4234, 'outline': 4235, 'outrage': 4236, 'outrageous': 4237, 'oven': 4238, 'overboard': 4239, 'overcome': 4240, 'overwhelmed': 4241, 'owl': 4242, 'owner': 4243, 'pack': 4244, 'pain': 4245, 'pallet': 4246, 'pan': 4247, 'pane': 4248, 'pang': 4249, 'paralyze': 4250, 'pardon,—all': 4251, 'parenthesis': 4252, 'pariah': 4253, 'parte': 4254, 'partly': 4255, 'partridge': 4256, 'passenger': 4257, 'passport': 4258, 'patch': 4259, 'patience': 4260, 'patriarchal': 4261, 'paulin': 4262, 'pavement': 4263, 'payment': 4264, 'peaceable': 4265, 'peacefully': 4266, 'peacefulness': 4267, 'pebble': 4268, 'peculiarity': 4269, 'peep': 4270, 'pell': 4271, 'penal': 4272, 'pencil': 4273, 'perception': 4274, 'perdition': 4275, 'permission': 4276, 'perpetrate': 4277, 'perseverance': 4278, 'persistence': 4279, 'perspiration': 4280, 'perturb': 4281, 'perversity': 4282, 'peter': 4283, 'petrify': 4284, 'pewter': 4285, 'phantasmagorie': 4286, 'phase': 4287, 'phenomenon': 4288, 'physical': 4289, 'physically': 4290, 'pick': 4291, 'pike': 4292, 'pile': 4293, 'pillow': 4294, 'pin': 4295, 'pine': 4296, 'pint': 4297, 'pitiless': 4298, 'plainly': 4299, 'plan': 4300, 'plank': 4301, 'plate': 4302, 'plenty': 4303, 'poacher': 4304, 'pocket': 4305, 'poichevert': 4306, 'poignant': 4307, 'pointed': 4308, 'police': 4309, 'polished': 4310, 'polite': 4311, 'politely': 4312, 'pontarlier': 4313, 'pool': 4314, 'portal': 4315, 'portress': 4316, 'position': 4317, 'positive': 4318, 'posture': 4319, 'powder': 4320, 'practise': 4321, 'preceding': 4322, 'precept': 4323, 'precipitately': 4324, 'predestine': 4325, 'predominate': 4326, 'prefecture': 4327, 'premeditate': 4328, 'preoccupy': 4329, 'prepared': 4330, 'prescribe': 4331, 'pressure': 4332, 'presume': 4333, 'previous': 4334, 'pride': 4335, 'prime': 4336, 'print': 4337, 'printing': 4338, 'proceed': 4339, 'process': 4340, 'proclamation': 4341, 'profoundly': 4342, 'projection': 4343, 'prolongation': 4344, 'prolonged': 4345, 'promenade': 4346, 'prominent': 4347, 'promptly': 4348, 'providential': 4349, 'provision': 4350, 'prowler': 4351, 'pruner': 4352, 'pruning': 4353, 'prévost': 4354, 'puce': 4355, 'puff': 4356, 'punish': 4357, 'punishment': 4358, 'puy': 4359, 'pyramid': 4360, 'quake': 4361, 'quarry': 4362, 'quiet': 4363, 'quilt': 4364, 'r': 4365, 'rage': 4366, 'random': 4367, 'random,—who': 4368, 'rang': 4369, 'range': 4370, 'rapid': 4371, 'rapidly': 4372, 'rattle': 4373, 'ravish': 4374, 'ready': 4375, 'reagent': 4376, 'reawaken': 4377, 'rebellion': 4378, 'recapture': 4379, 'recess': 4380, 'recline': 4381, 'recollection': 4382, 'recommence': 4383, 'recourse': 4384, 'recur': 4385, 'reduce': 4386, 'reef': 4387, 'reflect': 4388, 'region': 4389, 'rejoice': 4390, 'relationship': 4391, 'release': 4392, 'remained': 4393, 'remind': 4394, 'renew': 4395, 'rent': 4396, 'repasse': 4397, 'repentant': 4398, 'repetition': 4399, 'replace': 4400, 'repose': 4401, 'repression': 4402, 'reprisal': 4403, 'reproved': 4404, 'resolute': 4405, 'resolutely': 4406, 'respectful': 4407, 'resplendent': 4408, 'respond': 4409, 'resuscitate': 4410, 'retail': 4411, 'retake': 4412, 'retreat': 4413, 'reverse': 4414, 'revolt': 4415, 'ribbon': 4416, 'ring': 4417, 'riper': 4418, 'rivet': 4419, 'roam': 4420, 'roar': 4421, 'robe': 4422, 'roof': 4423, 'room.—they': 4424, 'root': 4425, 'rough': 4426, 'row': 4427, 'rude': 4428, 'run': 4429, 'rush': 4430, 'rusty': 4431, 'régime': 4432, 'sabot': 4433, 'sail': 4434, 'sailor': 4435, 'salt': 4436, 'salute': 4437, 'satan': 4438, 'savage': 4439, 'saving': 4440, 'savoyard': 4441, 'saw': 4442, 'scale': 4443, 'scar': 4444, 'scatter': 4445, 'school': 4446, 'scrap': 4447, 'screw': 4448, 'scullion': 4449, 'sea': 4450, 'seal': 4451, 'searchingly': 4452, 'seashore': 4453, 'seaweed': 4454, 'secondly': 4455, 'semblance': 4456, 'sensation': 4457, 'sensible': 4458, 'sentient': 4459, 'sergeant': 4460, 'setting': 4461, 'severely': 4462, 'sew': 4463, 'shadowy': 4464, 'shape': 4465, 'sharply': 4466, 'shave': 4467, 'sheath': 4468, 'shield': 4469, 'shine': 4470, 'ship': 4471, 'shipwreck': 4472, 'shirt': 4473, 'shivering': 4474, 'shod': 4475, 'shoot': 4476, 'shop': 4477, 'shot': 4478, 'shout': 4479, 'shouting': 4480, 'shriek': 4481, 'shroud': 4482, 'shrug': 4483, 'shudder': 4484, 'shuddering': 4485, 'shutter': 4486, 'siege': 4487, 'sigh': 4488, 'sill': 4489, 'silver.—from': 4490, 'sing': 4491, 'singing': 4492, 'sink': 4493, 'sixteen': 4494, 'sixth': 4495, 'size': 4496, 'skill': 4497, 'skin': 4498, 'slave': 4499, 'sleeve': 4500, 'slender': 4501, 'slice': 4502, 'sluggish': 4503, 'smack': 4504, 'smoking': 4505, 'smuggler': 4506, 'snatch': 4507, 'snout': 4508, 'snuff': 4509, 'sob': 4510, 'sobriquet': 4511, 'sod': 4512, 'softly': 4513, 'sojourn': 4514, 'soldier': 4515, 'solid.—and': 4516, 'song': 4517, 'sordid': 4518, 'sore': 4519, 'source': 4520, 'sovereign': 4521, 'spark': 4522, 'speechless': 4523, 'speed': 4524, 'speedily': 4525, 'spill': 4526, 'spinning': 4527, 'spire': 4528, 'spur': 4529, 'start': 4530, 'starve': 4531, 'statement': 4532, 'static': 4533, 'statistic': 4534, 'statue': 4535, 'stay': 4536, 'stew': 4537, 'stiffen': 4538, 'stifle': 4539, 'stir': 4540, 'stitcher': 4541, 'stockingless': 4542, 'stole': 4543, 'stomacher': 4544, 'stool': 4545, 'stoop': 4546, 'stove': 4547, 'stranger': 4548, 'strap': 4549, 'striking': 4550, 'string': 4551, 'stroke': 4552, 'struggle': 4553, 'stubble': 4554, 'studded': 4555, 'stupefaction': 4556, 'stupor': 4557, 'sudden': 4558, 'suggestive': 4559, 'sulpice': 4560, 'summit': 4561, 'sundays': 4562, 'sunlight': 4563, 'sunrise': 4564, 'sunset': 4565, 'superintend': 4566, 'superpose': 4567, 'suppleness': 4568, 'surcharge': 4569, 'sureness': 4570, 'suspend': 4571, 'suspender': 4572, 'sustain': 4573, 'swarming': 4574, 'sweet': 4575, 'swim': 4576, 'sword': 4577, 'symmetrically': 4578, 'tablecloth': 4579, 'talking': 4580, 'tally': 4581, 'tan': 4582, 'tannery': 4583, 'tap': 4584, 'tattere': 4585, 'tavern': 4586, 'temp': 4587, 'tension': 4588, 'tenth': 4589, 'terrified': 4590, 'there.—a': 4591, 'thick': 4592, 'thickset': 4593, 'thinking': 4594, 'thirst': 4595, 'thirsty': 4596, 'thirteenth': 4597, 'thrashing': 4598, 'thread': 4599, 'threshold': 4600, 'throng': 4601, 'thrust': 4602, 'tiger': 4603, 'tightly': 4604, 'timidly': 4605, 'tip': 4606, 'toe': 4607, 'tool': 4608, 'top': 4609, 'torch': 4610, 'toss': 4611, 'tossing': 4612, 'tottlingen': 4613, 'toulon': 4614, 'trace': 4615, 'trade': 4616, 'tranquilly': 4617, 'transfiguration': 4618, 'transition': 4619, 'translate': 4620, 'traveller': 4621, 'traverse,—reasone': 4622, 'tread': 4623, 'treatment': 4624, 'tremendous': 4625, 'tremor': 4626, 'triumphantly': 4627, 'trouser': 4628, 'trout': 4629, 'truly': 4630, 'trump': 4631, 'truss': 4632, 'tso': 4633, 'tumult': 4634, 'tureen': 4635, 'turning': 4636, 'turnkey': 4637, 'twice': 4638, 'twilight': 4639, 'twine': 4640, 'twinkling': 4641, 'twist': 4642, 'unanswerable': 4643, 'unbuckle': 4644, 'unceasingly': 4645, 'uncover': 4646, 'undefined': 4647, 'undergone': 4648, 'undressed': 4649, 'uneasiness': 4650, 'uneasy': 4651, 'unequal': 4652, 'unequally': 4653, 'unevenness': 4654, 'unfortunately': 4655, 'unhappiness': 4656, 'unhealthy': 4657, 'unheard': 4658, 'unjustly': 4659, 'unlettered': 4660, 'unload': 4661, 'unlucky': 4662, 'unprecedented': 4663, 'unpremeditated': 4664, 'unprepossessing': 4665, 'unreasonable': 4666, 'unspeakable': 4667, 'uproar': 4668, 'upstairs': 4669, 'v.': 4670, 'vagabond': 4671, 'vague': 4672, 'vagueness': 4673, 'valjean': 4674, 'varied': 4675, 'vengeance': 4676, 'vent': 4677, 'venture': 4678, 'veritable': 4679, 'vertebral': 4680, 'vertical': 4681, 'vessel': 4682, 'vi': 4683, 'viciousness': 4684, 'victim': 4685, 'victory': 4686, 'vigorous': 4687, 'vii': 4688, 'violate': 4689, 'violence': 4690, 'violently': 4691, 'violet': 4692, 'viper': 4693, 'vision,—law': 4694, 'visionary': 4695, 'visor': 4696, 'vivacious': 4697, 'vivaciously': 4698, 'vivacity': 4699, 'vivid': 4700, 'vividly': 4701, 'vlajean': 4702, 'voilà': 4703, 'voracity': 4704, 'wagon': 4705, 'wagoner': 4706, 'wake': 4707, 'walking': 4708, 'wan': 4709, 'wander': 4710, 'ware': 4711, 'warn': 4712, 'warning': 4713, 'waver': 4714, 'wayfarer': 4715, 'weakness': 4716, 'weapon': 4717, 'weary': 4718, 'what’s': 4719, 'whet': 4720, 'whirlwind': 4721, 'whisker': 4722, 'wholesale': 4723, 'wholly': 4724, 'wicked': 4725, 'wicket': 4726, 'wig': 4727, 'wildly': 4728, 'willingness': 4729, 'wine': 4730, 'withal': 4731, 'withdraw': 4732, 'wool': 4733, 'working': 4734, 'worth': 4735, 'wring': 4736, 'wrist': 4737, 'writhe': 4738, 'wrongfully': 4739, 'yard': 4740, 'years.—it': 4741, 'yore': 4742, 'you?—if': 4743, 'you—‘ha': 4744, 'zenith': 4745, '”_1': 4746, '10th': 4747, '12th': 4748, '14th': 4749, '1790': 4750, '1817': 4751, '2': 4752, '27': 4753, '4': 4754, 'a.': 4755, 'abate': 4756, 'abdicate': 4757, 'abolish': 4758, 'abridgment': 4759, 'academician': 4760, 'academy': 4761, 'accent': 4762, 'accentuate': 4763, 'accident': 4764, 'accommodation': 4765, 'acrimony': 4766, 'actium': 4767, 'actor': 4768, 'adel': 4769, 'adieu': 4770, 'admiral': 4771, 'adolph': 4772, 'adorable': 4773, 'adornment': 4774, 'adventurer': 4775, 'advertising': 4776, 'affirm': 4777, 'afternoon': 4778, 'agent': 4779, 'agnese': 4780, 'agnus': 4781, 'alicante': 4782, 'allocution': 4783, 'alluring': 4784, 'ally': 4785, 'allée': 4786, 'alma': 4787, 'almude': 4788, 'aloft': 4789, 'alphonse': 4790, 'amasie': 4791, 'america': 4792, 'amor': 4793, 'amour': 4794, 'amphiaraüs': 4795, 'amphitheatre': 4796, 'ample': 4797, 'amuse': 4798, 'amusing': 4799, 'anchorite': 4800, 'anew': 4801, 'anglès': 4802, 'angoulême': 4803, 'annotate': 4804, 'anonymous': 4805, 'another,—all': 4806, 'anxieties,—napoleon': 4807, 'anxious': 4808, 'août': 4809, 'apotheosis': 4810, 'apparently': 4811, 'appetite': 4812, 'apple': 4813, 'application': 4814, 'approval': 4815, 'apricot': 4816, 'apropo': 4817, 'aptera': 4818, 'apuleius': 4819, 'araby': 4820, 'ardent': 4821, 'arnault': 4822, 'array': 4823, 'arrobe': 4824, 'arthurs': 4825, 'articulate': 4826, 'artist': 4827, 'asiatic': 4828, 'askew': 4829, 'aspasia': 4830, 'assert': 4831, 'assurance': 4832, 'astonished': 4833, 'astonishing': 4834, 'astounding': 4835, 'astronomer': 4836, 'athenian': 4837, 'aubert': 4838, 'austere': 4839, 'austrian': 4840, 'austrians': 4841, 'authoritative': 4842, 'avelle': 4843, 'azure': 4844, 'babble': 4845, 'bacche': 4846, 'bacot': 4847, 'badajoz': 4848, 'bald': 4849, 'baldness': 4850, 'balearic': 4851, 'ballad': 4852, 'bambochel': 4853, 'barberousse': 4854, 'barefaced': 4855, 'barrier': 4856, 'barège': 4857, 'base': 4858, 'batch': 4859, 'bath': 4860, 'batter': 4861, 'bavoux': 4862, 'beauceron': 4863, 'beaujon': 4864, 'beauteous': 4865, 'bee': 4866, 'beer': 4867, 'bel': 4868, 'belgian': 4869, 'bellart': 4870, 'belli': 4871, 'ber': 4872, 'bernis': 4873, 'berri': 4874, 'besmear': 4875, 'beverage': 4876, 'bigottini': 4877, 'bivouac': 4878, 'blachevelle': 4879, 'blindly': 4880, 'block': 4881, 'blond': 4882, 'blonde': 4883, 'blondeau': 4884, 'blossom': 4885, 'blücher': 4886, 'boat': 4887, 'bohemia': 4888, 'boisseau': 4889, 'bombance': 4890, 'bombarda': 4891, 'bombardas': 4892, 'bonaparte': 4893, 'boot': 4894, 'bord': 4895, 'bordeaux': 4896, 'boudoir': 4897, 'bourbon': 4898, 'bourbons': 4899, 'bourguin': 4900, 'braggart': 4901, 'braid': 4902, 'branching': 4903, 'brazenness': 4904, 'brilliance': 4905, 'brilliant': 4906, 'bronze': 4907, 'broë': 4908, 'bruguière': 4909, 'bruneau': 4910, 'brutalize': 4911, 'buffoonery': 4912, 'buonaparte': 4913, 'buskin': 4914, 'butter': 4915, 'butterfly': 4916, 'buzz': 4917, 'byron': 4918, 'byronism': 4919, 'caballero': 4920, 'cabinet': 4921, 'café': 4922, 'cahors': 4923, 'caillard': 4924, 'caillou': 4925, 'caledonian': 4926, 'calf': 4927, 'callouse': 4928, 'calme': 4929, 'calmness': 4930, 'canam': 4931, 'canaries': 4932, 'canebière': 4933, 'canezou': 4934, 'cantaro': 4935, 'canuel': 4936, 'capital': 4937, 'car': 4938, 'carabin': 4939, 'carabine': 4940, 'carbonneau': 4941, 'carmagnole': 4942, 'carnot': 4943, 'caron': 4944, 'carrosse': 4945, 'carve': 4946, 'cascade': 4947, 'cask': 4948, 'castaing': 4949, 'castille': 4950, 'castus': 4951, 'casus': 4952, 'caudine': 4953, 'ce': 4954, 'celebrate': 4955, 'celebrated': 4956, 'centime': 4957, 'cette': 4958, 'chambermaid': 4959, 'champs': 4960, 'chappedelaine': 4961, 'chapter': 4962, 'charter': 4963, 'chassez': 4964, 'chaste': 4965, 'chastise': 4966, 'chastity': 4967, 'chat': 4968, 'chateaubriand': 4969, 'chateaubriant': 4970, 'chaumareix': 4971, 'cheerfulness': 4972, 'cherry': 4973, 'chevalier': 4974, 'chimeras': 4975, 'chin': 4976, 'chlamys': 4977, 'choke': 4978, 'chorus': 4979, 'choux': 4980, 'chæronea': 4981, 'cigar': 4982, 'circle': 4983, 'circumparisian': 4984, 'civil': 4985, 'clarion': 4986, 'classic': 4987, 'clatter': 4988, 'clausel': 4989, 'cleopatra': 4990, 'clerk': 4991, 'clermont': 4992, 'cling': 4993, 'clover': 4994, 'cluny': 4995, 'coagulation': 4996, 'collard': 4997, 'college': 4998, 'collegian': 4999, 'colloquy': 5000, 'comedian': 5001, 'complain': 5002, 'concede': 5003, 'conceit': 5004, 'concert': 5005, 'concorde': 5006, 'condor': 5007, 'confront': 5008, 'conjuncture': 5009, 'conquest': 5010, 'consent': 5011, 'consequence': 5012, 'consolidate': 5013, 'conspiracy': 5014, 'constitutional': 5015, 'constitutionnel': 5016, 'consumption': 5017, 'contractor': 5018, 'control': 5019, 'convolvulus': 5020, 'cool': 5021, 'cooper': 5022, 'coquetry': 5023, 'corinth': 5024, 'cork': 5025, 'costume': 5026, 'cottin': 5027, 'coucous': 5028, 'counsellor': 5029, 'counter': 5030, 'coup': 5031, 'couple': 5032, 'couplet': 5033, 'coural': 5034, 'courier': 5035, 'courtesan': 5036, 'courtier': 5037, 'coussergues': 5038, 'coustou': 5039, 'criticism': 5040, 'crunch': 5041, 'cuartin': 5042, 'cuckoo': 5043, 'cugnet': 5044, 'cultivator': 5045, 'cursing': 5046, 'cuvier': 5047, 'cylinder': 5048, 'cynicism': 5049, 'cythera': 5050, 'dahlia': 5051, 'dancing': 5052, 'danton': 5053, 'dappes': 5054, 'das': 5055, 'dautun': 5056, 'david': 5057, 'deacon': 5058, 'decazes': 5059, 'decency': 5060, 'declaim': 5061, 'dedicate': 5062, 'deem': 5063, 'delalot': 5064, 'delaveau': 5065, 'delaverderie': 5066, 'delirium': 5067, 'deliver': 5068, 'delorme': 5069, 'delude': 5070, 'delvincourt': 5071, 'demens': 5072, 'dentist': 5073, 'deride': 5074, 'descartes': 5075, 'deserter': 5076, 'deservest': 5077, 'desiccating': 5078, 'destin': 5079, 'destitute': 5080, 'determine': 5081, 'devotion': 5082, 'diabete': 5083, 'diana': 5084, 'dictation': 5085, 'digest': 5086, 'dilapidate': 5087, 'diligence': 5088, 'dimple': 5089, 'diogenes': 5090, 'disarrange': 5091, 'disgust': 5092, 'disingenuous': 5093, 'disorder': 5094, 'displeasure': 5095, 'dispute': 5096, 'distinguished': 5097, 'distract': 5098, 'distractedly': 5099, 'disturbing': 5100, 'divinity': 5101, 'divorce': 5102, 'dolefully': 5103, 'dome': 5104, 'dominate': 5105, 'dominique': 5106, 'doth': 5107, 'downstairs': 5108, 'dowry': 5109, 'draft': 5110, 'dragonfly': 5111, 'dragoon': 5112, 'dreaminess': 5113, 'dreg': 5114, 'drinking': 5115, 'droll': 5116, 'druid': 5117, 'drunk': 5118, 'duc': 5119, 'duchesse': 5120, 'dufour': 5121, 'dupuytren': 5122, 'duras': 5123, 'dusty': 5124, 'dwarf': 5125, 'dweller': 5126, 'désaugier': 5127, 'd’albe': 5128, 'd’angers': 5129, 'd’angoulême': 5130, 'd’arlincourt': 5131, 'd’artois': 5132, 'd’orléans': 5133, 'd’un': 5134, 'd’urfé': 5135, 'd’état': 5136, 'eclogue': 5137, 'edifice': 5138, 'edition': 5139, 'editor': 5140, 'edmond': 5141, 'egypt': 5142, 'elegance': 5143, 'elephant': 5144, 'elephanta': 5145, 'elle': 5146, 'elleviou': 5147, 'elm': 5148, 'emancipated': 5149, 'embark': 5150, 'empress': 5151, 'empty': 5152, 'emulsion': 5153, 'encamp': 5154, 'enchantingly': 5155, 'enemy': 5156, 'energy': 5157, 'enlist': 5158, 'enseñas': 5159, 'enticing': 5160, 'envy': 5161, 'epic': 5162, 'episode': 5163, 'erigone': 5164, 'es': 5165, 'espy': 5166, 'esquimaux': 5167, 'est': 5168, 'esteem': 5169, 'et': 5170, 'euphony': 5171, 'euphorion': 5172, 'europe': 5173, 'evade': 5174, 'examination': 5175, 'expressly': 5176, 'extinct': 5177, 'fa': 5178, 'fabvier': 5179, 'faccia': 5180, 'factious': 5181, 'faintly': 5182, 'fairy': 5183, 'fameuil': 5184, 'famous': 5185, 'famueil': 5186, 'fantasy': 5187, 'farce': 5188, 'fathom': 5189, 'faubourg': 5190, 'faun': 5191, 'favourite': 5192, 'feast': 5193, 'feasting': 5194, 'federation': 5195, 'fender': 5196, 'feuillantines': 5197, 'fiery': 5198, 'fight': 5199, 'file': 5200, 'finance': 5201, 'fini': 5202, 'flag': 5203, 'flagrant': 5204, 'flask': 5205, 'flatten': 5206, 'flatter': 5207, 'fleet': 5208, 'fleur': 5209, 'flit': 5210, 'flutter': 5211, 'folk': 5212, 'follie': 5213, 'fomentation': 5214, 'forioso': 5215, 'forks': 5216, 'fossil': 5217, 'fourier': 5218, 'franconi': 5219, 'frankly': 5220, 'freiras': 5221, 'frenchman': 5222, 'fresher': 5223, 'freshness': 5224, 'friendship': 5225, 'frigate': 5226, 'fritter': 5227, 'frivolous': 5228, 'froth': 5229, 'frozen': 5230, 'fécamp': 5231, 'féletez': 5232, 'félicité': 5233, 'félix': 5234, 'galatea': 5235, 'gallega': 5236, 'gamble': 5237, 'gand': 5238, 'garret': 5239, 'gathering': 5240, 'geneviève': 5241, 'georgic': 5242, 'gesticulate': 5243, 'ghent': 5244, 'gialluta': 5245, 'glace': 5246, 'glove': 5247, 'glutton': 5248, 'gluttony': 5249, 'gnaw': 5250, 'god,—laughter': 5251, 'goddess': 5252, 'godsend': 5253, 'government': 5254, 'graces': 5255, 'graft': 5256, 'greece': 5257, 'greek': 5258, 'grenadier': 5259, 'grenétat': 5260, 'greuze': 5261, 'grimod': 5262, 'grin': 5263, 'grind': 5264, 'grisette': 5265, 'gros': 5266, 'grotto': 5267, 'groups': 5268, 'grudge': 5269, 'grégoire': 5270, 'gula': 5271, 'gulax': 5272, 'gustave': 5273, 'gutter': 5274, 'guérin': 5275, 'géraud': 5276, 'géricault': 5277, 'hairdresser': 5278, 'harmony': 5279, 'harness': 5280, 'harpe': 5281, 'hast': 5282, 'haut': 5283, 'heartily': 5284, 'heavily': 5285, 'helena': 5286, 'henry': 5287, 'herb': 5288, 'hermit': 5289, 'hero': 5290, 'heroic': 5291, 'hey': 5292, 'hiss': 5293, 'hoffmann': 5294, 'holiday': 5295, 'honesty': 5296, 'horace': 5297, 'hostility': 5298, 'hubbub': 5299, 'hue': 5300, 'hum': 5301, 'humor': 5302, 'hunger,—she': 5303, 'hussar': 5304, 'iconia': 5305, 'idem': 5306, 'idle': 5307, 'idleness': 5308, 'idolize': 5309, 'idyl': 5310, 'idyls': 5311, 'illusion': 5312, 'imbecile': 5313, 'immaculate': 5314, 'immodestly': 5315, 'improvisation': 5316, 'incarnate': 5317, 'indescribably': 5318, 'india': 5319, 'indian': 5320, 'indication': 5321, 'indifferently': 5322, 'indigestion': 5323, 'indignant': 5324, 'indolent': 5325, 'infamous': 5326, 'infantry': 5327, 'ingenuous': 5328, 'instead': 5329, 'instrument': 5330, 'insult': 5331, 'intercept': 5332, 'interim': 5333, 'intoxication': 5334, 'intrigue': 5335, 'introduce': 5336, 'invalides': 5337, 'invasion': 5338, 'invention': 5339, 'inventor': 5340, 'invincible': 5341, 'invite': 5342, 'ionian': 5343, 'ironical': 5344, 'irony': 5345, 'isaac': 5346, 'isles': 5347, 'issy': 5348, 'jacques': 5349, 'jade': 5350, 'januarius': 5351, 'jardin': 5352, 'jargon': 5353, 'jasmine': 5354, 'johns': 5355, 'join': 5356, 'jollity': 5357, 'joséphine': 5358, 'jot': 5359, 'journal': 5360, 'journalist': 5361, 'journeyman': 5362, 'joviality': 5363, 'jungfrau': 5364, 'juno': 5365, 'justinian': 5366, 'jéna': 5367, 'keepsake': 5368, 'kerchief': 5369, 'kindle': 5370, 'knacker': 5371, 'labouisse': 5372, 'lacerate': 5373, 'laffitte': 5374, 'lafon': 5375, 'lamennais': 5376, 'lancret': 5377, 'lantern': 5378, 'lazy': 5379, 'leafless': 5380, 'legged': 5381, 'legitimacy': 5382, 'lemblin': 5383, 'lemonade': 5384, 'lescaut': 5385, 'liar': 5386, 'liberal': 5387, 'lid': 5388, 'ligny': 5389, 'limoge': 5390, 'limoges': 5391, 'lion': 5392, 'liquid': 5393, 'list': 5394, 'listolier': 5395, 'litre': 5396, 'living,—for': 5397, 'liège': 5398, 'llama': 5399, 'lotion': 5400, 'louvel': 5401, 'louvre': 5402, 'love,—in': 5403, 'lovely': 5404, 'loyson': 5405, 'lung': 5406, 'luxembourg': 5407, 'lyceum': 5408, 'lynch': 5409, 'lyons': 5410, 'l’eau”—of': 5411, 'l’espace': 5412, 'l’observatoire': 5413, 'l’épingle': 5414, 'l’étoile': 5415, 'l’évêque': 5416, 'macaroon': 5417, 'madeira': 5418, 'madly': 5419, 'madras': 5420, 'magisterial': 5421, 'mai': 5422, 'mail': 5423, 'male': 5424, 'malek': 5425, 'mamemoiselle': 5426, 'mamma': 5427, 'mamselle': 5428, 'manikin': 5429, 'manon': 5430, 'marchangy': 5431, 'mare': 5432, 'marguerite': 5433, 'marigny': 5434, 'marly': 5435, 'mars': 5436, 'marsan': 5437, 'marseillaise': 5438, 'mask': 5439, 'masterpiece': 5440, 'mastodon': 5441, 'mathematics': 5442, 'mathurin': 5443, 'matutinal': 5444, 'maze': 5445, 'medicine': 5446, 'mediocre': 5447, 'melody': 5448, 'memoir': 5449, 'messier': 5450, 'metamorphose': 5451, 'mi': 5452, 'millevoye': 5453, 'millionaire': 5454, 'minerve': 5455, 'mining': 5456, 'ministers': 5457, 'miracle': 5458, 'miracolo': 5459, 'mirror': 5460, 'mirth': 5461, 'mirthful': 5462, 'misdemeanor': 5463, 'mix': 5464, 'mm': 5465, 'model': 5466, 'moderation': 5467, 'modesty': 5468, 'modu': 5469, 'molière': 5470, 'monarchical': 5471, 'monde': 5472, 'montals': 5473, 'montarlot': 5474, 'montauban': 5475, 'montcalm': 5476, 'morality': 5477, 'morocco': 5478, 'munatius': 5479, 'munophis': 5480, 'muse': 5481, 'musing': 5482, 'muslin': 5483, 'mâtin': 5484, 'même': 5485, 'n': 5486, 'nankeen': 5487, 'nape': 5488, 'naples': 5489, 'national': 5490, 'naval': 5491, 'necessarily': 5492, 'needle': 5493, 'neigh': 5494, 'neologism': 5495, 'neuf': 5496, 'neufchâteau': 5497, 'neuilly': 5498, 'newly': 5499, 'nibble': 5500, 'nil': 5501, 'nitrous': 5502, 'nodier': 5503, 'noir': 5504, 'noire': 5505, 'noisily': 5506, 'nous': 5507, 'novum': 5508, 'nun': 5509, 'nunc': 5510, 'nuptial': 5511, 'nymph': 5512, 'nymphæas': 5513, 'oat': 5514, 'observatory': 5515, 'observer': 5516, 'octagonal': 5517, 'octavius': 5518, 'odry': 5519, 'odéon': 5520, 'of_—ha': 5521, 'officially': 5522, 'ojos': 5523, 'omnibus': 5524, 'ont': 5525, 'oracle': 5526, 'orator': 5527, 'ordinance': 5528, 'origenes': 5529, 'oscar': 5530, 'oscars': 5531, 'ossian': 5532, 'ou': 5533, 'ourika': 5534, 'outfit': 5535, 'outskirt': 5536, 'own': 5537, 'oxycrat': 5538, 'o’mahoney': 5539, 'painter': 5540, 'pampa': 5541, 'pancake': 5542, 'papa': 5543, 'paradox': 5544, 'pardieu': 5545, 'parent': 5546, 'parisian': 5547, 'parisians': 5548, 'park': 5549, 'parmentier': 5550, 'parmentière': 5551, 'parricide': 5552, 'pas': 5553, 'pasha': 5554, 'passy': 5555, 'pateaux': 5556, 'patent': 5557, 'paths,—a': 5558, 'patrician': 5559, 'pau': 5560, 'pavilion': 5561, 'paw': 5562, 'paër': 5563, 'pea': 5564, 'peach': 5565, 'peal': 5566, 'pedestal': 5567, 'pediment': 5568, 'pelligrini': 5569, 'pendant': 5570, 'pende': 5571, 'perfidious': 5572, 'performance': 5573, 'pericle': 5574, 'petticoat': 5575, 'pew': 5576, 'philibert': 5577, 'picard': 5578, 'pierna': 5579, 'piet': 5580, 'piety': 5581, 'pillage': 5582, 'pilorge': 5583, 'pins': 5584, 'pious': 5585, 'pipe': 5586, 'piræus': 5587, 'pitiful': 5588, 'plaintive': 5589, 'plantes': 5590, 'platform': 5591, 'platter': 5592, 'playthe': 5593, 'plebeian': 5594, 'pleignier': 5595, 'plus': 5596, 'poem': 5597, 'poet': 5598, 'poetry': 5599, 'polemic': 5600, 'polynice': 5601, 'pomme': 5602, 'pont': 5603, 'poppy': 5604, 'popular': 5605, 'popularity': 5606, 'population': 5607, 'porque': 5608, 'pose': 5609, 'poster': 5610, 'posterity': 5611, 'postscriptum': 5612, 'potato': 5613, 'potier': 5614, 'potion': 5615, 'praise': 5616, 'praiseworthy': 5617, 'prance': 5618, 'precentor': 5619, 'prefects': 5620, 'preferred': 5621, 'prescribed': 5622, 'preside': 5623, 'prevail': 5624, 'priapus': 5625, 'price': 5626, 'prick': 5627, 'princess': 5628, 'printer': 5629, 'privy': 5630, 'prize': 5631, 'prodigal': 5632, 'professional': 5633, 'professor': 5634, 'prologue': 5635, 'promenader': 5636, 'prometheus': 5637, 'prose': 5638, 'prosper': 5639, 'prostitute': 5640, 'prostituted': 5641, 'proudly': 5642, 'province': 5643, 'prude': 5644, 'prudence': 5645, 'prudent': 5646, 'prussians': 5647, 'prés': 5648, 'psyche': 5649, 'publication': 5650, 'pun': 5651, 'punit': 5652, 'purchaser': 5653, 'pursuit': 5654, 'père': 5655, 'pélicier': 5656, 'quatre': 5657, 'quay': 5658, 'que': 5659, 'queer': 5660, 'quibble': 5661, 'quin': 5662, 'quincunx': 5663, 'quinze': 5664, 'quirites': 5665, 'quæstor': 5666, 'rabble': 5667, 'railway': 5668, 'ramble': 5669, 'rat': 5670, 'rate': 5671, 'rattan': 5672, 'reader': 5673, 'rebus': 5674, 'recent': 5675, 'recognizable': 5676, 'recompense': 5677, 'reddish': 5678, 'redivivus': 5679, 'reed': 5680, 'refer': 5681, 'refill': 5682, 'reformer': 5683, 'regilde': 5684, 'remainder': 5685, 'remarkable': 5686, 'remember': 5687, 'remorse': 5688, 'removal': 5689, 'rend': 5690, 'rendez': 5691, 'reproduce': 5692, 'requisite': 5693, 'respectability': 5694, 'restaurant': 5695, 'restless': 5696, 'restoration': 5697, 'restrict': 5698, 'reticence': 5699, 'revolutionary': 5700, 'revolve': 5701, 'reynière': 5702, 'rhyme': 5703, 'rhythm': 5704, 'richly': 5705, 'ridden': 5706, 'river': 5707, 'rivoli': 5708, 'robert': 5709, 'roguish': 5710, 'roi': 5711, 'romance': 5712, 'romulus': 5713, 'rosa': 5714, 'rosette': 5715, 'ross': 5716, 'rosse': 5717, 'rosy': 5718, 'rot': 5719, 'roulette': 5720, 'royer': 5721, 'rumble': 5722, 'running': 5723, 'rural': 5724, 'russian': 5725, 'rustle': 5726, 'récamier': 5727, 'sabine': 5728, 'sacramental': 5729, 'salaberry': 5730, 'samos': 5731, 'sapristi': 5732, 'saqui': 5733, 'sarcasm': 5734, 'sasenaye': 5735, 'satin': 5736, 'satyr': 5737, 'sauvage': 5738, 'savanna': 5739, 'saxon': 5740, 'scandal': 5741, 'scandinavian': 5742, 'scholar': 5743, 'scorch': 5744, 'scratch': 5745, 'scream': 5746, 'scrub': 5747, 'sculptural': 5748, 'seaport': 5749, 'security': 5750, 'seine': 5751, 'selves': 5752, 'seminarist': 5753, 'serpent': 5754, 'señora': 5755, 'shapeless': 5756, 'shawl': 5757, 'shrub': 5758, 'sicily': 5759, 'silently': 5760, 'simon': 5761, 'simultaneously': 5762, 'sketch': 5763, 'slack': 5764, 'slid': 5765, 'slide': 5766, 'slipper': 5767, 'slug': 5768, 'smell': 5769, 'smiling': 5770, 'smoky': 5771, 'sneeze': 5772, 'soar': 5773, 'sober': 5774, 'socrates': 5775, 'solemnly': 5776, 'solidification': 5777, 'soliman': 5778, 'sorsum': 5779, 'soult': 5780, 'soundly': 5781, 'soy': 5782, 'spaniard': 5783, 'spanish': 5784, 'specimen': 5785, 'spencer': 5786, 'spinoza': 5787, 'spleen': 5788, 'split': 5789, 'springtime': 5790, 'stage': 5791, 'stalk': 5792, 'staël': 5793, 'steamboat': 5794, 'stem': 5795, 'sterile': 5796, 'stingy': 5797, 'stomach': 5798, 'stoutly': 5799, 'strand': 5800, 'stray': 5801, 'stricken': 5802, 'strict': 5803, 'strophe': 5804, 'stud': 5805, 'student': 5806, 'studio': 5807, 'stupidity': 5808, 'subacetate': 5809, 'suburb': 5810, 'suburban': 5811, 'suck': 5812, 'sugar': 5813, 'sunny': 5814, 'sunshine': 5815, 'supple': 5816, 'supremely': 5817, 'sur': 5818, 'surname': 5819, 'surprised': 5820, 'surprising': 5821, 'surrender': 5822, 'sweetly': 5823, 'swimming': 5824, 'swing': 5825, 'switzerland': 5826, 'swoop': 5827, 'sylla': 5828, 'syllable': 5829, 'syllogism': 5830, 'sèvres': 5831, 't': 5832, 'tab': 5833, 'talleyrand': 5834, 'talma': 5835, 'tarpaulin': 5836, 'tart': 5837, 'tease': 5838, 'tenderly': 5839, 'ternaux': 5840, 'terre': 5841, 'theatre': 5842, 'thereto': 5843, 'therme': 5844, 'thesis': 5845, 'tholomyès': 5846, 'thoroughbre': 5847, 'throat': 5848, 'throwing': 5849, 'thygelion': 5850, 'thérèse': 5851, 'tickle': 5852, 'toast': 5853, 'toda': 5854, 'tolerate': 5855, 'tolleron': 5856, 'tolosa': 5857, 'tonnerre': 5858, 'toothless': 5859, 'toryne': 5860, 'toulousan': 5861, 'toulouse': 5862, 'touquet': 5863, 'townspeople': 5864, 'traitor': 5865, 'transfer': 5866, 'trap': 5867, 'trinquelague': 5868, 'triumphant': 5869, 'trivial': 5870, 'trivial,—there': 5871, 'trogoff': 5872, 'trot': 5873, 'trumpet': 5874, 'tuas': 5875, 'tubercle': 5876, 'tuileries': 5877, 'tumultuously': 5878, 'turcaret': 5879, 'turnover': 5880, 'turpitude': 5881, 'tzar': 5882, 'tête': 5883, 'unbutton': 5884, 'uncoiled': 5885, 'undisputed': 5886, 'undulating': 5887, 'unexpected': 5888, 'unfathomable': 5889, 'uniform': 5890, 'unmarried': 5891, 'unpublished': 5892, 'unstable': 5893, 'untwine': 5894, 'urchin': 5895, 'urgent': 5896, 'use—_passed': 5897, 'utopia': 5898, 'vacation': 5899, 'valise': 5900, 'valois': 5901, 'valuable': 5902, 'vanvres': 5903, 'vapor': 5904, 'vaublanc': 5905, 'vaudeville': 5906, 'vegetation,—are': 5907, 'vehicle': 5908, 'vein': 5909, 'veneration': 5910, 'venus': 5911, 'verdict': 5912, 'vestal': 5913, 'vicomtesse': 5914, 'vigil': 5915, 'vignette': 5916, 'ville': 5917, 'vineyard': 5918, 'violin': 5919, 'virgil': 5920, 'virginal': 5921, 'vivant': 5922, 'voluptuous': 5923, 'voluptuously': 5924, 'voter': 5925, 'vécu': 5926, 'waistcoat': 5927, 'waiter': 5928, 'wanton': 5929, 'warbler': 5930, 'warden': 5931, 'wart': 5932, 'waterside': 5933, 'watteau': 5934, 'weak': 5935, 'weekly': 5936, 'weeping': 5937, 'wellington': 5938, 'west': 5939, 'wet': 5940, 'whip': 5941, 'whiteness': 5942, 'widower': 5943, 'wildness': 5944, 'william': 5945, 'willow': 5946, 'wire': 5947, 'wither': 5948, 'witticism': 5949, 'womanhood': 5950, 'wrongly': 5951, 'x': 5952, 'x.': 5953, 'yarrow': 5954, 'z.': 5955, 'zeal': 5956, 'zéphine': 5957, 'à': 5958, 'ægina': 5959, 'édon': 5960, 'élysées': 5961, 'éléonore': 5962, 'était': 5963, '1818': 5964, 'accordingly': 5965, 'accurately': 5966, 'accustomed': 5967, 'acknowledge': 5968, 'aerial': 5969, 'aflame': 5970, 'alfred': 5971, 'anarchy': 5972, 'angular': 5973, 'announcement': 5974, 'aristocrat': 5975, 'arrear': 5976, 'arthur': 5977, 'assent': 5978, 'attire': 5979, 'au': 5980, 'authorized': 5981, 'axle': 5982, 'azelma': 5983, 'backward': 5984, 'bargain': 5985, 'barthélemy': 5986, 'bastard': 5987, 'behave': 5988, 'blackguard': 5989, 'blackness': 5990, 'blissful': 5991, 'blissfulness': 5992, 'blossoming': 5993, 'bodice': 5994, 'bond': 5995, 'bother': 5996, 'boulanger': 5997, 'bournon': 5998, 'brat': 5999, 'caliban': 6000, 'campaign': 6001, 'cavity': 6002, 'chemise': 6003, 'classical': 6004, 'cleverly': 6005, 'clumsily': 6006, 'clélie': 6007, 'colossus': 6008, 'compact': 6009, 'companion': 6010, 'competition': 6011, 'continually': 6012, 'copy': 6013, 'correctly': 6014, 'cosette': 6015, 'cossette': 6016, 'cough': 6017, 'courage': 6018, 'crab': 6019, 'curve': 6020, 'cyclopean': 6021, 'dabble': 6022, 'darling': 6023, 'daub': 6024, 'delighted': 6025, 'denominate': 6026, 'derivative': 6027, 'discord': 6028, 'discordant': 6029, 'dispense': 6030, 'displacement': 6031, 'diversion': 6032, 'document': 6033, 'dotted': 6034, 'downright': 6035, 'drapery': 6036, 'ducray': 6037, 'dull': 6038, 'dumenil': 6039, 'dumollard': 6040, 'elector': 6041, 'emanate': 6042, 'energetically': 6043, 'entangle': 6044, 'environs': 6045, 'epaulette': 6046, 'equality': 6047, 'errand': 6048, 'etymologist': 6049, 'euphrasie': 6050, 'feat': 6051, 'felly': 6052, 'finery': 6053, 'fixedly': 6054, 'fore': 6055, 'françoise': 6056, 'freckle': 6057, 'frost': 6058, 'glide': 6059, 'gnon': 6060, 'goliath': 6061, 'gone,—alas': 6062, 'grammar': 6063, 'gulnare': 6064, 'hadot': 6065, 'healthy': 6066, 'hearing': 6067, 'hoar': 6068, 'homer': 6069, 'hub': 6070, 'husband.—and': 6071, 'imogene': 6072, 'impregnated': 6073, 'impunity': 6074, 'inclined': 6075, 'indecency': 6076, 'indite': 6077, 'inferior': 6078, 'influential': 6079, 'inspiration': 6080, 'institution': 6081, 'interlacement': 6082, 'irresistible': 6083, 'irrevocable,—she': 6084, 'isolated': 6085, 'josepha': 6086, 'juryman': 6087, 'lafayette': 6088, 'languish': 6089, 'lark': 6090, 'lawyer': 6091, 'layer': 6092, 'liaison': 6093, 'lilacs': 6094, 'lodoïska': 6095, 'loop': 6096, 'lout': 6097, 'malarme': 6098, 'mammoth': 6099, 'masculine': 6100, 'material': 6101, 'megæra': 6102, 'melt': 6103, 'minus': 6104, 'modification': 6105, 'montfermeil': 6106, 'motion': 6107, 'mouse': 6108, 'mud': 6109, 'music': 6110, 'neatherd': 6111, 'nicely': 6112, 'overwhelming': 6113, 'palestine': 6114, 'pamela': 6115, 'passionately': 6116, 'pawn': 6117, 'pawnbroker': 6118, 'penetration': 6119, 'pepita': 6120, 'perambulate': 6121, 'perusal': 6122, 'petites': 6123, 'physiognomist': 6124, 'pierre': 6125, 'pivot': 6126, 'plaything': 6127, 'polyphemus': 6128, 'portresse': 6129, 'preliminary': 6130, 'prepossessing': 6131, 'prettily': 6132, 'provincial': 6133, 'ravage': 6134, 'rear': 6135, 'recently': 6136, 'regularity': 6137, 'remittance': 6138, 'resolution': 6139, 'retrograde': 6140, 'ridiculous': 6141, 'romantic': 6142, 'romantically': 6143, 'rub': 6144, 'ruffian': 6145, 'rupture': 6146, 'rust': 6147, 'rustic': 6148, 'rut': 6149, 'sandy': 6150, 'sargent': 6151, 'scamp': 6152, 'scape': 6153, 'scudéri': 6154, 'senseless': 6155, 'sentimentalism': 6156, 'separation': 6157, 'seriously': 6158, 'seventh': 6159, 'shaft': 6160, 'shakespeare': 6161, 'shovel': 6162, 'sickly': 6163, 'signature': 6164, 'sillette': 6165, 'simpering': 6166, 'sly': 6167, 'sooth': 6168, 'speciman': 6169, 'straightened': 6170, 'strident': 6171, 'submit': 6172, 'substratum': 6173, 'successful': 6174, 'suggest': 6175, 'suitable': 6176, 'sunburnt': 6177, 'superficial': 6178, 'susceptible': 6179, 'sweeping': 6180, 'swinge': 6181, 'symptom': 6182, 'their': 6183, 'theodore': 6184, 'thing,—the': 6185, 'thénardier': 6186, 'thénardiers': 6187, 'tie': 6188, 'tight': 6189, 'titans': 6190, 'toilette': 6191, 'tract': 6192, 'treasure.—i': 6193, 'troublesome': 6194, 'truck': 6195, 'type': 6196, 'unconquerable': 6197, 'unmerite': 6198, 'unmitigated': 6199, 'unpleasantness': 6200, 'valenciennes': 6201, 'valiantly': 6202, 'valor': 6203, 'vicious': 6204, 'vicomte': 6205, 'villainous': 6206, 'villemomble': 6207, 'voitures': 6208, 'waft': 6209, 'warrior': 6210, 'wonderfully': 6211, 'woode': 6212, 'workingman': 6213, 'yellowish': 6214, 'éponine': 6215, '13th': 6216, '1799': 6217, '1819': 6218, '1820': 6219, '1821': 6220, '1823': 6221, 'abhor': 6222, 'abound': 6223, 'abundant': 6224, 'acceptation': 6225, 'actress': 6226, 'adjust': 6227, 'affect': 6228, 'affright': 6229, 'agency': 6230, 'aggrieved': 6231, 'ambitious': 6232, 'ambuscade': 6233, 'amiability': 6234, 'anterior': 6235, 'antipathy': 6236, 'apiece': 6237, 'apostrophe': 6238, 'apostrophize': 6239, 'applauding': 6240, 'appointment': 6241, 'appropriate': 6242, 'arbitrary': 6243, 'are!—will': 6244, 'aright': 6245, 'arms,—god': 6246, 'arras': 6247, 'arrondissement': 6248, 'article': 6249, 'ascent': 6250, 'ashamed': 6251, 'asturias': 6252, 'atrocious': 6253, 'attraction': 6254, 'authenticating': 6255, 'aversion': 6256, 'awkwardly': 6257, 'awkwardness': 6258, 'baleful': 6259, 'bamatabois': 6260, 'bankruptcy': 6261, 'barber': 6262, 'bareheade': 6263, 'baseness': 6264, 'battered': 6265, 'belie': 6266, 'benumb': 6267, 'bequeath': 6268, 'bereft': 6269, 'berlin': 6270, 'bernardines': 6271, 'besought': 6272, 'bestial': 6273, 'bewilderment': 6274, 'billiard': 6275, 'blackening': 6276, 'blight': 6277, 'blindness': 6278, 'bliss': 6279, 'bloody': 6280, 'bloom': 6281, 'bohemians': 6282, 'bolivar': 6283, 'boon': 6284, 'bore': 6285, 'bored': 6286, 'borne': 6287, 'bracelet': 6288, 'brandy': 6289, 'bravado': 6290, 'brazen': 6291, 'bribe': 6292, 'broken': 6293, 'brutus': 6294, 'calico': 6295, 'calmly': 6296, 'calumny': 6297, 'cancel': 6298, 'candidate': 6299, 'captious': 6300, 'caressing': 6301, 'catastrophie': 6302, 'cattle': 6303, 'cave': 6304, 'central': 6305, 'chabouillet': 6306, 'chiefly': 6307, 'chop': 6308, 'christening': 6309, 'clasped': 6310, 'clog': 6311, 'cloister': 6312, 'closet': 6313, 'clung': 6314, 'cocoanut': 6315, 'codfish': 6316, 'coffin': 6317, 'collection': 6318, 'coloring': 6319, 'comb': 6320, 'combination': 6321, 'combustible': 6322, 'coming': 6323, 'commerce': 6324, 'commission': 6325, 'comparatively': 6326, 'comparison': 6327, 'compelling': 6328, 'complaint': 6329, 'concerned': 6330, 'conciliate': 6331, 'confessor': 6332, 'confiscate': 6333, 'conflict': 6334, 'conjecture': 6335, 'consecrate': 6336, 'consign': 6337, 'consult': 6338, 'consume': 6339, 'consumer': 6340, 'contented': 6341, 'contrary': 6342, 'coquettish': 6343, 'corrective': 6344, 'correspond': 6345, 'cosmogony': 6346, 'countryside': 6347, 'coverlet': 6348, 'covert': 6349, 'cowardliness': 6350, 'crack': 6351, 'crape': 6352, 'creep': 6353, 'crooked': 6354, 'crying': 6355, 'culture': 6356, 'cypher': 6357, 'damp': 6358, 'damper': 6359, 'dandy': 6360, 'daring': 6361, 'daylight,—for': 6362, 'dealer': 6363, 'december': 6364, 'decision': 6365, 'defeat': 6366, 'delegate': 6367, 'deliberately': 6368, 'dental': 6369, 'destitution': 6370, 'detachment': 6371, 'detention': 6372, 'devilish': 6373, 'different': 6374, 'dirty': 6375, 'disappointment': 6376, 'discharge': 6377, 'discount': 6378, 'discreet': 6379, 'discretion': 6380, 'discretionary': 6381, 'disease': 6382, 'disengage': 6383, 'dishonored': 6384, 'dislocate': 6385, 'dismiss': 6386, 'dispensary': 6387, 'dispenser': 6388, 'disquiet': 6389, 'disrepute': 6390, 'dissolvent': 6391, 'dolorous': 6392, 'dormer': 6393, 'downcast': 6394, 'dram': 6395, 'drama': 6396, 'driver': 6397, 'drug': 6398, 'duel': 6399, 'dullard': 6400, 'd’argent': 6401, 'd’or': 6402, 'd’otrante': 6403, 'eccentric': 6404, 'elixir': 6405, 'emphasis': 6406, 'endure': 6407, 'enforce': 6408, 'enliven': 6409, 'enrich': 6410, 'entirety': 6411, 'entry': 6412, 'epidemic': 6413, 'esplanade': 6414, 'european': 6415, 'excitement': 6416, 'exclude': 6417, 'exhibition': 6418, 'expend': 6419, 'eyebrow': 6420, 'faced': 6421, 'failure': 6422, 'faint': 6423, 'falcon': 6424, 'fanatic': 6425, 'farrier': 6426, 'farthing': 6427, 'fashionable': 6428, 'fatally': 6429, 'fauchelevent': 6430, 'favorably': 6431, 'fibre': 6432, 'fidelity': 6433, 'fiercest': 6434, 'filament': 6435, 'flachot': 6436, 'flattened': 6437, 'flax': 6438, 'floss': 6439, 'fodder': 6440, 'folding': 6441, 'forehead': 6442, 'forgive': 6443, 'forgiving': 6444, 'forwards': 6445, 'fouché': 6446, 'found': 6447, 'fox': 6448, 'foxtail': 6449, 'freeholder': 6450, 'freely': 6451, 'frock': 6452, 'fulfil': 6453, 'function': 6454, 'functionary': 6455, 'fund': 6456, 'funeral': 6457, 'furious': 6458, 'furniture!—said': 6459, 'furtively': 6460, 'giant': 6461, 'gimlet': 6462, 'gives': 6463, 'glassy': 6464, 'glean': 6465, 'glos': 6466, 'gnat': 6467, 'gorgon': 6468, 'granite': 6469, 'grate': 6470, 'gravitates,—few': 6471, 'greet': 6472, 'gropingly': 6473, 'guardian': 6474, 'guinea': 6475, 'gum': 6476, 'hackney': 6477, 'harrasse': 6478, 'haughty': 6479, 'hemp': 6480, 'honestly': 6481, 'honorable': 6482, 'hoot': 6483, 'horned': 6484, 'householder': 6485, 'howling': 6486, 'hurl': 6487, 'hurtful': 6488, 'hussy': 6489, 'idler': 6490, 'illiterate': 6491, 'illness': 6492, 'immemorial': 6493, 'immovable': 6494, 'imperatively': 6495, 'importance': 6496, 'impotent': 6497, 'improve': 6498, 'improvement': 6499, 'improvident': 6500, 'indebte': 6501, 'indefinite': 6502, 'indigence': 6503, 'indispensable': 6504, 'industrial': 6505, 'inexpressible': 6506, 'infallible': 6507, 'infirm': 6508, 'infirmary': 6509, 'inflexible': 6510, 'informer': 6511, 'inspector': 6512, 'instructor': 6513, 'intently': 6514, 'intolerant': 6515, 'intractable': 6516, 'inundate': 6517, 'investigate': 6518, 'invitation': 6519, 'irregularly': 6520, 'irremediably': 6521, 'it,—you': 6522, 'itch': 6523, 'jacobins': 6524, 'jail': 6525, 'javert': 6526, 'jaw': 6527, 'jealous': 6528, 'jesting': 6529, 'jesuit': 6530, 'jet': 6531, 'jolly': 6532, 'joseph': 6533, 'joyful': 6534, 'joyously': 6535, 'jury': 6536, 'knave': 6537, 'kneepan': 6538, 'knowing': 6539, 'lac': 6540, 'laden': 6541, 'lain': 6542, 'lamentable': 6543, 'latent': 6544, 'laughed,—and': 6545, 'legal': 6546, 'liberator': 6547, 'lieu': 6548, 'litter': 6549, 'loin': 6550, 'looking': 6551, 'lounger': 6552, 'lull': 6553, 'lying': 6554, 'l’inspecteur': 6555, 'mad': 6556, 'madeleine': 6557, 'malefactor': 6558, 'malicious': 6559, 'manufacturer': 6560, 'masterfully': 6561, 'meagre': 6562, 'men,—those': 6563, 'mend': 6564, 'microscopic': 6565, 'miliary': 6566, 'millionnaire': 6567, 'minded': 6568, 'ministry': 6569, 'mischief': 6570, 'moderately': 6571, 'monk': 6572, 'morillo': 6573, 'morsel': 6574, 'mourning': 6575, 'mousson': 6576, 'moustache': 6577, 'mr.': 6578, 'municipal': 6579, 'musician': 6580, 'mute': 6581, 'muzzle': 6582, 'mystical': 6583, 'naturalness': 6584, 'nettle': 6585, 'neuter': 6586, 'nightfall': 6587, 'nod': 6588, 'nonetheless': 6589, 'noonday': 6590, 'notability': 6591, 'nothing': 6592, 'nowise': 6593, 'obeying': 6594, 'obscenity': 6595, 'observation': 6596, 'occupant': 6597, 'occurrence': 6598, 'olive': 6599, 'opiate': 6600, 'opponent': 6601, 'opposing': 6602, 'oppressive': 6603, 'oratoire': 6604, 'origin': 6605, 'orviot': 6606, 'other,—all': 6607, 'outdo': 6608, 'overstep': 6609, 'palette': 6610, 'panther': 6611, 'parasite': 6612, 'parasitic': 6613, 'payer': 6614, 'peaceably': 6615, 'pedestrian': 6616, 'penury': 6617, 'permeate': 6618, 'personify': 6619, 'piercing': 6620, 'pig': 6621, 'pinch': 6622, 'pique': 6623, 'plentiful': 6624, 'policeman': 6625, 'poultry': 6626, 'pound': 6627, 'predicament': 6628, 'prejudge': 6629, 'preoccupied': 6630, 'prim': 6631, 'privately': 6632, 'privation': 6633, 'probity': 6634, 'prodigiously': 6635, 'production': 6636, 'proprietor': 6637, 'protection': 6638, 'prototype': 6639, 'prowl': 6640, 'psalmody': 6641, 'puller': 6642, 'quack': 6643, 'quarantine': 6644, 'quaver': 6645, 'rabbit': 6646, 'ragged': 6647, 'rascally': 6648, 'raw': 6649, 'react': 6650, 'recipe': 6651, 'recommendation': 6652, 'reconstruct': 6653, 'redoubtable': 6654, 'reducible': 6655, 'reel': 6656, 'regain': 6657, 'regularly': 6658, 'relinquish': 6659, 'rely': 6660, 'reprint': 6661, 'repulse': 6662, 'reservation': 6663, 'resignation': 6664, 'resin': 6665, 'respectfully': 6666, 'respite': 6667, 'rib': 6668, 'riches,—the': 6669, 'rid': 6670, 'rigidity': 6671, 'ripe': 6672, 'rivalry': 6673, 'rosebush': 6674, 'roughen': 6675, 'rouse': 6676, 'route': 6677, 'rubric': 6678, 'ruler': 6679, 'runaway': 6680, 'ruse': 6681, 'sacrilege': 6682, 'sadly': 6683, 'saliva': 6684, 'say,—and': 6685, 'scarf': 6686, 'scurf': 6687, 'seatless': 6688, 'secretly': 6689, 'seniority': 6690, 'sentry': 6691, 'sewing': 6692, 'shame': 6693, 'sharp': 6694, 'shooting': 6695, 'shorn': 6696, 'sight?—you': 6697, 'significant': 6698, 'slang': 6699, 'slow': 6700, 'smilingly': 6701, 'snow': 6702, 'snowy': 6703, 'sobs': 6704, 'solder': 6705, 'solely': 6706, 'solution': 6707, 'spain': 6708, 'sparta': 6709, 'spartans': 6710, 'spectator': 6711, 'sponge': 6712, 'sprinkle': 6713, 'spy': 6714, 'stair': 6715, 'stationer': 6716, 'steeple': 6717, 'stiff': 6718, 'stifled': 6719, 'stoical': 6720, 'strangle': 6721, 'styx': 6722, 'suborn': 6723, 'subside': 6724, 'substituting': 6725, 'suggestion': 6726, 'suit': 6727, 'sunburned': 6728, 'superintendent': 6729, 'superintendent,—a': 6730, 'supervision': 6731, 'supplicate': 6732, 'supplication': 6733, 'surveying': 6734, 'swarm': 6735, 'symbol': 6736, 'tail': 6737, 'tangible,—what': 6738, 'tare': 6739, 'teller': 6740, 'terrible,—his': 6741, 'test': 6742, 'them,—respect': 6743, 'thermometer': 6744, 'thorn': 6745, 'throve': 6746, 'tillac': 6747, 'tipsy': 6748, 'tiptoe': 6749, 'tobacco': 6750, 'townsman': 6751, 'tragedy': 6752, 'tranquillity': 6753, 'treble': 6754, 'trifle': 6755, 'trinket': 6756, 'tuesday': 6757, 'tuft': 6758, 'tumble': 6759, 'twain': 6760, 'two,—she': 6761, 'ugliness': 6762, 'ulterior': 6763, 'unanimous': 6764, 'underline': 6765, 'underneath': 6766, 'undertake': 6767, 'undertone': 6768, 'unemployed': 6769, 'uneven': 6770, 'unintentionally': 6771, 'uninterruptedly': 6772, 'unmethodical': 6773, 'unpardoningly': 6774, 'unpaved': 6775, 'untidy': 6776, 'uproot': 6777, 'urging': 6778, 'usefulness': 6779, 'vagrants': 6780, 'vanishe': 6781, 'vanished': 6782, 'vary': 6783, 'vegetate': 6784, 'venomous': 6785, 'vesper': 6786, 'vest': 6787, 'victurnien': 6788, 'vidocq': 6789, 'vile': 6790, 'villèle': 6791, 'void': 6792, 'waiste': 6793, 'waiting': 6794, 'warmly': 6795, 'warmth': 6796, 'warren': 6797, 'wastefulness': 6798, 'watchdog': 6799, 'watchfulness': 6800, 'weevil': 6801, 'wheat': 6802, 'whimsical': 6803, 'whirl': 6804, 'widowhood': 6805, 'wipe': 6806, 'witty': 6807, 'workmanship': 6808, 'workpeople': 6809, 'workroom': 6810, 'workwoman': 6811, 'adjutant': 6812, 'age,—he': 6813, 'ailly': 6814, 'all,—absurditie': 6815, 'ambubajæ': 6816, 'annotating': 6817, 'assize': 6818, 'autumn': 6819, 'auvergne': 6820, 'bas': 6821, 'behavior': 6822, 'bill': 6823, 'blot': 6824, 'bossé': 6825, 'buseaupie': 6826, 'cetera': 6827, 'champigny': 6828, 'champmathieu': 6829, 'chan': 6830, 'chan_—he': 6831, 'charcellay': 6832, 'chenildieu': 6833, 'chesnelong': 6834, 'christi': 6835, 'christian': 6836, 'cider': 6837, 'clocher': 6838, 'cochepaille': 6839, 'coldly': 6840, 'composite': 6841, 'convenient': 6842, 'convinced': 6843, 'corporal': 6844, 'correctional': 6845, 'corridor': 6846, 'courageous': 6847, 'denunciation': 6848, 'departmental': 6849, 'deposition': 6850, 'depression': 6851, 'desk': 6852, 'despondency': 6853, 'dignity,—m.': 6854, 'discipline': 6855, 'disorganize': 6856, 'docket': 6857, 'dodge': 6858, 'doris': 6859, 'eh': 6860, 'elect': 6861, 'encroach': 6862, 'enlightened': 6863, 'fagot!_4': 6864, 'fauchelevant': 6865, 'feign': 6866, 'firmness': 6867, 'four,—the': 6868, 'francs,—one': 6869, 'garraud': 6870, 'guibourg': 6871, 'handwriting': 6872, 'housebreaking': 6873, 'impel': 6874, 'incapable': 6875, 'indisputable': 6876, 'inflation': 6877, 'inform': 6878, 'infraction': 6879, 'instigate': 6880, 'insufficient': 6881, 'item': 6882, 'kettle': 6883, 'knowledge': 6884, 'lately': 6885, 'laundress': 6886, 'laënnec': 6887, 'lengthy': 6888, 'little;—i': 6889, 'lowliness': 6890, 'marksmanship': 6891, 'milch': 6892, 'mischievous': 6893, 'misuse': 6894, 'montre': 6895, 'ninny': 6896, 'notably': 6897, 'offence': 6898, 'oftener': 6899, 'parbleu': 6900, 'physic': 6901, 'pinche': 6902, 'powdered': 6903, 'preclude': 6904, 'premise': 6905, 'pretended': 6906, 'pronunciation': 6907, 'provoked': 6908, 'préfet': 6909, 'pulse': 6910, 'purloin': 6911, 'rancor': 6912, 'raving': 6913, 'renée': 6914, 'repugnance': 6915, 'restore': 6916, 'rheims': 6917, 'rigid': 6918, 'rogue': 6919, 'room,”—javert': 6920, 'roughness': 6921, 'saulve': 6922, 'sincere': 6923, 'smoulder': 6924, 'spare': 6925, 'spartan': 6926, 'startling': 6927, 'subdue': 6928, 'substitution': 6929, 'superscription': 6930, 'supersede': 6931, 'suppression': 6932, 'testimony': 6933, 'till': 6934, 'trick': 6935, 'trifling': 6936, 'unconsciously': 6937, 'undermine': 6938, 'unspotted': 6939, 'unworthy': 6940, 'ventilate': 6941, 'vigor': 6942, 'wheelwright': 6943, 'wreak': 6944, '1': 6945, '383': 6946, '5': 6947, '6': 6948, '82': 6949, '8½.': 6950, '9th': 6951, 'abject': 6952, 'abjectness': 6953, 'abroad': 6954, 'absorbing': 6955, 'abstracted': 6956, 'accommodate': 6957, 'accusation': 6958, 'achieve': 6959, 'actual': 6960, 'admission': 6961, 'adopt': 6962, 'aftertaste': 6963, 'agony,—the': 6964, 'agreed': 6965, 'ail': 6966, 'aim': 6967, 'albin': 6968, 'alighieri': 6969, 'alight': 6970, 'allay': 6971, 'amplitude': 6972, 'annoy': 6973, 'antagonistic': 6974, 'apathy': 6975, 'apparatus': 6976, 'apples,—an': 6977, 'approve': 6978, 'armed': 6979, 'aspire': 6980, 'assign': 6981, 'assistant': 6982, 'attest': 6983, 'augury': 6984, 'autograph': 6985, 'autonomasia': 6986, 'awkward': 6987, 'babe': 6988, 'baggage': 6989, 'baloup': 6990, 'baluster': 6991, 'banker': 6992, 'bankrupt': 6993, 'basest': 6994, 'basin': 6995, 'battlefield': 6996, 'bead': 6997, 'belly': 6998, 'benevolent': 6999, 'bigotry': 7000, 'bitterly': 7001, 'blend': 7002, 'bolster': 7003, 'bony': 7004, 'boor': 7005, 'boubers': 7006, 'boulogne': 7007, 'boulonnais': 7008, 'bourgaillard': 7009, 'brass': 7010, 'breed': 7011, 'brisk': 7012, 'briskly': 7013, 'broidered': 7014, 'buckler': 7015, 'bundle': 7016, 'bénigne': 7017, 'cabriolet': 7018, 'calamity': 7019, 'calash': 7020, 'calling': 7021, 'camblin': 7022, 'camp': 7023, 'canche': 7024, 'candlesticks': 7025, 'candor': 7026, 'carency': 7027, 'cariole': 7028, 'carmelite': 7029, 'celebrity': 7030, 'chafing': 7031, 'charmingly': 7032, 'chatter': 7033, 'chicken': 7034, 'chilly': 7035, 'chimæras': 7036, 'chinchona': 7037, 'circumstantial': 7038, 'circumstantially': 7039, 'clayey': 7040, 'client': 7041, 'clutch': 7042, 'coachman': 7043, 'coal': 7044, 'cochère': 7045, 'coffee': 7046, 'coffer': 7047, 'coin,—no': 7048, 'collide': 7049, 'commandant': 7050, 'commotion': 7051, 'communication': 7052, 'communion': 7053, 'compel': 7054, 'compliment': 7055, 'composure': 7056, 'compromise': 7057, 'concealment': 7058, 'concession': 7059, 'confessional': 7060, 'conform': 7061, 'confrontation': 7062, 'confusing': 7063, 'consort': 7064, 'conspire': 7065, 'contending': 7066, 'continual': 7067, 'convulsion': 7068, 'convulsive': 7069, 'conzié': 7070, 'corn': 7071, 'correct': 7072, 'corselet': 7073, 'counterpart': 7074, 'craft': 7075, 'crinchon': 7076, 'crisis': 7077, 'crisp': 7078, 'critic': 7079, 'critical': 7080, 'crossroad': 7081, 'cruelly': 7082, 'cudgelling': 7083, 'cure': 7084, 'cutter': 7085, 'dainty': 7086, 'damage': 7087, 'darkest': 7088, 'debauchery': 7089, 'declivity': 7090, 'decrease': 7091, 'defence': 7092, 'defendant': 7093, 'deference': 7094, 'deferential': 7095, 'definitive': 7096, 'degrade': 7097, 'dejection': 7098, 'delay': 7099, 'delirious': 7100, 'denote': 7101, 'dense': 7102, 'deprive': 7103, 'description': 7104, 'despatch': 7105, 'despicable': 7106, 'despite': 7107, 'deter': 7108, 'dialogue': 7109, 'dilemma': 7110, 'dirt': 7111, 'disquieting': 7112, 'distill': 7113, 'distinctive': 7114, 'distort': 7115, 'distressing': 7116, 'diverse': 7117, 'does,—reflect': 7118, 'doing,—we': 7119, 'done?’—‘then': 7120, 'douai': 7121, 'doze': 7122, 'dragon': 7123, 'dripping': 7124, 'drone': 7125, 'drover': 7126, 'dumb': 7127, 'dying': 7128, 'earthen': 7129, 'eccentricity': 7130, 'edify': 7131, 'election': 7132, 'electric': 7133, 'elucidate': 7134, 'emaciation': 7135, 'embroider': 7136, 'enact': 7137, 'enchant': 7138, 'encouraging': 7139, 'endeavor': 7140, 'enfants': 7141, 'enjoin': 7142, 'envelope': 7143, 'equity': 7144, 'eruption': 7145, 'estimable': 7146, 'estimate': 7147, 'everybody': 7148, 'exaggerated': 7149, 'exceedingly': 7150, 'except': 7151, 'excited': 7152, 'exclusively': 7153, 'exorbitant': 7154, 'extricate': 7155, 'f.': 7156, 'face,—his': 7157, 'fatality': 7158, 'faubourgs': 7159, 'faucet': 7160, 'fawn': 7161, 'february': 7162, 'fecundate': 7163, 'feebleness': 7164, 'feeling': 7165, 'fine?’—‘make': 7166, 'finished': 7167, 'firebrand': 7168, 'flabby': 7169, 'fleming': 7170, 'flemings': 7171, 'flemish': 7172, 'fleshless': 7173, 'flood': 7174, 'florid': 7175, 'flush': 7176, 'focus': 7177, 'footstep': 7178, 'forcibly': 7179, 'foreleg': 7180, 'forgot': 7181, 'fourthly': 7182, 'fragile': 7183, 'freight': 7184, 'frightfully': 7185, 'fro': 7186, 'frévent': 7187, 'gap': 7188, 'german': 7189, 'gladly': 7190, 'gone': 7191, 'grandsire': 7192, 'gratitude': 7193, 'grope': 7194, 'grove': 7195, 'guarantee': 7196, 'guess': 7197, 'handmark': 7198, 'hap': 7199, 'hasten': 7200, 'hazard': 7201, 'headstrong': 7202, 'heartrending': 7203, 'heaven,—security,—i': 7204, 'heroism': 7205, 'hesdin': 7206, 'hiccoughs': 7207, 'hiding': 7208, 'him;—bah': 7209, 'hinder': 7210, 'hitched': 7211, 'hive': 7212, 'homely': 7213, 'honored': 7214, 'hoof': 7215, 'hopeful': 7216, 'hostess': 7217, 'hunchbacke': 7218, 'hunting': 7219, 'hydra': 7220, 'hydraulic': 7221, 'hypocritical': 7222, 'identity': 7223, 'idiot': 7224, 'ignominious': 7225, 'ii': 7226, 'illustrious': 7227, 'imbecility': 7228, 'immorality': 7229, 'imperative': 7230, 'impetuous': 7231, 'imposture': 7232, 'impregnable': 7233, 'impregnate': 7234, 'improvise': 7235, 'impute': 7236, 'inauspicious': 7237, 'incision': 7238, 'independently': 7239, 'indulgence': 7240, 'inevitable': 7241, 'inevitably': 7242, 'inexplicable': 7243, 'infanticide': 7244, 'infusion': 7245, 'ingenuousness': 7246, 'injurious': 7247, 'insert': 7248, 'insinuation': 7249, 'insisting': 7250, 'intensity': 7251, 'interested': 7252, 'interesting': 7253, 'intermingle': 7254, 'interpolate': 7255, 'interpreter': 7256, 'interrogating': 7257, 'intertwine': 7258, 'intimidate': 7259, 'intoxicate': 7260, 'inure': 7261, 'invalid': 7262, 'inwardly': 7263, 'ironmonger': 7264, 'isolate': 7265, 'je': 7266, 'jenie': 7267, 'jolt': 7268, 'jostle': 7269, 'judges': 7270, 'judicial': 7271, 'judicially': 7272, 'juror': 7273, 'keenly': 7274, 'kick': 7275, 'kitten': 7276, 'knob': 7277, 'knocker': 7278, 'knows?—perhap': 7279, 'labyrinth': 7280, 'ladder': 7281, 'landlady': 7282, 'lapse': 7283, 'lassitude': 7284, 'laundry': 7285, 'lazariste': 7286, 'leaden': 7287, 'lengthen': 7288, 'levity': 7289, 'liable': 7290, 'likely': 7291, 'likeness': 7292, 'limosin': 7293, 'literature': 7294, 'lively': 7295, 'locate': 7296, 'lourdes': 7297, 'loyally': 7298, 'loyalty': 7299, 'luck': 7300, 'lurch': 7301, 'lust': 7302, 'l’avocat': 7303, 'l’hôpital': 7304, 'madman': 7305, 'magistracy': 7306, 'malediction': 7307, 'manger': 7308, 'map': 7309, 'marauder': 7310, 'marines': 7311, 'mary': 7312, 'massieu': 7313, 'mastery': 7314, 'me,—the': 7315, 'meddle': 7316, 'melodrama': 7317, 'melpomene': 7318, 'mender': 7319, 'metal': 7320, 'midway': 7321, 'milton': 7322, 'mirage': 7323, 'miscreant': 7324, 'misdeed': 7325, 'mite': 7326, 'moist': 7327, 'moisture': 7328, 'monarch': 7329, 'monastic': 7330, 'monotonous': 7331, 'mont': 7332, 'montbrison': 7333, 'moss': 7334, 'mouth,—incoherent': 7335, 'mouthed': 7336, 'mouthful': 7337, 'multiplied': 7338, 'multiply': 7339, 'murdering': 7340, 'musical': 7341, 'mutt': 7342, 'nakedness': 7343, 'naughty': 7344, 'neath': 7345, 'necklet': 7346, 'negative': 7347, 'neighbour': 7348, 'nicolas': 7349, 'nie': 7350, 'nightmare': 7351, 'nude': 7352, 'nudge': 7353, 'nut': 7354, 'oak': 7355, 'oath': 7356, 'obstinately': 7357, 'odious': 7358, 'offender': 7359, 'offensive': 7360, 'oldish': 7361, 'operate': 7362, 'oration': 7363, 'oratorical': 7364, 'orchard': 7365, 'ordinarily': 7366, 'organ': 7367, 'organic': 7368, 'oriflamme': 7369, 'other,—as': 7370, 'outburst': 7371, 'outcome': 7372, 'outwardly': 7373, 'overhead': 7374, 'overload': 7375, 'overtake': 7376, 'p.': 7377, 'pache': 7378, 'pacing': 7379, 'palpable': 7380, 'pandemonium': 7381, 'pardi': 7382, 'parsonage': 7383, 'passing': 7384, 'pathetic': 7385, 'patois': 7386, 'paucity': 7387, 'penance': 7388, 'penitence': 7389, 'perceptible': 7390, 'perilously': 7391, 'perpetually': 7392, 'perpétue': 7393, 'peruse': 7394, 'perverse': 7395, 'phiz': 7396, 'pierron': 7397, 'plait': 7398, 'plea': 7399, 'ploughing': 7400, 'pol': 7401, 'pond': 7402, 'pontiff': 7403, 'pontoise': 7404, 'populated': 7405, 'porte': 7406, 'positively': 7407, 'postboy': 7408, 'poste': 7409, 'postilion': 7410, 'postman': 7411, 'postpone': 7412, 'precise': 7413, 'precision': 7414, 'premeditation': 7415, 'preservation': 7416, 'preservative': 7417, 'presumption': 7418, 'prisoner,—a': 7419, 'privileged': 7420, 'proceeding': 7421, 'prolong': 7422, 'prosecute': 7423, 'prosecution': 7424, 'prosecutor': 7425, 'prospect': 7426, 'prostrate': 7427, 'protract': 7428, 'provisionally': 7429, 'président': 7430, 'puzzle': 7431, 'pyrenees': 7432, 'quick': 7433, 'quietly': 7434, 'quotidienne': 7435, 'rally': 7436, 'ramshackle': 7437, 'rank': 7438, 'readily': 7439, 'reality,—not': 7440, 'reanimate': 7441, 'reappearance': 7442, 'reassure': 7443, 'recede': 7444, 'receptacle': 7445, 'reclaim': 7446, 'recognition': 7447, 'record': 7448, 'reform': 7449, 'relapse': 7450, 'relax': 7451, 'relay': 7452, 'relighte': 7453, 'religiously': 7454, 'reminder': 7455, 'remount': 7456, 'rending': 7457, 'renowned': 7458, 'reparation': 7459, 'repeatedly': 7460, 'repentance': 7461, 'reputation': 7462, 'reside': 7463, 'resound': 7464, 'respected': 7465, 'resurrection': 7466, 'retract': 7467, 'revelation': 7468, 'rigorous': 7469, 'rinse': 7470, 'romainville': 7471, 'romainville?)5': 7472, 'romorantin': 7473, 'roses': 7474, 'rouges': 7475, 'roughly': 7476, 'roundsman': 7477, 'sadden': 7478, 'saddle': 7479, 'sale': 7480, 'sanctification': 7481, 'sanctify': 7482, 'sand': 7483, 'satanic': 7484, 'savor': 7485, 'scaling': 7486, 'scaufflaer': 7487, 'scaufflaire': 7488, 'scrupulously': 7489, 'segesta': 7490, 'seizure': 7491, 'servitude': 7492, 'session': 7493, 'settled': 7494, 'shift': 7495, 'shorten': 7496, 'shrewdness': 7497, 'shrivel': 7498, 'shrove': 7499, 'sicard': 7500, 'sieur': 7501, 'simplice': 7502, 'skilfully': 7503, 'skirmish': 7504, 'sleepless': 7505, 'smock': 7506, 'snap': 7507, 'sneak': 7508, 'solid': 7509, 'solidify': 7510, 'sonorousness': 7511, 'soothe': 7512, 'sophism': 7513, 'soul,—the': 7514, 'spacious': 7515, 'sparely': 7516, 'sparkle': 7517, 'spear': 7518, 'spell': 7519, 'spew': 7520, 'spin': 7521, 'spoke': 7522, 'spouse': 7523, 'stableman': 7524, 'stagger': 7525, 'starting': 7526, 'stately': 7527, 'stead': 7528, 'stealer': 7529, 'steam': 7530, 'stimulate': 7531, 'stirring': 7532, 'stitch': 7533, 'storm': 7534, 'strain': 7535, 'stream': 7536, 'strengthen': 7537, 'substitute': 7538, 'subtle': 7539, 'suffuse': 7540, 'sulking': 7541, 'supervene': 7542, 'supposition': 7543, 'surely': 7544, 'surgeon': 7545, 'suspense': 7546, 'sweetness': 7547, 'swerve': 7548, 'switch': 7549, 'sympathize': 7550, 'syracuse': 7551, 't.': 7552, 'taper': 7553, 'termite': 7554, 'tester': 7555, 'that,—we': 7556, 'thong': 7557, 'thoughts,—to': 7558, 'throb': 7559, 'thunder': 7560, 'théramène': 7561, 'tide': 7562, 'tilbury': 7563, 'tinques': 7564, 'toddle': 7565, 'toned': 7566, 'totally': 7567, 'tradesman': 7568, 'trail': 7569, 'tramp': 7570, 'tramping': 7571, 'trampling': 7572, 'transmit': 7573, 'tremulous': 7574, 'trepidation': 7575, 'true,—in': 7576, 'tub': 7577, 'unanimity': 7578, 'uncease': 7579, 'unchain': 7580, 'undeceive': 7581, 'unhappily': 7582, 'unharness': 7583, 'unite': 7584, 'universally': 7585, 'unnecessary': 7586, 'unrecognizable': 7587, 'unwittingly': 7588, 'upheave': 7589, 'upholstered': 7590, 'uplift': 7591, 'ursuline': 7592, 'usher': 7593, 'utilize': 7594, 'vacant': 7595, 'vacillate': 7596, 'veiled': 7597, 'venom': 7598, 'veracity': 7599, 'villager': 7600, 'visibly': 7601, 'vital': 7602, 'vivified': 7603, 'wainscot': 7604, 'wainscote': 7605, 'ward': 7606, 'waxed': 7607, 'waxen': 7608, 'wayside': 7609, 'wealth': 7610, 'web': 7611, 'wheeled': 7612, 'whiffle': 7613, 'wick': 7614, 'winding': 7615, 'wo': 7616, 'wonder': 7617, 'worker': 7618, 'workshop': 7619, 'worry': 7620, 'wrench': 7621, 'xiv': 7622, 'yawning': 7623, 'yestere’en': 7624, 'you,—and': 7625, 'éloy': 7626, '’—‘madame': 7627, '’—‘where?’—‘in': 7628, 'affected': 7629, 'agitation': 7630, 'anybody': 7631, 'apprehend': 7632, 'asylum': 7633, 'atrocity': 7634, 'avenge': 7635, 'awry': 7636, 'bedstead': 7637, 'bequiabouit': 7638, 'bestiality': 7639, 'bludgeon': 7640, 'bojean': 7641, 'bonapartists': 7642, 'boujean': 7643, 'bowel': 7644, 'béjean': 7645, 'cemetery': 7646, 'clenched': 7647, 'countess': 7648, 'crimson': 7649, 'crumb': 7650, 'damned': 7651, 'defiance': 7652, 'demonstration': 7653, 'deplore': 7654, 'devoted': 7655, 'dimness': 7656, 'docteur': 7657, 'drapeau': 7658, 'drawer': 7659, 'economize': 7660, 'entrust': 7661, 'epiphonema': 7662, 'flaunt': 7663, 'frenzied': 7664, 'frontispiece': 7665, 'fundamental': 7666, 'gape': 7667, 'ghastly': 7668, 'grappling': 7669, 'hook': 7670, 'humiliation': 7671, 'ignoble': 7672, 'incontestable': 7673, 'inflection': 7674, 'inspiring': 7675, 'interrupted': 7676, 'intuition': 7677, 'knelt': 7678, 'laboratory': 7679, 'lamentation': 7680, 'liberated': 7681, 'lugubriously': 7682, 'marrow': 7683, 'messenger': 7684, 'methodical': 7685, 'mother,—the': 7686, 'neatly': 7687, 'openwork': 7688, 'orthography': 7689, 'overspread': 7690, 'palpitated': 7691, 'pauper': 7692, 'personified': 7693, 'phial': 7694, 'pleasant': 7695, 'promiscuousness': 7696, 'prosperous': 7697, 'protestation': 7698, 'rapture': 7699, 'refute': 7700, 'requisition': 7701, 'respiration': 7702, 'restriction': 7703, 'rummage': 7704, 'sighing': 7705, 'sightless': 7706, 'sincerity': 7707, 'singularity': 7708, 'smooth': 7709, 'stock': 7710, 'strictly': 7711, 'subscriber': 7712, 'summing': 7713, 'theirs': 7714, 'thorough': 7715, 'titlepage': 7716, 'unfolding': 7717, 'unsuspicious': 7718, 'unwonted': 7719, 'variance': 7720, 'vice,—error': 7721, 'virginity': 7722, 'waking': 7723, 'warrant': 7724, 'wicke': 7725, 'wrap': 7726, 'wrestler': 7727, '1,200': 7728, '105th': 7729, '11': 7730, '14': 7731, '1637_.8': 7732, '1688': 7733, '1783': 7734, '1789': 7735, '17th': 7736, '1849': 7737, '1861': 7738, '18th': 7739, '19th': 7740, '1st': 7741, '20th': 7742, '24': 7743, '30th': 7744, '450': 7745, '45th': 7746, '75th': 7747, '79th': 7748, '8th': 7749, '95th': 7750, 'abase': 7751, 'abatis': 7752, 'aboukir': 7753, 'abruptness': 7754, 'absurdly': 7755, 'academical': 7756, 'accepted': 7757, 'acclivity': 7758, 'accumulate': 7759, 'adder': 7760, 'aggrandizement': 7761, 'agincourt': 7762, 'agonizing': 7763, 'aide': 7764, 'alava': 7765, 'alexander': 7766, 'alleurs': 7767, 'alliance': 7768, 'allies': 7769, 'almagro': 7770, 'alten': 7771, 'alvinzi': 7772, 'amaranthine': 7773, 'ambulance': 7774, 'ambush': 7775, 'ammunition': 7776, 'amount': 7777, 'angelos': 7778, 'anglo': 7779, 'anne': 7780, 'antiquary': 7781, 'antiquated': 7782, 'antiquity': 7783, 'antithesis': 7784, 'applicable': 7785, 'arc': 7786, 'arcola': 7787, 'argos': 7788, 'art,—though': 7789, 'artillery': 7790, 'assailant': 7791, 'assassination': 7792, 'assured': 7793, 'astound': 7794, 'astray': 7795, 'athlete': 7796, 'aurora': 7797, 'aux': 7798, 'babylon': 7799, 'bachelu': 7800, 'back,—that': 7801, 'bagpipe': 7802, 'balustrade': 7803, 'bandage': 7804, 'barbarian': 7805, 'barbarism': 7806, 'barbarous': 7807, 'barley': 7808, 'barne': 7809, 'barrow': 7810, 'barême': 7811, 'basis': 7812, 'bat': 7813, 'bathurst': 7814, 'battalion': 7815, 'battering': 7816, 'battery': 7817, 'bauduin': 7818, 'bautzen': 7819, 'bayonet': 7820, 'beak': 7821, 'bearnese': 7822, 'belch': 7823, 'belfry': 7824, 'belgians': 7825, 'belgium': 7826, 'belittle': 7827, 'belle': 7828, 'bellow': 7829, 'belt': 7830, 'bemire': 7831, 'ben': 7832, 'benjamin': 7833, 'bernard': 7834, 'besiege': 7835, 'bestride': 7836, 'bewept': 7837, 'bewept,—let': 7838, 'biography': 7839, 'biscayan,9': 7840, 'biscayan.6': 7841, 'blackmann': 7842, 'blancard': 7843, 'blanch': 7844, 'blank': 7845, 'blast': 7846, 'bleeding': 7847, 'bois': 7848, 'boitsfort': 7849, 'bole': 7850, 'bomb': 7851, 'bonapartes': 7852, 'boum': 7853, 'bouvines': 7854, 'boxer': 7855, 'boys': 7856, 'braine': 7857, 'brandish': 7858, 'braying': 7859, 'breathless': 7860, 'briar': 7861, 'bridle': 7862, 'brienne': 7863, 'brig': 7864, 'brigade': 7865, 'brilliancy': 7866, 'british': 7867, 'bro': 7868, 'browse': 7869, 'brunswick': 7870, 'brunswicks': 7871, 'brush': 7872, 'brussels': 7873, 'bucket': 7874, 'bullet': 7875, 'bulletin': 7876, 'burie': 7877, 'bushel': 7878, 'buttercup': 7879, 'buttress': 7880, 'by,—we': 7881, 'bérésina': 7882, 'bülow': 7883, 'caisson': 7884, 'calculator': 7885, 'cambronne': 7886, 'canister': 7887, 'cannonade': 7888, 'cannoneer': 7889, 'cape': 7890, 'carabineer': 7891, 'carbine': 7892, 'carbuncle': 7893, 'carnage': 7894, 'carnage,—this': 7895, 'carol': 7896, 'carrousel': 7897, 'cartload': 7898, 'cartridge': 7899, 'casement': 7900, 'casque': 7901, 'cataclysm': 7902, 'causeless': 7903, 'cavalry': 7904, 'cent': 7905, 'centaur': 7906, 'cerisoles': 7907, 'chaboulon': 7908, 'challenge': 7909, 'changes,—the': 7910, 'chapelle': 7911, 'chariot': 7912, 'charioteer': 7913, 'charleroi': 7914, 'charras': 7915, 'chart': 7916, 'chasseur': 7917, 'chassé': 7918, 'chord': 7919, 'circingle': 7920, 'circling': 7921, 'circular': 7922, 'circumference': 7923, 'citadel': 7924, 'civilized': 7925, 'clang': 7926, 'clash': 7927, 'clashing': 7928, 'cle': 7929, 'cluster': 7930, 'coalition': 7931, 'coating': 7932, 'cockade': 7933, 'cohort': 7934, 'coincidence': 7935, 'coincidence,—twenty': 7936, 'colback': 7937, 'colbert': 7938, 'colville': 7939, 'commentary': 7940, 'commissioner': 7941, 'complicity': 7942, 'comprise': 7943, 'concave': 7944, 'concentrate': 7945, 'concomitant': 7946, 'conde': 7947, 'condé': 7948, 'conflagration': 7949, 'congress': 7950, 'connivance': 7951, 'conqueror': 7952, 'conscientious': 7953, 'contend': 7954, 'continent': 7955, 'contingent': 7956, 'contradict': 7957, 'contrast': 7958, 'cooke': 7959, 'coolness': 7960, 'cordon': 7961, 'cornered': 7962, 'corps': 7963, 'corresponding': 7964, 'corsican': 7965, 'coucou': 7966, 'countersign': 7967, 'crammed': 7968, 'crater': 7969, 'crest': 7970, 'crop': 7971, 'cros': 7972, 'crow': 7973, 'crécy': 7974, 'cuirass': 7975, 'cuirassier': 7976, 'culminating': 7977, 'cumberland': 7978, 'currant': 7979, 'current': 7980, 'cut,—and': 7981, 'cæsarism': 7982, 'cæsars': 7983, 'daisy': 7984, 'dalmatie': 7985, 'dantes': 7986, 'dawning': 7987, 'death’s': 7988, 'debouch': 7989, 'debrye': 7990, 'decamp': 7991, 'decapitate': 7992, 'deceptive': 7993, 'deflect': 7994, 'degenerate': 7995, 'dehaze': 7996, 'delancey': 7997, 'delort': 7998, 'delusion': 7999, 'demonstrate': 8000, 'denseness': 8001, 'density': 8002, 'dent': 8003, 'denude': 8004, 'depend': 8005, 'deploy': 8006, 'derision': 8007, 'descent': 8008, 'described,—neither': 8009, 'descry': 8010, 'desnouettes': 8011, 'desperately': 8012, 'despotic': 8013, 'detailed': 8014, 'detestable': 8015, 'deux': 8016, 'device': 8017, 'devolving': 8018, 'dictatorship': 8019, 'diffuse': 8020, 'dion': 8021, 'disable': 8022, 'disabling': 8023, 'disappearance': 8024, 'disastrously': 8025, 'disband': 8026, 'disciplined': 8027, 'discommode': 8028, 'discourage': 8029, 'disdainful': 8030, 'disfigure': 8031, 'disintegrate': 8032, 'disintegration': 8033, 'dislodge': 8034, 'dismantled': 8035, 'dismemberment': 8036, 'disorganized': 8037, 'displeased': 8038, 'dissolving': 8039, 'distend': 8040, 'dive': 8041, 'divination': 8042, 'divinum': 8043, 'division,—the': 8044, 'dizzy': 8045, 'dnop': 8046, 'dolman': 8047, 'domain': 8048, 'domon': 8049, 'donzelot': 8050, 'doors,—the': 8051, 'dornberg': 8052, 'doubly': 8053, 'downfall': 8054, 'downpour': 8055, 'downward': 8056, 'draught': 8057, 'drouet': 8058, 'drum': 8059, 'drummer': 8060, 'dubois': 8061, 'duchess': 8062, 'duhesme': 8063, 'dungeon': 8064, 'duplat': 8065, 'durutte': 8066, 'dutch': 8067, 'dyle': 8068, 'd’enghien': 8069, 'd’erlon': 8070, 'd’orsay': 8071, 'eager': 8072, 'earth,—hamilton': 8073, 'earthworm': 8074, 'east': 8075, 'ebb': 8076, 'echelon': 8077, 'echelonne': 8078, 'edict': 8079, 'effrontery': 8080, 'egg': 8081, 'elevated': 8082, 'elevating': 8083, 'emanation': 8084, 'embankment': 8085, 'embattle': 8086, 'embed': 8087, 'embrasure': 8088, 'empire,—that': 8089, 'encampment': 8090, 'enchain': 8091, 'enfeeble': 8092, 'engagement': 8093, 'englishman': 8094, 'englishmen': 8095, 'ensign': 8096, 'entanglement': 8097, 'entreat': 8098, 'entwine': 8099, 'epaulet': 8100, 'equestrian': 8101, 'erat': 8102, 'erlon': 8103, 'escarpment': 8104, 'espali': 8105, 'essling': 8106, 'evolve': 8107, 'excavation': 8108, 'exchequer': 8109, 'excommunicate': 8110, 'excrément': 8111, 'exhaustion': 8112, 'expansively': 8113, 'expenditure': 8114, 'explore': 8115, 'extermination': 8116, 'fact,—and': 8117, 'fagot': 8118, 'falsehood': 8119, 'farmhouse': 8120, 'fatalist': 8121, 'fatis': 8122, 'façade': 8123, 'feebly': 8124, 'feint': 8125, 'fervacques': 8126, 'fifteenth': 8127, 'fighting': 8128, 'fist,—such': 8129, 'flagstone': 8130, 'flaming': 8131, 'flare': 8132, 'flebit': 8133, 'fleury': 8134, 'flogged': 8135, 'flotilla': 8136, 'flourish': 8137, 'fob': 8138, 'folard': 8139, 'fontainebleau': 8140, 'fontenoy': 8141, 'foremost': 8142, 'foy': 8143, 'fractured': 8144, 'frasnes': 8145, 'fraternize': 8146, 'frenchmen': 8147, 'frenzy': 8148, 'freshly': 8149, 'friable': 8150, 'friant': 8151, 'friedland': 8152, 'frischemont': 8153, 'front': 8154, 'frontage': 8155, 'frontier': 8156, 'fugitive': 8157, 'fuller': 8158, 'fulminate': 8159, 'fulminatrix': 8160, 'furrow': 8161, 'fuse': 8162, 'fusillade': 8163, 'gable': 8164, 'gambler': 8165, 'garnish': 8166, 'gayetie': 8167, 'gear': 8168, 'genappe': 8169, 'generation': 8170, 'geometrical': 8171, 'geometry': 8172, 'germans': 8173, 'ghoul': 8174, 'gibbet': 8175, 'globe': 8176, 'glorification': 8177, 'glorify': 8178, 'glue': 8179, 'gooseberry': 8180, 'gordon': 8181, 'gosselies': 8182, 'gothic': 8183, 'gourgaud': 8184, 'gracefully': 8185, 'grade': 8186, 'graduate': 8187, 'grape': 8188, 'grassy': 8189, 'grays': 8190, 'greeks': 8191, 'grenade': 8192, 'gribeauval': 8193, 'groaning': 8194, 'groenendael': 8195, 'grouchy': 8196, 'grub': 8197, 'grumbler': 8198, 'guards': 8199, 'guillaume': 8200, 'guilleminot': 8201, 'gulfs': 8202, 'gush': 8203, 'guyot': 8204, 'habana': 8205, 'hack': 8206, 'hacke': 8207, 'haie': 8208, 'hal': 8209, 'halkett': 8210, 'hangs': 8211, 'hannibals': 8212, 'hanoverian': 8213, 'hanoverians': 8214, 'hapsburgs': 8215, 'harass': 8216, 'harlet': 8217, 'harrow': 8218, 'hartwell': 8219, 'haunch': 8220, 'hawthorn': 8221, 'haxo': 8222, 'headlong': 8223, 'heal': 8224, 'heavens': 8225, 'heaving': 8226, 'heedlessness': 8227, 'helmet': 8228, 'hem': 8229, 'henquinez': 8230, 'herald': 8231, 'hercules': 8232, 'heredity': 8233, 'heroically': 8234, 'hesitating': 8235, 'hessian': 8236, 'hew': 8237, 'hierarchy': 8238, 'highland': 8239, 'highlander': 8240, 'highlanders': 8241, 'highways,—two': 8242, 'hiller': 8243, 'hillock': 8244, 'him,—the': 8245, 'hippanthrope': 8246, 'historian': 8247, 'historians.7': 8248, 'history,—is': 8249, 'hoc': 8250, 'hoche': 8251, 'hohenzollerns': 8252, 'hollando': 8253, 'holster': 8254, 'hood': 8255, 'hop': 8256, 'horseguard': 8257, 'hougomont': 8258, 'hougomont,—this': 8259, 'hover': 8260, 'hudson': 8261, 'hugomon': 8262, 'hulpe': 8263, 'huzzar': 8264, 'ideology': 8265, 'ignoramus': 8266, 'illogically': 8267, 'imitate': 8268, 'impar': 8269, 'impassable': 8270, 'impenetrability': 8271, 'impetuosity': 8272, 'inattention': 8273, 'incalculable': 8274, 'incessantly,—and': 8275, 'incontestably': 8276, 'indistinct': 8277, 'indomitable': 8278, 'inequality': 8279, 'inexperience': 8280, 'inextricably': 8281, 'infinitesimal': 8282, 'ingenuity': 8283, 'inhabit': 8284, 'inhale': 8285, 'injunction': 8286, 'inkermann': 8287, 'insistence': 8288, 'insolently': 8289, 'intentional': 8290, 'intentionally': 8291, 'intentness': 8292, 'interchange': 8293, 'interlope': 8294, 'interment': 8295, 'intermingling': 8296, 'intersection': 8297, 'intrepid': 8298, 'intrepidly': 8299, 'involuntarily': 8300, 'involuntary': 8301, 'invulnerability': 8302, 'invulnerable': 8303, 'irresistibly': 8304, 'irruption': 8305, 'isle': 8306, 'it,—to': 8307, 'italian': 8308, 'jackal': 8309, 'jasper': 8310, 'jena': 8311, 'jerusalem': 8312, 'jingling': 8313, 'jomini': 8314, 'jumping': 8315, 'junction': 8316, 'jupiter': 8317, 'justly': 8318, 'jérôme': 8319, 'kellermann': 8320, 'kempt': 8321, 'kielmansegg': 8322, 'killing': 8323, 'kingdom': 8324, 'kluze': 8325, 'kléber': 8326, 'knoll': 8327, 'kylsom': 8328, 'laconically': 8329, 'lacoste': 8330, 'lambert': 8331, 'lance': 8332, 'lancer': 8333, 'larvæ': 8334, 'laughingly': 8335, 'laurel': 8336, 'lava': 8337, 'lefebvre': 8338, 'legendary': 8339, 'legionary': 8340, 'legros': 8341, 'leipzig': 8342, 'leonidas': 8343, 'leprosy': 8344, 'lessen': 8345, 'lessens': 8346, 'lethargy': 8347, 'liberalism': 8348, 'lifeless': 8349, 'likewise': 8350, 'lillois': 8351, 'lime': 8352, 'limper': 8353, 'lintstock': 8354, 'lisp': 8355, 'loam': 8356, 'lobau': 8357, 'lodi': 8358, 'loftiest': 8359, 'loggerhead': 8360, 'longwood': 8361, 'loophole': 8362, 'losthin': 8363, 'lothian': 8364, 'lowe': 8365, 'lt': 8366, 'luminary': 8367, 'lunenburg': 8368, 'l’alleud': 8369, 'l’empereur': 8370, 'l’héritier': 8371, 'l’inconstant': 8372, 'mack': 8373, 'maior': 8374, 'maitland': 8375, 'majestically': 8376, 'mallet': 8377, 'malplaquet': 8378, 'man,—this': 8379, 'manipulate': 8380, 'manor': 8381, 'mantua': 8382, 'marceau': 8383, 'marcognet': 8384, 'mardigras': 8385, 'marengo': 8386, 'marengo,—that': 8387, 'marques': 8388, 'marquesa': 8389, 'marsh': 8390, 'massacre': 8391, 'masses,—for': 8392, 'massing': 8393, 'masterly': 8394, 'mater': 8395, 'mathematical': 8396, 'maxim': 8397, 'means': 8398, 'mechlin': 8399, 'medallion': 8400, 'meeren': 8401, 'mental': 8402, 'mentally': 8403, 'merde': 8404, 'merle': 8405, 'meteor': 8406, 'michel': 8407, 'mighty': 8408, 'mile': 8409, 'milhaud': 8410, 'miring': 8411, 'miscarried': 8412, 'mitchell': 8413, 'moat': 8414, 'mockery,—life': 8415, 'mole': 8416, 'moment,—it': 8417, 'montchenu': 8418, 'montebello': 8419, 'monument': 8420, 'monumental': 8421, 'morand': 8422, 'morass': 8423, 'mortal': 8424, 'morvan': 8425, 'moskowa': 8426, 'mouldy': 8427, 'mow': 8428, 'muffle': 8429, 'muffling': 8430, 'murat': 8431, 'musket': 8432, 'musketry': 8433, 'muskowa': 8434, 'mutilate': 8435, 'mutually': 8436, 'mélas': 8437, 'nag': 8438, 'nantes': 8439, 'narration': 8440, 'narrator': 8441, 'nassau': 8442, 'nassaus': 8443, 'navigate': 8444, 'necklace': 8445, 'nest': 8446, 'ney': 8447, 'nicaise': 8448, 'niche': 8449, 'nicholas': 8450, 'nick': 8451, 'nineteenth': 8452, 'nivelle': 8453, 'nivelles': 8454, 'noon': 8455, 'northern': 8456, 'novelty': 8457, 'novice': 8458, 'numerical': 8459, 'nôtre': 8460, 'obscurum': 8461, 'oddity': 8462, 'oddly': 8463, 'ohain': 8464, 'olympus': 8465, 'ompteda': 8466, 'once,—hougomont': 8467, 'onset': 8468, 'ordnance': 8469, 'originate': 8470, 'orphic': 8471, 'oscillation': 8472, 'ostend': 8473, 'others,—would': 8474, 'ouen': 8475, 'outpost': 8476, 'outspread': 8477, 'overcast': 8478, 'overshadow': 8479, 'overturn': 8480, 'oxidization': 8481, 'o’er': 8482, 'p': 8483, 'package': 8484, 'pad': 8485, 'paglan': 8486, 'pail': 8487, 'palatinate': 8488, 'palisade': 8489, 'panel': 8490, 'panic': 8491, 'panic;10': 8492, 'papelotte': 8493, 'parallel': 8494, 'paraphernalia': 8495, 'participate': 8496, 'partition': 8497, 'paved': 8498, 'pear': 8499, 'penthouse': 8500, 'permissible': 8501, 'perponcher': 8502, 'perspiring': 8503, 'pet': 8504, 'petard': 8505, 'petersburg': 8506, 'petrified': 8507, 'philippi': 8508, 'pibroch': 8509, 'pickaxe': 8510, 'pickpocket': 8511, 'picton': 8512, 'pilaster': 8513, 'pilot': 8514, 'pirch': 8515, 'piré': 8516, 'pistol': 8517, 'pius': 8518, 'plaid': 8519, 'plancenoit': 8520, 'plaque': 8521, 'plateau': 8522, 'player': 8523, 'pleader': 8524, 'pleasantry': 8525, 'pleiad': 8526, 'plethora': 8527, 'plough': 8528, 'pluribus': 8529, 'ply': 8530, 'point,—from': 8531, 'points,—a': 8532, 'poisonous': 8533, 'poitiers': 8534, 'pole': 8535, 'polybius': 8536, 'polyp': 8537, 'polytechnic': 8538, 'pompeius': 8539, 'pompey': 8540, 'ponder': 8541, 'ponsonby': 8542, 'pontmercy': 8543, 'ponts': 8544, 'poret': 8545, 'portentous': 8546, 'possessor': 8547, 'pounder': 8548, 'practice': 8549, 'prank': 8550, 'present,—dragge': 8551, 'presentiment': 8552, 'pringle': 8553, 'prodigy': 8554, 'projectile': 8555, 'projectile,—the': 8556, 'prompt': 8557, 'prone': 8558, 'prussian': 8559, 'pugilism': 8560, 'pulley': 8561, 'pulverize': 8562, 'punic': 8563, 'quid': 8564, 'quine': 8565, 'quiot': 8566, 'quo': 8567, 'rabellais': 8568, 'rainstorm': 8569, 'rallying': 8570, 'ram': 8571, 'ramillie': 8572, 'rapine': 8573, 'rebound': 8574, 'reconnoitre': 8575, 'recruit': 8576, 'rectangle': 8577, 'rectilinear': 8578, 'redan': 8579, 'redoubt': 8580, 'reille': 8581, 'reinforce': 8582, 'reinforcement': 8583, 'relatively': 8584, 'remains,—only': 8585, 'rembrandt': 8586, 'rendezvous': 8587, 'repute': 8588, 'rest,—the': 8589, 'retreat,—the': 8590, 'retreating': 8591, 'rever': 8592, 'reversed': 8593, 'review': 8594, 'revocation': 8595, 'rhine': 8596, 'richmond': 8597, 'riddle': 8598, 'rider': 8599, 'ridet': 8600, 'rifle': 8601, 'rights,—and': 8602, 'rio': 8603, 'rioting': 8604, 'rivulet': 8605, 'robespierre': 8606, 'roguet': 8607, 'romanoffs': 8608, 'rooted': 8609, 'rossomme': 8610, 'rouget': 8611, 'roughhewn': 8612, 'rout': 8613, 'rubigine': 8614, 'ruby': 8615, 'runner': 8616, 'russians': 8617, 'rylandt': 8618, 'ryssel': 8619, 'sabre': 8620, 'safety': 8621, 'sagacity': 8622, 'sainte,—all': 8623, 'salamanca': 8624, 'salvator': 8625, 'sapper': 8626, 'saxe': 8627, 'scabbard': 8628, 'scabra': 8629, 'scan': 8630, 'scarlet': 8631, 'sceptre': 8632, 'schiller': 8633, 'schoenbrunn': 8634, 'scotch': 8635, 'scotchmen': 8636, 'scout': 8637, 'scrape': 8638, 'screen': 8639, 'section': 8640, 'semicircle': 8641, 'sentinel': 8642, 'sepulchral': 8643, 'series': 8644, 'serviceable': 8645, 'shakos': 8646, 'shameful': 8647, 'sharpshooter': 8648, 'shatter': 8649, 'shell': 8650, 'shrubbery': 8651, 'siborne': 8652, 'sic': 8653, 'sighted': 8654, 'simulate': 8655, 'simultaneous': 8656, 'singer': 8657, 'site': 8658, 'sixteenth': 8659, 'skeleton': 8660, 'skip': 8661, 'skirmisher': 8662, 'slab': 8663, 'slain': 8664, 'slanting': 8665, 'slash': 8666, 'slasher': 8667, 'slate': 8668, 'sleeplessness': 8669, 'slew': 8670, 'smohain': 8671, 'snare': 8672, 'socket': 8673, 'soigne': 8674, 'soignes': 8675, 'solidarity': 8676, 'solidly': 8677, 'sombreness': 8678, 'somerel': 8679, 'somerset': 8680, 'somnambulist': 8681, 'sorely': 8682, 'southern': 8683, 'sow': 8684, 'soye': 8685, 'spaniards': 8686, 'sparsely': 8687, 'specialize': 8688, 'specific': 8689, 'sphere': 8690, 'spike': 8691, 'spiral': 8692, 'splash': 8693, 'spongy': 8694, 'spook': 8695, 'squarely': 8696, 'standard': 8697, 'state,—disembowelle': 8698, 'statu': 8699, 'stones,—fetched': 8700, 'stopped,—a': 8701, 'straggler': 8702, 'strategic': 8703, 'strategy': 8704, 'strew': 8705, 'stripping': 8706, 'strive': 8707, 'stump': 8708, 'stupendous': 8709, 'subervic': 8710, 'sublimely': 8711, 'suicide': 8712, 'sunken': 8713, 'superbly': 8714, 'superstition': 8715, 'surpass': 8716, 'survivor': 8717, 'susceptibility': 8718, 'sutler': 8719, 'sway': 8720, 'sweden': 8721, 'symmetrical': 8722, 'tach': 8723, 'tactic': 8724, 'taking': 8725, 'talavera': 8726, 'tears,—these': 8727, 'temporary': 8728, 'tenacious': 8729, 'tenacity': 8730, 'terrace': 8731, 'thaw': 8732, 'thicket': 8733, 'threatening': 8734, 'throe': 8735, 'throne': 8736, 'thuin': 8737, 'titan,—cambronne': 8738, 'titanic': 8739, 'titus': 8740, 'tongre': 8741, 'torrent': 8742, 'torsade': 8743, 'tottering': 8744, 'tradition': 8745, 'traitorously': 8746, 'trample': 8747, 'travers': 8748, 'treacherous': 8749, 'treaty': 8750, 'trefoil': 8751, 'trench': 8752, 'trench,—a': 8753, 'trestaillon': 8754, 'triangle': 8755, 'tribune': 8756, 'tricolore': 8757, 'trident': 8758, 'triviality': 8759, 'troops,—that': 8760, 'trophy': 8761, 'truer': 8762, 'trundle': 8763, 'trustworthy': 8764, 'tumultuous': 8765, 'turenne': 8766, 'turf': 8767, 'tussle': 8768, 'twig': 8769, 'tyrannize': 8770, 'uhlans': 8771, 'ulm': 8772, 'unable': 8773, 'unbuttoned': 8774, 'uncertain': 8775, 'unconscious': 8776, 'uncultivated': 8777, 'undulate': 8778, 'undulation': 8779, 'unescorted': 8780, 'unforeseen': 8781, 'ungovernable': 8782, 'ungrateful': 8783, 'unhorsed': 8784, 'unmasked': 8785, 'unpolished': 8786, 'unwilling': 8787, 'uplifted': 8788, 'upraised': 8789, 'uprooted': 8790, 'upset': 8791, 'uselessness': 8792, 'uxbridge': 8793, 'v': 8794, 'valiant': 8795, 'vampire': 8796, 'van': 8797, 'vandal': 8798, 'vandeleur': 8799, 'vandermeulen': 8800, 'vanguard': 8801, 'vanquish': 8802, 'vanquished': 8803, 'variously': 8804, 'varnish': 8805, 'vents': 8806, 'verdant': 8807, 'verdure': 8808, 'vert': 8809, 'vespertillo': 8810, 'veteran': 8811, 'victor': 8812, 'victorious': 8813, 'vienna': 8814, 'vieux': 8815, 'villier': 8816, 'vincennes': 8817, 'virile': 8818, 'visitation': 8819, 'vittoria': 8820, 'vive': 8821, 'vivian': 8822, 'vobis': 8823, 'volcano': 8824, 'volley': 8825, 'voluntarily': 8826, 'vos': 8827, 'wade': 8828, 'wagram': 8829, 'wathier': 8830, 'wavre': 8831, 'weakening': 8832, 'wearer': 8833, 'wed': 8834, 'weed': 8835, 'weimar': 8836, 'wherewithal': 8837, 'whistle': 8838, 'wicker': 8839, 'wilda': 8840, 'wilt': 8841, 'wincke': 8842, 'winds': 8843, 'winner': 8844, 'wonderful': 8845, 'worse': 8846, 'worthwhile': 8847, 'wounded': 8848, 'wurmser': 8849, 'y': 8850, 'yell': 8851, 'zieten': 8852, 'zéphyr': 8853, 'échabeau': 8854, 'élysée': 8855, '17': 8856, '1792': 8857, '1808': 8858, '1827': 8859, '1830': 8860, '89': 8861, '9,430': 8862, 'adulterate': 8863, 'affiliated': 8864, 'affirmative': 8865, 'agility': 8866, 'albert': 8867, 'algésira': 8868, 'aloe': 8869, 'alongside': 8870, 'andujar': 8871, 'animosity': 8872, 'antennæ': 8873, 'applause': 8874, 'arsenal': 8875, 'ballestero': 8876, 'barnacle': 8877, 'beelzebub': 8878, 'bloodshed': 8879, 'bocherville': 8880, 'boulatruelle': 8881, 'breadth': 8882, 'brest': 8883, 'cadaver': 8884, 'calais': 8885, 'canal': 8886, 'canvas': 8887, 'card': 8888, 'carignan': 8889, 'chimerical': 8890, 'chopper': 8891, 'christopher': 8892, 'claws': 8893, 'cleaning': 8894, 'clearing': 8895, 'closing': 8896, 'coast': 8897, 'coblentz': 8898, 'columbus': 8899, 'commutation': 8900, 'compass': 8901, 'composition': 8902, 'compress': 8903, 'concubine': 8904, 'condit': 8905, 'conquering': 8906, 'copse': 8907, 'cordage': 8908, 'courteous': 8909, 'cruise': 8910, 'crusade': 8911, 'cubic': 8912, 'culminate': 8913, 'cunning': 8914, 'debase': 8915, 'deign': 8916, 'democracy': 8917, 'descamisado': 8918, 'diameter': 8919, 'disfavor': 8920, 'dock': 8921, 'drunkard': 8922, 'effusion': 8923, 'egotistical': 8924, 'el': 8925, 'enfeeblement': 8926, 'engine': 8927, 'enigmatical': 8928, 'enrage': 8929, 'enrol': 8930, 'enterprise': 8931, 'enthralment': 8932, 'equinoctial': 8933, 'equip': 8934, 'etiquette': 8935, 'excavate': 8936, 'fabulous': 8937, 'ferney': 8938, 'ferret': 8939, 'fisherman': 8940, 'fluid,—and': 8941, 'fodit': 8942, 'footrope': 8943, 'foresee': 8944, 'foretop': 8945, 'formality': 8946, 'fossa': 8947, 'foul': 8948, 'founder': 8949, 'fours': 8950, 'futile': 8951, 'gagny': 8952, 'gale': 8953, 'gallant': 8954, 'gazette': 8955, 'gendarmes,—probably': 8956, 'generalissimo': 8957, 'georges': 8958, 'germ': 8959, 'goodwife': 8960, 'goodwive': 8961, 'gormandizer': 8962, 'grateful': 8963, 'greasy': 8964, 'grenadi': 8965, 'herculean': 8966, 'hull': 8967, 'impotence': 8968, 'indefatigable': 8969, 'indescribable,—instead': 8970, 'indictment': 8971, 'indiscreet': 8972, 'inference': 8973, 'invaded': 8974, 'jetty': 8975, 'lagny': 8976, 'lapide': 8977, 'larboard': 8978, 'leak': 8979, 'lucifer': 8980, 'lucre': 8981, 'machineel': 8982, 'madrid': 8983, 'manipulation': 8984, 'marvel': 8985, 'mast': 8986, 'mattock': 8987, 'mediterranean': 8988, 'metre': 8989, 'moderate': 8990, 'navigation': 8991, 'navy': 8992, 'netto': 8993, 'nihilque': 8994, 'nook': 8995, 'nov.': 8996, 'nummas': 8997, 'obscurely': 8998, 'oise': 8999, 'opaca': 9000, 'operation': 9001, 'organization': 9002, 'orion': 9003, 'outstretche': 9004, 'overbalance': 9005, 'palafox': 9006, 'paragraph': 9007, 'passive': 9008, 'patriarch': 9009, 'plating': 9010, 'politeness': 9011, 'politic': 9012, 'port': 9013, 'portfolio': 9014, 'porthole': 9015, 'possesse': 9016, 'precious': 9017, 'priestly': 9018, 'propel': 9019, 'rarity': 9020, 'reclose': 9021, 'recommit': 9022, 'reduced': 9023, 'research': 9024, 'rey': 9025, 'rigging': 9026, 'ripple': 9027, 'roadmending': 9028, 'roadstead': 9029, 'roger': 9030, 'rostopchine': 9031, 'rostrum': 9032, 'rouen': 9033, 'roughly,—produce': 9034, 'ruyter': 9035, 'sailing': 9036, 'salvos': 9037, 'sameness': 9038, 'sansculotte': 9039, 'sap': 9040, 'saragossa': 9041, 'savoy': 9042, 'scoundrel': 9043, 'seclude': 9044, 'securely': 9045, 'siberia': 9046, 'signal': 9047, 'simulacra': 9048, 'slaughter': 9049, 'sling': 9050, 'sluice': 9051, 'soot': 9052, 'sorcerer': 9053, 'spawn': 9054, 'starboard': 9055, 'stave': 9056, 'store': 9057, 'subjection': 9058, 'substance,—solid': 9059, 'succoring': 9060, 'summary': 9061, 'surmise': 9062, 'swinging': 9063, 'tangle': 9064, 'ten': 9065, 'terrorism': 9066, 'then,—and': 9067, 'thereabout': 9068, 'thesauros': 9069, 'toad': 9070, 'topman': 9071, 'tour': 9072, 'translation': 9073, 'tribunaux': 9074, 'triumphal': 9075, 'trocadéro': 9076, 'tryphon': 9077, 'twelfth': 9078, 'twitching': 9079, 'underbrush': 9080, 'undo': 9081, 'unnaile': 9082, 'vigilance': 9083, 'voltairians': 9084, 'volunteer': 9085, 'was,—for': 9086, 'worst': 9087, 'yoke': 9088, '10': 9089, '1845': 9090, '23': 9091, 'accon': 9092, 'admiringly': 9093, 'adversity': 9094, 'agile': 9095, 'agitated': 9096, 'ain': 9097, 'alternately': 9098, 'amalgamate': 9099, 'amaze': 9100, 'annoying': 9101, 'aphorism': 9102, 'apicide': 9103, 'appearance,—tall': 9104, 'aqueduct': 9105, 'aristocracy': 9106, 'ash': 9107, 'astride': 9108, 'astute': 9109, 'audacity': 9110, 'audit': 9111, 'augustine': 9112, 'awe': 9113, 'awhile': 9114, 'bakeshop': 9115, 'balaguier': 9116, 'balanced': 9117, 'bass': 9118, 'beausset': 9119, 'befall': 9120, 'beggarly': 9121, 'bellevue': 9122, 'bending': 9123, 'benumbing': 9124, 'berry': 9125, 'bewildering': 9126, 'blotch': 9127, 'bondy': 9128, 'bonhomme': 9129, 'bonnet': 9130, 'booth': 9131, 'bounteous': 9132, 'brazilian': 9133, 'breech': 9134, 'breton': 9135, 'bribery': 9136, 'bridal': 9137, 'brighten': 9138, 'brook': 9139, 'brun': 9140, 'brunies': 9141, 'bucketful': 9142, 'cabaret': 9143, 'caracara': 9144, 'caraffe': 9145, 'castlereagh': 9146, 'catherine': 9147, 'cavalcade': 9148, 'chavailles': 9149, 'cheaply': 9150, 'chelle': 9151, 'chelles': 9152, 'chilblain': 9153, 'chime': 9154, 'choisy': 9155, 'christmas': 9156, 'chronicle': 9157, 'cistern': 9158, 'civrieux': 9159, 'claw': 9160, 'cleanliness': 9161, 'clown': 9162, 'co': 9163, 'cold,”—and': 9164, 'comer': 9165, 'compensation': 9166, 'contort': 9167, 'contortion': 9168, 'convicts': 9169, 'convicts,—a': 9170, 'cooking': 9171, 'coral': 9172, 'corpus': 9173, 'corsage': 9174, 'coughed': 9175, 'courageously': 9176, 'courrier': 9177, 'covet': 9178, 'cower': 9179, 'crafty': 9180, 'creak': 9181, 'crease': 9182, 'crepe': 9183, 'crimp': 9184, 'cripple': 9185, 'criticise': 9186, 'curt': 9187, 'cushion': 9188, 'customer': 9189, 'czarina': 9190, 'dangerously': 9191, 'dared': 9192, 'darkness,—through': 9193, 'dazzled': 9194, 'deception': 9195, 'delicti': 9196, 'delille': 9197, 'denser': 9198, 'desperation': 9199, 'detract': 9200, 'dew': 9201, 'diminutive': 9202, 'disagreement': 9203, 'dishevelment': 9204, 'disrespectful': 9205, 'dissatisfied': 9206, 'dissimulation': 9207, 'doll': 9208, 'dominant': 9209, 'don’t': 9210, 'dot': 9211, 'doumec': 9212, 'dreaming': 9213, 'dressed': 9214, 'dressing': 9215, 'drinker': 9216, 'drunken': 9217, 'dwarfed': 9218, 'd’anglès': 9219, 'd’asile': 9220, 'd’etain': 9221, 'ecstatic': 9222, 'educated': 9223, 'effluvia': 9224, 'emigration': 9225, 'enamel': 9226, 'enunciate': 9227, 'enunciation': 9228, 'enwrap': 9229, 'erasure': 9230, 'esprit': 9231, 'excrescence': 9232, 'excursion': 9233, 'expedient': 9234, 'extravagant': 9235, 'exuberance': 9236, 'fade': 9237, 'fairly': 9238, 'feather': 9239, 'fellowship': 9240, 'fennel': 9241, 'fidget': 9242, 'fiftieth': 9243, 'fillipe': 9244, 'filousophe': 9245, 'fishwife': 9246, 'flake': 9247, 'flanders': 9248, 'flaring': 9249, 'flashing': 9250, 'fleece': 9251, 'flicker': 9252, 'flight,—a': 9253, 'forgotten,—little': 9254, 'forty': 9255, 'foster': 9256, 'fragmentary': 9257, 'français': 9258, 'freezing': 9259, 'frill': 9260, 'fringe': 9261, 'fumbling': 9262, 'funnel': 9263, 'fustian': 9264, 'giantess': 9265, 'gift': 9266, 'glacière': 9267, 'gloomily': 9268, 'gonaguet': 9269, 'gournay': 9270, 'gracious': 9271, 'grange': 9272, 'grievance': 9273, 'gross': 9274, 'grotesque': 9275, 'grows': 9276, 'gruff': 9277, 'habituate': 9278, 'halo': 9279, 'hardihood': 9280, 'havré': 9281, 'head,—a': 9282, 'headway': 9283, 'hearty': 9284, 'hempseed': 9285, 'hereabouts': 9286, 'highly': 9287, 'hind': 9288, 'hint': 9289, 'hitch': 9290, 'hoarsely': 9291, 'holland': 9292, 'homme': 9293, 'honey': 9294, 'house,—made': 9295, 'housekeeping': 9296, 'hundredth': 9297, 'hyena': 9298, 'idea,—fear': 9299, 'illumination': 9300, 'immoderately': 9301, 'improperly.12': 9302, 'inadmissible': 9303, 'inch': 9304, 'inconceivable': 9305, 'ing': 9306, 'inkling': 9307, 'innkeeper': 9308, 'inspection': 9309, 'intangible': 9310, 'it,—timidity': 9311, 'itinerant': 9312, 'itinerary': 9313, 'juice': 9314, 'kaleidoscope': 9315, 'knit': 9316, 'knitting': 9317, 'landed': 9318, 'lavish': 9319, 'lease': 9320, 'leaven': 9321, 'letting': 9322, 'leven': 9323, 'lice': 9324, 'license': 9325, 'lighten': 9326, 'lille': 9327, 'lily': 9328, 'lives,—when': 9329, 'livry': 9330, 'l’oiseau': 9331, 'magical': 9332, 'magnetic': 9333, 'maiden': 9334, 'mammiferous': 9335, 'mam’selle': 9336, 'man,—if': 9337, 'maraud': 9338, 'marine': 9339, 'marne': 9340, 'martin': 9341, 'mathematician': 9342, 'megaeras': 9343, 'menagerie': 9344, 'mendicant,—extreme': 9345, 'merchandise': 9346, 'mewing': 9347, 'mild': 9348, 'miller': 9349, 'modern': 9350, 'moisten': 9351, 'monceaux': 9352, 'monosyllable': 9353, 'mower': 9354, 'muzhik': 9355, 'nanterre': 9356, 'napkin': 9357, 'naturalist': 9358, 'naïve': 9359, 'nip': 9360, 'noisy': 9361, 'now,—to': 9362, 'oblique': 9363, 'obscene': 9364, 'observatoire': 9365, 'ochre': 9366, 'ogress': 9367, 'oily': 9368, 'one,—therein': 9369, 'onion': 9370, 'opacity': 9371, 'orthographical': 9372, 'ostrich': 9373, 'ottoman': 9374, 'ourcine': 9375, 'ourcq': 9376, 'o’-nine': 9377, 'pacific': 9378, 'paltry': 9379, 'parny': 9380, 'paving': 9381, 'peddler': 9382, 'pedler': 9383, 'peeling': 9384, 'penetrating': 9385, 'penniless': 9386, 'peoples,—hospitality': 9387, 'pepper': 9388, 'peremptory': 9389, 'perigueux': 9390, 'peuh': 9391, 'philanthropist': 9392, 'philosophe': 9393, 'pincer': 9394, 'pitcher': 9395, 'planchette': 9396, 'planet': 9397, 'plants,—against': 9398, 'plaster': 9399, 'plat': 9400, 'plume': 9401, 'pocketbook': 9402, 'polyborus': 9403, 'ponine': 9404, 'potsherd': 9405, 'pradeaux': 9406, 'preceptor': 9407, 'preference': 9408, 'promptitude': 9409, 'prowess': 9410, 'quibus': 9411, 'quivering': 9412, 'ran': 9413, 'raynal': 9414, 'readiness': 9415, 'redress': 9416, 'rescue': 9417, 'retired': 9418, 'rickety': 9419, 'roast': 9420, 'rooms,—table': 9421, 'rounded': 9422, 'royally': 9423, 'rusticate': 9424, 'sagacious': 9425, 'salpêtrière': 9426, 'sawyer': 9427, 'saying,—voltaire': 9428, 'scientific': 9429, 'servisse': 9430, 'sette': 9431, 'shabby': 9432, 'shallot': 9433, 'shopkeeper': 9434, 'sidelong': 9435, 'sift': 9436, 'signifie': 9437, 'silly': 9438, 'simplify': 9439, 'singularly': 9440, 'skimmer': 9441, 'slacken': 9442, 'slothful': 9443, 'smoker': 9444, 'sooty': 9445, 'sovereignty': 9446, 'specialty': 9447, 'spectral': 9448, 'spiced': 9449, 'squall': 9450, 'stall': 9451, 'statesman': 9452, 'stealthy': 9453, 'stewpan': 9454, 'straightforward': 9455, 'strangeness': 9456, 'stupefy': 9457, 'submerged': 9458, 'subscribe': 9459, 'summertide': 9460, 'suresnes': 9461, 'swaddle': 9462, 'swam': 9463, 'swathe': 9464, 'sweetish': 9465, 'swindler': 9466, 'taint': 9467, 'talkative': 9468, 'talker': 9469, 'tariff': 9470, 'temper': 9471, 'temperate': 9472, 'terribly': 9473, 'thinness': 9474, 'thought,—how': 9475, 'thénardi': 9476, 'thénardier,”—which': 9477, 'tinsel': 9478, 'tolerance': 9479, 'torsos': 9480, 'tortuous': 9481, 'toy': 9482, 'trader': 9483, 'tress': 9484, 'triangular': 9485, 'tufte': 9486, 'tug': 9487, 'tune': 9488, 'twisted': 9489, 'unamiable': 9490, 'unclean': 9491, 'uncurtained': 9492, 'undecided': 9493, 'undergrowth': 9494, 'undress': 9495, 'unfamiliar': 9496, 'unique': 9497, 'unmask': 9498, 'untie': 9499, 'untraceable': 9500, 'variation': 9501, 'vetch': 9502, 'vexation': 9503, 'vigorously': 9504, 'villa': 9505, 'villard': 9506, 'voice,—window': 9507, 'way,—she': 9508, 'weariness': 9509, 'webs': 9510, 'wedding': 9511, 'wench': 9512, 'werewolf': 9513, 'winters,—“she': 9514, 'wonderment': 9515, 'wreath': 9516, 'zelma': 9517, 'zinc': 9518, '1770': 9519, '1829': 9520, '1845,—black': 9521, '52': 9522, 'abattoir': 9523, 'aberration': 9524, 'afterwards,—it': 9525, 'alike': 9526, 'alléché': 9527, 'alteration': 9528, 'anecdote': 9529, 'architecture': 9530, 'aymon': 9531, 'banquier': 9532, 'barrière': 9533, 'barry': 9534, 'bay': 9535, 'beaver': 9536, 'below,—which': 9537, 'bills,—this': 9538, 'bituman': 9539, 'bonjour': 9540, 'cerecloth': 9541, 'chalky': 9542, 'chevaux': 9543, 'châtelet': 9544, 'collector': 9545, 'comprehensive': 9546, 'coppera': 9547, 'corbeau': 9548, 'creaking': 9549, 'crevice': 9550, 'croulebarbe': 9551, 'dans': 9552, 'daumont': 9553, 'diaphragm': 9554, 'dimension': 9555, 'diminutiveness': 9556, 'disadvantage': 9557, 'dossier': 9558, 'dumont': 9559, 'd’italie': 9560, 'ember': 9561, 'encouragement': 9562, 'ennui': 9563, 'ensemble': 9564, 'ephemeral': 9565, 'etc.13': 9566, 'evening,—he': 9567, 'evoke': 9568, 'exempt': 9569, 'expansion': 9570, 'exécutoire': 9571, 'eyesight': 9572, 'familiarly': 9573, 'felt': 9574, 'fiacre': 9575, 'flooring': 9576, 'fontaine': 9577, 'forestall': 9578, 'gobelins': 9579, 'gorbeau': 9580, 'hearte': 9581, 'heaviness': 9582, 'her,—the': 9583, 'herbalist': 9584, 'histoire': 9585, 'horizontal': 9586, 'hé': 9587, 'inexpressibly': 9588, 'inhabitable': 9589, 'initial': 9590, 'inquisitiveness': 9591, 'intestinal': 9592, 'intimate': 9593, 'ivry': 9594, 'keeping': 9595, 'keyhole': 9596, 'latitude': 9597, 'lattice': 9598, 'limp': 9599, 'lining': 9600, 'lodger': 9601, 'log': 9602, 'lordly': 9603, 'lui': 9604, 'l’odeur': 9605, 'l’ourcine': 9606, 'mansion': 9607, 'marcel': 9608, 'marché': 9609, 'masonry': 9610, 'maître': 9611, 'melodramas': 9612, 'monastery': 9613, 'morning,—a': 9614, 'médard': 9615, 'naïvely': 9616, 'nuncio': 9617, 'orleans': 9618, 'overpower': 9619, 'par': 9620, 'parody': 9621, 'partook': 9622, 'perché': 9623, 'perpendicularly': 9624, 'persevere': 9625, 'petit': 9626, 'petition': 9627, 'peu': 9628, 'picturesque': 9629, 'placid': 9630, 'polecat': 9631, 'pollarded': 9632, 'practitioner': 9633, 'prattle': 9634, 'prenard': 9635, 'preservation,—restraine': 9636, 'près': 9637, 'quaff': 9638, 'quarterly': 9639, 'rambler': 9640, 'rapturous': 9641, 'raven': 9642, 'renard': 9643, 'rigorously': 9644, 'rip': 9645, 'roche': 9646, 'rubbish': 9647, 'russet': 9648, 'saisie': 9649, 'sawdust': 9650, 'scantling': 9651, 'scissor': 9652, 'secure': 9653, 'shaving': 9654, 'shy': 9655, 'sidewalk': 9656, 'slat': 9657, 'slippery': 9658, 'soberly': 9659, 'stab': 9660, 'stain': 9661, 'starless': 9662, 'stealthily': 9663, 'stress': 9664, 'superannuated': 9665, 'suspecting': 9666, 'symmetry': 9667, 'teeth,—one': 9668, 'tenait': 9669, 'timber': 9670, 'tube': 9671, 'ulbach': 9672, 'unattractive': 9673, 'une': 9674, 'uninhabited': 9675, 'unmistakably': 9676, 'unpasted': 9677, 'unriddle': 9678, 'venetian': 9679, 'vignes': 9680, 'vomit': 9681, 'weld': 9682, 'whine': 9683, 'width': 9684, '1727': 9685, '1824': 9686, '49': 9687, 'abduction': 9688, 'abrade': 9689, 'absorption': 9690, 'ace': 9691, 'acolyte': 9692, 'advisable': 9693, 'affluent': 9694, 'africa': 9695, 'ages': 9696, 'antidote': 9697, 'apex': 9698, 'approaching': 9699, 'arcis': 9700, 'arena': 9701, 'artonge': 9702, 'assemblage': 9703, 'attila': 9704, 'aube': 9705, 'battemolle': 9706, 'battoir': 9707, 'bayonne': 9708, 'bloodhound': 9709, 'blunder': 9710, 'boar': 9711, 'bottom,—resulte': 9712, 'bourbe': 9713, 'brique': 9714, 'brocs': 9715, 'burrow': 9716, 'capua': 9717, 'capucin': 9718, 'carreaux.14': 9719, 'carrefour': 9720, 'caution': 9721, 'cautious': 9722, 'cautiously': 9723, 'cement': 9724, 'censier': 9725, 'chambers': 9726, 'chemin': 9727, 'children,—voice': 9728, 'choir': 9729, 'choisir': 9730, 'circus': 9731, 'clef': 9732, 'climbing': 9733, 'comique': 9734, 'commencement': 9735, 'commissary': 9736, 'compound': 9737, 'conciergerie': 9738, 'conduit': 9739, 'confirm': 9740, 'consultation': 9741, 'copeau': 9742, 'cracovie': 9743, 'cruche': 9744, 'cul': 9745, 'curdling': 9746, 'curfew': 9747, 'cyrus': 9748, 'célestin': 9749, 'cœur': 9750, 'c’est': 9751, 'decided': 9752, 'denis': 9753, 'desprez': 9754, 'determined': 9755, 'devise': 9756, 'discomfiture': 9757, 'disfigurement': 9758, 'drain': 9759, 'droit': 9760, 'duvivier': 9761, 'd’austerlitz': 9762, 'elaborate': 9763, 'emergency': 9764, 'encumbered': 9765, 'erasing': 9766, 'espalier': 9767, 'exasperation': 9768, 'exconvict': 9769, 'fabrique': 9770, 'fastening': 9771, 'fatherland': 9772, 'feigned': 9773, 'feydeau': 9774, 'fil': 9775, 'fissure': 9776, 'foil': 9777, 'formal': 9778, 'freak': 9779, 'gag': 9780, 'galiote': 9781, 'gardens': 9782, 'gas': 9783, 'genrot': 9784, 'girin': 9785, 'gloat': 9786, 'gnarl': 9787, 'goblet': 9788, 'going': 9789, 'grandchild': 9790, 'graze': 9791, 'greatcoat': 9792, 'groove': 9793, 'halting': 9794, 'hannibal': 9795, 'haphazard': 9796, 'him,—all': 9797, 'hippodrome': 9798, 'hound': 9799, 'hunted': 9800, 'hunter': 9801, 'huntsman': 9802, 'hush': 9803, 'hymn': 9804, 'ici': 9805, 'illuminated': 9806, 'imbushment': 9807, 'imminent': 9808, 'imperturbably': 9809, 'impracticable': 9810, 'imprison': 9811, 'infernal': 9812, 'ingrate': 9813, 'instill': 9814, 'institut': 9815, 'interference': 9816, 'intricate': 9817, 'intruder': 9818, 'ivy': 9819, 'jésus': 9820, 'keen': 9821, 'kindliness': 9822, 'kneecap': 9823, 'known': 9824, 'lame': 9825, 'lastly': 9826, 'legible': 9827, 'lenoir': 9828, 'ligniville': 9829, 'linden': 9830, 'loom': 9831, 'l’arbalète': 9832, 'l’arbre': 9833, 'l’ermite': 9834, 'l’épée': 9835, 'maelstrom': 9836, 'marcian': 9837, 'mazas': 9838, 'melon': 9839, 'memories': 9840, 'mercière': 9841, 'mesh': 9842, 'misgiving': 9843, 'mislead': 9844, 'monkish': 9845, 'moreover,—and': 9846, 'motive': 9847, 'mouffetard': 9848, 'mur': 9849, 'muscular': 9850, 'natal': 9851, 'net': 9852, 'neuve': 9853, 'newborn': 9854, 'nt': 9855, 'occasional': 9856, 'opera': 9857, 'organize': 9858, 'orison': 9859, 'outlook': 9860, 'outstretched': 9861, 'owls': 9862, 'pall': 9863, 'pasture': 9864, 'patriarches': 9865, 'petite': 9866, 'picpus': 9867, 'pillar': 9868, 'platoon': 9869, 'plummet': 9870, 'plâtre': 9871, 'poliveau': 9872, 'pologne': 9873, 'polonceau': 9874, 'poplar': 9875, 'porcherons': 9876, 'postes': 9877, 'potter': 9878, 'pottery': 9879, 'pouch': 9880, 'presently': 9881, 'puits': 9882, 'purely': 9883, 'pursuer': 9884, 'quartier': 9885, 'ramification': 9886, 'rattling': 9887, 'reassuring': 9888, 'reconstruction': 9889, 'rectitude': 9890, 'recur,—she': 9891, 'relic': 9892, 'remote': 9893, 'reproachful': 9894, 'republican': 9895, 'retard': 9896, 'rollin': 9897, 'rotten': 9898, 'roundabout': 9899, 'rues': 9900, 'russia': 9901, 'râpée': 9902, 'rôle': 9903, 'sac': 9904, 'saintly': 9905, 'scripture': 9906, 'scuttle': 9907, 'scythia': 9908, 'seafare': 9909, 'senility': 9910, 'sensuality,—the': 9911, 'separately': 9912, 'sergents': 9913, 'sheer': 9914, 'shy,—never': 9915, 'slant': 9916, 'sleepy': 9917, 'smile,—“pardieu': 9918, 'snub': 9919, 'solidity': 9920, 'sorcer': 9921, 'squad': 9922, 'stag': 9923, 'standing': 9924, 'start,—the': 9925, 'strangling': 9926, 'strategist': 9927, 'successfully': 9928, 'supernatural': 9929, 'talon': 9930, 'tarrying': 9931, 'thierry': 9932, 'tinkling': 9933, 'toll': 9934, 'tout': 9935, 'transverse': 9936, 'tremolo': 9937, 'truncated': 9938, 'trusty': 9939, 'tuyaux': 9940, 'unacquainted': 9941, 'uncertainty': 9942, 'unhewn': 9943, 'unshaded': 9944, 'unsheltered': 9945, 'unveil': 9946, 'valentinian': 9947, 'valjean,—the': 9948, 'venant': 9949, 'vend': 9950, 'venery': 9951, 'venez': 9952, 'version': 9953, 'vex': 9954, 'vintage': 9955, 'visible,—a': 9956, 'volubility': 9957, 'wad': 9958, 'y.': 9959, 'yesterday,—when': 9960, 'émigré': 9961, '1098': 9962, '1425': 9963, '1649': 9964, '1652': 9965, '1653': 9966, '1654': 9967, '1657': 9968, '1825': 9969, '1840': 9970, '1847': 9971, '529': 9972, '62': 9973, 'abasement': 9974, 'abbatial': 9975, 'accounts': 9976, 'ache': 9977, 'acoustic': 9978, 'ad': 9979, 'addiscerit': 9980, 'adulteress': 9981, 'adélaide': 9982, 'affliction': 9983, 'afterward': 9984, 'agatha': 9985, 'agathocle': 9986, 'aggravate': 9987, 'albertine': 9988, 'alcala': 9989, 'alix': 9990, 'allege': 9991, 'alpinula': 9992, 'alta': 9993, 'ancestress': 9994, 'anciot': 9995, 'ange': 9996, 'anges': 9997, 'anno': 9998, 'annonciation': 9999, 'anoint': 10000, 'ansiaux': 10001, 'apollo': 10002, 'arcanum': 10003, 'arranged': 10004, 'assassinated': 10005, 'assisting': 10006, 'assorted': 10007, 'assumption': 10008, 'asterisk': 10009, 'auguste': 10010, 'augustin': 10011, 'aulaire': 10012, 'aumarais': 10013, 'aure': 10014, 'auroras': 10015, 'authorization': 10016, 'ave': 10017, 'baffle': 10018, 'baignoire': 10019, 'banés': 10020, 'bazile': 10021, 'beaufort': 10022, 'beaumarchais': 10023, 'benedictine': 10024, 'benedictines': 10025, 'benoît': 10026, 'bernardine': 10027, 'besançon': 10028, 'best,—permission': 10029, 'bet': 10030, 'bird’s': 10031, 'blemeur': 10032, 'boarder': 10033, 'boarding': 10034, 'boss': 10035, 'bouchard': 10036, 'boucs': 10037, 'bourgogne': 10038, 'brac': 10039, 'bric': 10040, 'brunette': 10041, 'buildings,—the': 10042, 'bunch': 10043, 'burgundy': 10044, 'burial': 10045, 'buttery': 10046, 'bélissen': 10047, 'bérulle': 10048, 'bœuf': 10049, 'calas': 10050, 'calvary': 10051, 'camaldules': 10052, 'campan': 10053, 'canary': 10054, 'canonical': 10055, 'carmelites': 10056, 'carthusians': 10057, 'cassin': 10058, 'caterpillar': 10059, 'catholic': 10060, 'cede': 10061, 'censors,”—the': 10062, 'centenarian': 10063, 'ceracchi': 10064, 'champagne': 10065, 'chandelier': 10066, 'chantal': 10067, 'chaplet': 10068, 'chirp': 10069, 'chocolate': 10070, 'choiseul': 10071, 'châteauvieux': 10072, 'cifuentes': 10073, 'cineres': 10074, 'clairvaux': 10075, 'clergy': 10076, 'cogolludo': 10077, 'colic': 10078, 'comical': 10079, 'commonly': 10080, 'communicabit': 10081, 'compatible': 10082, 'competent': 10083, 'complacency': 10084, 'complex': 10085, 'conception': 10086, 'conclusus': 10087, 'configuration': 10088, 'congregations,—two': 10089, 'conical': 10090, 'consecrated': 10091, 'consecutive': 10092, 'conservet': 10093, 'constitutione': 10094, 'contribution': 10095, 'convent,—the': 10096, 'cordially': 10097, 'corpora': 10098, 'coulpe': 10099, 'coupling': 10100, 'courtin': 10101, 'cram': 10102, 'cricket': 10103, 'curiously': 10104, 'curl': 10105, 'cæca': 10106, 'célestins': 10107, 'céligne': 10108, 'dado': 10109, 'dai': 10110, 'dais': 10111, 'dancer': 10112, 'daubing': 10113, 'define': 10114, 'deliciously': 10115, 'depopulate': 10116, 'descendant': 10117, 'diable': 10118, 'diagonal': 10119, 'dicas': 10120, 'digression': 10121, 'dismas': 10122, 'dispersed': 10123, 'dissension': 10124, 'divina': 10125, 'donation': 10126, 'dormitory': 10127, 'dotage': 10128, 'drugget': 10129, 'dufresne': 10130, 'duration': 10131, 'd’auverney': 10132, 'd’eau': 10133, 'd’hautpoul': 10134, 'd’orléan': 10135, 'easter': 10136, 'easy,—which': 10137, 'ecce': 10138, 'edit': 10139, 'eighteenth': 10140, 'emptiness': 10141, 'erudite': 10142, 'esteemed': 10143, 'etymologically': 10144, 'eusebius': 10145, 'eventide': 10146, 'evoked': 10147, 'exaltation': 10148, 'expand': 10149, 'expressa': 10150, 'extenuate': 10151, 'externis': 10152, 'eyes,—this': 10153, 'fabri': 10154, 'faenza': 10155, 'falsify': 10156, 'favorable': 10157, 'filles': 10158, 'fir': 10159, 'florence': 10160, 'florist': 10161, 'fontevrault': 10162, 'fontevrault,—that': 10163, 'forbid': 10164, 'foretaste': 10165, 'formula': 10166, 'founding': 10167, 'fourteenth': 10168, 'fridays': 10169, 'frightening': 10170, 'frolic': 10171, 'furto': 10172, 'gauvain': 10173, 'gertrude': 10174, 'gesmas': 10175, 'gestas': 10176, 'giddiness': 10177, 'gingerbread': 10178, 'girls_—those': 10179, 'gisor': 10180, 'gondola': 10181, 'granmont': 10182, 'gratia': 10183, 'gregorian': 10184, 'guimpe': 10185, 'harlequin': 10186, 'harp': 10187, 'hebrew': 10188, 'hecuba': 10189, 'hermit?—was': 10190, 'hic': 10191, 'hilariter': 10192, 'hog': 10193, 'honorine': 10194, 'hortus': 10195, 'hos': 10196, 'hosanna': 10197, 'hospitallers': 10198, 'humiliés': 10199, 'hunchback': 10200, 'hybrid': 10201, 'illogical': 10202, 'illustrate': 10203, 'imparibus': 10204, 'impeccability': 10205, 'inanimate': 10206, 'incarnation': 10207, 'incense': 10208, 'inclusive': 10209, 'indignantly': 10210, 'infelix': 10211, 'infima': 10212, 'iniquity': 10213, 'innocente': 10214, 'instance': 10215, 'interdict': 10216, 'interlace': 10217, 'interminable': 10218, 'intone': 10219, 'inviting': 10220, 'jaceo': 10221, 'jacob': 10222, 'jesuits': 10223, 'julia': 10224, 'julien': 10225, 'justine': 10226, 'juxtaposition': 10227, 'knell': 10228, 'knotted': 10229, 'know,—if': 10230, 'ladies': 10231, 'langres': 10232, 'latinist': 10233, 'laudinière': 10234, 'lazaretto': 10235, 'legere': 10236, 'less': 10237, 'licentia': 10238, 'lick': 10239, 'limam': 10240, 'lobby': 10241, 'lounging': 10242, 'louse': 10243, 'loves': 10244, 'léon': 10245, 'l’intrépide': 10246, 'l’œil': 10247, 'maceration': 10248, 'magnate': 10249, 'magny': 10250, 'manibus': 10251, 'margaret': 10252, 'marguérite': 10253, 'maria': 10254, 'married': 10255, 'martha': 10256, 'marthe': 10257, 'matin': 10258, 'matting': 10259, 'maugout': 10260, 'maur': 10261, 'mazarin': 10262, 'mechtilde': 10263, 'medal': 10264, 'medley': 10265, 'meritis': 10266, 'mesdames': 10267, 'metz': 10268, 'miltière': 10269, 'mindedness': 10270, 'miromesnil': 10271, 'missal': 10272, 'miséricorde': 10273, 'moire': 10274, 'molesme': 10275, 'monkey': 10276, 'montmorency': 10277, 'mousquetaire': 10278, 'muliere': 10279, 'musketeers': 10280, 'mère': 10281, 'nankin': 10282, 'nativity': 10283, 'ne': 10284, 'negotiation': 10285, 'nemo': 10286, 'neri': 10287, 'nervous': 10288, 'nos': 10289, 'nostras': 10290, 'notify': 10291, 'notion': 10292, 'nowadays,—“my': 10293, 'nutum': 10294, 'obedientia': 10295, 'object,—to': 10296, 'offshoot': 10297, 'olivateurs': 10298, 'orderly': 10299, 'orders,—vallombrosa': 10300, 'orifice': 10301, 'other,—the': 10302, 'outer': 10303, 'outsider': 10304, 'padua': 10305, 'palliation': 10306, 'paris,—one': 10307, 'parlor': 10308, 'paroquet': 10309, 'password': 10310, 'paten': 10311, 'paternoster': 10312, 'peaked': 10313, 'peccavi': 10314, 'pendent': 10315, 'perdas.15': 10316, 'periodical': 10317, 'perpetual': 10318, 'perrault': 10319, 'perseveranter': 10320, 'persistency': 10321, 'philip': 10322, 'piously': 10323, 'plena': 10324, 'plinth': 10325, 'postulant': 10326, 'potesta': 10327, 'precedence': 10328, 'presentation': 10329, 'presidentess': 10330, 'prettiest': 10331, 'primum': 10332, 'prioress': 10333, 'problem,—a': 10334, 'procession': 10335, 'procopius': 10336, 'profane': 10337, 'proficient': 10338, 'prompte': 10339, 'proselytism': 10340, 'présentation': 10341, 'psalm': 10342, 'punchinello': 10343, 'quadam': 10344, 'quadrangular': 10345, 'quatre,”—it': 10346, 'quélen': 10347, 'ramis': 10348, 're': 10349, 'realm': 10350, 'recluse': 10351, 'recreation': 10352, 'refectory': 10353, 'refugee': 10354, 'regula': 10355, 'renowne': 10356, 'resident': 10357, 'reunion': 10358, 'ridicule': 10359, 'rohan': 10360, 'rond': 10361, 'rosary': 10362, 'roze': 10363, 'sacristan': 10364, 'salus': 10365, 'satanical': 10366, 'scapulary': 10367, 'schoolgirl': 10368, 'scolastique': 10369, 'scribere': 10370, 'sculptor': 10371, 'seals': 10372, 'seclusion': 10373, 'seclusion,—these': 10374, 'september': 10375, 'sesame': 10376, 'seu': 10377, 'shrill': 10378, 'si': 10379, 'signum': 10380, 'siguenza': 10381, 'silvestrins': 10382, 'similarity': 10383, 'sine': 10384, 'sneer': 10385, 'sonorous': 10386, 'soul,”—and': 10387, 'spasm': 10388, 'spontaneous': 10389, 'sprinkler': 10390, 'startle': 10391, 'stern': 10392, 'strainer': 10393, 'subiaco': 10394, 'summa': 10395, 'sunbeam': 10396, 'superioris': 10397, 'superstitious': 10398, 'supplementary': 10399, 'surrounding': 10400, 'surveillance': 10401, 'suzon': 10402, 'symbolical': 10403, 'syrinx': 10404, 'sérent': 10405, 'tablet': 10406, 'talbot': 10407, 'tape': 10408, 'telegraph': 10409, 'tennine': 10410, 'tennis': 10411, 'them,—a': 10412, 'thoughtfulness': 10413, 'thrice': 10414, 'tile': 10415, 'torn': 10416, 'tough': 10417, 'transgress': 10418, 'trapezium': 10419, 'tre': 10420, 'tria': 10421, 'triple': 10422, 'trésor': 10423, 'tu': 10424, 'tua': 10425, 'turk': 10426, 'two': 10427, 'uncharitable': 10428, 'unendurable': 10429, 'unintelligible': 10430, 'unison': 10431, 'unlearn': 10432, 'unoccupied': 10433, 'unprofitable': 10434, 'unused': 10435, 'unusual': 10436, 'unveiled': 10437, 'ut': 10438, 'vacarmini': 10439, 'vacuum': 10440, 'varie': 10441, 'vaugirard': 10442, 'vaulted': 10443, 'vel': 10444, 'verga': 10445, 'versus': 10446, 'vestibule': 10447, 'viginti': 10448, 'violation': 10449, 'visitandine': 10450, 'vixi': 10451, 'vocal': 10452, 'vocale': 10453, 'voci': 10454, 'volaverunt': 10455, 'vow': 10456, 'wager': 10457, 'weave': 10458, 'whit': 10459, 'whiten': 10460, 'wintry': 10461, 'worldling': 10462, 'zétulbé': 10463, 'écouen': 10464, 'églantiers': 10465, 'œil': 10466, '1848': 10467, 'abbess': 10468, 'adjourn': 10469, 'aga': 10470, 'ameliorate': 10471, 'anachronism': 10472, 'ascetic': 10473, 'asceticism': 10474, 'asia': 10475, 'association': 10476, 'attainable': 10477, 'austria': 10478, 'babel': 10479, 'bleeding,—bloody': 10480, 'bonze': 10481, 'bos': 10482, 'breathable': 10483, 'brussels,—there': 10484, 'buddhism': 10485, 'caiphas': 10486, 'carnal': 10487, 'castration': 10488, 'cenobite': 10489, 'cenobitism': 10490, 'century,—at': 10491, 'chalk': 10492, 'christianity': 10493, 'christs': 10494, 'civilize': 10495, 'classified': 10496, 'claustration': 10497, 'clogs': 10498, 'cloistered': 10499, 'concentric': 10500, 'contradistinction': 10501, 'convalesce': 10502, 'corbel': 10503, 'coverlid': 10504, 'cretatus': 10505, 'crucify': 10506, 'cumbrous': 10507, 'declamation': 10508, 'definition': 10509, 'defunct': 10510, 'deo': 10511, 'depressing': 10512, 'dervish': 10513, 'devising': 10514, 'disown': 10515, 'dispersion': 10516, 'draco': 10517, 'drinkable': 10518, 'ebony': 10519, 'eden': 10520, 'egoism': 10521, 'elide': 10522, 'embalm': 10523, 'endless': 10524, 'enjoy,—what': 10525, 'erexit': 10526, 'etiolate': 10527, 'everybody,—at': 10528, 'excoriate': 10529, 'facility': 10530, 'faith,—we': 10531, 'fakirs': 10532, 'fanaticism': 10533, 'fatness': 10534, 'fecund': 10535, 'fermentation': 10536, 'fervent': 10537, 'feudalism': 10538, 'flavor': 10539, 'glazing': 10540, 'god,—what': 10541, 'heifer': 10542, 'historical': 10543, 'holofernes': 10544, 'hurdle': 10545, 'hygiene': 10546, 'ideally': 10547, 'identical': 10548, 'impartially': 10549, 'imply': 10550, 'impoverishment': 10551, 'inclement': 10552, 'inexorably': 10553, 'infect': 10554, 'inherent': 10555, 'integument': 10556, 'interlocutor': 10557, 'invalidate': 10558, 'irradiation': 10559, 'kislar': 10560, 'kneeling': 10561, 'lawgiver': 10562, 'legislator': 10563, 'leibnitz': 10564, 'limpid': 10565, 'lump': 10566, 'mahometanism': 10567, 'marabout': 10568, 'martyrdom': 10569, 'metaphysical': 10570, 'militant': 10571, 'militarism': 10572, 'mistletoe': 10573, 'misty': 10574, 'mockery': 10575, 'monasticism': 10576, 'mosque': 10577, 'motor': 10578, 'multiplication': 10579, 'mystic': 10580, 'negation': 10581, 'nero': 10582, 'nerve': 10583, 'nihilism': 10584, 'nihilist': 10585, 'obit': 10586, 'occident': 10587, 'odalisque': 10588, 'ooze': 10589, 'optical': 10590, 'oubliette': 10591, 'paganism': 10592, 'pagoda': 10593, 'particular,—for': 10594, 'pathologically': 10595, 'perpetuate': 10596, 'persecution': 10597, 'phthisis': 10598, 'plague': 10599, 'plenitude': 10600, 'plural': 10601, 'policy': 10602, 'practicable': 10603, 'prayer,—these': 10604, 'present,—this': 10605, 'priori': 10606, 'promote': 10607, 'proposition': 10608, 'protestation,—the': 10609, 'purify': 10610, 'purity': 10611, 'putrescence': 10612, 'questionable': 10613, 'radiation': 10614, 'rancid': 10615, 'rebless': 10616, 'reconstitute': 10617, 'recrudescence': 10618, 'reduction': 10619, 'refurnish': 10620, 'reigning': 10621, 'relaxed': 10622, 'reliquary': 10623, 'reverberation': 10624, 'revictual': 10625, 'salutary': 10626, 'salvation': 10627, 'santon': 10628, 'saturate': 10629, 'sepulchre,—this': 10630, 'seraglio': 10631, 'seraphim': 10632, 'shrine': 10633, 'sirven': 10634, 'soothsayer': 10635, 'spoiled': 10636, 'stagnation': 10637, 'stubbornness': 10638, 'subjacent': 10639, 'substantial': 10640, 'sufficiency': 10641, 'sultan': 10642, 'sultana': 10643, 'synagogue': 10644, 'talapoin': 10645, 'temporal': 10646, 'thale': 10647, 'theorist': 10648, 'thibet': 10649, 'thil': 10650, 'tiberius': 10651, 'tipped': 10652, 'tonsure': 10653, 'trappe': 10654, 'traversing,—a': 10655, 'trimalcion': 10656, 'truce': 10657, 'understood': 10658, 'upholder': 10659, 'upside': 10660, 'veil,—those': 10661, 'vermin': 10662, 'villers': 10663, 'walls,—what': 10664, 'wigwam': 10665, 'woven': 10666, 'wrung': 10667, '1140': 10668, '1148': 10669, '21st': 10670, '543': 10671, '87': 10672, 'abbot': 10673, 'abbreviation': 10674, 'abdication': 10675, 'abeilard': 10676, 'abeille': 10677, 'acarus': 10678, 'acute': 10679, 'agriculture': 10680, 'alii': 10681, 'alèthe': 10682, 'amen': 10683, 'amiens': 10684, 'another,—a': 10685, 'antipope': 10686, 'apostolics': 10687, 'appreciate': 10688, 'approbrium': 10689, 'aquila': 10690, 'architect': 10691, 'argenteuil': 10692, 'arnauld': 10693, 'arnoul': 10694, 'aromatic': 10695, 'ascension': 10696, 'assassinate': 10697, 'auspicious': 10698, 'austin': 10699, 'authoritatively': 10700, 'avalanche': 10701, 'bancroche': 10702, 'banish': 10703, 'bargain,—what': 10704, 'basement': 10705, 'basil': 10706, 'bawl': 10707, 'bearer': 10708, 'behalf': 10709, 'being,—that': 10710, 'berulle': 10711, 'bl': 10712, 'blasphemous': 10713, 'blasphemy': 10714, 'blessed': 10715, 'boasting': 10716, 'bon': 10717, 'bonapartism': 10718, 'bourgoin': 10719, 'bout': 10720, 'brescia': 10721, 'brother”—(the': 10722, 'bruys': 10723, 'bucelin': 10724, 'bus': 10725, 'béthune': 10726, 'camphor': 10727, 'canonized': 10728, 'cappadocia': 10729, 'casket': 10730, 'castile': 10731, 'castillejo': 10732, 'category': 10733, 'catholics': 10734, 'cavalière': 10735, 'champeaux': 10736, 'cheat': 10737, 'cheeked': 10738, 'cherub': 10739, 'chisel': 10740, 'chonodemaire': 10741, 'chouan': 10742, 'chubby': 10743, 'church.—you': 10744, 'châlon': 10745, 'citify': 10746, 'claustrale': 10747, 'clouded': 10748, 'coing': 10749, 'commode': 10750, 'conscript': 10751, 'constantine': 10752, 'constantius': 10753, 'contagious': 10754, 'contiguous': 10755, 'convoy': 10756, 'coton': 10757, 'counterfeiter': 10758, 'crackling': 10759, 'crucifixion': 10760, 'crux': 10761, 'cumulate': 10762, 'cypress': 10763, 'dam': 10764, 'dampness': 10765, 'deadly': 10766, 'deceased': 10767, 'deceit': 10768, 'della': 10769, 'demi': 10770, 'didorus': 10771, 'ding': 10772, 'disuse': 10773, 'dom': 10774, 'domine': 10775, 'dominicans': 10776, 'don': 10777, 'dona': 10778, 'dong': 10779, 'dormiunt': 10780, 'dove': 10781, 'drunk,—it': 10782, 'dum': 10783, 'durham': 10784, 'dusk': 10785, 'd’achery': 10786, 'eastern': 10787, 'ecclesiastic': 10788, 'egoist': 10789, 'ei': 10790, 'eleventh': 10791, 'elude': 10792, 'emp': 10793, 'eugene': 10794, 'evigilabunt': 10795, 'exarch': 10796, 'excellence': 10797, 'expedient,—is': 10798, 'eyed': 10799, 'facsimile': 10800, 'faded': 10801, 'fashioned': 10802, 'fauvent': 10803, 'fishing': 10804, 'flippant': 10805, 'fobs': 10806, 'fosse': 10807, 'fragrant': 10808, 'fraud': 10809, 'fraught': 10810, 'fruiterer': 10811, 'gabriel': 10812, 'garb': 10813, 'gauls': 10814, 'gauthier': 10815, 'generosity': 10816, 'genga': 10817, 'ghost': 10818, 'gilbert': 10819, 'gnashing': 10820, 'gondren': 10821, 'gourd': 10822, 'gribier': 10823, 'guidonis': 10824, 'gull': 10825, 'gymnastoras': 10826, 'hanc': 10827, 'handy': 10828, 'hearse': 10829, 'him,—i': 10830, 'hoe': 10831, 'holly': 10832, 'homicide': 10833, 'horstius': 10834, 'identify': 10835, 'igitur': 10836, 'iii': 10837, 'illustrated': 10838, 'impulsive': 10839, 'incendiary': 10840, 'indebted': 10841, 'infinitely': 10842, 'intermeddling': 10843, 'introduction': 10844, 'invalide': 10845, 'inverse': 10846, 'jacket': 10847, 'jansenist': 10848, 'jews': 10849, 'job': 10850, 'jolting': 10851, 'keener': 10852, 'l': 10853, 'lachaise': 10854, 'lashing': 10855, 'latil': 10856, 'leo': 10857, 'lifetime': 10858, 'lobe': 10859, 'logical': 10860, 'loire': 10861, 'loosely': 10862, 'loquacity': 10863, 'lounge': 10864, 'luc': 10865, 'luceat': 10866, 'lune!”17': 10867, 'luxurious': 10868, 'mabillon': 10869, 'maine': 10870, 'marius': 10871, 'mattresse': 10872, 'maurolics': 10873, 'mediatorial': 10874, 'merlonus': 10875, 'mestienne': 10876, 'metaphor': 10877, 'mezzocane': 10878, 'miasm': 10879, 'mommol': 10880, 'mop': 10881, 'morbigou': 10882, 'movement),—“a': 10883, 'municipality': 10884, 'nameless': 10885, 'niece': 10886, 'nightcap': 10887, 'notaire': 10888, 'oblationem': 10889, 'ogle': 10890, 'opportunely': 10891, 'oratorie': 10892, 'orbi': 10893, 'orthodox': 10894, 'otho': 10895, 'overfull': 10896, 'packing': 10897, 'padlock': 10898, 'pallid': 10899, 'pardine': 10900, 'parnasse': 10901, 'patter': 10902, 'pausing': 10903, 'pealing': 10904, 'perpetua': 10905, 'perpetuity': 10906, 'perronet': 10907, 'pest': 10908, 'pettiness': 10909, 'physiology': 10910, 'picardy': 10911, 'picquigny': 10912, 'pigeon': 10913, 'piétonne_.16': 10914, 'plantavit': 10915, 'plombes': 10916, 'pogonatus': 10917, 'poisoner': 10918, 'poréa': 10919, 'pout': 10920, 'precentors': 10921, 'prestige': 10922, 'productive': 10923, 'profundi': 10924, 'profundis': 10925, 'prognosticator': 10926, 'prohibit': 10927, 'prohibition': 10928, 'protrude': 10929, 'proverbial': 10930, 'proximity': 10931, 'pry': 10932, 'prytaneum': 10933, 'pulvere': 10934, 'pursuance': 10935, 'périgord': 10936, 'qualified': 10937, 'quince': 10938, 'rabelais': 10939, 'rap': 10940, 'rave': 10941, 'reassurance),—“that': 10942, 'recompensed': 10943, 'recount': 10944, 'reims': 10945, 'rejecting': 10946, 'requiem': 10947, 'requiescat': 10948, 'reserved': 10949, 'reservoir': 10950, 'reversion': 10951, 'revert': 10952, 'revive': 10953, 'rhetorician': 10954, 'ringer': 10955, 'room,—all': 10956, 'sagittaire': 10957, 'sainteté': 10958, 'salone': 10959, 'sanitary': 10960, 'saturday': 10961, 'saône': 10962, 'scribble': 10963, 'scrivener': 10964, 'secrecy': 10965, 'seller,—she': 10966, 'semper': 10967, 'senault': 10968, 'sens': 10969, 'sepulture': 10970, 'sharpness': 10971, 'shovelful': 10972, 'skein': 10973, 'slipping': 10974, 'soliloquize': 10975, 'soliloquy': 10976, 'sphinx': 10977, 'stat': 10978, 'stenographic': 10979, 'strait': 10980, 'stronghold': 10981, 'subtract': 10982, 'suffocate': 10983, 'sundown': 10984, 'surrey': 10985, 'surtout': 10986, 'surêne': 10987, 'swoon': 10988, 'tenaciously': 10989, 'terentius': 10990, 'terræ': 10991, 'thought,—to': 10992, 'thought.—“this': 10993, 'thuya': 10994, 'tiber': 10995, 'ticket': 10996, 'tours': 10997, 'trestle': 10998, 'tribute': 10999, 'trickery': 11000, 'trithemus': 11001, 'tuy': 11002, 'twin': 11003, 'técelin': 11004, 'uce': 11005, 'ultime': 11006, 'umbrella': 11007, 'unblessed': 11008, 'uncanny': 11009, 'undertaker': 11010, 'undertaking': 11011, 'unfurnished': 11012, 'ungrafted': 11013, 'unlike': 11014, 'unnatural': 11015, 'unravel': 11016, 'unsuccessful': 11017, 'unvarye': 11018, 'vendean': 11019, 'videant': 11020, 'viii': 11021, 'vil': 11022, 'vintner': 11023, 'visigoths': 11024, 'vitam': 11025, 'vocabulary': 11026, 'volvitur': 11027, 'whereon': 11028, 'whim': 11029, 'widespread': 11030, 'wion': 11031, 'withhold': 11032, 'xii': 11033, 'young”—(a': 11034, 'yuste': 11035, 'æternam': 11036, 'éon': 11037, '1779': 11038, '1834': 11039, '1860': 11040, '69': 11041, 'abjectnesse': 11042, 'abnormal': 11043, 'abolitionist': 11044, 'abridged': 11045, 'academic': 11046, 'acceptance': 11047, 'accuracy': 11048, 'adamastor': 11049, 'adonaï': 11050, 'affront': 11051, 'agora': 11052, 'alba': 11053, 'alcesimarchus': 11054, 'alcohol': 11055, 'alleluia': 11056, 'alphabet': 11057, 'amator': 11058, 'amicable': 11059, 'amphibious': 11060, 'amphora': 11061, 'ancona': 11062, 'anglais': 11063, 'annually': 11064, 'apparel': 11065, 'arab': 11066, 'arabs': 11067, 'archi': 11068, 'arcueil': 11069, 'argyrippus': 11070, 'arouet': 11071, 'arrant': 11072, 'asinarium': 11073, 'asnières': 11074, 'athens': 11075, 'atmosphere': 11076, 'attractive': 11077, 'aubervilliers': 11078, 'aubier': 11079, 'aulus': 11080, 'aventine': 11081, 'average': 11082, 'avril': 11083, 'bal': 11084, 'balatro': 11085, 'balzac': 11086, 'banlieue': 11087, 'barbier': 11088, 'barcelona': 11089, 'barra': 11090, 'basile': 11091, 'beauvais': 11092, 'beef': 11093, 'belleville': 11094, 'bem': 11095, 'bibere': 11096, 'billancourt': 11097, 'bobby': 11098, 'bobèche': 11099, 'bodily': 11100, 'boisterous': 11101, 'boldly': 11102, 'bories': 11103, 'boston': 11104, 'bouginier': 11105, 'bougival': 11106, 'bourgeoisie': 11107, 'bourgon': 11108, 'boxing': 11109, 'boys,—are': 11110, 'bozzaris': 11111, 'bravely': 11112, 'brutally': 11113, 'burke': 11114, 'burlesque': 11115, 'butterflies,—all': 11116, 'bœotian': 11117, 'cagliostro': 11118, 'callipyge': 11119, 'cambacères': 11120, 'came': 11121, 'camille': 11122, 'campagna': 11123, 'canaris': 11124, 'canidia': 11125, 'caricature': 11126, 'caste': 11127, 'cesspool': 11128, 'championnet': 11129, 'charcoal': 11130, 'charlet': 11131, 'chatou': 11132, 'chodruc': 11133, 'cicero': 11134, 'cirque': 11135, 'civilly': 11136, 'claudian': 11137, 'clay': 11138, 'clumsy': 11139, 'cockchafer': 11140, 'cockney': 11141, 'coinage': 11142, 'coliseum': 11143, 'colombes': 11144, 'comedy': 11145, 'complaisance': 11146, 'condone': 11147, 'condorcet': 11148, 'congrio': 11149, 'contra': 11150, 'cornice': 11151, 'corollary': 11152, 'cosmos': 11153, 'courtille': 11154, 'credeville': 11155, 'crystal': 11156, 'cunette': 11157, 'curculio': 11158, 'currency': 11159, 'currit': 11160, 'curtillus': 11161, 'cutting': 11162, 'cynical': 11163, 'daddy': 11164, 'damascus': 11165, 'damasippus': 11166, 'dandelion': 11167, 'dautin': 11168, 'debacker': 11169, 'deface': 11170, 'delaporte': 11171, 'delphos': 11172, 'desaugiers': 11173, 'desmoulins': 11174, 'despotism': 11175, 'devoid': 11176, 'diabolus': 11177, 'discobols': 11178, 'dishevel': 11179, 'doctrinary': 11180, 'dodona': 11181, 'domination': 11182, 'domitian': 11183, 'dramatic': 11184, 'drancy': 11185, 'dubarry': 11186, 'duclos': 11187, 'dud': 11188, 'dumarsais': 11189, 'dynasty': 11190, 'd’aigrefeuille': 11191, 'd’anger': 11192, 'eater': 11193, 'electrify': 11194, 'eleusiac': 11195, 'enghien': 11196, 'entrail': 11197, 'enviable': 11198, 'ergaphila': 11199, 'ergasilus': 11200, 'esquiliæ': 11201, 'eternally': 11202, 'eulogium': 11203, 'euripides': 11204, 'evohe': 11205, 'exhale': 11206, 'extravaganza': 11207, 'fallow': 11208, 'faraud': 11209, 'farcical': 11210, 'fauna': 11211, 'ferry': 11212, 'fetid': 11213, 'fex': 11214, 'fift': 11215, 'filth': 11216, 'fireman': 11217, 'fishwoman': 11218, 'flaccus': 11219, 'fluently': 11220, 'foreshortening': 11221, 'fouillou': 11222, 'foulness': 11223, 'fraternal': 11224, 'fulgurate': 11225, 'fuscus': 11226, 'galileo': 11227, 'gallic': 11228, 'gamin': 11229, 'gaminerie': 11230, 'garibaldi': 11231, 'gascon': 11232, 'gavroche': 11233, 'gazing': 11234, 'gellius': 11235, 'gemoniæ': 11236, 'gennevilliers': 11237, 'gentilly': 11238, 'giddy': 11239, 'gonesse': 11240, 'gozzi': 11241, 'gracchos': 11242, 'grandioseness': 11243, 'grecian': 11244, 'grenelle': 11245, 'growler': 11246, 'græculus': 11247, 'gueux': 11248, 'habemus': 11249, 'hammal': 11250, 'handed': 11251, 'harper': 11252, 'hebraic': 11253, 'hedgehog': 11254, 'hermogenus': 11255, 'hi': 11256, 'hiccup': 11257, 'hoisting': 11258, 'homeless': 11259, 'homuncio': 11260, 'hopscotch': 11261, 'hottentot': 11262, 'huddle': 11263, 'illegitimate': 11264, 'imago': 11265, 'immersion': 11266, 'incorruptibility': 11267, 'indelibly': 11268, 'ingenuously': 11269, 'innocently': 11270, 'insolent': 11271, 'intact': 11272, 'invariable': 11273, 'irradiate': 11274, 'issoire': 11275, 'italiens': 11276, 'i’ave': 11277, 'janiculum': 11278, 'jeer': 11279, 'jeering': 11280, 'jondrette': 11281, 'jondrettes': 11282, 'kiln': 11283, 'knead': 11284, 'kosciusko': 11285, 'labatut': 11286, 'lacenaire': 11287, 'lard': 11288, 'larva': 11289, 'lavishly': 11290, 'lazzarone': 11291, 'lecouffé': 11292, 'lenormand': 11293, 'lethe': 11294, 'liberating': 11295, 'lisping': 11296, 'listing': 11297, 'literary': 11298, 'liver': 11299, 'lizard': 11300, 'lopez': 11301, 'loques_—rag': 11302, 'lorette': 11303, 'lost': 11304, 'losvel': 11305, 'loups': 11306, 'lyrical': 11307, 'l’etoile': 11308, 'l’université': 11309, 'mabile': 11310, 'majo': 11311, 'mania': 11312, 'manin': 11313, 'manual': 11314, 'mariner': 11315, 'marseillaises': 11316, 'marto': 11317, 'matanturlurette': 11318, 'mayeux': 11319, 'mazet': 11320, 'mesmer': 11321, 'messalina': 11322, 'meudon': 11323, 'miles': 11324, 'milleped': 11325, 'mirabeau': 11326, 'missolonghi': 11327, 'mob': 11328, 'monotony': 11329, 'montesquieu': 11330, 'montfaucon': 11331, 'montès': 11332, 'moth': 11333, 'muche_—“hide': 11334, 'mushroom': 11335, 'mutual': 11336, 'ménilmontant': 11337, 'm’sieu': 11338, 'newton': 11339, 'nimble': 11340, 'nogent': 11341, 'nomentanus': 11342, 'notation': 11343, 'nudity': 11344, 'oar': 11345, 'objectless': 11346, 'oblivisci': 11347, 'ohé': 11348, 'ohééé': 11349, 'originality': 11350, 'otter': 11351, 'oumoumié': 11352, 'o’-the': 11353, 'palermo': 11354, 'pallio': 11355, 'panathenæa': 11356, 'pantin': 11357, 'pantolabus': 11358, 'papavoine': 11359, 'parapet': 11360, 'pardalisca': 11361, 'parthenon': 11362, 'passivity': 11363, 'patriot': 11364, 'pebbly': 11365, 'permanently': 11366, 'pesth': 11367, 'phantasmagoria': 11368, 'phœdromus': 11369, 'picker': 11370, 'pigmy': 11371, 'pisacane': 11372, 'placard': 11373, 'planesium': 11374, 'plautus': 11375, 'plutarch': 11376, 'polymnia': 11377, 'poquelin': 11378, 'portico': 11379, 'predecessor': 11380, 'prehendit': 11381, 'prig': 11382, 'procuress': 11383, 'properantem': 11384, 'prosaic': 11385, 'pudding': 11386, 'pustule': 11387, 'puteaux': 11388, 'pyramids': 11389, 'pègre': 11390, 'pœcilus': 11391, 'p’lice': 11392, 'quiroga': 11393, 'quis': 11394, 'rameau': 11395, 'ramponneau': 11396, 'repel': 11397, 'repertory': 11398, 'riego': 11399, 'rota': 11400, 'rousseau': 11401, 'routine': 11402, 'ruris': 11403, 'régnier': 11404, 'sacra': 11405, 'saguet': 11406, 'samson': 11407, 'scapegrace': 11408, 'scrawl': 11409, 'seasoning': 11410, 'sec': 11411, 'seditionem': 11412, 'seethe': 11413, 'sewer': 11414, 'shaven': 11415, 'silenus': 11416, 'sisters?—who': 11417, 'skim': 11418, 'smallness': 11419, 'sorbonne': 11420, 'souris': 11421, 'sparrow': 11422, 'spatter': 11423, 'speckle': 11424, 'squint': 11425, 'staphyla': 11426, 'steamer': 11427, 'sticky': 11428, 'stilted': 11429, 'straitened': 11430, 'stroller': 11431, 'subjugate': 11432, 'superintendence': 11433, 'swallower': 11434, 'sweeper': 11435, 'sybaris': 11436, 'synonym': 11437, 'syrian': 11438, 'tadpole': 11439, 'tartuffe': 11440, 'tatter': 11441, 'tea': 11442, 'temporarily': 11443, 'tenant': 11444, 'tenor': 11445, 'theatres': 11446, 'theban': 11447, 'therapontigonus': 11448, 'theseus': 11449, 'thesprion': 11450, 'thieve': 11451, 'thracius': 11452, 'tiberim': 11453, 'tigress': 11454, 'tiler': 11455, 'titi': 11456, 'titi.18': 11457, 'tocsin': 11458, 'tombe': 11459, 'tow': 11460, 'transit': 11461, 'transparent': 11462, 'transteverin': 11463, 'trapeze': 11464, 'tripod': 11465, 'trophonius': 11466, 'truant': 11467, 'tumbrel': 11468, 'twit': 11469, 'ulcer': 11470, 'unenclosed': 11471, 'urbis': 11472, 'vadeboncœur': 11473, 'vagabondage': 11474, 'vagabondism': 11475, 'vah': 11476, 'vanvre': 11477, 'varus': 11478, 'vastly': 11479, 'vat': 11480, 'vejanus': 11481, 'vibiscus': 11482, 'volatile': 11483, 'voltairianism': 11484, 'vâsaphantâ': 11485, 'wag': 11486, 'waist!”—“i': 11487, 'wallow': 11488, 'washerwoman': 11489, 'washington': 11490, 'wisps': 11491, 'æsop': 11492, '”19': 11493, '1831': 11494, 'aback': 11495, 'amorous': 11496, 'annuity': 11497, 'annuls': 11498, 'append': 11499, 'avatar': 11500, 'baptize': 11501, 'barberess': 11502, 'basque': 11503, 'bestucheff': 11504, 'bleu': 11505, 'blockhead': 11506, 'boucherat': 11507, 'boufflers': 11508, 'boyhood': 11509, 'busie': 11510, 'calvaire': 11511, 'camargo': 11512, 'capitulate': 11513, 'caribbeans': 11514, 'carogne': 11515, 'casimir': 11516, 'century,—this': 11517, 'chimera': 11518, 'comtois': 11519, 'connoisseur': 11520, 'consolidated': 11521, 'consule': 11522, 'convoke': 11523, 'corbière': 11524, 'coromandel': 11525, 'crocodile': 11526, 'crowning': 11527, 'decent': 11528, 'dei': 11529, 'demonetize': 11530, 'dignæ': 11531, 'discernment': 11532, 'dye': 11533, 'd’alluye': 11534, 'effusively': 11535, 'enraged': 11536, 'ermine': 11537, 'ethereal': 11538, 'excessively': 11539, 'finely': 11540, 'flea': 11541, 'four,—live': 11542, 'garter': 11543, 'gillenorman': 11544, 'gillenormand': 11545, 'glorious': 11546, 'grim': 11547, 'guimard': 11548, 'guimardinette': 11549, 'guimardini': 11550, 'haggle': 11551, 'hair,—which': 11552, 'hanging': 11553, 'here!—answer': 11554, 'humann': 11555, 'héée': 11556, 'immure': 11557, 'incombustible': 11558, 'incroyables': 11559, 'indecent': 11560, 'indecently': 11561, 'ix': 11562, 'jordaens': 11563, 'jovial': 11564, 'label': 11565, 'lacquer': 11566, 'lamotte': 11567, 'lancers': 11568, 'lavishe': 11569, 'levant': 11570, 'levantin': 11571, 'londrin': 11572, 'longchamps': 11573, 'longevity': 11574, 'magnon': 11575, 'maintenance': 11576, 'malta': 11577, 'marais': 11578, 'marquisate': 11579, 'menaced': 11580, 'miniature': 11581, 'miser': 11582, 'morbleu': 11583, 'moulins': 11584, 'muff': 11585, 'nahenry': 11586, 'nain': 11587, 'nevers': 11588, 'nicolette': 11589, 'nivernais': 11590, 'nobly': 11591, 'normandie': 11592, 'numeration': 11593, 'nîmois': 11594, 'obtuse': 11595, 'octogenarie': 11596, 'olympie': 11597, 'opaque': 11598, 'ounce': 11599, 'panacea': 11600, 'pantouflochade': 11601, 'pantoufloche': 11602, 'parcel': 11603, 'patrimony': 11604, 'perch': 11605, 'perchloride': 11606, 'periphrase': 11607, 'pilfering': 11608, 'poitevin': 11609, 'poland': 11610, 'predict': 11611, 'procedure': 11612, 'progression': 11613, 'prudery': 11614, 'préfète,”—all': 11615, 'présidente': 11616, 'purveyor': 11617, 'périer': 11618, 'quandry': 11619, 'quincampois': 11620, 'reception': 11621, 'rector': 11622, 'remedy': 11623, 'renown': 11624, 'retrocede': 11625, 'rococo': 11626, 'roguery': 11627, 'rouble': 11628, 'ruffle': 11629, 'saintonge': 11630, 'sallé': 11631, 'satire': 11632, 'servandoni': 11633, 'silvæ': 11634, 'sint': 11635, 'slept': 11636, 'snore': 11637, 'softening': 11638, 'sourdis': 11639, 'sullen': 11640, 'sustained': 11641, 'swaddling': 11642, 'tabaraud': 11643, 'tapestry': 11644, 'théodule': 11645, 'tivoli': 11646, 'training': 11647, 'turquoise': 11648, 'unceremoniousness': 11649, 'valet': 11650, 'vaubois': 11651, 'verdigris': 11652, 'vivonne': 11653, 'voluminous': 11654, 'wage': 11655, 'white,—and': 11656, 'winded': 11657, 'young,—he': 11658, '1794': 11659, '1805': 11660, '1816': 11661, '55th': 11662, 'abbate': 11663, 'abet': 11664, 'abominably': 11665, 'adhesion': 11666, 'adolescence': 11667, 'affirmatively': 11668, 'agier': 11669, 'aisne': 11670, 'alabaster': 11671, 'alexandria': 11672, 'alzey': 11673, 'ambassador': 11674, 'amnesty': 11675, 'andelys': 11676, 'andernach': 11677, 'anniversary': 11678, 'appal': 11679, 'apse': 11680, 'aptitude': 11681, 'arboré': 11682, 'archduke': 11683, 'ardor': 11684, 'argus': 11685, 'aristocratic': 11686, 'aristotle': 11687, 'arnay': 11688, 'arrogance': 11689, 'assiduity': 11690, 'attenuate': 11691, 'aunty': 11692, 'awakening': 11693, 'banner': 11694, 'baronne': 11695, 'baronship': 11696, 'basilica': 11697, 'bastide': 11698, 'beauff': 11699, 'bengy': 11700, 'berthier': 11701, 'betime': 11702, 'beug': 11703, 'biblical': 11704, 'billet': 11705, 'biscaïen': 11706, 'blanc?20': 11707, 'bodin': 11708, 'bonald': 11709, 'bonapartistes': 11710, 'bosh': 11711, 'bouloi': 11712, 'bourgeoise': 11713, 'bouvine': 11714, 'braiding': 11715, 'brandebourg': 11716, 'buonapartist': 11717, 'bust': 11718, 'c': 11719, 'caloric': 11720, 'cambyse': 11721, 'campaspe': 11722, 'canonization': 11723, 'cantonment': 11724, 'cardinals': 11725, 'carthaginian': 11726, 'caryste': 11727, 'case.21': 11728, 'cavalier': 11729, 'cavil': 11730, 'chalard': 11731, 'changer': 11732, 'characterize': 11733, 'charlemagne': 11734, 'chemis': 11735, 'chevreuse': 11736, 'china': 11737, 'chivalric': 11738, 'chévalier': 11739, 'cl': 11740, 'clot': 11741, 'coincide': 11742, 'col': 11743, 'collaborator': 11744, 'colnet': 11745, 'colonelle': 11746, 'comic': 11747, 'commentate': 11748, 'committee': 11749, 'conductor': 11750, 'conservateur': 11751, 'conservation': 11752, 'conservative': 11753, 'conserver': 11754, 'constructor': 11755, 'continuer': 11756, 'cornet': 11757, 'correction': 11758, 'corsica,—the': 11759, 'cossack': 11760, 'cotiret': 11761, 'coupé': 11762, 'cour': 11763, 'coward': 11764, 'craon': 11765, 'créquy': 11766, 'culotte': 11767, 'cyr_.—all': 11768, 'damas': 11769, 'damb': 11770, 'dearly': 11771, 'defiantly': 11772, 'defile': 11773, 'deluge': 11774, 'demagogue': 11775, 'derisive': 11776, 'deserre': 11777, 'designation': 11778, 'dessolles': 11779, 'devastate': 11780, 'diagnosis': 11781, 'dictator': 11782, 'dictionary': 11783, 'dincourt': 11784, 'dis': 11785, 'disclose': 11786, 'discontent': 11787, 'disinherit': 11788, 'dissonance': 11789, 'distich': 11790, 'dithyramb': 11791, 'dizziness': 11792, 'doctrinarian': 11793, 'doux': 11794, 'dresden': 11795, 'dropping': 11796, 'duchesses': 11797, 'duds': 11798, 'duenna': 11799, 'd’am': 11800, 'd’e': 11801, 'eighth': 11802, 'elder,—an': 11803, 'elegy': 11804, 'embroidery': 11805, 'emigrée': 11806, 'encyclopædia': 11807, 'engraver': 11808, 'enlargement': 11809, 'epimenide': 11810, 'erase': 11811, 'estimation': 11812, 'excellency': 11813, 'exigency': 11814, 'eylau': 11815, 'f_riend': 11816, 'fakir': 11817, 'fanatical': 11818, 'fascination': 11819, 'faut': 11820, 'federate': 11821, 'ferdinand': 11822, 'ferrette': 11823, 'fillette': 11824, 'fiévée': 11825, 'flaminius': 11826, 'fondly': 11827, 'fontaines': 11828, 'foreboding': 11829, 'forgotten': 11830, 'foudre': 11831, 'four': 11832, 'frayssinous': 11833, 'frequenter': 11834, 'fualdès': 11835, 'férou': 11836, 'gaillon': 11837, 'gelenhausen': 11838, 'genoa': 11839, 'genoese': 11840, 'george': 11841, 'gillenormand.22': 11842, 'gillenormands': 11843, 'gillenormand”—from': 11844, 'glacis': 11845, 'gloriously': 11846, 'gomicourt': 11847, 'gouvion': 11848, 'grandiose': 11849, 'grandnephew': 11850, 'granduncle': 11851, 'gravitate': 11852, 'greenhorn': 11853, 'guyon': 11854, 'guémenée': 11855, 'générale': 11856, 'géronte': 11857, 'günzberg': 11858, 'h.': 11859, 'halma': 11860, 'hamburg': 11861, 'heath': 11862, 'hesse': 11863, 'historic': 11864, 'hoary': 11865, 'hose': 11866, 'houchard': 11867, 'hélène': 11868, 'idol': 11869, 'il': 11870, 'illegal': 11871, 'illicit': 11872, 'imbue': 11873, 'impertinence': 11874, 'inadvertently': 11875, 'infiltration': 11876, 'innuendo': 11877, 'intermediary': 11878, 'intrusive': 11879, 'ira': 11880, 'jacobin': 11881, 'jacobinism': 11882, 'jacobite': 11883, 'jaffa,—the': 11884, 'jausion': 11885, 'joubert': 11886, 'juvenile': 11887, 'keravenant': 11888, 'laconic': 11889, 'lament': 11890, 'lamothe': 11891, 'lanterne': 11892, 'laon': 11893, 'laroche': 11894, 'larose': 11895, 'lass': 11896, 'lecture': 11897, 'lemarchant': 11898, 'letourneur': 11899, 'liberian': 11900, 'loaded': 11901, 'longueville': 11902, 'luminously': 11903, 'lutzen': 11904, 'luzerne': 11905, 'lévi,—cambis': 11906, 'lévis,—which': 11907, 'm': 11908, 'mabeuf': 11909, 'macchi': 11910, 'magi': 11911, 'malaquais': 11912, 'malher': 11913, 'manly': 11914, 'mantes': 11915, 'marchiennes': 11916, 'martainville': 11917, 'maréchal': 11918, 'mathan': 11919, 'mathematically': 11920, 'maupetit': 11921, 'mayence': 11922, 'measureless': 11923, 'melun': 11924, 'memoirs': 11925, 'memorial': 11926, 'mercury': 11927, 'methuselah': 11928, 'meulan': 11929, 'mirepoix': 11930, 'misconstruction': 11931, 'missive': 11932, 'mocking': 11933, 'modicum': 11934, 'monorhyme': 11935, 'montmirail': 11936, 'montpercy': 11937, 'mortally': 11938, 'mortier': 11939, 'moscow': 11940, 'much!”—and': 11941, 'mummified': 11942, 'naparté': 11943, 'narrative': 11944, 'necktie': 11945, 'neustadt': 11946, 'nisibi': 11947, 'novi': 11948, 'noé': 11949, 'obsolete': 11950, 'ode': 11951, 'odor_,—that': 11952, 'officious': 11953, 'ogre': 11954, 'orfévres': 11955, 'orientation': 11956, 'packet': 11957, 'pacy': 11958, 'palissel': 11959, 'palmieri': 11960, 'papish': 11961, 'papyrus': 11962, 'partibus': 11963, 'participant': 11964, 'partisan': 11965, 'paternal': 11966, 'patriote': 11967, 'peak': 11968, 'pedant': 11969, 'pend': 11970, 'pinnace': 11971, 'pistole': 11972, 'placidity': 11973, 'planting': 11974, 'poissy': 11975, 'pompadour': 11976, 'pontmarie': 11977, 'postulatore': 11978, 'practical': 11979, 'predestined': 11980, 'prematurely': 11981, 'princesse': 11982, 'prothonotarie': 11983, 'publicist': 11984, 'pursy': 11985, 'qu': 11986, 'quatrain': 11987, 'quintessence': 11988, 'qu’on': 11989, 'raffermir': 11990, 'rampart': 11991, 'rearguard': 11992, 'rebuttone': 11993, 'reconciliation': 11994, 'redden': 11995, 'reek': 11996, 'refinement': 11997, 'refoncez': 11998, 'refractory': 11999, 'regretfully': 12000, 'rehabilitation': 12001, 'relic,—all': 12002, 'remarks': 12003, 'requests': 12004, 'revolutions': 12005, 'richelieu': 12006, 'rolleboise': 12007, 'roquelaure': 12008, 'royalism': 12009, 'royalists': 12010, 'ruppin': 12011, 'ruthlessly': 12012, 'sa': 12013, 'said:—“a': 12014, 'santi': 12015, 'sass': 12016, 'scalloping': 12017, 'scapin': 12018, 'scarred': 12019, 'scoffer': 12020, 'sear': 12021, 'secular': 12022, 'seigniorial': 12023, 'senile': 12024, 'senlis': 12025, 'sententious': 12026, 'sequel': 12027, 'serre': 12028, 'seventeenth': 12029, 'shagreen': 12030, 'shone': 12031, 'shyness': 12032, 'sickle': 12033, 'sienna': 12034, 'sip': 12035, 'sisters,—the': 12036, 'skylight': 12037, 'slap': 12038, 'son_.—the': 12039, 'soubise': 12040, 'soulange': 12041, 'sparkling': 12042, 'splinter': 12043, 'spre': 12044, 'spying': 12045, 'staggering': 12046, 'streetful': 12047, 'sufferance': 12048, 'suitably': 12049, 'superficially': 12050, 'superiority': 12051, 'sus': 12052, 'swelling': 12053, 'synthetic': 12054, 'tal': 12055, 'tallow': 12056, 'talma,—the': 12057, 'tende': 12058, 'terrifying': 12059, 'testament': 12060, 'thibord': 12061, 'tiger,—buonaparte,—all': 12062, 'toul': 12063, 'triel': 12064, 'trône': 12065, 'tuck': 12066, 'tuilerie': 12067, 'tulip': 12068, 'turkheim': 12069, 'twentieth': 12070, 'twirl': 12071, 'tyrant,—the': 12072, 'u': 12073, 'unavenged': 12074, 'unbroken': 12075, 'undiscoverable': 12076, 'ungild': 12077, 'unread': 12078, 'us,—have': 12079, 'usefully': 12080, 'usurper': 12081, 'usurper,—the': 12082, 'val': 12083, 'vallée': 12084, 'vaubernier': 12085, 'veer': 12086, 'vergniaud': 12087, 'vernon': 12088, 'vib': 12089, 'vous': 12090, 'wachau': 12091, 'wasps’-n': 12092, 'watcher': 12093, 'wearing': 12094, 'weltingen': 12095, 'werther': 12096, 'whist': 12097, 'worms': 12098, 'xi': 12099, 'ça': 12100, 'ébranlé': 12101, 'évreus': 12102, '1760': 12103, '1772': 12104, '1822': 12105, '1828': 12106, 'abaissé_,—the': 12107, 'absinthe': 12108, 'acquiescence': 12109, 'acrobat': 12110, 'addict': 12111, 'adhere': 12112, 'affiliate': 12113, 'affiliation': 12114, 'affinity': 12115, 'agrippa': 12116, 'aigle': 12117, 'albion': 12118, 'alexis': 12119, 'all,—the': 12120, 'amateur': 12121, 'amazon': 12122, 'amsterdam': 12123, 'anacephorus': 12124, 'anarchical': 12125, 'ancestor': 12126, 'andré': 12127, 'angelically': 12128, 'annul': 12129, 'annum': 12130, 'antinous': 12131, 'apoplexy': 12132, 'appropriately': 12133, 'arago': 12134, 'argand': 12135, 'aristogeiton': 12136, 'armorial': 12137, 'artaxerxes': 12138, 'artificial': 12139, 'asp': 12140, 'athenians': 12141, 'avarice': 12142, 'axiom': 12143, 'backbone': 12144, 'bahorel': 12145, 'balloon': 12146, 'barbari': 12147, 'barberini': 12148, 'baronet': 12149, 'basils': 12150, 'bastringue': 12151, 'beauté': 12152, 'bewigged': 12153, 'bibine': 12154, 'bigote': 12155, 'bigre': 12156, 'bile': 12157, 'blusterer': 12158, 'bo': 12159, 'boileau': 12160, 'boissy': 12161, 'bombardment': 12162, 'bouibuis': 12163, 'brigandage': 12164, 'broadly': 12165, 'brood': 12166, 'bulky': 12167, 'buonaparté': 12168, 'c,—the': 12169, 'c.': 12170, 'cab': 12171, 'caboulot': 12172, 'cafés': 12173, 'cake': 12174, 'caligula': 12175, 'caliph': 12176, 'cambrai': 12177, 'captivate': 12178, 'caravanserie': 12179, 'carbonarism': 12180, 'carie': 12181, 'carolling': 12182, 'carotid': 12183, 'carthage': 12184, 'castra': 12185, 'castratus': 12186, 'catalogue': 12187, 'caumartin': 12188, 'certificate': 12189, 'certify': 12190, 'char': 12191, 'charing': 12192, 'chastely': 12193, 'chauvelin': 12194, 'chemist': 12195, 'cherubino': 12196, 'chicanery': 12197, 'chirurgical': 12198, 'chénier': 12199, 'climax': 12200, 'clovis': 12201, 'coat,—the': 12202, 'cobra': 12203, 'coligny': 12204, 'comanche': 12205, 'combeferre': 12206, 'compat': 12207, 'complement': 12208, 'complementary': 12209, 'conclave': 12210, 'consonant': 12211, 'constantinople': 12212, 'constrain': 12213, 'consul': 12214, 'convincing': 12215, 'corinthe': 12216, 'corsica': 12217, 'cougourde': 12218, 'courfeyrac': 12219, 'cowardice': 12220, 'crackle': 12221, 'cromwell': 12222, 'cruel': 12223, 'crumple': 12224, 'cursore': 12225, 'cybele': 12226, 'célestine': 12227, 'deafen': 12228, 'dean': 12229, 'dearness': 12230, 'debased,—that': 12231, 'decapitated': 12232, 'decreed': 12233, 'deform': 12234, 'deleuze': 12235, 'democrat': 12236, 'desmarets': 12237, 'detect': 12238, 'devout': 12239, 'digesting': 12240, 'dike': 12241, 'dirais': 12242, 'disciplinæ': 12243, 'discomfort': 12244, 'disembark': 12245, 'disoblige': 12246, 'doctrinaire': 12247, 'dogmatism': 12248, 'domicile': 12249, 'domino': 12250, 'donné': 12251, 'doorpost': 12252, 'dorimon': 12253, 'drank': 12254, 'dwindle': 12255, 'd’aubigné': 12256, 'd’avaray': 12257, 'ebbs': 12258, 'economical': 12259, 'educational': 12260, 'embryo': 12261, 'emperors': 12262, 'emphyteuse': 12263, 'englishwoman': 12264, 'enjolras': 12265, 'entrain': 12266, 'ephestion': 12267, 'episthate': 12268, 'episthates': 12269, 'ermitage': 12270, 'erudimini': 12271, 'erudition': 12272, 'estrange': 12273, 'eucnemos': 12274, 'eudamidas': 12275, 'evadne': 12276, 'evocation': 12277, 'evolution': 12278, 'excite': 12279, 'explosively': 12280, 'extensive': 12281, 'extravagance': 12282, 'ezekiel': 12283, 'factor': 12284, 'fallait': 12285, 'fatuity': 12286, 'faulty': 12287, 'femme_—woman': 12288, 'feuilly': 12289, 'fictions,—what': 12290, 'fille': 12291, 'fixing': 12292, 'freehold': 12293, 'friends': 12294, 'fume': 12295, 'gauntness': 12296, 'geoffroy': 12297, 'geology': 12298, 'gex': 12299, 'gill': 12300, 'gin': 12301, 'gloire': 12302, 'goguette': 12303, 'gracchus': 12304, 'grammarian': 12305, 'grantaire': 12306, 'grieve': 12307, 'grès': 12308, 'guerre': 12309, 'guignon': 12310, 'gué': 12311, 'gymnast': 12312, 'harmodius': 12313, 'headdress': 12314, 'headquarters': 12315, 'healing': 12316, 'hearted': 12317, 'heidelberg': 12318, 'hello': 12319, 'heretofore': 12320, 'hieroglyphic': 12321, 'hilaire': 12322, 'hilt': 12323, 'him.23': 12324, 'hippocrates': 12325, 'hodman': 12326, 'hombre': 12327, 'homeliness': 12328, 'homesickness': 12329, 'homo': 12330, 'hungary': 12331, 'hygienic': 12332, 'hypochondria': 12333, 'iliads': 12334, 'illegitimacy': 12335, 'illimitable': 12336, 'imaginaire': 12337, 'inappropriately': 12338, 'incitatus': 12339, 'incoherence': 12340, 'incompatible': 12341, 'increased': 12342, 'incubation': 12343, 'inculcation': 12344, 'independent': 12345, 'indians': 12346, 'infâme_,—infamous': 12347, 'initium': 12348, 'inordinately': 12349, 'insalubrity': 12350, 'insensibly': 12351, 'inseparable': 12352, 'inspect': 12353, 'insurrection': 12354, 'intellectual': 12355, 'intermediate': 12356, 'intermixture': 12357, 'invented,—and': 12358, 'inventive': 12359, 'invoke': 12360, 'io': 12361, 'irma': 12362, 'irreproachable': 12363, 'isabella': 12364, 'isaiah': 12365, 'ivans': 12366, 'jaunt': 12367, 'jaxa': 12368, 'jehan': 12369, 'jockey': 12370, 'jolllly': 12371, 'joly': 12372, 'jonathan': 12373, 'judicatis': 12374, 'j’aime': 12375, 'j’aimon': 12376, 'j’aimons': 12377, 'l.': 12378, 'laigle': 12379, 'lallemand': 12380, 'lama': 12381, 'laplace': 12382, 'launch': 12383, 'lavatory': 12384, 'lecturer': 12385, 'leech': 12386, 'legist': 12387, 'lesgle': 12388, 'lesgueule': 12389, 'lesgueules': 12390, 'libertine': 12391, 'loizerolles': 12392, 'louison': 12393, 'lymph': 12394, 'lyric': 12395, 'légle': 12396, 'l’amour': 12397, 'ma': 12398, 'mahomet': 12399, 'malade': 12400, 'manager': 12401, 'manezingue': 12402, 'maniacal': 12403, 'mastroquet': 12404, 'matelote': 12405, 'meaux': 12406, 'mediocrity': 12407, 'merlin': 12408, 'miasma': 12409, 'mieux': 12410, 'milled': 12411, 'milliard': 12412, 'misadventure': 12413, 'miscarry': 12414, 'mortgage': 12415, 'mortify': 12416, 'moult': 12417, 'musain': 12418, 'musichetta': 12419, 'mystification': 12420, 'myth': 12421, 'mythology': 12422, 'mère!”25': 12423, 'm’avait': 12424, 'narse': 12425, 'nasica': 12426, 'nationality': 12427, 'naturedly': 12428, 'negro': 12429, 'niagara': 12430, 'nicholases': 12431, 'nightstand': 12432, 'nisus': 12433, 'nomina': 12434, 'normandy': 12435, 'observable': 12436, 'obverse': 12437, 'offset': 12438, 'on,—wa': 12439, 'opulence': 12440, 'orestes': 12441, 'orgy': 12442, 'orientalist': 12443, 'oscillate': 12444, 'overpasse': 12445, 'pagan': 12446, 'paladin': 12447, 'paletot': 12448, 'paltriness': 12449, 'panegyric': 12450, 'parade': 12451, 'parry': 12452, 'particle': 12453, 'patching': 12454, 'patrocles': 12455, 'pechmeja': 12456, 'persian': 12457, 'petram': 12458, 'petrus': 12459, 'phalanx': 12460, 'philetas': 12461, 'philosophically': 12462, 'phlegmatic': 12463, 'phocion': 12464, 'pilfer': 12465, 'pinchbeck': 12466, 'pisistratus': 12467, 'pissevache': 12468, 'plagiarist': 12469, 'playfulness': 12470, 'pliny': 12471, 'plâtrière': 12472, 'poetical': 12473, 'poignarded': 12474, 'poison': 12475, 'polarization': 12476, 'pollux': 12477, 'pontoon': 12478, 'prating': 12479, 'prescription': 12480, 'priority': 12481, 'promulgation': 12482, 'prouvaire': 12483, 'pterigybranche': 12484, 'publisher': 12485, 'pugilist': 12486, 'purist': 12487, 'putrefaction': 12488, 'puységur': 12489, 'pydna': 12490, 'pylade': 12491, 'pylades': 12492, 'pyrotechnic': 12493, 'quaint': 12494, 'quip': 12495, 'quitter': 12496, 'qu’il': 12497, 'r.': 12498, 'racine': 12499, 'railroad': 12500, 'rapin_24': 12501, 'rascality': 12502, 'realization': 12503, 'reassured': 12504, 'rectify': 12505, 'relaxation': 12506, 'reprends': 12507, 'richard': 12508, 'roastbeef': 12509, 'robecque': 12510, 'romanticism': 12511, 'roumania': 12512, 'roundness': 12513, 'rover': 12514, 'ruffianism': 12515, 'sainval': 12516, 'sapience': 12517, 'sapientiæ': 12518, 'saucepan': 12519, 'sauget': 12520, 'saunter': 12521, 'sceptic': 12522, 'scepticism': 12523, 'scholastic': 12524, 'sciences': 12525, 'scum': 12526, 'sealed': 12527, 'sensual': 12528, 'serenely': 12529, 'sided': 12530, 'sidereal': 12531, 'silanion': 12532, 'silkworm': 12533, 'sirloin': 12534, 'slayer': 12535, 'slyly': 12536, 'smash': 12537, 'spatchcock': 12538, 'spendthrift': 12539, 'spinal': 12540, 'sportsman': 12541, 'spotless': 12542, 'stairway': 12543, 'stale': 12544, 'stark': 12545, 'staub': 12546, 'steering': 12547, 'stockholm': 12548, 'strongylion': 12549, 'subsistence': 12550, 'sulk': 12551, 'super': 12552, 'swordsman': 12553, 'sybarite': 12554, 'tartar': 12555, 'teasing': 12556, 'terram': 12557, 'teuton': 12558, 'theorem': 12559, 'thessaly': 12560, 'thrill': 12561, 'thunderclap': 12562, 'tilsit': 12563, 'tine': 12564, 'toga': 12565, 'tolbiac': 12566, 'tomcat': 12567, 'ton': 12568, 'torso': 12569, 'trabuceros': 12570, 'treason': 12571, 'tugendbund': 12572, 'tun': 12573, 'tutor': 12574, 'tyrannical': 12575, 'unaccepted': 12576, 'unanswered': 12577, 'unaware': 12578, 'unbridled': 12579, 'underground': 12580, 'underhand': 12581, 'underlying': 12582, 'undermining': 12583, 'unorganized': 12584, 'uprising': 12585, 'urine': 12586, 'usus': 12587, 'utopians': 12588, 'valetudinarian': 12589, 'valsin': 12590, 'variatur': 12591, 'vaud': 12592, 'venice': 12593, 'vibration': 12594, 'vignemale': 12595, 'vin': 12596, 'vir': 12597, 'volet': 12598, 'voluptuary': 12599, 'wall,—a': 12600, 'warlike': 12601, 'warsaw': 12602, 'washer': 12603, 'watchmaker': 12604, 'wearisome': 12605, 'welding': 12606, 'wigmaker': 12607, 'wineshop': 12608, 'ô': 12609, '32mos': 12610, 'accompaniment': 12611, 'allegri': 12612, 'anarchist': 12613, 'annuaire': 12614, 'aquatic': 12615, 'attached,—and': 12616, 'augmented': 12617, 'bachelor': 12618, 'bantering': 12619, 'basset': 12620, 'bearable': 12621, 'bellavesne': 12622, 'belvedere': 12623, 'botanist': 12624, 'bouddha': 12625, 'boundless': 12626, 'bouquinist': 12627, 'brawling': 12628, 'brothel': 12629, 'bulb': 12630, 'busybody': 12631, 'butcher': 12632, 'cadodache': 12633, 'carafes': 12634, 'carbonaro': 12635, 'cataract': 12636, 'cauteretz': 12637, 'chartist': 12638, 'cheap': 12639, 'cheapness': 12640, 'churchwarden': 12641, 'civilian': 12642, 'colored': 12643, 'compiled': 12644, 'complication': 12645, 'concentration': 12646, 'countermarch': 12647, 'crucible': 12648, 'crusty': 12649, 'cuff': 12650, 'cutlet': 12651, 'delicious': 12652, 'dorsal': 12653, 'dotard': 12654, 'duchesne': 12655, 'economist': 12656, 'elzevir': 12657, 'engraving': 12658, 'enragé': 12659, 'eradicate': 12660, 'erratum': 12661, 'eumenides': 12662, 'expiation;—that': 12663, 'exploration': 12664, 'faton': 12665, 'fillip': 12666, 'flora': 12667, 'framed': 12668, 'fririon': 12669, 'furies': 12670, 'gaming': 12671, 'gleams': 12672, 'got': 12673, 'gourney': 12674, 'graven': 12675, 'grimacer': 12676, 'guard,—such': 12677, 'guitar': 12678, 'gunpowder': 12679, 'happen?—to': 12680, 'herbarium': 12681, 'hernani': 12682, 'hiccough': 12683, 'house,—these': 12684, 'impalpable': 12685, 'indigo': 12686, 'inexpensive': 12687, 'insipidity': 12688, 'insolence': 12689, 'insure': 12690, 'ist': 12691, 'jabber': 12692, 'jibe': 12693, 'lettuce': 12694, 'life,—that': 12695, 'livelihood': 12696, 'loftier': 12697, 'magimel': 12698, 'magnanimous': 12699, 'marche': 12700, 'mathurins': 12701, 'maw': 12702, 'medici': 12703, 'merriment': 12704, 'mess': 12705, 'mew': 12706, 'midday,—to': 12707, 'militaire': 12708, 'militia': 12709, 'mirabelle': 12710, 'miserere': 12711, 'mitigated': 12712, 'montparnasse': 12713, 'mésière': 12714, 'mésières': 12715, 'naturalize': 12716, 'noddle': 12717, 'ogibewas': 12718, 'onslaught': 12719, 'ordinated': 12720, 'orleanist': 12721, 'pajol': 12722, 'panthéon': 12723, 'passable': 12724, 'pendulum': 12725, 'penny': 12726, 'perfumed': 12727, 'pettifog': 12728, 'plead': 12729, 'plumage': 12730, 'plutarque': 12731, 'prints,—that': 12732, 'propound': 12733, 'prospectus': 12734, 'pssst': 12735, 'publishing': 12736, 'puerilely': 12737, 'ratiocinate': 12738, 'rational': 12739, 'recast': 12740, 'republicans': 12741, 'requite': 12742, 'retrench': 12743, 'rheumatism': 12744, 'rigmarole': 12745, 'rudeness': 12746, 'ruin,—it': 12747, 'scaffolding': 12748, 'seedle': 12749, 'senators': 12750, 'septembrist': 12751, 'sheep’s': 12752, 'shuttlecock': 12753, 'sieyè': 12754, 'sieyès': 12755, 'simpleton': 12756, 'sincerely': 12757, 'sixtine': 12758, 'slaves,—they': 12759, 'slily': 12760, 'snappishness': 12761, 'sown': 12762, 'spout': 12763, 'squeeze': 12764, 'stablemen': 12765, 'sweetest': 12766, 'tardy': 12767, 'termination': 12768, 'terraqueous': 12769, 'terrorist': 12770, 'tiercelin': 12771, 'timidity': 12772, 'topsy': 12773, 'transitory': 12774, 'turvy': 12775, 'twitch': 12776, 'uncle,”—and': 12777, 'unkind': 12778, 'vache': 12779, 'vociferate': 12780, 'abash': 12781, 'adret': 12782, 'alsace': 12783, 'amazed': 12784, 'appeared,—and': 12785, 'appeared,—to': 12786, 'aquiline': 12787, 'audry': 12788, 'baccalauréat': 12789, 'back.—“he': 12790, 'bartholo': 12791, 'bearded': 12792, 'bewitch': 12793, 'blas': 12794, 'bougon': 12795, 'burgon': 12796, 'capricious': 12797, 'chamois': 12798, 'cherubin': 12799, 'child,—neither': 12800, 'chinese': 12801, 'clutched': 12802, 'coquette': 12803, 'crossed': 12804, 'cynic': 12805, 'day,—he': 12806, 'dazzlingly': 12807, 'dreamy': 12808, 'dub': 12809, 'enormously': 12810, 'ensnare': 12811, 'exert': 12812, 'facilitate': 12813, 'fascinating': 12814, 'foreground': 12815, 'frédérick': 12816, 'furth': 12817, 'gearing': 12818, 'genial': 12819, 'germanic': 12820, 'gil': 12821, 'gladiator': 12822, 'goujon': 12823, 'greeting': 12824, 'guicherat': 12825, 'him,—on': 12826, 'hippopotamus': 12827, 'hobble': 12828, 'horrible!—ala': 12829, 'horribly': 12830, 'iconoclast': 12831, 'idealize': 12832, 'impressed': 12833, 'inconceivably': 12834, 'indecorous': 12835, 'indefinitely,—stupidly': 12836, 'independence': 12837, 'inexact': 12838, 'insensible': 12839, 'insipid': 12840, 'intensely': 12841, 'irreverence': 12842, 'jealousy.—“perhap': 12843, 'lanoire': 12844, 'leblanc': 12845, 'leonine': 12846, 'lorraine': 12847, 'loving': 12848, 'lustrous': 12849, 'l’auberge': 12850, 'l’ou': 12851, 'l’ouest': 12852, 'manuel': 12853, 'marcos': 12854, 'ma’am': 12855, 'merino': 12856, 'misunderstanding': 12857, 'modiste': 12858, 'morrow,—for': 12859, 'nothing,—ma’am': 12860, 'obrégon': 12861, 'omission': 12862, 'panoply': 12863, 'parasol': 12864, 'parthian': 12865, 'passed,—under': 12866, 'paternity': 12867, 'petrarch': 12868, 'place,—he': 12869, 'plaintain': 12870, 'pure,—which': 12871, 'puyraveau': 12872, 'pépinière': 12873, 'quaker': 12874, 'raising': 12875, 'raphael': 12876, 'reddest': 12877, 'redoubled': 12878, 'redoubling': 12879, 'ronde': 12880, 'said:—“good': 12881, 'savored': 12882, 'saw!”—and': 12883, 'shun': 12884, 'sicambres': 12885, 'silken': 12886, 'slovenly': 12887, 'spartacus': 12888, 'studious': 12889, 'stumble': 12890, 'sycamore': 12891, 'theocritus': 12892, 'thunderstruck': 12893, 'tidy': 12894, 'today': 12895, 'twitter': 12896, 'u.': 12897, 'unapproachable': 12898, 'unfrequented': 12899, 'uproariously': 12900, 'ursule': 12901, 'walk,—and': 12902, 'wardrobe': 12903, 'whistling': 12904, 'words,—“fifteen': 12905, '1835': 12906, 'abel': 12907, 'academies': 12908, 'alia': 12909, 'alias': 12910, 'ambubaiarum': 12911, 'answered,—for': 12912, 'avignon': 12913, 'babet': 12914, 'babeuf': 12915, 'barrecarrosse': 12916, 'bicep': 12917, 'bigrenaille': 12918, 'bizarro': 12919, 'bouquetière': 12920, 'brujon': 12921, 'brune': 12922, 'buttonhole': 12923, 'cain': 12924, 'calvin': 12925, 'carmagnolet': 12926, 'catacomb': 12927, 'chien': 12928, 'claquesous': 12929, 'coco': 12930, 'collegia': 12931, 'creole': 12932, 'crow’s': 12933, 'crypt': 12934, 'dagger': 12935, 'defined': 12936, 'descending': 12937, 'dessous': 12938, 'digging': 12939, 'disinterestedness': 12940, 'dreaded': 12941, 'dupont': 12942, 'dépêche': 12943, 'economic': 12944, 'effeminate': 12945, 'embryonic': 12946, 'encyclopedia': 12947, 'entre': 12948, 'expeditious': 12949, 'experiment': 12950, 'extirpate': 12951, 'farnese': 12952, 'fauntleroy': 12953, 'finistère': 12954, 'foe': 12955, 'foothold': 12956, 'fungus': 12957, 'fœtus': 12958, 'garroter': 12959, 'genteel': 12960, 'glorieux': 12961, 'grossness': 12962, 'gueulemer': 12963, 'hail': 12964, 'hatcher': 12965, 'hatre': 12966, 'hogu': 12967, 'homère': 12968, 'howl': 12969, 'huss': 12970, 'inferi': 12971, 'knowingly': 12972, 'kruideniers': 12973, 'laced': 12974, 'lateral': 12975, 'latour': 12976, 'laveuve': 12977, 'liard': 12978, 'loup_—between': 12979, 'luther': 12980, 'l’air': 12981, 'l’esplanade': 12982, 'mangedentelle': 12983, 'mardisoir': 12984, 'marion': 12985, 'mendici': 12986, 'messager': 12987, 'metalloid': 12988, 'mihiel': 12989, 'milliards': 12990, 'mimæ': 12991, 'mine': 12992, 'minette': 12993, 'minette_,—such': 12994, 'montmatre': 12995, 'montrouge': 12996, 'network': 12997, 'nocturne': 12998, 'obliteration': 12999, 'owen': 13000, 'panchaud': 13001, 'paradisiacal': 13002, 'parlance': 13003, 'patiently': 13004, 'pectoral': 13005, 'penetrable': 13006, 'pharmacopolæ': 13007, 'pied': 13008, 'pioneer': 13009, 'pomade': 13010, 'poussagrive': 13011, 'predestination': 13012, 'primitive': 13013, 'printanier': 13014, 'proteus': 13015, 'quartette': 13016, 'response': 13017, 'roamer': 13018, 'rung': 13019, 'scenery': 13020, 'schinderhannes': 13021, 'socinius': 13022, 'speculator': 13023, 'stealable': 13024, 'structure': 13025, 'subterranean': 13026, 'sud': 13027, 'tantamount': 13028, 'theatrical': 13029, 'toiler': 13030, 'tribe': 13031, 'troisième': 13032, 'troupe': 13033, 'ugolino': 13034, 'undermined': 13035, 'utopias': 13036, 'vagrant': 13037, 'venous': 13038, 'ventriloquist': 13039, 'voracious': 13040, '12mo': 13041, '1832': 13042, '1843': 13043, '440': 13044, '9': 13045, 'abduct': 13046, 'acacia': 13047, 'acquainted': 13048, 'acquit': 13049, 'acrid': 13050, 'agonize': 13051, 'ai': 13052, 'allait': 13053, 'aller': 13054, 'altaration': 13055, 'alvarès': 13056, 'amours': 13057, 'andrew': 13058, 'announced': 13059, 'anticipation': 13060, 'artistic': 13061, 'asparagus': 13062, 'attachment': 13063, 'austerlits': 13064, 'balizard': 13065, 'bang': 13066, 'beastly': 13067, 'because,—i': 13068, 'begone': 13069, 'benefactor': 13070, 'benvenuto': 13071, 'bespatter': 13072, 'bien': 13073, 'bizarre': 13074, 'blanket': 13075, 'bloodshot': 13076, 'boa': 13077, 'bodies': 13078, 'bonheur': 13079, 'booby': 13080, 'bougonmuche': 13081, 'bousingot.30': 13082, 'braggadocio': 13083, 'bravo': 13084, 'breaker': 13085, 'breathlessness': 13086, 'bruqueselles,—do': 13087, 'brusque': 13088, 'buck': 13089, 'buff': 13090, 'builder': 13091, 'burglar': 13092, 'burner': 13093, 'bélisaire': 13094, 'cadet': 13095, 'canaille': 13096, 'candlemas': 13097, 'canvass': 13098, 'capriciously': 13099, 'capritious': 13100, 'caverne.26': 13101, 'cellinis': 13102, 'chasse': 13103, 'chaumière': 13104, 'chilled': 13105, 'clamorous': 13106, 'click': 13107, 'clue': 13108, 'cobbler': 13109, 'commend': 13110, 'commissaire': 13111, 'confinement': 13112, 'congeal': 13113, 'congealed': 13114, 'constrictor': 13115, 'cooked': 13116, 'corbeaux': 13117, 'countermand': 13118, 'coupdesabot': 13119, 'cracking': 13120, 'cranny': 13121, 'crockery': 13122, 'crust': 13123, 'crœsus': 13124, 'culvert': 13125, 'célimène': 13126, 'c’était': 13127, 'daigne': 13128, 'dames': 13129, 'dan': 13130, 'dark,—crime': 13131, 'decrepitude': 13132, 'dedication': 13133, 'defenceless': 13134, 'defier': 13135, 'definite': 13136, 'degraded': 13137, 'dejected': 13138, 'depraved': 13139, 'deprecate': 13140, 'depressed': 13141, 'deputies': 13142, 'deseave': 13143, 'desnoyer': 13144, 'despair,—this': 13145, 'deuxmilliards': 13146, 'devrait': 13147, 'dilate': 13148, 'discard': 13149, 'discouragement': 13150, 'dispel': 13151, 'ditto': 13152, 'down': 13153, 'dubious': 13154, 'duminil': 13155, 'durer': 13156, 'duré': 13157, 'dusky': 13158, 'd’enfer': 13159, 'efficacious': 13160, 'ejaculate': 13161, 'ejaculated': 13162, 'elicit': 13163, 'elmire': 13164, 'elot': 13165, 'elucidated': 13166, 'emaciate': 13167, 'emphatic': 13168, 'employee': 13169, 'engineer': 13170, 'entrench': 13171, 'epidermis': 13172, 'equivocal': 13173, 'evening,—it': 13174, 'everything,—that': 13175, 'evverything': 13176, 'exclusion': 13177, 'exteremely': 13178, 'extortionate': 13179, 'exude': 13180, 'fabantou': 13181, 'fabre': 13182, 'faim': 13183, 'falter': 13184, 'fang': 13185, 'fauchant': 13186, 'fers': 13187, 'fez': 13188, 'fiend': 13189, 'fire,-die': 13190, 'flattered': 13191, 'flounder': 13192, 'flowery': 13193, 'fluency': 13194, 'foresaw': 13195, 'frederick': 13196, 'fret': 13197, 'fricot': 13198, 'froid': 13199, 'frolicsome': 13200, 'fun': 13201, 'gaîté': 13202, 'genflot': 13203, 'ghi': 13204, 'giver': 13205, 'glowing': 13206, 'gobelin': 13207, 'goody': 13208, 'gormandize': 13209, 'gracieuse': 13210, 'grayish': 13211, 'grease': 13212, 'grelotte': 13213, 'grucheray': 13214, 'guttural': 13215, 'handcuff': 13216, 'handicraft': 13217, 'hewn': 13218, 'hosier': 13219, 'huit': 13220, 'hullo': 13221, 'humming': 13222, 'hurriedly': 13223, 'iena': 13224, 'immodesty': 13225, 'immortalize': 13226, 'imp': 13227, 'impatient': 13228, 'improper': 13229, 'impropriety': 13230, 'impure': 13231, 'inanition': 13232, 'incorporate': 13233, 'incrust': 13234, 'indicative': 13235, 'indigance': 13236, 'indigant': 13237, 'inexplicably': 13238, 'ingratitude': 13239, 'injured': 13240, 'inquisitor': 13241, 'intervention': 13242, 'intonation': 13243, 'inveigle': 13244, 'ironmongery': 13245, 'irritating': 13246, 'irritation': 13247, 'it,—it': 13248, 'it.27': 13249, 'jacquot': 13250, 'jeweller': 13251, 'jog': 13252, 'joke': 13253, 'jours': 13254, 'jubilation': 13255, 'juggler': 13256, 'justify': 13257, 'j’ai': 13258, 'kisss': 13259, 'knows?—some': 13260, 'laensberg': 13261, 'lampblack': 13262, 'languid': 13263, 'lap': 13264, 'larynx': 13265, 'lathe': 13266, 'lavater': 13267, 'lazare': 13268, 'leprous': 13269, 'lions': 13270, 'liquor': 13271, 'listlessness': 13272, 'lolotte': 13273, 'lombard': 13274, 'luckily': 13275, 'luise': 13276, 'luiserne': 13277, 'lymphatic': 13278, 'l’horologe': 13279, 'l’our': 13280, 'madelonettes': 13281, 'mais': 13282, 'manufactory': 13283, 'maringo': 13284, 'merci': 13285, 'metamorphosis': 13286, 'mineral': 13287, 'miraculously': 13288, 'misserable': 13289, 'missery': 13290, 'mister': 13291, 'misteriously': 13292, 'monger': 13293, 'monsiuer': 13294, 'montvernet': 13295, 'monté': 13296, 'mortar': 13297, 'mortification': 13298, 'mousetrap': 13299, 'muche': 13300, 'nab': 13301, 'nasty': 13302, 'nature,—but': 13303, 'nature,—had': 13304, 'nix': 13305, 'nosed': 13306, 'noster': 13307, 'nothing,—it': 13308, 'notorious': 13309, 'obedient': 13310, 'obtaine': 13311, 'obvious': 13312, 'older,—there': 13313, 'oneself': 13314, 'opprobrium': 13315, 'osprey': 13316, 'overcoat': 13317, 'pabourgeot': 13318, 'pained': 13319, 'palisse': 13320, 'palm': 13321, 'palpitate': 13322, 'palpitation': 13323, 'pardie': 13324, 'paring': 13325, 'parting': 13326, 'partout.29': 13327, 'passait': 13328, 'pater': 13329, 'payait': 13330, 'peculiarly': 13331, 'pedagogue': 13332, 'peine': 13333, 'pelisse': 13334, 'perpetration': 13335, 'perplexity': 13336, 'pestiferous': 13337, 'pettifogger': 13338, 'piano': 13339, 'piesse': 13340, 'pinion': 13341, 'pinioned': 13342, 'pirouette': 13343, 'pity,—she': 13344, 'placing': 13345, 'planked': 13346, 'plastering': 13347, 'platitude': 13348, 'plumet': 13349, 'poetic': 13350, 'poke': 13351, 'potsdam': 13352, 'pouf': 13353, 'prayers?—for': 13354, 'preachy': 13355, 'precursor': 13356, 'preferable': 13357, 'premature': 13358, 'preparatory': 13359, 'pretious': 13360, 'priviliged': 13361, 'progressively': 13362, 'promontory': 13363, 'propitious': 13364, 'protector': 13365, 'p’pa': 13366, 'quand': 13367, 'quittez': 13368, 'racing': 13369, 'ransack': 13370, 'reciprocal': 13371, 'redly': 13372, 'refresh': 13373, 'rehung': 13374, 'rentre': 13375, 'repay': 13376, 'rescuer': 13377, 'reseat': 13378, 'resounding': 13379, 'restitution': 13380, 'rhone': 13381, 'rind': 13382, 'rothschild': 13383, 'rudely': 13384, 'ruffians': 13385, 's.': 13386, 'sakoski': 13387, 'sanglote': 13388, 'satisfi': 13389, 'saviour': 13390, 'sceaux': 13391, 'scope': 13392, 'scowl': 13393, 'scratching': 13394, 'scrutiny': 13395, 'semaine': 13396, 'shameless': 13397, 'shear': 13398, 'shiner': 13399, 'shove': 13400, 'signboard': 13401, 'signer': 13402, 'simpatie': 13403, 'sirius': 13404, 'sized': 13405, 'skullcap': 13406, 'slim': 13407, 'smear': 13408, 'smirch': 13409, 'smite': 13410, 'smith': 13411, 'smoked': 13412, 'sock': 13413, 'soldiery': 13414, 'somnolent': 13415, 'sont': 13416, 'sosiety': 13417, 'sought.—“but': 13418, 'speculate': 13419, 'spitchcocked': 13420, 'sprawl': 13421, 'squeak': 13422, 'squelch': 13423, 'stammering': 13424, 'streak': 13425, 'stun': 13426, 'stupider': 13427, 'subdued': 13428, 'subsequent': 13429, 'suffocation': 13430, 'suivra': 13431, 's’ador': 13432, 's’en': 13433, 'taciturnity': 13434, 'taller': 13435, 'tartan': 13436, 'tattooed': 13437, 'temps': 13438, 'thigh': 13439, 'threat': 13440, 'threatened': 13441, 'thwart': 13442, 'théâtre': 13443, 'ticking': 13444, 'ticklish': 13445, 'tinge': 13446, 'tomorrow': 13447, 'tong': 13448, 'topcoat': 13449, 'toujour': 13450, 'toujours!28': 13451, 'toute': 13452, 'travell': 13453, 'tricot': 13454, 'trigger': 13455, 'triste': 13456, 'unarmed': 13457, 'uncomfortable': 13458, 'unfinished': 13459, 'unmade': 13460, 'unpretending': 13461, 'unrolled': 13462, 'unscrew': 13463, 'unscrewed': 13464, 'unseal': 13465, 'urbain': 13466, 'urgency': 13467, 'vainglory': 13468, 'vainly': 13469, 'veal': 13470, 'villain': 13471, 'villon': 13472, 'virtuously': 13473, 'visual': 13474, 'vou': 13475, 'wagramme': 13476, 'walnut': 13477, 'weathervane': 13478, 'weighing': 13479, 'whelp': 13480, 'whereabouts': 13481, 'whispering': 13482, 'wound,—we': 13483, 'wreck': 13484, 'wretche': 13485, 'wretches': 13486, 'wynter': 13487, 'yelp': 13488, 'you!—it': 13489, 'échasses': 13490, '”31': 13491, '+': 13492, '1662': 13493, '21': 13494, '221': 13495, '40': 13496, '8': 13497, '83': 13498, '86': 13499, 'abd': 13500, 'abolishe': 13501, 'abstract': 13502, 'accessibility': 13503, 'accomplished': 13504, 'adaptation': 13505, 'adelaide': 13506, 'afflatus': 13507, 'agrarian': 13508, 'algeria': 13509, 'almost': 13510, 'alphabetical': 13511, 'amiss': 13512, 'angers': 13513, 'antwerp': 13514, 'arbre': 13515, 'arondissement': 13516, 'asunder': 13517, 'attenuating': 13518, 'aubry': 13519, 'aug': 13520, 'babouvist': 13521, 'ballet': 13522, 'balloting': 13523, 'bannerel': 13524, 'barricades': 13525, 'bastilles': 13526, 'beaubourg': 13527, 'beribbone': 13528, 'billiards': 13529, 'bis': 13530, 'blanchard': 13531, 'blaye': 13532, 'bologna': 13533, 'bombard': 13534, 'boubière': 13535, 'bran': 13536, 'breakdown': 13537, 'brew': 13538, 'broadsword': 13539, 'burtot': 13540, 'buzzing': 13541, 'béford': 13542, 'caius': 13543, 'calumniate': 13544, 'capet': 13545, 'cartridges.—d.': 13546, 'census': 13547, 'centurion': 13548, 'charbonnière': 13549, 'charenton': 13550, 'charonne': 13551, 'chatterer': 13552, 'chaussée': 13553, 'cherbourg': 13554, 'cherche': 13555, 'chevaliers': 13556, 'cholera': 13557, 'churlish': 13558, 'circumscribe': 13559, 'clairvoyance': 13560, 'clinical': 13561, 'collaboration': 13562, 'collective': 13563, 'collision': 13564, 'commercial': 13565, 'communicating': 13566, 'communism': 13567, 'communist': 13568, 'compatibility': 13569, 'compulsory': 13570, 'concise': 13571, 'condemned,—he': 13572, 'conjugal': 13573, 'conseil': 13574, 'constituent': 13575, 'constitution': 13576, 'contempt': 13577, 'continuity': 13578, 'contradictory': 13579, 'cosmogonic': 13580, 'cosmopolitan': 13581, 'cotte': 13582, 'creative': 13583, 'crier': 13584, 'crushing': 13585, 'cyclop': 13586, 'decurion': 13587, 'deduct': 13588, 'deduction': 13589, 'demeanor': 13590, 'democrats': 13591, 'derbac': 13592, 'deutz': 13593, 'deviation': 13594, 'dilute': 13595, 'disaccord': 13596, 'disaggregation': 13597, 'dishonor': 13598, 'disintereste': 13599, 'dissolution': 13600, 'distribution': 13601, 'distrustful': 13602, 'disturbance': 13603, 'diversely': 13604, 'doing': 13605, 'dufond': 13606, 'dully': 13607, 'dumouriez': 13608, 'dynamic': 13609, 'd’assa': 13610, 'd’orlean': 13611, 'e': 13612, 'ebullition': 13613, 'edenizing': 13614, 'emulation': 13615, 'encroachment': 13616, 'enlarging': 13617, 'ennius': 13618, 'epileptic': 13619, 'epitaph': 13620, 'equivoque': 13621, 'erection': 13622, 'estrapade': 13623, 'eustache': 13624, 'eventual': 13625, 'explode': 13626, 'exposition': 13627, 'faction': 13628, 'farming': 13629, 'fe': 13630, 'ferment': 13631, 'fertile': 13632, 'fictitious': 13633, 'fieschi': 13634, 'flannel': 13635, 'flint': 13636, 'fouriers32': 13637, 'fraction': 13638, 'fracture': 13639, 'frank': 13640, 'fraternally': 13641, 'gallais': 13642, 'generic': 13643, 'geologist': 13644, 'girondists': 13645, 'gisquet': 13646, 'glare': 13647, 'glimpses': 13648, 'glum': 13649, 'gnawing': 13650, 'gore': 13651, 'governor': 13652, 'graciously': 13653, 'grandly': 13654, 'gunsmith': 13655, 'hearsay': 13656, 'higher': 13657, 'hongrais': 13658, 'hyacinthe': 13659, 'hébertist': 13660, 'impend': 13661, 'imperfectly': 13662, 'imperille': 13663, 'impersonal': 13664, 'imprudent': 13665, 'incorrect': 13666, 'indefinable': 13667, 'indirect': 13668, 'indivisible': 13669, 'indoctrinate': 13670, 'inertia': 13671, 'infallibly': 13672, 'inflammation': 13673, 'ingen': 13674, 'interpret': 13675, 'interrogatory': 13676, 'interruption': 13677, 'intrepidity': 13678, 'irresponsibility': 13679, 'iturbide': 13680, 'j.': 13681, 'jacquerie': 13682, 'jam': 13683, 'jemappes': 13684, 'jeu': 13685, 'kader': 13686, 'kicking': 13687, 'labor,—all': 13688, 'laborious': 13689, 'lahautière': 13690, 'lancet': 13691, 'laziness': 13692, 'legibly': 13693, 'legitimist': 13694, 'lengthwise': 13695, 'leveller': 13696, 'licentiate': 13697, 'ligature': 13698, 'loiterer': 13699, 'lukewarm': 13700, 'luneville': 13701, 'machiavelli': 13702, 'man.—c.': 13703, 'mandate': 13704, 'manliness': 13705, 'manufacturing': 13706, 'mason': 13707, 'masonic': 13708, 'mathematic': 13709, 'maubuée': 13710, 'membrane': 13711, 'men': 13712, 'metternich': 13713, 'midi': 13714, 'miguel': 13715, 'mildness': 13716, 'misinterpretation': 13717, 'mistrust': 13718, 'mondétour': 13719, 'monopoly': 13720, 'moreau': 13721, 'moved': 13722, 'municipalities': 13723, 'muttering': 13724, 'mutualists': 13725, 'mysticism': 13726, 'narrowly': 13727, 'nearer': 13728, 'nectar': 13729, 'nomenclature': 13730, 'normal': 13731, 'notoriety': 13732, 'occult': 13733, 'og': 13734, 'oligarchy': 13735, 'onerous': 13736, 'outstrip': 13737, 'pacifically': 13738, 'paid,—these': 13739, 'painfully': 13740, 'paix': 13741, 'pamphlet': 13742, 'partial': 13743, 'peers': 13744, 'persons,—these': 13745, 'phrygian': 13746, 'pinson': 13747, 'plato': 13748, 'pluviôse': 13749, 'poissonnière': 13750, 'polignac': 13751, 'polonois': 13752, 'poniard': 13753, 'popincourt': 13754, 'populaire': 13755, 'portugal': 13756, 'posterior': 13757, 'postscript': 13758, 'powder.—e.': 13759, 'premonitory': 13760, 'presuppose': 13761, 'princely': 13762, 'pritchard': 13763, 'profitable': 13764, 'proletariat': 13765, 'promulgate': 13766, 'prophetic': 13767, 'prusias': 13768, 'publicly': 13769, 'punch': 13770, 'q': 13771, 'q.': 13772, 'quenisset': 13773, 'quincampoix': 13774, 'quinturion': 13775, 'reassume': 13776, 'reichenau': 13777, 'repudiate': 13778, 'reuilly': 13779, 'revise': 13780, 'revision': 13781, 'rhodes': 13782, 'richefeu': 13783, 'rights': 13784, 'rising': 13785, 'rollet': 13786, 'ruinous': 13787, 'salle': 13788, 'saltpetre': 13789, 'sate': 13790, 'satiety': 13791, 'secondary': 13792, 'sect': 13793, 'selfishness': 13794, 'sensitive': 13795, 'servile': 13796, 'sever': 13797, 'sharing': 13798, 'siam': 13799, 'sibyl': 13800, 'sibylline': 13801, 'sleeping': 13802, 'socialism': 13803, 'socialist': 13804, 'soize': 13805, 'stability': 13806, 'sticker': 13807, 'stuart': 13808, 'stuarts': 13809, 'subsequently': 13810, 'subversive': 13811, 'sulphur': 13812, 'superposed': 13813, 'swimmer': 13814, 'sympathetic': 13815, 'tact': 13816, 'tailor': 13817, 'tempest': 13818, 'terreur': 13819, 'tessier': 13820, 'testify': 13821, 'theoretical': 13822, 'thermidor': 13823, 'tilly': 13824, 'toilsome': 13825, 'totter': 13826, 'traction': 13827, 'trammelle': 13828, 'transnonain': 13829, 'troublous': 13830, 'undeceived': 13831, 'unexpectedly': 13832, 'unfit': 13833, 'unité': 13834, 'unprepared': 13835, 'unreserved': 13836, 'uplifting': 13837, 'usurpation': 13838, 'vacillation': 13839, 'vair': 13840, 'valmy': 13841, 'varnished': 13842, 'vehemence': 13843, 'vendée': 13844, 'vieilles': 13845, 'voyage': 13846, 'wanderer': 13847, 'weaver': 13848, 'wednesday': 13849, 'whipper': 13850, 'wield': 13851, 'workingmen': 13852, 'workmen': 13853, 'yvetot': 13854, '|': 13855, 'éclaireurs': 13856, 'épinard': 13857, '”33': 13858, '”—“here': 13859, '”—“on': 13860, '”—“the': 13861, '1655': 13862, 'advertisement': 13863, 'aloof': 13864, 'arid': 13865, 'artistically': 13866, 'barre': 13867, 'biscuit': 13868, 'bièvre': 13869, 'blueing': 13870, 'by:—“what': 13871, 'bâtiment': 13872, 'carosse': 13873, 'circumvent': 13874, 'clocheperce': 13875, 'closet,—the': 13876, 'commination': 13877, 'congealment': 13878, 'controversy': 13879, 'copperplate': 13880, 'delancre': 13881, 'derange': 13882, 'diables': 13883, 'disassociate': 13884, 'discontinue': 13885, 'dose': 13886, 'ducal': 13887, 'démons': 13888, 'enervation': 13889, 'escousse': 13890, 'etymology': 13891, 'exposure': 13892, 'extrication': 13893, 'fumblingly': 13894, 'gans': 13895, 'garlic': 13896, 'goblin': 13897, 'grâce': 13898, 'healthful': 13899, 'hutch': 13900, 'insoluble': 13901, 'insue': 13902, 'investigation': 13903, 'ireland': 13904, 'juggle': 13905, 'lebras': 13906, 'lives,—ah': 13907, 'lives,—or': 13908, 'l’inconstance': 13909, 'machination': 13910, 'melancholy.—“stop': 13911, 'miscarriage': 13912, 'monday': 13913, 'morning,—it': 13914, 'morose': 13915, 'mutes': 13916, 'mutor': 13917, 'médine': 13918, 'narcotic': 13919, 'naviguer': 13920, 'nemorin': 13921, 'notebook': 13922, 'onward': 13923, 'ophelia': 13924, 'outlay': 13925, 'pellet': 13926, 'programme': 13927, 'punctually': 13928, 'rhododendron': 13929, 'royol': 13930, 'rubaudière': 13931, 'ruysdael': 13932, 'santé': 13933, 'savigny': 13934, 'schinderhanne': 13935, 'searcher': 13936, 'shady': 13937, 'shepherdess': 13938, 'sideways': 13939, 'squat': 13940, 'stagnant': 13941, 'symbolism': 13942, 'treatise': 13943, 'unavowed': 13944, 'unfolded': 13945, 'unhook': 13946, 'unreasone': 13947, 'unstrung': 13948, 'upraise': 13949, 'vauvert': 13950, 'verrerie': 13951, 'vogue': 13952, 'watchman': 13953, 'xiii': 13954, 'accidental': 13955, 'accoutrement': 13956, 'admirer': 13957, 'again,—you': 13958, 'air,—this': 13959, 'algebra': 13960, 'allowable': 13961, 'amazement.—“i': 13962, 'ambiguous': 13963, 'amused': 13964, 'animalcule': 13965, 'animaux': 13966, 'arabesque': 13967, 'arbor': 13968, 'armé': 13969, 'babylone': 13970, 'beetle': 13971, 'befit': 13972, 'belove': 13973, 'bits': 13974, 'blackguards': 13975, 'blaspheme': 13976, 'blomet': 13977, 'blotting': 13978, 'blur': 13979, 'boiler': 13980, 'bowling': 13981, 'brightly': 13982, 'bunche': 13983, 'canopied': 13984, 'causeway': 13985, 'childishness': 13986, 'clank': 13987, 'clanking': 13988, 'classify': 13989, 'cloudlet': 13990, 'comet': 13991, 'compression': 13992, 'concentrated': 13993, 'confidant': 13994, 'confident': 13995, 'convent,—maternity': 13996, 'conventionality': 13997, 'coppersmith': 13998, 'corkscrew': 13999, 'cosmic': 14000, 'coutard': 14001, 'cupids': 14002, 'dahlias': 14003, 'dangle': 14004, 'debauch': 14005, 'decomposition': 14006, 'deification': 14007, 'desaugier': 14008, 'determination': 14009, 'detour': 14010, 'disdainfully': 14011, 'dishevelled': 14012, 'dislike': 14013, 'disquietude': 14014, 'disseminate': 14015, 'dray': 14016, 'drench': 14017, 'dulness': 14018, 'ecstatically': 14019, 'effacing': 14020, 'electricity': 14021, 'embalming': 14022, 'enhance': 14023, 'etc_.—who': 14024, 'evaporation': 14025, 'exclusive': 14026, 'exemption': 14027, 'exigence': 14028, 'facial': 14029, 'fascinate': 14030, 'fearful': 14031, 'fecundity': 14032, 'fern': 14033, 'fetter': 14034, 'figuier': 14035, 'fillet': 14036, 'firework': 14037, 'firmament': 14038, 'flogging': 14039, 'floréal34': 14040, 'frankness': 14041, 'furnished': 14042, 'fête': 14043, 'garland': 14044, 'gaucher': 14045, 'geography': 14046, 'germination': 14047, 'gilliflower': 14048, 'glaci': 14049, 'glass,—it': 14050, 'gnash': 14051, 'gérard': 14052, 'headgear': 14053, 'heady': 14054, 'hemlock': 14055, 'herbaut': 14056, 'herself,—and': 14057, 'honeysuckle': 14058, 'houses': 14059, 'idiotic': 14060, 'ignorantly': 14061, 'impatience': 14062, 'incensed': 14063, 'incite': 14064, 'inclination': 14065, 'incongruous': 14066, 'indemnity': 14067, 'indiscreetly': 14068, 'inertly': 14069, 'infusoria': 14070, 'inlaid': 14071, 'instinctively': 14072, 'insufferable': 14073, 'intimacy': 14074, 'japanese': 14075, 'joust': 14076, 'languor': 14077, 'largely': 14078, 'lenôtre': 14079, 'linnet': 14080, 'lodgement': 14081, 'lorn': 14082, 'louder': 14083, 'luxuriously': 14084, 'l’homme': 14085, 'malevolent': 14086, 'mans': 14087, 'mansard': 14088, 'marketing': 14089, 'microscope': 14090, 'molecule': 14091, 'monstrosity': 14092, 'mournfully': 14093, 'moving': 14094, 'mullein': 14095, 'myrmidon': 14096, 'name:—ultime': 14097, 'nearby': 14098, 'nebula': 14099, 'needlework': 14100, 'negligent': 14101, 'obstruct': 14102, 'obviate': 14103, 'ordering': 14104, 'oscillating': 14105, 'padlocked': 14106, 'pandour': 14107, 'paphos': 14108, 'parisienne': 14109, 'participle': 14110, 'pathway': 14111, 'peck': 14112, 'pedantic': 14113, 'peel': 14114, 'pitiable': 14115, 'plush': 14116, 'porcelain': 14117, 'pourri': 14118, 'pretence': 14119, 'propriety': 14120, 'rack': 14121, 'rail': 14122, 'reap': 14123, 'redeem': 14124, 'rejoicing': 14125, 'repent': 14126, 'replying': 14127, 'reprobation': 14128, 'repugnant': 14129, 'resting': 14130, 'right!”—at': 14131, 'rocaille': 14132, 'rug': 14133, 'scolding': 14134, 'selfish': 14135, 'silvery': 14136, 'sixtieth': 14137, 'snail': 14138, 'solicitude': 14139, 'sour': 14140, 'species': 14141, 'spice': 14142, 'spine': 14143, 'spontaneously': 14144, 'stammerer': 14145, 'starch': 14146, 'status': 14147, 'stealing': 14148, 'stellar': 14149, 'stood': 14150, 'storied': 14151, 'subordinating': 14152, 'tacit': 14153, 'tambour': 14154, 'tandem': 14155, 'telescope': 14156, 'tendril': 14157, 'thebaid': 14158, 'tomtit': 14159, 'toussaint': 14160, 'tunnel': 14161, 'unaccustomed': 14162, 'unconcern': 14163, 'undecipherable': 14164, 'undeclared': 14165, 'undefinable': 14166, 'ungraceful': 14167, 'unloosed': 14168, 'unobtrusive': 14169, 'unprovide': 14170, 'unspeakably': 14171, 'upward': 14172, 'varennes': 14173, 'virginity,—had': 14174, 'wagtail': 14175, 'warble': 14176, 'what,—fêtes': 14177, 'whirling': 14178, 'woodpecker': 14179, 'wrapper': 14180, 'zealous': 14181, 'zodiac': 14182, 'étagère': 14183, '”—“and': 14184, 'assailed': 14185, 'bean': 14186, 'betoken': 14187, 'blacksmith': 14188, 'burning': 14189, 'coldness,—all': 14190, 'conjure': 14191, 'contentment': 14192, 'convalescing': 14193, 'crawling': 14194, 'crook': 14195, 'delve': 14196, 'drowning': 14197, 'entangled': 14198, 'entice': 14199, 'flue': 14200, 'grocer': 14201, 'halter': 14202, 'harvester': 14203, 'humiliated': 14204, 'immensely': 14205, 'indolence': 14206, 'inflame': 14207, 'insinuate': 14208, 'intercourse': 14209, 'jerk': 14210, 'laughing': 14211, 'lazybone': 14212, 'nap': 14213, 'opportune': 14214, 'overseer': 14215, 'pernicious': 14216, 'recumbent': 14217, 'rolling': 14218, 'settlement': 14219, 'sheaf': 14220, 'tiresome': 14221, 'unnoticed': 14222, '16th': 14223, 'abide': 14224, 'adamant': 14225, 'adventuress': 14226, 'augmentation': 14227, 'beguile': 14228, 'bottom?—possibly': 14229, 'caused,—at': 14230, 'chirography': 14231, 'convalescence': 14232, 'depths?—quite': 14233, 'die!”—had': 14234, 'displeasing': 14235, 'euryanthe': 14236, 'eyelids.—“oh': 14237, 'finger,—that': 14238, 'foppish': 14239, 'friction': 14240, 'fulness': 14241, 'gate,—it': 14242, 'gillenormand,—passe': 14243, 'glacier': 14244, 'house,—you': 14245, 'impasse': 14246, 'imperishable': 14247, 'incomparable': 14248, 'knowest': 14249, 'lawn': 14250, 'leaflet': 14251, 'lieutenant,—who': 14252, 'lilac': 14253, 'lone': 14254, 'misalliance': 14255, 'miss.': 14256, 'ouf': 14257, 'parted': 14258, 'plantation': 14259, 'polish': 14260, 'potent': 14261, 'profanation': 14262, 'railing': 14263, 'respirable': 14264, 'salutation': 14265, 'sanctuary': 14266, 'scarcely': 14267, 'schapka': 14268, 'seraphic': 14269, 'smother': 14270, 'snip': 14271, 'stutter': 14272, 'sunrise,—the': 14273, 'temperament': 14274, 'undergoe': 14275, 'utmost': 14276, 'vinous': 14277, 'wane': 14278, 'wasp': 14279, 'weber': 14280, 'ye': 14281, '3d': 14282, 'afraid!—that': 14283, 'aggressive': 14284, 'aimlessly': 14285, 'alum': 14286, 'ambigu': 14287, 'applauder': 14288, 'argot': 14289, 'ascending': 14290, 'assonance': 14291, 'ate': 14292, 'austerlitz,—that': 14293, 'aviary': 14294, 'ballets': 14295, 'barge': 14296, 'bastille': 14297, 'bated': 14298, 'bathing': 14299, 'beneficially': 14300, 'bercy': 14301, 'berquin': 14302, 'blacker': 14303, 'blackish': 14304, 'blink': 14305, 'boost': 14306, 'botocudos': 14307, 'bouillon': 14308, 'bride': 14309, 'brocken': 14310, 'broker': 14311, 'brrr': 14312, 'bucolic': 14313, 'budge': 14314, 'bully': 14315, 'butts': 14316, 'callot': 14317, 'candelabra': 14318, 'carcass': 14319, 'cauterize': 14320, 'cela': 14321, 'chenier': 14322, 'clamber': 14323, 'claque': 14324, 'coil': 14325, 'compeller': 14326, 'complaining': 14327, 'continuous': 14328, 'cove': 14329, 'crac': 14330, 'cracked': 14331, 'crenellated': 14332, 'crib': 14333, 'cric': 14334, 'croup': 14335, 'c’': 14336, 'dague': 14337, 'damaged': 14338, 'darkman': 14339, 'darn': 14340, 'dauber': 14341, 'decanter': 14342, 'definiteness': 14343, 'demolished': 14344, 'deserted,—the': 14345, 'desrues': 14346, 'digue': 14347, 'dishclout': 14348, 'dogs,—this': 14349, 'dogue': 14350, 'doleful': 14351, 'dresser': 14352, 'dukes': 14353, 'efficacy': 14354, 'embody': 14355, 'endormeur': 14356, 'ensconce': 14357, 'entresol': 14358, 'escaped': 14359, 'extant': 14360, 'eyes,—these': 14361, 'fangle': 14362, 'faust': 14363, 'fed': 14364, 'feller': 14365, 'figurative': 14366, 'fine,—for': 14367, 'flagged': 14368, 'flay': 14369, 'fumade': 14370, 'gabble': 14371, 'gallicize': 14372, 'gare': 14373, 'gentlemen,”—better': 14374, 'giraffe': 14375, 'greenie': 14376, 'guelemer': 14377, 'gullet': 14378, 'happily': 14379, 'ha’penny': 14380, 'heighten': 14381, 'here!—boldly': 14382, 'hermetically': 14383, 'hieratical': 14384, 'houdancourt': 14385, 'icicaille': 14386, 'icigo': 14387, 'ideas,—that': 14388, 'impudent': 14389, 'incarceration': 14390, 'inconvenient': 14391, 'inhalation': 14392, 'instanter': 14393, 'intent': 14394, 'interpellation': 14395, 'intimately': 14396, 'investment': 14397, 'iodine': 14398, 'it!—come': 14399, 'joker': 14400, 'jonah': 14401, 'keksekça': 14402, 'kekçaa': 14403, 'kirikikiou': 14404, 'kirikikiou_,—that': 14405, 'kock': 14406, 'larton': 14407, 'lath': 14408, 'legless': 14409, 'lemaître': 14410, 'lighting': 14411, 'linseed': 14412, 'loan': 14413, 'locomotive': 14414, 'magnons': 14415, 'mar': 14416, 'marching': 14417, 'maréchale': 14418, 'masterful': 14419, 'mature': 14420, 'mayagan': 14421, 'meander': 14422, 'metallic': 14423, 'meteorological': 14424, 'monthly': 14425, 'montreuil': 14426, 'mothe': 14427, 'muffler': 14428, 'muleteer': 14429, 'musc': 14430, 'mutilation': 14431, 'méduse': 14432, 'nabbed': 14433, 'navet': 14434, 'nebulous': 14435, 'nestle': 14436, 'netting': 14437, 'on!—put': 14438, 'orme': 14439, 'osier': 14440, 'overtop': 14441, 'pal': 14442, 'paling': 14443, 'patronage': 14444, 'pavée': 14445, 'peeper': 14446, 'phosphoric': 14447, 'picking': 14448, 'pierced': 14449, 'plunder': 14450, 'pon': 14451, 'porphyry': 14452, 'porrichinelle': 14453, 'poulailler': 14454, 'premeditated': 14455, 'procuring': 14456, 'protégés': 14457, 'provisional': 14458, 'pygmy': 14459, 'pyramidal': 14460, 'qu’est': 14461, 'racket': 14462, 'raft': 14463, 'raid': 14464, 'raining': 14465, 'razor': 14466, 'registry': 14467, 'regret,”36': 14468, 'rejected': 14469, 'ridge': 14470, 'risky': 14471, 'roofer': 14472, 'rotunda': 14473, 'sanson': 14474, 'savonné': 14475, 'scared': 14476, 'secrete': 14477, 'shanty': 14478, 'sheathing': 14479, 'shopful': 14480, 'shutting': 14481, 'sicile': 14482, 'slam': 14483, 'slater': 14484, 'slouch': 14485, 'snooze': 14486, 'snug': 14487, 'soap': 14488, 'southw': 14489, 'spec': 14490, 'spray': 14491, 'sprig': 14492, 'squander': 14493, 'stalactite': 14494, 'stink': 14495, 'stipend': 14496, 'subscription': 14497, 'talisman': 14498, 'tanflûte': 14499, 'tent': 14500, 'there!—give': 14501, 'time,—entere': 14502, 'timidly,—he': 14503, 'tincture': 14504, 'topple': 14505, 'tortouse!”38': 14506, 'trellis': 14507, 'tusk': 14508, 't’other': 14509, 'uncompromise': 14510, 'unfaithful': 14511, 'united': 14512, 'unprotected': 14513, 'unsheathed': 14514, 'unwind': 14515, 'vincenne': 14516, 'vivify': 14517, 'wattle': 14518, 'whale': 14519, 'whiting': 14520, 'whiting,”35': 14521, 'widow,”37': 14522, 'windsor': 14523, 'wow': 14524, 'yoways': 14525, 'ædile': 14526, '’em': 14527, '26': 14528, 'abfxustgrnogrkzu': 14529, 'accurse': 14530, 'aceyte': 14531, 'acite': 14532, 'active': 14533, 'affurer': 14534, 'afloat': 14535, 'aille': 14536, 'allais': 14537, 'alluvial': 14538, 'amativeness': 14539, 'analogy': 14540, 'anche': 14541, 'andromeda': 14542, 'angelorum': 14543, 'annum_—is': 14544, 'anointment': 14545, 'antagonism': 14546, 'antan': 14547, 'ante': 14548, 'apt': 14549, 'archer': 14550, 'armor': 14551, 'asset': 14552, 'assimilate': 14553, 'assimilation.—the': 14554, 'assuage': 14555, 'auscultate': 14556, 'auscultation': 14557, 'avert': 14558, 'ball).—a': 14559, 'barant': 14560, 'baranton': 14561, 'barbaric': 14562, 'bart': 14563, 'bative': 14564, 'beaumelle': 14565, 'becquillard': 14566, 'bellona': 14567, 'bichot': 14568, 'blavet': 14569, 'blavin': 14570, 'blighted': 14571, 'bofeton': 14572, 'boffete': 14573, 'boiling': 14574, 'bonorgue': 14575, 'boyanches': 14576, 'bretonne': 14577, 'briareus': 14578, 'burnt,”—this': 14579, 'cadene': 14580, 'caleur': 14581, 'callumore': 14582, 'callumore41': 14583, 'camoufle': 14584, 'camouflet': 14585, 'camouflet_42': 14586, 'caravella': 14587, 'carrot': 14588, 'carvel': 14589, 'casemate': 14590, 'catena': 14591, 'cauldron': 14592, 'celtic': 14593, 'censure': 14594, 'centipede': 14595, 'chaldea': 14596, 'chancellery': 14597, 'charlot': 14598, 'chew': 14599, 'chique': 14600, 'circumscribed': 14601, 'clamor.—“what': 14602, 'clan': 14603, 'clinic': 14604, 'coche': 14605, 'cogne': 14606, 'cola': 14607, 'colabre': 14608, 'combativeness': 14609, 'combined': 14610, 'commonplace': 14611, 'consummation': 14612, 'coquer': 14613, 'costly': 14614, 'courser': 14615, 'covetousness': 14616, 'coësre': 14617, 'criminality': 14618, 'crutch': 14619, 'cub': 14620, 'cupid': 14621, 'dab': 14622, 'dabuge': 14623, 'dardant': 14624, 'diabolical': 14625, 'diagnose': 14626, 'diatribe': 14627, 'diplomatic': 14628, 'disinherited': 14629, 'dismal': 14630, 'disorganization': 14631, 'dracatholicum': 14632, 'duperré': 14633, 'duquesne': 14634, 'décarade': 14635, 'dévisser': 14636, 'd’antan': 14637, 'eject': 14638, 'elementary': 14639, 'ellipse': 14640, 'eminently': 14641, 'encamped': 14642, 'encyclopedist': 14643, 'enigmatic': 14644, 'enlightening': 14645, 'essentially': 14646, 'eugène': 14647, 'euripide': 14648, 'evaporate': 14649, 'extension': 14650, 'extinguished': 14651, 'fagot_.—and': 14652, 'farlane': 14653, 'fertanche': 14654, 'fertille': 14655, 'few': 14656, 'fife': 14657, 'filch': 14658, 'fique': 14659, 'firma': 14660, 'fly,—therein': 14661, 'forger': 14662, 'fort': 14663, 'frangere': 14664, 'frangir': 14665, 'fruitful': 14666, 'frusque': 14667, 'fultitude': 14668, 'fur': 14669, 'fuyant': 14670, 'fée': 14671, 'gabon': 14672, 'gahisto': 14673, 'gail': 14674, 'gails': 14675, 'galley,”—all': 14676, 'gat': 14677, 'gato': 14678, 'gaye': 14679, 'gaïztoa': 14680, 'gerbé': 14681, 'gigotmuche': 14682, 'glut': 14683, 'goff': 14684, 'goffeur': 14685, 'grkztntgzyal': 14686, 'guedouze': 14687, 'guenn': 14688, 'guilt': 14689, 'halberd': 14690, 'hare': 14691, 'head,—these': 14692, 'hereditary': 14693, 'herzog': 14694, 'hippogriff': 14695, 'holder': 14696, 'hung': 14697, 'iergue': 14698, 'imaum': 14699, 'impartial': 14700, 'imperishableness': 14701, 'inoculate': 14702, 'instantaneously': 14703, 'interlude': 14704, 'jaspine': 14705, 'kellner': 14706, 'lacet': 14707, 'langleviel': 14708, 'lansquine': 14709, 'larbin': 14710, 'larifla': 14711, 'lartif': 14712, 'leadsman': 14713, 'levantine': 14714, 'libertize': 14715, 'lilt': 14716, 'lineament': 14717, 'ling': 14718, 'lingre': 14719, 'lirlonfa': 14720, 'listener': 14721, 'luminous,—that': 14722, 'lune_—the': 14723, 'l’atigeur': 14724, 'l’orgue': 14725, 'l’égrugeoir': 14726, 'mac': 14727, 'magnus': 14728, 'maltèse': 14729, 'maluré': 14730, 'mandrin': 14731, 'mannikin': 14732, 'marchand': 14733, 'marked': 14734, 'marronne': 14735, 'marseille': 14736, 'mealyback': 14737, 'meck': 14738, 'meg': 14739, 'meinec': 14740, 'merloussière': 14741, 'metamorphosable': 14742, 'metaphorical': 14743, 'metonymy': 14744, 'miracles': 14745, 'miralabi': 14746, 'mirlababo': 14747, 'mirliton': 14748, 'moan': 14749, 'modena': 14750, 'momacque': 14751, 'momignard': 14752, 'monstrously': 14753, 'montgomery': 14754, 'montpellier': 14755, 'mortality': 14756, 'mortgagor': 14757, 'murky': 14758, 'ménesse': 14759, 'neige': 14760, 'neptune': 14761, 'never,—this': 14762, 'night,—this': 14763, 'nineveh': 14764, 'nourishment': 14765, 'obligation': 14766, 'onomatopœia': 14767, 'oozing': 14768, 'opoponach': 14769, 'oppressor': 14770, 'orgue': 14771, 'outbreak': 14772, 'où': 14773, 'pantre': 14774, 'parenthetically': 14775, 'patronize': 14776, 'pegasi': 14777, 'penitentiary': 14778, 'perfroschinum': 14779, 'persia': 14780, 'personification': 14781, 'pharo': 14782, 'phenomenal': 14783, 'philological': 14784, 'philologist': 14785, 'phosphorescent': 14786, 'phrenologist': 14787, 'physiocrate': 14788, 'phœnician': 14789, 'pigritia': 14790, 'pilche': 14791, 'pilcher': 14792, 'pit': 14793, 'playwright': 14794, 'pomona': 14795, 'postmegorum': 14796, 'powerless': 14797, 'pre': 14798, 'probe': 14799, 'propulsion': 14800, 'précieuse': 14801, 'puns,”—talked': 14802, 'pus': 14803, 'pustulous': 14804, 'pègrenne': 14805, 'quarte': 14806, 'rabouin': 14807, 'radish': 14808, 'raille': 14809, 'rambouillet': 14810, 'rascalion': 14811, 'ratichon': 14812, 'rebellious': 14813, 'recaptured': 14814, 'reciprocally': 14815, 'recomposition': 14816, 'refait': 14817, 'regent': 14818, 'rejuvenation': 14819, 'religions,—and': 14820, 'reptile': 14821, 'reptitalmus': 14822, 'researches': 14823, 'restif': 14824, 'ribonribette': 14825, 'ribonribo': 14826, 'ritournelle': 14827, 'rivette': 14828, 'roasting': 14829, 'romancer': 14830, 'rouge': 14831, 'roulotte': 14832, 'rousse': 14833, 'roussin': 14834, 'réguisé_.—what': 14835, 'sabri': 14836, 'sanction': 14837, 'sangli': 14838, 'scare': 14839, 'scorpion': 14840, 'scotchman': 14841, 'scrupulous': 14842, 'secretiveness': 14843, 'sheriff': 14844, 'shifter': 14845, 'siempre': 14846, 'sinve': 14847, 'slanderer': 14848, 'slobber': 14849, 'solace': 14850, 'solliciter': 14851, 'sophist': 14852, 'sorgabon': 14853, 'sorgue': 14854, 'sorgueuer': 14855, 'soufflet': 14856, 'sounding': 14857, 'spada': 14858, 'spade': 14859, 'specious': 14860, 'stagnate': 14861, 'steaming': 14862, 'substantive': 14863, 'sue': 14864, 'suffren': 14865, 'surin': 14866, 'surlababi': 14867, 'survincent': 14868, 'suslababo': 14869, 'swollen': 14870, 'syntax': 14871, 'syria': 14872, 'taf': 14873, 'tarantula': 14874, 'tarsus': 14875, 'tatterdemalion': 14876, 'taule': 14877, 'terra': 14878, 'thebes': 14879, 'this39': 14880, 'thunes': 14881, 'thuneurs': 14882, 'tier': 14883, 'tierce': 14884, 'timaloumisaine': 14885, 'timaloumison': 14886, 'tiraient': 14887, 'tortiller': 14888, 'trajectory': 14889, 'triangle,”—that': 14890, 'tricolored': 14891, 'trimaient': 14892, 'trime': 14893, 'triplicity': 14894, 'tronche_.—when': 14895, 'trouvaille': 14896, 'turgot': 14897, 'turnip': 14898, 'uche': 14899, 'upwards': 14900, 'vaccine': 14901, 'vagrancy': 14902, 'vantana': 14903, 'vantane': 14904, 'vanterne': 14905, 'vingt': 14906, 'voileci': 14907, 'vont': 14908, 'vousiergue': 14909, 'wholesomeness': 14910, 'wisp': 14911, 'wriggle': 14912, 'zone': 14913, 'être': 14914, '”40': 14915, '”43': 14916, '24th': 14917, '28th': 14918, 'absurdity': 14919, 'admonition': 14920, 'again.—“this': 14921, 'andiron': 14922, 'ardently': 14923, 'astonishingly': 14924, 'auroral': 14925, 'barony': 14926, 'belate': 14927, 'betroth': 14928, 'bitch': 14929, 'blandishment': 14930, 'blomet.—it': 14931, 'bower': 14932, 'brag': 14933, 'brusqueness': 14934, 'bug': 14935, 'busiris': 14936, 'bécoter': 14937, 'chaume': 14938, 'condensation': 14939, 'conté': 14940, 'cooing': 14941, 'cop': 14942, 'coupelevent': 14943, 'courthouse': 14944, 'culottes': 14945, 'curved': 14946, 'despondent': 14947, 'differently': 14948, 'dilapidation': 14949, 'distinguishe': 14950, 'dodu': 14951, 'enchanted': 14952, 'faite': 14953, 'fanchon': 14954, 'faublas': 14955, 'fauchewhat': 14956, 'finical': 14957, 'finnicky': 14958, 'forlorn': 14959, 'forsooth': 14960, 'garat': 14961, 'girl!—pardieu': 14962, 'glowworm': 14963, 'halted': 14964, 'he,—this': 14965, 'hearth,—he': 14966, 'heartless': 14967, 'humblot': 14968, 'hyperbole': 14969, 'immaterial': 14970, 'immutable': 14971, 'improbability': 14972, 'incroyable': 14973, 'insupportable': 14974, 'internally': 14975, 'interview': 14976, 'jambe': 14977, 'jealously': 14978, 'jew': 14979, 'jour': 14980, 'juliet': 14981, 'languidly': 14982, 'learned': 14983, 'libration': 14984, 'libretto': 14985, 'lisette': 14986, 'love,—they': 14987, 'lovingly': 14988, 'lyre': 14989, 'l’an': 14990, 'magnanimity': 14991, 'magnet': 14992, 'maidenliness': 14993, 'maman': 14994, 'mobile': 14995, 'nadir': 14996, 'nevertheless,”—it': 14997, 'nimbus': 14998, 'noiselessly': 14999, 'nonamdières': 15000, 'numskull': 15001, 'obliterate': 15002, 'oftenest': 15003, 'omnipotence': 15004, 'openhearted': 15005, 'pa': 15006, 'palsied': 15007, 'parsley': 15008, 'peg': 15009, 'penknife': 15010, 'perdu': 15011, 'petal': 15012, 'pith': 15013, 'poppet': 15014, 'positiveness': 15015, 'pousselevent': 15016, 'prelude': 15017, 'pro': 15018, 'proposal': 15019, 'prudhommes': 15020, 'pttt': 15021, 'pulseless': 15022, 'putty': 15023, 'questions': 15024, 'refrain,—“he': 15025, 'restricted': 15026, 'reunite': 15027, 'romeo': 15028, 'rousing': 15029, 'san': 15030, 'say?—let': 15031, 'scintillation': 15032, 'screech': 15033, 'see!—are': 15034, 'sequence': 15035, 'smasher': 15036, 'somme': 15037, 'sonnet': 15038, 'soulless': 15039, 'squalid': 15040, 'straightway': 15041, 'swagger': 15042, 'swans': 15043, 'swiftly': 15044, 'symphony': 15045, 'tearless': 15046, 'tenderest': 15047, 'theme': 15048, 'this,—all': 15049, 'thump': 15050, 'tremblingly': 15051, 'unbearable': 15052, 'underpinning': 15053, 'uneasily': 15054, 'unscrupulous': 15055, 'vacancy': 15056, 'veranda': 15057, 'vicinity?—why': 15058, 'voiceless': 15059, 'wandering': 15060, '”—marius': 15061, '1560': 15062, '1567': 15063, '1644': 15064, '393': 15065, '394': 15066, '411': 15067, 'aldus': 15068, 'bedding': 15069, 'besse': 15070, 'bibles': 15071, 'candide': 15072, 'chanvrerie': 15073, 'childlike': 15074, 'claimant': 15075, 'concordance': 15076, 'cosette.—“cosette': 15077, 'dignité': 15078, 'doric': 15079, 'duplicate': 15080, 'estienne': 15081, 'finder': 15082, 'florilegium': 15083, 'flung': 15084, 'grès.—“i': 15085, 'haye': 15086, 'historiques': 15087, 'horticultural': 15088, 'hotman': 15089, 'innocuous': 15090, 'laertius': 15091, 'lamarque': 15092, 'l’ambassadeur': 15093, 'manutianis': 15094, 'marguerites': 15095, 'mind,—thénardier': 15096, 'mind;—this': 15097, 'morey': 15098, 'movable': 15099, 'navarre': 15100, 'othello': 15101, 'pawnshop': 15102, 'pépin': 15103, 'quadrins': 15104, 'rabbinicum': 15105, 'riot': 15106, 'savant': 15107, 'so.—“why': 15108, 'successor': 15109, 'tibullus': 15110, 'unconcerned': 15111, 'variant': 15112, 'vatican': 15113, 'venetiis': 15114, 'villiers': 15115, 'visore': 15116, 'ædibus': 15117, '127': 15118, '1776': 15119, '1839': 15120, '53d': 15121, 'absolutism': 15122, 'alcestis': 15123, 'annale': 15124, 'anything,—it': 15125, 'approximation': 15126, 'armand': 15127, 'armorer': 15128, 'avoye': 15129, 'bank;—that': 15130, 'bared': 15131, 'barracks': 15132, 'bassompierre': 15133, 'bastille,—that': 15134, 'batave': 15135, 'bernier': 15136, 'billards': 15137, 'blancs': 15138, 'bland': 15139, 'blunt': 15140, 'bottom': 15141, 'boucher': 15142, 'bourdon': 15143, 'brandywine': 15144, 'brassard,—behold': 15145, 'brawl': 15146, 'bretonnerie': 15147, 'britanny': 15148, 'brulée': 15149, 'bugeaud': 15150, 'buzançais': 15151, 'cadenettes': 15152, 'cadran': 15153, 'capel': 15154, 'caracalla': 15155, 'carelessly': 15156, 'carrel': 15157, 'chapeau': 15158, 'chide': 15159, 'cholet': 15160, 'chouannerie': 15161, 'chronic': 15162, 'cicero,—that': 15163, 'ciceronian': 15164, 'cimitière': 15165, 'claudius': 15166, 'cloudy': 15167, 'cocoa': 15168, 'columbus,—this': 15169, 'commodus': 15170, 'comtes': 15171, 'conciseness': 15172, 'contraband': 15173, 'corderie': 15174, 'cortège': 15175, 'courbevoie': 15176, 'croix': 15177, 'cygne': 15178, 'cætera': 15179, 'demolishe': 15180, 'demonstrator': 15181, 'depress': 15182, 'dissect': 15183, 'disseminated,—that': 15184, 'domiciliary': 15185, 'dread': 15186, 'drill': 15187, 'embitter': 15188, 'evacuate': 15189, 'exalt': 15190, 'exelmans': 15191, 'extenuation': 15192, 'eyrie': 15193, 'facit': 15194, 'famine': 15195, 'filspierre': 15196, 'financial': 15197, 'fire,—such': 15198, 'firing': 15199, 'firstcomer': 15200, 'fitz': 15201, 'framework': 15202, 'fundamentally': 15203, 'gaster': 15204, 'gaul': 15205, 'germany,—all': 15206, 'gets': 15207, 'gracchi': 15208, 'grande': 15209, 'graving': 15210, 'grenetat': 15211, 'grenier': 15212, 'guardsmen': 15213, 'gymnastic': 15214, 'halle': 15215, 'haudriettes': 15216, 'hawk': 15217, 'heliogabalus': 15218, 'historically': 15219, 'hogshead': 15220, 'hébert': 15221, 'hôtel': 15222, 'impartially,—now': 15223, 'inception': 15224, 'indignatio': 15225, 'inextricable': 15226, 'insurgent': 15227, 'israel': 15228, 'jacqueline': 15229, 'james': 15230, 'jeûneurs': 15231, 'joiner': 15232, 'jura': 15233, 'juvenals': 15234, 'jéhu': 15235, 'lagrange': 15236, 'lamballe': 15237, 'langevin': 15238, 'latter,—the': 15239, 'lemarin': 15240, 'lingerie': 15241, 'lombards': 15242, 'lombier': 15243, 'louviers': 15244, 'ludwig': 15245, 'l’ancre': 15246, 'magazine': 15247, 'maison': 15248, 'mandar': 15249, 'manslaughterer': 15250, 'manteaux': 15251, 'masaniello': 15252, 'mavot': 15253, 'mayoralities': 15254, 'mayoralty': 15255, 'mediation': 15256, 'miquelets': 15257, 'montmartre': 15258, 'morland': 15259, 'mysteriously': 15260, 'ménétriers': 15261, 'neros': 15262, 'neutrality': 15263, 'nonaindières': 15264, 'ovation': 15265, 'pacification': 15266, 'pantheon!—lafayette': 15267, 'patmos': 15268, 'perle': 15269, 'pertain': 15270, 'petits': 15271, 'petto': 15272, 'philintus': 15273, 'phocian': 15274, 'pirate': 15275, 'poltroon': 15276, 'polytechnique': 15277, 'pomp': 15278, 'ponceau': 15279, 'pretot': 15280, 'progrèss': 15281, 'prompter': 15282, 'pélagie': 15283, 'quagmire': 15284, 'quénisset': 15285, 'radcliffe': 15286, 'ramus': 15287, 'raze': 15288, 'recital': 15289, 'reichstadt': 15290, 'repulsiveness': 15291, 'resort': 15292, 'riot,—and': 15293, 'rioter': 15294, 'royale': 15295, 'rubbing': 15296, 'rubicon': 15297, 'saumon': 15298, 'seconded': 15299, 'sectionarie': 15300, 'sedition': 15301, 'seething': 15302, 'sept': 15303, 'sharpen': 15304, 'sinking': 15305, 'sinuous': 15306, 'snapping': 15307, 'snyder': 15308, 'sodom': 15309, 'squabble': 15310, 'stoned,—that': 15311, 'stripe': 15312, 'suffrage': 15313, 'swamp': 15314, 'swiss': 15315, 'syene': 15316, 'tacituses': 15317, 'terray': 15318, 'tiberii': 15319, 'townhall': 15320, 'traversière': 15321, 'trenton': 15322, 'triumphing': 15323, 'truanderie': 15324, 'turkish': 15325, 'unharnessed': 15326, 'unpave': 15327, 'uttering': 15328, 'vendome': 15329, 'vendémiaire': 15330, 'verdets': 15331, 'verre': 15332, 'veterans': 15333, 'victoires': 15334, 'vidette': 15335, 'villainy': 15336, 'vins': 15337, 'violated': 15338, 'vitellius': 15339, 'warehouse': 15340, 'watchwords': 15341, 'waterspout': 15342, 'withdrawing': 15343, 'yataghan': 15344, 'écossais': 15345, 'accoutre': 15346, 'amelot': 15347, 'apocryphe': 15348, 'apprentice': 15349, 'armuyr': 15350, 'avoir': 15351, 'awfully': 15352, 'bacheux': 15353, 'baour': 15354, 'basse': 15355, 'baudoyer': 15356, 'behead': 15357, 'bellum': 15358, 'billettes': 15359, 'bordeau': 15360, 'botte': 15361, 'brandishing': 15362, 'broadside': 15363, 'bu': 15364, 'butt': 15365, 'calf!—at': 15366, 'cataplasm': 15367, 'ces': 15368, 'charlotte': 15369, 'chirping': 15370, 'comme': 15371, 'concierge': 15372, 'conquered': 15373, 'convention,—an': 15374, 'core': 15375, 'crash': 15376, 'cravatless': 15377, 'crebleu': 15378, 'croak': 15379, 'cursed': 15380, 'dearer': 15381, 'demandait': 15382, 'dog.45': 15383, 'doggy': 15384, 'duffer': 15385, 'fastidious': 15386, 'fervor': 15387, 'fleeing': 15388, 'forêt': 15389, 'gaunt': 15390, 'gossiping': 15391, 'grive': 15392, 'grotte': 15393, 'hag': 15394, 'hatless': 15395, 'hercle': 15396, 'hoop': 15397, 'horrid': 15398, 'jurait': 15399, 'laburnum': 15400, 'learning': 15401, 'lenten': 15402, 'lesdiguière': 15403, 'longshoreman': 15404, 'lormian': 15405, 'loup': 15406, 'lune': 15407, 'l’autre': 15408, 'l’orme': 15409, 'l’un': 15410, 'macbeth': 15411, 'mame': 15412, 'moineaux': 15413, 'moneyed': 15414, 'nini': 15415, 'nuit': 15416, 'n’ai': 15417, 'overshoot': 15418, 'paddle': 15419, 'para': 15420, 'paraît': 15421, 'parc': 15422, 'pastry': 15423, 'patagon': 15424, 'patched': 15425, 'pauvres': 15426, 'pindaric': 15427, 'pointu!44': 15428, 'poodle': 15429, 'potpourri': 15430, 'pratiquez': 15431, 'punctuate': 15432, 'quadruple': 15433, 'qu’un': 15434, 'qu’une': 15435, 'ratisbon': 15436, 'retinue': 15437, 'riait': 15438, 'ribotte': 15439, 'rien': 15440, 'rosée': 15441, 'sacrait': 15442, 'scotland': 15443, 'scramble': 15444, 'shakedown': 15445, 'shalt': 15446, 'simmer': 15447, 'sniffle': 15448, 'soiled': 15449, 'soûl': 15450, 'storehouse': 15451, 's’ébouriffe': 15452, 'tearer': 15453, 'them,—student': 15454, 'there,—at': 15455, 'thorigny': 15456, 'thrusts': 15457, 'thym': 15458, 'tigre': 15459, 'tou': 15460, 'triggerless': 15461, 'trio': 15462, 'très': 15463, 'tutu': 15464, 'twa': 15465, 'vargoulême': 15466, 'vertu': 15467, 'veuvain': 15468, 'villainously': 15469, 'voici': 15470, 'voit': 15471, 'witch': 15472, 'zag': 15473, 'zi': 15474, 'zig': 15475, 'écrit': 15476, 'étaient': 15477, '”46': 15478, 'abberent': 15479, 'abi': 15480, 'accentuation': 15481, 'acid': 15482, 'adire': 15483, 'aile': 15484, 'ainsi': 15485, 'ajoutant': 15486, 'amant': 15487, 'ami': 15488, 'amoureuse': 15489, 'amoureux': 15490, 'anceau': 15491, 'ans': 15492, 'applique': 15493, 'area': 15494, 'astre': 15495, 'aubépines_)—to': 15496, 'augustines': 15497, 'avait': 15498, 'avec': 15499, 'avocat': 15500, 'avon': 15501, 'awl': 15502, 'bais': 15503, 'baisais': 15504, 'baldy': 15505, 'bambino': 15506, 'bankeress': 15507, 'banquet': 15508, 'barius': 15509, 'battledore': 15510, 'beau': 15511, 'beaux': 15512, 'beerglass': 15513, 'bini': 15514, 'biped?51': 15515, 'blowsy': 15516, 'blunderbuss': 15517, 'bol': 15518, 'bonté': 15519, 'booted': 15520, 'bording': 15521, 'boreali': 15522, 'bouche': 15523, 'bouche.48': 15524, 'bouge': 15525, 'bouh': 15526, 'branle': 15527, 'brennus': 15528, 'breul': 15529, 'bronzed': 15530, 'brûlé': 15531, 'buckshot': 15532, 'bucolique': 15533, 'bushy': 15534, 'bégaye': 15535, 'cabuc': 15536, 'cache': 15537, 'cachés': 15538, 'capitoul52': 15539, 'carafe': 15540, 'carnival': 15541, 'carpe': 15542, 'carpes': 15543, 'carte': 15544, 'catarrh': 15545, 'centibe': 15546, 'changés': 15547, 'chanter': 15548, 'chanverrerie': 15549, 'chap': 15550, 'chaque': 15551, 'charmant': 15552, 'charmé': 15553, 'cher': 15554, 'cheveux': 15555, 'chiffon': 15556, 'chromate': 15557, 'cieux': 15558, 'clarinet': 15559, 'clink': 15560, 'clusians': 15561, 'clusium': 15562, 'comport': 15563, 'comption': 15564, 'confederation': 15565, 'contemplait': 15566, 'conventional': 15567, 'corinthe,—out': 15568, 'corinthum': 15569, 'corset': 15570, 'counterpane': 15571, 'crippled': 15572, 'crosswise': 15573, 'croyaient': 15574, 'crus': 15575, 'céleste': 15576, 'cœurs': 15577, 'dauphine': 15578, 'daylight,—this': 15579, 'deepening': 15580, 'deteriorate': 15581, 'dethrone': 15582, 'detonation': 15583, 'dire': 15584, 'disembowel': 15585, 'disgusting': 15586, 'dit': 15587, 'dithryamb': 15588, 'divin': 15589, 'dix': 15590, 'dod’t': 15591, 'donc': 15592, 'donnais': 15593, 'doré': 15594, 'douce': 15595, 'drogheda': 15596, 'drunkenness': 15597, 'dè': 15598, 'décoiffée': 15599, 'défendu': 15600, 'déjà': 15601, 'démontrais': 15602, 'dévorant': 15603, 'dîner': 15604, 'd’aurore': 15605, 'd’autre': 15606, 'd’avril': 15607, 'd’ombre': 15608, 'd’être': 15609, 'egyptian': 15610, 'ellipsis': 15611, 'elongate': 15612, 'embouchure': 15613, 'enraptured': 15614, 'entendais': 15615, 'envie': 15616, 'envolé': 15617, 'equanimity': 15618, 'eques': 15619, 'eunuchs': 15620, 'exceptional': 15621, 'execrable': 15622, 'eyelet': 15623, 'faisaient': 15624, 'fearfully': 15625, 'featherless': 15626, 'feu': 15627, 'fi': 15628, 'fichus': 15629, 'fidenæ': 15630, 'financier': 15631, 'flatness': 15632, 'floral': 15633, 'flot': 15634, 'fois': 15635, 'formic': 15636, 'formidably': 15637, 'frais': 15638, 'franciscans': 15639, 'gargoyle': 15640, 'gastronomical': 15641, 'gatch': 15642, 'gaîment': 15643, 'ged': 15644, 'gentlewoman': 15645, 'gib': 15646, 'gibelotte': 15647, 'gibelotte,49': 15648, 'gibou': 15649, 'glaris': 15650, 'goo': 15651, 'grapes': 15652, 'gras': 15653, 'greni': 15654, 'groom': 15655, 'guardsman': 15656, 'gulp': 15657, 'gunshot': 15658, 'habite': 15659, 'ham': 15660, 'hasardeux': 15661, 'hashish': 15662, 'hatchway': 15663, 'haughtily': 15664, 'here,—until': 15665, 'heureux': 15666, 'hindrance': 15667, 'ho': 15668, 'hod': 15669, 'hohée': 15670, 'hora': 15671, 'houris': 15672, 'hucheloup': 15673, 'hurried': 15674, 'imminence': 15675, 'incentive': 15676, 'inconsolable': 15677, 'incredulous': 15678, 'inebriety': 15679, 'inexactness': 15680, 'infringe': 15681, 'inspirer': 15682, 'intense': 15683, 'it.—“ah': 15684, 'japon': 15685, 'jeune': 15686, 'jolie': 15687, 'joyeux': 15688, 'jugular': 15689, 'jupon': 15690, 'j’errais': 15691, 'j’étais': 15692, 'kingly': 15693, 'labyrinthine': 15694, 'lacer': 15695, 'lançait': 15696, 'lebeuf': 15697, 'licet': 15698, 'lint': 15699, 'lorsque': 15700, 'lorsqu’en': 15701, 'lu': 15702, 'lub': 15703, 'là': 15704, 'lèvre': 15705, 'l’aube': 15706, 'l’effet': 15707, 'l’endroit': 15708, 'l’hiver': 15709, 'l’oses.50': 15710, 'malebranche': 15711, 'malheurs': 15712, 'manchon': 15713, 'mange': 15714, 'mantelet': 15715, 'margaric': 15716, 'mariette': 15717, 'marié': 15718, 'marron': 15719, 'mart': 15720, 'marvellously': 15721, 'masquais': 15722, 'melted': 15723, 'membranous': 15724, 'menais': 15725, 'mendiant': 15726, 'minims': 15727, 'minion': 15728, 'mirant': 15729, 'miroir': 15730, 'mis': 15731, 'mitron': 15732, 'mobs': 15733, 'mock': 15734, 'mohammed': 15735, 'mohammedanism': 15736, 'mois': 15737, 'morgue': 15738, 'motley': 15739, 'motto': 15740, 'mouche': 15741, 'mug': 15742, 'munition': 15743, 'myrtle': 15744, 'mythological': 15745, 'mémoire': 15746, 'ménage': 15747, 'm’en': 15748, 'm’étais': 15749, 'natoire': 15750, 'neighborliness': 15751, 'nez': 15752, 'nombre': 15753, 'northeast': 15754, 'n’avait': 15755, 'n’avions': 15756, 'ogrepine': 15757, 'opium': 15758, 'oriental': 15759, 'orthographer': 15760, 'passant': 15761, 'pauvre': 15762, 'pendit.47': 15763, 'perdre': 15764, 'peux': 15765, 'pip': 15766, 'piquais': 15767, 'plastron': 15768, 'platon': 15769, 'plein': 15770, 'pointe': 15771, 'postern': 15772, 'poteau': 15773, 'pourrait': 15774, 'pox': 15775, 'prado': 15776, 'première': 15777, 'prenais': 15778, 'pressant': 15779, 'printemp': 15780, 'pris': 15781, 'prodigality': 15782, 'profonds!53': 15783, 'propos': 15784, 'proprietress': 15785, 'prêcheurs': 15786, 'puritan': 15787, 'pygmalion': 15788, 'pâle': 15789, 'quarante': 15790, 'quels': 15791, 'query': 15792, 'qu’elle': 15793, 'qu’en': 15794, 'raisin': 15795, 'rambuteau': 15796, 'rangle': 15797, 'rappelez': 15798, 'rappelle': 15799, 'ras': 15800, 'recite': 15801, 'reckless': 15802, 'redbreast': 15803, 'redhaired': 15804, 'regnier': 15805, 'reminiscence': 15806, 'restai': 15807, 'reste': 15808, 'retaliation': 15809, 'retourner': 15810, 'rire': 15811, 'roost': 15812, 'roysterer': 15813, 'ruban': 15814, 'régale': 15815, 'répondu': 15816, 's': 15817, 'saddler': 15818, 'salient': 15819, 'sans': 15820, 'sauval': 15821, 'scrawling': 15822, 'se': 15823, 'seamstress': 15824, 'seduce': 15825, 'sensuous': 15826, 'servait': 15827, 'sinuosity': 15828, 'skilled': 15829, 'slander': 15830, 'slung': 15831, 'snowball': 15832, 'soir': 15833, 'soumise': 15834, 'souper': 15835, 'soupir': 15836, 'souple': 15837, 'spurn': 15838, 'squelette': 15839, 'strategical': 15840, 'sturdy': 15841, 's’asseyait': 15842, 'tasse': 15843, 'taudis': 15844, 'tendre': 15845, 'tes': 15846, 'themis': 15847, 'theophilus': 15848, 'thermopylæ': 15849, 'thine': 15850, 'tirais': 15851, 'titian': 15852, 'toi': 15853, 'tous': 15854, 'tremendously': 15855, 'tulipe': 15856, 'turks': 15857, 'twinkle': 15858, 'tymbræus': 15859, 't’adorais': 15860, 't’en': 15861, 't’obéissais': 15862, 'ubiquity': 15863, 'unhesitatingly': 15864, 'uri': 15865, 'vendu': 15866, 'venir': 15867, 'verrue': 15868, 'victis': 15869, 'vie': 15870, 'vitre': 15871, 'vitriol': 15872, 'vivion': 15873, 'voir': 15874, 'vol': 15875, 'volsci': 15876, 'voyais': 15877, 'væ': 15878, 'wand': 15879, 'warped': 15880, 'widen': 15881, 'winedock': 15882, 'wishing': 15883, 'worn': 15884, 'âge': 15885, 'âme': 15886, 'éclos': 15887, 'épingle': 15888, 'épouvente': 15889, 'étiez': 15890, 'étion': 15891, 'étonne': 15892, 'agreement': 15893, 'ambiorix': 15894, 'arnould': 15895, 'arostogeiton': 15896, 'artevelde': 15897, 'auction': 15898, 'blankenheim': 15899, 'bourdonnais': 15900, 'béthisy': 15901, 'cadaverous': 15902, 'champaubert': 15903, 'clasping': 15904, 'confiscation': 15905, 'conflicting': 15906, 'contrat': 15907, 'cæsarian': 15908, 'defender': 15909, 'degrading': 15910, 'descried': 15911, 'desmoulin': 15912, 'exaction': 15913, 'foggy': 15914, 'foreigner': 15915, 'geographical': 15916, 'gully': 15917, 'heartbroken': 15918, 'hedgerow': 15919, 'indentation': 15920, 'invest': 15921, 'junk': 15922, 'lag': 15923, 'laiter': 15924, 'leonida': 15925, 'marnix': 15926, 'meant': 15927, 'meurice': 15928, 'milan': 15929, 'moors': 15930, 'palais': 15931, 'patriotism': 15932, 'pelagius': 15933, 'poirées': 15934, 'poterie': 15935, 'princes': 15936, 'prouvaires': 15937, 'rectification': 15938, 'resisting': 15939, 'roule': 15940, 'soul,—and': 15941, 'territory,—but': 15942, 'thrasybulus': 15943, 'timoleon': 15944, 'turin': 15945, 'untrue': 15946, 'von': 15947, 'wail': 15948, 'widening': 15949, '7': 15950, 'assaulted': 15951, 'birdlike': 15952, 'bleue': 15953, 'blockade': 15954, 'boldest': 15955, 'bung': 15956, 'but,—a': 15957, 'bystander': 15958, 'capote': 15959, 'cocorico!54': 15960, 'comprehend,—“to': 15961, 'dampen': 15962, 'dead.—i': 15963, 'dearest': 15964, 'disencumber': 15965, 'entrenched': 15966, 'entrenchment': 15967, 'feels': 15968, 'forward,—the': 15969, 'glistening': 15970, 'gorget': 15971, 'grandeurs': 15972, 'impending': 15973, 'insurgents,—all': 15974, 'intermission': 15975, 'inundation': 15976, 'irresolute': 15977, 'larme': 15978, 'leu': 15979, 'leur': 15980, 'levee': 15981, 'moi': 15982, 'mot': 15983, 'multiple': 15984, 'obedience,—all': 15985, 'outlet': 15986, 'poule': 15987, 'prête': 15988, 'ramrod': 15989, 'reload': 15990, 'rivulets': 15991, 'répète': 15992, 'sauvon': 15993, 'shako': 15994, 'sorrowful': 15995, 'spurt': 15996, 'stony': 15997, 'third': 15998, 'tryste': 15999, 'undoubtedly': 16000, 'voyant': 16001, 'wherewith': 16002, 'accelerate': 16003, 'agnès': 16004, 'alla': 16005, 'archives': 16006, 'atala': 16007, 'auvergene': 16008, 'auvergnat': 16009, 'babille': 16010, 'barneville': 16011, 'barricaded': 16012, 'bisbille': 16013, 'blotter': 16014, 'boule': 16015, 'brilles': 16016, 'brioche': 16017, 'brûla': 16018, 'buffet': 16019, 'béquille': 16020, 'camel': 16021, 'casson': 16022, 'charmille': 16023, 'chickens55': 16024, 'cogna': 16025, 'coiffe': 16026, 'collapse': 16027, 'conjuration': 16028, 'convulse': 16029, 'coups': 16030, 'crois': 16031, 'damnerais': 16032, 'disinterested': 16033, 'disobey': 16034, 'disorderly': 16035, 'ditty': 16036, 'doom': 16037, 'drôlesse': 16038, 'décolla': 16039, 'embalmed': 16040, 'encore': 16041, 'endurance': 16042, 'equipment': 16043, 'extinguisher': 16044, 'falbala': 16045, 'felicitous': 16046, 'feline': 16047, 'feverishly': 16048, 'foolishly': 16049, 'forcé': 16050, 'fusion': 16051, 'gentille': 16052, 'grill': 16053, 'griserait': 16054, 'grosse': 16055, 'hated': 16056, 'headache': 16057, 'holà': 16058, 'inflexibility': 16059, 'inquisition': 16060, 'inviolability': 16061, 'jadis': 16062, 'jouer': 16063, 'leurs': 16064, 'lighter': 16065, 'lise': 16066, 'lola': 16067, 'lon': 16068, 'l’a': 16069, 'l’ancien': 16070, 'l’ombre': 16071, 'l’ordre': 16072, 'mal': 16073, 'mantille': 16074, 'man’s': 16075, 'mettre': 16076, 'mila': 16077, 'monarchie': 16078, 'médit': 16079, 'mêla': 16080, 'm’allumant': 16081, 'm’appela': 16082, 'm’ensorcela': 16083, 'noise,—made': 16084, 'optimism': 16085, 'orfila': 16086, 'paler': 16087, 'paméla': 16088, 'pantomime': 16089, 'parce': 16090, 'peuple': 16091, 'pierrot': 16092, 'plane': 16093, 'plis': 16094, 'plucking': 16095, 'prétend': 16096, 'quadrille': 16097, 'quelqu’un': 16098, 'quille': 16099, 'qu’hier': 16100, 'rapidity': 16101, 'reawakening': 16102, 'reconnaisance': 16103, 'recurrence': 16104, 'regardez': 16105, 'regenerated': 16106, 'reversal': 16107, 'roula': 16108, 'russe': 16109, 'sensibility': 16110, 'sortant': 16111, 'stella': 16112, 'subsoil': 16113, 'suzette': 16114, 's’envola': 16115, 's’écroula': 16116, 's’étala': 16117, 'treacherously': 16118, 't’habilles': 16119, 'unobjectionable': 16120, 'upheaval': 16121, 'urchindom': 16122, 'vais': 16123, 'veut': 16124, 'vindictiveness': 16125, 'vis': 16126, 'vulgarly': 16127, 'zéila': 16128, 'étoiles': 16129, '”56': 16130, '”57': 16131, '11th': 16132, 'a+b.': 16133, 'abarbarea': 16134, 'abdoman': 16135, 'ablerus': 16136, 'ablution': 16137, 'abundance': 16138, 'ac': 16139, 'accentuated': 16140, 'acceptable': 16141, 'accomplishment': 16142, 'acropoli': 16143, 'african': 16144, 'agamemnon': 16145, 'aggregation': 16146, 'aimé': 16147, 'ajax': 16148, 'aldebaran': 16149, 'alluvium': 16150, 'alternated': 16151, 'amiably': 16152, 'amphictyon': 16153, 'anacharsis': 16154, 'anatomy': 16155, 'angélique': 16156, 'antilochus': 16157, 'antæus': 16158, 'aquafortis': 16159, 'arbiter': 16160, 'archimedes': 16161, 'aretaon': 16162, 'arisba': 16163, 'aristogiton': 16164, 'armament': 16165, 'army]—who': 16166, 'artillerist': 16167, 'askance': 16168, 'astyalus': 16169, 'attacking': 16170, 'audeat': 16171, 'awaking': 16172, 'axis': 16173, 'axylus': 16174, 'bacchanalia': 16175, 'back,—may': 16176, 'ballistic': 16177, 'balm': 16178, 'barague': 16179, 'barking': 16180, 'bastion': 16181, 'battlement': 16182, 'bauce': 16183, 'bayard': 16184, 'beetling': 16185, 'bertin': 16186, 'besieger': 16187, 'bidding': 16188, 'blameless': 16189, 'boulder': 16190, 'bowl,—threatene': 16191, 'bracket': 16192, 'brahmanism': 16193, 'breakfasting': 16194, 'breastwork': 16195, 'brilliantly': 16196, 'broaden': 16197, 'brothers?”—“you': 16198, 'bucolion': 16199, 'bulk': 16200, 'butchery': 16201, 'bête': 16202, 'cabbage': 16203, 'canaan': 16204, 'caparison': 16205, 'caper': 16206, 'caractère': 16207, 'carnation': 16208, 'carolina': 16209, 'case:—“what': 16210, 'casing': 16211, 'caster': 16212, 'cavaignac': 16213, 'chaffinch': 16214, 'chambre': 16215, 'chapter,—there': 16216, 'chereas': 16217, 'chickweed': 16218, 'civic': 16219, 'classification': 16220, 'cleanly': 16221, 'cloots': 16222, 'colossi': 16223, 'combating': 16224, 'comforting': 16225, 'commingle': 16226, 'compunction': 16227, 'condottiere': 16228, 'conferring': 16229, 'consistent': 16230, 'corday': 16231, 'cosette:—“i': 16232, 'cossonerie': 16233, 'counselling': 16234, 'counting': 16235, 'courfeyrac:—“those': 16236, 'cournand': 16237, 'cournet': 16238, 'crenelate': 16239, 'crinoline': 16240, 'crossway': 16241, 'cue': 16242, 'cuirrassier': 16243, 'curb': 16244, 'curvature': 16245, 'cydathenæum': 16246, 'cyllene': 16247, 'dallemagne': 16248, 'dawn,—it': 16249, 'demoralize': 16250, 'demos': 16251, 'desolation': 16252, 'despair,—the': 16253, 'destructive': 16254, 'dicere': 16255, 'dilettante': 16256, 'din': 16257, 'diomede': 16258, 'disabled': 16259, 'disculpate': 16260, 'dissecting': 16261, 'dissuade': 16262, 'dole': 16263, 'dresos': 16264, 'dunkerque': 16265, 'd’aix': 16266, 'edapteon': 16267, 'elatos': 16268, 'emblazon': 16269, 'enjolras.—“the': 16270, 'entablature': 16271, 'enthusiast': 16272, 'entreating': 16273, 'entreaty': 16274, 'entr’acte': 16275, 'epaulement': 16276, 'ephyra': 16277, 'epidotas': 16278, 'epilepsy': 16279, 'erecting': 16280, 'esepius': 16281, 'esplandian': 16282, 'euphetes': 16283, 'euripylus': 16284, 'euryalus': 16285, 'excusable': 16286, 'exit.—“a': 16287, 'exploit': 16288, 'expression,—this': 16289, 'fallen': 16290, 'falstaff': 16291, 'falsum': 16292, 'fame': 16293, 'fannicot': 16294, 'faute': 16295, 'febrile': 16296, 'fevere': 16297, 'fichtre': 16298, 'fickleness': 16299, 'figured': 16300, 'finch': 16301, 'finite': 16302, 'fisher': 16303, 'fixity': 16304, 'flaccid': 16305, 'fluttering': 16306, 'fonfrède': 16307, 'forfeiture': 16308, 'fraternization': 16309, 'frederic': 16310, 'fresco': 16311, 'fry': 16312, 'full': 16313, 'garnier': 16314, 'genuflection': 16315, 'geometrician': 16316, 'georgics': 16317, 'gerard': 16318, 'gestation': 16319, 'gibbosity': 16320, 'gloved': 16321, 'goethe': 16322, 'goldfinch': 16323, 'governmentalism': 16324, 'governmentalist': 16325, 'gravilliers': 16326, 'grew': 16327, 'griffin': 16328, 'grimaced': 16329, 'grown': 16330, 'guerillero': 16331, 'gunner': 16332, 'gut': 16333, 'headless': 16334, 'headsman': 16335, 'helmete': 16336, 'her.—and': 16337, 'hieratic': 16338, 'him.—a': 16339, 'hooping': 16340, 'hopeless': 16341, 'horseless': 16342, 'hug': 16343, 'hyphen': 16344, 'imbricate': 16345, 'immoral': 16346, 'importunity': 16347, 'inactive': 16348, 'incriminate': 16349, 'infantryman': 16350, 'influenced': 16351, 'infusoriæ': 16352, 'intermittence': 16353, 'interstice': 16354, 'intervening': 16355, 'invenerunt': 16356, 'involutum': 16357, 'irascible': 16358, 'irreligious': 16359, 'jag': 16360, 'joie': 16361, 'joist': 16362, 'kept': 16363, 'kiss,—and': 16364, 'lacedæmonian': 16365, 'laggard': 16366, 'laurium': 16367, 'lave': 16368, 'legally': 16369, 'lex': 16370, 'limousin': 16371, 'lividly': 16372, 'locked': 16373, 'lookout': 16374, 'loveliness': 16375, 'loyal': 16376, 'lullaby': 16377, 'luxembourg,—for': 16378, 'lycia': 16379, 'lyrically': 16380, 'magnificently': 16381, 'malfilâtre': 16382, 'mane': 16383, 'marignan': 16384, 'marksman': 16385, 'martingale': 16386, 'mastic': 16387, 'materially': 16388, 'mecistæus': 16389, 'meganthio': 16390, 'megaryon': 16391, 'men,—[and': 16392, 'men:—“there': 16393, 'mercantile': 16394, 'meritorious': 16395, 'mesdame': 16396, 'mibray': 16397, 'mimi': 16398, 'mislay': 16399, 'missionary': 16400, 'missouri': 16401, 'misère': 16402, 'mitraille': 16403, 'monteynard': 16404, 'morion': 16405, 'morning.—it': 16406, 'mortuary': 16407, 'mural': 16408, 'mutation': 16409, 'myrrhinus': 16410, 'mævius': 16411, 'naiad': 16412, 'necker': 16413, 'nerval': 16414, 'nesting': 16415, 'nimbleness': 16416, 'nimbly': 16417, 'noiseless': 16418, 'notch': 16419, 'noticed': 16420, 'noxious': 16421, 'null': 16422, 'obligatory': 16423, 'obscurest': 16424, 'ochlocracy': 16425, 'oiseau': 16426, 'olympian': 16427, 'omnipotent': 16428, 'on.—“i': 16429, 'onwards': 16430, 'opheltios': 16431, 'orbis,”_—the': 16432, 'originator': 16433, 'ossa': 16434, 'other.—“it': 16435, 'otos': 16436, 'outpouring': 16437, 'oversight': 16438, 'palaiseau': 16439, 'palely': 16440, 'pallas': 16441, 'palmiped': 16442, 'pannis': 16443, 'parabola': 16444, 'paris,—all': 16445, 'parvulum': 16446, 'patria': 16447, 'pedasus': 16448, 'pelion': 16449, 'pene': 16450, 'penumbra': 16451, 'peppery': 16452, 'percosius': 16453, 'perfuming': 16454, 'phyles': 16455, 'pidytes': 16456, 'pitilessly': 16457, 'planche': 16458, 'plantain': 16459, 'pledge': 16460, 'plug': 16461, 'plum': 16462, 'pointing': 16463, 'poirier': 16464, 'poirée': 16465, 'politically': 16466, 'polydamas': 16467, 'polypætes': 16468, 'powerfully': 16469, 'prairial': 16470, 'present,—two': 16471, 'primary': 16472, 'probalinthus': 16473, 'promethean': 16474, 'prophecy': 16475, 'prosiness': 16476, 'prostration': 16477, 'prouder': 16478, 'psychological': 16479, 'quadriga': 16480, 'quincunxe': 16481, 'quixote': 16482, 'radiantly': 16483, 'rafter': 16484, 'raux': 16485, 'reclining': 16486, 'reconnaissance': 16487, 'refine': 16488, 'regia': 16489, 'relegate': 16490, 'religionist': 16491, 'reorganization': 16492, 'restive': 16493, 'riddled': 16494, 'rife': 16495, 'rocky': 16496, 'roland': 16497, 'rootless': 16498, 'rottenness': 16499, 'ruisseau': 16500, 'rustling': 16501, 'sacrificed': 16502, 'said:—“it': 16503, 'saidst': 16504, 'salamander': 16505, 'sash': 16506, 'satiate': 16507, 'satnoïs': 16508, 'saturnalia': 16509, 'savagery': 16510, 'savior': 16511, 'sawbone': 16512, 'says:—“capitulate,”—palafox': 16513, 'scamper': 16514, 'scanty': 16515, 'scarron': 16516, 'scissors,—take': 16517, 'sentimental': 16518, 'serried': 16519, 'shakspeare': 16520, 'shapelessness': 16521, 'shoal': 16522, 'shouted:—“come': 16523, 'shouted:—“there': 16524, 'shudder.—“how': 16525, 'signe': 16526, 'simonians': 16527, 'sinai': 16528, 'sisyphus': 16529, 'slackening': 16530, 'sleeper': 16531, 'smoke.—“what': 16532, 'snarl': 16533, 'snowstorm': 16534, 'socially': 16535, 'solem': 16536, 'solstice': 16537, 'sphinxes': 16538, 'spitting': 16539, 'splashing': 16540, 'startled': 16541, 'starving': 16542, 'steer': 16543, 'stephanus': 16544, 'stiffness': 16545, 'still': 16546, 'stipulate': 16547, 'stoically': 16548, 'straggle': 16549, 'streaming': 16550, 'strife': 16551, 'suchet': 16552, 'suction': 16553, 'suis': 16554, 'supporter': 16555, 'surface,—all': 16556, 'swantibore': 16557, 'swords': 16558, 'synonymous': 16559, 'target': 16560, 'tattoo': 16561, 'tearing': 16562, 'telegraphic': 16563, 'temerity': 16564, 'tenable': 16565, 'terrific': 16566, 'teucer': 16567, 'teuthranis': 16568, 'thebe': 16569, 'thorny': 16570, 'thoroughfare': 16571, 'thrive': 16572, 'tombé': 16573, 'topsyturveydom': 16574, 'torpid': 16575, 'tractable': 16576, 'tradunt': 16577, 'transfix': 16578, 'translator': 16579, 'trousseau': 16580, 'troy': 16581, 'trunnion': 16582, 'tyrannica': 16583, 'ulysses': 16584, 'unaccompanie': 16585, 'unaided': 16586, 'unanimously': 16587, 'unbound': 16588, 'underwent': 16589, 'uniformity': 16590, 'unseated': 16591, 'unwelded': 16592, 'uprise': 16593, 'valid': 16594, 'veda': 16595, 'vendemiaire': 16596, 'vertus': 16597, 'veto': 16598, 'violator': 16599, 'virtuoso': 16600, 'visé': 16601, 'vitælampada': 16602, 'voice:—“number': 16603, 'vulcan': 16604, 'waif': 16605, 'walker': 16606, 'wavering': 16607, 'whack': 16608, 'windowsill': 16609, 'winged': 16610, 'wreathe': 16611, 'wroth': 16612, 'yvon': 16613, 'zaatcha': 16614, 'zouave': 16615, 'zoïlus': 16616, 'æantides': 16617, '”—and': 16618, '”—at': 16619, '”—enjolras': 16620, '”—hence': 16621, '”—“it': 16622, '”—“you': 16623, '1412': 16624, '1550': 16625, '1600': 16626, '1650': 16627, '1663': 16628, '1740': 16629, '1800': 16630, '1802': 16631, '1810': 16632, '1833': 16633, '1836': 16634, 'abased': 16635, 'abraham': 16636, 'accurate': 16637, 'adamite': 16638, 'adige': 16639, 'adjunct': 16640, 'alexandrine': 16641, 'analogous': 16642, 'approximative': 16643, 'arbalète': 16644, 'articulation': 16645, 'atlantic': 16646, 'aubervillier': 16647, 'augean': 16648, 'aérostier': 16649, 'bamboo': 16650, 'bandbox': 16651, 'banquette': 16652, 'barillerie': 16653, 'barthélemys': 16654, 'batelière': 16655, 'bathtub': 16656, 'batiste': 16657, 'behemoth': 16658, 'benares': 16659, 'bernardins': 16660, 'biches': 16661, 'blanche': 16662, 'blemish': 16663, 'bridges': 16664, 'brooks': 16665, 'bruneseau': 16666, 'brusquely': 16667, 'calcareous': 16668, 'cassis_.60': 16669, 'centimetre': 16670, 'chauffeur': 16671, 'cicatrix': 16672, 'cleaner': 16673, 'cleanse': 16674, 'clichy': 16675, 'collecting': 16676, 'comparable': 16677, 'concrete': 16678, 'conducive': 16679, 'convex': 16680, 'coronet': 16681, 'covering': 16682, 'crossing': 16683, 'créqui': 16684, 'crétet': 16685, 'cynically': 16686, 'cœcum': 16687, 'datum': 16688, 'decrès': 16689, 'denudation': 16690, 'depuratory': 16691, 'desaix': 16692, 'detritus': 16693, 'digestive': 16694, 'disinfect': 16695, 'disinfection': 16696, 'disk': 16697, 'dismally': 16698, 'domesticity': 16699, 'done?”—“he': 16700, 'drainage': 16701, 'duct': 16702, 'duleau': 16703, 'duprat': 16704, 'dædalus': 16705, 'd’antin': 16706, 'eckberg': 16707, 'economically': 16708, 'elbowing': 16709, 'escaut': 16710, 'evasion': 16711, 'expedition': 16712, 'fagon': 16713, 'fecundating': 16714, 'fertility': 16715, 'fertilizer': 16716, 'fetidness': 16717, 'fineness': 16718, 'fleurus': 16719, 'florentin': 16720, 'fluid': 16721, 'fo': 16722, 'foix': 16723, 'folie': 16724, 'fourcroy': 16725, 'froidmanteau': 16726, 'fungi,—one': 16727, 'geological': 16728, 'germoniæ58': 16729, 'ghetto': 16730, 'gourdes': 16731, 'gousset': 16732, 'groping': 16733, 'guano': 16734, 'handiwork': 16735, 'hectare': 16736, 'hiatus': 16737, 'homage': 16738, 'humid': 16739, 'hurepoix': 16740, 'hurleur': 16741, 'imitator': 16742, 'impoverish': 16743, 'instructive': 16744, 'intestine': 16745, 'it.—“sire': 16746, 'it?”—“to': 16747, 'jewry': 16748, 'joyfully': 16749, 'judengasse': 16750, 'junot': 16751, 'jurassic': 16752, 'kekscheb': 16753, 'khorassan': 16754, 'kian': 16755, 'laine': 16756, 'lannes': 16757, 'lappe': 16758, 'laubespine': 16759, 'lavbesp': 16760, 'leakage': 16761, 'lebel': 16762, 'leyden': 16763, 'liebig': 16764, 'lowering': 16765, 'lumière': 16766, 'lutetia': 16767, 'l’écharpe': 16768, 'l’échaudé': 16769, 'macchiavelli': 16770, 'madrepore': 16771, 'maillotin': 16772, 'malignant': 16773, 'mandé': 16774, 'margoton': 16775, 'marl': 16776, 'marmousets': 16777, 'martyrs': 16778, 'maximum': 16779, 'mazarine': 16780, 'menalchme': 16781, 'mercier': 16782, 'miasmas': 16783, 'misunderstood': 16784, 'mokanna': 16785, 'monarchs': 16786, 'monnot': 16787, 'morin': 16788, 'mortellerie': 16789, 'mound': 16790, 'moutardes_.59': 16791, 'méricourt': 16792, 'münster': 16793, 'nargaud': 16794, 'nazareth': 16795, 'numerically': 16796, 'nutrition': 16797, 'ourang': 16798, 'out,—that': 16799, 'outan': 16800, 'outpour': 16801, 'oxen': 16802, 'parasitism': 16803, 'parchment': 16804, 'penguin': 16805, 'perforate': 16806, 'pestilence': 16807, 'pestilential': 16808, 'petrel': 16809, 'phalasar': 16810, 'picareria': 16811, 'poisson': 16812, 'polypus': 16813, 'pouring': 16814, 'provostship': 16815, 'puking': 16816, 'pumping': 16817, 'purge': 16818, 'putrid': 16819, 'quicksand': 16820, 'rabbinical': 16821, 'rencounter': 16822, 'residuum': 16823, 'respective': 16824, 'retrospectively': 16825, 'roads': 16826, 'rodent': 16827, 'roquette': 16828, 'rudimentary': 16829, 'sabin': 16830, 'sardinia': 16831, 'scabby': 16832, 'scavenger': 16833, 'schistose': 16834, 'scientifically': 16835, 'sewerman': 16836, 'slend': 16837, 'sonnerie': 16838, 'spangle': 16839, 'spittle': 16840, 'stables': 16841, 'statisticians': 16842, 'submerge': 16843, 'tame': 16844, 'teglath': 16845, 'tenfold': 16846, 'tergiversation': 16847, 'terrible,—such': 16848, 'thames': 16849, 'this,—goe': 16850, 'thyme': 16851, 'tournon': 16852, 'transmutation': 16853, 'tributary': 16854, 'tristan': 16855, 'tubular': 16856, 'tumor': 16857, 'typhu': 16858, 'tyre': 16859, 'unbreathable': 16860, 'uncleanness': 16861, 'understate': 16862, 'urbi': 16863, 'valuation': 16864, 'valve': 16865, 'vestige': 16866, 'vesture': 16867, 'victoire': 16868, 'vide': 16869, 'vieille': 16870, 'vienne': 16871, 'vileness': 16872, 'villette': 16873, 'walled': 16874, 'watching': 16875, 'western': 16876, 'yonne': 16877, 'you,—do': 16878, 'zuyderzee': 16879, '”—“what': 16880, 'again,—that': 16881, 'ammonia': 16882, 'apprenticeship': 16883, 'apropos': 16884, 'attestation': 16885, 'battue': 16886, 'beach': 16887, 'beautreillis': 16888, 'beget': 16889, 'bifurcated': 16890, 'blaise': 16891, 'boatman': 16892, 'bousingot': 16893, 'brack': 16894, 'carrion': 16895, 'carême': 16896, 'categorically': 16897, 'chafe': 16898, 'charnier': 16899, 'clamp': 16900, 'clarence': 16901, 'clubbist': 16902, 'connected': 16903, 'constants': 16904, 'contingency': 16905, 'corcelle': 16906, 'corneæ': 16907, 'crescendo': 16908, 'cuticle': 16909, 'daintily': 16910, 'deafness': 16911, 'deepen': 16912, 'deliverer': 16913, 'densely': 16914, 'dilated': 16915, 'disembarking': 16916, 'disfigured': 16917, 'dislocation': 16918, 'dividing': 16919, 'drizzling': 16920, 'ds': 16921, 'd’anjou': 16922, 'd’escoubleau': 16923, 'earthy': 16924, 'effectually': 16925, 'ejaculation': 16926, 'embellish': 16927, 'encase': 16928, 'enumerate': 16929, 'escoubleau': 16930, 'f': 16931, 'fainter': 16932, 'famed': 16933, 'filthy': 16934, 'fireside': 16935, 'flooding': 16936, 'fluidity': 16937, 'fontis': 16938, 'frantic': 16939, 'friability': 16940, 'gaping': 16941, 'gash': 16942, 'gehenna': 16943, 'gilles': 16944, 'gliding': 16945, 'glimmer': 16946, 'gratify': 16947, 'heaping': 16948, 'hemorrhage': 16949, 'hider': 16950, 'humiliating': 16951, 'hydrogen': 16952, 'impressive': 16953, 'inconsistency': 16954, 'intuitively': 16955, 'invisibility': 16956, 'ironically': 16957, 'it,—place': 16958, 'jamb': 16959, 'juncture': 16960, 'laceration': 16961, 'lafayettes': 16962, 'landslip': 16963, 'leander': 16964, 'lethargic': 16965, 'loquacious': 16966, 'lunière': 16967, 'lynx': 16968, 'lérida': 16969, 'malvoisie': 16970, 'matériaux_—small': 16971, 'moment,—instead': 16972, 'moret': 16973, 'obligingly': 16974, 'obviously': 16975, 'opaqueness': 16976, 'ossify': 16977, 'outspreading': 16978, 'parried': 16979, 'parrot': 16980, 'parthénon': 16981, 'partner': 16982, 'passably': 16983, 'perishe': 16984, 'personally': 16985, 'phew': 16986, 'philippeaux': 16987, 'phosphorescence': 16988, 'pitfall': 16989, 'poignard': 16990, 'pointer': 16991, 'porous': 16992, 'poutrain': 16993, 'prenant': 16994, 'prying': 16995, 'purposely': 16996, 'pyramus': 16997, 'ramify': 16998, 'receiver': 16999, 'register': 17000, 'rift': 17001, 'riverside': 17002, 'rumbling': 17003, 'sabred': 17004, 'scribbler': 17005, 'sebastian': 17006, 'shirk': 17007, 'singly': 17008, 'skiff': 17009, 'sleuth': 17010, 'slime': 17011, 'slough': 17012, 'soaked': 17013, 'softness': 17014, 'somnolence': 17015, 'staple': 17016, 'stiffly': 17017, 'stoppage': 17018, 'strata': 17019, 'stratum': 17020, 'stre': 17021, 'stupid”—the': 17022, 'sulfurette': 17023, 'surgical': 17024, 'suspension': 17025, 'swung': 17026, 'thirdly': 17027, 'thisbe': 17028, 'tirecuir': 17029, 'truncate': 17030, 'ts': 17031, 'unclouded': 17032, 'underfoot': 17033, 'unlooke': 17034, 'upstream': 17035, 'variable': 17036, 'vaulting': 17037, 'verbal': 17038, 'viscous': 17039, 'vitreous': 17040, 'waken': 17041, 'watershed': 17042, 'zs': 17043, '7th': 17044, 'akin': 17045, 'automatic': 17046, 'barker': 17047, 'being,—and': 17048, 'canteen': 17049, 'captive': 17050, 'clement': 17051, 'comma': 17052, 'constantly,—one': 17053, 'credible': 17054, 'deprave': 17055, 'derailment': 17056, 'diagonally': 17057, 'disjoint': 17058, 'disobedient': 17059, 'disordered': 17060, 'eighthly': 17061, 'established': 17062, 'excuses?—yes': 17063, 'executory': 17064, 'fampoux': 17065, 'feature,—thu': 17066, 'fifthly': 17067, 'glazed': 17068, 'grip,—what': 17069, 'handing': 17070, 'helpful': 17071, 'him,—that': 17072, 'him,—this': 17073, 'him:—“it': 17074, 'imaginable': 17075, 'inadequate': 17076, 'incomprehensibility': 17077, 'infallibility': 17078, 'legislation': 17079, 'limited': 17080, 'l’égyptienne': 17081, 'measurement': 17082, 'merciful': 17083, 'mme': 17084, 'mégisserie': 17085, 'ninthly': 17086, 'ormes': 17087, 'passed:—“here': 17088, 'pilate': 17089, 'pontius': 17090, 'prevention': 17091, 'rebel': 17092, 'saucer': 17093, 'seventhly': 17094, 'sixthly': 17095, 'snake': 17096, 'stand,—and': 17097, 'stoker': 17098, 'submit,—that': 17099, 'supervise': 17100, 'tenthly': 17101, 'thus,—and': 17102, 'unjustifiable': 17103, 'unseat': 17104, 'uprightness': 17105, 'vastness': 17106, 'weaving': 17107, 'what,—all': 17108, 'whirlpool': 17109, '1787': 17110, 'achilles': 17111, 'acte': 17112, 'agony.—many': 17113, 'alcippe': 17114, 'aldobrandini': 17115, 'alençon': 17116, 'amphitrite': 17117, 'annoyance': 17118, 'annoyed': 17119, 'argiraspide': 17120, 'atmospheric': 17121, 'aunt,—it': 17122, 'auricula': 17123, 'authenticated': 17124, 'aïe': 17125, 'baroness': 17126, 'beech': 17127, 'bi': 17128, 'bickering': 17129, 'binche': 17130, 'birague': 17131, 'blaru': 17132, 'blindfold': 17133, 'blossoms.—“it': 17134, 'bluntly': 17135, 'bornant': 17136, 'boulard': 17137, 'boulatreulle': 17138, 'bretons': 17139, 'bridegroom': 17140, 'bygone': 17141, 'callous': 17142, 'carouse': 17143, 'carquois': 17144, 'castanet': 17145, 'cerebral': 17146, 'cesspool,—more': 17147, 'chabot': 17148, 'chante': 17149, 'chanteloup': 17150, 'chaperon': 17151, 'chivalry': 17152, 'chlorurette': 17153, 'colonnade': 17154, 'colorless': 17155, 'conclusive': 17156, 'concoct': 17157, 'conque': 17158, 'contumacious': 17159, 'contumacy': 17160, 'conveyance': 17161, 'cosettes': 17162, 'cot': 17163, 'cours': 17164, 'courting': 17165, 'crumpled': 17166, 'cujas': 17167, 'cunne': 17168, 'curmudgeon': 17169, 'dawn,—that': 17170, 'defensive': 17171, 'devant': 17172, 'diane': 17173, 'diomed': 17174, 'dorante': 17175, 'dryads': 17176, 'dur': 17177, 'd’anville': 17178, 'd’une': 17179, 'eburnea': 17180, 'eglantine': 17181, 'eliminate': 17182, 'empyrean': 17183, 'enchantment': 17184, 'ending': 17185, 'euchology': 17186, 'externally': 17187, 'eyelashe': 17188, 'fauchelevent.—“this': 17189, 'fauchelevents': 17190, 'festive': 17191, 'fixation': 17192, 'florian': 17193, 'flushed': 17194, 'footprint': 17195, 'fougère': 17196, 'fried': 17197, 'fripon': 17198, 'frippery': 17199, 'frivolity': 17200, 'fruitlessness': 17201, 'fury:—“by': 17202, 'galland': 17203, 'gamacho': 17204, 'games': 17205, 'gangrene': 17206, 'gavotte': 17207, 'gewgaw': 17208, 'glade': 17209, 'goldsmith': 17210, 'grandfather.—and': 17211, 'gratuity': 17212, 'greenish': 17213, 'guillery': 17214, 'guillot': 17215, 'guipure': 17216, 'hair,—such': 17217, 'haversack': 17218, 'heartrende': 17219, 'hector': 17220, 'helen': 17221, 'hell,—the': 17222, 'himself.—“we': 17223, 'iliad': 17224, 'immovably': 17225, 'impassible': 17226, 'inconsistently': 17227, 'indies': 17228, 'inexcusable': 17229, 'inopportunely': 17230, 'javotte': 17231, 'juste': 17232, 'j’adore': 17233, 'kinsman': 17234, 'knickknack': 17235, 'lacerated': 17236, 'lampa': 17237, 'legacy': 17238, 'lesion': 17239, 'live,—from': 17240, 'loftiness': 17241, 'love,—or': 17242, 'lucid': 17243, 'lustily': 17244, 'maries': 17245, 'mer': 17246, 'merciless': 17247, 'meriones': 17248, 'mets': 17249, 'midnight,—midday': 17250, 'millionairess': 17251, 'modestly': 17252, 'montbazon': 17253, 'mummy': 17254, 'muss': 17255, 'namur': 17256, 'narquois': 17257, 'necessitate': 17258, 'nereids': 17259, 'nestor': 17260, 'neutralize': 17261, 'nid': 17262, 'nitrate': 17263, 'nolle': 17264, 'notoriété': 17265, 'née': 17266, 'obsession': 17267, 'octavo': 17268, 'odorless': 17269, 'outraged': 17270, 'palsy': 17271, 'parure': 17272, 'paunch': 17273, 'pettifogging': 17274, 'phyllis': 17275, 'phœbe': 17276, 'phœbus': 17277, 'pie': 17278, 'porter,—came': 17279, 'prosequi': 17280, 'prune': 17281, 'prunelle': 17282, 'quiconque!”65': 17283, 'quittance': 17284, 'ravissait': 17285, 'ravissant': 17286, 'recaptured,—which': 17287, 'regency': 17288, 'remotest': 17289, 'resentful': 17290, 'retrospective': 17291, 'rigadoon': 17292, 'robespierre.—“the': 17293, 'rêvasserie': 17294, 'sabinus': 17295, 'sarmatians': 17296, 'sarpejou': 17297, 'scandalized': 17298, 'scion': 17299, 'scrimp': 17300, 'shaved': 17301, 'slightingly': 17302, 'smoothed': 17303, 'spruce': 17304, 'strasburg': 17305, 'studentesse': 17306, 'suicide.—“in': 17307, 'sumptuousness': 17308, 'suppuration': 17309, 'sylph': 17310, 'tapecu': 17311, 'teton': 17312, 'thatch': 17313, 'therefrom': 17314, 'thistle': 17315, 'thouars': 17316, 'tint': 17317, 'tirait': 17318, 'tityrus': 17319, 'torpor': 17320, 'tranchelevent': 17321, 'triton': 17322, 'trottait': 17323, 'turris': 17324, 'turtledove': 17325, 'unassailable': 17326, 'uncoiffed.62': 17327, 'unstopped': 17328, 'ventregoulette': 17329, 'versailles': 17330, 'vexatious': 17331, 'vrai': 17332, 'waked': 17333, 'waterworks': 17334, 'years.—“let': 17335, 'yourself:—‘i’m': 17336, 'zigzag': 17337, '”61': 17338, '”63': 17339, '”64': 17340, '”—on': 17341, 'ailment': 17342, 'aristophanes': 17343, 'bacchanal': 17344, 'bamboche': 17345, 'banns': 17346, 'barras': 17347, 'baucis': 17348, 'buffoon': 17349, 'cachuca': 17350, 'cajole': 17351, 'candelabrum': 17352, 'carat': 17353, 'cassandras': 17354, 'censer': 17355, 'chartre': 17356, 'chloe': 17357, 'churchill': 17358, 'citadine': 17359, 'clacs': 17360, 'clic': 17361, 'clowns': 17362, 'collé': 17363, 'columbine': 17364, 'columbines': 17365, 'contented,—that': 17366, 'coo': 17367, 'corrosive': 17368, 'dandify': 17369, 'daphnis': 17370, 'defy': 17371, 'demagogical': 17372, 'disaggregate': 17373, 'disgraceful': 17374, 'embroidered': 17375, 'enfant': 17376, 'estelle': 17377, 'excoriation': 17378, 'exquisiteness': 17379, 'faïence': 17380, 'fortunata': 17381, 'fortunatus': 17382, 'fulfilment': 17383, 'gillenormand.—“pardieu': 17384, 'gillenormand—“because': 17385, 'girandole': 17386, 'glassware': 17387, 'gold,—the': 17388, 'gris': 17389, 'grotesqueness': 17390, 'gyration': 17391, 'habiliment': 17392, 'handmaiden': 17393, 'harlequinade': 17394, 'harley': 17395, 'haydn': 17396, 'immodest': 17397, 'index': 17398, 'ingrat': 17399, 'irrecoverable': 17400, 'irrevocable': 17401, 'janot': 17402, 'landau': 17403, 'lighterman': 17404, 'longchamps,—of': 17405, 'lonjumeau': 17406, 'loup_,67': 17407, 'loved,—this': 17408, 'lustre': 17409, 'malbrouck': 17410, 'mardi': 17411, 'mariage': 17412, 'marlborough': 17413, 'marrying': 17414, 'mascarade': 17415, 'masker': 17416, 'masquerade': 17417, 'merrymaking': 17418, 'methusalem': 17419, 'morbus': 17420, 'morn': 17421, 'mænads': 17422, 'nosegay': 17423, 'notwithstanding': 17424, 'n’aura': 17425, 'obstruction': 17426, 'overflow,—propose': 17427, 'panard': 17428, 'pantaloon': 17429, 'pantinois': 17430, 'paris,—let': 17431, 'participation': 17432, 'patchouli': 17433, 'peristyle': 17434, 'philemon': 17435, 'piron': 17436, 'portmanteau': 17437, 'pourrée': 17438, 'preen': 17439, 'proverb': 17440, 'quintuple': 17441, 'quirk': 17442, 'rapée': 17443, 'ravished': 17444, 'rebuke': 17445, 'rein': 17446, 'repaving': 17447, 'ribboned': 17448, 'sancy': 17449, 'saperlotte': 17450, 'sconce': 17451, 'seymour': 17452, 'sham': 17453, 'shamelessness': 17454, 'signing': 17455, 'silversmith': 17456, 'songs': 17457, 'straws': 17458, 'sublimated': 17459, 'sublimation': 17460, 'submersion': 17461, 'suisse': 17462, 'sunless': 17463, 'supervising': 17464, 'surge': 17465, 'taffeta': 17466, 'tapissière': 17467, 'thespis': 17468, 'tournois': 17469, 'trinity': 17470, 'tuesdays': 17471, 'unbribable': 17472, 'unperceive': 17473, 'vadé': 17474, 'vantbrace': 17475, 'vehicles.—“why': 17476, 'ventre': 17477, 'wainscoting': 17478, 'yesse': 17479, '’66': 17480, '”—applause': 17481, '”—“capital': 17482, 'admitted,—it': 17483, 'all,—is': 17484, 'amend': 17485, 'avowal': 17486, 'bouloy': 17487, 'chrysali': 17488, 'congratulation': 17489, 'crushed': 17490, 'curtsey': 17491, 'dandified': 17492, 'deity': 17493, 'demigod': 17494, 'disapprove': 17495, 'disarray': 17496, 'dishonest': 17497, 'dismayed': 17498, 'dreadful': 17499, 'duster': 17500, 'educating': 17501, 'exfoliate': 17502, 'faithfully': 17503, 'flaw': 17504, 'forced': 17505, 'forgery': 17506, 'garden,—bird': 17507, 'girlhood': 17508, 'grandpapa': 17509, 'habilitation': 17510, 'incoherent': 17511, 'indissoluble': 17512, 'irrefragable': 17513, 'lightening': 17514, 'little,—he': 17515, 'mate': 17516, 'orbit': 17517, 'other,—vancouver': 17518, 'overleap': 17519, 'pairing': 17520, 'remit': 17521, 'retro': 17522, 'reward': 17523, 'spattering': 17524, 'therewith': 17525, 'unroll': 17526, 'vade': 17527, 'vendetta': 17528, 'vindicte': 17529, 'voyages': 17530, 'wantonly': 17531, 'withstand': 17532, 'world,—it': 17533, 'added:—“nothe': 17534, 'adorably': 17535, 'afternoon,—it': 17536, 'alleviate': 17537, 'calvaire.—“madame': 17538, 'canaples': 17539, 'ceile': 17540, 'cosette:—“we': 17541, 'decree:—“he': 17542, 'disinclined': 17543, 'eyeball': 17544, 'fascinated': 17545, 'followed': 17546, 'garniture': 17547, 'gillyflower': 17548, 'happinesse': 17549, 'hearth.—“hello': 17550, 'here,—there': 17551, 'himself.—“it': 17552, 'hou': 17553, 'inlay': 17554, 'jewelled': 17555, 'minstrel': 17556, 'onlooker': 17557, 'own,—preferring': 17558, 'pavillons': 17559, 'perplexed': 17560, 'plumet,—live': 17561, 'rosewood': 17562, 'snapdragon': 17563, 'soldering': 17564, 'springtide,—marius': 17565, 'staircase,—all': 17566, 'trois': 17567, 'twinge': 17568, 'ugliest': 17569, 'use?—his': 17570, '”—“ah': 17571, '”—“that': 17572, '25th': 17573, 'acadenmy': 17574, 'adjure': 17575, 'anvil': 17576, 'apportion': 17577, 'arriva': 17578, 'au-': 17579, 'awate': 17580, 'azalea': 17581, 'bagration': 17582, 'baron:—if': 17583, 'beardless': 17584, 'bump': 17585, 'calumniator': 17586, 'cannibal': 17587, 'cashmere': 17588, 'castelcicala': 17589, 'cesspool,—all': 17590, 'chose': 17591, 'cience': 17592, 'clew': 17593, 'coagulate': 17594, 'coarsely': 17595, 'cohabit': 17596, 'complaisant,—but': 17597, 'cooling': 17598, 'costumer': 17599, 'dambray': 17600, 'daylight,—it': 17601, 'debilitate': 17602, 'defilement': 17603, 'der': 17604, 'didst': 17605, 'dier': 17606, 'diligently': 17607, 'diplomat': 17608, 'dort': 17609, 'dowered': 17610, 'd’elle': 17611, 'eccellence': 17612, 'effacement': 17613, 'entichamber': 17614, 'exertion': 17615, 'fain': 17616, 'flick': 17617, 'forearm': 17618, 'forgiveness': 17619, 'fût': 17620, 'himself,—by': 17621, 'holding': 17622, 'hollowing': 17623, 'honorabel': 17624, 'husband:—“the': 17625, 'huseful': 17626, 'induction': 17627, 'informed': 17628, 'inhabitant:—“you': 17629, 'inhabitants,—that': 17630, 'intelligible': 17631, 'ja': 17632, 'jewellery': 17633, 'journey?”—“that': 17634, 'joya': 17635, 'knavery': 17636, 'laconicism': 17637, 'laffitte,—i': 17638, 'lichen': 17639, 'limitation': 17640, 'loadstone': 17641, 'lordship': 17642, 'lovest': 17643, 'lure': 17644, 'magnetism': 17645, 'marital': 17646, 'mourut': 17647, 'norway': 17648, 'n’eut': 17649, 'palpitating': 17650, 'panama': 17651, 'parley': 17652, 'pendulous': 17653, 'peruke': 17654, 'pitt': 17655, 'pommerci': 17656, 'porcupine': 17657, 'proletarian': 17658, 'quoique': 17659, 'reciprocle': 17660, 'regrettedest': 17661, 'rehabilitate': 17662, 'revealer': 17663, 'robin': 17664, 'rummager': 17665, 'rustler': 17666, 'sculpture': 17667, 'shellac': 17668, 'shouldst': 17669, 'simplement': 17670, 'sleight': 17671, 'somebody': 17672, 'strawberry': 17673, 'summer,—he': 17674, 'tattered': 17675, 'throbbing': 17676, 'thénard': 17677, 'trowser': 17678, 'turpentine': 17679, 'twang': 17680, 'ungracious': 17681, 'unlocked': 17682, 'unprepossesse': 17683, 'unskilful': 17684, 'utterest': 17685, 'vivait': 17686, 'wheedle': 17687, 'yew': 17688, 'york': 17689, 'étrange': 17690, '”69': 17691}\n"
          ]
        }
      ],
      "source": [
        "dictionary = gensim.corpora.Dictionary(texts)\n",
        "print(len(dictionary))\n",
        "print(dictionary.token2id)"
      ]
    },
    {
      "cell_type": "markdown",
      "source": [
        "La méthode `dictionary.doc2bow(text)` va maintenant traduire un texte donné en corpus bag-of-words. Cela nous donnera un liste de couples (id_token, fréquence). On va traduire tout le corpus avec une compréhension de liste."
      ],
      "metadata": {
        "id": "OEFBHcJ4KdIt"
      }
    },
    {
      "cell_type": "code",
      "execution_count": null,
      "metadata": {
        "colab": {
          "base_uri": "https://localhost:8080/"
        },
        "id": "-0KjNxsy4DRC",
        "outputId": "04650e72-abcb-4630-e8e5-033cd5d7f42c"
      },
      "outputs": [
        {
          "output_type": "execute_result",
          "data": {
            "text/plain": [
              "[(0, 1),\n",
              " (1, 1),\n",
              " (2, 1),\n",
              " (3, 1),\n",
              " (4, 1),\n",
              " (5, 1),\n",
              " (6, 1),\n",
              " (7, 1),\n",
              " (8, 1),\n",
              " (9, 1)]"
            ]
          },
          "metadata": {},
          "execution_count": 50
        }
      ],
      "source": [
        "corpus = [dictionary.doc2bow(text) for text in texts]\n",
        "corpus[0][:10]"
      ]
    },
    {
      "cell_type": "markdown",
      "source": [
        "En passant le corpus bag-of-words dans la construction d'un objet `gensim.models.TfidfModel`, on peut obtenir cette fois notre corpus avec pondération tf-idf."
      ],
      "metadata": {
        "id": "2M3JWyXBLF-D"
      }
    },
    {
      "cell_type": "code",
      "execution_count": null,
      "metadata": {
        "colab": {
          "base_uri": "https://localhost:8080/"
        },
        "id": "FKXnln1F6sAZ",
        "outputId": "58cf7528-a383-41a6-ad8b-4d27bf88ff6a"
      },
      "outputs": [
        {
          "output_type": "execute_result",
          "data": {
            "text/plain": [
              "[(0, 0.21328200090566832),\n",
              " (1, 0.005678175633485706),\n",
              " (2, 0.02243538781190908),\n",
              " (3, 0.2594998581730436),\n",
              " (4, 0.21328200090566832),\n",
              " (5, 0.015219892820999606),\n",
              " (6, 0.02635877076414738),\n",
              " (7, 0.002778663447252602),\n",
              " (8, 0.050430517347871656),\n",
              " (9, 0.12084628637091777)]"
            ]
          },
          "metadata": {},
          "execution_count": 51
        }
      ],
      "source": [
        "tfidf = TfidfModel(corpus)\n",
        "corpus_tfidf = tfidf[corpus]\n",
        "corpus_tfidf[0][:10]"
      ]
    },
    {
      "cell_type": "markdown",
      "source": [
        "Nous allons afficher ici les 10 mots avec la plus grande pondération tf-idf dans chacun de nos documents. On affiche le résultat dans une DataFrame. On voit que ces mots sont assez représentatifs des différents livres."
      ],
      "metadata": {
        "id": "QFn-cnFYLYru"
      }
    },
    {
      "cell_type": "code",
      "execution_count": null,
      "metadata": {
        "colab": {
          "base_uri": "https://localhost:8080/",
          "height": 474
        },
        "id": "2xR9JUGU70lb",
        "outputId": "df22c6a4-961f-4f02-f76c-263289863511"
      },
      "outputs": [
        {
          "output_type": "execute_result",
          "data": {
            "text/plain": [
              "             0              1            2            3           4   \\\n",
              "0    misérables         bishop     magloire    favourite  thénardier   \n",
              "1  artificially       magloire       bishop    tholomyès      outfit   \n",
              "2     crippling         myriel      valjean  blachevelle   tholomyès   \n",
              "3    hauteville    monseigneur  monseigneur       dahlia     romance   \n",
              "4       preface              d   baptistine      zéphine       swing   \n",
              "5      unsolved     baptistine     nineteen    listolier       truck   \n",
              "6     world;—in       bienvenu     knapsack      fantine     cosette   \n",
              "7          1862  conventionary      gervais     bombarda     fantine   \n",
              "8      asphyxia              g      labarre      fameuil    hostelry   \n",
              "9     pauperism     convention       madame         1817        fore   \n",
              "\n",
              "           5             6             7          8           9   ...  \\\n",
              "0   madeleine     madeleine       tilbury    fantine  wellington  ...   \n",
              "1     fantine         mayor     president     javert  cuirassier  ...   \n",
              "2      javert        javert   scaufflaire  madeleine    waterloo  ...   \n",
              "3       mayor           mr.         arras   simplice     english  ...   \n",
              "4         sur  champmathieu     madeleine      maire   hougomont  ...   \n",
              "5    workroom       fantine      simplice     sister     blücher  ...   \n",
              "6  marguerite        brevet         usher    valjean     genappe  ...   \n",
              "7          m.       valjean  champmathieu      mayor      battle  ...   \n",
              "8       maire        docket         maire        nun        haie  ...   \n",
              "9        town    faverolles   wheelwright   portress     plateau  ...   \n",
              "\n",
              "          39            40            41       42             43  \\\n",
              "0   gavroche      enjolras         sewer    sewer         javert   \n",
              "1        lon     barricade     bruneseau  valjean        valjean   \n",
              "2         où     insurgent         metre   marius           quay   \n",
              "3      fille       redoubt      cesspool   javert        canteen   \n",
              "4       vont    combeferre         filth   fontis       châtelet   \n",
              "5    valjean      gavroche  subterranean     sand        parapet   \n",
              "6      belle        marius          city    beach        handing   \n",
              "7    cosette     cartridge        manure    shore      him,—this   \n",
              "8    blotter  insurrection        trench     jean  infallibility   \n",
              "9  auvergnat        cannon         marat     quay        convict   \n",
              "\n",
              "             44            45            46         47          48  \n",
              "0        marius       wedding        marius    cosette      marius  \n",
              "1  boulatruelle        masker       cosette    valjean     cosette  \n",
              "2  gillenormand       cosette       valjean     basque       baron  \n",
              "3       cosette  gillenormand  fauchelevent       jean     valjean  \n",
              "4  fauchelevent       valjean          jean  nicolette  thénardier  \n",
              "5       wedding        marius        basque     marius         thy  \n",
              "6   grandfather        shrove     pontmercy      adieu     changer  \n",
              "7         marry         bride       convict     filles        thou  \n",
              "8       chénier      fishwife           sir   armchair   pontmercy  \n",
              "9         andré         sancy        motive       armé       didst  \n",
              "\n",
              "[10 rows x 49 columns]"
            ],
            "text/html": [
              "\n",
              "  <div id=\"df-544e5a87-57cf-47ad-a0f1-77b697074e93\">\n",
              "    <div class=\"colab-df-container\">\n",
              "      <div>\n",
              "<style scoped>\n",
              "    .dataframe tbody tr th:only-of-type {\n",
              "        vertical-align: middle;\n",
              "    }\n",
              "\n",
              "    .dataframe tbody tr th {\n",
              "        vertical-align: top;\n",
              "    }\n",
              "\n",
              "    .dataframe thead th {\n",
              "        text-align: right;\n",
              "    }\n",
              "</style>\n",
              "<table border=\"1\" class=\"dataframe\">\n",
              "  <thead>\n",
              "    <tr style=\"text-align: right;\">\n",
              "      <th></th>\n",
              "      <th>0</th>\n",
              "      <th>1</th>\n",
              "      <th>2</th>\n",
              "      <th>3</th>\n",
              "      <th>4</th>\n",
              "      <th>5</th>\n",
              "      <th>6</th>\n",
              "      <th>7</th>\n",
              "      <th>8</th>\n",
              "      <th>9</th>\n",
              "      <th>...</th>\n",
              "      <th>39</th>\n",
              "      <th>40</th>\n",
              "      <th>41</th>\n",
              "      <th>42</th>\n",
              "      <th>43</th>\n",
              "      <th>44</th>\n",
              "      <th>45</th>\n",
              "      <th>46</th>\n",
              "      <th>47</th>\n",
              "      <th>48</th>\n",
              "    </tr>\n",
              "  </thead>\n",
              "  <tbody>\n",
              "    <tr>\n",
              "      <th>0</th>\n",
              "      <td>misérables</td>\n",
              "      <td>bishop</td>\n",
              "      <td>magloire</td>\n",
              "      <td>favourite</td>\n",
              "      <td>thénardier</td>\n",
              "      <td>madeleine</td>\n",
              "      <td>madeleine</td>\n",
              "      <td>tilbury</td>\n",
              "      <td>fantine</td>\n",
              "      <td>wellington</td>\n",
              "      <td>...</td>\n",
              "      <td>gavroche</td>\n",
              "      <td>enjolras</td>\n",
              "      <td>sewer</td>\n",
              "      <td>sewer</td>\n",
              "      <td>javert</td>\n",
              "      <td>marius</td>\n",
              "      <td>wedding</td>\n",
              "      <td>marius</td>\n",
              "      <td>cosette</td>\n",
              "      <td>marius</td>\n",
              "    </tr>\n",
              "    <tr>\n",
              "      <th>1</th>\n",
              "      <td>artificially</td>\n",
              "      <td>magloire</td>\n",
              "      <td>bishop</td>\n",
              "      <td>tholomyès</td>\n",
              "      <td>outfit</td>\n",
              "      <td>fantine</td>\n",
              "      <td>mayor</td>\n",
              "      <td>president</td>\n",
              "      <td>javert</td>\n",
              "      <td>cuirassier</td>\n",
              "      <td>...</td>\n",
              "      <td>lon</td>\n",
              "      <td>barricade</td>\n",
              "      <td>bruneseau</td>\n",
              "      <td>valjean</td>\n",
              "      <td>valjean</td>\n",
              "      <td>boulatruelle</td>\n",
              "      <td>masker</td>\n",
              "      <td>cosette</td>\n",
              "      <td>valjean</td>\n",
              "      <td>cosette</td>\n",
              "    </tr>\n",
              "    <tr>\n",
              "      <th>2</th>\n",
              "      <td>crippling</td>\n",
              "      <td>myriel</td>\n",
              "      <td>valjean</td>\n",
              "      <td>blachevelle</td>\n",
              "      <td>tholomyès</td>\n",
              "      <td>javert</td>\n",
              "      <td>javert</td>\n",
              "      <td>scaufflaire</td>\n",
              "      <td>madeleine</td>\n",
              "      <td>waterloo</td>\n",
              "      <td>...</td>\n",
              "      <td>où</td>\n",
              "      <td>insurgent</td>\n",
              "      <td>metre</td>\n",
              "      <td>marius</td>\n",
              "      <td>quay</td>\n",
              "      <td>gillenormand</td>\n",
              "      <td>cosette</td>\n",
              "      <td>valjean</td>\n",
              "      <td>basque</td>\n",
              "      <td>baron</td>\n",
              "    </tr>\n",
              "    <tr>\n",
              "      <th>3</th>\n",
              "      <td>hauteville</td>\n",
              "      <td>monseigneur</td>\n",
              "      <td>monseigneur</td>\n",
              "      <td>dahlia</td>\n",
              "      <td>romance</td>\n",
              "      <td>mayor</td>\n",
              "      <td>mr.</td>\n",
              "      <td>arras</td>\n",
              "      <td>simplice</td>\n",
              "      <td>english</td>\n",
              "      <td>...</td>\n",
              "      <td>fille</td>\n",
              "      <td>redoubt</td>\n",
              "      <td>cesspool</td>\n",
              "      <td>javert</td>\n",
              "      <td>canteen</td>\n",
              "      <td>cosette</td>\n",
              "      <td>gillenormand</td>\n",
              "      <td>fauchelevent</td>\n",
              "      <td>jean</td>\n",
              "      <td>valjean</td>\n",
              "    </tr>\n",
              "    <tr>\n",
              "      <th>4</th>\n",
              "      <td>preface</td>\n",
              "      <td>d</td>\n",
              "      <td>baptistine</td>\n",
              "      <td>zéphine</td>\n",
              "      <td>swing</td>\n",
              "      <td>sur</td>\n",
              "      <td>champmathieu</td>\n",
              "      <td>madeleine</td>\n",
              "      <td>maire</td>\n",
              "      <td>hougomont</td>\n",
              "      <td>...</td>\n",
              "      <td>vont</td>\n",
              "      <td>combeferre</td>\n",
              "      <td>filth</td>\n",
              "      <td>fontis</td>\n",
              "      <td>châtelet</td>\n",
              "      <td>fauchelevent</td>\n",
              "      <td>valjean</td>\n",
              "      <td>jean</td>\n",
              "      <td>nicolette</td>\n",
              "      <td>thénardier</td>\n",
              "    </tr>\n",
              "    <tr>\n",
              "      <th>5</th>\n",
              "      <td>unsolved</td>\n",
              "      <td>baptistine</td>\n",
              "      <td>nineteen</td>\n",
              "      <td>listolier</td>\n",
              "      <td>truck</td>\n",
              "      <td>workroom</td>\n",
              "      <td>fantine</td>\n",
              "      <td>simplice</td>\n",
              "      <td>sister</td>\n",
              "      <td>blücher</td>\n",
              "      <td>...</td>\n",
              "      <td>valjean</td>\n",
              "      <td>gavroche</td>\n",
              "      <td>subterranean</td>\n",
              "      <td>sand</td>\n",
              "      <td>parapet</td>\n",
              "      <td>wedding</td>\n",
              "      <td>marius</td>\n",
              "      <td>basque</td>\n",
              "      <td>marius</td>\n",
              "      <td>thy</td>\n",
              "    </tr>\n",
              "    <tr>\n",
              "      <th>6</th>\n",
              "      <td>world;—in</td>\n",
              "      <td>bienvenu</td>\n",
              "      <td>knapsack</td>\n",
              "      <td>fantine</td>\n",
              "      <td>cosette</td>\n",
              "      <td>marguerite</td>\n",
              "      <td>brevet</td>\n",
              "      <td>usher</td>\n",
              "      <td>valjean</td>\n",
              "      <td>genappe</td>\n",
              "      <td>...</td>\n",
              "      <td>belle</td>\n",
              "      <td>marius</td>\n",
              "      <td>city</td>\n",
              "      <td>beach</td>\n",
              "      <td>handing</td>\n",
              "      <td>grandfather</td>\n",
              "      <td>shrove</td>\n",
              "      <td>pontmercy</td>\n",
              "      <td>adieu</td>\n",
              "      <td>changer</td>\n",
              "    </tr>\n",
              "    <tr>\n",
              "      <th>7</th>\n",
              "      <td>1862</td>\n",
              "      <td>conventionary</td>\n",
              "      <td>gervais</td>\n",
              "      <td>bombarda</td>\n",
              "      <td>fantine</td>\n",
              "      <td>m.</td>\n",
              "      <td>valjean</td>\n",
              "      <td>champmathieu</td>\n",
              "      <td>mayor</td>\n",
              "      <td>battle</td>\n",
              "      <td>...</td>\n",
              "      <td>cosette</td>\n",
              "      <td>cartridge</td>\n",
              "      <td>manure</td>\n",
              "      <td>shore</td>\n",
              "      <td>him,—this</td>\n",
              "      <td>marry</td>\n",
              "      <td>bride</td>\n",
              "      <td>convict</td>\n",
              "      <td>filles</td>\n",
              "      <td>thou</td>\n",
              "    </tr>\n",
              "    <tr>\n",
              "      <th>8</th>\n",
              "      <td>asphyxia</td>\n",
              "      <td>g</td>\n",
              "      <td>labarre</td>\n",
              "      <td>fameuil</td>\n",
              "      <td>hostelry</td>\n",
              "      <td>maire</td>\n",
              "      <td>docket</td>\n",
              "      <td>maire</td>\n",
              "      <td>nun</td>\n",
              "      <td>haie</td>\n",
              "      <td>...</td>\n",
              "      <td>blotter</td>\n",
              "      <td>insurrection</td>\n",
              "      <td>trench</td>\n",
              "      <td>jean</td>\n",
              "      <td>infallibility</td>\n",
              "      <td>chénier</td>\n",
              "      <td>fishwife</td>\n",
              "      <td>sir</td>\n",
              "      <td>armchair</td>\n",
              "      <td>pontmercy</td>\n",
              "    </tr>\n",
              "    <tr>\n",
              "      <th>9</th>\n",
              "      <td>pauperism</td>\n",
              "      <td>convention</td>\n",
              "      <td>madame</td>\n",
              "      <td>1817</td>\n",
              "      <td>fore</td>\n",
              "      <td>town</td>\n",
              "      <td>faverolles</td>\n",
              "      <td>wheelwright</td>\n",
              "      <td>portress</td>\n",
              "      <td>plateau</td>\n",
              "      <td>...</td>\n",
              "      <td>auvergnat</td>\n",
              "      <td>cannon</td>\n",
              "      <td>marat</td>\n",
              "      <td>quay</td>\n",
              "      <td>convict</td>\n",
              "      <td>andré</td>\n",
              "      <td>sancy</td>\n",
              "      <td>motive</td>\n",
              "      <td>armé</td>\n",
              "      <td>didst</td>\n",
              "    </tr>\n",
              "  </tbody>\n",
              "</table>\n",
              "<p>10 rows × 49 columns</p>\n",
              "</div>\n",
              "      <button class=\"colab-df-convert\" onclick=\"convertToInteractive('df-544e5a87-57cf-47ad-a0f1-77b697074e93')\"\n",
              "              title=\"Convert this dataframe to an interactive table.\"\n",
              "              style=\"display:none;\">\n",
              "        \n",
              "  <svg xmlns=\"http://www.w3.org/2000/svg\" height=\"24px\"viewBox=\"0 0 24 24\"\n",
              "       width=\"24px\">\n",
              "    <path d=\"M0 0h24v24H0V0z\" fill=\"none\"/>\n",
              "    <path d=\"M18.56 5.44l.94 2.06.94-2.06 2.06-.94-2.06-.94-.94-2.06-.94 2.06-2.06.94zm-11 1L8.5 8.5l.94-2.06 2.06-.94-2.06-.94L8.5 2.5l-.94 2.06-2.06.94zm10 10l.94 2.06.94-2.06 2.06-.94-2.06-.94-.94-2.06-.94 2.06-2.06.94z\"/><path d=\"M17.41 7.96l-1.37-1.37c-.4-.4-.92-.59-1.43-.59-.52 0-1.04.2-1.43.59L10.3 9.45l-7.72 7.72c-.78.78-.78 2.05 0 2.83L4 21.41c.39.39.9.59 1.41.59.51 0 1.02-.2 1.41-.59l7.78-7.78 2.81-2.81c.8-.78.8-2.07 0-2.86zM5.41 20L4 18.59l7.72-7.72 1.47 1.35L5.41 20z\"/>\n",
              "  </svg>\n",
              "      </button>\n",
              "      \n",
              "  <style>\n",
              "    .colab-df-container {\n",
              "      display:flex;\n",
              "      flex-wrap:wrap;\n",
              "      gap: 12px;\n",
              "    }\n",
              "\n",
              "    .colab-df-convert {\n",
              "      background-color: #E8F0FE;\n",
              "      border: none;\n",
              "      border-radius: 50%;\n",
              "      cursor: pointer;\n",
              "      display: none;\n",
              "      fill: #1967D2;\n",
              "      height: 32px;\n",
              "      padding: 0 0 0 0;\n",
              "      width: 32px;\n",
              "    }\n",
              "\n",
              "    .colab-df-convert:hover {\n",
              "      background-color: #E2EBFA;\n",
              "      box-shadow: 0px 1px 2px rgba(60, 64, 67, 0.3), 0px 1px 3px 1px rgba(60, 64, 67, 0.15);\n",
              "      fill: #174EA6;\n",
              "    }\n",
              "\n",
              "    [theme=dark] .colab-df-convert {\n",
              "      background-color: #3B4455;\n",
              "      fill: #D2E3FC;\n",
              "    }\n",
              "\n",
              "    [theme=dark] .colab-df-convert:hover {\n",
              "      background-color: #434B5C;\n",
              "      box-shadow: 0px 1px 3px 1px rgba(0, 0, 0, 0.15);\n",
              "      filter: drop-shadow(0px 1px 2px rgba(0, 0, 0, 0.3));\n",
              "      fill: #FFFFFF;\n",
              "    }\n",
              "  </style>\n",
              "\n",
              "      <script>\n",
              "        const buttonEl =\n",
              "          document.querySelector('#df-544e5a87-57cf-47ad-a0f1-77b697074e93 button.colab-df-convert');\n",
              "        buttonEl.style.display =\n",
              "          google.colab.kernel.accessAllowed ? 'block' : 'none';\n",
              "\n",
              "        async function convertToInteractive(key) {\n",
              "          const element = document.querySelector('#df-544e5a87-57cf-47ad-a0f1-77b697074e93');\n",
              "          const dataTable =\n",
              "            await google.colab.kernel.invokeFunction('convertToInteractive',\n",
              "                                                     [key], {});\n",
              "          if (!dataTable) return;\n",
              "\n",
              "          const docLinkHtml = 'Like what you see? Visit the ' +\n",
              "            '<a target=\"_blank\" href=https://colab.research.google.com/notebooks/data_table.ipynb>data table notebook</a>'\n",
              "            + ' to learn more about interactive tables.';\n",
              "          element.innerHTML = '';\n",
              "          dataTable['output_type'] = 'display_data';\n",
              "          await google.colab.output.renderOutput(dataTable, element);\n",
              "          const docLink = document.createElement('div');\n",
              "          docLink.innerHTML = docLinkHtml;\n",
              "          element.appendChild(docLink);\n",
              "        }\n",
              "      </script>\n",
              "    </div>\n",
              "  </div>\n",
              "  "
            ]
          },
          "metadata": {},
          "execution_count": 52
        }
      ],
      "source": [
        "tfidf_df = pd.DataFrame()\n",
        "for tfidf_doc in corpus_tfidf:\n",
        "  top_couples = sorted(tfidf_doc, key=lambda item: item[1], reverse=True)[:10]\n",
        "  top_words = [dictionary[id] for id, _ in top_couples]\n",
        "  tfidf_df = pd.concat([tfidf_df, pd.Series(top_words)], axis=1, \n",
        "                       ignore_index=True)\n",
        "tfidf_df"
      ]
    },
    {
      "cell_type": "markdown",
      "source": [
        "Pour obtenir la matrice terme-document, on applique la fonction `gensim.matutils.corpus2dense()` sur notre corpus bag-of-words."
      ],
      "metadata": {
        "id": "p8E-i3TuLueh"
      }
    },
    {
      "cell_type": "code",
      "source": [
        "term_document = gensim.matutils.corpus2dense(corpus, num_terms=len(dictionary))\n",
        "term_document.shape"
      ],
      "metadata": {
        "colab": {
          "base_uri": "https://localhost:8080/"
        },
        "id": "5_7XgsdFBMx4",
        "outputId": "4389f2e9-9edd-4607-8742-163d0881548c"
      },
      "execution_count": null,
      "outputs": [
        {
          "output_type": "stream",
          "name": "stderr",
          "text": [
            "/usr/local/lib/python3.8/dist-packages/gensim/matutils.py:502: FutureWarning: arrays to stack must be passed as a \"sequence\" type such as list or tuple. Support for non-sequence iterables such as generators is deprecated as of NumPy 1.16 and will raise an error in the future.\n",
            "  result = np.column_stack(sparse2full(doc, num_terms) for doc in corpus)\n"
          ]
        },
        {
          "output_type": "execute_result",
          "data": {
            "text/plain": [
              "(17692, 49)"
            ]
          },
          "metadata": {},
          "execution_count": 53
        }
      ]
    },
    {
      "cell_type": "markdown",
      "source": [
        "Comme le nombre de mots est très élevés pour ce corpus, on va enlever les mots qui apparaissent trop ou pas assez souvent (c'est un traitement fréquent en analyse de données, ces mots ne sont certainement pas assez spécifiques aux différentes parties à analyser, ou trop marignaux). Nous allons pour cela créer une fonction qui donne un dictionnaire contenant la fréquence de chaque terme trouvé dans un corpus bag-of-words."
      ],
      "metadata": {
        "id": "Fok-Gb8qMZpQ"
      }
    },
    {
      "cell_type": "code",
      "source": [
        "def get_word_freqs(corpus, dictionary):\n",
        "  # On transforme le corpus en matrice terme-document\n",
        "  term_document = gensim.matutils.corpus2dense(corpus, \n",
        "                                               num_terms=len(dictionary))\n",
        "  # On fait la somme des colonnes\n",
        "  frequencies = term_document.sum(axis=1)\n",
        "  # On construit le dictionnaire\n",
        "  word_freqs = [(word, frequencies[id])\n",
        "              for word, id in dictionary.token2id.items()]\n",
        "  # On le trie\n",
        "  word_freqs = sorted(word_freqs, key=lambda item: item[1], reverse=True)\n",
        "  # On le retourne\n",
        "  return word_freqs"
      ],
      "metadata": {
        "id": "UnMObiUqLj3Y"
      },
      "execution_count": null,
      "outputs": []
    },
    {
      "cell_type": "markdown",
      "source": [
        "Affichons les mots les plus fréquents de notre corpus."
      ],
      "metadata": {
        "id": "EV8JU4vrNT3W"
      }
    },
    {
      "cell_type": "code",
      "source": [
        "word_freqs = get_word_freqs(corpus, dictionary)\n",
        "print(word_freqs[:10])\n",
        "print(word_freqs[-10:])"
      ],
      "metadata": {
        "colab": {
          "base_uri": "https://localhost:8080/"
        },
        "id": "2WuCKDo9F1pb",
        "outputId": "81127dc4-7341-463c-f8f2-d1a6cda22d3d"
      },
      "execution_count": null,
      "outputs": [
        {
          "output_type": "stream",
          "name": "stdout",
          "text": [
            "[('man', 2569.0), ('marius', 1341.0), ('jean', 1218.0), ('valjean', 1105.0), ('come', 1025.0), ('like', 1008.0), ('cosette', 1005.0), ('know', 965.0), ('little', 964.0), ('day', 958.0)]\n",
            "[('unlocked', 1.0), ('unprepossesse', 1.0), ('unskilful', 1.0), ('utterest', 1.0), ('vivait', 1.0), ('wheedle', 1.0), ('yew', 1.0), ('york', 1.0), ('étrange', 1.0), ('”69', 1.0)]\n"
          ]
        }
      ]
    },
    {
      "cell_type": "markdown",
      "source": [
        "L'objet dictionnaire de Gensim possède plusieurs méthodes permettant de filtrer certains termes (https://tedboy.github.io/nlps/generated/generated/gensim.corpora.Dictionary.html#gensim.corpora.Dictionary). Ici, nous allons créer une liste de mots qui ne correspondent pas à une fréquence définie (que nous allons poser entre 50 et 1500) et nous utilisons `dictionary.filter_tokens()` pour les supprimer du dictionnaire. On voit que le nombre de mots a été fortement réduit."
      ],
      "metadata": {
        "id": "QKS2vdMKN36e"
      }
    },
    {
      "cell_type": "code",
      "source": [
        "min_freq = 50\n",
        "max_freq = 1500\n",
        "banned_word_ids = [dictionary.token2id[word] for word, freq in word_freqs\n",
        "                   if freq < min_freq or freq > max_freq]\n",
        "dictionary.filter_tokens(bad_ids=banned_word_ids)\n",
        "len(dictionary)"
      ],
      "metadata": {
        "id": "ez6tCd1kHJnt",
        "colab": {
          "base_uri": "https://localhost:8080/"
        },
        "outputId": "eaf817e6-46c8-4317-e9af-f85b5ef20a89"
      },
      "execution_count": null,
      "outputs": [
        {
          "output_type": "execute_result",
          "data": {
            "text/plain": [
              "977"
            ]
          },
          "metadata": {},
          "execution_count": 56
        }
      ]
    },
    {
      "cell_type": "markdown",
      "source": [
        "Nous allons finalement recréer notre objet corpus bag-of-words avec le nouveau dictionnaire."
      ],
      "metadata": {
        "id": "Owrh5zElOg-S"
      }
    },
    {
      "cell_type": "code",
      "source": [
        "corpus = [dictionary.doc2bow(text) for text in texts]"
      ],
      "metadata": {
        "id": "qnv8nYsRHzqp"
      },
      "execution_count": null,
      "outputs": []
    },
    {
      "cell_type": "markdown",
      "source": [
        "---"
      ],
      "metadata": {
        "id": "jtspnApn6vfb"
      }
    },
    {
      "cell_type": "markdown",
      "source": [
        "## 3. AFC\n",
        "\n",
        "Il existe des librairies permettant d'effectuer une AFC en Python (e.g. **prince** https://pypi.org/project/prince/). Seulement, elle ne sont pas si matures et comme il est relativement aisé d'implémenter sa propre méthode, nous allons la coder ici. La fonction `correspondence_analysis()`, qui est donnée ci-dessous, permet de sortir toutes les quantitiés d'intérêt de l'AFC."
      ],
      "metadata": {
        "id": "k9StPeaeOrxL"
      }
    },
    {
      "cell_type": "code",
      "source": [
        "# Fonction pour la décomposition spectrale\n",
        "def sorted_eig(matrix, dim_max=None):\n",
        "    if (dim_max is not None) and dim_max < matrix.shape[0] - 1:\n",
        "        eigen_values, eigen_vectors = scipy.sparse.linalg.eigs(matrix, dim_max)\n",
        "    else:\n",
        "        eigen_values, eigen_vectors = scipy.linalg.eig(matrix)\n",
        "    sorted_indices = eigen_values.argsort()[::-1]\n",
        "    eigen_values = eigen_values[sorted_indices]\n",
        "    eigen_vectors = eigen_vectors[:, sorted_indices]\n",
        "\n",
        "    return np.real(eigen_values), np.real(eigen_vectors)\n",
        "\n",
        "# Fonction pour l'analyse de correspondances\n",
        "def correspondence_analysis(contingency):\n",
        "\n",
        "    contingency = np.array(contingency)\n",
        "    n_row, n_col = contingency.shape\n",
        "    dim_max = min(n_row, n_col) - 1\n",
        "\n",
        "    total = np.sum(contingency)\n",
        "    f_row = contingency.sum(axis=1)\n",
        "    f_row = f_row / sum(f_row)\n",
        "    f_col = contingency.sum(axis=0)\n",
        "    f_col = f_col / sum(f_col)\n",
        "    independency = np.outer(f_row, f_col) * total\n",
        "    normalized_quotient = contingency / independency - 1\n",
        "\n",
        "    b_mat = (normalized_quotient * f_col) @ normalized_quotient.T\n",
        "    k_mat = np.outer(np.sqrt(f_row), np.sqrt(f_row)) * b_mat\n",
        "    eig_val, eig_vec = sorted_eig(k_mat, dim_max)\n",
        "    eig_val = np.abs(eig_val[:dim_max])\n",
        "    eig_vec = eig_vec[:, :dim_max]\n",
        "\n",
        "    row_coord = np.real(np.outer(1 / np.sqrt(f_row), np.sqrt(eig_val)) * eig_vec)\n",
        "    col_coord = (normalized_quotient.T * f_row) @ row_coord / np.sqrt(eig_val)\n",
        "    row_contrib = eig_vec ** 2\n",
        "    col_contrib = np.outer(f_col, 1 / eig_val) * col_coord ** 2\n",
        "    row_cos2 = row_coord ** 2\n",
        "    row_cos2 = (row_cos2.T / row_cos2.sum(axis=1)).T\n",
        "    col_cos2 = col_coord ** 2\n",
        "    col_cos2 = (col_cos2.T / col_cos2.sum(axis=1)).T\n",
        "\n",
        "    # --- Le retour de la fonction\n",
        "    # dim_max: la dimension maximale de l'AFC\n",
        "    # eig_val: les valeurs propres\n",
        "    # row_coord: les coordonnées des lignes \n",
        "    # col_coord: les coordonnées des colonnes\n",
        "    # row_contrib: les contributions des lignes\n",
        "    # col_contrib: les contributions des colonnes\n",
        "    # row_cos2: le cos2 des lignes\n",
        "    # col_cos2: le cos2 des colonnes\n",
        "    return dim_max, eig_val, row_coord, col_coord, \\\n",
        "           row_contrib, col_contrib, row_cos2, col_cos2"
      ],
      "metadata": {
        "id": "uRSDBi866xUr"
      },
      "execution_count": null,
      "outputs": []
    },
    {
      "cell_type": "markdown",
      "source": [
        "Construisons la matrice terme-document."
      ],
      "metadata": {
        "id": "4GeLt39sQPPe"
      }
    },
    {
      "cell_type": "code",
      "source": [
        "term_document = gensim.matutils.corpus2dense(corpus,\n",
        "                                             num_terms=len(dictionary))\n",
        "term_document.shape"
      ],
      "metadata": {
        "colab": {
          "base_uri": "https://localhost:8080/"
        },
        "id": "FeUM0hml8hkS",
        "outputId": "e97a39c7-b74a-4e91-bee7-2b039102bac8"
      },
      "execution_count": null,
      "outputs": [
        {
          "output_type": "execute_result",
          "data": {
            "text/plain": [
              "(977, 49)"
            ]
          },
          "metadata": {},
          "execution_count": 59
        }
      ]
    },
    {
      "cell_type": "markdown",
      "source": [
        "Et effectuons l'AFC."
      ],
      "metadata": {
        "id": "fvnAP6nLQb4D"
      }
    },
    {
      "cell_type": "code",
      "source": [
        "dim_max, eig_val, row_coord, col_coord, row_contrib, col_contrib, \\\n",
        "row_cos2, col_cos2 = correspondence_analysis(term_document)"
      ],
      "metadata": {
        "id": "h1TwM161JJ06"
      },
      "execution_count": null,
      "outputs": []
    },
    {
      "cell_type": "markdown",
      "source": [
        "On peut maintenant examiner les différents axes:\n",
        "\n",
        "* Si l'on divise chaque valeur propre par la somme des valeurs propres, on obtient le pourcentage d'inertie exprimé sur chaque axe.\n",
        "* Les contributions nous permettent de savoir quels mots ont le plus contribué à la création de chaque axe (en pourcentage). Ce résultat permet parfois de \"nommer les axes\"."
      ],
      "metadata": {
        "id": "w0xCE4WXQerW"
      }
    },
    {
      "cell_type": "code",
      "source": [
        "n_top = 5\n",
        "for dim in range(10):\n",
        "  # Le pourcentage de variance\n",
        "  p_var = eig_val[dim] / sum(eig_val)\n",
        "  # Les mots qui contribuent le plus\n",
        "  top_contrib_ids = np.argsort(row_contrib[:, dim])[::-1][:n_top]\n",
        "  contrib_dic = {dictionary[id]: round(row_contrib[id, dim]*100,2) \n",
        "                 for id in top_contrib_ids}\n",
        "  # On affiche\n",
        "  print(f\"Axe {dim} ({p_var:.2%}): {contrib_dic}\")"
      ],
      "metadata": {
        "colab": {
          "base_uri": "https://localhost:8080/"
        },
        "id": "lM7bxeeTOghM",
        "outputId": "908edc70-d584-4b8f-ec07-23c631270ce4"
      },
      "execution_count": null,
      "outputs": [
        {
          "output_type": "stream",
          "name": "stdout",
          "text": [
            "Axe 0 (8.69%): {'english': 3.61, 'wellington': 3.45, 'battle': 3.29, 'barricade': 2.47, 'waterloo': 2.45}\n",
            "Axe 1 (6.44%): {'fauchelevent': 11.65, 'coffin': 5.09, 'digger': 4.8, 'marius': 4.38, 'prioress': 4.21}\n",
            "Axe 2 (5.90%): {'fauchelevent': 6.91, 'bishop': 4.96, 'barricade': 3.09, 'coffin': 2.66, 'digger': 2.31}\n",
            "Axe 3 (5.45%): {'wellington': 5.83, 'english': 5.34, 'sewer': 5.11, 'waterloo': 4.66, 'slang': 3.52}\n",
            "Axe 4 (4.89%): {'sewer': 15.35, 'valjean': 3.79, 'javert': 3.4, 'jean': 3.38, 'paris': 2.44}\n",
            "Axe 5 (4.74%): {'sewer': 9.59, 'madeleine': 6.15, 'javert': 4.74, 'barricade': 4.0, 'mayor': 3.98}\n",
            "Axe 6 (4.48%): {'gavroche': 6.67, 'marius': 5.27, 'thénardier': 4.09, 'montparnasse': 3.91, 'jean': 3.12}\n",
            "Axe 7 (3.96%): {'bishop': 11.65, 'magloire': 4.42, 'madeleine': 3.72, 'valjean': 3.68, 'jean': 3.4}\n",
            "Axe 8 (3.81%): {'slang': 28.98, 'language': 5.33, 'sewer': 3.99, 'montparnasse': 1.76, 'gavroche': 1.73}\n",
            "Axe 9 (3.29%): {'jondrette': 6.48, 'gavroche': 4.4, 'leblanc': 3.37, 'tholomyès': 3.32, 'bishop': 3.27}\n"
          ]
        }
      ]
    },
    {
      "cell_type": "markdown",
      "source": [
        "On va maintenant afficher les coordonnées de 100 termes les plus fréquents et des documents sur le même graphique, selon les axes sélectionnés sur la première ligne. C'est le **biplot**. On peut intérpréter le produit scalaire entre les points de différents types (terme-document) comme des attirances, et la distance entre deux points de même type (terme-terme, document-document) exprime leur dissemblance en terme de profil de fréquences (via la distance du chi2)."
      ],
      "metadata": {
        "id": "Hh4UvZZkROGf"
      }
    },
    {
      "cell_type": "code",
      "source": [
        "axes = [0, 1]\n",
        "\n",
        "# Taille du graphique\n",
        "plt.rcParams[\"figure.figsize\"] = [16, 16]\n",
        "\n",
        "# Filtre sur les mots les plus fréquents\n",
        "top_n = 100\n",
        "word_freqs = get_word_freqs(corpus, dictionary)\n",
        "top_words = [word for word, _ in word_freqs[:top_n]]\n",
        "top_word_ids = [dictionary.token2id[word] for word in top_words]\n",
        "top_row_coord = row_coord[top_word_ids, :]\n",
        "\n",
        "# On fait une matrice de toutes les coordonées\n",
        "all_coord = np.concatenate([top_row_coord, col_coord])\n",
        "\n",
        "# --- Plot \n",
        "\n",
        "fig, ax = plt.subplots()\n",
        "\n",
        "ax.scatter(all_coord[:, axes[0]], all_coord[:, axes[1]], alpha=0, color=\"white\")\n",
        "\n",
        "for i, txt in enumerate(top_words):\n",
        "    ax.annotate(txt, (top_row_coord[i, axes[0]], top_row_coord[i, axes[1]]), \n",
        "                size=12, color=\"blue\")\n",
        "\n",
        "for i, txt in enumerate(range(len(corpus))):\n",
        "    ax.annotate(txt, (col_coord[i, axes[0]], col_coord[i, axes[1]]), \n",
        "                size=12, color=\"red\", alpha=0.8)\n",
        "\n",
        "ax.grid()\n",
        "plt.show()"
      ],
      "metadata": {
        "colab": {
          "base_uri": "https://localhost:8080/",
          "height": 918
        },
        "id": "nAGTZaoLPQUi",
        "outputId": "b9f584f7-0428-4aa6-b380-8e570adc8c65"
      },
      "execution_count": null,
      "outputs": [
        {
          "output_type": "display_data",
          "data": {
            "text/plain": [
              "<Figure size 1152x1152 with 1 Axes>"
            ],
            "image/png": "[encoded data removed]"
          },
          "metadata": {
            "needs_background": "light"
          }
        }
      ]
    },
    {
      "cell_type": "markdown",
      "source": [
        "---"
      ],
      "metadata": {
        "id": "zLrh6hDG6xvF"
      }
    },
    {
      "cell_type": "markdown",
      "source": [
        "## 4. L'allocation de Dirichlet latente\n",
        "\n",
        "Nous allons maintenant faire une allocation de Dirichlet latente avec Gensim. On utilise pour cela la classe `gensim.models.LdaModel`, qui utilise notre corpus en bag-of-words, un nombre de thèmes fixé et notre dictionnaire. L'instance de la classe résultante va contenir tous les résultats pertinents de la méthode."
      ],
      "metadata": {
        "id": "f0Ma9iisRyZZ"
      }
    },
    {
      "cell_type": "code",
      "execution_count": null,
      "metadata": {
        "id": "nzHN-0jqDQyt"
      },
      "outputs": [],
      "source": [
        "lda_model = LdaModel(corpus, num_topics=5, id2word=dictionary, passes=10)"
      ]
    },
    {
      "cell_type": "markdown",
      "source": [
        "On peut obtenir les principaux mots utilisés dans chaque thème avec la méthode `show_topics()`. "
      ],
      "metadata": {
        "id": "6Ijql8YeW-rp"
      }
    },
    {
      "cell_type": "code",
      "execution_count": null,
      "metadata": {
        "colab": {
          "base_uri": "https://localhost:8080/"
        },
        "id": "e-jKISt1AORF",
        "outputId": "c0b53fda-dfd1-4dc1-d794-f6fc2b6d6472"
      },
      "outputs": [
        {
          "output_type": "execute_result",
          "data": {
            "text/plain": [
              "[(0,\n",
              "  '0.011*\"de\" + 0.009*\"m.\" + 0.009*\"day\" + 0.009*\"little\" + 0.009*\"old\" + 0.008*\"good\" + 0.008*\"like\" + 0.008*\"know\" + 0.007*\"time\" + 0.007*\"year\"'),\n",
              " (1,\n",
              "  '0.009*\"barricade\" + 0.009*\"rue\" + 0.007*\"enjolras\" + 0.007*\"take\" + 0.006*\"like\" + 0.006*\"come\" + 0.006*\"hand\" + 0.006*\"street\" + 0.006*\"long\" + 0.006*\"right\"'),\n",
              " (2,\n",
              "  '0.021*\"cosette\" + 0.019*\"valjean\" + 0.019*\"jean\" + 0.009*\"little\" + 0.009*\"child\" + 0.009*\"like\" + 0.008*\"thénardier\" + 0.008*\"fauchelevent\" + 0.007*\"old\" + 0.007*\"long\"'),\n",
              " (3,\n",
              "  '0.012*\"m.\" + 0.010*\"jean\" + 0.010*\"valjean\" + 0.010*\"javert\" + 0.009*\"madeleine\" + 0.008*\"good\" + 0.008*\"bishop\" + 0.008*\"little\" + 0.007*\"know\" + 0.007*\"take\"'),\n",
              " (4,\n",
              "  '0.036*\"marius\" + 0.010*\"come\" + 0.009*\"cosette\" + 0.009*\"know\" + 0.009*\"m.\" + 0.008*\"go\" + 0.008*\"father\" + 0.008*\"thénardier\" + 0.007*\"hand\" + 0.007*\"day\"')]"
            ]
          },
          "metadata": {},
          "execution_count": 66
        }
      ],
      "source": [
        "lda_model.show_topics()"
      ]
    },
    {
      "cell_type": "markdown",
      "source": [
        "Laa répartition des thèmes dans un document particulier s'obtient avec `get_document_topics()`."
      ],
      "metadata": {
        "id": "yctZded9XJDc"
      }
    },
    {
      "cell_type": "code",
      "source": [
        "lda_model.get_document_topics(corpus[1], minimum_probability=0)"
      ],
      "metadata": {
        "colab": {
          "base_uri": "https://localhost:8080/"
        },
        "id": "5zQJ01IrN7ol",
        "outputId": "8f9ab82b-9cb0-4a3d-d996-7d3251b40e0b"
      },
      "execution_count": null,
      "outputs": [
        {
          "output_type": "execute_result",
          "data": {
            "text/plain": [
              "[(0, 0.6133625),\n",
              " (1, 3.852803e-05),\n",
              " (2, 3.852664e-05),\n",
              " (3, 0.3865219),\n",
              " (4, 3.8526778e-05)]"
            ]
          },
          "metadata": {},
          "execution_count": 67
        }
      ]
    },
    {
      "cell_type": "markdown",
      "source": [
        "Les mesures de cohérence sont obtenues avec un objet de classe `gensim.models.CoherenceModel`, qui utilise par défault la mesure $C_v$ (pour plus de détails concernant ces mesures, voir http://svn.aksw.org/papers/2015/WSDM_Topic_Evaluation/public.pdf)."
      ],
      "metadata": {
        "id": "XiOiSrJAXdYg"
      }
    },
    {
      "cell_type": "code",
      "execution_count": null,
      "metadata": {
        "colab": {
          "base_uri": "https://localhost:8080/"
        },
        "id": "WQYeTEypO-5h",
        "outputId": "2da74416-0e5f-40c5-c8c2-7f81a7e65da1"
      },
      "outputs": [
        {
          "output_type": "execute_result",
          "data": {
            "text/plain": [
              "0.3271552798350128"
            ]
          },
          "metadata": {},
          "execution_count": 68
        }
      ],
      "source": [
        "coherence_model = CoherenceModel(lda_model, texts=texts, dictionary=dictionary)\n",
        "coherence_model.get_coherence()"
      ]
    },
    {
      "cell_type": "markdown",
      "source": [
        "On pourrait effectuer une recherche des meilleurs hyperparmètres $k, \\alpha, et \\eta$ pour notre corpus en maximisant cette mesure de cohérence. Seulement, comme l'optimisation de tous les hyperparamètres peut s'avérer très lente, nous n'allons optimiser ici que le nombre de thèmes. On va créer 10 modèles pour chaque valeur de $k$, afin de limiter l'effet de l'initialisation aléatoire."
      ],
      "metadata": {
        "id": "buusW2bOX0Sv"
      }
    },
    {
      "cell_type": "code",
      "source": [
        "ks = list(range(4, 21))\n",
        "n_tests = 10\n",
        "coherences = []\n",
        "for k in tqdm(ks):\n",
        "  sum_coherence = 0\n",
        "  for _ in range(n_tests):\n",
        "    lda_model = LdaModel(corpus, id2word=dictionary, \n",
        "                        num_topics=k, passes=10)\n",
        "    sum_coherence += CoherenceModel(lda_model, texts=texts, \n",
        "                                    dictionary=dictionary).get_coherence()\n",
        "\n",
        "  coherences.append(sum_coherence / n_tests)"
      ],
      "metadata": {
        "colab": {
          "base_uri": "https://localhost:8080/"
        },
        "id": "VrcCuqkC2sX5",
        "outputId": "e16b960b-87c2-4152-f9d3-6cd97e0ddb44"
      },
      "execution_count": null,
      "outputs": [
        {
          "output_type": "stream",
          "name": "stderr",
          "text": [
            "100%|██████████| 17/17 [29:18<00:00, 103.42s/it]\n"
          ]
        }
      ]
    },
    {
      "cell_type": "markdown",
      "source": [
        "Cette boucle nous permet de tracer la courbe de la cohérence en fonction du nombre de thèmes."
      ],
      "metadata": {
        "id": "nAcVxDc5YPN7"
      }
    },
    {
      "cell_type": "code",
      "source": [
        "fig, ax = plt.subplots()\n",
        "ax.plot(ks, coherences, c=\"red\")\n",
        "ax.set_xlabel(\"Nb Topics\")\n",
        "ax.set_ylabel(\"Coherence\")\n",
        "plt.plot()"
      ],
      "metadata": {
        "colab": {
          "base_uri": "https://localhost:8080/",
          "height": 950
        },
        "id": "BdH0W2VTaei1",
        "outputId": "356b5196-8827-45c1-f9cb-d404aaec30c7"
      },
      "execution_count": null,
      "outputs": [
        {
          "output_type": "execute_result",
          "data": {
            "text/plain": [
              "[]"
            ]
          },
          "metadata": {},
          "execution_count": 70
        },
        {
          "output_type": "display_data",
          "data": {
            "text/plain": [
              "<Figure size 1152x1152 with 1 Axes>"
            ],
            "image/png": "[encoded data removed]"
          },
          "metadata": {
            "needs_background": "light"
          }
        }
      ]
    },
    {
      "cell_type": "markdown",
      "source": [
        "On va retenir le nombre de thèmes qui maximise la cohérence, et on entraine un modèle avec cet hyperparamètre."
      ],
      "metadata": {
        "id": "7-QzgO-4Yspy"
      }
    },
    {
      "cell_type": "code",
      "source": [
        "optimal_k = 14\n",
        "lda_model = LdaModel(corpus, num_topics=optimal_k, id2word=dictionary, passes=10)"
      ],
      "metadata": {
        "id": "6_qRp09YEbiv"
      },
      "execution_count": null,
      "outputs": []
    },
    {
      "cell_type": "markdown",
      "source": [
        "Dans des graphiques en barres, nous allons afficher la répartition des 10 mots les plus utilisés par thème. Cela nous permettra de les interpréter."
      ],
      "metadata": {
        "id": "tDH05ErMYv_s"
      }
    },
    {
      "cell_type": "code",
      "source": [
        "# Pour les couleurs des topics\n",
        "topic_cmap = plt.cm.get_cmap(\"hsv\", lda_model.num_topics+1)\n",
        "topic_color = [topic_cmap(i) for i in range(lda_model.num_topics)]\n",
        "\n",
        "# Pour avoir le nombre d'éléments sur les lignes et colonnes\n",
        "nx_grid = int(np.sqrt(lda_model.num_topics))\n",
        "ny_grid= int(np.ceil(lda_model.num_topics / nx_grid))\n",
        "\n",
        "# On reformate la taille de la figure et on fait une grille\n",
        "plt.rcParams[\"figure.figsize\"] = [ny_grid*4, nx_grid*3]\n",
        "fig = plt.figure()\n",
        "gride_layout = GridSpec(nx_grid, ny_grid)\n",
        "\n",
        "# Boucle sur les topics\n",
        "for i in range(lda_model.num_topics):\n",
        "\n",
        "  # Les 10 mots le plus fréquents dans le topic\n",
        "  top_words = lda_model.show_topic(i, topn=10)\n",
        "  words = [word for word, _ in top_words]\n",
        "  freqs = [freq for _, freq in top_words]\n",
        "\n",
        "  # On ajoute la figure \n",
        "  ax = fig.add_subplot(gride_layout[i])\n",
        "  ax.barh(words, freqs, color=topic_color[i])\n",
        "  ax.set_title(f\"Topic {i}\")\n",
        "  ax.invert_yaxis()\n",
        "\n",
        "gride_layout.tight_layout(fig)"
      ],
      "metadata": {
        "colab": {
          "base_uri": "https://localhost:8080/",
          "height": 638
        },
        "id": "SNlnTN6jb8ZL",
        "outputId": "e882657e-f00e-42cf-bac7-74817af668b5"
      },
      "execution_count": null,
      "outputs": [
        {
          "output_type": "display_data",
          "data": {
            "text/plain": [
              "<Figure size 1440x648 with 14 Axes>"
            ],
            "image/png": "[encoded data removed]"
          },
          "metadata": {
            "needs_background": "light"
          }
        }
      ]
    },
    {
      "cell_type": "markdown",
      "source": [
        "On fait de même pour la répartition des thèmes dans les documents. En combinant l'interprétation de la sortie précédante avec celle-ci, on peut fréquemment avoir quelques observations pertinentes sur notre corpus."
      ],
      "metadata": {
        "id": "KZcaoVmNY5mr"
      }
    },
    {
      "cell_type": "code",
      "source": [
        "# Pour avoir le nombre d'éléments sur les lignes et colonnes\n",
        "nx_grid = int(np.sqrt(len(corpus)))\n",
        "ny_grid= int(np.ceil(len(corpus) / nx_grid))\n",
        "\n",
        "# On reformate la taille de la figure et on fait une grille\n",
        "plt.rcParams[\"figure.figsize\"] = [ny_grid*2, nx_grid*1.5]\n",
        "fig = plt.figure()\n",
        "gride_layout = GridSpec(nx_grid, ny_grid)\n",
        "\n",
        "# Boucle sur les topics\n",
        "for i, document in enumerate(corpus):\n",
        "\n",
        "  # Les topics dans le document\n",
        "  topics_freqs = lda_model.get_document_topics(document, minimum_probability=0)\n",
        "  topics = [topic for topic, _ in topics_freqs]\n",
        "  freqs = [freq for _, freq in topics_freqs]\n",
        "\n",
        "  # On ajoute la figure \n",
        "  ax = fig.add_subplot(gride_layout[i])\n",
        "  ax.bar(topics, freqs, color=topic_color)\n",
        "  ax.set_title(f\"Document {i}\")\n",
        "  ax.set_ylim([0, 1])\n",
        "\n",
        "gride_layout.tight_layout(fig)"
      ],
      "metadata": {
        "colab": {
          "base_uri": "https://localhost:8080/",
          "height": 765
        },
        "id": "7bT_X5prJShz",
        "outputId": "1180549c-eaa9-46d8-c404-385923522789"
      },
      "execution_count": null,
      "outputs": [
        {
          "output_type": "display_data",
          "data": {
            "text/plain": [
              "<Figure size 1008x756 with 49 Axes>"
            ],
            "image/png": "[encoded data removed]"
          },
          "metadata": {
            "needs_background": "light"
          }
        }
      ]
    },
    {
      "cell_type": "markdown",
      "source": [
        "---"
      ],
      "metadata": {
        "id": "GnhVUSgbkyhk"
      }
    },
    {
      "cell_type": "markdown",
      "source": [
        "## 5. Word2Vec\n",
        "\n",
        "Finalement, nous allons utiliser Gensim pour entrainer un modèle de type **Word2Vec** sur notre corpus. Cela nous permettra de visuliser une carte sémantique et syntaxique basée sur Les Misérables.\n",
        "\n",
        "Gensim contient beaucoup de méthodes de word embedding, ainsi que des outils pour charger des word embeddings venant de sources externes (e.g. de https://wikipedia2vec.github.io/wikipedia2vec/ ou de https://fasttext.cc/docs/en/crawl-vectors.html).\n",
        "\n",
        "On commence par charger à nouveau notre corpus, mais en ne gardant uniquement que la séparation en tokens et en phrases. Le résultat de cette opération est une liste de phrases qui sont des listes de tokens."
      ],
      "metadata": {
        "id": "HHejxvExZFXi"
      }
    },
    {
      "cell_type": "code",
      "source": [
        "corpus_pp_path = \"/content/drive/MyDrive/Colab Notebooks/ml_data/TP10/by_book_pp\"\n",
        "file_names = os.listdir(corpus_pp_path)\n",
        "\n",
        "sentences = []\n",
        "for file_name in file_names:\n",
        "  with open(f\"{corpus_pp_path}/{file_name}\") as text_file:\n",
        "    text_sentences = text_file.readlines()\n",
        "    text_token_sentences = [text_sentence.split() for \n",
        "                            text_sentence in text_sentences]\n",
        "    sentences.extend(text_token_sentences)\n",
        "\n",
        "sentences[0]"
      ],
      "metadata": {
        "colab": {
          "base_uri": "https://localhost:8080/"
        },
        "id": "xdaeJqhA14s6",
        "outputId": "00201120-5105-49e9-ad90-472626199f48"
      },
      "execution_count": null,
      "outputs": [
        {
          "output_type": "execute_result",
          "data": {
            "text/plain": [
              "['les', 'misérables', 'preface']"
            ]
          },
          "metadata": {},
          "execution_count": 74
        }
      ]
    },
    {
      "cell_type": "markdown",
      "source": [
        "On utilise la classe `gensim.models.Word2Vec` pour créer notre embedding avec les mots de fréquence minimale 100, une fenêtre de +/-5 tokens, une dimension d'embedding de 300 et avec la méthode skip-gram (`sg=1`). L'objet de retour (ici `wv_model`) contient de nombreuses informations sur le résultat. "
      ],
      "metadata": {
        "id": "I0Oq-jeyaN5S"
      }
    },
    {
      "cell_type": "code",
      "execution_count": null,
      "metadata": {
        "id": "yNSI_3DWPSFf"
      },
      "outputs": [],
      "source": [
        "wv_model = Word2Vec(sentences, min_count=100, window=5, size=300, sg=1)"
      ]
    },
    {
      "cell_type": "markdown",
      "source": [
        "On peut voir le vocabulaire qui a été transformé en vecteur avec l'attribut `wv.vocab`."
      ],
      "metadata": {
        "id": "QFWB9PhJbOci"
      }
    },
    {
      "cell_type": "code",
      "source": [
        "wv_vocab = wv_model.wv.vocab\n",
        "wv_words = list(wv_vocab.keys())\n",
        "len(wv_words)"
      ],
      "metadata": {
        "colab": {
          "base_uri": "https://localhost:8080/"
        },
        "id": "hNxq-FF5qEva",
        "outputId": "3ef199ec-7b22-4fb6-e232-7bb1aea9ecc8"
      },
      "execution_count": null,
      "outputs": [
        {
          "output_type": "execute_result",
          "data": {
            "text/plain": [
              "442"
            ]
          },
          "metadata": {},
          "execution_count": 76
        }
      ]
    },
    {
      "cell_type": "markdown",
      "source": [
        "Vérifions au préalable si certains mots sont bien dans notre embedding."
      ],
      "metadata": {
        "id": "-kmxSD8obbs3"
      }
    },
    {
      "cell_type": "code",
      "source": [
        "print(\"gavroche\" in wv_words)\n",
        "print(\"cosette\" in  wv_words)\n",
        "print(\"valjean\" in  wv_words)"
      ],
      "metadata": {
        "colab": {
          "base_uri": "https://localhost:8080/"
        },
        "id": "HyxCnC10qaMN",
        "outputId": "3b3b83a8-acd5-4a71-ae0e-580f2b7e5944"
      },
      "execution_count": null,
      "outputs": [
        {
          "output_type": "stream",
          "name": "stdout",
          "text": [
            "True\n",
            "True\n",
            "True\n"
          ]
        }
      ]
    },
    {
      "cell_type": "markdown",
      "source": [
        "Le vecteur d'un mot particulier est donné avec la méthode `wv_model.wv.get_vector()`. On affiche les 10 premières coordonnées de \"cosette\"."
      ],
      "metadata": {
        "id": "CwywMieCbgt7"
      }
    },
    {
      "cell_type": "code",
      "source": [
        "wv_model.wv.get_vector(\"cosette\")[0:10]"
      ],
      "metadata": {
        "colab": {
          "base_uri": "https://localhost:8080/"
        },
        "id": "LxEN2A6ssiq6",
        "outputId": "ed16a5e7-8236-45c1-bf58-db674207bc7b"
      },
      "execution_count": null,
      "outputs": [
        {
          "output_type": "execute_result",
          "data": {
            "text/plain": [
              "array([-0.00165364,  0.05580992,  0.0191495 , -0.13639781, -0.17099917,\n",
              "       -0.01082298,  0.0598272 ,  0.05660918,  0.13725878, -0.12370667],\n",
              "      dtype=float32)"
            ]
          },
          "metadata": {},
          "execution_count": 78
        }
      ]
    },
    {
      "cell_type": "markdown",
      "source": [
        "On peut obtenir la similarité du cosinus (https://en.wikipedia.org/wiki/Cosine_similarity) entre des couples mots. Avec les word embeddings, on utilise quasiment exclusivement cette similarité pour mesurer la proximité entre les vecteurs."
      ],
      "metadata": {
        "id": "7AWU3B0WbqqI"
      }
    },
    {
      "cell_type": "code",
      "source": [
        "print(wv_model.wv.similarity(\"valjean\", \"cosette\"))\n",
        "print(wv_model.wv.similarity(\"valjean\", \"gavroche\"))\n",
        "print(wv_model.wv.similarity(\"cosette\", \"gavroche\"))"
      ],
      "metadata": {
        "colab": {
          "base_uri": "https://localhost:8080/"
        },
        "id": "EIvzaG2eqKvF",
        "outputId": "d7efda95-019b-463e-b7a4-af663e35ac3d"
      },
      "execution_count": null,
      "outputs": [
        {
          "output_type": "stream",
          "name": "stdout",
          "text": [
            "0.69929963\n",
            "0.5607297\n",
            "0.8091156\n"
          ]
        }
      ]
    },
    {
      "cell_type": "markdown",
      "source": [
        "Il est également possible d'avoir les mots les plus similaires à un mot donné."
      ],
      "metadata": {
        "id": "5im0uLFfb4vi"
      }
    },
    {
      "cell_type": "code",
      "source": [
        "wv_model.wv.most_similar(\"cosette\")"
      ],
      "metadata": {
        "colab": {
          "base_uri": "https://localhost:8080/"
        },
        "id": "gPFrHKH5q6a-",
        "outputId": "a39970d4-7e5d-44d2-a05c-57b7ab0fbf93"
      },
      "execution_count": null,
      "outputs": [
        {
          "output_type": "execute_result",
          "data": {
            "text/plain": [
              "[('marius', 0.9466896057128906),\n",
              " ('continue', 0.9394614696502686),\n",
              " ('fantine', 0.9245415925979614),\n",
              " ('pause', 0.9198373556137085),\n",
              " ('resume', 0.9107335209846497),\n",
              " ('think', 0.8973863124847412),\n",
              " ('laugh', 0.895307183265686),\n",
              " ('go', 0.8943483233451843),\n",
              " ('listen', 0.8938935995101929),\n",
              " ('exclaim', 0.892364501953125)]"
            ]
          },
          "metadata": {},
          "execution_count": 80
        }
      ]
    },
    {
      "cell_type": "code",
      "source": [
        "wv_model.wv.most_similar(\"valjean\")"
      ],
      "metadata": {
        "colab": {
          "base_uri": "https://localhost:8080/"
        },
        "id": "vI0xXs8IrEvY",
        "outputId": "a1934bb8-01c7-4599-f145-4a2ff14e38cb"
      },
      "execution_count": null,
      "outputs": [
        {
          "output_type": "execute_result",
          "data": {
            "text/plain": [
              "[('convict', 0.8186944723129272),\n",
              " ('recognize', 0.7618120312690735),\n",
              " ('javert', 0.7608110904693604),\n",
              " ('resume', 0.7108224034309387),\n",
              " ('enjolras', 0.7063475251197815),\n",
              " ('cosette', 0.699299693107605),\n",
              " ('away', 0.6976495981216431),\n",
              " ('word', 0.691473126411438),\n",
              " ('utter', 0.6912508010864258),\n",
              " ('continue', 0.6907628774642944)]"
            ]
          },
          "metadata": {},
          "execution_count": 81
        }
      ]
    },
    {
      "cell_type": "markdown",
      "source": [
        "Des \"calculs\" sont possibles dans la méthode `wv_model.wv.most_similar()`."
      ],
      "metadata": {
        "id": "jdEWDDjsb_78"
      }
    },
    {
      "cell_type": "code",
      "source": [
        "wv_model.wv.most_similar(positive=[\"monsieur\", \"cosette\"], negative=[\"valjean\"])"
      ],
      "metadata": {
        "colab": {
          "base_uri": "https://localhost:8080/"
        },
        "id": "XaSIeQmdrJui",
        "outputId": "8052cdb5-3bca-4d91-f613-70c089947c47"
      },
      "execution_count": null,
      "outputs": [
        {
          "output_type": "execute_result",
          "data": {
            "text/plain": [
              "[('sister', 0.8881499767303467),\n",
              " ('daughter', 0.8517289161682129),\n",
              " ('address', 0.8499128818511963),\n",
              " ('yes', 0.8331942558288574),\n",
              " ('mademoiselle', 0.8267367482185364),\n",
              " ('father', 0.8254515528678894),\n",
              " ('gentleman', 0.8252682089805603),\n",
              " ('thou', 0.8230147361755371),\n",
              " ('madame', 0.82246333360672),\n",
              " ('letter', 0.8198872804641724)]"
            ]
          },
          "metadata": {},
          "execution_count": 82
        }
      ]
    },
    {
      "cell_type": "markdown",
      "source": [
        "On va maintenant afficher les mots les plus fréquents de notre embedding. Commençons par extraire les 100 premiers mots du corpus."
      ],
      "metadata": {
        "id": "CFn3Dn2YcObj"
      }
    },
    {
      "cell_type": "code",
      "source": [
        "n_top_words = 100\n",
        "word_freq = [(word, wv_vocab[word].count) for word in wv_words]\n",
        "word_freq = sorted(word_freq, key=lambda item: item[1], reverse=True)\n",
        "top_words = word_freq[:n_top_words]\n",
        "top_words[:10]"
      ],
      "metadata": {
        "colab": {
          "base_uri": "https://localhost:8080/"
        },
        "id": "agSRNI5ArWsu",
        "outputId": "0fb7594f-c7cc-4b5e-af86-69ea5f31a86f"
      },
      "execution_count": null,
      "outputs": [
        {
          "output_type": "execute_result",
          "data": {
            "text/plain": [
              "[('man', 2569),\n",
              " ('marius', 1341),\n",
              " ('jean', 1218),\n",
              " ('valjean', 1105),\n",
              " ('come', 1025),\n",
              " ('like', 1008),\n",
              " ('cosette', 1005),\n",
              " ('know', 965),\n",
              " ('little', 964),\n",
              " ('day', 958)]"
            ]
          },
          "metadata": {},
          "execution_count": 83
        }
      ]
    },
    {
      "cell_type": "markdown",
      "source": [
        "On extrait leurs coordonnées avec `wv_model.wv.get_vector()`."
      ],
      "metadata": {
        "id": "PFZCLeiqcWfj"
      }
    },
    {
      "cell_type": "code",
      "source": [
        "top_vectors = np.empty((len(top_words), 300), dtype=\"f\")\n",
        "for i, (word, _) in enumerate(top_words):\n",
        "  top_vectors[i] = wv_model.wv.get_vector(word)\n",
        "top_vectors.shape"
      ],
      "metadata": {
        "colab": {
          "base_uri": "https://localhost:8080/"
        },
        "id": "GMZ7KL9HvrXl",
        "outputId": "28e9c02c-57bf-417c-b875-821f623608ee"
      },
      "execution_count": null,
      "outputs": [
        {
          "output_type": "execute_result",
          "data": {
            "text/plain": [
              "(100, 300)"
            ]
          },
          "metadata": {},
          "execution_count": 84
        }
      ]
    },
    {
      "cell_type": "markdown",
      "source": [
        "On effectue une projection tSNE de ces vecteurs dans un espace à 2 dimensions."
      ],
      "metadata": {
        "id": "7FwQ9gjOceBA"
      }
    },
    {
      "cell_type": "code",
      "source": [
        "coords_2d = TSNE(n_components=2, perplexity=5, \n",
        "                 init=\"pca\",\n",
        "                 learning_rate=\"auto\").fit_transform(top_vectors)"
      ],
      "metadata": {
        "colab": {
          "base_uri": "https://localhost:8080/"
        },
        "id": "otqSfz_0r93J",
        "outputId": "aee8b298-5e22-467d-b5f3-a4cde81302ae"
      },
      "execution_count": null,
      "outputs": [
        {
          "output_type": "stream",
          "name": "stderr",
          "text": [
            "/usr/local/lib/python3.8/dist-packages/sklearn/manifold/_t_sne.py:982: FutureWarning: The PCA initialization in TSNE will change to have the standard deviation of PC1 equal to 1e-4 in 1.2. This will ensure better convergence.\n",
            "  warnings.warn(\n"
          ]
        }
      ]
    },
    {
      "cell_type": "markdown",
      "source": [
        "Et on affiche les vecteurs. La structure entre les différents mots permet d'obtenir de l'information sur l'utilisation ce ces mots dans le corpus."
      ],
      "metadata": {
        "id": "6h_n4Z7hcoTs"
      }
    },
    {
      "cell_type": "code",
      "source": [
        "plt.rcParams[\"figure.figsize\"] = [16, 16]\n",
        "plt.scatter(coords_2d[:,0], coords_2d[:,1], alpha=0)\n",
        "for word, x, y in zip(top_words, coords_2d[:,0], coords_2d[:,1]):\n",
        "    plt.annotate(word[0], xy=(x, y), xytext=(0, 0), textcoords=\"offset points\", \n",
        "                 size=(word[1]/top_words[0][1])**(0.7)*40,\n",
        "                 color=\"blue\")\n",
        "plt.show()"
      ],
      "metadata": {
        "colab": {
          "base_uri": "https://localhost:8080/",
          "height": 918
        },
        "id": "W6akSFZGuuWj",
        "outputId": "128510ce-354f-46c0-cede-d1ccd114246a"
      },
      "execution_count": null,
      "outputs": [
        {
          "output_type": "display_data",
          "data": {
            "text/plain": [
              "<Figure size 1152x1152 with 1 Axes>"
            ],
            "image/png": "[encoded data removed]"
          },
          "metadata": {
            "needs_background": "light"
          }
        }
      ]
    },
    {
      "cell_type": "markdown",
      "source": [
        "---"
      ],
      "metadata": {
        "id": "BOUFvVwFdH0M"
      }
    }
  ],
  "metadata": {
    "accelerator": "GPU",
    "colab": {
      "provenance": [],
      "collapsed_sections": [
        "6dvuccudITDN",
        "k9StPeaeOrxL",
        "f0Ma9iisRyZZ",
        "HHejxvExZFXi"
      ],
      "mount_file_id": "1Olfn1r9-DNaL2m0LB7-HLGDWsbQl42Pj",
      "authorship_tag": "ABX9TyMYl+svFoP/iJRvcBwX2wWG",
      "include_colab_link": true
    },
    "gpuClass": "standard",
    "kernelspec": {
      "display_name": "Python 3",
      "name": "python3"
    },
    "language_info": {
      "name": "python"
    }
  },
  "nbformat": 4,
  "nbformat_minor": 0
}