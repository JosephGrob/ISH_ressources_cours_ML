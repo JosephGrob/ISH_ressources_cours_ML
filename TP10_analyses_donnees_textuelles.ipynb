{
  "cells": [
    {
      "cell_type": "markdown",
      "metadata": {
        "id": "view-in-github",
        "colab_type": "text"
      },
      "source": [
        "<a href=\"https://colab.research.google.com/github/gguex/ISH_ressources_cours_ML/blob/main/TP10_analyses_donnees_textuelles.ipynb\" target=\"_parent\"><img src=\"https://colab.research.google.com/assets/colab-badge.svg\" alt=\"Open In Colab\"/></a>"
      ]
    },
    {
      "cell_type": "markdown",
      "source": [
        "# TP 10 : Analyses de données textuelles\n",
        "\n",
        "Dans ce TP, nous allons effectuer quelques méthodes d'analyse textuelle sur les Misérables de Victor Hugo. Le texte des 5 tomes a été obtenu via le projet gutenberg (https://www.gutenberg.org/) et nous allons utiliser le texte en anglais.\n",
        "\n",
        "Plusieurs librairies offrent des outils de traitement de données textuelles en Python, tel que **nltk**, **sklearn**, **spacy**, **gensim**, et **flair**. Ici, nous allons utiliser : \n",
        "\n",
        "* Spacy (https://spacy.io/) : qui fournit plusieurs *modèles de langage* permettant d'effectuer des tâches de tokenisation, tagging et parsing. De nombreuses autres méthodes sont également disponibles.\n",
        "\n",
        "* Gensim (https://radimrehurek.com/gensim/) : qui se concentre sur les méthodes de topic modeling et d'embedding, et qui permet de charger des certains modèles pré-entrainés.\n",
        "\n",
        "Notez que Python possède de nombreuses fonctionnalités permettant de traiter les chaînes de caractères (voir p.ex. https://www.w3schools.com/python/python_ref_string.asp\n",
        ") et la librairie `re` permet de gerer les expression régulières (https://docs.python.org/3/library/re.html). Avec ces deux éléments, il est déjà possible de créer de nombreux traitements en partant de zéro.\n",
        "\n",
        "Les librairies nécessaires sont les suivantes : "
      ],
      "metadata": {
        "id": "09lrqym6zbyA"
      }
    },
    {
      "cell_type": "code",
      "execution_count": 1,
      "metadata": {
        "id": "HJMTWxz1Kgk9"
      },
      "outputs": [],
      "source": [
        "import pandas as pd\n",
        "import numpy as np\n",
        "import os\n",
        "from tqdm import tqdm\n",
        "# Permet de créer des décomptes d'objet dans une liste\n",
        "import collections\n",
        "import matplotlib.pyplot as plt\n",
        "# Permet de faire des grilles de graphique\n",
        "from matplotlib.gridspec import GridSpec\n",
        "# Pour traiter les expressions régulières\n",
        "import re\n",
        "# Pour les pré-traitements, le tagging et le parsing\n",
        "import spacy\n",
        "# Aide pour la décompositon spectrale nécessaire à l'AFC\n",
        "import scipy\n",
        "# Pour la LDA et les word embeddings\n",
        "import gensim\n",
        "from gensim.models import TfidfModel, LdaModel, CoherenceModel, Word2Vec\n",
        "# Pour projeter les coordonnées\n",
        "from sklearn.manifold import TSNE"
      ]
    },
    {
      "cell_type": "markdown",
      "metadata": {
        "id": "pYuDdR06sTiW"
      },
      "source": [
        "---"
      ]
    },
    {
      "cell_type": "markdown",
      "source": [
        "## 1. Pré-traitements et statistiques"
      ],
      "metadata": {
        "id": "diDT31mL3NJt"
      }
    },
    {
      "cell_type": "markdown",
      "source": [
        "### 1.1 Séparation du texte en plusieurs documents\n",
        "\n",
        "Le corpus des Misérables en anglais est contenu dans un seul fichier. Seulement, nous allons adopter une structure de données où chaque document de notre corpus est contenu dans un fichier séparé. Pour cela, nous allons séparer notre texte à l'aide d'expressions régulières.\n",
        "\n",
        "On commence par charge le corpus et le sauvegarder par lignes."
      ],
      "metadata": {
        "id": "0_afGqTW3VUu"
      }
    },
    {
      "cell_type": "code",
      "execution_count": 2,
      "metadata": {
        "id": "-mogx6EaeNE6"
      },
      "outputs": [],
      "source": [
        "corpus_path = \"/content/drive/MyDrive/Colab Notebooks/\" \\\n",
        "              \"ml_data/TP10/les_miserables.txt\"\n",
        "with open(corpus_path) as corpus_file:\n",
        "  corpus_lines = corpus_file.readlines()"
      ]
    },
    {
      "cell_type": "code",
      "execution_count": 3,
      "metadata": {
        "colab": {
          "base_uri": "https://localhost:8080/"
        },
        "id": "oKAAfDmYMLDT",
        "outputId": "3b2944d3-31da-4e65-8524-14770563cee0"
      },
      "outputs": [
        {
          "output_type": "execute_result",
          "data": {
            "text/plain": [
              "['LES MISÉRABLES\\n',\n",
              " '\\n',\n",
              " '\\n',\n",
              " '\\n',\n",
              " '\\n',\n",
              " 'PREFACE\\n',\n",
              " '\\n',\n",
              " '\\n',\n",
              " 'So long as there shall exist, by virtue of law and custom, decrees of\\n',\n",
              " 'damnation pronounced by society, artificially creating hells amid the\\n',\n",
              " 'civilization of earth, and adding the element of human fate to divine\\n']"
            ]
          },
          "metadata": {},
          "execution_count": 3
        }
      ],
      "source": [
        "corpus_lines[0:11]"
      ]
    },
    {
      "cell_type": "markdown",
      "source": [
        "Nous allons maintenant définir des expressions régulières qui permettent d'identifier les lignes séparatrices de notre corpus. Il y a trois échelons possibles: Volume (e.g. \"VOLUME I\"), livre (e.g. \"BOOK FIRST-A JUST MAN\") et chapitre (e.g. \"CHAPTER I—M. MYRIEL\")."
      ],
      "metadata": {
        "id": "7WyMLdea_pLn"
      }
    },
    {
      "cell_type": "code",
      "execution_count": 4,
      "metadata": {
        "id": "GN7AWImNK7tk"
      },
      "outputs": [],
      "source": [
        "regex_for_volume = \"^VOLUME [A-Z]+$\"\n",
        "regex_for_book = \"^BOOK \"\n",
        "regex_for_chapter = \"^CHAPTER \""
      ]
    },
    {
      "cell_type": "markdown",
      "source": [
        "La boucle suivante ajoute les lignes une par une dans une variable, puis sauve cette variable (et la vide) une fois qu'une ligne séparatrice de l'unité choisie apparaît (attention, on sauve également la dernière itération de la variable). Ici, nous allons séparer notre corpus par livre avec `regex_for_book` (on omet toute les lignes qui contiennent des séparateurs)."
      ],
      "metadata": {
        "id": "ybbMbGM3AkM7"
      }
    },
    {
      "cell_type": "code",
      "execution_count": 5,
      "metadata": {
        "colab": {
          "base_uri": "https://localhost:8080/"
        },
        "id": "RlaEwlZsO2Bo",
        "outputId": "07ccdd9a-b71c-4151-8803-efee5202f8b8"
      },
      "outputs": [
        {
          "output_type": "stream",
          "name": "stdout",
          "text": [
            "LES MISÉRABLES\n",
            "\n",
            "\n",
            "\n",
            "\n",
            "PREFACE\n",
            "\n",
            "\n",
            "So long as there shall exist, by virtue of law and custom, decrees of\n",
            "damnation pronounced by society, artificially creating hells amid the\n",
            "civilization of earth, and adding the element of human fate to divine\n",
            "destiny; so long as the three great problems of the century—the\n",
            "degradation of man through pauperism, the corruption of woman through\n",
            "hunger, the crippling of children through lack of light—are unsolved;\n",
            "so long as social asphyxia is possible in any part of the world;—in\n",
            "other words, and with a still wider significance, so long as ignorance\n",
            "and poverty exist \n",
            "----------------------------\n",
            "\n",
            "\n",
            "\n",
            "\n",
            "\n",
            "In 1815, M. Charles-François-Bienvenu Myriel was Bishop of D—— He was\n",
            "an old man of about seventy-five years of age; he had occupied the see\n",
            "of D—— since 1806.\n",
            "\n",
            "Although this detail has no connection whatever with the real substance\n",
            "of what we are about to relate, it will not be superfluous, if merely\n",
            "for the sake of exactness in all points, to mention here the various\n",
            "rumors and remarks which had been in circulation about him from the\n",
            "very moment when he arrived in the diocese. True or false, that which\n",
            "is said of men often occupies as important a place in their lives, and\n",
            "above all in t\n"
          ]
        }
      ],
      "source": [
        "book_texts = []\n",
        "text = \"\"\n",
        "# Boucle sur les lignes\n",
        "for line in corpus_lines:\n",
        "  # Si c'est une ligne avec \"BOOK ...\", ou la fin, on sauve le texte\n",
        "  if re.match(regex_for_book, line) or line == corpus_lines[-1]:\n",
        "    book_texts.append(text)\n",
        "    text = \"\"\n",
        "  # Ajout de la une ligne si ce n'est pas \"VOLUME\", \"BOOK\", \"CHAPTER\"\n",
        "  if re.match(regex_for_volume, line) is None and \\\n",
        "     re.match(regex_for_book, line) is None and \\\n",
        "     re.match(regex_for_chapter, line) is None:\n",
        "    text += line\n",
        "\n",
        "# Affichage du début des deux premiers chapitres\n",
        "print(book_texts[0][0:600])\n",
        "print(\"----------------------------\")\n",
        "print(book_texts[1][0:600])"
      ]
    },
    {
      "cell_type": "markdown",
      "source": [
        "Finalement, on sauve les différents documents dans un nouveau dossier, afin de n'avoir plus à refaire ce traitement par la suite. Attention de bien nommer les fichiers pour que ceux-ci se trouve dans l'ordre alphabétique (on ajoute un 0 devant le numéro des livres de 0 à 9)."
      ],
      "metadata": {
        "id": "uwEcV6PoBJ87"
      }
    },
    {
      "cell_type": "code",
      "execution_count": 6,
      "metadata": {
        "id": "PQeNy3HLnC-0"
      },
      "outputs": [],
      "source": [
        "books = \"/content/drive/MyDrive/Colab Notebooks/ml_data/TP10/by_book\"\n",
        "# On crée le dossier pour le roman séparé par livre\n",
        "os.makedirs(books, exist_ok=True)\n",
        "# On écrit les livres (pour classer, 2 digits, avec un 0 devant pour les unités)\n",
        "for i, text in enumerate(book_texts):\n",
        "  with open(f\"{books}/book_{i:02d}.txt\", \"w\") as book_file:\n",
        "    book_file.write(text)"
      ]
    },
    {
      "cell_type": "markdown",
      "metadata": {
        "id": "YF5o1VstsHlu"
      },
      "source": [
        "----"
      ]
    },
    {
      "cell_type": "markdown",
      "source": [
        "### 1.2 Traitement du texte et statistiques\n",
        "\n",
        "Dans cette partie nous allons effectuer le traitement du texte et sortir quelques statistiques sur notre corpus. Nous allons utiliser pour cela **Spacy** et son modèle de langage `\"en_core_web_sm\"` (d'autres sont disponibles sous https://spacy.io/usage/models). On doit télécharger le modèle (qu'une seule fois), puis le charger sous un nom de fonction (ici `nlp()`)."
      ],
      "metadata": {
        "id": "udrk39_9BVVl"
      }
    },
    {
      "cell_type": "code",
      "source": [
        "# La ligne suivante doit être exécutée qu'une fois, decommentez-là lors de la \n",
        "# permière exécution\n",
        "\n",
        "# !spacy download \"en_core_web_sm\"\n",
        "nlp = spacy.load(\"en_core_web_sm\")"
      ],
      "metadata": {
        "id": "HXhKH5h32ToR"
      },
      "execution_count": 7,
      "outputs": []
    },
    {
      "cell_type": "markdown",
      "source": [
        "On va lister le dossier du corpus puis classer le nom des fichiers par ordre alphabétique (pour conserver l'ordre de narration du livre)."
      ],
      "metadata": {
        "id": "vLEVZGr4Cgmm"
      }
    },
    {
      "cell_type": "code",
      "execution_count": 8,
      "metadata": {
        "id": "RkwM5x7Av58c"
      },
      "outputs": [],
      "source": [
        "corpus_path = \"/content/drive/MyDrive/Colab Notebooks/ml_data/TP10/by_book\"\n",
        "file_names = os.listdir(corpus_path)\n",
        "file_names.sort()"
      ]
    },
    {
      "cell_type": "markdown",
      "source": [
        "Avant d'effectuer notre traitement complet, regardons comment Spacy traite un seul docuement. Nous chargeons le premier fichier et l'affichons."
      ],
      "metadata": {
        "id": "ua4T82uWCMB9"
      }
    },
    {
      "cell_type": "code",
      "execution_count": 9,
      "metadata": {
        "colab": {
          "base_uri": "https://localhost:8080/",
          "height": 35
        },
        "id": "YDizNSdTlv37",
        "outputId": "e31c68ff-69ac-4c45-b970-8628565a9b18"
      },
      "outputs": [
        {
          "output_type": "execute_result",
          "data": {
            "text/plain": [
              "'\\n\\n\\n\\n\\nIn 1815, M. Charles-François-Bienvenu Myriel was Bishop of D—— He was\\nan old man of about seventy-five years of age; he had occupied the see\\nof D—— since 1806.\\n\\nAlthough this detail has no connec'"
            ],
            "application/vnd.google.colaboratory.intrinsic+json": {
              "type": "string"
            }
          },
          "metadata": {},
          "execution_count": 9
        }
      ],
      "source": [
        "example_file_path = f\"{corpus_path}/{file_names[1]}\"\n",
        "with open(example_file_path, \"r\") as example_file:\n",
        "  example_text = example_file.read()\n",
        "# On affiche le début\n",
        "example_text[:200]"
      ]
    },
    {
      "cell_type": "markdown",
      "source": [
        "En applicant notre fonction `nlp()` sur notre texte, Spacy va effectuer tout une série d'opérations (un *pipeline*, voir https://spacy.io/usage/processing-pipelines), dont les résultats seront contenus dans l'objet retourné par cette fonction (ici, `example_doc`). Notez qu'il est possible de désactiver certaines fonctionnalité du *pipeline*, si l'on cherche à avoir des résultats plus rapidement."
      ],
      "metadata": {
        "id": "lHmx7DIAC5Fp"
      }
    },
    {
      "cell_type": "code",
      "execution_count": null,
      "metadata": {
        "id": "nxYPJmav10Gk"
      },
      "outputs": [],
      "source": [
        "example_doc = nlp(example_text)"
      ]
    },
    {
      "cell_type": "markdown",
      "source": [
        "Le nombre de tokens du corpus peut être obtenu avec grâce à la longueur de l'objet."
      ],
      "metadata": {
        "id": "ru-jBAlyDf2f"
      }
    },
    {
      "cell_type": "code",
      "execution_count": null,
      "metadata": {
        "colab": {
          "base_uri": "https://localhost:8080/"
        },
        "id": "88-tqjZN11mx",
        "outputId": "15714620-9734-475b-926c-08770b2b253f"
      },
      "outputs": [
        {
          "output_type": "execute_result",
          "data": {
            "text/plain": [
              "31113"
            ]
          },
          "metadata": {},
          "execution_count": 30
        }
      ],
      "source": [
        "len(example_doc)"
      ]
    },
    {
      "cell_type": "markdown",
      "source": [
        "Nous pouvons également itérer sur cet objet, qui donnera alors les tokens un par un. Chacun de ces tokens est en fait un objet qui contient un grand nombre d'informations."
      ],
      "metadata": {
        "id": "EpbmRuLSDmY9"
      }
    },
    {
      "cell_type": "code",
      "execution_count": null,
      "metadata": {
        "colab": {
          "base_uri": "https://localhost:8080/",
          "height": 1000
        },
        "id": "STy2pATN3h1j",
        "outputId": "22fafa12-8dd1-49ad-9178-03235c100782"
      },
      "outputs": [
        {
          "output_type": "execute_result",
          "data": {
            "text/plain": [
              "        text    lemma_   pos_  tag_      dep_ ent_type_  is_stop  is_digit  \\\n",
              "0         In        in    ADP    IN      prep               True     False   \n",
              "1       1815      1815    NUM    CD      pobj      DATE    False      True   \n",
              "2          ,         ,  PUNCT     ,     punct              False     False   \n",
              "3         M.        M.  PROPN   NNP  compound    PERSON    False     False   \n",
              "4    Charles   Charles  PROPN   NNP  compound    PERSON    False     False   \n",
              "5          -         -  PUNCT  HYPH     punct    PERSON    False     False   \n",
              "6   François  François  PROPN   NNP  compound    PERSON    False     False   \n",
              "7          -         -  PUNCT  HYPH     punct    PERSON    False     False   \n",
              "8   Bienvenu  Bienvenu  PROPN   NNP  compound    PERSON    False     False   \n",
              "9     Myriel    Myriel  PROPN   NNP     nsubj    PERSON    False     False   \n",
              "10       was        be    AUX   VBD     ccomp               True     False   \n",
              "11    Bishop    Bishop  PROPN   NNP      attr       ORG    False     False   \n",
              "12        of        of    ADP    IN      prep               True     False   \n",
              "13         D         D  PROPN   NNP      pobj              False     False   \n",
              "14         —         —  PUNCT     :     punct              False     False   \n",
              "15         —         —  PUNCT     :     punct              False     False   \n",
              "16        He        he   PRON   PRP     nsubj               True     False   \n",
              "17       was        be    AUX   VBD     ccomp               True     False   \n",
              "18        an        an    DET    DT       det               True     False   \n",
              "19       old       old    ADJ    JJ      amod              False     False   \n",
              "20       man       man   NOUN    NN      attr              False     False   \n",
              "21        of        of    ADP    IN      prep               True     False   \n",
              "22     about     about    ADV    RB    advmod  CARDINAL     True     False   \n",
              "23   seventy   seventy    NUM    CD  compound  CARDINAL    False     False   \n",
              "24         -         -  PUNCT  HYPH     punct  CARDINAL    False     False   \n",
              "25      five      five    NUM    CD    nummod               True     False   \n",
              "26     years      year   NOUN   NNS      pobj              False     False   \n",
              "27        of        of    ADP    IN      prep               True     False   \n",
              "28       age       age   NOUN    NN      pobj              False     False   \n",
              "29         ;         ;  PUNCT     :     punct              False     False   \n",
              "30        he        he   PRON   PRP     nsubj               True     False   \n",
              "31       had      have    AUX   VBD       aux               True     False   \n",
              "32  occupied    occupy   VERB   VBN      ROOT              False     False   \n",
              "33       the       the    DET    DT       det               True     False   \n",
              "34       see       see   NOUN    NN      dobj               True     False   \n",
              "35        of        of    ADP    IN      prep               True     False   \n",
              "36         D         D  PROPN   NNP      pobj              False     False   \n",
              "37         —         —  PUNCT     :     punct              False     False   \n",
              "38         —         —  PUNCT     :     punct              False     False   \n",
              "39     since     since  SCONJ    IN      prep               True     False   \n",
              "40      1806      1806    NUM    CD      pobj      DATE    False      True   \n",
              "41         .         .  PUNCT     .     punct              False     False   \n",
              "\n",
              "    is_punct  \n",
              "0      False  \n",
              "1      False  \n",
              "2       True  \n",
              "3      False  \n",
              "4      False  \n",
              "5       True  \n",
              "6      False  \n",
              "7       True  \n",
              "8      False  \n",
              "9      False  \n",
              "10     False  \n",
              "11     False  \n",
              "12     False  \n",
              "13     False  \n",
              "14      True  \n",
              "15      True  \n",
              "16     False  \n",
              "17     False  \n",
              "18     False  \n",
              "19     False  \n",
              "20     False  \n",
              "21     False  \n",
              "22     False  \n",
              "23     False  \n",
              "24      True  \n",
              "25     False  \n",
              "26     False  \n",
              "27     False  \n",
              "28     False  \n",
              "29      True  \n",
              "30     False  \n",
              "31     False  \n",
              "32     False  \n",
              "33     False  \n",
              "34     False  \n",
              "35     False  \n",
              "36     False  \n",
              "37      True  \n",
              "38      True  \n",
              "39     False  \n",
              "40     False  \n",
              "41      True  "
            ],
            "text/html": [
              "\n",
              "  <div id=\"df-d70602e2-dddd-4b23-ba58-5d28c15ab85a\">\n",
              "    <div class=\"colab-df-container\">\n",
              "      <div>\n",
              "<style scoped>\n",
              "    .dataframe tbody tr th:only-of-type {\n",
              "        vertical-align: middle;\n",
              "    }\n",
              "\n",
              "    .dataframe tbody tr th {\n",
              "        vertical-align: top;\n",
              "    }\n",
              "\n",
              "    .dataframe thead th {\n",
              "        text-align: right;\n",
              "    }\n",
              "</style>\n",
              "<table border=\"1\" class=\"dataframe\">\n",
              "  <thead>\n",
              "    <tr style=\"text-align: right;\">\n",
              "      <th></th>\n",
              "      <th>text</th>\n",
              "      <th>lemma_</th>\n",
              "      <th>pos_</th>\n",
              "      <th>tag_</th>\n",
              "      <th>dep_</th>\n",
              "      <th>ent_type_</th>\n",
              "      <th>is_stop</th>\n",
              "      <th>is_digit</th>\n",
              "      <th>is_punct</th>\n",
              "    </tr>\n",
              "  </thead>\n",
              "  <tbody>\n",
              "    <tr>\n",
              "      <th>0</th>\n",
              "      <td>In</td>\n",
              "      <td>in</td>\n",
              "      <td>ADP</td>\n",
              "      <td>IN</td>\n",
              "      <td>prep</td>\n",
              "      <td></td>\n",
              "      <td>True</td>\n",
              "      <td>False</td>\n",
              "      <td>False</td>\n",
              "    </tr>\n",
              "    <tr>\n",
              "      <th>1</th>\n",
              "      <td>1815</td>\n",
              "      <td>1815</td>\n",
              "      <td>NUM</td>\n",
              "      <td>CD</td>\n",
              "      <td>pobj</td>\n",
              "      <td>DATE</td>\n",
              "      <td>False</td>\n",
              "      <td>True</td>\n",
              "      <td>False</td>\n",
              "    </tr>\n",
              "    <tr>\n",
              "      <th>2</th>\n",
              "      <td>,</td>\n",
              "      <td>,</td>\n",
              "      <td>PUNCT</td>\n",
              "      <td>,</td>\n",
              "      <td>punct</td>\n",
              "      <td></td>\n",
              "      <td>False</td>\n",
              "      <td>False</td>\n",
              "      <td>True</td>\n",
              "    </tr>\n",
              "    <tr>\n",
              "      <th>3</th>\n",
              "      <td>M.</td>\n",
              "      <td>M.</td>\n",
              "      <td>PROPN</td>\n",
              "      <td>NNP</td>\n",
              "      <td>compound</td>\n",
              "      <td>PERSON</td>\n",
              "      <td>False</td>\n",
              "      <td>False</td>\n",
              "      <td>False</td>\n",
              "    </tr>\n",
              "    <tr>\n",
              "      <th>4</th>\n",
              "      <td>Charles</td>\n",
              "      <td>Charles</td>\n",
              "      <td>PROPN</td>\n",
              "      <td>NNP</td>\n",
              "      <td>compound</td>\n",
              "      <td>PERSON</td>\n",
              "      <td>False</td>\n",
              "      <td>False</td>\n",
              "      <td>False</td>\n",
              "    </tr>\n",
              "    <tr>\n",
              "      <th>5</th>\n",
              "      <td>-</td>\n",
              "      <td>-</td>\n",
              "      <td>PUNCT</td>\n",
              "      <td>HYPH</td>\n",
              "      <td>punct</td>\n",
              "      <td>PERSON</td>\n",
              "      <td>False</td>\n",
              "      <td>False</td>\n",
              "      <td>True</td>\n",
              "    </tr>\n",
              "    <tr>\n",
              "      <th>6</th>\n",
              "      <td>François</td>\n",
              "      <td>François</td>\n",
              "      <td>PROPN</td>\n",
              "      <td>NNP</td>\n",
              "      <td>compound</td>\n",
              "      <td>PERSON</td>\n",
              "      <td>False</td>\n",
              "      <td>False</td>\n",
              "      <td>False</td>\n",
              "    </tr>\n",
              "    <tr>\n",
              "      <th>7</th>\n",
              "      <td>-</td>\n",
              "      <td>-</td>\n",
              "      <td>PUNCT</td>\n",
              "      <td>HYPH</td>\n",
              "      <td>punct</td>\n",
              "      <td>PERSON</td>\n",
              "      <td>False</td>\n",
              "      <td>False</td>\n",
              "      <td>True</td>\n",
              "    </tr>\n",
              "    <tr>\n",
              "      <th>8</th>\n",
              "      <td>Bienvenu</td>\n",
              "      <td>Bienvenu</td>\n",
              "      <td>PROPN</td>\n",
              "      <td>NNP</td>\n",
              "      <td>compound</td>\n",
              "      <td>PERSON</td>\n",
              "      <td>False</td>\n",
              "      <td>False</td>\n",
              "      <td>False</td>\n",
              "    </tr>\n",
              "    <tr>\n",
              "      <th>9</th>\n",
              "      <td>Myriel</td>\n",
              "      <td>Myriel</td>\n",
              "      <td>PROPN</td>\n",
              "      <td>NNP</td>\n",
              "      <td>nsubj</td>\n",
              "      <td>PERSON</td>\n",
              "      <td>False</td>\n",
              "      <td>False</td>\n",
              "      <td>False</td>\n",
              "    </tr>\n",
              "    <tr>\n",
              "      <th>10</th>\n",
              "      <td>was</td>\n",
              "      <td>be</td>\n",
              "      <td>AUX</td>\n",
              "      <td>VBD</td>\n",
              "      <td>ccomp</td>\n",
              "      <td></td>\n",
              "      <td>True</td>\n",
              "      <td>False</td>\n",
              "      <td>False</td>\n",
              "    </tr>\n",
              "    <tr>\n",
              "      <th>11</th>\n",
              "      <td>Bishop</td>\n",
              "      <td>Bishop</td>\n",
              "      <td>PROPN</td>\n",
              "      <td>NNP</td>\n",
              "      <td>attr</td>\n",
              "      <td>ORG</td>\n",
              "      <td>False</td>\n",
              "      <td>False</td>\n",
              "      <td>False</td>\n",
              "    </tr>\n",
              "    <tr>\n",
              "      <th>12</th>\n",
              "      <td>of</td>\n",
              "      <td>of</td>\n",
              "      <td>ADP</td>\n",
              "      <td>IN</td>\n",
              "      <td>prep</td>\n",
              "      <td></td>\n",
              "      <td>True</td>\n",
              "      <td>False</td>\n",
              "      <td>False</td>\n",
              "    </tr>\n",
              "    <tr>\n",
              "      <th>13</th>\n",
              "      <td>D</td>\n",
              "      <td>D</td>\n",
              "      <td>PROPN</td>\n",
              "      <td>NNP</td>\n",
              "      <td>pobj</td>\n",
              "      <td></td>\n",
              "      <td>False</td>\n",
              "      <td>False</td>\n",
              "      <td>False</td>\n",
              "    </tr>\n",
              "    <tr>\n",
              "      <th>14</th>\n",
              "      <td>—</td>\n",
              "      <td>—</td>\n",
              "      <td>PUNCT</td>\n",
              "      <td>:</td>\n",
              "      <td>punct</td>\n",
              "      <td></td>\n",
              "      <td>False</td>\n",
              "      <td>False</td>\n",
              "      <td>True</td>\n",
              "    </tr>\n",
              "    <tr>\n",
              "      <th>15</th>\n",
              "      <td>—</td>\n",
              "      <td>—</td>\n",
              "      <td>PUNCT</td>\n",
              "      <td>:</td>\n",
              "      <td>punct</td>\n",
              "      <td></td>\n",
              "      <td>False</td>\n",
              "      <td>False</td>\n",
              "      <td>True</td>\n",
              "    </tr>\n",
              "    <tr>\n",
              "      <th>16</th>\n",
              "      <td>He</td>\n",
              "      <td>he</td>\n",
              "      <td>PRON</td>\n",
              "      <td>PRP</td>\n",
              "      <td>nsubj</td>\n",
              "      <td></td>\n",
              "      <td>True</td>\n",
              "      <td>False</td>\n",
              "      <td>False</td>\n",
              "    </tr>\n",
              "    <tr>\n",
              "      <th>17</th>\n",
              "      <td>was</td>\n",
              "      <td>be</td>\n",
              "      <td>AUX</td>\n",
              "      <td>VBD</td>\n",
              "      <td>ccomp</td>\n",
              "      <td></td>\n",
              "      <td>True</td>\n",
              "      <td>False</td>\n",
              "      <td>False</td>\n",
              "    </tr>\n",
              "    <tr>\n",
              "      <th>18</th>\n",
              "      <td>an</td>\n",
              "      <td>an</td>\n",
              "      <td>DET</td>\n",
              "      <td>DT</td>\n",
              "      <td>det</td>\n",
              "      <td></td>\n",
              "      <td>True</td>\n",
              "      <td>False</td>\n",
              "      <td>False</td>\n",
              "    </tr>\n",
              "    <tr>\n",
              "      <th>19</th>\n",
              "      <td>old</td>\n",
              "      <td>old</td>\n",
              "      <td>ADJ</td>\n",
              "      <td>JJ</td>\n",
              "      <td>amod</td>\n",
              "      <td></td>\n",
              "      <td>False</td>\n",
              "      <td>False</td>\n",
              "      <td>False</td>\n",
              "    </tr>\n",
              "    <tr>\n",
              "      <th>20</th>\n",
              "      <td>man</td>\n",
              "      <td>man</td>\n",
              "      <td>NOUN</td>\n",
              "      <td>NN</td>\n",
              "      <td>attr</td>\n",
              "      <td></td>\n",
              "      <td>False</td>\n",
              "      <td>False</td>\n",
              "      <td>False</td>\n",
              "    </tr>\n",
              "    <tr>\n",
              "      <th>21</th>\n",
              "      <td>of</td>\n",
              "      <td>of</td>\n",
              "      <td>ADP</td>\n",
              "      <td>IN</td>\n",
              "      <td>prep</td>\n",
              "      <td></td>\n",
              "      <td>True</td>\n",
              "      <td>False</td>\n",
              "      <td>False</td>\n",
              "    </tr>\n",
              "    <tr>\n",
              "      <th>22</th>\n",
              "      <td>about</td>\n",
              "      <td>about</td>\n",
              "      <td>ADV</td>\n",
              "      <td>RB</td>\n",
              "      <td>advmod</td>\n",
              "      <td>CARDINAL</td>\n",
              "      <td>True</td>\n",
              "      <td>False</td>\n",
              "      <td>False</td>\n",
              "    </tr>\n",
              "    <tr>\n",
              "      <th>23</th>\n",
              "      <td>seventy</td>\n",
              "      <td>seventy</td>\n",
              "      <td>NUM</td>\n",
              "      <td>CD</td>\n",
              "      <td>compound</td>\n",
              "      <td>CARDINAL</td>\n",
              "      <td>False</td>\n",
              "      <td>False</td>\n",
              "      <td>False</td>\n",
              "    </tr>\n",
              "    <tr>\n",
              "      <th>24</th>\n",
              "      <td>-</td>\n",
              "      <td>-</td>\n",
              "      <td>PUNCT</td>\n",
              "      <td>HYPH</td>\n",
              "      <td>punct</td>\n",
              "      <td>CARDINAL</td>\n",
              "      <td>False</td>\n",
              "      <td>False</td>\n",
              "      <td>True</td>\n",
              "    </tr>\n",
              "    <tr>\n",
              "      <th>25</th>\n",
              "      <td>five</td>\n",
              "      <td>five</td>\n",
              "      <td>NUM</td>\n",
              "      <td>CD</td>\n",
              "      <td>nummod</td>\n",
              "      <td></td>\n",
              "      <td>True</td>\n",
              "      <td>False</td>\n",
              "      <td>False</td>\n",
              "    </tr>\n",
              "    <tr>\n",
              "      <th>26</th>\n",
              "      <td>years</td>\n",
              "      <td>year</td>\n",
              "      <td>NOUN</td>\n",
              "      <td>NNS</td>\n",
              "      <td>pobj</td>\n",
              "      <td></td>\n",
              "      <td>False</td>\n",
              "      <td>False</td>\n",
              "      <td>False</td>\n",
              "    </tr>\n",
              "    <tr>\n",
              "      <th>27</th>\n",
              "      <td>of</td>\n",
              "      <td>of</td>\n",
              "      <td>ADP</td>\n",
              "      <td>IN</td>\n",
              "      <td>prep</td>\n",
              "      <td></td>\n",
              "      <td>True</td>\n",
              "      <td>False</td>\n",
              "      <td>False</td>\n",
              "    </tr>\n",
              "    <tr>\n",
              "      <th>28</th>\n",
              "      <td>age</td>\n",
              "      <td>age</td>\n",
              "      <td>NOUN</td>\n",
              "      <td>NN</td>\n",
              "      <td>pobj</td>\n",
              "      <td></td>\n",
              "      <td>False</td>\n",
              "      <td>False</td>\n",
              "      <td>False</td>\n",
              "    </tr>\n",
              "    <tr>\n",
              "      <th>29</th>\n",
              "      <td>;</td>\n",
              "      <td>;</td>\n",
              "      <td>PUNCT</td>\n",
              "      <td>:</td>\n",
              "      <td>punct</td>\n",
              "      <td></td>\n",
              "      <td>False</td>\n",
              "      <td>False</td>\n",
              "      <td>True</td>\n",
              "    </tr>\n",
              "    <tr>\n",
              "      <th>30</th>\n",
              "      <td>he</td>\n",
              "      <td>he</td>\n",
              "      <td>PRON</td>\n",
              "      <td>PRP</td>\n",
              "      <td>nsubj</td>\n",
              "      <td></td>\n",
              "      <td>True</td>\n",
              "      <td>False</td>\n",
              "      <td>False</td>\n",
              "    </tr>\n",
              "    <tr>\n",
              "      <th>31</th>\n",
              "      <td>had</td>\n",
              "      <td>have</td>\n",
              "      <td>AUX</td>\n",
              "      <td>VBD</td>\n",
              "      <td>aux</td>\n",
              "      <td></td>\n",
              "      <td>True</td>\n",
              "      <td>False</td>\n",
              "      <td>False</td>\n",
              "    </tr>\n",
              "    <tr>\n",
              "      <th>32</th>\n",
              "      <td>occupied</td>\n",
              "      <td>occupy</td>\n",
              "      <td>VERB</td>\n",
              "      <td>VBN</td>\n",
              "      <td>ROOT</td>\n",
              "      <td></td>\n",
              "      <td>False</td>\n",
              "      <td>False</td>\n",
              "      <td>False</td>\n",
              "    </tr>\n",
              "    <tr>\n",
              "      <th>33</th>\n",
              "      <td>the</td>\n",
              "      <td>the</td>\n",
              "      <td>DET</td>\n",
              "      <td>DT</td>\n",
              "      <td>det</td>\n",
              "      <td></td>\n",
              "      <td>True</td>\n",
              "      <td>False</td>\n",
              "      <td>False</td>\n",
              "    </tr>\n",
              "    <tr>\n",
              "      <th>34</th>\n",
              "      <td>see</td>\n",
              "      <td>see</td>\n",
              "      <td>NOUN</td>\n",
              "      <td>NN</td>\n",
              "      <td>dobj</td>\n",
              "      <td></td>\n",
              "      <td>True</td>\n",
              "      <td>False</td>\n",
              "      <td>False</td>\n",
              "    </tr>\n",
              "    <tr>\n",
              "      <th>35</th>\n",
              "      <td>of</td>\n",
              "      <td>of</td>\n",
              "      <td>ADP</td>\n",
              "      <td>IN</td>\n",
              "      <td>prep</td>\n",
              "      <td></td>\n",
              "      <td>True</td>\n",
              "      <td>False</td>\n",
              "      <td>False</td>\n",
              "    </tr>\n",
              "    <tr>\n",
              "      <th>36</th>\n",
              "      <td>D</td>\n",
              "      <td>D</td>\n",
              "      <td>PROPN</td>\n",
              "      <td>NNP</td>\n",
              "      <td>pobj</td>\n",
              "      <td></td>\n",
              "      <td>False</td>\n",
              "      <td>False</td>\n",
              "      <td>False</td>\n",
              "    </tr>\n",
              "    <tr>\n",
              "      <th>37</th>\n",
              "      <td>—</td>\n",
              "      <td>—</td>\n",
              "      <td>PUNCT</td>\n",
              "      <td>:</td>\n",
              "      <td>punct</td>\n",
              "      <td></td>\n",
              "      <td>False</td>\n",
              "      <td>False</td>\n",
              "      <td>True</td>\n",
              "    </tr>\n",
              "    <tr>\n",
              "      <th>38</th>\n",
              "      <td>—</td>\n",
              "      <td>—</td>\n",
              "      <td>PUNCT</td>\n",
              "      <td>:</td>\n",
              "      <td>punct</td>\n",
              "      <td></td>\n",
              "      <td>False</td>\n",
              "      <td>False</td>\n",
              "      <td>True</td>\n",
              "    </tr>\n",
              "    <tr>\n",
              "      <th>39</th>\n",
              "      <td>since</td>\n",
              "      <td>since</td>\n",
              "      <td>SCONJ</td>\n",
              "      <td>IN</td>\n",
              "      <td>prep</td>\n",
              "      <td></td>\n",
              "      <td>True</td>\n",
              "      <td>False</td>\n",
              "      <td>False</td>\n",
              "    </tr>\n",
              "    <tr>\n",
              "      <th>40</th>\n",
              "      <td>1806</td>\n",
              "      <td>1806</td>\n",
              "      <td>NUM</td>\n",
              "      <td>CD</td>\n",
              "      <td>pobj</td>\n",
              "      <td>DATE</td>\n",
              "      <td>False</td>\n",
              "      <td>True</td>\n",
              "      <td>False</td>\n",
              "    </tr>\n",
              "    <tr>\n",
              "      <th>41</th>\n",
              "      <td>.</td>\n",
              "      <td>.</td>\n",
              "      <td>PUNCT</td>\n",
              "      <td>.</td>\n",
              "      <td>punct</td>\n",
              "      <td></td>\n",
              "      <td>False</td>\n",
              "      <td>False</td>\n",
              "      <td>True</td>\n",
              "    </tr>\n",
              "  </tbody>\n",
              "</table>\n",
              "</div>\n",
              "      <button class=\"colab-df-convert\" onclick=\"convertToInteractive('df-d70602e2-dddd-4b23-ba58-5d28c15ab85a')\"\n",
              "              title=\"Convert this dataframe to an interactive table.\"\n",
              "              style=\"display:none;\">\n",
              "        \n",
              "  <svg xmlns=\"http://www.w3.org/2000/svg\" height=\"24px\"viewBox=\"0 0 24 24\"\n",
              "       width=\"24px\">\n",
              "    <path d=\"M0 0h24v24H0V0z\" fill=\"none\"/>\n",
              "    <path d=\"M18.56 5.44l.94 2.06.94-2.06 2.06-.94-2.06-.94-.94-2.06-.94 2.06-2.06.94zm-11 1L8.5 8.5l.94-2.06 2.06-.94-2.06-.94L8.5 2.5l-.94 2.06-2.06.94zm10 10l.94 2.06.94-2.06 2.06-.94-2.06-.94-.94-2.06-.94 2.06-2.06.94z\"/><path d=\"M17.41 7.96l-1.37-1.37c-.4-.4-.92-.59-1.43-.59-.52 0-1.04.2-1.43.59L10.3 9.45l-7.72 7.72c-.78.78-.78 2.05 0 2.83L4 21.41c.39.39.9.59 1.41.59.51 0 1.02-.2 1.41-.59l7.78-7.78 2.81-2.81c.8-.78.8-2.07 0-2.86zM5.41 20L4 18.59l7.72-7.72 1.47 1.35L5.41 20z\"/>\n",
              "  </svg>\n",
              "      </button>\n",
              "      \n",
              "  <style>\n",
              "    .colab-df-container {\n",
              "      display:flex;\n",
              "      flex-wrap:wrap;\n",
              "      gap: 12px;\n",
              "    }\n",
              "\n",
              "    .colab-df-convert {\n",
              "      background-color: #E8F0FE;\n",
              "      border: none;\n",
              "      border-radius: 50%;\n",
              "      cursor: pointer;\n",
              "      display: none;\n",
              "      fill: #1967D2;\n",
              "      height: 32px;\n",
              "      padding: 0 0 0 0;\n",
              "      width: 32px;\n",
              "    }\n",
              "\n",
              "    .colab-df-convert:hover {\n",
              "      background-color: #E2EBFA;\n",
              "      box-shadow: 0px 1px 2px rgba(60, 64, 67, 0.3), 0px 1px 3px 1px rgba(60, 64, 67, 0.15);\n",
              "      fill: #174EA6;\n",
              "    }\n",
              "\n",
              "    [theme=dark] .colab-df-convert {\n",
              "      background-color: #3B4455;\n",
              "      fill: #D2E3FC;\n",
              "    }\n",
              "\n",
              "    [theme=dark] .colab-df-convert:hover {\n",
              "      background-color: #434B5C;\n",
              "      box-shadow: 0px 1px 3px 1px rgba(0, 0, 0, 0.15);\n",
              "      filter: drop-shadow(0px 1px 2px rgba(0, 0, 0, 0.3));\n",
              "      fill: #FFFFFF;\n",
              "    }\n",
              "  </style>\n",
              "\n",
              "      <script>\n",
              "        const buttonEl =\n",
              "          document.querySelector('#df-d70602e2-dddd-4b23-ba58-5d28c15ab85a button.colab-df-convert');\n",
              "        buttonEl.style.display =\n",
              "          google.colab.kernel.accessAllowed ? 'block' : 'none';\n",
              "\n",
              "        async function convertToInteractive(key) {\n",
              "          const element = document.querySelector('#df-d70602e2-dddd-4b23-ba58-5d28c15ab85a');\n",
              "          const dataTable =\n",
              "            await google.colab.kernel.invokeFunction('convertToInteractive',\n",
              "                                                     [key], {});\n",
              "          if (!dataTable) return;\n",
              "\n",
              "          const docLinkHtml = 'Like what you see? Visit the ' +\n",
              "            '<a target=\"_blank\" href=https://colab.research.google.com/notebooks/data_table.ipynb>data table notebook</a>'\n",
              "            + ' to learn more about interactive tables.';\n",
              "          element.innerHTML = '';\n",
              "          dataTable['output_type'] = 'display_data';\n",
              "          await google.colab.output.renderOutput(dataTable, element);\n",
              "          const docLink = document.createElement('div');\n",
              "          docLink.innerHTML = docLinkHtml;\n",
              "          element.appendChild(docLink);\n",
              "        }\n",
              "      </script>\n",
              "    </div>\n",
              "  </div>\n",
              "  "
            ]
          },
          "metadata": {},
          "execution_count": 31
        }
      ],
      "source": [
        "example_sent = list(example_doc.sents)[0]\n",
        "token_texts = []\n",
        "token_lemmas = []\n",
        "token_poss = []\n",
        "token_tags = []\n",
        "token_deps = []\n",
        "token_ent_types = []\n",
        "token_is_stops = []\n",
        "token_is_digits = []\n",
        "token_is_puncts = []\n",
        "\n",
        "# On boucle sur les tokens\n",
        "for token in example_sent:\n",
        "  if not token.is_space:\n",
        "    token_texts.append(token.text) # Le texte du token\n",
        "    token_lemmas.append(token.lemma_) # Son lemme\n",
        "    token_poss.append(token.pos_) # Son tag POS\n",
        "    token_tags.append(token.tag_) # Son tag POS détaillé\n",
        "    token_deps.append(token.dep_) # Son tag de parsing\n",
        "    token_ent_types.append(token.ent_type_) # Son tag NER (si s'en est un)\n",
        "    token_is_stops.append(token.is_stop) # Si c'est un stopwords\n",
        "    token_is_digits.append(token.is_digit) # Si c'est un chiffre\n",
        "    token_is_puncts.append(token.is_punct) # Si c'est une ponctuation\n",
        "\n",
        "# On affiche dans une DataFrame formatée\n",
        "sentence_data = pd.DataFrame({\"L\": token_texts, \n",
        "                              \"lemma_\": token_lemmas, \n",
        "                              \"pos_\": token_poss, \n",
        "                              \"tag_\": token_tags, \n",
        "                              \"dep_\": token_deps, \n",
        "                              \"ent_type_\": token_ent_types, \n",
        "                              \"is_stop\": token_is_stops, \n",
        "                              \"is_digit\": token_is_digits, \n",
        "                              \"is_punct\": token_is_puncts}) \n",
        "sentence_data"
      ]
    },
    {
      "cell_type": "markdown",
      "source": [
        "Pour le tagging des stopwords, Spacy utilise une liste interne."
      ],
      "metadata": {
        "id": "ydsyG9GvEO4x"
      }
    },
    {
      "cell_type": "code",
      "source": [
        "print(spacy.lang.en.stop_words.STOP_WORDS)"
      ],
      "metadata": {
        "id": "ihrzGNKuDZBg",
        "colab": {
          "base_uri": "https://localhost:8080/"
        },
        "outputId": "d2bea617-d1c9-4da6-845a-e79d08eb30da"
      },
      "execution_count": null,
      "outputs": [
        {
          "output_type": "stream",
          "name": "stdout",
          "text": [
            "{'something', 'become', 'hundred', 'seems', 'always', 'then', 'somewhere', 'eight', 'any', 'either', 'n‘t', 'via', 'yet', 'should', 'its', 'whoever', 'sixty', '’s', 'out', 'anyhow', 'none', 'when', 'this', 'each', 'around', 'moreover', 'toward', 'part', 'hereafter', 'nowhere', 'that', 'yourself', \"'m\", 'up', 'please', 'he', 'down', \"n't\", 'enough', 'mostly', 'who', 'were', 'except', 'done', \"'s\", 'due', '’ll', 'indeed', 'show', 'might', 'beyond', 'to', 'thus', 'fifteen', 'where', 'thereupon', 'their', 'but', 'regarding', 'such', 'you', 'less', 'per', 'thence', 'former', 'everywhere', 'one', 'neither', 'at', 'without', 'on', 'below', 'while', 'could', 'everyone', 'she', 'towards', \"'ll\", 'hereby', 'twelve', 'him', 'every', 'how', 'thereby', 'serious', \"'ve\", 'those', 'already', 'perhaps', 'besides', 'nevertheless', 'not', 'be', 'again', '‘d', 'sometimes', 'mine', 'few', 'although', 'nor', 'do', 'before', 'my', 'can', 'whether', 'a', 'if', 'been', 'almost', 'once', 'thru', 'is', 'itself', 'beforehand', 'hers', 'into', 'formerly', 'many', 'another', 'someone', 'your', 'meanwhile', '‘ll', 'amount', 'beside', 'go', 'never', 'so', 'ca', 'us', 'ever', 'five', 'whither', 'for', '‘m', 'across', 'whenever', 're', 'quite', 'during', 'am', 'was', 'all', 'cannot', 'further', 'sometime', 'nine', 'put', 'also', 'get', 'whereupon', 'other', 'latterly', 'whom', 'very', 'hereupon', 'yourselves', 'or', 'forty', 'between', 'wherever', 'whence', 'upon', 'since', 'third', 'ourselves', 'most', 'over', 'did', 'however', '‘ve', 'call', 'onto', 'because', 'became', 'anyway', 'through', 'front', 'herein', 'himself', 'still', 'fifty', 'noone', 'some', 'bottom', 'i', 'themselves', 'in', 'hence', 'six', '’m', 'latter', 'than', 'has', 'least', 'whole', 'everything', 'give', 'throughout', 'used', 'are', 'well', 'about', 'what', 'anyone', 'these', 'behind', 'our', 'his', 'more', 'whereafter', 'there', 'next', 'same', 'take', 'until', 'me', 'though', 'becomes', 'as', 'whose', 'does', '‘s', 'above', 'rather', 'keep', 'otherwise', 'under', 'now', 'both', 'we', 'herself', '’re', '’d', 'it', 'full', 'made', 'thereafter', 'various', 'see', 'four', 'must', 'else', 'they', 'using', 'even', 'from', 'twenty', 'together', 'only', 'name', 'n’t', 'by', 'afterwards', 'others', 'too', 'seeming', 'the', 'really', 'off', 'move', 'after', 'top', \"'re\", 'would', 'whereas', 'nothing', 'several', 'and', 'empty', 'seemed', 'two', 'elsewhere', 'unless', 'have', 'her', 'much', 'wherein', 'therefore', 'ten', 'anywhere', 'back', 'with', 'ours', 'alone', 'becoming', 'an', 'will', 'why', 'eleven', 'just', \"'d\", 'often', 'whatever', 'therein', 'here', 'nobody', 'somehow', 'may', 'whereby', 'them', 'doing', 'along', 'anything', 'say', '‘re', 'within', 'which', 'make', 'being', 'had', 'no', 'amongst', 'against', 'last', 'first', 'among', 'myself', 'seem', 'of', 'yours', 'side', 'namely', 'three', '’ve', 'own'}\n"
          ]
        }
      ]
    },
    {
      "cell_type": "markdown",
      "source": [
        "Il est possible d'étendre cette liste de la manière suivante (une liste de stopwords universelle n'existe pas)."
      ],
      "metadata": {
        "id": "BrSq9c8IEX_z"
      }
    },
    {
      "cell_type": "code",
      "source": [
        "new_stopwords = [\"say\", \"says\", \"saying\", \"said\"]\n",
        "for stopword in new_stopwords:\n",
        "  nlp.vocab[stopword].is_stop = True"
      ],
      "metadata": {
        "id": "slkIjt56CwQ9"
      },
      "execution_count": null,
      "outputs": []
    },
    {
      "cell_type": "markdown",
      "source": [
        "Pour obtenir les statistiques du corpus, nous allons créer une fonction qui les calcule et qui retourne un dictionnaire. Cette fonction va se lancer sur tous les documents de notre corpus."
      ],
      "metadata": {
        "id": "3hOIyQSzFCo4"
      }
    },
    {
      "cell_type": "code",
      "execution_count": null,
      "metadata": {
        "id": "Has9GyIi3p_Q"
      },
      "outputs": [],
      "source": [
        "def get_statistics(doc):\n",
        "  \n",
        "  lemmas = []\n",
        "  poss = []\n",
        "\n",
        "  # On boucle sur les tokens, et on sauve leur lemme et leur tag POS\n",
        "  for token in doc:\n",
        "    if not (token.is_stop or token.is_punct or token.is_space):\n",
        "      lemmas.append(token.lemma_.lower())\n",
        "      poss.append(token.pos_)\n",
        "\n",
        "  # On boucle sur doc.ents pour obtenir les entités de type \"PERSON\"\n",
        "  pers = [ent.text for ent in doc.ents if ent.label_==\"PERSON\"]  \n",
        "\n",
        "  # Grâce à collections.Counter(), on crée des dictionnaires contenant la\n",
        "  # fréquence des différents éléments.\n",
        "  lemma_counts = collections.Counter(lemmas)\n",
        "  pos_counts = collections.Counter(poss)\n",
        "  per_counts = collections.Counter(pers)\n",
        "\n",
        "  statistic_dict = {\n",
        "      \"n_tokens\": len(doc), # Le nombre de tokens \n",
        "      \"n_lemmas\": len(lemmas), # Le nombre de lemmes\n",
        "      \"n_lemma_types\": len(set(lemmas)), # le nombre de lemmes unique\n",
        "      \"top_5_lemmas\": {lemma: count for lemma, count in # Les 5 lemmes les plus fréquents\n",
        "                       sorted(lemma_counts.items(), \n",
        "                              key=lambda item: item[1],\n",
        "                              reverse=True)[:6]},\n",
        "      \"pos_distrib\": {pos: round(count/len(lemmas)*100, 2) for pos, count in # La distribution des tag POS\n",
        "                      sorted(pos_counts.items(), \n",
        "                             key=lambda item: item[1],\n",
        "                             reverse=True)},\n",
        "      \"top_5_pers\": {per: count for per, count in # Les 5 personnages les plus fréquents\n",
        "                     sorted(per_counts.items(), \n",
        "                            key=lambda item: item[1],\n",
        "                            reverse=True)[:6]},\n",
        "  }\n",
        "  \n",
        "  return(statistic_dict)"
      ]
    },
    {
      "cell_type": "markdown",
      "source": [
        "En appliquant cette fonction à notre objet d'exemple, on obtient les statistiques."
      ],
      "metadata": {
        "id": "KCDY2HsoGGhY"
      }
    },
    {
      "cell_type": "code",
      "execution_count": null,
      "metadata": {
        "colab": {
          "base_uri": "https://localhost:8080/"
        },
        "id": "1s_sgkT5p9qG",
        "outputId": "77ac0c11-d838-4b3d-a4e6-bf1e11d34c65"
      },
      "outputs": [
        {
          "output_type": "execute_result",
          "data": {
            "text/plain": [
              "{'n_tokens': 31113,\n",
              " 'n_lemmas': 9714,\n",
              " 'n_lemma_types': 3419,\n",
              " 'top_5_lemmas': {'bishop': 181,\n",
              "  'man': 127,\n",
              "  'good': 66,\n",
              "  'old': 46,\n",
              "  'monseigneur': 44,\n",
              "  'god': 44},\n",
              " 'pos_distrib': {'NOUN': 46.41,\n",
              "  'VERB': 23.8,\n",
              "  'ADJ': 13.09,\n",
              "  'PROPN': 11.75,\n",
              "  'ADV': 2.56,\n",
              "  'NUM': 0.91,\n",
              "  'ADP': 0.54,\n",
              "  'AUX': 0.35,\n",
              "  'X': 0.28,\n",
              "  'INTJ': 0.25,\n",
              "  'DET': 0.03,\n",
              "  'SCONJ': 0.02,\n",
              "  'PRON': 0.02},\n",
              " 'top_5_pers': {'Madame Magloire': 14,\n",
              "  'Magloire': 5,\n",
              "  'Madam Magloire': 4,\n",
              "  'M. Myriel': 3,\n",
              "  'Providence': 3,\n",
              "  'Curé': 2}}"
            ]
          },
          "metadata": {},
          "execution_count": 35
        }
      ],
      "source": [
        "get_statistics(example_doc)"
      ]
    },
    {
      "cell_type": "markdown",
      "source": [
        "Nous allons maintenant créer une fonction qui sauve le document pré-traité dans un fichier donné en argument. On va sauver chaque phrase dans une ligne séparée, pour pouvoir les retrouver par la suite."
      ],
      "metadata": {
        "id": "pveXg8qAGQTa"
      }
    },
    {
      "cell_type": "code",
      "execution_count": null,
      "metadata": {
        "id": "BN76hTz4ksPU"
      },
      "outputs": [],
      "source": [
        "def save_preprocess_doc(doc, output_path):\n",
        "  \n",
        "  with open(output_path, \"w\") as output_file:\n",
        "    # l'attibut doc.sents de Spacy contient les phrases, on boucle dessus\n",
        "    for sent in doc.sents:\n",
        "      line = \"\"\n",
        "      # On boucle sur les tokens\n",
        "      for token in sent:\n",
        "        # On ne garde que les token qui ne sont pas des stopwords, \n",
        "        # des ponctuations ou des espaces.\n",
        "        if not (token.is_stop or token.is_punct or token.is_space):\n",
        "          # On écrit le lemme, en minuscule\n",
        "          line += f\"{token.lemma_.lower()} \"\n",
        "      # Si la ligne n'est pas vide, on l'écrit dans le fichier\n",
        "      if re.sub(r\"\\s+\", \"\", line) != \"\":\n",
        "        output_file.write(line[:-1] + \"\\n\")"
      ]
    },
    {
      "cell_type": "markdown",
      "source": [
        "On peut tester notre fonction sur notre document d'exemple."
      ],
      "metadata": {
        "id": "KMc1gJgAHwte"
      }
    },
    {
      "cell_type": "code",
      "execution_count": null,
      "metadata": {
        "id": "qh6dNm2Znfx0"
      },
      "outputs": [],
      "source": [
        "save_preprocess_doc(example_doc, \"example_pp.txt\")"
      ]
    },
    {
      "cell_type": "markdown",
      "source": [
        "On va maintenant appliquer nos fonctions sur tous les documents. On fait une boucle sur les noms des fichiers, on charge le document, on le transforme en objet Spacy, puis on lance nos fonctions. Les fichiers traités sont sauvegardés dans un nouveau dossier et les résultats des statistiques sont enregistrés dans une DataFrame, que l'on affiche."
      ],
      "metadata": {
        "id": "cVYP2qoVH2ee"
      }
    },
    {
      "cell_type": "code",
      "execution_count": null,
      "metadata": {
        "colab": {
          "base_uri": "https://localhost:8080/",
          "height": 1000
        },
        "id": "83qw-bzNbMcX",
        "outputId": "f11ecead-e732-4bfc-ebf9-4ba74dd98c2b"
      },
      "outputs": [
        {
          "output_type": "stream",
          "name": "stderr",
          "text": [
            "100%|██████████| 49/49 [01:33<00:00,  1.91s/it]\n"
          ]
        },
        {
          "output_type": "execute_result",
          "data": {
            "text/plain": [
              "   n_tokens n_lemmas n_lemma_types  \\\n",
              "0       149       63            56   \n",
              "1     31113     9714          3419   \n",
              "2     29786     9463          2789   \n",
              "3     15259     5327          2624   \n",
              "4      6719     2150          1154   \n",
              "5     21198     6771          2413   \n",
              "6      6026     1822           894   \n",
              "7     36967    11066          2934   \n",
              "8      9542     2952          1242   \n",
              "9     29083    10286          3302   \n",
              "10     7566     2556          1367   \n",
              "11    27681     8692          2642   \n",
              "12     8324     2860          1349   \n",
              "13    15973     5292          1942   \n",
              "14    15696     5349          2180   \n",
              "15     6195     1986          1165   \n",
              "16    24528     7511          2434   \n",
              "17    10143     3509          2079   \n",
              "18     5230     1730          1107   \n",
              "19    19476     6362          2611   \n",
              "20    16377     5429          2645   \n",
              "21    10709     3454          1674   \n",
              "22     9228     2941          1307   \n",
              "23     4352     1416           931   \n",
              "24    45740    14086          3451   \n",
              "25    18643     6239          2643   \n",
              "26     9222     2861          1372   \n",
              "27    19010     6227          2435   \n",
              "28     5147     1616           926   \n",
              "29     8297     2540          1162   \n",
              "30    19202     6144          2267   \n",
              "31    12250     4209          2184   \n",
              "32    18246     5487          2011   \n",
              "33     3868     1278           763   \n",
              "34    11318     4020          1952   \n",
              "35     5879     1920          1078   \n",
              "36    16622     5881          2547   \n",
              "37     5686     1915          1095   \n",
              "38     8872     2801          1214   \n",
              "39     9152     3065          1504   \n",
              "40    42720    14285          4025   \n",
              "41     9729     3536          1897   \n",
              "42    21729     7248          2459   \n",
              "43     6096     1956          1120   \n",
              "44    16027     5172          2269   \n",
              "45    12556     4130          1944   \n",
              "46    13141     3785          1489   \n",
              "47     6605     2063           956   \n",
              "48    18018     5596          1975   \n",
              "\n",
              "                                         top_5_lemmas  \\\n",
              "0   {'long': 4, 'les': 2, 'misérables': 2, 'exist'...   \n",
              "1   {'bishop': 181, 'man': 127, 'good': 66, 'old':...   \n",
              "2   {'man': 162, 'jean': 100, 'valjean': 99, 'bish...   \n",
              "3   {'tholomyès': 52, 'de': 43, 'favourite': 41, '...   \n",
              "4   {'child': 43, 'mother': 38, 'little': 36, 'thé...   \n",
              "5   {'m.': 98, 'madeleine': 94, 'man': 93, 'javert...   \n",
              "6   {'m.': 39, 'javert': 38, 'madeleine': 37, 'may...   \n",
              "7   {'man': 138, 'm.': 95, 'go': 63, 'little': 62,...   \n",
              "8   {'javert': 48, 'm.': 42, 'fantine': 38, 'jean'...   \n",
              "9   {'man': 90, 'english': 88, 'battle': 81, 'wate...   \n",
              "10  {'man': 29, 'boulatruelle': 23, 'm.': 20, 'fal...   \n",
              "11  {'thénardier': 174, 'cosette': 154, 'man': 150...   \n",
              "12  {'jean': 48, 'valjean': 48, 'old': 34, 'cosett...   \n",
              "13  {'jean': 116, 'valjean': 115, 'javert': 64, 'm...   \n",
              "14  {'convent': 55, 'mother': 53, 'nun': 43, 'de':...   \n",
              "15  {'man': 27, 'infinite': 18, 'convent': 17, 'ph...   \n",
              "16  {'fauchelevent': 183, 'man': 96, 'jean': 91, '...   \n",
              "17  {'paris': 56, 'child': 38, 'gamin': 36, 'littl...   \n",
              "18  {'m.': 29, 'gillenormand': 29, 'man': 23, 'gre...   \n",
              "19  {'marius': 95, 'm.': 68, 'de': 63, 'man': 63, ...   \n",
              "20  {'marius': 55, 'man': 54, 'enjolras': 39, 'cou...   \n",
              "21  {'marius': 65, 'm.': 36, 'old': 32, 'man': 31,...   \n",
              "22  {'marius': 81, 'day': 36, 'girl': 35, 'bench':...   \n",
              "23  {'man': 21, 'low': 9, 'social': 9, 'work': 8, ...   \n",
              "24  {'marius': 233, 'man': 185, 'jondrette': 147, ...   \n",
              "25  {'man': 83, 'revolution': 54, 'right': 46, 'lo...   \n",
              "26  {'marius': 55, 'man': 32, 'know': 25, 'long': ...   \n",
              "27  {'cosette': 117, 'jean': 99, 'valjean': 99, 'm...   \n",
              "28  {'gavroche': 30, 'man': 27, 'old': 26, 'montpa...   \n",
              "29  {'cosette': 52, 'love': 52, 'think': 23, 'soul...   \n",
              "30  {'gavroche': 124, 'child': 53, 'thénardier': 5...   \n",
              "31  {'slang': 74, 'word': 37, 'man': 35, 'le': 31,...   \n",
              "32  {'marius': 151, 'cosette': 83, 'man': 53, 'com...   \n",
              "33  {'go': 19, 'cosette': 14, 'mabeuf': 14, 'day':...   \n",
              "34  {'rue': 43, 'man': 37, 'insurrection': 29, 're...   \n",
              "35  {'gavroche': 26, 'man': 18, 'old': 17, 'pistol...   \n",
              "36  {'rue': 56, 'man': 51, 'de': 48, 'barricade': ...   \n",
              "37  {'war': 27, 'street': 22, 'rue': 20, 'man': 16...   \n",
              "38  {'marius': 61, 'barricade': 47, 'enjolras': 25...   \n",
              "39  {'jean': 58, 'valjean': 58, 'cosette': 40, 'ga...   \n",
              "40  {'barricade': 167, 'man': 151, 'enjolras': 117...   \n",
              "41  {'sewer': 97, 'paris': 57, 'rue': 45, 'city': ...   \n",
              "42  {'jean': 127, 'valjean': 126, 'man': 97, 'mari...   \n",
              "43  {'javert': 40, 'man': 26, 'jean': 20, 'valjean...   \n",
              "44  {'marius': 91, 'man': 73, 'cosette': 62, 'm.':...   \n",
              "45  {'cosette': 57, 'jean': 39, 'valjean': 38, 'ma...   \n",
              "46  {'marius': 84, 'jean': 79, 'valjean': 79, 'cos...   \n",
              "47  {'jean': 64, 'valjean': 47, 'cosette': 47, 'da...   \n",
              "48  {'marius': 99, 'man': 90, 'cosette': 86, 'jean...   \n",
              "\n",
              "                                          pos_distrib  \\\n",
              "0   {'NOUN': 49.21, 'ADJ': 14.29, 'PROPN': 12.7, '...   \n",
              "1   {'NOUN': 46.41, 'VERB': 23.8, 'ADJ': 13.09, 'P...   \n",
              "2   {'NOUN': 45.74, 'VERB': 26.62, 'ADJ': 12.74, '...   \n",
              "3   {'NOUN': 42.05, 'VERB': 21.34, 'PROPN': 19.24,...   \n",
              "4   {'NOUN': 46.42, 'VERB': 23.21, 'ADJ': 15.91, '...   \n",
              "5   {'NOUN': 45.44, 'VERB': 25.74, 'ADJ': 13.87, '...   \n",
              "6   {'NOUN': 38.75, 'VERB': 26.89, 'PROPN': 18.72,...   \n",
              "7   {'NOUN': 44.34, 'VERB': 28.28, 'ADJ': 12.21, '...   \n",
              "8   {'NOUN': 41.77, 'VERB': 28.01, 'PROPN': 12.8, ...   \n",
              "9   {'NOUN': 46.91, 'VERB': 22.34, 'PROPN': 14.51,...   \n",
              "10  {'NOUN': 49.92, 'VERB': 24.96, 'ADJ': 10.92, '...   \n",
              "11  {'NOUN': 45.26, 'VERB': 26.84, 'ADJ': 13.14, '...   \n",
              "12  {'NOUN': 45.59, 'VERB': 24.13, 'ADJ': 13.81, '...   \n",
              "13  {'NOUN': 41.67, 'VERB': 25.47, 'PROPN': 15.4, ...   \n",
              "14  {'NOUN': 45.0, 'VERB': 20.15, 'PROPN': 16.38, ...   \n",
              "15  {'NOUN': 52.82, 'VERB': 21.05, 'ADJ': 15.96, '...   \n",
              "16  {'NOUN': 43.44, 'VERB': 25.06, 'PROPN': 15.36,...   \n",
              "17  {'NOUN': 45.57, 'VERB': 21.15, 'PROPN': 15.39,...   \n",
              "18  {'NOUN': 43.01, 'VERB': 20.81, 'ADJ': 14.8, 'P...   \n",
              "19  {'NOUN': 42.46, 'VERB': 22.93, 'PROPN': 17.04,...   \n",
              "20  {'NOUN': 43.23, 'VERB': 22.27, 'PROPN': 16.36,...   \n",
              "21  {'NOUN': 45.6, 'VERB': 24.9, 'ADJ': 12.71, 'PR...   \n",
              "22  {'NOUN': 42.71, 'VERB': 26.76, 'ADJ': 14.82, '...   \n",
              "23  {'NOUN': 50.49, 'VERB': 19.21, 'ADJ': 15.04, '...   \n",
              "24  {'NOUN': 44.19, 'VERB': 27.61, 'ADJ': 12.29, '...   \n",
              "25  {'NOUN': 46.5, 'VERB': 20.87, 'ADJ': 14.25, 'P...   \n",
              "26  {'NOUN': 42.29, 'VERB': 26.49, 'PROPN': 13.81,...   \n",
              "27  {'NOUN': 45.7, 'VERB': 24.54, 'ADJ': 14.69, 'P...   \n",
              "28  {'NOUN': 44.68, 'VERB': 26.79, 'ADJ': 13.99, '...   \n",
              "29  {'NOUN': 46.65, 'VERB': 28.03, 'ADJ': 12.28, '...   \n",
              "30  {'NOUN': 44.74, 'VERB': 26.24, 'ADJ': 12.22, '...   \n",
              "31  {'NOUN': 50.53, 'VERB': 20.65, 'ADJ': 15.04, '...   \n",
              "32  {'NOUN': 40.51, 'VERB': 28.07, 'ADJ': 12.43, '...   \n",
              "33  {'NOUN': 40.61, 'VERB': 27.0, 'PROPN': 16.04, ...   \n",
              "34  {'NOUN': 48.21, 'VERB': 20.2, 'PROPN': 15.1, '...   \n",
              "35  {'NOUN': 42.45, 'VERB': 23.18, 'PROPN': 18.54,...   \n",
              "36  {'NOUN': 42.24, 'VERB': 22.45, 'PROPN': 18.31,...   \n",
              "37  {'NOUN': 46.58, 'VERB': 23.86, 'ADJ': 14.36, '...   \n",
              "38  {'NOUN': 41.16, 'VERB': 28.67, 'PROPN': 12.82,...   \n",
              "39  {'NOUN': 42.71, 'VERB': 24.47, 'PROPN': 16.15,...   \n",
              "40  {'NOUN': 48.72, 'VERB': 25.13, 'ADJ': 11.76, '...   \n",
              "41  {'NOUN': 47.45, 'VERB': 18.27, 'PROPN': 15.07,...   \n",
              "42  {'NOUN': 45.06, 'VERB': 26.13, 'ADJ': 12.24, '...   \n",
              "43  {'NOUN': 46.47, 'VERB': 25.56, 'ADJ': 14.52, '...   \n",
              "44  {'NOUN': 42.11, 'VERB': 23.45, 'PROPN': 15.24,...   \n",
              "45  {'NOUN': 45.4, 'VERB': 23.27, 'ADJ': 14.0, 'PR...   \n",
              "46  {'NOUN': 39.31, 'VERB': 28.85, 'PROPN': 13.08,...   \n",
              "47  {'NOUN': 36.06, 'VERB': 27.24, 'PROPN': 16.58,...   \n",
              "48  {'NOUN': 40.01, 'VERB': 27.72, 'PROPN': 13.3, ...   \n",
              "\n",
              "                                           top_5_pers  \n",
              "0          {'LES MISÉRABLES': 1, 'Les Misérables': 1}  \n",
              "1   {'Madame Magloire': 14, 'Magloire': 5, 'Madam ...  \n",
              "2   {'Jean Valjean': 73, 'Madame Magloire': 18, 'L...  \n",
              "3   {'Fantine': 36, 'Tholomyès': 19, 'Favourite': ...  \n",
              "4   {'Fantine': 8, 'Cosette': 5, 'Madame Thénardie...  \n",
              "5   {'Fantine': 54, 'Madeleine': 45, 'M. Madeleine...  \n",
              "6   {'M. Madeleine': 33, 'Mayor': 21, 'Fantine': 1...  \n",
              "7   {'Fantine': 35, 'M. Madeleine': 33, 'Jean Valj...  \n",
              "8   {'Fantine': 37, 'Jean Valjean': 23, 'M. Madele...  \n",
              "9   {'Waterloo': 70, 'Blücher': 21, 'Cambronne': 7...  \n",
              "10  {'Jean Valjean': 14, 'Boulatruelle': 8, 'M. Ma...  \n",
              "11  {'Cosette': 75, 'Thénardier': 59, 'Madame Thén...  \n",
              "12  {'Jean Valjean': 38, 'Cosette': 13, 'Salpêtriè...  \n",
              "13  {'Jean Valjean': 84, 'Cosette': 16, 'Jean\n",
              "Valj...  \n",
              "14  {'Martin Verga': 9, 'Madame Albertine': 4, 'Je...  \n",
              "15  {'Babel': 1, 'Labarre': 1, 'Sirven': 1, 'Thil'...  \n",
              "16  {'Jean Valjean': 66, 'Mestienne': 20, 'Mother'...  \n",
              "17  {'Jack': 2, 'Neuilly': 2, 'Louis XV': 2, 'Barr...  \n",
              "18  {'M. Gillenormand': 14, 'Marais': 2, 'Louis XI...  \n",
              "19  {'M. Gillenormand': 31, 'Théodule': 17, 'Water...  \n",
              "20  {'Combeferre': 9, 'Joly': 6, 'Laigle de Meaux'...  \n",
              "21  {'M. Mabeuf': 18, 'Théodule': 13, 'M. Gillenor...  \n",
              "22  {'M. Leblanc': 14, 'Ursule': 3, 'Monsieur Lebl...  \n",
              "23  {'Babeuf': 3, 'Gueulemer': 3, 'Luther': 2, 'Co...  \n",
              "24  {'Jondrette': 102, 'M. Leblanc': 72, 'Thénardi...  \n",
              "25  {'Louis Philippe': 21, 'Robespierre': 5, 'Gran...  \n",
              "26  {'M. Mabeuf': 8, 'Thénardier': 6, 'Magnon': 5,...  \n",
              "27  {'Jean Valjean': 73, 'Cosette': 46, 'Jean\n",
              "Valj...  \n",
              "28  {'Jean Valjean': 8, 'Cosette': 8, 'Gavroche': ...  \n",
              "29  {'Cosette': 32, 'Jean Valjean': 11, 'Théodule ...  \n",
              "30  {'Gavroche': 37, 'Thénardier': 26, 'Magnon': 1...  \n",
              "31  {'Slang': 5, 'Levantine': 3, 'Thunes': 3, 'Rou...  \n",
              "32  {'Cosette': 30, 'M. Gillenormand': 13, 'Thénar...  \n",
              "33  {'M. Mabeuf': 10, 'Cosette': 6, 'Jean Valjean'...  \n",
              "34  {'Mavot': 3, 'Danton': 2, 'Lombier': 2, 'Grève...  \n",
              "35  {'Gavroche': 6, 'Louis XVIII': 2, 'Patagon': 2...  \n",
              "36  {'Joly': 19, 'Grantaire': 12, 'Laigle': 9, 'Ga...  \n",
              "37  {'Place': 1, 'Saint-Martin': 1, 'Saint-Jacques...  \n",
              "38  {'Enjolras': 5, 'Combeferre': 5, 'Gavroche': 4...  \n",
              "39  {'Jean Valjean': 44, 'Gavroche': 12, 'Cosette'...  \n",
              "40  {'Jean Valjean': 42, 'Combeferre': 16, 'Enjolr...  \n",
              "41  {'Bruneseau': 3, 'Nineveh': 2, 'Henri II': 2, ...  \n",
              "42  {'Jean Valjean': 93, 'Thénardier': 16, 'Jean\n",
              "V...  \n",
              "43  {'Jean Valjean': 17, 'Javert': 1, 'Grève': 1, ...  \n",
              "44  {'M. Gillenormand': 18, 'Cosette': 16, 'Jean V...  \n",
              "45  {'Jean Valjean': 29, 'Cosette': 12, 'M. Gillen...  \n",
              "46  {'Jean Valjean': 57, 'Cosette': 28, 'Jean\n",
              "Valj...  \n",
              "47  {'Jean Valjean': 37, 'Cosette': 22, 'Nicolette...  \n",
              "48  {'Jean Valjean': 54, 'Cosette': 39, 'Thénardie...  "
            ],
            "text/html": [
              "\n",
              "  <div id=\"df-31b67bcf-5d48-4103-87b4-86a274036827\">\n",
              "    <div class=\"colab-df-container\">\n",
              "      <div>\n",
              "<style scoped>\n",
              "    .dataframe tbody tr th:only-of-type {\n",
              "        vertical-align: middle;\n",
              "    }\n",
              "\n",
              "    .dataframe tbody tr th {\n",
              "        vertical-align: top;\n",
              "    }\n",
              "\n",
              "    .dataframe thead th {\n",
              "        text-align: right;\n",
              "    }\n",
              "</style>\n",
              "<table border=\"1\" class=\"dataframe\">\n",
              "  <thead>\n",
              "    <tr style=\"text-align: right;\">\n",
              "      <th></th>\n",
              "      <th>n_tokens</th>\n",
              "      <th>n_lemmas</th>\n",
              "      <th>n_lemma_types</th>\n",
              "      <th>top_5_lemmas</th>\n",
              "      <th>pos_distrib</th>\n",
              "      <th>top_5_pers</th>\n",
              "    </tr>\n",
              "  </thead>\n",
              "  <tbody>\n",
              "    <tr>\n",
              "      <th>0</th>\n",
              "      <td>149</td>\n",
              "      <td>63</td>\n",
              "      <td>56</td>\n",
              "      <td>{'long': 4, 'les': 2, 'misérables': 2, 'exist'...</td>\n",
              "      <td>{'NOUN': 49.21, 'ADJ': 14.29, 'PROPN': 12.7, '...</td>\n",
              "      <td>{'LES MISÉRABLES': 1, 'Les Misérables': 1}</td>\n",
              "    </tr>\n",
              "    <tr>\n",
              "      <th>1</th>\n",
              "      <td>31113</td>\n",
              "      <td>9714</td>\n",
              "      <td>3419</td>\n",
              "      <td>{'bishop': 181, 'man': 127, 'good': 66, 'old':...</td>\n",
              "      <td>{'NOUN': 46.41, 'VERB': 23.8, 'ADJ': 13.09, 'P...</td>\n",
              "      <td>{'Madame Magloire': 14, 'Magloire': 5, 'Madam ...</td>\n",
              "    </tr>\n",
              "    <tr>\n",
              "      <th>2</th>\n",
              "      <td>29786</td>\n",
              "      <td>9463</td>\n",
              "      <td>2789</td>\n",
              "      <td>{'man': 162, 'jean': 100, 'valjean': 99, 'bish...</td>\n",
              "      <td>{'NOUN': 45.74, 'VERB': 26.62, 'ADJ': 12.74, '...</td>\n",
              "      <td>{'Jean Valjean': 73, 'Madame Magloire': 18, 'L...</td>\n",
              "    </tr>\n",
              "    <tr>\n",
              "      <th>3</th>\n",
              "      <td>15259</td>\n",
              "      <td>5327</td>\n",
              "      <td>2624</td>\n",
              "      <td>{'tholomyès': 52, 'de': 43, 'favourite': 41, '...</td>\n",
              "      <td>{'NOUN': 42.05, 'VERB': 21.34, 'PROPN': 19.24,...</td>\n",
              "      <td>{'Fantine': 36, 'Tholomyès': 19, 'Favourite': ...</td>\n",
              "    </tr>\n",
              "    <tr>\n",
              "      <th>4</th>\n",
              "      <td>6719</td>\n",
              "      <td>2150</td>\n",
              "      <td>1154</td>\n",
              "      <td>{'child': 43, 'mother': 38, 'little': 36, 'thé...</td>\n",
              "      <td>{'NOUN': 46.42, 'VERB': 23.21, 'ADJ': 15.91, '...</td>\n",
              "      <td>{'Fantine': 8, 'Cosette': 5, 'Madame Thénardie...</td>\n",
              "    </tr>\n",
              "    <tr>\n",
              "      <th>5</th>\n",
              "      <td>21198</td>\n",
              "      <td>6771</td>\n",
              "      <td>2413</td>\n",
              "      <td>{'m.': 98, 'madeleine': 94, 'man': 93, 'javert...</td>\n",
              "      <td>{'NOUN': 45.44, 'VERB': 25.74, 'ADJ': 13.87, '...</td>\n",
              "      <td>{'Fantine': 54, 'Madeleine': 45, 'M. Madeleine...</td>\n",
              "    </tr>\n",
              "    <tr>\n",
              "      <th>6</th>\n",
              "      <td>6026</td>\n",
              "      <td>1822</td>\n",
              "      <td>894</td>\n",
              "      <td>{'m.': 39, 'javert': 38, 'madeleine': 37, 'may...</td>\n",
              "      <td>{'NOUN': 38.75, 'VERB': 26.89, 'PROPN': 18.72,...</td>\n",
              "      <td>{'M. Madeleine': 33, 'Mayor': 21, 'Fantine': 1...</td>\n",
              "    </tr>\n",
              "    <tr>\n",
              "      <th>7</th>\n",
              "      <td>36967</td>\n",
              "      <td>11066</td>\n",
              "      <td>2934</td>\n",
              "      <td>{'man': 138, 'm.': 95, 'go': 63, 'little': 62,...</td>\n",
              "      <td>{'NOUN': 44.34, 'VERB': 28.28, 'ADJ': 12.21, '...</td>\n",
              "      <td>{'Fantine': 35, 'M. Madeleine': 33, 'Jean Valj...</td>\n",
              "    </tr>\n",
              "    <tr>\n",
              "      <th>8</th>\n",
              "      <td>9542</td>\n",
              "      <td>2952</td>\n",
              "      <td>1242</td>\n",
              "      <td>{'javert': 48, 'm.': 42, 'fantine': 38, 'jean'...</td>\n",
              "      <td>{'NOUN': 41.77, 'VERB': 28.01, 'PROPN': 12.8, ...</td>\n",
              "      <td>{'Fantine': 37, 'Jean Valjean': 23, 'M. Madele...</td>\n",
              "    </tr>\n",
              "    <tr>\n",
              "      <th>9</th>\n",
              "      <td>29083</td>\n",
              "      <td>10286</td>\n",
              "      <td>3302</td>\n",
              "      <td>{'man': 90, 'english': 88, 'battle': 81, 'wate...</td>\n",
              "      <td>{'NOUN': 46.91, 'VERB': 22.34, 'PROPN': 14.51,...</td>\n",
              "      <td>{'Waterloo': 70, 'Blücher': 21, 'Cambronne': 7...</td>\n",
              "    </tr>\n",
              "    <tr>\n",
              "      <th>10</th>\n",
              "      <td>7566</td>\n",
              "      <td>2556</td>\n",
              "      <td>1367</td>\n",
              "      <td>{'man': 29, 'boulatruelle': 23, 'm.': 20, 'fal...</td>\n",
              "      <td>{'NOUN': 49.92, 'VERB': 24.96, 'ADJ': 10.92, '...</td>\n",
              "      <td>{'Jean Valjean': 14, 'Boulatruelle': 8, 'M. Ma...</td>\n",
              "    </tr>\n",
              "    <tr>\n",
              "      <th>11</th>\n",
              "      <td>27681</td>\n",
              "      <td>8692</td>\n",
              "      <td>2642</td>\n",
              "      <td>{'thénardier': 174, 'cosette': 154, 'man': 150...</td>\n",
              "      <td>{'NOUN': 45.26, 'VERB': 26.84, 'ADJ': 13.14, '...</td>\n",
              "      <td>{'Cosette': 75, 'Thénardier': 59, 'Madame Thén...</td>\n",
              "    </tr>\n",
              "    <tr>\n",
              "      <th>12</th>\n",
              "      <td>8324</td>\n",
              "      <td>2860</td>\n",
              "      <td>1349</td>\n",
              "      <td>{'jean': 48, 'valjean': 48, 'old': 34, 'cosett...</td>\n",
              "      <td>{'NOUN': 45.59, 'VERB': 24.13, 'ADJ': 13.81, '...</td>\n",
              "      <td>{'Jean Valjean': 38, 'Cosette': 13, 'Salpêtriè...</td>\n",
              "    </tr>\n",
              "    <tr>\n",
              "      <th>13</th>\n",
              "      <td>15973</td>\n",
              "      <td>5292</td>\n",
              "      <td>1942</td>\n",
              "      <td>{'jean': 116, 'valjean': 115, 'javert': 64, 'm...</td>\n",
              "      <td>{'NOUN': 41.67, 'VERB': 25.47, 'PROPN': 15.4, ...</td>\n",
              "      <td>{'Jean Valjean': 84, 'Cosette': 16, 'Jean\n",
              "Valj...</td>\n",
              "    </tr>\n",
              "    <tr>\n",
              "      <th>14</th>\n",
              "      <td>15696</td>\n",
              "      <td>5349</td>\n",
              "      <td>2180</td>\n",
              "      <td>{'convent': 55, 'mother': 53, 'nun': 43, 'de':...</td>\n",
              "      <td>{'NOUN': 45.0, 'VERB': 20.15, 'PROPN': 16.38, ...</td>\n",
              "      <td>{'Martin Verga': 9, 'Madame Albertine': 4, 'Je...</td>\n",
              "    </tr>\n",
              "    <tr>\n",
              "      <th>15</th>\n",
              "      <td>6195</td>\n",
              "      <td>1986</td>\n",
              "      <td>1165</td>\n",
              "      <td>{'man': 27, 'infinite': 18, 'convent': 17, 'ph...</td>\n",
              "      <td>{'NOUN': 52.82, 'VERB': 21.05, 'ADJ': 15.96, '...</td>\n",
              "      <td>{'Babel': 1, 'Labarre': 1, 'Sirven': 1, 'Thil'...</td>\n",
              "    </tr>\n",
              "    <tr>\n",
              "      <th>16</th>\n",
              "      <td>24528</td>\n",
              "      <td>7511</td>\n",
              "      <td>2434</td>\n",
              "      <td>{'fauchelevent': 183, 'man': 96, 'jean': 91, '...</td>\n",
              "      <td>{'NOUN': 43.44, 'VERB': 25.06, 'PROPN': 15.36,...</td>\n",
              "      <td>{'Jean Valjean': 66, 'Mestienne': 20, 'Mother'...</td>\n",
              "    </tr>\n",
              "    <tr>\n",
              "      <th>17</th>\n",
              "      <td>10143</td>\n",
              "      <td>3509</td>\n",
              "      <td>2079</td>\n",
              "      <td>{'paris': 56, 'child': 38, 'gamin': 36, 'littl...</td>\n",
              "      <td>{'NOUN': 45.57, 'VERB': 21.15, 'PROPN': 15.39,...</td>\n",
              "      <td>{'Jack': 2, 'Neuilly': 2, 'Louis XV': 2, 'Barr...</td>\n",
              "    </tr>\n",
              "    <tr>\n",
              "      <th>18</th>\n",
              "      <td>5230</td>\n",
              "      <td>1730</td>\n",
              "      <td>1107</td>\n",
              "      <td>{'m.': 29, 'gillenormand': 29, 'man': 23, 'gre...</td>\n",
              "      <td>{'NOUN': 43.01, 'VERB': 20.81, 'ADJ': 14.8, 'P...</td>\n",
              "      <td>{'M. Gillenormand': 14, 'Marais': 2, 'Louis XI...</td>\n",
              "    </tr>\n",
              "    <tr>\n",
              "      <th>19</th>\n",
              "      <td>19476</td>\n",
              "      <td>6362</td>\n",
              "      <td>2611</td>\n",
              "      <td>{'marius': 95, 'm.': 68, 'de': 63, 'man': 63, ...</td>\n",
              "      <td>{'NOUN': 42.46, 'VERB': 22.93, 'PROPN': 17.04,...</td>\n",
              "      <td>{'M. Gillenormand': 31, 'Théodule': 17, 'Water...</td>\n",
              "    </tr>\n",
              "    <tr>\n",
              "      <th>20</th>\n",
              "      <td>16377</td>\n",
              "      <td>5429</td>\n",
              "      <td>2645</td>\n",
              "      <td>{'marius': 55, 'man': 54, 'enjolras': 39, 'cou...</td>\n",
              "      <td>{'NOUN': 43.23, 'VERB': 22.27, 'PROPN': 16.36,...</td>\n",
              "      <td>{'Combeferre': 9, 'Joly': 6, 'Laigle de Meaux'...</td>\n",
              "    </tr>\n",
              "    <tr>\n",
              "      <th>21</th>\n",
              "      <td>10709</td>\n",
              "      <td>3454</td>\n",
              "      <td>1674</td>\n",
              "      <td>{'marius': 65, 'm.': 36, 'old': 32, 'man': 31,...</td>\n",
              "      <td>{'NOUN': 45.6, 'VERB': 24.9, 'ADJ': 12.71, 'PR...</td>\n",
              "      <td>{'M. Mabeuf': 18, 'Théodule': 13, 'M. Gillenor...</td>\n",
              "    </tr>\n",
              "    <tr>\n",
              "      <th>22</th>\n",
              "      <td>9228</td>\n",
              "      <td>2941</td>\n",
              "      <td>1307</td>\n",
              "      <td>{'marius': 81, 'day': 36, 'girl': 35, 'bench':...</td>\n",
              "      <td>{'NOUN': 42.71, 'VERB': 26.76, 'ADJ': 14.82, '...</td>\n",
              "      <td>{'M. Leblanc': 14, 'Ursule': 3, 'Monsieur Lebl...</td>\n",
              "    </tr>\n",
              "    <tr>\n",
              "      <th>23</th>\n",
              "      <td>4352</td>\n",
              "      <td>1416</td>\n",
              "      <td>931</td>\n",
              "      <td>{'man': 21, 'low': 9, 'social': 9, 'work': 8, ...</td>\n",
              "      <td>{'NOUN': 50.49, 'VERB': 19.21, 'ADJ': 15.04, '...</td>\n",
              "      <td>{'Babeuf': 3, 'Gueulemer': 3, 'Luther': 2, 'Co...</td>\n",
              "    </tr>\n",
              "    <tr>\n",
              "      <th>24</th>\n",
              "      <td>45740</td>\n",
              "      <td>14086</td>\n",
              "      <td>3451</td>\n",
              "      <td>{'marius': 233, 'man': 185, 'jondrette': 147, ...</td>\n",
              "      <td>{'NOUN': 44.19, 'VERB': 27.61, 'ADJ': 12.29, '...</td>\n",
              "      <td>{'Jondrette': 102, 'M. Leblanc': 72, 'Thénardi...</td>\n",
              "    </tr>\n",
              "    <tr>\n",
              "      <th>25</th>\n",
              "      <td>18643</td>\n",
              "      <td>6239</td>\n",
              "      <td>2643</td>\n",
              "      <td>{'man': 83, 'revolution': 54, 'right': 46, 'lo...</td>\n",
              "      <td>{'NOUN': 46.5, 'VERB': 20.87, 'ADJ': 14.25, 'P...</td>\n",
              "      <td>{'Louis Philippe': 21, 'Robespierre': 5, 'Gran...</td>\n",
              "    </tr>\n",
              "    <tr>\n",
              "      <th>26</th>\n",
              "      <td>9222</td>\n",
              "      <td>2861</td>\n",
              "      <td>1372</td>\n",
              "      <td>{'marius': 55, 'man': 32, 'know': 25, 'long': ...</td>\n",
              "      <td>{'NOUN': 42.29, 'VERB': 26.49, 'PROPN': 13.81,...</td>\n",
              "      <td>{'M. Mabeuf': 8, 'Thénardier': 6, 'Magnon': 5,...</td>\n",
              "    </tr>\n",
              "    <tr>\n",
              "      <th>27</th>\n",
              "      <td>19010</td>\n",
              "      <td>6227</td>\n",
              "      <td>2435</td>\n",
              "      <td>{'cosette': 117, 'jean': 99, 'valjean': 99, 'm...</td>\n",
              "      <td>{'NOUN': 45.7, 'VERB': 24.54, 'ADJ': 14.69, 'P...</td>\n",
              "      <td>{'Jean Valjean': 73, 'Cosette': 46, 'Jean\n",
              "Valj...</td>\n",
              "    </tr>\n",
              "    <tr>\n",
              "      <th>28</th>\n",
              "      <td>5147</td>\n",
              "      <td>1616</td>\n",
              "      <td>926</td>\n",
              "      <td>{'gavroche': 30, 'man': 27, 'old': 26, 'montpa...</td>\n",
              "      <td>{'NOUN': 44.68, 'VERB': 26.79, 'ADJ': 13.99, '...</td>\n",
              "      <td>{'Jean Valjean': 8, 'Cosette': 8, 'Gavroche': ...</td>\n",
              "    </tr>\n",
              "    <tr>\n",
              "      <th>29</th>\n",
              "      <td>8297</td>\n",
              "      <td>2540</td>\n",
              "      <td>1162</td>\n",
              "      <td>{'cosette': 52, 'love': 52, 'think': 23, 'soul...</td>\n",
              "      <td>{'NOUN': 46.65, 'VERB': 28.03, 'ADJ': 12.28, '...</td>\n",
              "      <td>{'Cosette': 32, 'Jean Valjean': 11, 'Théodule ...</td>\n",
              "    </tr>\n",
              "    <tr>\n",
              "      <th>30</th>\n",
              "      <td>19202</td>\n",
              "      <td>6144</td>\n",
              "      <td>2267</td>\n",
              "      <td>{'gavroche': 124, 'child': 53, 'thénardier': 5...</td>\n",
              "      <td>{'NOUN': 44.74, 'VERB': 26.24, 'ADJ': 12.22, '...</td>\n",
              "      <td>{'Gavroche': 37, 'Thénardier': 26, 'Magnon': 1...</td>\n",
              "    </tr>\n",
              "    <tr>\n",
              "      <th>31</th>\n",
              "      <td>12250</td>\n",
              "      <td>4209</td>\n",
              "      <td>2184</td>\n",
              "      <td>{'slang': 74, 'word': 37, 'man': 35, 'le': 31,...</td>\n",
              "      <td>{'NOUN': 50.53, 'VERB': 20.65, 'ADJ': 15.04, '...</td>\n",
              "      <td>{'Slang': 5, 'Levantine': 3, 'Thunes': 3, 'Rou...</td>\n",
              "    </tr>\n",
              "    <tr>\n",
              "      <th>32</th>\n",
              "      <td>18246</td>\n",
              "      <td>5487</td>\n",
              "      <td>2011</td>\n",
              "      <td>{'marius': 151, 'cosette': 83, 'man': 53, 'com...</td>\n",
              "      <td>{'NOUN': 40.51, 'VERB': 28.07, 'ADJ': 12.43, '...</td>\n",
              "      <td>{'Cosette': 30, 'M. Gillenormand': 13, 'Thénar...</td>\n",
              "    </tr>\n",
              "    <tr>\n",
              "      <th>33</th>\n",
              "      <td>3868</td>\n",
              "      <td>1278</td>\n",
              "      <td>763</td>\n",
              "      <td>{'go': 19, 'cosette': 14, 'mabeuf': 14, 'day':...</td>\n",
              "      <td>{'NOUN': 40.61, 'VERB': 27.0, 'PROPN': 16.04, ...</td>\n",
              "      <td>{'M. Mabeuf': 10, 'Cosette': 6, 'Jean Valjean'...</td>\n",
              "    </tr>\n",
              "    <tr>\n",
              "      <th>34</th>\n",
              "      <td>11318</td>\n",
              "      <td>4020</td>\n",
              "      <td>1952</td>\n",
              "      <td>{'rue': 43, 'man': 37, 'insurrection': 29, 're...</td>\n",
              "      <td>{'NOUN': 48.21, 'VERB': 20.2, 'PROPN': 15.1, '...</td>\n",
              "      <td>{'Mavot': 3, 'Danton': 2, 'Lombier': 2, 'Grève...</td>\n",
              "    </tr>\n",
              "    <tr>\n",
              "      <th>35</th>\n",
              "      <td>5879</td>\n",
              "      <td>1920</td>\n",
              "      <td>1078</td>\n",
              "      <td>{'gavroche': 26, 'man': 18, 'old': 17, 'pistol...</td>\n",
              "      <td>{'NOUN': 42.45, 'VERB': 23.18, 'PROPN': 18.54,...</td>\n",
              "      <td>{'Gavroche': 6, 'Louis XVIII': 2, 'Patagon': 2...</td>\n",
              "    </tr>\n",
              "    <tr>\n",
              "      <th>36</th>\n",
              "      <td>16622</td>\n",
              "      <td>5881</td>\n",
              "      <td>2547</td>\n",
              "      <td>{'rue': 56, 'man': 51, 'de': 48, 'barricade': ...</td>\n",
              "      <td>{'NOUN': 42.24, 'VERB': 22.45, 'PROPN': 18.31,...</td>\n",
              "      <td>{'Joly': 19, 'Grantaire': 12, 'Laigle': 9, 'Ga...</td>\n",
              "    </tr>\n",
              "    <tr>\n",
              "      <th>37</th>\n",
              "      <td>5686</td>\n",
              "      <td>1915</td>\n",
              "      <td>1095</td>\n",
              "      <td>{'war': 27, 'street': 22, 'rue': 20, 'man': 16...</td>\n",
              "      <td>{'NOUN': 46.58, 'VERB': 23.86, 'ADJ': 14.36, '...</td>\n",
              "      <td>{'Place': 1, 'Saint-Martin': 1, 'Saint-Jacques...</td>\n",
              "    </tr>\n",
              "    <tr>\n",
              "      <th>38</th>\n",
              "      <td>8872</td>\n",
              "      <td>2801</td>\n",
              "      <td>1214</td>\n",
              "      <td>{'marius': 61, 'barricade': 47, 'enjolras': 25...</td>\n",
              "      <td>{'NOUN': 41.16, 'VERB': 28.67, 'PROPN': 12.82,...</td>\n",
              "      <td>{'Enjolras': 5, 'Combeferre': 5, 'Gavroche': 4...</td>\n",
              "    </tr>\n",
              "    <tr>\n",
              "      <th>39</th>\n",
              "      <td>9152</td>\n",
              "      <td>3065</td>\n",
              "      <td>1504</td>\n",
              "      <td>{'jean': 58, 'valjean': 58, 'cosette': 40, 'ga...</td>\n",
              "      <td>{'NOUN': 42.71, 'VERB': 24.47, 'PROPN': 16.15,...</td>\n",
              "      <td>{'Jean Valjean': 44, 'Gavroche': 12, 'Cosette'...</td>\n",
              "    </tr>\n",
              "    <tr>\n",
              "      <th>40</th>\n",
              "      <td>42720</td>\n",
              "      <td>14285</td>\n",
              "      <td>4025</td>\n",
              "      <td>{'barricade': 167, 'man': 151, 'enjolras': 117...</td>\n",
              "      <td>{'NOUN': 48.72, 'VERB': 25.13, 'ADJ': 11.76, '...</td>\n",
              "      <td>{'Jean Valjean': 42, 'Combeferre': 16, 'Enjolr...</td>\n",
              "    </tr>\n",
              "    <tr>\n",
              "      <th>41</th>\n",
              "      <td>9729</td>\n",
              "      <td>3536</td>\n",
              "      <td>1897</td>\n",
              "      <td>{'sewer': 97, 'paris': 57, 'rue': 45, 'city': ...</td>\n",
              "      <td>{'NOUN': 47.45, 'VERB': 18.27, 'PROPN': 15.07,...</td>\n",
              "      <td>{'Bruneseau': 3, 'Nineveh': 2, 'Henri II': 2, ...</td>\n",
              "    </tr>\n",
              "    <tr>\n",
              "      <th>42</th>\n",
              "      <td>21729</td>\n",
              "      <td>7248</td>\n",
              "      <td>2459</td>\n",
              "      <td>{'jean': 127, 'valjean': 126, 'man': 97, 'mari...</td>\n",
              "      <td>{'NOUN': 45.06, 'VERB': 26.13, 'ADJ': 12.24, '...</td>\n",
              "      <td>{'Jean Valjean': 93, 'Thénardier': 16, 'Jean\n",
              "V...</td>\n",
              "    </tr>\n",
              "    <tr>\n",
              "      <th>43</th>\n",
              "      <td>6096</td>\n",
              "      <td>1956</td>\n",
              "      <td>1120</td>\n",
              "      <td>{'javert': 40, 'man': 26, 'jean': 20, 'valjean...</td>\n",
              "      <td>{'NOUN': 46.47, 'VERB': 25.56, 'ADJ': 14.52, '...</td>\n",
              "      <td>{'Jean Valjean': 17, 'Javert': 1, 'Grève': 1, ...</td>\n",
              "    </tr>\n",
              "    <tr>\n",
              "      <th>44</th>\n",
              "      <td>16027</td>\n",
              "      <td>5172</td>\n",
              "      <td>2269</td>\n",
              "      <td>{'marius': 91, 'man': 73, 'cosette': 62, 'm.':...</td>\n",
              "      <td>{'NOUN': 42.11, 'VERB': 23.45, 'PROPN': 15.24,...</td>\n",
              "      <td>{'M. Gillenormand': 18, 'Cosette': 16, 'Jean V...</td>\n",
              "    </tr>\n",
              "    <tr>\n",
              "      <th>45</th>\n",
              "      <td>12556</td>\n",
              "      <td>4130</td>\n",
              "      <td>1944</td>\n",
              "      <td>{'cosette': 57, 'jean': 39, 'valjean': 38, 'ma...</td>\n",
              "      <td>{'NOUN': 45.4, 'VERB': 23.27, 'ADJ': 14.0, 'PR...</td>\n",
              "      <td>{'Jean Valjean': 29, 'Cosette': 12, 'M. Gillen...</td>\n",
              "    </tr>\n",
              "    <tr>\n",
              "      <th>46</th>\n",
              "      <td>13141</td>\n",
              "      <td>3785</td>\n",
              "      <td>1489</td>\n",
              "      <td>{'marius': 84, 'jean': 79, 'valjean': 79, 'cos...</td>\n",
              "      <td>{'NOUN': 39.31, 'VERB': 28.85, 'PROPN': 13.08,...</td>\n",
              "      <td>{'Jean Valjean': 57, 'Cosette': 28, 'Jean\n",
              "Valj...</td>\n",
              "    </tr>\n",
              "    <tr>\n",
              "      <th>47</th>\n",
              "      <td>6605</td>\n",
              "      <td>2063</td>\n",
              "      <td>956</td>\n",
              "      <td>{'jean': 64, 'valjean': 47, 'cosette': 47, 'da...</td>\n",
              "      <td>{'NOUN': 36.06, 'VERB': 27.24, 'PROPN': 16.58,...</td>\n",
              "      <td>{'Jean Valjean': 37, 'Cosette': 22, 'Nicolette...</td>\n",
              "    </tr>\n",
              "    <tr>\n",
              "      <th>48</th>\n",
              "      <td>18018</td>\n",
              "      <td>5596</td>\n",
              "      <td>1975</td>\n",
              "      <td>{'marius': 99, 'man': 90, 'cosette': 86, 'jean...</td>\n",
              "      <td>{'NOUN': 40.01, 'VERB': 27.72, 'PROPN': 13.3, ...</td>\n",
              "      <td>{'Jean Valjean': 54, 'Cosette': 39, 'Thénardie...</td>\n",
              "    </tr>\n",
              "  </tbody>\n",
              "</table>\n",
              "</div>\n",
              "      <button class=\"colab-df-convert\" onclick=\"convertToInteractive('df-31b67bcf-5d48-4103-87b4-86a274036827')\"\n",
              "              title=\"Convert this dataframe to an interactive table.\"\n",
              "              style=\"display:none;\">\n",
              "        \n",
              "  <svg xmlns=\"http://www.w3.org/2000/svg\" height=\"24px\"viewBox=\"0 0 24 24\"\n",
              "       width=\"24px\">\n",
              "    <path d=\"M0 0h24v24H0V0z\" fill=\"none\"/>\n",
              "    <path d=\"M18.56 5.44l.94 2.06.94-2.06 2.06-.94-2.06-.94-.94-2.06-.94 2.06-2.06.94zm-11 1L8.5 8.5l.94-2.06 2.06-.94-2.06-.94L8.5 2.5l-.94 2.06-2.06.94zm10 10l.94 2.06.94-2.06 2.06-.94-2.06-.94-.94-2.06-.94 2.06-2.06.94z\"/><path d=\"M17.41 7.96l-1.37-1.37c-.4-.4-.92-.59-1.43-.59-.52 0-1.04.2-1.43.59L10.3 9.45l-7.72 7.72c-.78.78-.78 2.05 0 2.83L4 21.41c.39.39.9.59 1.41.59.51 0 1.02-.2 1.41-.59l7.78-7.78 2.81-2.81c.8-.78.8-2.07 0-2.86zM5.41 20L4 18.59l7.72-7.72 1.47 1.35L5.41 20z\"/>\n",
              "  </svg>\n",
              "      </button>\n",
              "      \n",
              "  <style>\n",
              "    .colab-df-container {\n",
              "      display:flex;\n",
              "      flex-wrap:wrap;\n",
              "      gap: 12px;\n",
              "    }\n",
              "\n",
              "    .colab-df-convert {\n",
              "      background-color: #E8F0FE;\n",
              "      border: none;\n",
              "      border-radius: 50%;\n",
              "      cursor: pointer;\n",
              "      display: none;\n",
              "      fill: #1967D2;\n",
              "      height: 32px;\n",
              "      padding: 0 0 0 0;\n",
              "      width: 32px;\n",
              "    }\n",
              "\n",
              "    .colab-df-convert:hover {\n",
              "      background-color: #E2EBFA;\n",
              "      box-shadow: 0px 1px 2px rgba(60, 64, 67, 0.3), 0px 1px 3px 1px rgba(60, 64, 67, 0.15);\n",
              "      fill: #174EA6;\n",
              "    }\n",
              "\n",
              "    [theme=dark] .colab-df-convert {\n",
              "      background-color: #3B4455;\n",
              "      fill: #D2E3FC;\n",
              "    }\n",
              "\n",
              "    [theme=dark] .colab-df-convert:hover {\n",
              "      background-color: #434B5C;\n",
              "      box-shadow: 0px 1px 3px 1px rgba(0, 0, 0, 0.15);\n",
              "      filter: drop-shadow(0px 1px 2px rgba(0, 0, 0, 0.3));\n",
              "      fill: #FFFFFF;\n",
              "    }\n",
              "  </style>\n",
              "\n",
              "      <script>\n",
              "        const buttonEl =\n",
              "          document.querySelector('#df-31b67bcf-5d48-4103-87b4-86a274036827 button.colab-df-convert');\n",
              "        buttonEl.style.display =\n",
              "          google.colab.kernel.accessAllowed ? 'block' : 'none';\n",
              "\n",
              "        async function convertToInteractive(key) {\n",
              "          const element = document.querySelector('#df-31b67bcf-5d48-4103-87b4-86a274036827');\n",
              "          const dataTable =\n",
              "            await google.colab.kernel.invokeFunction('convertToInteractive',\n",
              "                                                     [key], {});\n",
              "          if (!dataTable) return;\n",
              "\n",
              "          const docLinkHtml = 'Like what you see? Visit the ' +\n",
              "            '<a target=\"_blank\" href=https://colab.research.google.com/notebooks/data_table.ipynb>data table notebook</a>'\n",
              "            + ' to learn more about interactive tables.';\n",
              "          element.innerHTML = '';\n",
              "          dataTable['output_type'] = 'display_data';\n",
              "          await google.colab.output.renderOutput(dataTable, element);\n",
              "          const docLink = document.createElement('div');\n",
              "          docLink.innerHTML = docLinkHtml;\n",
              "          element.appendChild(docLink);\n",
              "        }\n",
              "      </script>\n",
              "    </div>\n",
              "  </div>\n",
              "  "
            ]
          },
          "metadata": {},
          "execution_count": 38
        }
      ],
      "source": [
        "# Notre DataFrame de résultats\n",
        "stat_results = pd.DataFrame(None, columns=[\"n_tokens\", \"n_lemmas\", \n",
        "                                           \"n_lemma_types\", \"top_5_lemmas\",\n",
        "                                           \"pos_distrib\", \"top_5_pers\"])\n",
        "# Notre dossier contenant le corpus pré-traité\n",
        "corpus_pp_path = \"/content/drive/MyDrive/Colab Notebooks/ml_data/TP10/by_book_pp\"\n",
        "os.makedirs(corpus_pp_path, exist_ok=True)\n",
        "for file_name in tqdm(file_names):\n",
        "  # Le chemin du fichier\n",
        "  file_path = f\"{corpus_path}/{file_name}\"\n",
        "  # On l'ouvre \n",
        "  with open(file_path, \"r\") as text_file:\n",
        "    text = text_file.read()\n",
        "  # On le transform en doc spacy\n",
        "  doc = nlp(text)\n",
        "  # Les statistiques\n",
        "  stat_dict = get_statistics(doc)\n",
        "  # En ligne et dans la Dataframe\n",
        "  new_row = pd.DataFrame.from_dict(stat_dict, orient=\"index\").T\n",
        "  stat_results = pd.concat([stat_results, new_row], axis=0, ignore_index=True)\n",
        "  # La sauvegarde du corpus prétraité\n",
        "  save_preprocess_doc(doc, f\"{corpus_pp_path}/{file_name}\")\n",
        "\n",
        "stat_results"
      ]
    },
    {
      "cell_type": "markdown",
      "metadata": {
        "id": "Hsxq7kqQt-J9"
      },
      "source": [
        "---"
      ]
    },
    {
      "cell_type": "markdown",
      "source": [
        "## 2. Construction de la matrice terme-document, pondération tf-idf et filtrage des mots selon leur fréquence.\n",
        "\n",
        "Nos premières analyses vont utiliser le corpus avec la table terme-document (la transposée de document-terme). Il y a plusieurs manière de l'obtenir, mais nous allons utiliser ici **Gensim**, qui propose des objets permettant de la manipuler aisément.\n",
        "\n",
        "On commence par charger notre corpus en tant que liste de liste (liste de documents, qui sont des listes de tokens). On affiche les 10 premiers tokens du premier document."
      ],
      "metadata": {
        "id": "6dvuccudITDN"
      }
    },
    {
      "cell_type": "code",
      "execution_count": 10,
      "metadata": {
        "colab": {
          "base_uri": "https://localhost:8080/"
        },
        "id": "eVgzjpWps30c",
        "outputId": "75268426-e717-40cd-959c-ebc2916733ff"
      },
      "outputs": [
        {
          "output_type": "execute_result",
          "data": {
            "text/plain": [
              "['les',\n",
              " 'misérables',\n",
              " 'preface',\n",
              " 'long',\n",
              " 'shall',\n",
              " 'exist',\n",
              " 'virtue',\n",
              " 'law',\n",
              " 'custom',\n",
              " 'decree']"
            ]
          },
          "metadata": {},
          "execution_count": 10
        }
      ],
      "source": [
        "corpus_pp_path = \"/content/drive/MyDrive/Colab Notebooks/ml_data/TP10/by_book_pp\"\n",
        "file_names = os.listdir(corpus_pp_path)\n",
        "\n",
        "texts = []\n",
        "for file_name in file_names:\n",
        "  with open(f\"{corpus_pp_path}/{file_name}\") as text_file:\n",
        "    texts.append(text_file.read().split())\n",
        "\n",
        "texts[0][:10]"
      ]
    },
    {
      "cell_type": "markdown",
      "source": [
        "Gensim utilise un objet de type `gensim.corpora.Dictionary` pour traduire les tokens de notre corpus en identifiant numérique. On doit créer cette objet en donnant notre corpus. Si un token `t` se traduit par l'identifiant `i`, alors `dictionary[i]` donne `t` et `dictionary.token2id[t]` donne `i`."
      ],
      "metadata": {
        "id": "o8QSNNrnJYHM"
      }
    },
    {
      "cell_type": "code",
      "execution_count": 13,
      "metadata": {
        "colab": {
          "base_uri": "https://localhost:8080/"
        },
        "id": "ukXGp0gvxzPD",
        "outputId": "78c23b06-7f52-412c-9e26-fb4b3edf1f1d"
      },
      "outputs": [
        {
          "output_type": "stream",
          "name": "stdout",
          "text": [
            "17692\n",
            "1862 -> 0\n",
            "add -> 1\n",
            "amid -> 2\n",
            "artificially -> 3\n",
            "asphyxia -> 4\n",
            "book -> 5\n",
            "century -> 6\n",
            "child -> 7\n",
            "civilization -> 8\n",
            "corruption -> 9\n",
            "create -> 10\n"
          ]
        }
      ],
      "source": [
        "dictionary = gensim.corpora.Dictionary(texts)\n",
        "print(len(dictionary))\n",
        "for key, id in dictionary.token2id.items():\n",
        "  if id > 10:\n",
        "    break\n",
        "  print(f\"{key} -> {id}\")"
      ]
    },
    {
      "cell_type": "markdown",
      "source": [
        "La méthode `dictionary.doc2bow(text)` va maintenant traduire un texte donné en corpus bag-of-words. Cela nous donnera un liste de couples (id_token, fréquence). On va traduire tout le corpus avec une compréhension de liste."
      ],
      "metadata": {
        "id": "OEFBHcJ4KdIt"
      }
    },
    {
      "cell_type": "code",
      "execution_count": null,
      "metadata": {
        "colab": {
          "base_uri": "https://localhost:8080/"
        },
        "id": "-0KjNxsy4DRC",
        "outputId": "04650e72-abcb-4630-e8e5-033cd5d7f42c"
      },
      "outputs": [
        {
          "output_type": "execute_result",
          "data": {
            "text/plain": [
              "[(0, 1),\n",
              " (1, 1),\n",
              " (2, 1),\n",
              " (3, 1),\n",
              " (4, 1),\n",
              " (5, 1),\n",
              " (6, 1),\n",
              " (7, 1),\n",
              " (8, 1),\n",
              " (9, 1)]"
            ]
          },
          "metadata": {},
          "execution_count": 50
        }
      ],
      "source": [
        "corpus = [dictionary.doc2bow(text) for text in texts]\n",
        "corpus[0][:10]"
      ]
    },
    {
      "cell_type": "markdown",
      "source": [
        "En passant le corpus bag-of-words dans la construction d'un objet `gensim.models.TfidfModel`, on peut obtenir cette fois notre corpus avec pondération tf-idf."
      ],
      "metadata": {
        "id": "2M3JWyXBLF-D"
      }
    },
    {
      "cell_type": "code",
      "execution_count": null,
      "metadata": {
        "colab": {
          "base_uri": "https://localhost:8080/"
        },
        "id": "FKXnln1F6sAZ",
        "outputId": "58cf7528-a383-41a6-ad8b-4d27bf88ff6a"
      },
      "outputs": [
        {
          "output_type": "execute_result",
          "data": {
            "text/plain": [
              "[(0, 0.21328200090566832),\n",
              " (1, 0.005678175633485706),\n",
              " (2, 0.02243538781190908),\n",
              " (3, 0.2594998581730436),\n",
              " (4, 0.21328200090566832),\n",
              " (5, 0.015219892820999606),\n",
              " (6, 0.02635877076414738),\n",
              " (7, 0.002778663447252602),\n",
              " (8, 0.050430517347871656),\n",
              " (9, 0.12084628637091777)]"
            ]
          },
          "metadata": {},
          "execution_count": 51
        }
      ],
      "source": [
        "tfidf = TfidfModel(corpus)\n",
        "corpus_tfidf = tfidf[corpus]\n",
        "corpus_tfidf[0][:10]"
      ]
    },
    {
      "cell_type": "markdown",
      "source": [
        "Nous allons afficher ici les 10 mots avec la plus grande pondération tf-idf dans chacun de nos documents. On affiche le résultat dans une DataFrame. On voit que ces mots sont assez représentatifs des différents livres."
      ],
      "metadata": {
        "id": "QFn-cnFYLYru"
      }
    },
    {
      "cell_type": "code",
      "execution_count": null,
      "metadata": {
        "colab": {
          "base_uri": "https://localhost:8080/",
          "height": 474
        },
        "id": "2xR9JUGU70lb",
        "outputId": "df22c6a4-961f-4f02-f76c-263289863511"
      },
      "outputs": [
        {
          "output_type": "execute_result",
          "data": {
            "text/plain": [
              "             0              1            2            3           4   \\\n",
              "0    misérables         bishop     magloire    favourite  thénardier   \n",
              "1  artificially       magloire       bishop    tholomyès      outfit   \n",
              "2     crippling         myriel      valjean  blachevelle   tholomyès   \n",
              "3    hauteville    monseigneur  monseigneur       dahlia     romance   \n",
              "4       preface              d   baptistine      zéphine       swing   \n",
              "5      unsolved     baptistine     nineteen    listolier       truck   \n",
              "6     world;—in       bienvenu     knapsack      fantine     cosette   \n",
              "7          1862  conventionary      gervais     bombarda     fantine   \n",
              "8      asphyxia              g      labarre      fameuil    hostelry   \n",
              "9     pauperism     convention       madame         1817        fore   \n",
              "\n",
              "           5             6             7          8           9   ...  \\\n",
              "0   madeleine     madeleine       tilbury    fantine  wellington  ...   \n",
              "1     fantine         mayor     president     javert  cuirassier  ...   \n",
              "2      javert        javert   scaufflaire  madeleine    waterloo  ...   \n",
              "3       mayor           mr.         arras   simplice     english  ...   \n",
              "4         sur  champmathieu     madeleine      maire   hougomont  ...   \n",
              "5    workroom       fantine      simplice     sister     blücher  ...   \n",
              "6  marguerite        brevet         usher    valjean     genappe  ...   \n",
              "7          m.       valjean  champmathieu      mayor      battle  ...   \n",
              "8       maire        docket         maire        nun        haie  ...   \n",
              "9        town    faverolles   wheelwright   portress     plateau  ...   \n",
              "\n",
              "          39            40            41       42             43  \\\n",
              "0   gavroche      enjolras         sewer    sewer         javert   \n",
              "1        lon     barricade     bruneseau  valjean        valjean   \n",
              "2         où     insurgent         metre   marius           quay   \n",
              "3      fille       redoubt      cesspool   javert        canteen   \n",
              "4       vont    combeferre         filth   fontis       châtelet   \n",
              "5    valjean      gavroche  subterranean     sand        parapet   \n",
              "6      belle        marius          city    beach        handing   \n",
              "7    cosette     cartridge        manure    shore      him,—this   \n",
              "8    blotter  insurrection        trench     jean  infallibility   \n",
              "9  auvergnat        cannon         marat     quay        convict   \n",
              "\n",
              "             44            45            46         47          48  \n",
              "0        marius       wedding        marius    cosette      marius  \n",
              "1  boulatruelle        masker       cosette    valjean     cosette  \n",
              "2  gillenormand       cosette       valjean     basque       baron  \n",
              "3       cosette  gillenormand  fauchelevent       jean     valjean  \n",
              "4  fauchelevent       valjean          jean  nicolette  thénardier  \n",
              "5       wedding        marius        basque     marius         thy  \n",
              "6   grandfather        shrove     pontmercy      adieu     changer  \n",
              "7         marry         bride       convict     filles        thou  \n",
              "8       chénier      fishwife           sir   armchair   pontmercy  \n",
              "9         andré         sancy        motive       armé       didst  \n",
              "\n",
              "[10 rows x 49 columns]"
            ],
            "text/html": [
              "\n",
              "  <div id=\"df-544e5a87-57cf-47ad-a0f1-77b697074e93\">\n",
              "    <div class=\"colab-df-container\">\n",
              "      <div>\n",
              "<style scoped>\n",
              "    .dataframe tbody tr th:only-of-type {\n",
              "        vertical-align: middle;\n",
              "    }\n",
              "\n",
              "    .dataframe tbody tr th {\n",
              "        vertical-align: top;\n",
              "    }\n",
              "\n",
              "    .dataframe thead th {\n",
              "        text-align: right;\n",
              "    }\n",
              "</style>\n",
              "<table border=\"1\" class=\"dataframe\">\n",
              "  <thead>\n",
              "    <tr style=\"text-align: right;\">\n",
              "      <th></th>\n",
              "      <th>0</th>\n",
              "      <th>1</th>\n",
              "      <th>2</th>\n",
              "      <th>3</th>\n",
              "      <th>4</th>\n",
              "      <th>5</th>\n",
              "      <th>6</th>\n",
              "      <th>7</th>\n",
              "      <th>8</th>\n",
              "      <th>9</th>\n",
              "      <th>...</th>\n",
              "      <th>39</th>\n",
              "      <th>40</th>\n",
              "      <th>41</th>\n",
              "      <th>42</th>\n",
              "      <th>43</th>\n",
              "      <th>44</th>\n",
              "      <th>45</th>\n",
              "      <th>46</th>\n",
              "      <th>47</th>\n",
              "      <th>48</th>\n",
              "    </tr>\n",
              "  </thead>\n",
              "  <tbody>\n",
              "    <tr>\n",
              "      <th>0</th>\n",
              "      <td>misérables</td>\n",
              "      <td>bishop</td>\n",
              "      <td>magloire</td>\n",
              "      <td>favourite</td>\n",
              "      <td>thénardier</td>\n",
              "      <td>madeleine</td>\n",
              "      <td>madeleine</td>\n",
              "      <td>tilbury</td>\n",
              "      <td>fantine</td>\n",
              "      <td>wellington</td>\n",
              "      <td>...</td>\n",
              "      <td>gavroche</td>\n",
              "      <td>enjolras</td>\n",
              "      <td>sewer</td>\n",
              "      <td>sewer</td>\n",
              "      <td>javert</td>\n",
              "      <td>marius</td>\n",
              "      <td>wedding</td>\n",
              "      <td>marius</td>\n",
              "      <td>cosette</td>\n",
              "      <td>marius</td>\n",
              "    </tr>\n",
              "    <tr>\n",
              "      <th>1</th>\n",
              "      <td>artificially</td>\n",
              "      <td>magloire</td>\n",
              "      <td>bishop</td>\n",
              "      <td>tholomyès</td>\n",
              "      <td>outfit</td>\n",
              "      <td>fantine</td>\n",
              "      <td>mayor</td>\n",
              "      <td>president</td>\n",
              "      <td>javert</td>\n",
              "      <td>cuirassier</td>\n",
              "      <td>...</td>\n",
              "      <td>lon</td>\n",
              "      <td>barricade</td>\n",
              "      <td>bruneseau</td>\n",
              "      <td>valjean</td>\n",
              "      <td>valjean</td>\n",
              "      <td>boulatruelle</td>\n",
              "      <td>masker</td>\n",
              "      <td>cosette</td>\n",
              "      <td>valjean</td>\n",
              "      <td>cosette</td>\n",
              "    </tr>\n",
              "    <tr>\n",
              "      <th>2</th>\n",
              "      <td>crippling</td>\n",
              "      <td>myriel</td>\n",
              "      <td>valjean</td>\n",
              "      <td>blachevelle</td>\n",
              "      <td>tholomyès</td>\n",
              "      <td>javert</td>\n",
              "      <td>javert</td>\n",
              "      <td>scaufflaire</td>\n",
              "      <td>madeleine</td>\n",
              "      <td>waterloo</td>\n",
              "      <td>...</td>\n",
              "      <td>où</td>\n",
              "      <td>insurgent</td>\n",
              "      <td>metre</td>\n",
              "      <td>marius</td>\n",
              "      <td>quay</td>\n",
              "      <td>gillenormand</td>\n",
              "      <td>cosette</td>\n",
              "      <td>valjean</td>\n",
              "      <td>basque</td>\n",
              "      <td>baron</td>\n",
              "    </tr>\n",
              "    <tr>\n",
              "      <th>3</th>\n",
              "      <td>hauteville</td>\n",
              "      <td>monseigneur</td>\n",
              "      <td>monseigneur</td>\n",
              "      <td>dahlia</td>\n",
              "      <td>romance</td>\n",
              "      <td>mayor</td>\n",
              "      <td>mr.</td>\n",
              "      <td>arras</td>\n",
              "      <td>simplice</td>\n",
              "      <td>english</td>\n",
              "      <td>...</td>\n",
              "      <td>fille</td>\n",
              "      <td>redoubt</td>\n",
              "      <td>cesspool</td>\n",
              "      <td>javert</td>\n",
              "      <td>canteen</td>\n",
              "      <td>cosette</td>\n",
              "      <td>gillenormand</td>\n",
              "      <td>fauchelevent</td>\n",
              "      <td>jean</td>\n",
              "      <td>valjean</td>\n",
              "    </tr>\n",
              "    <tr>\n",
              "      <th>4</th>\n",
              "      <td>preface</td>\n",
              "      <td>d</td>\n",
              "      <td>baptistine</td>\n",
              "      <td>zéphine</td>\n",
              "      <td>swing</td>\n",
              "      <td>sur</td>\n",
              "      <td>champmathieu</td>\n",
              "      <td>madeleine</td>\n",
              "      <td>maire</td>\n",
              "      <td>hougomont</td>\n",
              "      <td>...</td>\n",
              "      <td>vont</td>\n",
              "      <td>combeferre</td>\n",
              "      <td>filth</td>\n",
              "      <td>fontis</td>\n",
              "      <td>châtelet</td>\n",
              "      <td>fauchelevent</td>\n",
              "      <td>valjean</td>\n",
              "      <td>jean</td>\n",
              "      <td>nicolette</td>\n",
              "      <td>thénardier</td>\n",
              "    </tr>\n",
              "    <tr>\n",
              "      <th>5</th>\n",
              "      <td>unsolved</td>\n",
              "      <td>baptistine</td>\n",
              "      <td>nineteen</td>\n",
              "      <td>listolier</td>\n",
              "      <td>truck</td>\n",
              "      <td>workroom</td>\n",
              "      <td>fantine</td>\n",
              "      <td>simplice</td>\n",
              "      <td>sister</td>\n",
              "      <td>blücher</td>\n",
              "      <td>...</td>\n",
              "      <td>valjean</td>\n",
              "      <td>gavroche</td>\n",
              "      <td>subterranean</td>\n",
              "      <td>sand</td>\n",
              "      <td>parapet</td>\n",
              "      <td>wedding</td>\n",
              "      <td>marius</td>\n",
              "      <td>basque</td>\n",
              "      <td>marius</td>\n",
              "      <td>thy</td>\n",
              "    </tr>\n",
              "    <tr>\n",
              "      <th>6</th>\n",
              "      <td>world;—in</td>\n",
              "      <td>bienvenu</td>\n",
              "      <td>knapsack</td>\n",
              "      <td>fantine</td>\n",
              "      <td>cosette</td>\n",
              "      <td>marguerite</td>\n",
              "      <td>brevet</td>\n",
              "      <td>usher</td>\n",
              "      <td>valjean</td>\n",
              "      <td>genappe</td>\n",
              "      <td>...</td>\n",
              "      <td>belle</td>\n",
              "      <td>marius</td>\n",
              "      <td>city</td>\n",
              "      <td>beach</td>\n",
              "      <td>handing</td>\n",
              "      <td>grandfather</td>\n",
              "      <td>shrove</td>\n",
              "      <td>pontmercy</td>\n",
              "      <td>adieu</td>\n",
              "      <td>changer</td>\n",
              "    </tr>\n",
              "    <tr>\n",
              "      <th>7</th>\n",
              "      <td>1862</td>\n",
              "      <td>conventionary</td>\n",
              "      <td>gervais</td>\n",
              "      <td>bombarda</td>\n",
              "      <td>fantine</td>\n",
              "      <td>m.</td>\n",
              "      <td>valjean</td>\n",
              "      <td>champmathieu</td>\n",
              "      <td>mayor</td>\n",
              "      <td>battle</td>\n",
              "      <td>...</td>\n",
              "      <td>cosette</td>\n",
              "      <td>cartridge</td>\n",
              "      <td>manure</td>\n",
              "      <td>shore</td>\n",
              "      <td>him,—this</td>\n",
              "      <td>marry</td>\n",
              "      <td>bride</td>\n",
              "      <td>convict</td>\n",
              "      <td>filles</td>\n",
              "      <td>thou</td>\n",
              "    </tr>\n",
              "    <tr>\n",
              "      <th>8</th>\n",
              "      <td>asphyxia</td>\n",
              "      <td>g</td>\n",
              "      <td>labarre</td>\n",
              "      <td>fameuil</td>\n",
              "      <td>hostelry</td>\n",
              "      <td>maire</td>\n",
              "      <td>docket</td>\n",
              "      <td>maire</td>\n",
              "      <td>nun</td>\n",
              "      <td>haie</td>\n",
              "      <td>...</td>\n",
              "      <td>blotter</td>\n",
              "      <td>insurrection</td>\n",
              "      <td>trench</td>\n",
              "      <td>jean</td>\n",
              "      <td>infallibility</td>\n",
              "      <td>chénier</td>\n",
              "      <td>fishwife</td>\n",
              "      <td>sir</td>\n",
              "      <td>armchair</td>\n",
              "      <td>pontmercy</td>\n",
              "    </tr>\n",
              "    <tr>\n",
              "      <th>9</th>\n",
              "      <td>pauperism</td>\n",
              "      <td>convention</td>\n",
              "      <td>madame</td>\n",
              "      <td>1817</td>\n",
              "      <td>fore</td>\n",
              "      <td>town</td>\n",
              "      <td>faverolles</td>\n",
              "      <td>wheelwright</td>\n",
              "      <td>portress</td>\n",
              "      <td>plateau</td>\n",
              "      <td>...</td>\n",
              "      <td>auvergnat</td>\n",
              "      <td>cannon</td>\n",
              "      <td>marat</td>\n",
              "      <td>quay</td>\n",
              "      <td>convict</td>\n",
              "      <td>andré</td>\n",
              "      <td>sancy</td>\n",
              "      <td>motive</td>\n",
              "      <td>armé</td>\n",
              "      <td>didst</td>\n",
              "    </tr>\n",
              "  </tbody>\n",
              "</table>\n",
              "<p>10 rows × 49 columns</p>\n",
              "</div>\n",
              "      <button class=\"colab-df-convert\" onclick=\"convertToInteractive('df-544e5a87-57cf-47ad-a0f1-77b697074e93')\"\n",
              "              title=\"Convert this dataframe to an interactive table.\"\n",
              "              style=\"display:none;\">\n",
              "        \n",
              "  <svg xmlns=\"http://www.w3.org/2000/svg\" height=\"24px\"viewBox=\"0 0 24 24\"\n",
              "       width=\"24px\">\n",
              "    <path d=\"M0 0h24v24H0V0z\" fill=\"none\"/>\n",
              "    <path d=\"M18.56 5.44l.94 2.06.94-2.06 2.06-.94-2.06-.94-.94-2.06-.94 2.06-2.06.94zm-11 1L8.5 8.5l.94-2.06 2.06-.94-2.06-.94L8.5 2.5l-.94 2.06-2.06.94zm10 10l.94 2.06.94-2.06 2.06-.94-2.06-.94-.94-2.06-.94 2.06-2.06.94z\"/><path d=\"M17.41 7.96l-1.37-1.37c-.4-.4-.92-.59-1.43-.59-.52 0-1.04.2-1.43.59L10.3 9.45l-7.72 7.72c-.78.78-.78 2.05 0 2.83L4 21.41c.39.39.9.59 1.41.59.51 0 1.02-.2 1.41-.59l7.78-7.78 2.81-2.81c.8-.78.8-2.07 0-2.86zM5.41 20L4 18.59l7.72-7.72 1.47 1.35L5.41 20z\"/>\n",
              "  </svg>\n",
              "      </button>\n",
              "      \n",
              "  <style>\n",
              "    .colab-df-container {\n",
              "      display:flex;\n",
              "      flex-wrap:wrap;\n",
              "      gap: 12px;\n",
              "    }\n",
              "\n",
              "    .colab-df-convert {\n",
              "      background-color: #E8F0FE;\n",
              "      border: none;\n",
              "      border-radius: 50%;\n",
              "      cursor: pointer;\n",
              "      display: none;\n",
              "      fill: #1967D2;\n",
              "      height: 32px;\n",
              "      padding: 0 0 0 0;\n",
              "      width: 32px;\n",
              "    }\n",
              "\n",
              "    .colab-df-convert:hover {\n",
              "      background-color: #E2EBFA;\n",
              "      box-shadow: 0px 1px 2px rgba(60, 64, 67, 0.3), 0px 1px 3px 1px rgba(60, 64, 67, 0.15);\n",
              "      fill: #174EA6;\n",
              "    }\n",
              "\n",
              "    [theme=dark] .colab-df-convert {\n",
              "      background-color: #3B4455;\n",
              "      fill: #D2E3FC;\n",
              "    }\n",
              "\n",
              "    [theme=dark] .colab-df-convert:hover {\n",
              "      background-color: #434B5C;\n",
              "      box-shadow: 0px 1px 3px 1px rgba(0, 0, 0, 0.15);\n",
              "      filter: drop-shadow(0px 1px 2px rgba(0, 0, 0, 0.3));\n",
              "      fill: #FFFFFF;\n",
              "    }\n",
              "  </style>\n",
              "\n",
              "      <script>\n",
              "        const buttonEl =\n",
              "          document.querySelector('#df-544e5a87-57cf-47ad-a0f1-77b697074e93 button.colab-df-convert');\n",
              "        buttonEl.style.display =\n",
              "          google.colab.kernel.accessAllowed ? 'block' : 'none';\n",
              "\n",
              "        async function convertToInteractive(key) {\n",
              "          const element = document.querySelector('#df-544e5a87-57cf-47ad-a0f1-77b697074e93');\n",
              "          const dataTable =\n",
              "            await google.colab.kernel.invokeFunction('convertToInteractive',\n",
              "                                                     [key], {});\n",
              "          if (!dataTable) return;\n",
              "\n",
              "          const docLinkHtml = 'Like what you see? Visit the ' +\n",
              "            '<a target=\"_blank\" href=https://colab.research.google.com/notebooks/data_table.ipynb>data table notebook</a>'\n",
              "            + ' to learn more about interactive tables.';\n",
              "          element.innerHTML = '';\n",
              "          dataTable['output_type'] = 'display_data';\n",
              "          await google.colab.output.renderOutput(dataTable, element);\n",
              "          const docLink = document.createElement('div');\n",
              "          docLink.innerHTML = docLinkHtml;\n",
              "          element.appendChild(docLink);\n",
              "        }\n",
              "      </script>\n",
              "    </div>\n",
              "  </div>\n",
              "  "
            ]
          },
          "metadata": {},
          "execution_count": 52
        }
      ],
      "source": [
        "tfidf_df = pd.DataFrame()\n",
        "for tfidf_doc in corpus_tfidf:\n",
        "  top_couples = sorted(tfidf_doc, key=lambda item: item[1], reverse=True)[:10]\n",
        "  top_words = [dictionary[id] for id, _ in top_couples]\n",
        "  tfidf_df = pd.concat([tfidf_df, pd.Series(top_words)], axis=1, \n",
        "                       ignore_index=True)\n",
        "tfidf_df"
      ]
    },
    {
      "cell_type": "markdown",
      "source": [
        "Pour obtenir la matrice terme-document, on applique la fonction `gensim.matutils.corpus2dense()` sur notre corpus bag-of-words."
      ],
      "metadata": {
        "id": "p8E-i3TuLueh"
      }
    },
    {
      "cell_type": "code",
      "source": [
        "term_document = gensim.matutils.corpus2dense(corpus, num_terms=len(dictionary))\n",
        "term_document.shape"
      ],
      "metadata": {
        "colab": {
          "base_uri": "https://localhost:8080/"
        },
        "id": "5_7XgsdFBMx4",
        "outputId": "4389f2e9-9edd-4607-8742-163d0881548c"
      },
      "execution_count": null,
      "outputs": [
        {
          "output_type": "stream",
          "name": "stderr",
          "text": [
            "/usr/local/lib/python3.8/dist-packages/gensim/matutils.py:502: FutureWarning: arrays to stack must be passed as a \"sequence\" type such as list or tuple. Support for non-sequence iterables such as generators is deprecated as of NumPy 1.16 and will raise an error in the future.\n",
            "  result = np.column_stack(sparse2full(doc, num_terms) for doc in corpus)\n"
          ]
        },
        {
          "output_type": "execute_result",
          "data": {
            "text/plain": [
              "(17692, 49)"
            ]
          },
          "metadata": {},
          "execution_count": 53
        }
      ]
    },
    {
      "cell_type": "markdown",
      "source": [
        "Comme le nombre de mots est très élevés pour ce corpus, on va enlever les mots qui apparaissent trop ou pas assez souvent (c'est un traitement fréquent en analyse de données, ces mots ne sont certainement pas assez spécifiques aux différentes parties à analyser, ou trop marignaux). Nous allons pour cela créer une fonction qui donne un dictionnaire contenant la fréquence de chaque terme trouvé dans un corpus bag-of-words."
      ],
      "metadata": {
        "id": "Fok-Gb8qMZpQ"
      }
    },
    {
      "cell_type": "code",
      "source": [
        "def get_word_freqs(corpus, dictionary):\n",
        "  # On transforme le corpus en matrice terme-document\n",
        "  term_document = gensim.matutils.corpus2dense(corpus, \n",
        "                                               num_terms=len(dictionary))\n",
        "  # On fait la somme des colonnes\n",
        "  frequencies = term_document.sum(axis=1)\n",
        "  # On construit le dictionnaire\n",
        "  word_freqs = [(word, frequencies[id])\n",
        "              for word, id in dictionary.token2id.items()]\n",
        "  # On le trie\n",
        "  word_freqs = sorted(word_freqs, key=lambda item: item[1], reverse=True)\n",
        "  # On le retourne\n",
        "  return word_freqs"
      ],
      "metadata": {
        "id": "UnMObiUqLj3Y"
      },
      "execution_count": null,
      "outputs": []
    },
    {
      "cell_type": "markdown",
      "source": [
        "Affichons les mots les plus fréquents de notre corpus."
      ],
      "metadata": {
        "id": "EV8JU4vrNT3W"
      }
    },
    {
      "cell_type": "code",
      "source": [
        "word_freqs = get_word_freqs(corpus, dictionary)\n",
        "print(word_freqs[:10])\n",
        "print(word_freqs[-10:])"
      ],
      "metadata": {
        "colab": {
          "base_uri": "https://localhost:8080/"
        },
        "id": "2WuCKDo9F1pb",
        "outputId": "81127dc4-7341-463c-f8f2-d1a6cda22d3d"
      },
      "execution_count": null,
      "outputs": [
        {
          "output_type": "stream",
          "name": "stdout",
          "text": [
            "[('man', 2569.0), ('marius', 1341.0), ('jean', 1218.0), ('valjean', 1105.0), ('come', 1025.0), ('like', 1008.0), ('cosette', 1005.0), ('know', 965.0), ('little', 964.0), ('day', 958.0)]\n",
            "[('unlocked', 1.0), ('unprepossesse', 1.0), ('unskilful', 1.0), ('utterest', 1.0), ('vivait', 1.0), ('wheedle', 1.0), ('yew', 1.0), ('york', 1.0), ('étrange', 1.0), ('”69', 1.0)]\n"
          ]
        }
      ]
    },
    {
      "cell_type": "markdown",
      "source": [
        "L'objet dictionnaire de Gensim possède plusieurs méthodes permettant de filtrer certains termes (https://tedboy.github.io/nlps/generated/generated/gensim.corpora.Dictionary.html#gensim.corpora.Dictionary). Ici, nous allons créer une liste de mots qui ne correspondent pas à une fréquence définie (que nous allons poser entre 50 et 1500) et nous utilisons `dictionary.filter_tokens()` pour les supprimer du dictionnaire. On voit que le nombre de mots a été fortement réduit."
      ],
      "metadata": {
        "id": "QKS2vdMKN36e"
      }
    },
    {
      "cell_type": "code",
      "source": [
        "min_freq = 50\n",
        "max_freq = 1500\n",
        "banned_word_ids = [dictionary.token2id[word] for word, freq in word_freqs\n",
        "                   if freq < min_freq or freq > max_freq]\n",
        "dictionary.filter_tokens(bad_ids=banned_word_ids)\n",
        "len(dictionary)"
      ],
      "metadata": {
        "id": "ez6tCd1kHJnt",
        "colab": {
          "base_uri": "https://localhost:8080/"
        },
        "outputId": "eaf817e6-46c8-4317-e9af-f85b5ef20a89"
      },
      "execution_count": null,
      "outputs": [
        {
          "output_type": "execute_result",
          "data": {
            "text/plain": [
              "977"
            ]
          },
          "metadata": {},
          "execution_count": 56
        }
      ]
    },
    {
      "cell_type": "markdown",
      "source": [
        "Nous allons finalement recréer notre objet corpus bag-of-words avec le nouveau dictionnaire."
      ],
      "metadata": {
        "id": "Owrh5zElOg-S"
      }
    },
    {
      "cell_type": "code",
      "source": [
        "corpus = [dictionary.doc2bow(text) for text in texts]"
      ],
      "metadata": {
        "id": "qnv8nYsRHzqp"
      },
      "execution_count": null,
      "outputs": []
    },
    {
      "cell_type": "markdown",
      "source": [
        "---"
      ],
      "metadata": {
        "id": "jtspnApn6vfb"
      }
    },
    {
      "cell_type": "markdown",
      "source": [
        "## 3. AFC\n",
        "\n",
        "Il existe des librairies permettant d'effectuer une AFC en Python (e.g. **prince** https://pypi.org/project/prince/). Seulement, elle ne sont pas si matures et comme il est relativement aisé d'implémenter sa propre méthode, nous allons la coder ici. La fonction `correspondence_analysis()`, qui est donnée ci-dessous, permet de sortir toutes les quantitiés d'intérêt de l'AFC."
      ],
      "metadata": {
        "id": "k9StPeaeOrxL"
      }
    },
    {
      "cell_type": "code",
      "source": [
        "# Fonction pour la décomposition spectrale\n",
        "def sorted_eig(matrix, dim_max=None):\n",
        "    if (dim_max is not None) and dim_max < matrix.shape[0] - 1:\n",
        "        eigen_values, eigen_vectors = scipy.sparse.linalg.eigs(matrix, dim_max)\n",
        "    else:\n",
        "        eigen_values, eigen_vectors = scipy.linalg.eig(matrix)\n",
        "    sorted_indices = eigen_values.argsort()[::-1]\n",
        "    eigen_values = eigen_values[sorted_indices]\n",
        "    eigen_vectors = eigen_vectors[:, sorted_indices]\n",
        "\n",
        "    return np.real(eigen_values), np.real(eigen_vectors)\n",
        "\n",
        "# Fonction pour l'analyse de correspondances\n",
        "def correspondence_analysis(contingency):\n",
        "\n",
        "    contingency = np.array(contingency)\n",
        "    n_row, n_col = contingency.shape\n",
        "    dim_max = min(n_row, n_col) - 1\n",
        "\n",
        "    total = np.sum(contingency)\n",
        "    f_row = contingency.sum(axis=1)\n",
        "    f_row = f_row / sum(f_row)\n",
        "    f_col = contingency.sum(axis=0)\n",
        "    f_col = f_col / sum(f_col)\n",
        "    independency = np.outer(f_row, f_col) * total\n",
        "    normalized_quotient = contingency / independency - 1\n",
        "\n",
        "    b_mat = (normalized_quotient * f_col) @ normalized_quotient.T\n",
        "    k_mat = np.outer(np.sqrt(f_row), np.sqrt(f_row)) * b_mat\n",
        "    eig_val, eig_vec = sorted_eig(k_mat, dim_max)\n",
        "    eig_val = np.abs(eig_val[:dim_max])\n",
        "    eig_vec = eig_vec[:, :dim_max]\n",
        "\n",
        "    row_coord = np.real(np.outer(1 / np.sqrt(f_row), np.sqrt(eig_val)) * eig_vec)\n",
        "    col_coord = (normalized_quotient.T * f_row) @ row_coord / np.sqrt(eig_val)\n",
        "    row_contrib = eig_vec ** 2\n",
        "    col_contrib = np.outer(f_col, 1 / eig_val) * col_coord ** 2\n",
        "    row_cos2 = row_coord ** 2\n",
        "    row_cos2 = (row_cos2.T / row_cos2.sum(axis=1)).T\n",
        "    col_cos2 = col_coord ** 2\n",
        "    col_cos2 = (col_cos2.T / col_cos2.sum(axis=1)).T\n",
        "\n",
        "    # --- Le retour de la fonction\n",
        "    # dim_max: la dimension maximale de l'AFC\n",
        "    # eig_val: les valeurs propres\n",
        "    # row_coord: les coordonnées des lignes \n",
        "    # col_coord: les coordonnées des colonnes\n",
        "    # row_contrib: les contributions des lignes\n",
        "    # col_contrib: les contributions des colonnes\n",
        "    # row_cos2: le cos2 des lignes\n",
        "    # col_cos2: le cos2 des colonnes\n",
        "    return dim_max, eig_val, row_coord, col_coord, \\\n",
        "           row_contrib, col_contrib, row_cos2, col_cos2"
      ],
      "metadata": {
        "id": "uRSDBi866xUr"
      },
      "execution_count": null,
      "outputs": []
    },
    {
      "cell_type": "markdown",
      "source": [
        "Construisons la matrice terme-document."
      ],
      "metadata": {
        "id": "4GeLt39sQPPe"
      }
    },
    {
      "cell_type": "code",
      "source": [
        "term_document = gensim.matutils.corpus2dense(corpus,\n",
        "                                             num_terms=len(dictionary))\n",
        "term_document.shape"
      ],
      "metadata": {
        "colab": {
          "base_uri": "https://localhost:8080/"
        },
        "id": "FeUM0hml8hkS",
        "outputId": "e97a39c7-b74a-4e91-bee7-2b039102bac8"
      },
      "execution_count": null,
      "outputs": [
        {
          "output_type": "execute_result",
          "data": {
            "text/plain": [
              "(977, 49)"
            ]
          },
          "metadata": {},
          "execution_count": 59
        }
      ]
    },
    {
      "cell_type": "markdown",
      "source": [
        "Et effectuons l'AFC."
      ],
      "metadata": {
        "id": "fvnAP6nLQb4D"
      }
    },
    {
      "cell_type": "code",
      "source": [
        "dim_max, eig_val, row_coord, col_coord, row_contrib, col_contrib, \\\n",
        "row_cos2, col_cos2 = correspondence_analysis(term_document)"
      ],
      "metadata": {
        "id": "h1TwM161JJ06"
      },
      "execution_count": null,
      "outputs": []
    },
    {
      "cell_type": "markdown",
      "source": [
        "On peut maintenant examiner les différents axes:\n",
        "\n",
        "* Si l'on divise chaque valeur propre par la somme des valeurs propres, on obtient le pourcentage d'inertie exprimé sur chaque axe.\n",
        "* Les contributions nous permettent de savoir quels mots ont le plus contribué à la création de chaque axe (en pourcentage). Ce résultat permet parfois de \"nommer les axes\"."
      ],
      "metadata": {
        "id": "w0xCE4WXQerW"
      }
    },
    {
      "cell_type": "code",
      "source": [
        "n_top = 5\n",
        "for dim in range(10):\n",
        "  # Le pourcentage de variance\n",
        "  p_var = eig_val[dim] / sum(eig_val)\n",
        "  # Les mots qui contribuent le plus\n",
        "  top_contrib_ids = np.argsort(row_contrib[:, dim])[::-1][:n_top]\n",
        "  contrib_dic = {dictionary[id]: round(row_contrib[id, dim]*100,2) \n",
        "                 for id in top_contrib_ids}\n",
        "  # On affiche\n",
        "  print(f\"Axe {dim} ({p_var:.2%}): {contrib_dic}\")"
      ],
      "metadata": {
        "colab": {
          "base_uri": "https://localhost:8080/"
        },
        "id": "lM7bxeeTOghM",
        "outputId": "908edc70-d584-4b8f-ec07-23c631270ce4"
      },
      "execution_count": null,
      "outputs": [
        {
          "output_type": "stream",
          "name": "stdout",
          "text": [
            "Axe 0 (8.69%): {'english': 3.61, 'wellington': 3.45, 'battle': 3.29, 'barricade': 2.47, 'waterloo': 2.45}\n",
            "Axe 1 (6.44%): {'fauchelevent': 11.65, 'coffin': 5.09, 'digger': 4.8, 'marius': 4.38, 'prioress': 4.21}\n",
            "Axe 2 (5.90%): {'fauchelevent': 6.91, 'bishop': 4.96, 'barricade': 3.09, 'coffin': 2.66, 'digger': 2.31}\n",
            "Axe 3 (5.45%): {'wellington': 5.83, 'english': 5.34, 'sewer': 5.11, 'waterloo': 4.66, 'slang': 3.52}\n",
            "Axe 4 (4.89%): {'sewer': 15.35, 'valjean': 3.79, 'javert': 3.4, 'jean': 3.38, 'paris': 2.44}\n",
            "Axe 5 (4.74%): {'sewer': 9.59, 'madeleine': 6.15, 'javert': 4.74, 'barricade': 4.0, 'mayor': 3.98}\n",
            "Axe 6 (4.48%): {'gavroche': 6.67, 'marius': 5.27, 'thénardier': 4.09, 'montparnasse': 3.91, 'jean': 3.12}\n",
            "Axe 7 (3.96%): {'bishop': 11.65, 'magloire': 4.42, 'madeleine': 3.72, 'valjean': 3.68, 'jean': 3.4}\n",
            "Axe 8 (3.81%): {'slang': 28.98, 'language': 5.33, 'sewer': 3.99, 'montparnasse': 1.76, 'gavroche': 1.73}\n",
            "Axe 9 (3.29%): {'jondrette': 6.48, 'gavroche': 4.4, 'leblanc': 3.37, 'tholomyès': 3.32, 'bishop': 3.27}\n"
          ]
        }
      ]
    },
    {
      "cell_type": "markdown",
      "source": [
        "On va maintenant afficher les coordonnées de 100 termes les plus fréquents et des documents sur le même graphique, selon les axes sélectionnés sur la première ligne. C'est le **biplot**. On peut intérpréter le produit scalaire entre les points de différents types (terme-document) comme des attirances, et la distance entre deux points de même type (terme-terme, document-document) exprime leur dissemblance en terme de profil de fréquences (via la distance du chi2)."
      ],
      "metadata": {
        "id": "Hh4UvZZkROGf"
      }
    },
    {
      "cell_type": "code",
      "source": [
        "axes = [0, 1]\n",
        "\n",
        "# Taille du graphique\n",
        "plt.rcParams[\"figure.figsize\"] = [16, 16]\n",
        "\n",
        "# Filtre sur les mots les plus fréquents\n",
        "top_n = 100\n",
        "word_freqs = get_word_freqs(corpus, dictionary)\n",
        "top_words = [word for word, _ in word_freqs[:top_n]]\n",
        "top_word_ids = [dictionary.token2id[word] for word in top_words]\n",
        "top_row_coord = row_coord[top_word_ids, :]\n",
        "\n",
        "# On fait une matrice de toutes les coordonées\n",
        "all_coord = np.concatenate([top_row_coord, col_coord])\n",
        "\n",
        "# --- Plot \n",
        "\n",
        "fig, ax = plt.subplots()\n",
        "\n",
        "ax.scatter(all_coord[:, axes[0]], all_coord[:, axes[1]], alpha=0, color=\"white\")\n",
        "\n",
        "for i, txt in enumerate(top_words):\n",
        "    ax.annotate(txt, (top_row_coord[i, axes[0]], top_row_coord[i, axes[1]]), \n",
        "                size=12, color=\"blue\")\n",
        "\n",
        "for i, txt in enumerate(range(len(corpus))):\n",
        "    ax.annotate(txt, (col_coord[i, axes[0]], col_coord[i, axes[1]]), \n",
        "                size=12, color=\"red\", alpha=0.8)\n",
        "\n",
        "ax.grid()\n",
        "plt.show()"
      ],
      "metadata": {
        "colab": {
          "base_uri": "https://localhost:8080/",
          "height": 918
        },
        "id": "nAGTZaoLPQUi",
        "outputId": "b9f584f7-0428-4aa6-b380-8e570adc8c65"
      },
      "execution_count": null,
      "outputs": [
        {
          "output_type": "display_data",
          "data": {
            "text/plain": [
              "<Figure size 1152x1152 with 1 Axes>"
            ],
            "image/png": "[encoded data removed]"
          },
          "metadata": {
            "needs_background": "light"
          }
        }
      ]
    },
    {
      "cell_type": "markdown",
      "source": [
        "---"
      ],
      "metadata": {
        "id": "zLrh6hDG6xvF"
      }
    },
    {
      "cell_type": "markdown",
      "source": [
        "## 4. L'allocation de Dirichlet latente\n",
        "\n",
        "Nous allons maintenant faire une allocation de Dirichlet latente avec Gensim. On utilise pour cela la classe `gensim.models.LdaModel`, qui utilise notre corpus en bag-of-words, un nombre de thèmes fixé et notre dictionnaire. L'instance de la classe résultante va contenir tous les résultats pertinents de la méthode."
      ],
      "metadata": {
        "id": "f0Ma9iisRyZZ"
      }
    },
    {
      "cell_type": "code",
      "execution_count": null,
      "metadata": {
        "id": "nzHN-0jqDQyt"
      },
      "outputs": [],
      "source": [
        "lda_model = LdaModel(corpus, num_topics=5, id2word=dictionary, passes=10)"
      ]
    },
    {
      "cell_type": "markdown",
      "source": [
        "On peut obtenir les principaux mots utilisés dans chaque thème avec la méthode `show_topics()`. "
      ],
      "metadata": {
        "id": "6Ijql8YeW-rp"
      }
    },
    {
      "cell_type": "code",
      "execution_count": null,
      "metadata": {
        "colab": {
          "base_uri": "https://localhost:8080/"
        },
        "id": "e-jKISt1AORF",
        "outputId": "c0b53fda-dfd1-4dc1-d794-f6fc2b6d6472"
      },
      "outputs": [
        {
          "output_type": "execute_result",
          "data": {
            "text/plain": [
              "[(0,\n",
              "  '0.011*\"de\" + 0.009*\"m.\" + 0.009*\"day\" + 0.009*\"little\" + 0.009*\"old\" + 0.008*\"good\" + 0.008*\"like\" + 0.008*\"know\" + 0.007*\"time\" + 0.007*\"year\"'),\n",
              " (1,\n",
              "  '0.009*\"barricade\" + 0.009*\"rue\" + 0.007*\"enjolras\" + 0.007*\"take\" + 0.006*\"like\" + 0.006*\"come\" + 0.006*\"hand\" + 0.006*\"street\" + 0.006*\"long\" + 0.006*\"right\"'),\n",
              " (2,\n",
              "  '0.021*\"cosette\" + 0.019*\"valjean\" + 0.019*\"jean\" + 0.009*\"little\" + 0.009*\"child\" + 0.009*\"like\" + 0.008*\"thénardier\" + 0.008*\"fauchelevent\" + 0.007*\"old\" + 0.007*\"long\"'),\n",
              " (3,\n",
              "  '0.012*\"m.\" + 0.010*\"jean\" + 0.010*\"valjean\" + 0.010*\"javert\" + 0.009*\"madeleine\" + 0.008*\"good\" + 0.008*\"bishop\" + 0.008*\"little\" + 0.007*\"know\" + 0.007*\"take\"'),\n",
              " (4,\n",
              "  '0.036*\"marius\" + 0.010*\"come\" + 0.009*\"cosette\" + 0.009*\"know\" + 0.009*\"m.\" + 0.008*\"go\" + 0.008*\"father\" + 0.008*\"thénardier\" + 0.007*\"hand\" + 0.007*\"day\"')]"
            ]
          },
          "metadata": {},
          "execution_count": 66
        }
      ],
      "source": [
        "lda_model.show_topics()"
      ]
    },
    {
      "cell_type": "markdown",
      "source": [
        "Laa répartition des thèmes dans un document particulier s'obtient avec `get_document_topics()`."
      ],
      "metadata": {
        "id": "yctZded9XJDc"
      }
    },
    {
      "cell_type": "code",
      "source": [
        "lda_model.get_document_topics(corpus[1], minimum_probability=0)"
      ],
      "metadata": {
        "colab": {
          "base_uri": "https://localhost:8080/"
        },
        "id": "5zQJ01IrN7ol",
        "outputId": "8f9ab82b-9cb0-4a3d-d996-7d3251b40e0b"
      },
      "execution_count": null,
      "outputs": [
        {
          "output_type": "execute_result",
          "data": {
            "text/plain": [
              "[(0, 0.6133625),\n",
              " (1, 3.852803e-05),\n",
              " (2, 3.852664e-05),\n",
              " (3, 0.3865219),\n",
              " (4, 3.8526778e-05)]"
            ]
          },
          "metadata": {},
          "execution_count": 67
        }
      ]
    },
    {
      "cell_type": "markdown",
      "source": [
        "Les mesures de cohérence sont obtenues avec un objet de classe `gensim.models.CoherenceModel`, qui utilise par défault la mesure $C_v$ (pour plus de détails concernant ces mesures, voir http://svn.aksw.org/papers/2015/WSDM_Topic_Evaluation/public.pdf)."
      ],
      "metadata": {
        "id": "XiOiSrJAXdYg"
      }
    },
    {
      "cell_type": "code",
      "execution_count": null,
      "metadata": {
        "colab": {
          "base_uri": "https://localhost:8080/"
        },
        "id": "WQYeTEypO-5h",
        "outputId": "2da74416-0e5f-40c5-c8c2-7f81a7e65da1"
      },
      "outputs": [
        {
          "output_type": "execute_result",
          "data": {
            "text/plain": [
              "0.3271552798350128"
            ]
          },
          "metadata": {},
          "execution_count": 68
        }
      ],
      "source": [
        "coherence_model = CoherenceModel(lda_model, texts=texts, dictionary=dictionary)\n",
        "coherence_model.get_coherence()"
      ]
    },
    {
      "cell_type": "markdown",
      "source": [
        "On pourrait effectuer une recherche des meilleurs hyperparmètres $k, \\alpha, et \\eta$ pour notre corpus en maximisant cette mesure de cohérence. Seulement, comme l'optimisation de tous les hyperparamètres peut s'avérer très lente, nous n'allons optimiser ici que le nombre de thèmes. On va créer 10 modèles pour chaque valeur de $k$, afin de limiter l'effet de l'initialisation aléatoire."
      ],
      "metadata": {
        "id": "buusW2bOX0Sv"
      }
    },
    {
      "cell_type": "code",
      "source": [
        "ks = list(range(4, 21))\n",
        "n_tests = 10\n",
        "coherences = []\n",
        "for k in tqdm(ks):\n",
        "  sum_coherence = 0\n",
        "  for _ in range(n_tests):\n",
        "    lda_model = LdaModel(corpus, id2word=dictionary, \n",
        "                        num_topics=k, passes=10)\n",
        "    sum_coherence += CoherenceModel(lda_model, texts=texts, \n",
        "                                    dictionary=dictionary).get_coherence()\n",
        "\n",
        "  coherences.append(sum_coherence / n_tests)"
      ],
      "metadata": {
        "colab": {
          "base_uri": "https://localhost:8080/"
        },
        "id": "VrcCuqkC2sX5",
        "outputId": "e16b960b-87c2-4152-f9d3-6cd97e0ddb44"
      },
      "execution_count": null,
      "outputs": [
        {
          "output_type": "stream",
          "name": "stderr",
          "text": [
            "100%|██████████| 17/17 [29:18<00:00, 103.42s/it]\n"
          ]
        }
      ]
    },
    {
      "cell_type": "markdown",
      "source": [
        "Cette boucle nous permet de tracer la courbe de la cohérence en fonction du nombre de thèmes."
      ],
      "metadata": {
        "id": "nAcVxDc5YPN7"
      }
    },
    {
      "cell_type": "code",
      "source": [
        "fig, ax = plt.subplots()\n",
        "ax.plot(ks, coherences, c=\"red\")\n",
        "ax.set_xlabel(\"Nb Topics\")\n",
        "ax.set_ylabel(\"Coherence\")\n",
        "plt.plot()"
      ],
      "metadata": {
        "colab": {
          "base_uri": "https://localhost:8080/",
          "height": 950
        },
        "id": "BdH0W2VTaei1",
        "outputId": "356b5196-8827-45c1-f9cb-d404aaec30c7"
      },
      "execution_count": null,
      "outputs": [
        {
          "output_type": "execute_result",
          "data": {
            "text/plain": [
              "[]"
            ]
          },
          "metadata": {},
          "execution_count": 70
        },
        {
          "output_type": "display_data",
          "data": {
            "text/plain": [
              "<Figure size 1152x1152 with 1 Axes>"
            ],
            "image/png": "[encoded data removed]"
          },
          "metadata": {
            "needs_background": "light"
          }
        }
      ]
    },
    {
      "cell_type": "markdown",
      "source": [
        "On va retenir le nombre de thèmes qui maximise la cohérence, et on entraine un modèle avec cet hyperparamètre."
      ],
      "metadata": {
        "id": "7-QzgO-4Yspy"
      }
    },
    {
      "cell_type": "code",
      "source": [
        "optimal_k = 14\n",
        "lda_model = LdaModel(corpus, num_topics=optimal_k, id2word=dictionary, passes=10)"
      ],
      "metadata": {
        "id": "6_qRp09YEbiv"
      },
      "execution_count": null,
      "outputs": []
    },
    {
      "cell_type": "markdown",
      "source": [
        "Dans des graphiques en barres, nous allons afficher la répartition des 10 mots les plus utilisés par thème. Cela nous permettra de les interpréter."
      ],
      "metadata": {
        "id": "tDH05ErMYv_s"
      }
    },
    {
      "cell_type": "code",
      "source": [
        "# Pour les couleurs des topics\n",
        "topic_cmap = plt.cm.get_cmap(\"hsv\", lda_model.num_topics+1)\n",
        "topic_color = [topic_cmap(i) for i in range(lda_model.num_topics)]\n",
        "\n",
        "# Pour avoir le nombre d'éléments sur les lignes et colonnes\n",
        "nx_grid = int(np.sqrt(lda_model.num_topics))\n",
        "ny_grid= int(np.ceil(lda_model.num_topics / nx_grid))\n",
        "\n",
        "# On reformate la taille de la figure et on fait une grille\n",
        "plt.rcParams[\"figure.figsize\"] = [ny_grid*4, nx_grid*3]\n",
        "fig = plt.figure()\n",
        "gride_layout = GridSpec(nx_grid, ny_grid)\n",
        "\n",
        "# Boucle sur les topics\n",
        "for i in range(lda_model.num_topics):\n",
        "\n",
        "  # Les 10 mots le plus fréquents dans le topic\n",
        "  top_words = lda_model.show_topic(i, topn=10)\n",
        "  words = [word for word, _ in top_words]\n",
        "  freqs = [freq for _, freq in top_words]\n",
        "\n",
        "  # On ajoute la figure \n",
        "  ax = fig.add_subplot(gride_layout[i])\n",
        "  ax.barh(words, freqs, color=topic_color[i])\n",
        "  ax.set_title(f\"Topic {i}\")\n",
        "  ax.invert_yaxis()\n",
        "\n",
        "gride_layout.tight_layout(fig)"
      ],
      "metadata": {
        "colab": {
          "base_uri": "https://localhost:8080/",
          "height": 638
        },
        "id": "SNlnTN6jb8ZL",
        "outputId": "e882657e-f00e-42cf-bac7-74817af668b5"
      },
      "execution_count": null,
      "outputs": [
        {
          "output_type": "display_data",
          "data": {
            "text/plain": [
              "<Figure size 1440x648 with 14 Axes>"
            ],
            "image/png": "[encoded data removed]"
          },
          "metadata": {
            "needs_background": "light"
          }
        }
      ]
    },
    {
      "cell_type": "markdown",
      "source": [
        "On fait de même pour la répartition des thèmes dans les documents. En combinant l'interprétation de la sortie précédante avec celle-ci, on peut fréquemment avoir quelques observations pertinentes sur notre corpus."
      ],
      "metadata": {
        "id": "KZcaoVmNY5mr"
      }
    },
    {
      "cell_type": "code",
      "source": [
        "# Pour avoir le nombre d'éléments sur les lignes et colonnes\n",
        "nx_grid = int(np.sqrt(len(corpus)))\n",
        "ny_grid= int(np.ceil(len(corpus) / nx_grid))\n",
        "\n",
        "# On reformate la taille de la figure et on fait une grille\n",
        "plt.rcParams[\"figure.figsize\"] = [ny_grid*2, nx_grid*1.5]\n",
        "fig = plt.figure()\n",
        "gride_layout = GridSpec(nx_grid, ny_grid)\n",
        "\n",
        "# Boucle sur les topics\n",
        "for i, document in enumerate(corpus):\n",
        "\n",
        "  # Les topics dans le document\n",
        "  topics_freqs = lda_model.get_document_topics(document, minimum_probability=0)\n",
        "  topics = [topic for topic, _ in topics_freqs]\n",
        "  freqs = [freq for _, freq in topics_freqs]\n",
        "\n",
        "  # On ajoute la figure \n",
        "  ax = fig.add_subplot(gride_layout[i])\n",
        "  ax.bar(topics, freqs, color=topic_color)\n",
        "  ax.set_title(f\"Document {i}\")\n",
        "  ax.set_ylim([0, 1])\n",
        "\n",
        "gride_layout.tight_layout(fig)"
      ],
      "metadata": {
        "colab": {
          "base_uri": "https://localhost:8080/",
          "height": 765
        },
        "id": "7bT_X5prJShz",
        "outputId": "1180549c-eaa9-46d8-c404-385923522789"
      },
      "execution_count": null,
      "outputs": [
        {
          "output_type": "display_data",
          "data": {
            "text/plain": [
              "<Figure size 1008x756 with 49 Axes>"
            ],
            "image/png": "[encoded data removed]"
          },
          "metadata": {
            "needs_background": "light"
          }
        }
      ]
    },
    {
      "cell_type": "markdown",
      "source": [
        "---"
      ],
      "metadata": {
        "id": "GnhVUSgbkyhk"
      }
    },
    {
      "cell_type": "markdown",
      "source": [
        "## 5. Word2Vec\n",
        "\n",
        "Finalement, nous allons utiliser Gensim pour entrainer un modèle de type **Word2Vec** sur notre corpus. Cela nous permettra de visuliser une carte sémantique et syntaxique basée sur Les Misérables.\n",
        "\n",
        "Gensim contient beaucoup de méthodes de word embedding, ainsi que des outils pour charger des word embeddings venant de sources externes (e.g. de https://wikipedia2vec.github.io/wikipedia2vec/ ou de https://fasttext.cc/docs/en/crawl-vectors.html).\n",
        "\n",
        "On commence par charger à nouveau notre corpus, mais en ne gardant uniquement que la séparation en tokens et en phrases. Le résultat de cette opération est une liste de phrases qui sont des listes de tokens."
      ],
      "metadata": {
        "id": "HHejxvExZFXi"
      }
    },
    {
      "cell_type": "code",
      "source": [
        "corpus_pp_path = \"/content/drive/MyDrive/Colab Notebooks/ml_data/TP10/by_book_pp\"\n",
        "file_names = os.listdir(corpus_pp_path)\n",
        "\n",
        "sentences = []\n",
        "for file_name in file_names:\n",
        "  with open(f\"{corpus_pp_path}/{file_name}\") as text_file:\n",
        "    text_sentences = text_file.readlines()\n",
        "    text_token_sentences = [text_sentence.split() for \n",
        "                            text_sentence in text_sentences]\n",
        "    sentences.extend(text_token_sentences)\n",
        "\n",
        "sentences[0]"
      ],
      "metadata": {
        "colab": {
          "base_uri": "https://localhost:8080/"
        },
        "id": "xdaeJqhA14s6",
        "outputId": "00201120-5105-49e9-ad90-472626199f48"
      },
      "execution_count": null,
      "outputs": [
        {
          "output_type": "execute_result",
          "data": {
            "text/plain": [
              "['les', 'misérables', 'preface']"
            ]
          },
          "metadata": {},
          "execution_count": 74
        }
      ]
    },
    {
      "cell_type": "markdown",
      "source": [
        "On utilise la classe `gensim.models.Word2Vec` pour créer notre embedding avec les mots de fréquence minimale 100, une fenêtre de +/-5 tokens, une dimension d'embedding de 300 et avec la méthode skip-gram (`sg=1`). L'objet de retour (ici `wv_model`) contient de nombreuses informations sur le résultat. "
      ],
      "metadata": {
        "id": "I0Oq-jeyaN5S"
      }
    },
    {
      "cell_type": "code",
      "execution_count": null,
      "metadata": {
        "id": "yNSI_3DWPSFf"
      },
      "outputs": [],
      "source": [
        "wv_model = Word2Vec(sentences, min_count=100, window=5, size=300, sg=1)"
      ]
    },
    {
      "cell_type": "markdown",
      "source": [
        "On peut voir le vocabulaire qui a été transformé en vecteur avec l'attribut `wv.vocab`."
      ],
      "metadata": {
        "id": "QFWB9PhJbOci"
      }
    },
    {
      "cell_type": "code",
      "source": [
        "wv_vocab = wv_model.wv.vocab\n",
        "wv_words = list(wv_vocab.keys())\n",
        "len(wv_words)"
      ],
      "metadata": {
        "colab": {
          "base_uri": "https://localhost:8080/"
        },
        "id": "hNxq-FF5qEva",
        "outputId": "3ef199ec-7b22-4fb6-e232-7bb1aea9ecc8"
      },
      "execution_count": null,
      "outputs": [
        {
          "output_type": "execute_result",
          "data": {
            "text/plain": [
              "442"
            ]
          },
          "metadata": {},
          "execution_count": 76
        }
      ]
    },
    {
      "cell_type": "markdown",
      "source": [
        "Vérifions au préalable si certains mots sont bien dans notre embedding."
      ],
      "metadata": {
        "id": "-kmxSD8obbs3"
      }
    },
    {
      "cell_type": "code",
      "source": [
        "print(\"gavroche\" in wv_words)\n",
        "print(\"cosette\" in  wv_words)\n",
        "print(\"valjean\" in  wv_words)"
      ],
      "metadata": {
        "colab": {
          "base_uri": "https://localhost:8080/"
        },
        "id": "HyxCnC10qaMN",
        "outputId": "3b3b83a8-acd5-4a71-ae0e-580f2b7e5944"
      },
      "execution_count": null,
      "outputs": [
        {
          "output_type": "stream",
          "name": "stdout",
          "text": [
            "True\n",
            "True\n",
            "True\n"
          ]
        }
      ]
    },
    {
      "cell_type": "markdown",
      "source": [
        "Le vecteur d'un mot particulier est donné avec la méthode `wv_model.wv.get_vector()`. On affiche les 10 premières coordonnées de \"cosette\"."
      ],
      "metadata": {
        "id": "CwywMieCbgt7"
      }
    },
    {
      "cell_type": "code",
      "source": [
        "wv_model.wv.get_vector(\"cosette\")[0:10]"
      ],
      "metadata": {
        "colab": {
          "base_uri": "https://localhost:8080/"
        },
        "id": "LxEN2A6ssiq6",
        "outputId": "ed16a5e7-8236-45c1-bf58-db674207bc7b"
      },
      "execution_count": null,
      "outputs": [
        {
          "output_type": "execute_result",
          "data": {
            "text/plain": [
              "array([-0.00165364,  0.05580992,  0.0191495 , -0.13639781, -0.17099917,\n",
              "       -0.01082298,  0.0598272 ,  0.05660918,  0.13725878, -0.12370667],\n",
              "      dtype=float32)"
            ]
          },
          "metadata": {},
          "execution_count": 78
        }
      ]
    },
    {
      "cell_type": "markdown",
      "source": [
        "On peut obtenir la similarité du cosinus (https://en.wikipedia.org/wiki/Cosine_similarity) entre des couples mots. Avec les word embeddings, on utilise quasiment exclusivement cette similarité pour mesurer la proximité entre les vecteurs."
      ],
      "metadata": {
        "id": "7AWU3B0WbqqI"
      }
    },
    {
      "cell_type": "code",
      "source": [
        "print(wv_model.wv.similarity(\"valjean\", \"cosette\"))\n",
        "print(wv_model.wv.similarity(\"valjean\", \"gavroche\"))\n",
        "print(wv_model.wv.similarity(\"cosette\", \"gavroche\"))"
      ],
      "metadata": {
        "colab": {
          "base_uri": "https://localhost:8080/"
        },
        "id": "EIvzaG2eqKvF",
        "outputId": "d7efda95-019b-463e-b7a4-af663e35ac3d"
      },
      "execution_count": null,
      "outputs": [
        {
          "output_type": "stream",
          "name": "stdout",
          "text": [
            "0.69929963\n",
            "0.5607297\n",
            "0.8091156\n"
          ]
        }
      ]
    },
    {
      "cell_type": "markdown",
      "source": [
        "Il est également possible d'avoir les mots les plus similaires à un mot donné."
      ],
      "metadata": {
        "id": "5im0uLFfb4vi"
      }
    },
    {
      "cell_type": "code",
      "source": [
        "wv_model.wv.most_similar(\"cosette\")"
      ],
      "metadata": {
        "colab": {
          "base_uri": "https://localhost:8080/"
        },
        "id": "gPFrHKH5q6a-",
        "outputId": "a39970d4-7e5d-44d2-a05c-57b7ab0fbf93"
      },
      "execution_count": null,
      "outputs": [
        {
          "output_type": "execute_result",
          "data": {
            "text/plain": [
              "[('marius', 0.9466896057128906),\n",
              " ('continue', 0.9394614696502686),\n",
              " ('fantine', 0.9245415925979614),\n",
              " ('pause', 0.9198373556137085),\n",
              " ('resume', 0.9107335209846497),\n",
              " ('think', 0.8973863124847412),\n",
              " ('laugh', 0.895307183265686),\n",
              " ('go', 0.8943483233451843),\n",
              " ('listen', 0.8938935995101929),\n",
              " ('exclaim', 0.892364501953125)]"
            ]
          },
          "metadata": {},
          "execution_count": 80
        }
      ]
    },
    {
      "cell_type": "code",
      "source": [
        "wv_model.wv.most_similar(\"valjean\")"
      ],
      "metadata": {
        "colab": {
          "base_uri": "https://localhost:8080/"
        },
        "id": "vI0xXs8IrEvY",
        "outputId": "a1934bb8-01c7-4599-f145-4a2ff14e38cb"
      },
      "execution_count": null,
      "outputs": [
        {
          "output_type": "execute_result",
          "data": {
            "text/plain": [
              "[('convict', 0.8186944723129272),\n",
              " ('recognize', 0.7618120312690735),\n",
              " ('javert', 0.7608110904693604),\n",
              " ('resume', 0.7108224034309387),\n",
              " ('enjolras', 0.7063475251197815),\n",
              " ('cosette', 0.699299693107605),\n",
              " ('away', 0.6976495981216431),\n",
              " ('word', 0.691473126411438),\n",
              " ('utter', 0.6912508010864258),\n",
              " ('continue', 0.6907628774642944)]"
            ]
          },
          "metadata": {},
          "execution_count": 81
        }
      ]
    },
    {
      "cell_type": "markdown",
      "source": [
        "Des \"calculs\" sont possibles dans la méthode `wv_model.wv.most_similar()`."
      ],
      "metadata": {
        "id": "jdEWDDjsb_78"
      }
    },
    {
      "cell_type": "code",
      "source": [
        "wv_model.wv.most_similar(positive=[\"monsieur\", \"cosette\"], negative=[\"valjean\"])"
      ],
      "metadata": {
        "colab": {
          "base_uri": "https://localhost:8080/"
        },
        "id": "XaSIeQmdrJui",
        "outputId": "8052cdb5-3bca-4d91-f613-70c089947c47"
      },
      "execution_count": null,
      "outputs": [
        {
          "output_type": "execute_result",
          "data": {
            "text/plain": [
              "[('sister', 0.8881499767303467),\n",
              " ('daughter', 0.8517289161682129),\n",
              " ('address', 0.8499128818511963),\n",
              " ('yes', 0.8331942558288574),\n",
              " ('mademoiselle', 0.8267367482185364),\n",
              " ('father', 0.8254515528678894),\n",
              " ('gentleman', 0.8252682089805603),\n",
              " ('thou', 0.8230147361755371),\n",
              " ('madame', 0.82246333360672),\n",
              " ('letter', 0.8198872804641724)]"
            ]
          },
          "metadata": {},
          "execution_count": 82
        }
      ]
    },
    {
      "cell_type": "markdown",
      "source": [
        "On va maintenant afficher les mots les plus fréquents de notre embedding. Commençons par extraire les 100 premiers mots du corpus."
      ],
      "metadata": {
        "id": "CFn3Dn2YcObj"
      }
    },
    {
      "cell_type": "code",
      "source": [
        "n_top_words = 100\n",
        "word_freq = [(word, wv_vocab[word].count) for word in wv_words]\n",
        "word_freq = sorted(word_freq, key=lambda item: item[1], reverse=True)\n",
        "top_words = word_freq[:n_top_words]\n",
        "top_words[:10]"
      ],
      "metadata": {
        "colab": {
          "base_uri": "https://localhost:8080/"
        },
        "id": "agSRNI5ArWsu",
        "outputId": "0fb7594f-c7cc-4b5e-af86-69ea5f31a86f"
      },
      "execution_count": null,
      "outputs": [
        {
          "output_type": "execute_result",
          "data": {
            "text/plain": [
              "[('man', 2569),\n",
              " ('marius', 1341),\n",
              " ('jean', 1218),\n",
              " ('valjean', 1105),\n",
              " ('come', 1025),\n",
              " ('like', 1008),\n",
              " ('cosette', 1005),\n",
              " ('know', 965),\n",
              " ('little', 964),\n",
              " ('day', 958)]"
            ]
          },
          "metadata": {},
          "execution_count": 83
        }
      ]
    },
    {
      "cell_type": "markdown",
      "source": [
        "On extrait leurs coordonnées avec `wv_model.wv.get_vector()`."
      ],
      "metadata": {
        "id": "PFZCLeiqcWfj"
      }
    },
    {
      "cell_type": "code",
      "source": [
        "top_vectors = np.empty((len(top_words), 300), dtype=\"f\")\n",
        "for i, (word, _) in enumerate(top_words):\n",
        "  top_vectors[i] = wv_model.wv.get_vector(word)\n",
        "top_vectors.shape"
      ],
      "metadata": {
        "colab": {
          "base_uri": "https://localhost:8080/"
        },
        "id": "GMZ7KL9HvrXl",
        "outputId": "28e9c02c-57bf-417c-b875-821f623608ee"
      },
      "execution_count": null,
      "outputs": [
        {
          "output_type": "execute_result",
          "data": {
            "text/plain": [
              "(100, 300)"
            ]
          },
          "metadata": {},
          "execution_count": 84
        }
      ]
    },
    {
      "cell_type": "markdown",
      "source": [
        "On effectue une projection tSNE de ces vecteurs dans un espace à 2 dimensions."
      ],
      "metadata": {
        "id": "7FwQ9gjOceBA"
      }
    },
    {
      "cell_type": "code",
      "source": [
        "coords_2d = TSNE(n_components=2, perplexity=5, \n",
        "                 init=\"pca\",\n",
        "                 learning_rate=\"auto\").fit_transform(top_vectors)"
      ],
      "metadata": {
        "colab": {
          "base_uri": "https://localhost:8080/"
        },
        "id": "otqSfz_0r93J",
        "outputId": "aee8b298-5e22-467d-b5f3-a4cde81302ae"
      },
      "execution_count": null,
      "outputs": [
        {
          "output_type": "stream",
          "name": "stderr",
          "text": [
            "/usr/local/lib/python3.8/dist-packages/sklearn/manifold/_t_sne.py:982: FutureWarning: The PCA initialization in TSNE will change to have the standard deviation of PC1 equal to 1e-4 in 1.2. This will ensure better convergence.\n",
            "  warnings.warn(\n"
          ]
        }
      ]
    },
    {
      "cell_type": "markdown",
      "source": [
        "Et on affiche les vecteurs. La structure entre les différents mots permet d'obtenir de l'information sur l'utilisation ce ces mots dans le corpus."
      ],
      "metadata": {
        "id": "6h_n4Z7hcoTs"
      }
    },
    {
      "cell_type": "code",
      "source": [
        "plt.rcParams[\"figure.figsize\"] = [16, 16]\n",
        "plt.scatter(coords_2d[:,0], coords_2d[:,1], alpha=0)\n",
        "for word, x, y in zip(top_words, coords_2d[:,0], coords_2d[:,1]):\n",
        "    plt.annotate(word[0], xy=(x, y), xytext=(0, 0), textcoords=\"offset points\", \n",
        "                 size=(word[1]/top_words[0][1])**(0.7)*40,\n",
        "                 color=\"blue\")\n",
        "plt.show()"
      ],
      "metadata": {
        "colab": {
          "base_uri": "https://localhost:8080/",
          "height": 918
        },
        "id": "W6akSFZGuuWj",
        "outputId": "128510ce-354f-46c0-cede-d1ccd114246a"
      },
      "execution_count": null,
      "outputs": [
        {
          "output_type": "display_data",
          "data": {
            "text/plain": [
              "<Figure size 1152x1152 with 1 Axes>"
            ],
            "image/png": "[encoded data removed]"
          },
          "metadata": {
            "needs_background": "light"
          }
        }
      ]
    },
    {
      "cell_type": "markdown",
      "source": [
        "---"
      ],
      "metadata": {
        "id": "BOUFvVwFdH0M"
      }
    }
  ],
  "metadata": {
    "accelerator": "GPU",
    "colab": {
      "provenance": [],
      "collapsed_sections": [
        "k9StPeaeOrxL",
        "f0Ma9iisRyZZ",
        "HHejxvExZFXi"
      ],
      "mount_file_id": "1Olfn1r9-DNaL2m0LB7-HLGDWsbQl42Pj",
      "authorship_tag": "ABX9TyN/r1/fESefa3QUKACUZESx",
      "include_colab_link": true
    },
    "gpuClass": "standard",
    "kernelspec": {
      "display_name": "Python 3",
      "name": "python3"
    },
    "language_info": {
      "name": "python"
    }
  },
  "nbformat": 4,
  "nbformat_minor": 0
}