{
  "nbformat": 4,
  "nbformat_minor": 0,
  "metadata": {
    "colab": {
      "provenance": [],
      "mount_file_id": "1crK13rElRBKXghooZcQVFZcvagdJJsAa",
      "authorship_tag": "ABX9TyO6HaoNvVopBBCcj9EGr1LT",
      "include_colab_link": true
    },
    "kernelspec": {
      "name": "python3",
      "display_name": "Python 3"
    },
    "language_info": {
      "name": "python"
    }
  },
  "cells": [
    {
      "cell_type": "markdown",
      "metadata": {
        "id": "view-in-github",
        "colab_type": "text"
      },
      "source": [
        "<a href=\"https://colab.research.google.com/github/gguex/ISH_ressources_cours_ML/blob/main/TP7c_corrige.ipynb\" target=\"_parent\"><img src=\"https://colab.research.google.com/assets/colab-badge.svg\" alt=\"Open In Colab\"/></a>"
      ]
    },
    {
      "cell_type": "code",
      "execution_count": null,
      "metadata": {
        "id": "urZAgdTIrqez"
      },
      "outputs": [],
      "source": [
        "import pandas as pd\n",
        "import numpy as np\n",
        "import matplotlib.pyplot as plt\n",
        "from sklearn import tree\n",
        "from sklearn.ensemble import RandomForestClassifier, GradientBoostingClassifier\n",
        "from sklearn.linear_model import LogisticRegression\n",
        "from sklearn.model_selection import train_test_split, GridSearchCV\n",
        "import graphviz"
      ]
    },
    {
      "cell_type": "code",
      "source": [
        "file_path = \\\n",
        "  \"/content/drive/MyDrive/Colab Notebooks/ml_data/TP7/contraceptive.tsv\"\n",
        "data = pd.read_csv(file_path, sep=\"\\t\")\n",
        "data"
      ],
      "metadata": {
        "id": "rpvDmBc4syEn",
        "colab": {
          "base_uri": "https://localhost:8080/",
          "height": 424
        },
        "outputId": "e6c045e7-def2-447e-87f5-438f3b7da6a1"
      },
      "execution_count": null,
      "outputs": [
        {
          "output_type": "execute_result",
          "data": {
            "text/plain": [
              "      Wife_age  Wife_education  Husband_education  Children  Wife_religion  \\\n",
              "0           24               2                  3         3              1   \n",
              "1           45               1                  3        10              1   \n",
              "2           43               2                  3         7              1   \n",
              "3           42               3                  2         9              1   \n",
              "4           36               3                  3         8              1   \n",
              "...        ...             ...                ...       ...            ...   \n",
              "1468        33               4                  4         2              1   \n",
              "1469        33               4                  4         3              1   \n",
              "1470        39               3                  3         8              1   \n",
              "1471        33               3                  3         4              1   \n",
              "1472        17               3                  3         1              1   \n",
              "\n",
              "      Wife_working  Husband_occupation  Standard-of-living  Media_exposure  \\\n",
              "0                1                   2                   3               0   \n",
              "1                1                   3                   4               0   \n",
              "2                1                   3                   4               0   \n",
              "3                1                   3                   3               0   \n",
              "4                1                   3                   2               0   \n",
              "...            ...                 ...                 ...             ...   \n",
              "1468             0                   2                   4               0   \n",
              "1469             1                   1                   4               0   \n",
              "1470             0                   1                   4               0   \n",
              "1471             0                   2                   2               0   \n",
              "1472             1                   2                   4               0   \n",
              "\n",
              "      target  \n",
              "0          1  \n",
              "1          1  \n",
              "2          1  \n",
              "3          1  \n",
              "4          1  \n",
              "...      ...  \n",
              "1468       3  \n",
              "1469       3  \n",
              "1470       3  \n",
              "1471       3  \n",
              "1472       3  \n",
              "\n",
              "[1473 rows x 10 columns]"
            ],
            "text/html": [
              "\n",
              "  <div id=\"df-6fb6a6d7-4bf3-47fb-9cc9-a5042d465a39\">\n",
              "    <div class=\"colab-df-container\">\n",
              "      <div>\n",
              "<style scoped>\n",
              "    .dataframe tbody tr th:only-of-type {\n",
              "        vertical-align: middle;\n",
              "    }\n",
              "\n",
              "    .dataframe tbody tr th {\n",
              "        vertical-align: top;\n",
              "    }\n",
              "\n",
              "    .dataframe thead th {\n",
              "        text-align: right;\n",
              "    }\n",
              "</style>\n",
              "<table border=\"1\" class=\"dataframe\">\n",
              "  <thead>\n",
              "    <tr style=\"text-align: right;\">\n",
              "      <th></th>\n",
              "      <th>Wife_age</th>\n",
              "      <th>Wife_education</th>\n",
              "      <th>Husband_education</th>\n",
              "      <th>Children</th>\n",
              "      <th>Wife_religion</th>\n",
              "      <th>Wife_working</th>\n",
              "      <th>Husband_occupation</th>\n",
              "      <th>Standard-of-living</th>\n",
              "      <th>Media_exposure</th>\n",
              "      <th>target</th>\n",
              "    </tr>\n",
              "  </thead>\n",
              "  <tbody>\n",
              "    <tr>\n",
              "      <th>0</th>\n",
              "      <td>24</td>\n",
              "      <td>2</td>\n",
              "      <td>3</td>\n",
              "      <td>3</td>\n",
              "      <td>1</td>\n",
              "      <td>1</td>\n",
              "      <td>2</td>\n",
              "      <td>3</td>\n",
              "      <td>0</td>\n",
              "      <td>1</td>\n",
              "    </tr>\n",
              "    <tr>\n",
              "      <th>1</th>\n",
              "      <td>45</td>\n",
              "      <td>1</td>\n",
              "      <td>3</td>\n",
              "      <td>10</td>\n",
              "      <td>1</td>\n",
              "      <td>1</td>\n",
              "      <td>3</td>\n",
              "      <td>4</td>\n",
              "      <td>0</td>\n",
              "      <td>1</td>\n",
              "    </tr>\n",
              "    <tr>\n",
              "      <th>2</th>\n",
              "      <td>43</td>\n",
              "      <td>2</td>\n",
              "      <td>3</td>\n",
              "      <td>7</td>\n",
              "      <td>1</td>\n",
              "      <td>1</td>\n",
              "      <td>3</td>\n",
              "      <td>4</td>\n",
              "      <td>0</td>\n",
              "      <td>1</td>\n",
              "    </tr>\n",
              "    <tr>\n",
              "      <th>3</th>\n",
              "      <td>42</td>\n",
              "      <td>3</td>\n",
              "      <td>2</td>\n",
              "      <td>9</td>\n",
              "      <td>1</td>\n",
              "      <td>1</td>\n",
              "      <td>3</td>\n",
              "      <td>3</td>\n",
              "      <td>0</td>\n",
              "      <td>1</td>\n",
              "    </tr>\n",
              "    <tr>\n",
              "      <th>4</th>\n",
              "      <td>36</td>\n",
              "      <td>3</td>\n",
              "      <td>3</td>\n",
              "      <td>8</td>\n",
              "      <td>1</td>\n",
              "      <td>1</td>\n",
              "      <td>3</td>\n",
              "      <td>2</td>\n",
              "      <td>0</td>\n",
              "      <td>1</td>\n",
              "    </tr>\n",
              "    <tr>\n",
              "      <th>...</th>\n",
              "      <td>...</td>\n",
              "      <td>...</td>\n",
              "      <td>...</td>\n",
              "      <td>...</td>\n",
              "      <td>...</td>\n",
              "      <td>...</td>\n",
              "      <td>...</td>\n",
              "      <td>...</td>\n",
              "      <td>...</td>\n",
              "      <td>...</td>\n",
              "    </tr>\n",
              "    <tr>\n",
              "      <th>1468</th>\n",
              "      <td>33</td>\n",
              "      <td>4</td>\n",
              "      <td>4</td>\n",
              "      <td>2</td>\n",
              "      <td>1</td>\n",
              "      <td>0</td>\n",
              "      <td>2</td>\n",
              "      <td>4</td>\n",
              "      <td>0</td>\n",
              "      <td>3</td>\n",
              "    </tr>\n",
              "    <tr>\n",
              "      <th>1469</th>\n",
              "      <td>33</td>\n",
              "      <td>4</td>\n",
              "      <td>4</td>\n",
              "      <td>3</td>\n",
              "      <td>1</td>\n",
              "      <td>1</td>\n",
              "      <td>1</td>\n",
              "      <td>4</td>\n",
              "      <td>0</td>\n",
              "      <td>3</td>\n",
              "    </tr>\n",
              "    <tr>\n",
              "      <th>1470</th>\n",
              "      <td>39</td>\n",
              "      <td>3</td>\n",
              "      <td>3</td>\n",
              "      <td>8</td>\n",
              "      <td>1</td>\n",
              "      <td>0</td>\n",
              "      <td>1</td>\n",
              "      <td>4</td>\n",
              "      <td>0</td>\n",
              "      <td>3</td>\n",
              "    </tr>\n",
              "    <tr>\n",
              "      <th>1471</th>\n",
              "      <td>33</td>\n",
              "      <td>3</td>\n",
              "      <td>3</td>\n",
              "      <td>4</td>\n",
              "      <td>1</td>\n",
              "      <td>0</td>\n",
              "      <td>2</td>\n",
              "      <td>2</td>\n",
              "      <td>0</td>\n",
              "      <td>3</td>\n",
              "    </tr>\n",
              "    <tr>\n",
              "      <th>1472</th>\n",
              "      <td>17</td>\n",
              "      <td>3</td>\n",
              "      <td>3</td>\n",
              "      <td>1</td>\n",
              "      <td>1</td>\n",
              "      <td>1</td>\n",
              "      <td>2</td>\n",
              "      <td>4</td>\n",
              "      <td>0</td>\n",
              "      <td>3</td>\n",
              "    </tr>\n",
              "  </tbody>\n",
              "</table>\n",
              "<p>1473 rows × 10 columns</p>\n",
              "</div>\n",
              "      <button class=\"colab-df-convert\" onclick=\"convertToInteractive('df-6fb6a6d7-4bf3-47fb-9cc9-a5042d465a39')\"\n",
              "              title=\"Convert this dataframe to an interactive table.\"\n",
              "              style=\"display:none;\">\n",
              "        \n",
              "  <svg xmlns=\"http://www.w3.org/2000/svg\" height=\"24px\"viewBox=\"0 0 24 24\"\n",
              "       width=\"24px\">\n",
              "    <path d=\"M0 0h24v24H0V0z\" fill=\"none\"/>\n",
              "    <path d=\"M18.56 5.44l.94 2.06.94-2.06 2.06-.94-2.06-.94-.94-2.06-.94 2.06-2.06.94zm-11 1L8.5 8.5l.94-2.06 2.06-.94-2.06-.94L8.5 2.5l-.94 2.06-2.06.94zm10 10l.94 2.06.94-2.06 2.06-.94-2.06-.94-.94-2.06-.94 2.06-2.06.94z\"/><path d=\"M17.41 7.96l-1.37-1.37c-.4-.4-.92-.59-1.43-.59-.52 0-1.04.2-1.43.59L10.3 9.45l-7.72 7.72c-.78.78-.78 2.05 0 2.83L4 21.41c.39.39.9.59 1.41.59.51 0 1.02-.2 1.41-.59l7.78-7.78 2.81-2.81c.8-.78.8-2.07 0-2.86zM5.41 20L4 18.59l7.72-7.72 1.47 1.35L5.41 20z\"/>\n",
              "  </svg>\n",
              "      </button>\n",
              "      \n",
              "  <style>\n",
              "    .colab-df-container {\n",
              "      display:flex;\n",
              "      flex-wrap:wrap;\n",
              "      gap: 12px;\n",
              "    }\n",
              "\n",
              "    .colab-df-convert {\n",
              "      background-color: #E8F0FE;\n",
              "      border: none;\n",
              "      border-radius: 50%;\n",
              "      cursor: pointer;\n",
              "      display: none;\n",
              "      fill: #1967D2;\n",
              "      height: 32px;\n",
              "      padding: 0 0 0 0;\n",
              "      width: 32px;\n",
              "    }\n",
              "\n",
              "    .colab-df-convert:hover {\n",
              "      background-color: #E2EBFA;\n",
              "      box-shadow: 0px 1px 2px rgba(60, 64, 67, 0.3), 0px 1px 3px 1px rgba(60, 64, 67, 0.15);\n",
              "      fill: #174EA6;\n",
              "    }\n",
              "\n",
              "    [theme=dark] .colab-df-convert {\n",
              "      background-color: #3B4455;\n",
              "      fill: #D2E3FC;\n",
              "    }\n",
              "\n",
              "    [theme=dark] .colab-df-convert:hover {\n",
              "      background-color: #434B5C;\n",
              "      box-shadow: 0px 1px 3px 1px rgba(0, 0, 0, 0.15);\n",
              "      filter: drop-shadow(0px 1px 2px rgba(0, 0, 0, 0.3));\n",
              "      fill: #FFFFFF;\n",
              "    }\n",
              "  </style>\n",
              "\n",
              "      <script>\n",
              "        const buttonEl =\n",
              "          document.querySelector('#df-6fb6a6d7-4bf3-47fb-9cc9-a5042d465a39 button.colab-df-convert');\n",
              "        buttonEl.style.display =\n",
              "          google.colab.kernel.accessAllowed ? 'block' : 'none';\n",
              "\n",
              "        async function convertToInteractive(key) {\n",
              "          const element = document.querySelector('#df-6fb6a6d7-4bf3-47fb-9cc9-a5042d465a39');\n",
              "          const dataTable =\n",
              "            await google.colab.kernel.invokeFunction('convertToInteractive',\n",
              "                                                     [key], {});\n",
              "          if (!dataTable) return;\n",
              "\n",
              "          const docLinkHtml = 'Like what you see? Visit the ' +\n",
              "            '<a target=\"_blank\" href=https://colab.research.google.com/notebooks/data_table.ipynb>data table notebook</a>'\n",
              "            + ' to learn more about interactive tables.';\n",
              "          element.innerHTML = '';\n",
              "          dataTable['output_type'] = 'display_data';\n",
              "          await google.colab.output.renderOutput(dataTable, element);\n",
              "          const docLink = document.createElement('div');\n",
              "          docLink.innerHTML = docLinkHtml;\n",
              "          element.appendChild(docLink);\n",
              "        }\n",
              "      </script>\n",
              "    </div>\n",
              "  </div>\n",
              "  "
            ]
          },
          "metadata": {},
          "execution_count": 2
        }
      ]
    },
    {
      "cell_type": "code",
      "source": [
        "occ_dummies = pd.get_dummies(data[\"Husband_occupation\"], prefix=\"occ\")\n",
        "inputs = pd.concat([data.drop([\"Husband_occupation\", \"target\"], axis=1), \n",
        "                    occ_dummies], axis=1)  \n",
        "outputs = data[\"target\"]"
      ],
      "metadata": {
        "id": "NVvWJX0Csyut"
      },
      "execution_count": null,
      "outputs": []
    },
    {
      "cell_type": "code",
      "source": [
        "classif_tree = tree.DecisionTreeClassifier(ccp_alpha=0.005).fit(inputs, outputs)\n",
        "gvz_data = tree.export_graphviz(classif_tree, out_file=None, \n",
        "                                feature_names=inputs.columns,  \n",
        "                                filled=True, rounded=True,  \n",
        "                                special_characters=True) \n",
        "graph = graphviz.Source(gvz_data) \n",
        "graph"
      ],
      "metadata": {
        "colab": {
          "base_uri": "https://localhost:8080/",
          "height": 657
        },
        "id": "oYYCcEKe64ZR",
        "outputId": "1807cf05-fc35-4bef-a0db-bdf0abdf3790"
      },
      "execution_count": null,
      "outputs": [
        {
          "output_type": "execute_result",
          "data": {
            "text/plain": [
              "<graphviz.files.Source at 0x7f93983e7e10>"
            ],
            "image/svg+xml": "<?xml version=\"1.0\" encoding=\"UTF-8\" standalone=\"no\"?>\n<!DOCTYPE svg PUBLIC \"-//W3C//DTD SVG 1.1//EN\"\n \"http://www.w3.org/Graphics/SVG/1.1/DTD/svg11.dtd\">\n<!-- Generated by graphviz version 2.40.1 (20161225.0304)\n -->\n<!-- Title: Tree Pages: 1 -->\n<svg width=\"820pt\" height=\"477pt\"\n viewBox=\"0.00 0.00 820.00 477.00\" xmlns=\"http://www.w3.org/2000/svg\" xmlns:xlink=\"http://www.w3.org/1999/xlink\">\n<g id=\"graph0\" class=\"graph\" transform=\"scale(1 1) rotate(0) translate(4 473)\">\n<title>Tree</title>\n<polygon fill=\"#ffffff\" stroke=\"transparent\" points=\"-4,4 -4,-473 816,-473 816,4 -4,4\"/>\n<!-- 0 -->\n<g id=\"node1\" class=\"node\">\n<title>0</title>\n<path fill=\"#fcf0e7\" stroke=\"#000000\" d=\"M407,-469C407,-469 267,-469 267,-469 261,-469 255,-463 255,-457 255,-457 255,-413 255,-413 255,-407 261,-401 267,-401 267,-401 407,-401 407,-401 413,-401 419,-407 419,-413 419,-413 419,-457 419,-457 419,-463 413,-469 407,-469\"/>\n<text text-anchor=\"start\" x=\"292\" y=\"-453.8\" font-family=\"Helvetica,sans-Serif\" font-size=\"14.00\" fill=\"#000000\">Children ≤ 0.5</text>\n<text text-anchor=\"start\" x=\"299\" y=\"-438.8\" font-family=\"Helvetica,sans-Serif\" font-size=\"14.00\" fill=\"#000000\">gini = 0.646</text>\n<text text-anchor=\"start\" x=\"285\" y=\"-423.8\" font-family=\"Helvetica,sans-Serif\" font-size=\"14.00\" fill=\"#000000\">samples = 1473</text>\n<text text-anchor=\"start\" x=\"263\" y=\"-408.8\" font-family=\"Helvetica,sans-Serif\" font-size=\"14.00\" fill=\"#000000\">value = [629, 333, 511]</text>\n</g>\n<!-- 1 -->\n<g id=\"node2\" class=\"node\">\n<title>1</title>\n<path fill=\"#e6843d\" stroke=\"#000000\" d=\"M305.5,-357.5C305.5,-357.5 206.5,-357.5 206.5,-357.5 200.5,-357.5 194.5,-351.5 194.5,-345.5 194.5,-345.5 194.5,-316.5 194.5,-316.5 194.5,-310.5 200.5,-304.5 206.5,-304.5 206.5,-304.5 305.5,-304.5 305.5,-304.5 311.5,-304.5 317.5,-310.5 317.5,-316.5 317.5,-316.5 317.5,-345.5 317.5,-345.5 317.5,-351.5 311.5,-357.5 305.5,-357.5\"/>\n<text text-anchor=\"start\" x=\"222.5\" y=\"-342.3\" font-family=\"Helvetica,sans-Serif\" font-size=\"14.00\" fill=\"#000000\">gini = 0.04</text>\n<text text-anchor=\"start\" x=\"212\" y=\"-327.3\" font-family=\"Helvetica,sans-Serif\" font-size=\"14.00\" fill=\"#000000\">samples = 97</text>\n<text text-anchor=\"start\" x=\"202.5\" y=\"-312.3\" font-family=\"Helvetica,sans-Serif\" font-size=\"14.00\" fill=\"#000000\">value = [95, 0, 2]</text>\n</g>\n<!-- 0&#45;&gt;1 -->\n<g id=\"edge1\" class=\"edge\">\n<title>0&#45;&gt;1</title>\n<path fill=\"none\" stroke=\"#000000\" d=\"M310.4776,-400.9465C301.6413,-389.6012 291.7932,-376.9567 282.9266,-365.5724\"/>\n<polygon fill=\"#000000\" stroke=\"#000000\" points=\"285.5783,-363.281 276.6723,-357.5422 280.0556,-367.5823 285.5783,-363.281\"/>\n<text text-anchor=\"middle\" x=\"273.5879\" y=\"-378.6512\" font-family=\"Helvetica,sans-Serif\" font-size=\"14.00\" fill=\"#000000\">True</text>\n</g>\n<!-- 2 -->\n<g id=\"node3\" class=\"node\">\n<title>2</title>\n<path fill=\"#fefbf9\" stroke=\"#000000\" d=\"M488,-365C488,-365 348,-365 348,-365 342,-365 336,-359 336,-353 336,-353 336,-309 336,-309 336,-303 342,-297 348,-297 348,-297 488,-297 488,-297 494,-297 500,-303 500,-309 500,-309 500,-353 500,-353 500,-359 494,-365 488,-365\"/>\n<text text-anchor=\"start\" x=\"365\" y=\"-349.8\" font-family=\"Helvetica,sans-Serif\" font-size=\"14.00\" fill=\"#000000\">Wife_age ≤ 37.5</text>\n<text text-anchor=\"start\" x=\"380\" y=\"-334.8\" font-family=\"Helvetica,sans-Serif\" font-size=\"14.00\" fill=\"#000000\">gini = 0.654</text>\n<text text-anchor=\"start\" x=\"366\" y=\"-319.8\" font-family=\"Helvetica,sans-Serif\" font-size=\"14.00\" fill=\"#000000\">samples = 1376</text>\n<text text-anchor=\"start\" x=\"344\" y=\"-304.8\" font-family=\"Helvetica,sans-Serif\" font-size=\"14.00\" fill=\"#000000\">value = [534, 333, 509]</text>\n</g>\n<!-- 0&#45;&gt;2 -->\n<g id=\"edge2\" class=\"edge\">\n<title>0&#45;&gt;2</title>\n<path fill=\"none\" stroke=\"#000000\" d=\"M363.5224,-400.9465C370.4454,-392.0578 377.9894,-382.3716 385.196,-373.1188\"/>\n<polygon fill=\"#000000\" stroke=\"#000000\" points=\"388.0346,-375.1701 391.418,-365.13 382.512,-370.8688 388.0346,-375.1701\"/>\n<text text-anchor=\"middle\" x=\"394.5023\" y=\"-386.239\" font-family=\"Helvetica,sans-Serif\" font-size=\"14.00\" fill=\"#000000\">False</text>\n</g>\n<!-- 3 -->\n<g id=\"node4\" class=\"node\">\n<title>3</title>\n<path fill=\"#e8dbfa\" stroke=\"#000000\" d=\"M399,-261C399,-261 259,-261 259,-261 253,-261 247,-255 247,-249 247,-249 247,-205 247,-205 247,-199 253,-193 259,-193 259,-193 399,-193 399,-193 405,-193 411,-199 411,-205 411,-205 411,-249 411,-249 411,-255 405,-261 399,-261\"/>\n<text text-anchor=\"start\" x=\"261\" y=\"-245.8\" font-family=\"Helvetica,sans-Serif\" font-size=\"14.00\" fill=\"#000000\">Wife_education ≤ 3.5</text>\n<text text-anchor=\"start\" x=\"291\" y=\"-230.8\" font-family=\"Helvetica,sans-Serif\" font-size=\"14.00\" fill=\"#000000\">gini = 0.641</text>\n<text text-anchor=\"start\" x=\"281\" y=\"-215.8\" font-family=\"Helvetica,sans-Serif\" font-size=\"14.00\" fill=\"#000000\">samples = 968</text>\n<text text-anchor=\"start\" x=\"255\" y=\"-200.8\" font-family=\"Helvetica,sans-Serif\" font-size=\"14.00\" fill=\"#000000\">value = [317, 217, 434]</text>\n</g>\n<!-- 2&#45;&gt;3 -->\n<g id=\"edge3\" class=\"edge\">\n<title>2&#45;&gt;3</title>\n<path fill=\"none\" stroke=\"#000000\" d=\"M388.8581,-296.9465C381.1745,-287.968 372.7947,-278.1758 364.8041,-268.8385\"/>\n<polygon fill=\"#000000\" stroke=\"#000000\" points=\"367.3685,-266.4521 358.2074,-261.13 362.0501,-271.0034 367.3685,-266.4521\"/>\n</g>\n<!-- 8 -->\n<g id=\"node9\" class=\"node\">\n<title>8</title>\n<path fill=\"#f6d3bb\" stroke=\"#000000\" d=\"M573,-261C573,-261 441,-261 441,-261 435,-261 429,-255 429,-249 429,-249 429,-205 429,-205 429,-199 435,-193 441,-193 441,-193 573,-193 573,-193 579,-193 585,-199 585,-205 585,-205 585,-249 585,-249 585,-255 579,-261 573,-261\"/>\n<text text-anchor=\"start\" x=\"439\" y=\"-245.8\" font-family=\"Helvetica,sans-Serif\" font-size=\"14.00\" fill=\"#000000\">Wife_education ≤ 3.5</text>\n<text text-anchor=\"start\" x=\"469\" y=\"-230.8\" font-family=\"Helvetica,sans-Serif\" font-size=\"14.00\" fill=\"#000000\">gini = 0.602</text>\n<text text-anchor=\"start\" x=\"459\" y=\"-215.8\" font-family=\"Helvetica,sans-Serif\" font-size=\"14.00\" fill=\"#000000\">samples = 408</text>\n<text text-anchor=\"start\" x=\"437\" y=\"-200.8\" font-family=\"Helvetica,sans-Serif\" font-size=\"14.00\" fill=\"#000000\">value = [217, 116, 75]</text>\n</g>\n<!-- 2&#45;&gt;8 -->\n<g id=\"edge8\" class=\"edge\">\n<title>2&#45;&gt;8</title>\n<path fill=\"none\" stroke=\"#000000\" d=\"M447.1419,-296.9465C454.8255,-287.968 463.2053,-278.1758 471.1959,-268.8385\"/>\n<polygon fill=\"#000000\" stroke=\"#000000\" points=\"473.9499,-271.0034 477.7926,-261.13 468.6315,-266.4521 473.9499,-271.0034\"/>\n</g>\n<!-- 4 -->\n<g id=\"node5\" class=\"node\">\n<title>4</title>\n<path fill=\"#ede2fb\" stroke=\"#000000\" d=\"M223,-157C223,-157 91,-157 91,-157 85,-157 79,-151 79,-145 79,-145 79,-101 79,-101 79,-95 85,-89 91,-89 91,-89 223,-89 223,-89 229,-89 235,-95 235,-101 235,-101 235,-145 235,-145 235,-151 229,-157 223,-157\"/>\n<text text-anchor=\"start\" x=\"112\" y=\"-141.8\" font-family=\"Helvetica,sans-Serif\" font-size=\"14.00\" fill=\"#000000\">Children ≤ 2.5</text>\n<text text-anchor=\"start\" x=\"119\" y=\"-126.8\" font-family=\"Helvetica,sans-Serif\" font-size=\"14.00\" fill=\"#000000\">gini = 0.613</text>\n<text text-anchor=\"start\" x=\"109\" y=\"-111.8\" font-family=\"Helvetica,sans-Serif\" font-size=\"14.00\" fill=\"#000000\">samples = 599</text>\n<text text-anchor=\"start\" x=\"87\" y=\"-96.8\" font-family=\"Helvetica,sans-Serif\" font-size=\"14.00\" fill=\"#000000\">value = [227, 91, 281]</text>\n</g>\n<!-- 3&#45;&gt;4 -->\n<g id=\"edge4\" class=\"edge\">\n<title>3&#45;&gt;4</title>\n<path fill=\"none\" stroke=\"#000000\" d=\"M272.6808,-192.9465C256.4952,-183.1599 238.711,-172.4066 222.0448,-162.3294\"/>\n<polygon fill=\"#000000\" stroke=\"#000000\" points=\"223.8141,-159.3092 213.4458,-157.13 220.1921,-165.2993 223.8141,-159.3092\"/>\n</g>\n<!-- 7 -->\n<g id=\"node8\" class=\"node\">\n<title>7</title>\n<path fill=\"#f1e9fc\" stroke=\"#000000\" d=\"M397,-149.5C397,-149.5 265,-149.5 265,-149.5 259,-149.5 253,-143.5 253,-137.5 253,-137.5 253,-108.5 253,-108.5 253,-102.5 259,-96.5 265,-96.5 265,-96.5 397,-96.5 397,-96.5 403,-96.5 409,-102.5 409,-108.5 409,-108.5 409,-137.5 409,-137.5 409,-143.5 403,-149.5 397,-149.5\"/>\n<text text-anchor=\"start\" x=\"293\" y=\"-134.3\" font-family=\"Helvetica,sans-Serif\" font-size=\"14.00\" fill=\"#000000\">gini = 0.652</text>\n<text text-anchor=\"start\" x=\"283\" y=\"-119.3\" font-family=\"Helvetica,sans-Serif\" font-size=\"14.00\" fill=\"#000000\">samples = 369</text>\n<text text-anchor=\"start\" x=\"261\" y=\"-104.3\" font-family=\"Helvetica,sans-Serif\" font-size=\"14.00\" fill=\"#000000\">value = [90, 126, 153]</text>\n</g>\n<!-- 3&#45;&gt;7 -->\n<g id=\"edge7\" class=\"edge\">\n<title>3&#45;&gt;7</title>\n<path fill=\"none\" stroke=\"#000000\" d=\"M329.6549,-192.9465C329.8603,-182.2621 330.088,-170.4254 330.2966,-159.5742\"/>\n<polygon fill=\"#000000\" stroke=\"#000000\" points=\"333.7966,-159.6076 330.4896,-149.5422 326.7979,-159.473 333.7966,-159.6076\"/>\n</g>\n<!-- 5 -->\n<g id=\"node6\" class=\"node\">\n<title>5</title>\n<path fill=\"#f9e2d1\" stroke=\"#000000\" d=\"M136,-53C136,-53 12,-53 12,-53 6,-53 0,-47 0,-41 0,-41 0,-12 0,-12 0,-6 6,0 12,0 12,0 136,0 136,0 142,0 148,-6 148,-12 148,-12 148,-41 148,-41 148,-47 142,-53 136,-53\"/>\n<text text-anchor=\"start\" x=\"36\" y=\"-37.8\" font-family=\"Helvetica,sans-Serif\" font-size=\"14.00\" fill=\"#000000\">gini = 0.596</text>\n<text text-anchor=\"start\" x=\"26\" y=\"-22.8\" font-family=\"Helvetica,sans-Serif\" font-size=\"14.00\" fill=\"#000000\">samples = 260</text>\n<text text-anchor=\"start\" x=\"8\" y=\"-7.8\" font-family=\"Helvetica,sans-Serif\" font-size=\"14.00\" fill=\"#000000\">value = [132, 35, 93]</text>\n</g>\n<!-- 4&#45;&gt;5 -->\n<g id=\"edge5\" class=\"edge\">\n<title>4&#45;&gt;5</title>\n<path fill=\"none\" stroke=\"#000000\" d=\"M127.7373,-88.9777C119.9401,-79.9123 111.51,-70.111 103.6901,-61.0192\"/>\n<polygon fill=\"#000000\" stroke=\"#000000\" points=\"106.1809,-58.5477 97.0065,-53.2485 100.8738,-63.1123 106.1809,-58.5477\"/>\n</g>\n<!-- 6 -->\n<g id=\"node7\" class=\"node\">\n<title>6</title>\n<path fill=\"#cfb4f5\" stroke=\"#000000\" d=\"M302,-53C302,-53 178,-53 178,-53 172,-53 166,-47 166,-41 166,-41 166,-12 166,-12 166,-6 172,0 178,0 178,0 302,0 302,0 308,0 314,-6 314,-12 314,-12 314,-41 314,-41 314,-47 308,-53 302,-53\"/>\n<text text-anchor=\"start\" x=\"202\" y=\"-37.8\" font-family=\"Helvetica,sans-Serif\" font-size=\"14.00\" fill=\"#000000\">gini = 0.587</text>\n<text text-anchor=\"start\" x=\"192\" y=\"-22.8\" font-family=\"Helvetica,sans-Serif\" font-size=\"14.00\" fill=\"#000000\">samples = 339</text>\n<text text-anchor=\"start\" x=\"174\" y=\"-7.8\" font-family=\"Helvetica,sans-Serif\" font-size=\"14.00\" fill=\"#000000\">value = [95, 56, 188]</text>\n</g>\n<!-- 4&#45;&gt;6 -->\n<g id=\"edge6\" class=\"edge\">\n<title>4&#45;&gt;6</title>\n<path fill=\"none\" stroke=\"#000000\" d=\"M186.2627,-88.9777C194.0599,-79.9123 202.49,-70.111 210.3099,-61.0192\"/>\n<polygon fill=\"#000000\" stroke=\"#000000\" points=\"213.1262,-63.1123 216.9935,-53.2485 207.8191,-58.5477 213.1262,-63.1123\"/>\n</g>\n<!-- 9 -->\n<g id=\"node10\" class=\"node\">\n<title>9</title>\n<path fill=\"#eeac7c\" stroke=\"#000000\" d=\"M567,-149.5C567,-149.5 443,-149.5 443,-149.5 437,-149.5 431,-143.5 431,-137.5 431,-137.5 431,-108.5 431,-108.5 431,-102.5 437,-96.5 443,-96.5 443,-96.5 567,-96.5 567,-96.5 573,-96.5 579,-102.5 579,-108.5 579,-108.5 579,-137.5 579,-137.5 579,-143.5 573,-149.5 567,-149.5\"/>\n<text text-anchor=\"start\" x=\"467\" y=\"-134.3\" font-family=\"Helvetica,sans-Serif\" font-size=\"14.00\" fill=\"#000000\">gini = 0.452</text>\n<text text-anchor=\"start\" x=\"457\" y=\"-119.3\" font-family=\"Helvetica,sans-Serif\" font-size=\"14.00\" fill=\"#000000\">samples = 236</text>\n<text text-anchor=\"start\" x=\"439\" y=\"-104.3\" font-family=\"Helvetica,sans-Serif\" font-size=\"14.00\" fill=\"#000000\">value = [168, 35, 33]</text>\n</g>\n<!-- 8&#45;&gt;9 -->\n<g id=\"edge9\" class=\"edge\">\n<title>8&#45;&gt;9</title>\n<path fill=\"none\" stroke=\"#000000\" d=\"M506.3451,-192.9465C506.1397,-182.2621 505.912,-170.4254 505.7034,-159.5742\"/>\n<polygon fill=\"#000000\" stroke=\"#000000\" points=\"509.2021,-159.473 505.5104,-149.5422 502.2034,-159.6076 509.2021,-159.473\"/>\n</g>\n<!-- 10 -->\n<g id=\"node11\" class=\"node\">\n<title>10</title>\n<path fill=\"#cbf8de\" stroke=\"#000000\" d=\"M725,-157C725,-157 609,-157 609,-157 603,-157 597,-151 597,-145 597,-145 597,-101 597,-101 597,-95 603,-89 609,-89 609,-89 725,-89 725,-89 731,-89 737,-95 737,-101 737,-101 737,-145 737,-145 737,-151 731,-157 725,-157\"/>\n<text text-anchor=\"start\" x=\"622\" y=\"-141.8\" font-family=\"Helvetica,sans-Serif\" font-size=\"14.00\" fill=\"#000000\">Children ≤ 1.5</text>\n<text text-anchor=\"start\" x=\"629\" y=\"-126.8\" font-family=\"Helvetica,sans-Serif\" font-size=\"14.00\" fill=\"#000000\">gini = 0.637</text>\n<text text-anchor=\"start\" x=\"619\" y=\"-111.8\" font-family=\"Helvetica,sans-Serif\" font-size=\"14.00\" fill=\"#000000\">samples = 172</text>\n<text text-anchor=\"start\" x=\"605\" y=\"-96.8\" font-family=\"Helvetica,sans-Serif\" font-size=\"14.00\" fill=\"#000000\">value = [49, 81, 42]</text>\n</g>\n<!-- 8&#45;&gt;10 -->\n<g id=\"edge10\" class=\"edge\">\n<title>8&#45;&gt;10</title>\n<path fill=\"none\" stroke=\"#000000\" d=\"M559.39,-192.9465C574.3082,-183.2497 590.6864,-172.6039 606.0662,-162.6069\"/>\n<polygon fill=\"#000000\" stroke=\"#000000\" points=\"608.0153,-165.5145 614.4923,-157.13 604.2004,-159.6454 608.0153,-165.5145\"/>\n</g>\n<!-- 11 -->\n<g id=\"node12\" class=\"node\">\n<title>11</title>\n<path fill=\"#e89050\" stroke=\"#000000\" d=\"M641.5,-53C641.5,-53 542.5,-53 542.5,-53 536.5,-53 530.5,-47 530.5,-41 530.5,-41 530.5,-12 530.5,-12 530.5,-6 536.5,0 542.5,0 542.5,0 641.5,0 641.5,0 647.5,0 653.5,-6 653.5,-12 653.5,-12 653.5,-41 653.5,-41 653.5,-47 647.5,-53 641.5,-53\"/>\n<text text-anchor=\"start\" x=\"554\" y=\"-37.8\" font-family=\"Helvetica,sans-Serif\" font-size=\"14.00\" fill=\"#000000\">gini = 0.188</text>\n<text text-anchor=\"start\" x=\"548\" y=\"-22.8\" font-family=\"Helvetica,sans-Serif\" font-size=\"14.00\" fill=\"#000000\">samples = 19</text>\n<text text-anchor=\"start\" x=\"538.5\" y=\"-7.8\" font-family=\"Helvetica,sans-Serif\" font-size=\"14.00\" fill=\"#000000\">value = [17, 0, 2]</text>\n</g>\n<!-- 10&#45;&gt;11 -->\n<g id=\"edge11\" class=\"edge\">\n<title>10&#45;&gt;11</title>\n<path fill=\"none\" stroke=\"#000000\" d=\"M640.5578,-88.9777C633.5833,-80.0039 626.0484,-70.3089 619.0427,-61.295\"/>\n<polygon fill=\"#000000\" stroke=\"#000000\" points=\"621.6891,-58.9964 612.789,-53.2485 616.1621,-63.292 621.6891,-58.9964\"/>\n</g>\n<!-- 12 -->\n<g id=\"node13\" class=\"node\">\n<title>12</title>\n<path fill=\"#b7f6d1\" stroke=\"#000000\" d=\"M800,-53C800,-53 684,-53 684,-53 678,-53 672,-47 672,-41 672,-41 672,-12 672,-12 672,-6 678,0 684,0 684,0 800,0 800,0 806,0 812,-6 812,-12 812,-12 812,-41 812,-41 812,-47 806,-53 800,-53\"/>\n<text text-anchor=\"start\" x=\"704\" y=\"-37.8\" font-family=\"Helvetica,sans-Serif\" font-size=\"14.00\" fill=\"#000000\">gini = 0.608</text>\n<text text-anchor=\"start\" x=\"694\" y=\"-22.8\" font-family=\"Helvetica,sans-Serif\" font-size=\"14.00\" fill=\"#000000\">samples = 153</text>\n<text text-anchor=\"start\" x=\"680\" y=\"-7.8\" font-family=\"Helvetica,sans-Serif\" font-size=\"14.00\" fill=\"#000000\">value = [32, 81, 40]</text>\n</g>\n<!-- 10&#45;&gt;12 -->\n<g id=\"edge12\" class=\"edge\">\n<title>10&#45;&gt;12</title>\n<path fill=\"none\" stroke=\"#000000\" d=\"M693.4422,-88.9777C700.4167,-80.0039 707.9516,-70.3089 714.9573,-61.295\"/>\n<polygon fill=\"#000000\" stroke=\"#000000\" points=\"717.8379,-63.292 721.211,-53.2485 712.3109,-58.9964 717.8379,-63.292\"/>\n</g>\n</g>\n</svg>\n"
          },
          "metadata": {},
          "execution_count": 4
        }
      ]
    },
    {
      "cell_type": "code",
      "source": [
        "inputs_tv, inputs_test, outputs_tv, outputs_test = train_test_split(inputs, \n",
        "                                                                    outputs)"
      ],
      "metadata": {
        "id": "kZcjGPrhtElH"
      },
      "execution_count": null,
      "outputs": []
    },
    {
      "cell_type": "code",
      "source": [
        "logreg_param = {\"C\": np.linspace(0.001, 2, 20)}\n",
        "logreg_grid = GridSearchCV(LogisticRegression(max_iter=1e3), logreg_param).fit(\n",
        "    inputs_tv, outputs_tv)"
      ],
      "metadata": {
        "id": "NoujK3cD1RIJ"
      },
      "execution_count": null,
      "outputs": []
    },
    {
      "cell_type": "code",
      "source": [
        "print(f\"Logreg best param: {logreg_grid.best_params_}\")\n",
        "print(f\"Score: {logreg_grid.best_estimator_.score(inputs_test, outputs_test)}\")"
      ],
      "metadata": {
        "colab": {
          "base_uri": "https://localhost:8080/"
        },
        "id": "Zg9XS8Q33ews",
        "outputId": "1c300d9a-a60f-4f06-c680-a95f7bee08a5"
      },
      "execution_count": null,
      "outputs": [
        {
          "output_type": "stream",
          "name": "stdout",
          "text": [
            "Logreg best param: {'C': 1.368736842105263}\n",
            "Score: 0.5311653116531165\n"
          ]
        }
      ]
    },
    {
      "cell_type": "code",
      "source": [
        "forest_hyperp = {\"max_depth\": range(1, 11)}\n",
        "forest_grid = GridSearchCV(RandomForestClassifier(), forest_hyperp).fit(\n",
        "    inputs_tv, outputs_tv)"
      ],
      "metadata": {
        "id": "vZhiY5eV4E5_"
      },
      "execution_count": null,
      "outputs": []
    },
    {
      "cell_type": "code",
      "source": [
        "print(f\"Forest best param: {forest_grid.best_params_}\")\n",
        "print(f\"Score: {forest_grid.best_estimator_.score(inputs_test, outputs_test)}\")"
      ],
      "metadata": {
        "colab": {
          "base_uri": "https://localhost:8080/"
        },
        "id": "QYPhx64w4Zd4",
        "outputId": "13ac6a23-cb31-439d-829d-56ac96efab3e"
      },
      "execution_count": null,
      "outputs": [
        {
          "output_type": "stream",
          "name": "stdout",
          "text": [
            "Forest best param: {'max_depth': 8}\n",
            "Score: 0.5555555555555556\n"
          ]
        }
      ]
    },
    {
      "cell_type": "code",
      "source": [
        "grad_hyperp = {\"max_depth\": range(1, 11)}\n",
        "grad_grid = GridSearchCV(GradientBoostingClassifier(), grad_hyperp).fit(\n",
        "    inputs_tv, outputs_tv)"
      ],
      "metadata": {
        "id": "drs6Augs4kRB"
      },
      "execution_count": null,
      "outputs": []
    },
    {
      "cell_type": "code",
      "source": [
        "print(f\"GB best param: {grad_grid.best_params_}\")\n",
        "print(f\"Score: {grad_grid.best_estimator_.score(inputs_test, outputs_test)}\")"
      ],
      "metadata": {
        "colab": {
          "base_uri": "https://localhost:8080/"
        },
        "id": "LAHBF1ia43oU",
        "outputId": "36773a33-2470-43ab-b6d1-1b977495f0ec"
      },
      "execution_count": null,
      "outputs": [
        {
          "output_type": "stream",
          "name": "stdout",
          "text": [
            "GB best param: {'max_depth': 3}\n",
            "Score: 0.5528455284552846\n"
          ]
        }
      ]
    },
    {
      "cell_type": "code",
      "source": [
        "grad_grid.best_estimator_.feature_importances_"
      ],
      "metadata": {
        "colab": {
          "base_uri": "https://localhost:8080/"
        },
        "id": "Va-wVFoM6mqw",
        "outputId": "90c4067a-baeb-45de-f9cf-f38a495e238a"
      },
      "execution_count": null,
      "outputs": [
        {
          "output_type": "execute_result",
          "data": {
            "text/plain": [
              "array([0.29137732, 0.16047117, 0.03169581, 0.37762922, 0.01086114,\n",
              "       0.01328421, 0.05682172, 0.0098502 , 0.02320377, 0.00625081,\n",
              "       0.01077477, 0.00777988])"
            ]
          },
          "metadata": {},
          "execution_count": 12
        }
      ]
    },
    {
      "cell_type": "code",
      "source": [
        "plt.rcParams['figure.figsize'] = [24, 16]\n",
        "fig, axs = plt.subplots(2, 1)\n",
        "# Forest classification\n",
        "axs[0].bar(inputs.columns, forest_grid.best_estimator_.feature_importances_)\n",
        "axs[0].set_title(\"Random Forest\")\n",
        "# Gradient boosting\n",
        "axs[1].bar(inputs.columns, grad_grid.best_estimator_.feature_importances_)\n",
        "axs[1].set_title(\"Gradient Boosting\")\n",
        "plt.plot()"
      ],
      "metadata": {
        "colab": {
          "base_uri": "https://localhost:8080/",
          "height": 952
        },
        "id": "4FexGHRa5Bzd",
        "outputId": "451a2167-ff40-4af6-ef83-9d3a649dbe5b"
      },
      "execution_count": null,
      "outputs": [
        {
          "output_type": "execute_result",
          "data": {
            "text/plain": [
              "[]"
            ]
          },
          "metadata": {},
          "execution_count": 13
        },
        {
          "output_type": "display_data",
          "data": {
            "text/plain": [
              "<Figure size 1728x1152 with 2 Axes>"
            ],
            "image/png": "[encoded data removed]"
          },
          "metadata": {
            "needs_background": "light"
          }
        }
      ]
    }
  ]
}