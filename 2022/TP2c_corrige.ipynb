{
  "nbformat": 4,
  "nbformat_minor": 0,
  "metadata": {
    "colab": {
      "provenance": [],
      "collapsed_sections": [],
      "mount_file_id": "1TZyPl4-8CNhM8GswJgeQIHM7SNZ_BGVq",
      "authorship_tag": "ABX9TyMAoj3LbUiobOTOFkVaq1Cb",
      "include_colab_link": true
    },
    "kernelspec": {
      "name": "python3",
      "display_name": "Python 3"
    },
    "language_info": {
      "name": "python"
    }
  },
  "cells": [
    {
      "cell_type": "markdown",
      "metadata": {
        "id": "view-in-github",
        "colab_type": "text"
      },
      "source": [
        "<a href=\"https://colab.research.google.com/github/gguex/ISH_ressources_cours_ML/blob/main/TP2c_corrige.ipynb\" target=\"_parent\"><img src=\"https://colab.research.google.com/assets/colab-badge.svg\" alt=\"Open In Colab\"/></a>"
      ]
    },
    {
      "cell_type": "markdown",
      "source": [
        "# TP 2 : Corrigé\n"
      ],
      "metadata": {
        "id": "wsOZtzGnoJE0"
      }
    },
    {
      "cell_type": "code",
      "source": [
        "import pandas as pd\n",
        "import numpy as np\n",
        "import matplotlib.pyplot as plt\n",
        "# Pour les modèles linéaires\n",
        "from sklearn.linear_model import LinearRegression, Lasso, Ridge\n",
        "# Pour séparer les datasets et la recherche des hyperparamètres\n",
        "from sklearn.model_selection import train_test_split, GridSearchCV\n",
        "# Pour faire des scores (l'opposé des fonctions de pertes) lisibles par sklearn\n",
        "from sklearn.metrics import make_scorer\n",
        "\n",
        "# Mse score\n",
        "def mse_loss(y_true, y_pred):\n",
        "  return np.mean((y_true - y_pred)**2)\n",
        "mse_score = make_scorer(mse_loss, greater_is_better=False)"
      ],
      "metadata": {
        "id": "k6u3hdv84Vhm"
      },
      "execution_count": null,
      "outputs": []
    },
    {
      "cell_type": "code",
      "source": [
        "file_path = \"drive/MyDrive/Colab Notebooks/ml_data/TP2/winequality-red.csv\"\n",
        "# Pour les blancs\n",
        "#file_path = \"drive/MyDrive/Colab Notebooks/ml_data/TP2/winequality-white.csv\"\n",
        "wine_data = pd.read_csv(file_path, sep=\";\")\n",
        "wine_data\n",
        "\n",
        "# Séparation des variables\n",
        "y = wine_data[\"quality\"]\n",
        "X = wine_data.drop([\"quality\"], axis=1)\n",
        "\n",
        "# Séparation du jeu de données \n",
        "X_train, X_test, y_train, y_test = train_test_split(X, y, test_size=0.2)\n",
        "\n",
        "# Recherche de l'hyperparamètre\n",
        "ridge = Ridge()\n",
        "hyps = np.linspace(0, 0.3, 100)\n",
        "k = 5\n",
        "param_dict = {\"alpha\": hyps}\n",
        "gride_search = GridSearchCV(ridge, \n",
        "                            param_dict, \n",
        "                            scoring=mse_score,\n",
        "                            cv=k, \n",
        "                            return_train_score=True)\n",
        "gride_search.fit(X_train, y_train)\n",
        "\n",
        "# Le meilleur paramètre \n",
        "print(gride_search.best_params_)\n",
        "\n",
        "# Le graphique\n",
        "train_score = gride_search.cv_results_[\"mean_train_score\"]\n",
        "val_score = gride_search.cv_results_[\"mean_test_score\"]\n",
        "fig, ax = plt.subplots()\n",
        "ax.plot(hyps, -train_score, c=\"blue\", label=\"MSE train\")\n",
        "ax.plot(hyps, -val_score, c=\"red\", label=\"MSE valid\")\n",
        "ax.set_xlabel(\"$\\lambda$\")\n",
        "ax.set_ylabel(\"$MSE score$\")\n",
        "ax.legend()\n",
        "plt.plot()\n",
        "\n",
        "# L'erreur de généralisation \n",
        "y_pred = gride_search.best_estimator_.predict(X_test)\n",
        "MSE_test = np.mean((y_pred - y_test)**2)\n",
        "print(MSE_test)"
      ],
      "metadata": {
        "colab": {
          "base_uri": "https://localhost:8080/",
          "height": 316
        },
        "id": "JXl_Xb163acD",
        "outputId": "35fbfe81-d317-4a22-a514-1910d448d4bd"
      },
      "execution_count": null,
      "outputs": [
        {
          "output_type": "stream",
          "name": "stdout",
          "text": [
            "{'alpha': 0.0}\n",
            "0.45251799205069226\n"
          ]
        },
        {
          "output_type": "display_data",
          "data": {
            "text/plain": [
              "<Figure size 432x288 with 1 Axes>"
            ],
            "image/png": "[encoded data removed]"
          },
          "metadata": {
            "needs_background": "light"
          }
        }
      ]
    }
  ]
}
