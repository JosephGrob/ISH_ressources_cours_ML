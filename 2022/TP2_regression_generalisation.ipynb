{
  "nbformat": 4,
  "nbformat_minor": 0,
  "metadata": {
    "colab": {
      "provenance": [],
      "collapsed_sections": [],
      "mount_file_id": "1VDye_upbRYBP8EveUAY_rVwdNFLw_Fu0",
      "authorship_tag": "ABX9TyP4gd41d+wjQVvG/YmkB6+r",
      "include_colab_link": true
    },
    "kernelspec": {
      "name": "python3",
      "display_name": "Python 3"
    },
    "language_info": {
      "name": "python"
    }
  },
  "cells": [
    {
      "cell_type": "markdown",
      "metadata": {
        "id": "view-in-github",
        "colab_type": "text"
      },
      "source": [
        "<a href=\"https://colab.research.google.com/github/gguex/ISH_ressources_cours_ML/blob/main/TP2_regression_generalisation.ipynb\" target=\"_parent\"><img src=\"https://colab.research.google.com/assets/colab-badge.svg\" alt=\"Open In Colab\"/></a>"
      ]
    },
    {
      "cell_type": "markdown",
      "source": [
        "# TP 2 : Régression et généralisation\n",
        "\n",
        "Dans ce TP, nous allons voir comment :\n",
        "\n",
        "* Ajuster une régression multiple \"à la main\" (avec numpy)\n",
        "* Ajuster des modèles linéaires avec `sklearn`\n",
        "* Sélectionner des hyperparmètres (un modèle) par cross-validation, puis estimer son erreur de généralisation.\n",
        "\n",
        "Il y aura également un **exercice**, qui vous demendera d'effectuer vous-même une recherche d'hyperparamètres avec une regression Ridge, sur un nouveau jeu de données.\n",
        "\n",
        "Pour ce TP, il nous faudra les librairies, modules et objets suivants"
      ],
      "metadata": {
        "id": "wsOZtzGnoJE0"
      }
    },
    {
      "cell_type": "code",
      "source": [
        "import pandas as pd\n",
        "import numpy as np\n",
        "import matplotlib.pyplot as plt\n",
        "# Pour les modèles linéaires\n",
        "from sklearn.linear_model import LinearRegression, Lasso, Ridge\n",
        "# Pour séparer les datasets et la recherche des hyperparamètres\n",
        "from sklearn.model_selection import train_test_split, GridSearchCV\n",
        "# Pour faire des scores (l'opposé des fonctions de pertes) lisibles par sklearn\n",
        "from sklearn.metrics import make_scorer"
      ],
      "metadata": {
        "id": "xfUz_jE9rhdN"
      },
      "execution_count": 1,
      "outputs": []
    },
    {
      "cell_type": "markdown",
      "source": [
        "---"
      ],
      "metadata": {
        "id": "3P24qIGwmxog"
      }
    },
    {
      "cell_type": "markdown",
      "source": [
        "## Chargement et traitement des données \n",
        "\n",
        "Commençons par définir le chemin à notre jeu de données \"cancer_reg.csv\" (https://github.com/Arnab777as3uj/STAT6021-Cancer-Prediction-Project) et chargeons le. Ce jeu de données contient de nombreuses variables concernant des localités aux États-Unis, avec en particulier la variable **TARGET_deathRate** contenant la mortalité moyenne par année (sur 100'000 habitants) due au cancer."
      ],
      "metadata": {
        "id": "hwrM8U3trTc3"
      }
    },
    {
      "cell_type": "code",
      "execution_count": 2,
      "metadata": {
        "id": "pPKNnV1un9bw",
        "colab": {
          "base_uri": "https://localhost:8080/",
          "height": 661
        },
        "outputId": "262bb58f-6d93-48b0-8a93-826684695d5f"
      },
      "outputs": [
        {
          "output_type": "execute_result",
          "data": {
            "text/plain": [
              "      avgAnnCount  avgDeathsPerYear  TARGET_deathRate  incidenceRate  \\\n",
              "0     1397.000000               469             164.9     489.800000   \n",
              "1      173.000000                70             161.3     411.600000   \n",
              "2      102.000000                50             174.7     349.700000   \n",
              "3      427.000000               202             194.8     430.400000   \n",
              "4       57.000000                26             144.4     350.100000   \n",
              "...           ...               ...               ...            ...   \n",
              "3042  1962.667684                15             149.6     453.549422   \n",
              "3043  1962.667684                43             150.1     453.549422   \n",
              "3044  1962.667684                46             153.9     453.549422   \n",
              "3045  1962.667684                52             175.0     453.549422   \n",
              "3046  1962.667684                48             213.6     453.549422   \n",
              "\n",
              "      medIncome  popEst2015  povertyPercent  studyPerCap           binnedInc  \\\n",
              "0         61898      260131            11.2   499.748204   (61494.5, 125635]   \n",
              "1         48127       43269            18.6    23.111234  (48021.6, 51046.4]   \n",
              "2         49348       21026            14.6    47.560164  (48021.6, 51046.4]   \n",
              "3         44243       75882            17.1   342.637253    (42724.4, 45201]   \n",
              "4         49955       10321            12.5     0.000000  (48021.6, 51046.4]   \n",
              "...         ...         ...             ...          ...                 ...   \n",
              "3042      46961        6343            12.4     0.000000    (45201, 48021.6]   \n",
              "3043      48609       37118            18.8   377.175494  (48021.6, 51046.4]   \n",
              "3044      51144       34536            15.0  1968.959926  (51046.4, 54545.6]   \n",
              "3045      50745       25609            13.3     0.000000  (48021.6, 51046.4]   \n",
              "3046      41193       37030            13.9     0.000000  (40362.7, 42724.4]   \n",
              "\n",
              "      MedianAge  ...  PctPrivateCoverageAlone  PctEmpPrivCoverage  \\\n",
              "0          39.3  ...                      NaN                41.6   \n",
              "1          33.0  ...                     53.8                43.6   \n",
              "2          45.0  ...                     43.5                34.9   \n",
              "3          42.8  ...                     40.3                35.0   \n",
              "4          48.3  ...                     43.9                35.1   \n",
              "...         ...  ...                      ...                 ...   \n",
              "3042       44.2  ...                     54.9                44.6   \n",
              "3043       30.4  ...                     53.3                48.6   \n",
              "3044       30.9  ...                     52.6                47.8   \n",
              "3045       39.0  ...                     56.3                49.6   \n",
              "3046       26.2  ...                     60.3                22.9   \n",
              "\n",
              "     PctPublicCoverage  PctPublicCoverageAlone   PctWhite   PctBlack  \\\n",
              "0                 32.9                    14.0  81.780529   2.594728   \n",
              "1                 31.1                    15.3  89.228509   0.969102   \n",
              "2                 42.1                    21.1  90.922190   0.739673   \n",
              "3                 45.3                    25.0  91.744686   0.782626   \n",
              "4                 44.0                    22.7  94.104024   0.270192   \n",
              "...                ...                     ...        ...        ...   \n",
              "3042              31.7                    13.2  90.280811   3.837754   \n",
              "3043              28.8                    17.7  75.706245   2.326771   \n",
              "3044              26.6                    16.8  87.961629   2.313188   \n",
              "3045              29.5                    14.0  92.905681   1.176562   \n",
              "3046              25.1                    12.6  70.098132  16.590100   \n",
              "\n",
              "      PctAsian  PctOtherRace  PctMarriedHouseholds  BirthRate  \n",
              "0     4.821857      1.843479             52.856076   6.118831  \n",
              "1     2.246233      3.741352             45.372500   4.333096  \n",
              "2     0.465898      2.747358             54.444868   3.729488  \n",
              "3     1.161359      1.362643             51.021514   4.603841  \n",
              "4     0.665830      0.492135             54.027460   6.796657  \n",
              "...        ...           ...                   ...        ...  \n",
              "3042  0.327613      1.700468             51.063830   7.773512  \n",
              "3043  4.044920     14.130288             52.007937   8.186470  \n",
              "3044  1.316472      5.680705             55.153949   7.809192  \n",
              "3045  0.244632      2.131790             58.484232   7.582938  \n",
              "3046  3.177753      1.356457             56.040242   8.981723  \n",
              "\n",
              "[3047 rows x 34 columns]"
            ],
            "text/html": [
              "\n",
              "  <div id=\"df-77825fc2-4f7c-47a9-bd00-e41c44bb1a4c\">\n",
              "    <div class=\"colab-df-container\">\n",
              "      <div>\n",
              "<style scoped>\n",
              "    .dataframe tbody tr th:only-of-type {\n",
              "        vertical-align: middle;\n",
              "    }\n",
              "\n",
              "    .dataframe tbody tr th {\n",
              "        vertical-align: top;\n",
              "    }\n",
              "\n",
              "    .dataframe thead th {\n",
              "        text-align: right;\n",
              "    }\n",
              "</style>\n",
              "<table border=\"1\" class=\"dataframe\">\n",
              "  <thead>\n",
              "    <tr style=\"text-align: right;\">\n",
              "      <th></th>\n",
              "      <th>avgAnnCount</th>\n",
              "      <th>avgDeathsPerYear</th>\n",
              "      <th>TARGET_deathRate</th>\n",
              "      <th>incidenceRate</th>\n",
              "      <th>medIncome</th>\n",
              "      <th>popEst2015</th>\n",
              "      <th>povertyPercent</th>\n",
              "      <th>studyPerCap</th>\n",
              "      <th>binnedInc</th>\n",
              "      <th>MedianAge</th>\n",
              "      <th>...</th>\n",
              "      <th>PctPrivateCoverageAlone</th>\n",
              "      <th>PctEmpPrivCoverage</th>\n",
              "      <th>PctPublicCoverage</th>\n",
              "      <th>PctPublicCoverageAlone</th>\n",
              "      <th>PctWhite</th>\n",
              "      <th>PctBlack</th>\n",
              "      <th>PctAsian</th>\n",
              "      <th>PctOtherRace</th>\n",
              "      <th>PctMarriedHouseholds</th>\n",
              "      <th>BirthRate</th>\n",
              "    </tr>\n",
              "  </thead>\n",
              "  <tbody>\n",
              "    <tr>\n",
              "      <th>0</th>\n",
              "      <td>1397.000000</td>\n",
              "      <td>469</td>\n",
              "      <td>164.9</td>\n",
              "      <td>489.800000</td>\n",
              "      <td>61898</td>\n",
              "      <td>260131</td>\n",
              "      <td>11.2</td>\n",
              "      <td>499.748204</td>\n",
              "      <td>(61494.5, 125635]</td>\n",
              "      <td>39.3</td>\n",
              "      <td>...</td>\n",
              "      <td>NaN</td>\n",
              "      <td>41.6</td>\n",
              "      <td>32.9</td>\n",
              "      <td>14.0</td>\n",
              "      <td>81.780529</td>\n",
              "      <td>2.594728</td>\n",
              "      <td>4.821857</td>\n",
              "      <td>1.843479</td>\n",
              "      <td>52.856076</td>\n",
              "      <td>6.118831</td>\n",
              "    </tr>\n",
              "    <tr>\n",
              "      <th>1</th>\n",
              "      <td>173.000000</td>\n",
              "      <td>70</td>\n",
              "      <td>161.3</td>\n",
              "      <td>411.600000</td>\n",
              "      <td>48127</td>\n",
              "      <td>43269</td>\n",
              "      <td>18.6</td>\n",
              "      <td>23.111234</td>\n",
              "      <td>(48021.6, 51046.4]</td>\n",
              "      <td>33.0</td>\n",
              "      <td>...</td>\n",
              "      <td>53.8</td>\n",
              "      <td>43.6</td>\n",
              "      <td>31.1</td>\n",
              "      <td>15.3</td>\n",
              "      <td>89.228509</td>\n",
              "      <td>0.969102</td>\n",
              "      <td>2.246233</td>\n",
              "      <td>3.741352</td>\n",
              "      <td>45.372500</td>\n",
              "      <td>4.333096</td>\n",
              "    </tr>\n",
              "    <tr>\n",
              "      <th>2</th>\n",
              "      <td>102.000000</td>\n",
              "      <td>50</td>\n",
              "      <td>174.7</td>\n",
              "      <td>349.700000</td>\n",
              "      <td>49348</td>\n",
              "      <td>21026</td>\n",
              "      <td>14.6</td>\n",
              "      <td>47.560164</td>\n",
              "      <td>(48021.6, 51046.4]</td>\n",
              "      <td>45.0</td>\n",
              "      <td>...</td>\n",
              "      <td>43.5</td>\n",
              "      <td>34.9</td>\n",
              "      <td>42.1</td>\n",
              "      <td>21.1</td>\n",
              "      <td>90.922190</td>\n",
              "      <td>0.739673</td>\n",
              "      <td>0.465898</td>\n",
              "      <td>2.747358</td>\n",
              "      <td>54.444868</td>\n",
              "      <td>3.729488</td>\n",
              "    </tr>\n",
              "    <tr>\n",
              "      <th>3</th>\n",
              "      <td>427.000000</td>\n",
              "      <td>202</td>\n",
              "      <td>194.8</td>\n",
              "      <td>430.400000</td>\n",
              "      <td>44243</td>\n",
              "      <td>75882</td>\n",
              "      <td>17.1</td>\n",
              "      <td>342.637253</td>\n",
              "      <td>(42724.4, 45201]</td>\n",
              "      <td>42.8</td>\n",
              "      <td>...</td>\n",
              "      <td>40.3</td>\n",
              "      <td>35.0</td>\n",
              "      <td>45.3</td>\n",
              "      <td>25.0</td>\n",
              "      <td>91.744686</td>\n",
              "      <td>0.782626</td>\n",
              "      <td>1.161359</td>\n",
              "      <td>1.362643</td>\n",
              "      <td>51.021514</td>\n",
              "      <td>4.603841</td>\n",
              "    </tr>\n",
              "    <tr>\n",
              "      <th>4</th>\n",
              "      <td>57.000000</td>\n",
              "      <td>26</td>\n",
              "      <td>144.4</td>\n",
              "      <td>350.100000</td>\n",
              "      <td>49955</td>\n",
              "      <td>10321</td>\n",
              "      <td>12.5</td>\n",
              "      <td>0.000000</td>\n",
              "      <td>(48021.6, 51046.4]</td>\n",
              "      <td>48.3</td>\n",
              "      <td>...</td>\n",
              "      <td>43.9</td>\n",
              "      <td>35.1</td>\n",
              "      <td>44.0</td>\n",
              "      <td>22.7</td>\n",
              "      <td>94.104024</td>\n",
              "      <td>0.270192</td>\n",
              "      <td>0.665830</td>\n",
              "      <td>0.492135</td>\n",
              "      <td>54.027460</td>\n",
              "      <td>6.796657</td>\n",
              "    </tr>\n",
              "    <tr>\n",
              "      <th>...</th>\n",
              "      <td>...</td>\n",
              "      <td>...</td>\n",
              "      <td>...</td>\n",
              "      <td>...</td>\n",
              "      <td>...</td>\n",
              "      <td>...</td>\n",
              "      <td>...</td>\n",
              "      <td>...</td>\n",
              "      <td>...</td>\n",
              "      <td>...</td>\n",
              "      <td>...</td>\n",
              "      <td>...</td>\n",
              "      <td>...</td>\n",
              "      <td>...</td>\n",
              "      <td>...</td>\n",
              "      <td>...</td>\n",
              "      <td>...</td>\n",
              "      <td>...</td>\n",
              "      <td>...</td>\n",
              "      <td>...</td>\n",
              "      <td>...</td>\n",
              "    </tr>\n",
              "    <tr>\n",
              "      <th>3042</th>\n",
              "      <td>1962.667684</td>\n",
              "      <td>15</td>\n",
              "      <td>149.6</td>\n",
              "      <td>453.549422</td>\n",
              "      <td>46961</td>\n",
              "      <td>6343</td>\n",
              "      <td>12.4</td>\n",
              "      <td>0.000000</td>\n",
              "      <td>(45201, 48021.6]</td>\n",
              "      <td>44.2</td>\n",
              "      <td>...</td>\n",
              "      <td>54.9</td>\n",
              "      <td>44.6</td>\n",
              "      <td>31.7</td>\n",
              "      <td>13.2</td>\n",
              "      <td>90.280811</td>\n",
              "      <td>3.837754</td>\n",
              "      <td>0.327613</td>\n",
              "      <td>1.700468</td>\n",
              "      <td>51.063830</td>\n",
              "      <td>7.773512</td>\n",
              "    </tr>\n",
              "    <tr>\n",
              "      <th>3043</th>\n",
              "      <td>1962.667684</td>\n",
              "      <td>43</td>\n",
              "      <td>150.1</td>\n",
              "      <td>453.549422</td>\n",
              "      <td>48609</td>\n",
              "      <td>37118</td>\n",
              "      <td>18.8</td>\n",
              "      <td>377.175494</td>\n",
              "      <td>(48021.6, 51046.4]</td>\n",
              "      <td>30.4</td>\n",
              "      <td>...</td>\n",
              "      <td>53.3</td>\n",
              "      <td>48.6</td>\n",
              "      <td>28.8</td>\n",
              "      <td>17.7</td>\n",
              "      <td>75.706245</td>\n",
              "      <td>2.326771</td>\n",
              "      <td>4.044920</td>\n",
              "      <td>14.130288</td>\n",
              "      <td>52.007937</td>\n",
              "      <td>8.186470</td>\n",
              "    </tr>\n",
              "    <tr>\n",
              "      <th>3044</th>\n",
              "      <td>1962.667684</td>\n",
              "      <td>46</td>\n",
              "      <td>153.9</td>\n",
              "      <td>453.549422</td>\n",
              "      <td>51144</td>\n",
              "      <td>34536</td>\n",
              "      <td>15.0</td>\n",
              "      <td>1968.959926</td>\n",
              "      <td>(51046.4, 54545.6]</td>\n",
              "      <td>30.9</td>\n",
              "      <td>...</td>\n",
              "      <td>52.6</td>\n",
              "      <td>47.8</td>\n",
              "      <td>26.6</td>\n",
              "      <td>16.8</td>\n",
              "      <td>87.961629</td>\n",
              "      <td>2.313188</td>\n",
              "      <td>1.316472</td>\n",
              "      <td>5.680705</td>\n",
              "      <td>55.153949</td>\n",
              "      <td>7.809192</td>\n",
              "    </tr>\n",
              "    <tr>\n",
              "      <th>3045</th>\n",
              "      <td>1962.667684</td>\n",
              "      <td>52</td>\n",
              "      <td>175.0</td>\n",
              "      <td>453.549422</td>\n",
              "      <td>50745</td>\n",
              "      <td>25609</td>\n",
              "      <td>13.3</td>\n",
              "      <td>0.000000</td>\n",
              "      <td>(48021.6, 51046.4]</td>\n",
              "      <td>39.0</td>\n",
              "      <td>...</td>\n",
              "      <td>56.3</td>\n",
              "      <td>49.6</td>\n",
              "      <td>29.5</td>\n",
              "      <td>14.0</td>\n",
              "      <td>92.905681</td>\n",
              "      <td>1.176562</td>\n",
              "      <td>0.244632</td>\n",
              "      <td>2.131790</td>\n",
              "      <td>58.484232</td>\n",
              "      <td>7.582938</td>\n",
              "    </tr>\n",
              "    <tr>\n",
              "      <th>3046</th>\n",
              "      <td>1962.667684</td>\n",
              "      <td>48</td>\n",
              "      <td>213.6</td>\n",
              "      <td>453.549422</td>\n",
              "      <td>41193</td>\n",
              "      <td>37030</td>\n",
              "      <td>13.9</td>\n",
              "      <td>0.000000</td>\n",
              "      <td>(40362.7, 42724.4]</td>\n",
              "      <td>26.2</td>\n",
              "      <td>...</td>\n",
              "      <td>60.3</td>\n",
              "      <td>22.9</td>\n",
              "      <td>25.1</td>\n",
              "      <td>12.6</td>\n",
              "      <td>70.098132</td>\n",
              "      <td>16.590100</td>\n",
              "      <td>3.177753</td>\n",
              "      <td>1.356457</td>\n",
              "      <td>56.040242</td>\n",
              "      <td>8.981723</td>\n",
              "    </tr>\n",
              "  </tbody>\n",
              "</table>\n",
              "<p>3047 rows × 34 columns</p>\n",
              "</div>\n",
              "      <button class=\"colab-df-convert\" onclick=\"convertToInteractive('df-77825fc2-4f7c-47a9-bd00-e41c44bb1a4c')\"\n",
              "              title=\"Convert this dataframe to an interactive table.\"\n",
              "              style=\"display:none;\">\n",
              "        \n",
              "  <svg xmlns=\"http://www.w3.org/2000/svg\" height=\"24px\"viewBox=\"0 0 24 24\"\n",
              "       width=\"24px\">\n",
              "    <path d=\"M0 0h24v24H0V0z\" fill=\"none\"/>\n",
              "    <path d=\"M18.56 5.44l.94 2.06.94-2.06 2.06-.94-2.06-.94-.94-2.06-.94 2.06-2.06.94zm-11 1L8.5 8.5l.94-2.06 2.06-.94-2.06-.94L8.5 2.5l-.94 2.06-2.06.94zm10 10l.94 2.06.94-2.06 2.06-.94-2.06-.94-.94-2.06-.94 2.06-2.06.94z\"/><path d=\"M17.41 7.96l-1.37-1.37c-.4-.4-.92-.59-1.43-.59-.52 0-1.04.2-1.43.59L10.3 9.45l-7.72 7.72c-.78.78-.78 2.05 0 2.83L4 21.41c.39.39.9.59 1.41.59.51 0 1.02-.2 1.41-.59l7.78-7.78 2.81-2.81c.8-.78.8-2.07 0-2.86zM5.41 20L4 18.59l7.72-7.72 1.47 1.35L5.41 20z\"/>\n",
              "  </svg>\n",
              "      </button>\n",
              "      \n",
              "  <style>\n",
              "    .colab-df-container {\n",
              "      display:flex;\n",
              "      flex-wrap:wrap;\n",
              "      gap: 12px;\n",
              "    }\n",
              "\n",
              "    .colab-df-convert {\n",
              "      background-color: #E8F0FE;\n",
              "      border: none;\n",
              "      border-radius: 50%;\n",
              "      cursor: pointer;\n",
              "      display: none;\n",
              "      fill: #1967D2;\n",
              "      height: 32px;\n",
              "      padding: 0 0 0 0;\n",
              "      width: 32px;\n",
              "    }\n",
              "\n",
              "    .colab-df-convert:hover {\n",
              "      background-color: #E2EBFA;\n",
              "      box-shadow: 0px 1px 2px rgba(60, 64, 67, 0.3), 0px 1px 3px 1px rgba(60, 64, 67, 0.15);\n",
              "      fill: #174EA6;\n",
              "    }\n",
              "\n",
              "    [theme=dark] .colab-df-convert {\n",
              "      background-color: #3B4455;\n",
              "      fill: #D2E3FC;\n",
              "    }\n",
              "\n",
              "    [theme=dark] .colab-df-convert:hover {\n",
              "      background-color: #434B5C;\n",
              "      box-shadow: 0px 1px 3px 1px rgba(0, 0, 0, 0.15);\n",
              "      filter: drop-shadow(0px 1px 2px rgba(0, 0, 0, 0.3));\n",
              "      fill: #FFFFFF;\n",
              "    }\n",
              "  </style>\n",
              "\n",
              "      <script>\n",
              "        const buttonEl =\n",
              "          document.querySelector('#df-77825fc2-4f7c-47a9-bd00-e41c44bb1a4c button.colab-df-convert');\n",
              "        buttonEl.style.display =\n",
              "          google.colab.kernel.accessAllowed ? 'block' : 'none';\n",
              "\n",
              "        async function convertToInteractive(key) {\n",
              "          const element = document.querySelector('#df-77825fc2-4f7c-47a9-bd00-e41c44bb1a4c');\n",
              "          const dataTable =\n",
              "            await google.colab.kernel.invokeFunction('convertToInteractive',\n",
              "                                                     [key], {});\n",
              "          if (!dataTable) return;\n",
              "\n",
              "          const docLinkHtml = 'Like what you see? Visit the ' +\n",
              "            '<a target=\"_blank\" href=https://colab.research.google.com/notebooks/data_table.ipynb>data table notebook</a>'\n",
              "            + ' to learn more about interactive tables.';\n",
              "          element.innerHTML = '';\n",
              "          dataTable['output_type'] = 'display_data';\n",
              "          await google.colab.output.renderOutput(dataTable, element);\n",
              "          const docLink = document.createElement('div');\n",
              "          docLink.innerHTML = docLinkHtml;\n",
              "          element.appendChild(docLink);\n",
              "        }\n",
              "      </script>\n",
              "    </div>\n",
              "  </div>\n",
              "  "
            ]
          },
          "metadata": {},
          "execution_count": 2
        }
      ],
      "source": [
        "file_path = \"drive/MyDrive/Colab Notebooks/ml_data/TP2/cancer_reg.csv\"\n",
        "# L'encodage du fichier est \"latin-1\"\n",
        "data = pd.read_csv(file_path, encoding='latin-1')\n",
        "data "
      ]
    },
    {
      "cell_type": "markdown",
      "source": [
        "Remarquons qu'il n'y a que des variables numériques, mis à part **binnedInc** (un intervalle) et **Geography** (nom de la ville) (voir `my_df.dtypes`). Les variables **incidenceRate**, **avgAnnCount**, **avgDeathsPerYear**, **popEst2015** sont des variables qui ont servi à la construction de la variable dépendante ou qui ne sont pas pertinentes. Nous allons enlever toutes ces variables :"
      ],
      "metadata": {
        "id": "5wjey_ZOYhVN"
      }
    },
    {
      "cell_type": "code",
      "source": [
        "data = data.drop([\"binnedInc\", \"Geography\", \"incidenceRate\", \"avgAnnCount\", \n",
        "                  \"avgDeathsPerYear\", \"popEst2015\"], axis=1)"
      ],
      "metadata": {
        "id": "i_ErIJLUW5mi"
      },
      "execution_count": 3,
      "outputs": []
    },
    {
      "cell_type": "markdown",
      "source": [
        "Notre jeu de données possède des valeurs manquantes (`NaN`). Certaines instances de méthodes permettent de les prendre en charge, mais ici, nous allons les remplacer par la moyenne de la variable manquante. Pour cela, nous créons un dictionnaire contenant les moyennes des variables, puis on utilise `fillna` "
      ],
      "metadata": {
        "id": "N842Dfi-kRV_"
      }
    },
    {
      "cell_type": "code",
      "source": [
        "var_means = {var_name : data[var_name].mean() for var_name in data.columns}\n",
        "data = data.fillna(value=var_means)"
      ],
      "metadata": {
        "id": "-PKDARZ8k6vi"
      },
      "execution_count": 4,
      "outputs": []
    },
    {
      "cell_type": "markdown",
      "source": [
        "Finalement, nous allons isoler notre variable dépendante des autres variables, et sauvegarder le nombre d'individus et variables dépendantes"
      ],
      "metadata": {
        "id": "IWW84TU0d6Y2"
      }
    },
    {
      "cell_type": "code",
      "source": [
        "outputs = data[\"TARGET_deathRate\"]\n",
        "inputs = data.drop([\"TARGET_deathRate\"], axis=1)\n",
        "n_row, n_col = inputs.shape"
      ],
      "metadata": {
        "id": "ntaT7ortYS1H"
      },
      "execution_count": 5,
      "outputs": []
    },
    {
      "cell_type": "markdown",
      "source": [
        "---"
      ],
      "metadata": {
        "id": "i3tcmJdrm6wk"
      }
    },
    {
      "cell_type": "markdown",
      "source": [
        "## Régression linéaire avec `numpy`\n",
        "\n",
        "Nous allons faire ici une régression linéaire \"à la main\", à l'aide la la libraire `numpy`. Ainsi, nous pourrons comparer ces résultats avec ceux obtenus grâce à `sklearn`. Tout d'abord, on transforme nos entrées et sorties en Arrays"
      ],
      "metadata": {
        "id": "PvDKk2kqegau"
      }
    },
    {
      "cell_type": "code",
      "source": [
        "inputs_a = inputs.to_numpy()\n",
        "outputs_a = outputs.to_numpy()"
      ],
      "metadata": {
        "id": "ZunXy-e_ek4l"
      },
      "execution_count": 6,
      "outputs": []
    },
    {
      "cell_type": "markdown",
      "source": [
        "Pour que nous puissons calculer l'intercept $w_0$, nous allons devoir ajouter une colonne de $1$ à nos entrées"
      ],
      "metadata": {
        "id": "GiFc-cOlgH5v"
      }
    },
    {
      "cell_type": "code",
      "source": [
        "vec_of_ones = np.ones([n_row, 1])\n",
        "x_matrix = np.concatenate([vec_of_ones, inputs_a], axis=1)"
      ],
      "metadata": {
        "id": "Vwb0ctKcfjYf"
      },
      "execution_count": 7,
      "outputs": []
    },
    {
      "cell_type": "markdown",
      "source": [
        "Effectuons maintenant la formule de régression $\\textbf{w} = (\\textbf{X}^\\top \\textbf{X})^{-1}\\textbf{X}^\\top \\textbf{y}$ pour trouver les coefficients $\\textbf{w}$"
      ],
      "metadata": {
        "id": "bkIj0RzKiAR0"
      }
    },
    {
      "cell_type": "code",
      "source": [
        "coef = np.linalg.inv(x_matrix.T @ x_matrix) @ x_matrix.T @ outputs_a\n",
        "coef"
      ],
      "metadata": {
        "colab": {
          "base_uri": "https://localhost:8080/"
        },
        "id": "z_S0kujxfrZt",
        "outputId": "6a02c6ab-cb6d-4831-8200-df70c0bc9d1b"
      },
      "execution_count": 8,
      "outputs": [
        {
          "output_type": "execute_result",
          "data": {
            "text/plain": [
              "array([ 2.19718691e+02,  2.19788004e-04,  2.77273746e-01,  9.31363532e-04,\n",
              "        1.85557211e-03, -4.98272280e-01, -3.99391598e-01, -5.67544728e-01,\n",
              "        1.47435223e+00, -2.00329540e-01,  2.92050344e-01,  5.19175769e-02,\n",
              "       -8.22649608e-02,  5.30738029e-01, -1.39614877e+00, -5.63257056e-01,\n",
              "        5.43905976e-01, -1.31379589e-01,  1.08845666e-01,  4.91756992e-01,\n",
              "       -1.20887731e-01,  8.85889619e-01, -7.62392584e-02,  3.44733561e-02,\n",
              "       -2.14858389e-01, -1.29052962e+00, -1.75472216e+00, -1.32999581e+00])"
            ]
          },
          "metadata": {},
          "execution_count": 8
        }
      ]
    },
    {
      "cell_type": "markdown",
      "source": [
        "Calculons maintenant les prédictions et la $MSE$ "
      ],
      "metadata": {
        "id": "xImex5j3l22j"
      }
    },
    {
      "cell_type": "code",
      "source": [
        "outputs_pred = x_matrix @ coef\n",
        "mse = np.mean((outputs_pred - outputs_a)**2)\n",
        "mse"
      ],
      "metadata": {
        "colab": {
          "base_uri": "https://localhost:8080/"
        },
        "id": "ypeNvQyWhlJP",
        "outputId": "97276d00-4ec9-4615-c84a-a5e4a504ad40"
      },
      "execution_count": 9,
      "outputs": [
        {
          "output_type": "execute_result",
          "data": {
            "text/plain": [
              "458.43606876316204"
            ]
          },
          "metadata": {},
          "execution_count": 9
        }
      ]
    },
    {
      "cell_type": "markdown",
      "source": [
        "Nous allons comparer ces résultats avec ceux obtenus avec `sklearn`.\n",
        "\n",
        "---"
      ],
      "metadata": {
        "id": "WG1Q0KC_mlC1"
      }
    },
    {
      "cell_type": "markdown",
      "source": [
        "## Régression linéaire avec `sklearn`\n",
        "\n",
        "Le fonctionnnement usuel de méthodes dans `sklearn` se passe selon les étapes suivantes :\n",
        "\n",
        "* On crée une instance de la classe de la méthode désirée (ici `LinearRegression`)\n",
        "* On fait appelle à la méthode de l'objet `fit`, où l'on fait passer nos données. Cette méthode permet d'entrainer la méthode et trouver les paramètres optimaux.\n",
        "* L'instance initiale va maintenant contenir toutes les informations relative à la méthode, que l'on peut extraire."
      ],
      "metadata": {
        "id": "4iGvAhGEojDu"
      }
    },
    {
      "cell_type": "markdown",
      "source": [
        "L'entrainement se fait donc de la manière suivante "
      ],
      "metadata": {
        "id": "woWzNjeTp187"
      }
    },
    {
      "cell_type": "code",
      "source": [
        "linear_reg = LinearRegression()\n",
        "linear_reg.fit(inputs, outputs)"
      ],
      "metadata": {
        "colab": {
          "base_uri": "https://localhost:8080/"
        },
        "id": "v-Lq8o3QlgeC",
        "outputId": "99778c48-0983-4731-a83e-81c6aa491d70"
      },
      "execution_count": 10,
      "outputs": [
        {
          "output_type": "execute_result",
          "data": {
            "text/plain": [
              "LinearRegression()"
            ]
          },
          "metadata": {},
          "execution_count": 10
        }
      ]
    },
    {
      "cell_type": "markdown",
      "source": [
        "Puis on peut extraire l'intercept"
      ],
      "metadata": {
        "id": "cVTKdbtrqUGo"
      }
    },
    {
      "cell_type": "code",
      "source": [
        "linear_reg.intercept_"
      ],
      "metadata": {
        "colab": {
          "base_uri": "https://localhost:8080/"
        },
        "id": "kIEYYikPqC9m",
        "outputId": "afe55164-04ec-4858-a08d-ac60d931a5f6"
      },
      "execution_count": 11,
      "outputs": [
        {
          "output_type": "execute_result",
          "data": {
            "text/plain": [
              "219.7186906539548"
            ]
          },
          "metadata": {},
          "execution_count": 11
        }
      ]
    },
    {
      "cell_type": "markdown",
      "source": [
        "ou les coefficients"
      ],
      "metadata": {
        "id": "Tpu2T_hdqgfn"
      }
    },
    {
      "cell_type": "code",
      "source": [
        "linear_reg.coef_"
      ],
      "metadata": {
        "colab": {
          "base_uri": "https://localhost:8080/"
        },
        "id": "ibEzSJkaqdDo",
        "outputId": "990bf174-fcce-425b-cd21-43bb6fdf41e6"
      },
      "execution_count": 12,
      "outputs": [
        {
          "output_type": "execute_result",
          "data": {
            "text/plain": [
              "array([ 2.19788004e-04,  2.77273746e-01,  9.31363532e-04,  1.85557211e-03,\n",
              "       -4.98272280e-01, -3.99391598e-01, -5.67544728e-01,  1.47435223e+00,\n",
              "       -2.00329540e-01,  2.92050344e-01,  5.19175769e-02, -8.22649608e-02,\n",
              "        5.30738029e-01, -1.39614877e+00, -5.63257056e-01,  5.43905976e-01,\n",
              "       -1.31379589e-01,  1.08845666e-01,  4.91756992e-01, -1.20887731e-01,\n",
              "        8.85889619e-01, -7.62392584e-02,  3.44733561e-02, -2.14858389e-01,\n",
              "       -1.29052962e+00, -1.75472216e+00, -1.32999581e+00])"
            ]
          },
          "metadata": {},
          "execution_count": 12
        }
      ]
    },
    {
      "cell_type": "markdown",
      "source": [
        "Comparons avec le résultat obtenu avec `numpy`"
      ],
      "metadata": {
        "id": "6ual12zGqrG8"
      }
    },
    {
      "cell_type": "code",
      "source": [
        "coef - np.append(linear_reg.intercept_, linear_reg.coef_)"
      ],
      "metadata": {
        "colab": {
          "base_uri": "https://localhost:8080/"
        },
        "id": "o2VHD9BsqqMn",
        "outputId": "b4b919d2-020a-4cfe-f966-b5cf3d56f928"
      },
      "execution_count": 13,
      "outputs": [
        {
          "output_type": "execute_result",
          "data": {
            "text/plain": [
              "array([-1.20110144e-10, -4.60189612e-16, -5.94690963e-13, -9.14632953e-16,\n",
              "       -6.43994406e-15,  3.02535774e-14,  8.02913291e-13,  1.53500546e-11,\n",
              "       -2.82662782e-13,  1.46549439e-13, -4.44089210e-16, -5.07073550e-13,\n",
              "       -2.76279000e-13, -2.23931984e-13, -9.41469125e-14,  2.28150832e-13,\n",
              "        7.15649762e-13,  1.66408554e-12, -6.93237134e-13, -3.12305737e-13,\n",
              "       -1.48542290e-12,  1.74638082e-12,  1.64507297e-13,  4.48113768e-14,\n",
              "        1.21014310e-13,  4.27879954e-13, -1.66089364e-13,  2.51354493e-13])"
            ]
          },
          "metadata": {},
          "execution_count": 13
        }
      ]
    },
    {
      "cell_type": "markdown",
      "source": [
        "on voit que les résultats sont similaires. Qu'en est-il des prédictions et de la $MSE$ ?"
      ],
      "metadata": {
        "id": "WEa1T8-1rOuc"
      }
    },
    {
      "cell_type": "code",
      "source": [
        "sk_outputs_pred = linear_reg.predict(inputs)\n",
        "sk_mse = np.mean((sk_outputs_pred - outputs)**2)\n",
        "print(f\"MSE numpy = {mse}, MSE sklearn = {sk_mse}\")"
      ],
      "metadata": {
        "colab": {
          "base_uri": "https://localhost:8080/"
        },
        "id": "3B2GQbiLqk9Q",
        "outputId": "a32b2020-1692-4b90-fe5b-77a59a17b099"
      },
      "execution_count": 14,
      "outputs": [
        {
          "output_type": "stream",
          "name": "stdout",
          "text": [
            "MSE numpy = 458.43606876316204, MSE sklearn = 458.43606876316204\n"
          ]
        }
      ]
    },
    {
      "cell_type": "markdown",
      "source": [
        "L'erreur est quasiment identique et on peut être rassuré sur les capacités de `sklearn` ! Pour plus d'information sur `LinearRegression`, voir https://scikit-learn.org/stable/modules/generated/sklearn.linear_model.LinearRegression.html.\n",
        "\n",
        "---"
      ],
      "metadata": {
        "id": "xHNf1RmSsuFW"
      }
    },
    {
      "cell_type": "markdown",
      "source": [
        "## La sélection des hyperparamètres pour une regression *Lasso* par cross-validation\n",
        "\n",
        "Dans les parties précédentes, nous avons utilisé toutes les variables du jeux de données. Ici, grâce à une régression régularisée de type *Lasso* (L1), nous allons voir si certaines variables peuvent être omises. Pour cela, nous allons définir un paramètre optimal $\\lambda$ par cross-validation, et évaluer le modèle retenu."
      ],
      "metadata": {
        "id": "lyJ7-F2uuUFP"
      }
    },
    {
      "cell_type": "markdown",
      "source": [
        "On commence par scinder aléatoirement le jeu de données en deux, avec d'un côte le jeu de données entrainement/validation (servant à la cross-validation), et de l'autre le jeu de test. La taille du jeu de test est posée à 20%. Nous pouvons utiliser pour cela la fonction `train_test_split` de `sklearn.model_selection`"
      ],
      "metadata": {
        "id": "kEEImyrSv9zZ"
      }
    },
    {
      "cell_type": "code",
      "source": [
        "inputs_train_val, inputs_test, outputs_train_val, outputs_test = \\\n",
        "    train_test_split(inputs, outputs, test_size=0.2)\n",
        "# On sauvegarde les tailles\n",
        "n_row_train_val = inputs_train_val.shape[0]\n",
        "n_row_test = inputs_test.shape[0]"
      ],
      "metadata": {
        "id": "mXcPrrK1sIhV"
      },
      "execution_count": 15,
      "outputs": []
    },
    {
      "cell_type": "markdown",
      "source": [
        "Posons maintenant les valeurs de $\\lambda$ qui vont être testées (50 valeurs entre 0.001 et 1, la valeur 0 ne fonctionne pas bien avec Lasso de `sklearn`), ainsi que le nombre de folds $k$"
      ],
      "metadata": {
        "id": "RHKcJCNv0caB"
      }
    },
    {
      "cell_type": "code",
      "source": [
        "hyp_lambdas = np.linspace(0.001, 1, 50)\n",
        "k = 5"
      ],
      "metadata": {
        "id": "l6GBP61Rw1Vl"
      },
      "execution_count": 16,
      "outputs": []
    },
    {
      "cell_type": "markdown",
      "source": [
        "Nous tirons maintenant aléatoirement les attributions des individus dans les folds (sur le jeu d'entrainement/validation)"
      ],
      "metadata": {
        "id": "PhjvZ71lH_Lf"
      }
    },
    {
      "cell_type": "code",
      "source": [
        "# Un vecteur contenant 0, 1, 2, ..., k répèté assez de fois pour \n",
        "# dépasser n_row_train_val\n",
        "fold_membs = np.tile(np.arange(k), int(np.ceil(n_row_train_val / k)))\n",
        "# On ne garde que les n_row_train_val premiers éléments\n",
        "fold_membs = fold_membs[:n_row_train_val]\n",
        "# On mélange le vecteur\n",
        "np.random.shuffle(fold_membs)"
      ],
      "metadata": {
        "id": "kG7oBgYuxi20"
      },
      "execution_count": 17,
      "outputs": []
    },
    {
      "cell_type": "markdown",
      "source": [
        "Passons maintenant aux boucles formant le coeur de la cross-validation. La boucle extérieure va tester toutes les valeurs de $\\lambda$, et pour chaque valeur, la boucle intérieure va entrainer et valider un modèle selon les folds.\n",
        "Les résultats finaux de cette double boucle sont deux listes contenant les valeurs moyennes de $MSE_\\text{train}$ et $MSE_\\text{valid}$ pour chaque $\\lambda$."
      ],
      "metadata": {
        "id": "5faMRdRicG9p"
      }
    },
    {
      "cell_type": "code",
      "source": [
        "# Pour stocker la moyenne du mse pour chaque paramètre\n",
        "train_mse_means, val_mse_means = [], []\n",
        "\n",
        "# Boucle sur les lambdas\n",
        "for hyp_lambda in hyp_lambdas:\n",
        "\n",
        "  # Pour stocker la valeur du mse sur chaque fold\n",
        "  train_mses, val_mses = [], []\n",
        "\n",
        "  # Boucle sur les folds\n",
        "  for fold in range(k):\n",
        "\n",
        "    # On trouve les indices des folds\n",
        "    indices_train = np.where(fold_membs != fold)[0]\n",
        "    indices_val = np.where(fold_membs == fold)[0]\n",
        "\n",
        "    # On sépare le jeu en 2 groupes : entrainement - validation\n",
        "    inputs_train = inputs_train_val.iloc[indices_train, ]\n",
        "    inputs_val = inputs_train_val.iloc[indices_val, ]\n",
        "    outputs_train = outputs_train_val.iloc[indices_train]\n",
        "    outputs_val = outputs_train_val.iloc[indices_val]\n",
        "\n",
        "    # On entraine le modèle (\"alpha\" est le paramètre de régularisation)\n",
        "    lasso_reg = Lasso(alpha=hyp_lambda)\n",
        "    lasso_reg.fit(inputs_train, outputs_train)\n",
        "\n",
        "    # On calcule la train_mse et val_mse\n",
        "    train_mse = np.mean((lasso_reg.predict(inputs_train) - outputs_train)**2)\n",
        "    val_mse = np.mean((lasso_reg.predict(inputs_val) - outputs_val)**2)\n",
        "\n",
        "    # On sauve les valeurs\n",
        "    train_mses.append(train_mse)\n",
        "    val_mses.append(val_mse)\n",
        "\n",
        "  # On sauve les moyennes sur les folds\n",
        "  train_mse_means.append(np.mean(train_mses))\n",
        "  val_mse_means.append(np.mean(val_mses))"
      ],
      "metadata": {
        "id": "u5Dz5ElFIK-X"
      },
      "execution_count": 18,
      "outputs": []
    },
    {
      "cell_type": "markdown",
      "source": [
        "Observons comment varient $MSE_\\text{train}$ et $MSE_\\text{valid}$ en fonction de $\\lambda$"
      ],
      "metadata": {
        "id": "SkZQNvTqTd6V"
      }
    },
    {
      "cell_type": "code",
      "source": [
        "fig, ax = plt.subplots()\n",
        "ax.plot(hyp_lambdas, train_mse_means, c=\"blue\", label=\"MSE train\")\n",
        "ax.plot(hyp_lambdas, val_mse_means, c=\"red\", label=\"MSE valid\")\n",
        "ax.set_xlabel(\"$\\lambda$\")\n",
        "ax.set_ylabel(\"$MSE$\")\n",
        "ax.legend()\n",
        "plt.plot()"
      ],
      "metadata": {
        "colab": {
          "base_uri": "https://localhost:8080/",
          "height": 302
        },
        "id": "AgrbizyuM4Pd",
        "outputId": "9f661cbe-9041-4393-8ea3-ef9573c4f723"
      },
      "execution_count": 19,
      "outputs": [
        {
          "output_type": "execute_result",
          "data": {
            "text/plain": [
              "[]"
            ]
          },
          "metadata": {},
          "execution_count": 19
        },
        {
          "output_type": "display_data",
          "data": {
            "text/plain": [
              "<Figure size 432x288 with 1 Axes>"
            ],
            "image/png": "[encoded data removed]"
          },
          "metadata": {
            "needs_background": "light"
          }
        }
      ]
    },
    {
      "cell_type": "markdown",
      "source": [
        "On peut trouver la valeur optimale l'hyperparmètre $\\lambda$ avec"
      ],
      "metadata": {
        "id": "N0Y3n6i3Ujwe"
      }
    },
    {
      "cell_type": "code",
      "source": [
        "index_opt_hyp_lambda = np.where(val_mse_means == min(val_mse_means))[0]\n",
        "opt_hyp_lambda = float(hyp_lambdas[index_opt_hyp_lambda])\n",
        "print(f\"La valeur optimale de lambda est : {opt_hyp_lambda}\")"
      ],
      "metadata": {
        "colab": {
          "base_uri": "https://localhost:8080/"
        },
        "id": "B0xWVEnHNHpY",
        "outputId": "46d2d95f-0b85-45e1-b9da-09a6e7ac8773"
      },
      "execution_count": 20,
      "outputs": [
        {
          "output_type": "stream",
          "name": "stdout",
          "text": [
            "La valeur optimale de lambda est : 0.775734693877551\n"
          ]
        }
      ]
    },
    {
      "cell_type": "markdown",
      "source": [
        "On peut donc maintenant calculer l'erreur de généralisation sur le jeu de test"
      ],
      "metadata": {
        "id": "-VL37ChqX6bl"
      }
    },
    {
      "cell_type": "code",
      "source": [
        "# On entraine le modèle sur toutes les données d'entrainement - validation\n",
        "opt_lasso_reg = Lasso(alpha=opt_hyp_lambda)\n",
        "opt_lasso_reg.fit(inputs_train_val, outputs_train_val)\n",
        "# On calcul l'erreur \n",
        "test_mse_lasso = np.mean((opt_lasso_reg.predict(inputs_test) - outputs_test)**2)\n",
        "test_mse_lasso"
      ],
      "metadata": {
        "colab": {
          "base_uri": "https://localhost:8080/"
        },
        "id": "bvr6mcm0UzyJ",
        "outputId": "35ca986c-4a98-4fb2-d386-410fe907329d"
      },
      "execution_count": 21,
      "outputs": [
        {
          "output_type": "execute_result",
          "data": {
            "text/plain": [
              "517.6811893407902"
            ]
          },
          "metadata": {},
          "execution_count": 21
        }
      ]
    },
    {
      "cell_type": "markdown",
      "source": [
        "Si l'on la compare à la régression linéaire \"classique\""
      ],
      "metadata": {
        "id": "n2LS3jhsZE5g"
      }
    },
    {
      "cell_type": "code",
      "source": [
        "# On entraine le modèle sur toutes les données d'entrainement - validation\n",
        "lin_reg = LinearRegression()\n",
        "lin_reg.fit(inputs_train_val, outputs_train_val)\n",
        "# On calcul l'erreur \n",
        "test_mse_lin = np.mean((lin_reg.predict(inputs_test) - outputs_test)**2)\n",
        "test_mse_lin"
      ],
      "metadata": {
        "colab": {
          "base_uri": "https://localhost:8080/"
        },
        "id": "P0CeIlPjU1Al",
        "outputId": "358feed3-0f84-4936-db26-3c0ef4f91ea9"
      },
      "execution_count": 22,
      "outputs": [
        {
          "output_type": "execute_result",
          "data": {
            "text/plain": [
              "519.4938055836699"
            ]
          },
          "metadata": {},
          "execution_count": 22
        }
      ]
    },
    {
      "cell_type": "markdown",
      "source": [
        "On voit que les prédictions sont (normalement et légèrement) meilleures. Que valent nos coefficients ?"
      ],
      "metadata": {
        "id": "it9CE_gqZda2"
      }
    },
    {
      "cell_type": "code",
      "source": [
        "reg_coef = np.append(lin_reg.intercept_, lin_reg.coef_)\n",
        "lasso_coef = np.append(opt_lasso_reg.intercept_, opt_lasso_reg.coef_)\n",
        "pd.DataFrame({\"Variables\" : [\"intercept\"] + list(inputs.columns), \n",
        "              \"Coefficient Reg\": reg_coef,\n",
        "             \"Coefficient Lasso\": lasso_coef})"
      ],
      "metadata": {
        "colab": {
          "base_uri": "https://localhost:8080/",
          "height": 927
        },
        "id": "SBGXHimIZU38",
        "outputId": "006698df-d2b7-4fb4-8420-4ad230123766"
      },
      "execution_count": 23,
      "outputs": [
        {
          "output_type": "execute_result",
          "data": {
            "text/plain": [
              "                  Variables  Coefficient Reg  Coefficient Lasso\n",
              "0                 intercept       231.265964         228.329922\n",
              "1                 medIncome         0.000263           0.000164\n",
              "2            povertyPercent         0.105389           0.019635\n",
              "3               studyPerCap        -0.000080          -0.000153\n",
              "4                 MedianAge        -0.014560          -0.014570\n",
              "5             MedianAgeMale        -0.735631          -0.581641\n",
              "6           MedianAgeFemale        -0.356199          -0.348585\n",
              "7          AvgHouseholdSize         0.049216          -0.000000\n",
              "8            PercentMarried         1.657311           1.189450\n",
              "9              PctNoHS18_24        -0.215329          -0.216775\n",
              "10               PctHS18_24         0.235353           0.223541\n",
              "11          PctSomeCol18_24         0.079112           0.026015\n",
              "12          PctBachDeg18_24         0.012596           0.000000\n",
              "13             PctHS25_Over         0.644140           0.638801\n",
              "14        PctBachDeg25_Over        -1.346840          -1.267657\n",
              "15       PctEmployed16_Over        -0.664965          -0.528192\n",
              "16     PctUnemployed16_Over         0.482541           0.421595\n",
              "17       PctPrivateCoverage        -0.131882          -0.128632\n",
              "18  PctPrivateCoverageAlone         0.007599           0.000000\n",
              "19       PctEmpPrivCoverage         0.467245           0.434164\n",
              "20        PctPublicCoverage        -0.098908           0.000000\n",
              "21   PctPublicCoverageAlone         0.797618           0.699474\n",
              "22                 PctWhite         0.009301           0.001117\n",
              "23                 PctBlack         0.113257           0.114222\n",
              "24                 PctAsian        -0.092069          -0.000000\n",
              "25             PctOtherRace        -1.318794          -1.260927\n",
              "26     PctMarriedHouseholds        -2.003750          -1.603873\n",
              "27                BirthRate        -1.251799          -0.960255"
            ],
            "text/html": [
              "\n",
              "  <div id=\"df-652a2960-0663-4bd4-b7da-30df466545f4\">\n",
              "    <div class=\"colab-df-container\">\n",
              "      <div>\n",
              "<style scoped>\n",
              "    .dataframe tbody tr th:only-of-type {\n",
              "        vertical-align: middle;\n",
              "    }\n",
              "\n",
              "    .dataframe tbody tr th {\n",
              "        vertical-align: top;\n",
              "    }\n",
              "\n",
              "    .dataframe thead th {\n",
              "        text-align: right;\n",
              "    }\n",
              "</style>\n",
              "<table border=\"1\" class=\"dataframe\">\n",
              "  <thead>\n",
              "    <tr style=\"text-align: right;\">\n",
              "      <th></th>\n",
              "      <th>Variables</th>\n",
              "      <th>Coefficient Reg</th>\n",
              "      <th>Coefficient Lasso</th>\n",
              "    </tr>\n",
              "  </thead>\n",
              "  <tbody>\n",
              "    <tr>\n",
              "      <th>0</th>\n",
              "      <td>intercept</td>\n",
              "      <td>231.265964</td>\n",
              "      <td>228.329922</td>\n",
              "    </tr>\n",
              "    <tr>\n",
              "      <th>1</th>\n",
              "      <td>medIncome</td>\n",
              "      <td>0.000263</td>\n",
              "      <td>0.000164</td>\n",
              "    </tr>\n",
              "    <tr>\n",
              "      <th>2</th>\n",
              "      <td>povertyPercent</td>\n",
              "      <td>0.105389</td>\n",
              "      <td>0.019635</td>\n",
              "    </tr>\n",
              "    <tr>\n",
              "      <th>3</th>\n",
              "      <td>studyPerCap</td>\n",
              "      <td>-0.000080</td>\n",
              "      <td>-0.000153</td>\n",
              "    </tr>\n",
              "    <tr>\n",
              "      <th>4</th>\n",
              "      <td>MedianAge</td>\n",
              "      <td>-0.014560</td>\n",
              "      <td>-0.014570</td>\n",
              "    </tr>\n",
              "    <tr>\n",
              "      <th>5</th>\n",
              "      <td>MedianAgeMale</td>\n",
              "      <td>-0.735631</td>\n",
              "      <td>-0.581641</td>\n",
              "    </tr>\n",
              "    <tr>\n",
              "      <th>6</th>\n",
              "      <td>MedianAgeFemale</td>\n",
              "      <td>-0.356199</td>\n",
              "      <td>-0.348585</td>\n",
              "    </tr>\n",
              "    <tr>\n",
              "      <th>7</th>\n",
              "      <td>AvgHouseholdSize</td>\n",
              "      <td>0.049216</td>\n",
              "      <td>-0.000000</td>\n",
              "    </tr>\n",
              "    <tr>\n",
              "      <th>8</th>\n",
              "      <td>PercentMarried</td>\n",
              "      <td>1.657311</td>\n",
              "      <td>1.189450</td>\n",
              "    </tr>\n",
              "    <tr>\n",
              "      <th>9</th>\n",
              "      <td>PctNoHS18_24</td>\n",
              "      <td>-0.215329</td>\n",
              "      <td>-0.216775</td>\n",
              "    </tr>\n",
              "    <tr>\n",
              "      <th>10</th>\n",
              "      <td>PctHS18_24</td>\n",
              "      <td>0.235353</td>\n",
              "      <td>0.223541</td>\n",
              "    </tr>\n",
              "    <tr>\n",
              "      <th>11</th>\n",
              "      <td>PctSomeCol18_24</td>\n",
              "      <td>0.079112</td>\n",
              "      <td>0.026015</td>\n",
              "    </tr>\n",
              "    <tr>\n",
              "      <th>12</th>\n",
              "      <td>PctBachDeg18_24</td>\n",
              "      <td>0.012596</td>\n",
              "      <td>0.000000</td>\n",
              "    </tr>\n",
              "    <tr>\n",
              "      <th>13</th>\n",
              "      <td>PctHS25_Over</td>\n",
              "      <td>0.644140</td>\n",
              "      <td>0.638801</td>\n",
              "    </tr>\n",
              "    <tr>\n",
              "      <th>14</th>\n",
              "      <td>PctBachDeg25_Over</td>\n",
              "      <td>-1.346840</td>\n",
              "      <td>-1.267657</td>\n",
              "    </tr>\n",
              "    <tr>\n",
              "      <th>15</th>\n",
              "      <td>PctEmployed16_Over</td>\n",
              "      <td>-0.664965</td>\n",
              "      <td>-0.528192</td>\n",
              "    </tr>\n",
              "    <tr>\n",
              "      <th>16</th>\n",
              "      <td>PctUnemployed16_Over</td>\n",
              "      <td>0.482541</td>\n",
              "      <td>0.421595</td>\n",
              "    </tr>\n",
              "    <tr>\n",
              "      <th>17</th>\n",
              "      <td>PctPrivateCoverage</td>\n",
              "      <td>-0.131882</td>\n",
              "      <td>-0.128632</td>\n",
              "    </tr>\n",
              "    <tr>\n",
              "      <th>18</th>\n",
              "      <td>PctPrivateCoverageAlone</td>\n",
              "      <td>0.007599</td>\n",
              "      <td>0.000000</td>\n",
              "    </tr>\n",
              "    <tr>\n",
              "      <th>19</th>\n",
              "      <td>PctEmpPrivCoverage</td>\n",
              "      <td>0.467245</td>\n",
              "      <td>0.434164</td>\n",
              "    </tr>\n",
              "    <tr>\n",
              "      <th>20</th>\n",
              "      <td>PctPublicCoverage</td>\n",
              "      <td>-0.098908</td>\n",
              "      <td>0.000000</td>\n",
              "    </tr>\n",
              "    <tr>\n",
              "      <th>21</th>\n",
              "      <td>PctPublicCoverageAlone</td>\n",
              "      <td>0.797618</td>\n",
              "      <td>0.699474</td>\n",
              "    </tr>\n",
              "    <tr>\n",
              "      <th>22</th>\n",
              "      <td>PctWhite</td>\n",
              "      <td>0.009301</td>\n",
              "      <td>0.001117</td>\n",
              "    </tr>\n",
              "    <tr>\n",
              "      <th>23</th>\n",
              "      <td>PctBlack</td>\n",
              "      <td>0.113257</td>\n",
              "      <td>0.114222</td>\n",
              "    </tr>\n",
              "    <tr>\n",
              "      <th>24</th>\n",
              "      <td>PctAsian</td>\n",
              "      <td>-0.092069</td>\n",
              "      <td>-0.000000</td>\n",
              "    </tr>\n",
              "    <tr>\n",
              "      <th>25</th>\n",
              "      <td>PctOtherRace</td>\n",
              "      <td>-1.318794</td>\n",
              "      <td>-1.260927</td>\n",
              "    </tr>\n",
              "    <tr>\n",
              "      <th>26</th>\n",
              "      <td>PctMarriedHouseholds</td>\n",
              "      <td>-2.003750</td>\n",
              "      <td>-1.603873</td>\n",
              "    </tr>\n",
              "    <tr>\n",
              "      <th>27</th>\n",
              "      <td>BirthRate</td>\n",
              "      <td>-1.251799</td>\n",
              "      <td>-0.960255</td>\n",
              "    </tr>\n",
              "  </tbody>\n",
              "</table>\n",
              "</div>\n",
              "      <button class=\"colab-df-convert\" onclick=\"convertToInteractive('df-652a2960-0663-4bd4-b7da-30df466545f4')\"\n",
              "              title=\"Convert this dataframe to an interactive table.\"\n",
              "              style=\"display:none;\">\n",
              "        \n",
              "  <svg xmlns=\"http://www.w3.org/2000/svg\" height=\"24px\"viewBox=\"0 0 24 24\"\n",
              "       width=\"24px\">\n",
              "    <path d=\"M0 0h24v24H0V0z\" fill=\"none\"/>\n",
              "    <path d=\"M18.56 5.44l.94 2.06.94-2.06 2.06-.94-2.06-.94-.94-2.06-.94 2.06-2.06.94zm-11 1L8.5 8.5l.94-2.06 2.06-.94-2.06-.94L8.5 2.5l-.94 2.06-2.06.94zm10 10l.94 2.06.94-2.06 2.06-.94-2.06-.94-.94-2.06-.94 2.06-2.06.94z\"/><path d=\"M17.41 7.96l-1.37-1.37c-.4-.4-.92-.59-1.43-.59-.52 0-1.04.2-1.43.59L10.3 9.45l-7.72 7.72c-.78.78-.78 2.05 0 2.83L4 21.41c.39.39.9.59 1.41.59.51 0 1.02-.2 1.41-.59l7.78-7.78 2.81-2.81c.8-.78.8-2.07 0-2.86zM5.41 20L4 18.59l7.72-7.72 1.47 1.35L5.41 20z\"/>\n",
              "  </svg>\n",
              "      </button>\n",
              "      \n",
              "  <style>\n",
              "    .colab-df-container {\n",
              "      display:flex;\n",
              "      flex-wrap:wrap;\n",
              "      gap: 12px;\n",
              "    }\n",
              "\n",
              "    .colab-df-convert {\n",
              "      background-color: #E8F0FE;\n",
              "      border: none;\n",
              "      border-radius: 50%;\n",
              "      cursor: pointer;\n",
              "      display: none;\n",
              "      fill: #1967D2;\n",
              "      height: 32px;\n",
              "      padding: 0 0 0 0;\n",
              "      width: 32px;\n",
              "    }\n",
              "\n",
              "    .colab-df-convert:hover {\n",
              "      background-color: #E2EBFA;\n",
              "      box-shadow: 0px 1px 2px rgba(60, 64, 67, 0.3), 0px 1px 3px 1px rgba(60, 64, 67, 0.15);\n",
              "      fill: #174EA6;\n",
              "    }\n",
              "\n",
              "    [theme=dark] .colab-df-convert {\n",
              "      background-color: #3B4455;\n",
              "      fill: #D2E3FC;\n",
              "    }\n",
              "\n",
              "    [theme=dark] .colab-df-convert:hover {\n",
              "      background-color: #434B5C;\n",
              "      box-shadow: 0px 1px 3px 1px rgba(0, 0, 0, 0.15);\n",
              "      filter: drop-shadow(0px 1px 2px rgba(0, 0, 0, 0.3));\n",
              "      fill: #FFFFFF;\n",
              "    }\n",
              "  </style>\n",
              "\n",
              "      <script>\n",
              "        const buttonEl =\n",
              "          document.querySelector('#df-652a2960-0663-4bd4-b7da-30df466545f4 button.colab-df-convert');\n",
              "        buttonEl.style.display =\n",
              "          google.colab.kernel.accessAllowed ? 'block' : 'none';\n",
              "\n",
              "        async function convertToInteractive(key) {\n",
              "          const element = document.querySelector('#df-652a2960-0663-4bd4-b7da-30df466545f4');\n",
              "          const dataTable =\n",
              "            await google.colab.kernel.invokeFunction('convertToInteractive',\n",
              "                                                     [key], {});\n",
              "          if (!dataTable) return;\n",
              "\n",
              "          const docLinkHtml = 'Like what you see? Visit the ' +\n",
              "            '<a target=\"_blank\" href=https://colab.research.google.com/notebooks/data_table.ipynb>data table notebook</a>'\n",
              "            + ' to learn more about interactive tables.';\n",
              "          element.innerHTML = '';\n",
              "          dataTable['output_type'] = 'display_data';\n",
              "          await google.colab.output.renderOutput(dataTable, element);\n",
              "          const docLink = document.createElement('div');\n",
              "          docLink.innerHTML = docLinkHtml;\n",
              "          element.appendChild(docLink);\n",
              "        }\n",
              "      </script>\n",
              "    </div>\n",
              "  </div>\n",
              "  "
            ]
          },
          "metadata": {},
          "execution_count": 23
        }
      ]
    },
    {
      "cell_type": "markdown",
      "source": [
        "On voit que certains ont été annulés, d'autres sont très faibles et la pluparts (mais pas forcement tous) ont été réduits. L'annulation de certains coefficients est typique de la régression Lasso.\n",
        "\n",
        "---"
      ],
      "metadata": {
        "id": "puVAqF42dUI5"
      }
    },
    {
      "cell_type": "markdown",
      "source": [
        "## La sélection des hyperparamètres avec `sklearn` \n",
        "\n",
        "La libraire `sklearn` offre une interface qui permet d'effectuer la recherche de paramètre optimaux via une cross-validation. Le code est beaucoup plus compact ainsi (pour plus de détails, voir https://scikit-learn.org/stable/modules/grid_search.html#grid-search)"
      ],
      "metadata": {
        "id": "rE-BQz8ipoDF"
      }
    },
    {
      "cell_type": "code",
      "source": [
        "# On doit entrer les différents hyperparamètres à tester dans un dictionnaire\n",
        "# Ici, il n'y a que \"alpha\"\n",
        "param_dict = {\"alpha\": hyp_lambdas}\n",
        "\n",
        "# On construit une fonction pour notre perte. Sinon, sklearn utilise la fonction\n",
        "# de \"score\" par défaut contenu dans la méthode utilisée \n",
        "def mse_loss(y_true, y_pred):\n",
        "  return np.mean((y_true - y_pred)**2)\n",
        "\n",
        "# On transforme cette fonction de perte (petit est meilleur) fonction de score\n",
        "# (grand est meilleur), ainsi que dans une fonction lisible par sklearn\n",
        "mse_score = make_scorer(mse_loss, greater_is_better=False)\n",
        "\n",
        "# La recherche des paramètres s'effectue ainsi\n",
        "lasso = Lasso()\n",
        "gride_search = GridSearchCV(lasso, \n",
        "                            param_dict, \n",
        "                            scoring=mse_score,\n",
        "                            cv=k, \n",
        "                            return_train_score=True)\n",
        "gride_search.fit(inputs_train_val, outputs_train_val)"
      ],
      "metadata": {
        "colab": {
          "base_uri": "https://localhost:8080/"
        },
        "id": "Z0obIW2ide-M",
        "outputId": "31501cc7-03c2-4780-e5c7-87ae3f6e10fc"
      },
      "execution_count": 24,
      "outputs": [
        {
          "output_type": "execute_result",
          "data": {
            "text/plain": [
              "GridSearchCV(cv=5, estimator=Lasso(),\n",
              "             param_grid={'alpha': array([0.001     , 0.02138776, 0.04177551, 0.06216327, 0.08255102,\n",
              "       0.10293878, 0.12332653, 0.14371429, 0.16410204, 0.1844898 ,\n",
              "       0.20487755, 0.22526531, 0.24565306, 0.26604082, 0.28642857,\n",
              "       0.30681633, 0.32720408, 0.34759184, 0.36797959, 0.38836735,\n",
              "       0.4087551 , 0.42914286, 0.44953061, 0.46991837, 0.49030612,\n",
              "       0.51069388, 0.53108163, 0.55146939, 0.57185714, 0.5922449 ,\n",
              "       0.61263265, 0.63302041, 0.65340816, 0.67379592, 0.69418367,\n",
              "       0.71457143, 0.73495918, 0.75534694, 0.77573469, 0.79612245,\n",
              "       0.8165102 , 0.83689796, 0.85728571, 0.87767347, 0.89806122,\n",
              "       0.91844898, 0.93883673, 0.95922449, 0.97961224, 1.        ])},\n",
              "             return_train_score=True,\n",
              "             scoring=make_scorer(mse_loss, greater_is_better=False))"
            ]
          },
          "metadata": {},
          "execution_count": 24
        }
      ]
    },
    {
      "cell_type": "code",
      "source": [
        "# Pour sortir le meilleur paramètre \n",
        "print(gride_search.best_params_)\n",
        "# Les différents scores sont là\n",
        "train_score = gride_search.cv_results_[\"mean_train_score\"]\n",
        "val_score = gride_search.cv_results_[\"mean_test_score\"]\n",
        "# Le graphique\n",
        "fig, ax = plt.subplots()\n",
        "ax.plot(hyp_lambdas, train_score, c=\"blue\", label=\"MSE score train\")\n",
        "ax.plot(hyp_lambdas, val_score, c=\"red\", label=\"MSE score valid\")\n",
        "ax.set_xlabel(\"$\\lambda$\")\n",
        "ax.set_ylabel(\"$MSE score$\")\n",
        "ax.legend()\n",
        "plt.plot()"
      ],
      "metadata": {
        "colab": {
          "base_uri": "https://localhost:8080/",
          "height": 317
        },
        "id": "MAxPXmeTrcMO",
        "outputId": "ac9cf994-918b-4125-f2a7-278c72f97f38"
      },
      "execution_count": 25,
      "outputs": [
        {
          "output_type": "stream",
          "name": "stdout",
          "text": [
            "{'alpha': 0.449530612244898}\n"
          ]
        },
        {
          "output_type": "execute_result",
          "data": {
            "text/plain": [
              "[]"
            ]
          },
          "metadata": {},
          "execution_count": 25
        },
        {
          "output_type": "display_data",
          "data": {
            "text/plain": [
              "<Figure size 432x288 with 1 Axes>"
            ],
            "image/png": "[encoded data removed]"
          },
          "metadata": {
            "needs_background": "light"
          }
        }
      ]
    },
    {
      "cell_type": "markdown",
      "source": [
        "---"
      ],
      "metadata": {
        "id": "70NTioUYw_wi"
      }
    },
    {
      "cell_type": "markdown",
      "source": [
        "## Exercice : recherche d'hyperparamètres avec une regression Ridge, sur le dataset *winequality*\n",
        "\n",
        "Vous avez à disposition deux jeux de données sur les vins : **winequality-red.csv** et **winequality-white.csv**. Ces deux jeux contiennent plusieurs variables concernant la composition des vins, et un score dénotant sa qualité"
      ],
      "metadata": {
        "id": "TfVMzWK2w9-d"
      }
    },
    {
      "cell_type": "code",
      "source": [
        "file_path = \"drive/MyDrive/Colab Notebooks/ml_data/TP2/winequality-red.csv\"\n",
        "# Pour les blancs\n",
        "#file_path = \"drive/MyDrive/Colab Notebooks/ml_data/TP2/winequality-white.csv\"\n",
        "wine_data = pd.read_csv(file_path, sep=\";\")\n",
        "wine_data"
      ],
      "metadata": {
        "colab": {
          "base_uri": "https://localhost:8080/",
          "height": 468
        },
        "id": "CM15YHeSv2Ad",
        "outputId": "c54796a8-1b50-43be-8559-650fc52720b1"
      },
      "execution_count": 26,
      "outputs": [
        {
          "output_type": "execute_result",
          "data": {
            "text/plain": [
              "      fixed acidity  volatile acidity  citric acid  residual sugar  chlorides  \\\n",
              "0               7.4             0.700         0.00             1.9      0.076   \n",
              "1               7.8             0.880         0.00             2.6      0.098   \n",
              "2               7.8             0.760         0.04             2.3      0.092   \n",
              "3              11.2             0.280         0.56             1.9      0.075   \n",
              "4               7.4             0.700         0.00             1.9      0.076   \n",
              "...             ...               ...          ...             ...        ...   \n",
              "1594            6.2             0.600         0.08             2.0      0.090   \n",
              "1595            5.9             0.550         0.10             2.2      0.062   \n",
              "1596            6.3             0.510         0.13             2.3      0.076   \n",
              "1597            5.9             0.645         0.12             2.0      0.075   \n",
              "1598            6.0             0.310         0.47             3.6      0.067   \n",
              "\n",
              "      free sulfur dioxide  total sulfur dioxide  density    pH  sulphates  \\\n",
              "0                    11.0                  34.0  0.99780  3.51       0.56   \n",
              "1                    25.0                  67.0  0.99680  3.20       0.68   \n",
              "2                    15.0                  54.0  0.99700  3.26       0.65   \n",
              "3                    17.0                  60.0  0.99800  3.16       0.58   \n",
              "4                    11.0                  34.0  0.99780  3.51       0.56   \n",
              "...                   ...                   ...      ...   ...        ...   \n",
              "1594                 32.0                  44.0  0.99490  3.45       0.58   \n",
              "1595                 39.0                  51.0  0.99512  3.52       0.76   \n",
              "1596                 29.0                  40.0  0.99574  3.42       0.75   \n",
              "1597                 32.0                  44.0  0.99547  3.57       0.71   \n",
              "1598                 18.0                  42.0  0.99549  3.39       0.66   \n",
              "\n",
              "      alcohol  quality  \n",
              "0         9.4        5  \n",
              "1         9.8        5  \n",
              "2         9.8        5  \n",
              "3         9.8        6  \n",
              "4         9.4        5  \n",
              "...       ...      ...  \n",
              "1594     10.5        5  \n",
              "1595     11.2        6  \n",
              "1596     11.0        6  \n",
              "1597     10.2        5  \n",
              "1598     11.0        6  \n",
              "\n",
              "[1599 rows x 12 columns]"
            ],
            "text/html": [
              "\n",
              "  <div id=\"df-ed111df4-10b5-46cc-8f8f-97e7b9f2f187\">\n",
              "    <div class=\"colab-df-container\">\n",
              "      <div>\n",
              "<style scoped>\n",
              "    .dataframe tbody tr th:only-of-type {\n",
              "        vertical-align: middle;\n",
              "    }\n",
              "\n",
              "    .dataframe tbody tr th {\n",
              "        vertical-align: top;\n",
              "    }\n",
              "\n",
              "    .dataframe thead th {\n",
              "        text-align: right;\n",
              "    }\n",
              "</style>\n",
              "<table border=\"1\" class=\"dataframe\">\n",
              "  <thead>\n",
              "    <tr style=\"text-align: right;\">\n",
              "      <th></th>\n",
              "      <th>fixed acidity</th>\n",
              "      <th>volatile acidity</th>\n",
              "      <th>citric acid</th>\n",
              "      <th>residual sugar</th>\n",
              "      <th>chlorides</th>\n",
              "      <th>free sulfur dioxide</th>\n",
              "      <th>total sulfur dioxide</th>\n",
              "      <th>density</th>\n",
              "      <th>pH</th>\n",
              "      <th>sulphates</th>\n",
              "      <th>alcohol</th>\n",
              "      <th>quality</th>\n",
              "    </tr>\n",
              "  </thead>\n",
              "  <tbody>\n",
              "    <tr>\n",
              "      <th>0</th>\n",
              "      <td>7.4</td>\n",
              "      <td>0.700</td>\n",
              "      <td>0.00</td>\n",
              "      <td>1.9</td>\n",
              "      <td>0.076</td>\n",
              "      <td>11.0</td>\n",
              "      <td>34.0</td>\n",
              "      <td>0.99780</td>\n",
              "      <td>3.51</td>\n",
              "      <td>0.56</td>\n",
              "      <td>9.4</td>\n",
              "      <td>5</td>\n",
              "    </tr>\n",
              "    <tr>\n",
              "      <th>1</th>\n",
              "      <td>7.8</td>\n",
              "      <td>0.880</td>\n",
              "      <td>0.00</td>\n",
              "      <td>2.6</td>\n",
              "      <td>0.098</td>\n",
              "      <td>25.0</td>\n",
              "      <td>67.0</td>\n",
              "      <td>0.99680</td>\n",
              "      <td>3.20</td>\n",
              "      <td>0.68</td>\n",
              "      <td>9.8</td>\n",
              "      <td>5</td>\n",
              "    </tr>\n",
              "    <tr>\n",
              "      <th>2</th>\n",
              "      <td>7.8</td>\n",
              "      <td>0.760</td>\n",
              "      <td>0.04</td>\n",
              "      <td>2.3</td>\n",
              "      <td>0.092</td>\n",
              "      <td>15.0</td>\n",
              "      <td>54.0</td>\n",
              "      <td>0.99700</td>\n",
              "      <td>3.26</td>\n",
              "      <td>0.65</td>\n",
              "      <td>9.8</td>\n",
              "      <td>5</td>\n",
              "    </tr>\n",
              "    <tr>\n",
              "      <th>3</th>\n",
              "      <td>11.2</td>\n",
              "      <td>0.280</td>\n",
              "      <td>0.56</td>\n",
              "      <td>1.9</td>\n",
              "      <td>0.075</td>\n",
              "      <td>17.0</td>\n",
              "      <td>60.0</td>\n",
              "      <td>0.99800</td>\n",
              "      <td>3.16</td>\n",
              "      <td>0.58</td>\n",
              "      <td>9.8</td>\n",
              "      <td>6</td>\n",
              "    </tr>\n",
              "    <tr>\n",
              "      <th>4</th>\n",
              "      <td>7.4</td>\n",
              "      <td>0.700</td>\n",
              "      <td>0.00</td>\n",
              "      <td>1.9</td>\n",
              "      <td>0.076</td>\n",
              "      <td>11.0</td>\n",
              "      <td>34.0</td>\n",
              "      <td>0.99780</td>\n",
              "      <td>3.51</td>\n",
              "      <td>0.56</td>\n",
              "      <td>9.4</td>\n",
              "      <td>5</td>\n",
              "    </tr>\n",
              "    <tr>\n",
              "      <th>...</th>\n",
              "      <td>...</td>\n",
              "      <td>...</td>\n",
              "      <td>...</td>\n",
              "      <td>...</td>\n",
              "      <td>...</td>\n",
              "      <td>...</td>\n",
              "      <td>...</td>\n",
              "      <td>...</td>\n",
              "      <td>...</td>\n",
              "      <td>...</td>\n",
              "      <td>...</td>\n",
              "      <td>...</td>\n",
              "    </tr>\n",
              "    <tr>\n",
              "      <th>1594</th>\n",
              "      <td>6.2</td>\n",
              "      <td>0.600</td>\n",
              "      <td>0.08</td>\n",
              "      <td>2.0</td>\n",
              "      <td>0.090</td>\n",
              "      <td>32.0</td>\n",
              "      <td>44.0</td>\n",
              "      <td>0.99490</td>\n",
              "      <td>3.45</td>\n",
              "      <td>0.58</td>\n",
              "      <td>10.5</td>\n",
              "      <td>5</td>\n",
              "    </tr>\n",
              "    <tr>\n",
              "      <th>1595</th>\n",
              "      <td>5.9</td>\n",
              "      <td>0.550</td>\n",
              "      <td>0.10</td>\n",
              "      <td>2.2</td>\n",
              "      <td>0.062</td>\n",
              "      <td>39.0</td>\n",
              "      <td>51.0</td>\n",
              "      <td>0.99512</td>\n",
              "      <td>3.52</td>\n",
              "      <td>0.76</td>\n",
              "      <td>11.2</td>\n",
              "      <td>6</td>\n",
              "    </tr>\n",
              "    <tr>\n",
              "      <th>1596</th>\n",
              "      <td>6.3</td>\n",
              "      <td>0.510</td>\n",
              "      <td>0.13</td>\n",
              "      <td>2.3</td>\n",
              "      <td>0.076</td>\n",
              "      <td>29.0</td>\n",
              "      <td>40.0</td>\n",
              "      <td>0.99574</td>\n",
              "      <td>3.42</td>\n",
              "      <td>0.75</td>\n",
              "      <td>11.0</td>\n",
              "      <td>6</td>\n",
              "    </tr>\n",
              "    <tr>\n",
              "      <th>1597</th>\n",
              "      <td>5.9</td>\n",
              "      <td>0.645</td>\n",
              "      <td>0.12</td>\n",
              "      <td>2.0</td>\n",
              "      <td>0.075</td>\n",
              "      <td>32.0</td>\n",
              "      <td>44.0</td>\n",
              "      <td>0.99547</td>\n",
              "      <td>3.57</td>\n",
              "      <td>0.71</td>\n",
              "      <td>10.2</td>\n",
              "      <td>5</td>\n",
              "    </tr>\n",
              "    <tr>\n",
              "      <th>1598</th>\n",
              "      <td>6.0</td>\n",
              "      <td>0.310</td>\n",
              "      <td>0.47</td>\n",
              "      <td>3.6</td>\n",
              "      <td>0.067</td>\n",
              "      <td>18.0</td>\n",
              "      <td>42.0</td>\n",
              "      <td>0.99549</td>\n",
              "      <td>3.39</td>\n",
              "      <td>0.66</td>\n",
              "      <td>11.0</td>\n",
              "      <td>6</td>\n",
              "    </tr>\n",
              "  </tbody>\n",
              "</table>\n",
              "<p>1599 rows × 12 columns</p>\n",
              "</div>\n",
              "      <button class=\"colab-df-convert\" onclick=\"convertToInteractive('df-ed111df4-10b5-46cc-8f8f-97e7b9f2f187')\"\n",
              "              title=\"Convert this dataframe to an interactive table.\"\n",
              "              style=\"display:none;\">\n",
              "        \n",
              "  <svg xmlns=\"http://www.w3.org/2000/svg\" height=\"24px\"viewBox=\"0 0 24 24\"\n",
              "       width=\"24px\">\n",
              "    <path d=\"M0 0h24v24H0V0z\" fill=\"none\"/>\n",
              "    <path d=\"M18.56 5.44l.94 2.06.94-2.06 2.06-.94-2.06-.94-.94-2.06-.94 2.06-2.06.94zm-11 1L8.5 8.5l.94-2.06 2.06-.94-2.06-.94L8.5 2.5l-.94 2.06-2.06.94zm10 10l.94 2.06.94-2.06 2.06-.94-2.06-.94-.94-2.06-.94 2.06-2.06.94z\"/><path d=\"M17.41 7.96l-1.37-1.37c-.4-.4-.92-.59-1.43-.59-.52 0-1.04.2-1.43.59L10.3 9.45l-7.72 7.72c-.78.78-.78 2.05 0 2.83L4 21.41c.39.39.9.59 1.41.59.51 0 1.02-.2 1.41-.59l7.78-7.78 2.81-2.81c.8-.78.8-2.07 0-2.86zM5.41 20L4 18.59l7.72-7.72 1.47 1.35L5.41 20z\"/>\n",
              "  </svg>\n",
              "      </button>\n",
              "      \n",
              "  <style>\n",
              "    .colab-df-container {\n",
              "      display:flex;\n",
              "      flex-wrap:wrap;\n",
              "      gap: 12px;\n",
              "    }\n",
              "\n",
              "    .colab-df-convert {\n",
              "      background-color: #E8F0FE;\n",
              "      border: none;\n",
              "      border-radius: 50%;\n",
              "      cursor: pointer;\n",
              "      display: none;\n",
              "      fill: #1967D2;\n",
              "      height: 32px;\n",
              "      padding: 0 0 0 0;\n",
              "      width: 32px;\n",
              "    }\n",
              "\n",
              "    .colab-df-convert:hover {\n",
              "      background-color: #E2EBFA;\n",
              "      box-shadow: 0px 1px 2px rgba(60, 64, 67, 0.3), 0px 1px 3px 1px rgba(60, 64, 67, 0.15);\n",
              "      fill: #174EA6;\n",
              "    }\n",
              "\n",
              "    [theme=dark] .colab-df-convert {\n",
              "      background-color: #3B4455;\n",
              "      fill: #D2E3FC;\n",
              "    }\n",
              "\n",
              "    [theme=dark] .colab-df-convert:hover {\n",
              "      background-color: #434B5C;\n",
              "      box-shadow: 0px 1px 3px 1px rgba(0, 0, 0, 0.15);\n",
              "      filter: drop-shadow(0px 1px 2px rgba(0, 0, 0, 0.3));\n",
              "      fill: #FFFFFF;\n",
              "    }\n",
              "  </style>\n",
              "\n",
              "      <script>\n",
              "        const buttonEl =\n",
              "          document.querySelector('#df-ed111df4-10b5-46cc-8f8f-97e7b9f2f187 button.colab-df-convert');\n",
              "        buttonEl.style.display =\n",
              "          google.colab.kernel.accessAllowed ? 'block' : 'none';\n",
              "\n",
              "        async function convertToInteractive(key) {\n",
              "          const element = document.querySelector('#df-ed111df4-10b5-46cc-8f8f-97e7b9f2f187');\n",
              "          const dataTable =\n",
              "            await google.colab.kernel.invokeFunction('convertToInteractive',\n",
              "                                                     [key], {});\n",
              "          if (!dataTable) return;\n",
              "\n",
              "          const docLinkHtml = 'Like what you see? Visit the ' +\n",
              "            '<a target=\"_blank\" href=https://colab.research.google.com/notebooks/data_table.ipynb>data table notebook</a>'\n",
              "            + ' to learn more about interactive tables.';\n",
              "          element.innerHTML = '';\n",
              "          dataTable['output_type'] = 'display_data';\n",
              "          await google.colab.output.renderOutput(dataTable, element);\n",
              "          const docLink = document.createElement('div');\n",
              "          docLink.innerHTML = docLinkHtml;\n",
              "          element.appendChild(docLink);\n",
              "        }\n",
              "      </script>\n",
              "    </div>\n",
              "  </div>\n",
              "  "
            ]
          },
          "metadata": {},
          "execution_count": 26
        }
      ]
    },
    {
      "cell_type": "markdown",
      "source": [
        "Votre but sera de trouver un \"bon\" modèle pour prédire la variable **quality** en fonction des autres. Nous allons considérer les modèles de la famille **régression Ridge**. Il vous faudra :\n",
        "\n",
        "1. Séparer le jeu de données en train/validation et test (20% pour test).\n",
        "2. Faire une cross-validation (5-folds) sur train/validation à la recherche de l'hyperparamètre $\\lambda$ minimisant la $MSE$ (parmi les valeurs allant de 0 à 0.3, à vous de voir le nombre d'étapes).\n",
        "3. Tracer le graphique des $MSE_\\text{train}$ et $MSE_\\text{valid}$.\n",
        "4. Trouver l'hyperparamètre optimal et estimer la perte de généralisation.\n",
        "\n",
        "A vous de jouer ! "
      ],
      "metadata": {
        "id": "FLHYa2y5zXmd"
      }
    }
  ]
}
