{
  "nbformat": 4,
  "nbformat_minor": 0,
  "metadata": {
    "colab": {
      "provenance": [],
      "collapsed_sections": [],
      "mount_file_id": "1I4TyKGweRXI7z3S79r57QoWFBA45t0Qs",
      "authorship_tag": "ABX9TyNqdciVgLFZ1NmU4oEhYKVT",
      "include_colab_link": true
    },
    "kernelspec": {
      "name": "python3",
      "display_name": "Python 3"
    },
    "language_info": {
      "name": "python"
    }
  },
  "cells": [
    {
      "cell_type": "markdown",
      "metadata": {
        "id": "view-in-github",
        "colab_type": "text"
      },
      "source": [
        "<a href=\"https://colab.research.google.com/github/gguex/ISH_ressources_cours_ML/blob/main/TP1_prise_en_main.ipynb\" target=\"_parent\"><img src=\"https://colab.research.google.com/assets/colab-badge.svg\" alt=\"Open In Colab\"/></a>"
      ]
    },
    {
      "cell_type": "markdown",
      "source": [
        "# Machine Learning (Lettres) TP 1 : Prise en main\n",
        "\n",
        "## Les notebooks\n",
        "\n",
        "Ce que vous avez devant les yeux est un **Jupyter Notebook**. C'est un rapport interactif, qui permet d'écrire du texte formaté (dans un langage de balises appelé *Markdown*, voir p.ex. https://www.markdowntutorial.com/) ainsi que du code, comme ci-dessous :"
      ],
      "metadata": {
        "id": "xfrr65zbp4AB"
      }
    },
    {
      "cell_type": "code",
      "execution_count": 3,
      "metadata": {
        "colab": {
          "base_uri": "https://localhost:8080/"
        },
        "id": "N_jdNBJGpgAb",
        "outputId": "fbc33cb7-dd7e-47b9-bece-0501807ef02d"
      },
      "outputs": [
        {
          "output_type": "stream",
          "name": "stdout",
          "text": [
            "Le résultat de a + b est égal à 17\n"
          ]
        }
      ],
      "source": [
        "# Un exemple de code en Python\n",
        "a = 5\n",
        "b = 12\n",
        "print(f\"Le résultat de a + b est égal à {a + b}\")"
      ]
    },
    {
      "cell_type": "markdown",
      "source": [
        "Vous devez normalement voir le résultat de votre sortie juste après le bloc de code. Remarquez que vous pouvez à tout moment modifier une partie du code, pour modifier son execution (et faites le ! C'est comme cela qu'on apprend). Pour plus de détails à propros des notebooks https://docs.jupyter.org/en/latest/."
      ],
      "metadata": {
        "id": "YfkrhyvZrL7l"
      }
    },
    {
      "cell_type": "markdown",
      "source": [
        "L'avantage des notebooks, c'est qu'ils peuvent s'executer en local (sur votre machine) si vous le voulez, mais peuvent également être lancés sur un environnement d'execution distant (un serveur). Il existe plusieurs services proposant d'exectuer des notebooks, p.ex. :\n",
        "\n",
        "* Google Colab: https://colab.research.google.com/\n",
        "* Paperspace Gradient : https://www.paperspace.com/gradient\n",
        "* Kaggle : https://www.kaggle.com/\n",
        "* Amazon SageMaker : https://aws.amazon.com/fr/sagemaker/\n",
        "\n",
        "L'avantage des serveurs, c'est que l'installation (parfois fastidieuse) des différentes librairies Python est déjà faite, et qu'ils disposent de GPU, utilent pour l'entraînement de nombreux modèles de ML."
      ],
      "metadata": {
        "id": "sw162GDtsP-l"
      }
    }
  ]
}