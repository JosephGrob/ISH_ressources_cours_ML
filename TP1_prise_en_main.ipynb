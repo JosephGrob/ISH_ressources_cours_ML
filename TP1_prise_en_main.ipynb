{
  "nbformat": 4,
  "nbformat_minor": 0,
  "metadata": {
    "colab": {
      "provenance": [],
      "collapsed_sections": [],
      "mount_file_id": "1I4TyKGweRXI7z3S79r57QoWFBA45t0Qs",
      "authorship_tag": "ABX9TyOQGVYWs2KI65Eobo0Sk2ZL",
      "include_colab_link": true
    },
    "kernelspec": {
      "name": "python3",
      "display_name": "Python 3"
    },
    "language_info": {
      "name": "python"
    }
  },
  "cells": [
    {
      "cell_type": "markdown",
      "metadata": {
        "id": "view-in-github",
        "colab_type": "text"
      },
      "source": [
        "<a href=\"https://colab.research.google.com/github/gguex/ISH_ressources_cours_ML/blob/main/TP1_prise_en_main.ipynb\" target=\"_parent\"><img src=\"https://colab.research.google.com/assets/colab-badge.svg\" alt=\"Open In Colab\"/></a>"
      ]
    },
    {
      "cell_type": "markdown",
      "source": [
        "# Machine Learning (Lettres) TP 1 : Prise en main\n",
        "\n",
        "## Les notebooks\n",
        "\n",
        "Ce que vous avez devant les yeux est un **Jupyter Notebook**. C'est un rapport interactif, qui permet d'écrire du texte formaté (dans un langage de balises appelé *Markdown*, voir p.ex. https://www.markdowntutorial.com/) ainsi que du code, comme ci-dessous :"
      ],
      "metadata": {
        "id": "xfrr65zbp4AB"
      }
    },
    {
      "cell_type": "code",
      "execution_count": 3,
      "metadata": {
        "colab": {
          "base_uri": "https://localhost:8080/"
        },
        "id": "N_jdNBJGpgAb",
        "outputId": "fbc33cb7-dd7e-47b9-bece-0501807ef02d"
      },
      "outputs": [
        {
          "output_type": "stream",
          "name": "stdout",
          "text": [
            "Le résultat de a + b est égal à 17\n"
          ]
        }
      ],
      "source": [
        "# Un exemple de code en Python\n",
        "a = 5\n",
        "b = 12\n",
        "print(f\"Le résultat de a + b est égal à {a + b}\")"
      ]
    },
    {
      "cell_type": "markdown",
      "source": [
        "Vous devez normalement voir le résultat de votre sortie juste après le bloc de code. Remarquez que vous pouvez à tout moment modifier une partie du code pour changer son execution. (Faites le ! C'est en testant des choses que l'on apprend le mieux) Pour plus de détails à propros des Jupyter Notebooks https://docs.jupyter.org/en/latest/."
      ],
      "metadata": {
        "id": "YfkrhyvZrL7l"
      }
    },
    {
      "cell_type": "markdown",
      "source": [
        "L'avantage des notebooks, c'est qu'ils peuvent s'executer en local (sur votre machine), mais également sur un environnement d'execution distant (un serveur). Il existe plusieurs services proposant des serveurs pour des Jupyter Notebooks, p.ex. :\n",
        "\n",
        "* Google Colab: https://colab.research.google.com/\n",
        "* Paperspace Gradient : https://www.paperspace.com/gradient\n",
        "* Kaggle : https://www.kaggle.com/\n",
        "* Amazon SageMaker : https://aws.amazon.com/fr/sagemaker/\n",
        "\n",
        "L'avantage des serveurs, c'est que l'installation (parfois fastidieuse) des différentes librairies Python est déjà faite, et qu'ils disposent de GPU (Graphical Processing Units), utiles pour l'entraînement de nombreux modèles de Machine Learning."
      ],
      "metadata": {
        "id": "sw162GDtsP-l"
      }
    },
    {
      "cell_type": "markdown",
      "source": [
        "## Chargement et manipulation des données avec pandas\n",
        "\n",
        "La première librairie python dont nous allons (re)voir l'utilisation est `pandas` (https://pandas.pydata.org/), qui permet le chargement des fichiers de données ainsi que leur manipulation. On commence par la charger (on utilise fréquemment l'alias `pd` pour cette dernière) : "
      ],
      "metadata": {
        "id": "AUfWr214x_vr"
      }
    },
    {
      "cell_type": "code",
      "source": [
        "import pandas as pd"
      ],
      "metadata": {
        "id": "2GknYnN9yqXM"
      },
      "execution_count": 6,
      "outputs": []
    },
    {
      "cell_type": "markdown",
      "source": [
        "Vérifier que le chemin d'accès pour le fichier \"iris.csv\" pointe au bon endroit dans la première ligne de code de ce qu'il suit. Le chargement s'effectue ensuite facilement avec la fonction `pd.read_csv(<file_path>)` (il existe plusieurs options dans cette fonction pour, p.ex., changer le séparateur ou formater les variables) :"
      ],
      "metadata": {
        "id": "TiygbGqdzRjk"
      }
    },
    {
      "cell_type": "code",
      "source": [
        "file_path = \"drive/MyDrive/Colab Notebooks/ml_data/TP1/iris.csv\"\n",
        "my_df = pd.read_csv(file_path)\n",
        "print(my_df)"
      ],
      "metadata": {
        "colab": {
          "base_uri": "https://localhost:8080/"
        },
        "id": "egOvoMF90_8R",
        "outputId": "a44add2d-6e1d-4ef5-fafd-0287afc130c6"
      },
      "execution_count": 7,
      "outputs": [
        {
          "output_type": "stream",
          "name": "stdout",
          "text": [
            "     sepal.length  sepal.width  petal.length  petal.width    variety\n",
            "0             5.1          3.5           1.4          0.2     Setosa\n",
            "1             4.9          3.0           1.4          0.2     Setosa\n",
            "2             4.7          3.2           1.3          0.2     Setosa\n",
            "3             4.6          3.1           1.5          0.2     Setosa\n",
            "4             5.0          3.6           1.4          0.2     Setosa\n",
            "..            ...          ...           ...          ...        ...\n",
            "145           6.7          3.0           5.2          2.3  Virginica\n",
            "146           6.3          2.5           5.0          1.9  Virginica\n",
            "147           6.5          3.0           5.2          2.0  Virginica\n",
            "148           6.2          3.4           5.4          2.3  Virginica\n",
            "149           5.9          3.0           5.1          1.8  Virginica\n",
            "\n",
            "[150 rows x 5 columns]\n"
          ]
        }
      ]
    },
    {
      "cell_type": "code",
      "source": [],
      "metadata": {
        "id": "VTKN_9iI1WCI"
      },
      "execution_count": null,
      "outputs": []
    }
  ]
}