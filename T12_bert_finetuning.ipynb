{
  "nbformat": 4,
  "nbformat_minor": 0,
  "metadata": {
    "colab": {
      "provenance": [],
      "mount_file_id": "1XMjTFnCkZ6koPApkhMmFF958p2Ug6cY-",
      "authorship_tag": "ABX9TyO/GQIFKr/GR3aZL6xd4VYk",
      "include_colab_link": true
    },
    "kernelspec": {
      "name": "python3",
      "display_name": "Python 3"
    },
    "language_info": {
      "name": "python"
    },
    "accelerator": "GPU",
    "gpuClass": "premium",
    "widgets": {
      "application/vnd.jupyter.widget-state+json": {
        "b46e8479e2ab41abb6827dc9986f6cc9": {
          "model_module": "@jupyter-widgets/controls",
          "model_name": "HBoxModel",
          "model_module_version": "1.5.0",
          "state": {
            "_dom_classes": [],
            "_model_module": "@jupyter-widgets/controls",
            "_model_module_version": "1.5.0",
            "_model_name": "HBoxModel",
            "_view_count": null,
            "_view_module": "@jupyter-widgets/controls",
            "_view_module_version": "1.5.0",
            "_view_name": "HBoxView",
            "box_style": "",
            "children": [
              "IPY_MODEL_21b8a9a0b0314987853682f1f7c5bb42",
              "IPY_MODEL_3b1ec056016944af8a13f2e06e4fc873",
              "IPY_MODEL_e2fbc65d36db4316ad19c9125d28a7b3"
            ],
            "layout": "IPY_MODEL_b348e1b91fc042d38063afb8490f2291"
          }
        },
        "21b8a9a0b0314987853682f1f7c5bb42": {
          "model_module": "@jupyter-widgets/controls",
          "model_name": "HTMLModel",
          "model_module_version": "1.5.0",
          "state": {
            "_dom_classes": [],
            "_model_module": "@jupyter-widgets/controls",
            "_model_module_version": "1.5.0",
            "_model_name": "HTMLModel",
            "_view_count": null,
            "_view_module": "@jupyter-widgets/controls",
            "_view_module_version": "1.5.0",
            "_view_name": "HTMLView",
            "description": "",
            "description_tooltip": null,
            "layout": "IPY_MODEL_4004fae03fe346789541bd5f2b916083",
            "placeholder": "​",
            "style": "IPY_MODEL_e08068998e214832bd5757cb2490e538",
            "value": "Downloading: 100%"
          }
        },
        "3b1ec056016944af8a13f2e06e4fc873": {
          "model_module": "@jupyter-widgets/controls",
          "model_name": "FloatProgressModel",
          "model_module_version": "1.5.0",
          "state": {
            "_dom_classes": [],
            "_model_module": "@jupyter-widgets/controls",
            "_model_module_version": "1.5.0",
            "_model_name": "FloatProgressModel",
            "_view_count": null,
            "_view_module": "@jupyter-widgets/controls",
            "_view_module_version": "1.5.0",
            "_view_name": "ProgressView",
            "bar_style": "success",
            "description": "",
            "description_tooltip": null,
            "layout": "IPY_MODEL_74407eb2fc6e48bebcb9f0b3b875c251",
            "max": 231508,
            "min": 0,
            "orientation": "horizontal",
            "style": "IPY_MODEL_39d947b5635045c6a4e797497a357c0b",
            "value": 231508
          }
        },
        "e2fbc65d36db4316ad19c9125d28a7b3": {
          "model_module": "@jupyter-widgets/controls",
          "model_name": "HTMLModel",
          "model_module_version": "1.5.0",
          "state": {
            "_dom_classes": [],
            "_model_module": "@jupyter-widgets/controls",
            "_model_module_version": "1.5.0",
            "_model_name": "HTMLModel",
            "_view_count": null,
            "_view_module": "@jupyter-widgets/controls",
            "_view_module_version": "1.5.0",
            "_view_name": "HTMLView",
            "description": "",
            "description_tooltip": null,
            "layout": "IPY_MODEL_4f7fbaf2abfd44c38effddf747999880",
            "placeholder": "​",
            "style": "IPY_MODEL_001e99c4affb4423baae176985f5b1b1",
            "value": " 232k/232k [00:00&lt;00:00, 189kB/s]"
          }
        },
        "b348e1b91fc042d38063afb8490f2291": {
          "model_module": "@jupyter-widgets/base",
          "model_name": "LayoutModel",
          "model_module_version": "1.2.0",
          "state": {
            "_model_module": "@jupyter-widgets/base",
            "_model_module_version": "1.2.0",
            "_model_name": "LayoutModel",
            "_view_count": null,
            "_view_module": "@jupyter-widgets/base",
            "_view_module_version": "1.2.0",
            "_view_name": "LayoutView",
            "align_content": null,
            "align_items": null,
            "align_self": null,
            "border": null,
            "bottom": null,
            "display": null,
            "flex": null,
            "flex_flow": null,
            "grid_area": null,
            "grid_auto_columns": null,
            "grid_auto_flow": null,
            "grid_auto_rows": null,
            "grid_column": null,
            "grid_gap": null,
            "grid_row": null,
            "grid_template_areas": null,
            "grid_template_columns": null,
            "grid_template_rows": null,
            "height": null,
            "justify_content": null,
            "justify_items": null,
            "left": null,
            "margin": null,
            "max_height": null,
            "max_width": null,
            "min_height": null,
            "min_width": null,
            "object_fit": null,
            "object_position": null,
            "order": null,
            "overflow": null,
            "overflow_x": null,
            "overflow_y": null,
            "padding": null,
            "right": null,
            "top": null,
            "visibility": null,
            "width": null
          }
        },
        "4004fae03fe346789541bd5f2b916083": {
          "model_module": "@jupyter-widgets/base",
          "model_name": "LayoutModel",
          "model_module_version": "1.2.0",
          "state": {
            "_model_module": "@jupyter-widgets/base",
            "_model_module_version": "1.2.0",
            "_model_name": "LayoutModel",
            "_view_count": null,
            "_view_module": "@jupyter-widgets/base",
            "_view_module_version": "1.2.0",
            "_view_name": "LayoutView",
            "align_content": null,
            "align_items": null,
            "align_self": null,
            "border": null,
            "bottom": null,
            "display": null,
            "flex": null,
            "flex_flow": null,
            "grid_area": null,
            "grid_auto_columns": null,
            "grid_auto_flow": null,
            "grid_auto_rows": null,
            "grid_column": null,
            "grid_gap": null,
            "grid_row": null,
            "grid_template_areas": null,
            "grid_template_columns": null,
            "grid_template_rows": null,
            "height": null,
            "justify_content": null,
            "justify_items": null,
            "left": null,
            "margin": null,
            "max_height": null,
            "max_width": null,
            "min_height": null,
            "min_width": null,
            "object_fit": null,
            "object_position": null,
            "order": null,
            "overflow": null,
            "overflow_x": null,
            "overflow_y": null,
            "padding": null,
            "right": null,
            "top": null,
            "visibility": null,
            "width": null
          }
        },
        "e08068998e214832bd5757cb2490e538": {
          "model_module": "@jupyter-widgets/controls",
          "model_name": "DescriptionStyleModel",
          "model_module_version": "1.5.0",
          "state": {
            "_model_module": "@jupyter-widgets/controls",
            "_model_module_version": "1.5.0",
            "_model_name": "DescriptionStyleModel",
            "_view_count": null,
            "_view_module": "@jupyter-widgets/base",
            "_view_module_version": "1.2.0",
            "_view_name": "StyleView",
            "description_width": ""
          }
        },
        "74407eb2fc6e48bebcb9f0b3b875c251": {
          "model_module": "@jupyter-widgets/base",
          "model_name": "LayoutModel",
          "model_module_version": "1.2.0",
          "state": {
            "_model_module": "@jupyter-widgets/base",
            "_model_module_version": "1.2.0",
            "_model_name": "LayoutModel",
            "_view_count": null,
            "_view_module": "@jupyter-widgets/base",
            "_view_module_version": "1.2.0",
            "_view_name": "LayoutView",
            "align_content": null,
            "align_items": null,
            "align_self": null,
            "border": null,
            "bottom": null,
            "display": null,
            "flex": null,
            "flex_flow": null,
            "grid_area": null,
            "grid_auto_columns": null,
            "grid_auto_flow": null,
            "grid_auto_rows": null,
            "grid_column": null,
            "grid_gap": null,
            "grid_row": null,
            "grid_template_areas": null,
            "grid_template_columns": null,
            "grid_template_rows": null,
            "height": null,
            "justify_content": null,
            "justify_items": null,
            "left": null,
            "margin": null,
            "max_height": null,
            "max_width": null,
            "min_height": null,
            "min_width": null,
            "object_fit": null,
            "object_position": null,
            "order": null,
            "overflow": null,
            "overflow_x": null,
            "overflow_y": null,
            "padding": null,
            "right": null,
            "top": null,
            "visibility": null,
            "width": null
          }
        },
        "39d947b5635045c6a4e797497a357c0b": {
          "model_module": "@jupyter-widgets/controls",
          "model_name": "ProgressStyleModel",
          "model_module_version": "1.5.0",
          "state": {
            "_model_module": "@jupyter-widgets/controls",
            "_model_module_version": "1.5.0",
            "_model_name": "ProgressStyleModel",
            "_view_count": null,
            "_view_module": "@jupyter-widgets/base",
            "_view_module_version": "1.2.0",
            "_view_name": "StyleView",
            "bar_color": null,
            "description_width": ""
          }
        },
        "4f7fbaf2abfd44c38effddf747999880": {
          "model_module": "@jupyter-widgets/base",
          "model_name": "LayoutModel",
          "model_module_version": "1.2.0",
          "state": {
            "_model_module": "@jupyter-widgets/base",
            "_model_module_version": "1.2.0",
            "_model_name": "LayoutModel",
            "_view_count": null,
            "_view_module": "@jupyter-widgets/base",
            "_view_module_version": "1.2.0",
            "_view_name": "LayoutView",
            "align_content": null,
            "align_items": null,
            "align_self": null,
            "border": null,
            "bottom": null,
            "display": null,
            "flex": null,
            "flex_flow": null,
            "grid_area": null,
            "grid_auto_columns": null,
            "grid_auto_flow": null,
            "grid_auto_rows": null,
            "grid_column": null,
            "grid_gap": null,
            "grid_row": null,
            "grid_template_areas": null,
            "grid_template_columns": null,
            "grid_template_rows": null,
            "height": null,
            "justify_content": null,
            "justify_items": null,
            "left": null,
            "margin": null,
            "max_height": null,
            "max_width": null,
            "min_height": null,
            "min_width": null,
            "object_fit": null,
            "object_position": null,
            "order": null,
            "overflow": null,
            "overflow_x": null,
            "overflow_y": null,
            "padding": null,
            "right": null,
            "top": null,
            "visibility": null,
            "width": null
          }
        },
        "001e99c4affb4423baae176985f5b1b1": {
          "model_module": "@jupyter-widgets/controls",
          "model_name": "DescriptionStyleModel",
          "model_module_version": "1.5.0",
          "state": {
            "_model_module": "@jupyter-widgets/controls",
            "_model_module_version": "1.5.0",
            "_model_name": "DescriptionStyleModel",
            "_view_count": null,
            "_view_module": "@jupyter-widgets/base",
            "_view_module_version": "1.2.0",
            "_view_name": "StyleView",
            "description_width": ""
          }
        },
        "2bdc74fd29ee4ea485b858ea2d33fccd": {
          "model_module": "@jupyter-widgets/controls",
          "model_name": "HBoxModel",
          "model_module_version": "1.5.0",
          "state": {
            "_dom_classes": [],
            "_model_module": "@jupyter-widgets/controls",
            "_model_module_version": "1.5.0",
            "_model_name": "HBoxModel",
            "_view_count": null,
            "_view_module": "@jupyter-widgets/controls",
            "_view_module_version": "1.5.0",
            "_view_name": "HBoxView",
            "box_style": "",
            "children": [
              "IPY_MODEL_790d15f726ed4ce4ac4068d5c1305e72",
              "IPY_MODEL_5d1f9ca6dd3c4acaa2594edae88b937d",
              "IPY_MODEL_e0181af8bb5e4cf6a4f30d1e3750848f"
            ],
            "layout": "IPY_MODEL_51743ae9e4af4a4986b5cdbb90bb00a1"
          }
        },
        "790d15f726ed4ce4ac4068d5c1305e72": {
          "model_module": "@jupyter-widgets/controls",
          "model_name": "HTMLModel",
          "model_module_version": "1.5.0",
          "state": {
            "_dom_classes": [],
            "_model_module": "@jupyter-widgets/controls",
            "_model_module_version": "1.5.0",
            "_model_name": "HTMLModel",
            "_view_count": null,
            "_view_module": "@jupyter-widgets/controls",
            "_view_module_version": "1.5.0",
            "_view_name": "HTMLView",
            "description": "",
            "description_tooltip": null,
            "layout": "IPY_MODEL_95f240ab626545d2a24f8c3076c25929",
            "placeholder": "​",
            "style": "IPY_MODEL_34dc339e5fe84b959f5f3da09dbf604a",
            "value": "Downloading: 100%"
          }
        },
        "5d1f9ca6dd3c4acaa2594edae88b937d": {
          "model_module": "@jupyter-widgets/controls",
          "model_name": "FloatProgressModel",
          "model_module_version": "1.5.0",
          "state": {
            "_dom_classes": [],
            "_model_module": "@jupyter-widgets/controls",
            "_model_module_version": "1.5.0",
            "_model_name": "FloatProgressModel",
            "_view_count": null,
            "_view_module": "@jupyter-widgets/controls",
            "_view_module_version": "1.5.0",
            "_view_name": "ProgressView",
            "bar_style": "success",
            "description": "",
            "description_tooltip": null,
            "layout": "IPY_MODEL_173e63573f3b4fb986da945de8eb70f8",
            "max": 28,
            "min": 0,
            "orientation": "horizontal",
            "style": "IPY_MODEL_7e63ca80eb5c4c119a9c35756462dd0e",
            "value": 28
          }
        },
        "e0181af8bb5e4cf6a4f30d1e3750848f": {
          "model_module": "@jupyter-widgets/controls",
          "model_name": "HTMLModel",
          "model_module_version": "1.5.0",
          "state": {
            "_dom_classes": [],
            "_model_module": "@jupyter-widgets/controls",
            "_model_module_version": "1.5.0",
            "_model_name": "HTMLModel",
            "_view_count": null,
            "_view_module": "@jupyter-widgets/controls",
            "_view_module_version": "1.5.0",
            "_view_name": "HTMLView",
            "description": "",
            "description_tooltip": null,
            "layout": "IPY_MODEL_5441a619aff04cda86c4e445a4bacc0e",
            "placeholder": "​",
            "style": "IPY_MODEL_2c995c38fc034bce954391cc462e0edd",
            "value": " 28.0/28.0 [00:00&lt;00:00, 1.20kB/s]"
          }
        },
        "51743ae9e4af4a4986b5cdbb90bb00a1": {
          "model_module": "@jupyter-widgets/base",
          "model_name": "LayoutModel",
          "model_module_version": "1.2.0",
          "state": {
            "_model_module": "@jupyter-widgets/base",
            "_model_module_version": "1.2.0",
            "_model_name": "LayoutModel",
            "_view_count": null,
            "_view_module": "@jupyter-widgets/base",
            "_view_module_version": "1.2.0",
            "_view_name": "LayoutView",
            "align_content": null,
            "align_items": null,
            "align_self": null,
            "border": null,
            "bottom": null,
            "display": null,
            "flex": null,
            "flex_flow": null,
            "grid_area": null,
            "grid_auto_columns": null,
            "grid_auto_flow": null,
            "grid_auto_rows": null,
            "grid_column": null,
            "grid_gap": null,
            "grid_row": null,
            "grid_template_areas": null,
            "grid_template_columns": null,
            "grid_template_rows": null,
            "height": null,
            "justify_content": null,
            "justify_items": null,
            "left": null,
            "margin": null,
            "max_height": null,
            "max_width": null,
            "min_height": null,
            "min_width": null,
            "object_fit": null,
            "object_position": null,
            "order": null,
            "overflow": null,
            "overflow_x": null,
            "overflow_y": null,
            "padding": null,
            "right": null,
            "top": null,
            "visibility": null,
            "width": null
          }
        },
        "95f240ab626545d2a24f8c3076c25929": {
          "model_module": "@jupyter-widgets/base",
          "model_name": "LayoutModel",
          "model_module_version": "1.2.0",
          "state": {
            "_model_module": "@jupyter-widgets/base",
            "_model_module_version": "1.2.0",
            "_model_name": "LayoutModel",
            "_view_count": null,
            "_view_module": "@jupyter-widgets/base",
            "_view_module_version": "1.2.0",
            "_view_name": "LayoutView",
            "align_content": null,
            "align_items": null,
            "align_self": null,
            "border": null,
            "bottom": null,
            "display": null,
            "flex": null,
            "flex_flow": null,
            "grid_area": null,
            "grid_auto_columns": null,
            "grid_auto_flow": null,
            "grid_auto_rows": null,
            "grid_column": null,
            "grid_gap": null,
            "grid_row": null,
            "grid_template_areas": null,
            "grid_template_columns": null,
            "grid_template_rows": null,
            "height": null,
            "justify_content": null,
            "justify_items": null,
            "left": null,
            "margin": null,
            "max_height": null,
            "max_width": null,
            "min_height": null,
            "min_width": null,
            "object_fit": null,
            "object_position": null,
            "order": null,
            "overflow": null,
            "overflow_x": null,
            "overflow_y": null,
            "padding": null,
            "right": null,
            "top": null,
            "visibility": null,
            "width": null
          }
        },
        "34dc339e5fe84b959f5f3da09dbf604a": {
          "model_module": "@jupyter-widgets/controls",
          "model_name": "DescriptionStyleModel",
          "model_module_version": "1.5.0",
          "state": {
            "_model_module": "@jupyter-widgets/controls",
            "_model_module_version": "1.5.0",
            "_model_name": "DescriptionStyleModel",
            "_view_count": null,
            "_view_module": "@jupyter-widgets/base",
            "_view_module_version": "1.2.0",
            "_view_name": "StyleView",
            "description_width": ""
          }
        },
        "173e63573f3b4fb986da945de8eb70f8": {
          "model_module": "@jupyter-widgets/base",
          "model_name": "LayoutModel",
          "model_module_version": "1.2.0",
          "state": {
            "_model_module": "@jupyter-widgets/base",
            "_model_module_version": "1.2.0",
            "_model_name": "LayoutModel",
            "_view_count": null,
            "_view_module": "@jupyter-widgets/base",
            "_view_module_version": "1.2.0",
            "_view_name": "LayoutView",
            "align_content": null,
            "align_items": null,
            "align_self": null,
            "border": null,
            "bottom": null,
            "display": null,
            "flex": null,
            "flex_flow": null,
            "grid_area": null,
            "grid_auto_columns": null,
            "grid_auto_flow": null,
            "grid_auto_rows": null,
            "grid_column": null,
            "grid_gap": null,
            "grid_row": null,
            "grid_template_areas": null,
            "grid_template_columns": null,
            "grid_template_rows": null,
            "height": null,
            "justify_content": null,
            "justify_items": null,
            "left": null,
            "margin": null,
            "max_height": null,
            "max_width": null,
            "min_height": null,
            "min_width": null,
            "object_fit": null,
            "object_position": null,
            "order": null,
            "overflow": null,
            "overflow_x": null,
            "overflow_y": null,
            "padding": null,
            "right": null,
            "top": null,
            "visibility": null,
            "width": null
          }
        },
        "7e63ca80eb5c4c119a9c35756462dd0e": {
          "model_module": "@jupyter-widgets/controls",
          "model_name": "ProgressStyleModel",
          "model_module_version": "1.5.0",
          "state": {
            "_model_module": "@jupyter-widgets/controls",
            "_model_module_version": "1.5.0",
            "_model_name": "ProgressStyleModel",
            "_view_count": null,
            "_view_module": "@jupyter-widgets/base",
            "_view_module_version": "1.2.0",
            "_view_name": "StyleView",
            "bar_color": null,
            "description_width": ""
          }
        },
        "5441a619aff04cda86c4e445a4bacc0e": {
          "model_module": "@jupyter-widgets/base",
          "model_name": "LayoutModel",
          "model_module_version": "1.2.0",
          "state": {
            "_model_module": "@jupyter-widgets/base",
            "_model_module_version": "1.2.0",
            "_model_name": "LayoutModel",
            "_view_count": null,
            "_view_module": "@jupyter-widgets/base",
            "_view_module_version": "1.2.0",
            "_view_name": "LayoutView",
            "align_content": null,
            "align_items": null,
            "align_self": null,
            "border": null,
            "bottom": null,
            "display": null,
            "flex": null,
            "flex_flow": null,
            "grid_area": null,
            "grid_auto_columns": null,
            "grid_auto_flow": null,
            "grid_auto_rows": null,
            "grid_column": null,
            "grid_gap": null,
            "grid_row": null,
            "grid_template_areas": null,
            "grid_template_columns": null,
            "grid_template_rows": null,
            "height": null,
            "justify_content": null,
            "justify_items": null,
            "left": null,
            "margin": null,
            "max_height": null,
            "max_width": null,
            "min_height": null,
            "min_width": null,
            "object_fit": null,
            "object_position": null,
            "order": null,
            "overflow": null,
            "overflow_x": null,
            "overflow_y": null,
            "padding": null,
            "right": null,
            "top": null,
            "visibility": null,
            "width": null
          }
        },
        "2c995c38fc034bce954391cc462e0edd": {
          "model_module": "@jupyter-widgets/controls",
          "model_name": "DescriptionStyleModel",
          "model_module_version": "1.5.0",
          "state": {
            "_model_module": "@jupyter-widgets/controls",
            "_model_module_version": "1.5.0",
            "_model_name": "DescriptionStyleModel",
            "_view_count": null,
            "_view_module": "@jupyter-widgets/base",
            "_view_module_version": "1.2.0",
            "_view_name": "StyleView",
            "description_width": ""
          }
        }
      }
    }
  },
  "cells": [
    {
      "cell_type": "markdown",
      "metadata": {
        "id": "view-in-github",
        "colab_type": "text"
      },
      "source": [
        "<a href=\"https://colab.research.google.com/github/gguex/ISH_ressources_cours_ML/blob/main/T12_bert_finetuning.ipynb\" target=\"_parent\"><img src=\"https://colab.research.google.com/assets/colab-badge.svg\" alt=\"Open In Colab\"/></a>"
      ]
    },
    {
      "cell_type": "markdown",
      "source": [
        "# TP 12 : BERT fine-tuning\n",
        "\n",
        "Dans ce TP, nous allons construire un modèle d'analyse des sentiments avec comme base un modèle BERT pré-entrainé. Nous allons ajouter une couche entièrement connectée à la sortie (du premier token) d'un modèle BERT, projetant le vecteur de contexte de BERT sur un seul neurone sensé représenter le log-odd de la séquence d'appartenir à la classe \"sentiment positif\".\n",
        "\n",
        "Pour entrainer notre modèle, nous allons utiliser le jeu de données \"Large Movie Review Dataset\" (https://www.kaggle.com/datasets/lakshmi25npathi/imdb-dataset-of-50k-movie-reviews), qui contient 50'000 évaluations de films faites par des utilisateurs sur IMDB. Ces reviews ont une annotation comme étant positives ou négatives.\n",
        "\n",
        "Notre module d'analyse des sentiments va ensuite servir (même si l'entrainement sur des évaluations de films est discutable pour cette utilisation) à évaluer le sentiment positif/négatif qui se dégage à l'intérieur de chaque livre des Misérables.\n",
        "\n",
        "Le modèle BERT pré-entrainé sera issu de https://huggingface.co/, où l'on peut trouver une grande quantité de modèles pré-entrainés. Ces modèles se téléchargent et s'utilisent généralement en utilisant la librairie `transformers`, qu'il faut prélablement installer."
      ],
      "metadata": {
        "id": "4A_v85Z6qNlu"
      }
    },
    {
      "cell_type": "code",
      "execution_count": null,
      "metadata": {
        "colab": {
          "base_uri": "https://localhost:8080/"
        },
        "id": "b9G4Jihs8psi",
        "outputId": "37245a47-9463-43f5-c6c8-d9d593f66d43"
      },
      "outputs": [
        {
          "output_type": "stream",
          "name": "stdout",
          "text": [
            "\u001b[K     |████████████████████████████████| 5.8 MB 30.9 MB/s \n",
            "\u001b[K     |████████████████████████████████| 182 kB 87.2 MB/s \n",
            "\u001b[K     |████████████████████████████████| 7.6 MB 62.4 MB/s \n",
            "\u001b[?25h"
          ]
        }
      ],
      "source": [
        "!pip install -qq transformers"
      ]
    },
    {
      "cell_type": "markdown",
      "source": [
        "On va utiliser les librairies suivantes :"
      ],
      "metadata": {
        "id": "I50_Kxy4180T"
      }
    },
    {
      "cell_type": "code",
      "source": [
        "import numpy as np\n",
        "import pandas as pd\n",
        "import matplotlib.pyplot as plt\n",
        "from matplotlib.gridspec import GridSpec\n",
        "import os\n",
        "import torch\n",
        "import torch.nn as nn\n",
        "from torch.utils.data import Dataset, DataLoader, random_split\n",
        "import transformers\n",
        "from transformers import BertModel, BertTokenizer, \\\n",
        "  get_linear_schedule_with_warmup\n",
        "from tqdm import tqdm"
      ],
      "metadata": {
        "id": "GvOo6CBV-QCQ"
      },
      "execution_count": null,
      "outputs": []
    },
    {
      "cell_type": "markdown",
      "source": [
        "Et nous allons utiliser l'accélération graphique, si elle est disponible : "
      ],
      "metadata": {
        "id": "wtACoIOOAF3i"
      }
    },
    {
      "cell_type": "code",
      "source": [
        "device = torch.device(\"cuda:0\" if torch.cuda.is_available() else \"cpu\")\n",
        "print(device)"
      ],
      "metadata": {
        "colab": {
          "base_uri": "https://localhost:8080/"
        },
        "id": "yfZFEO-387ud",
        "outputId": "e9adb98f-0e7e-46ad-c55e-6aa2f9b8f835"
      },
      "execution_count": null,
      "outputs": [
        {
          "output_type": "stream",
          "name": "stdout",
          "text": [
            "cuda:0\n"
          ]
        }
      ]
    },
    {
      "cell_type": "markdown",
      "source": [
        "## 1. Construction et finetuning du modèle\n",
        "\n",
        "Avant de construire notre modèle, regardons nos données. On les charge et les affiche. La colonne \"review\" contient la critique, et la colonne \"sentiment\" l'appréciation, qui peut être \"positive\" ou \"negative\". Il s'agira de traduire ces deux colonnes dans des données utilisables par notre modèle. Nous y reviendrons après avoir examiné le modèle que nous allons utiliser."
      ],
      "metadata": {
        "id": "3-g0wc3OAMiR"
      }
    },
    {
      "cell_type": "code",
      "source": [
        "data_path = \"/content/drive/MyDrive/Colab Notebooks/\" \\\n",
        "              \"ml_data/TP12/IMDB Dataset.csv\"\n",
        "data = pd.read_csv(data_path)\n",
        "data"
      ],
      "metadata": {
        "colab": {
          "base_uri": "https://localhost:8080/",
          "height": 424
        },
        "id": "QDguNX-iGFD3",
        "outputId": "36e205a2-048c-4fc4-da92-45b5b06857de"
      },
      "execution_count": null,
      "outputs": [
        {
          "output_type": "execute_result",
          "data": {
            "text/plain": [
              "                                                  review sentiment\n",
              "0      One of the other reviewers has mentioned that ...  positive\n",
              "1      A wonderful little production. <br /><br />The...  positive\n",
              "2      I thought this was a wonderful way to spend ti...  positive\n",
              "3      Basically there's a family where a little boy ...  negative\n",
              "4      Petter Mattei's \"Love in the Time of Money\" is...  positive\n",
              "...                                                  ...       ...\n",
              "49995  I thought this movie did a down right good job...  positive\n",
              "49996  Bad plot, bad dialogue, bad acting, idiotic di...  negative\n",
              "49997  I am a Catholic taught in parochial elementary...  negative\n",
              "49998  I'm going to have to disagree with the previou...  negative\n",
              "49999  No one expects the Star Trek movies to be high...  negative\n",
              "\n",
              "[50000 rows x 2 columns]"
            ],
            "text/html": [
              "\n",
              "  <div id=\"df-63820cb5-4fc2-4984-88e9-d640236358b8\">\n",
              "    <div class=\"colab-df-container\">\n",
              "      <div>\n",
              "<style scoped>\n",
              "    .dataframe tbody tr th:only-of-type {\n",
              "        vertical-align: middle;\n",
              "    }\n",
              "\n",
              "    .dataframe tbody tr th {\n",
              "        vertical-align: top;\n",
              "    }\n",
              "\n",
              "    .dataframe thead th {\n",
              "        text-align: right;\n",
              "    }\n",
              "</style>\n",
              "<table border=\"1\" class=\"dataframe\">\n",
              "  <thead>\n",
              "    <tr style=\"text-align: right;\">\n",
              "      <th></th>\n",
              "      <th>review</th>\n",
              "      <th>sentiment</th>\n",
              "    </tr>\n",
              "  </thead>\n",
              "  <tbody>\n",
              "    <tr>\n",
              "      <th>0</th>\n",
              "      <td>One of the other reviewers has mentioned that ...</td>\n",
              "      <td>positive</td>\n",
              "    </tr>\n",
              "    <tr>\n",
              "      <th>1</th>\n",
              "      <td>A wonderful little production. &lt;br /&gt;&lt;br /&gt;The...</td>\n",
              "      <td>positive</td>\n",
              "    </tr>\n",
              "    <tr>\n",
              "      <th>2</th>\n",
              "      <td>I thought this was a wonderful way to spend ti...</td>\n",
              "      <td>positive</td>\n",
              "    </tr>\n",
              "    <tr>\n",
              "      <th>3</th>\n",
              "      <td>Basically there's a family where a little boy ...</td>\n",
              "      <td>negative</td>\n",
              "    </tr>\n",
              "    <tr>\n",
              "      <th>4</th>\n",
              "      <td>Petter Mattei's \"Love in the Time of Money\" is...</td>\n",
              "      <td>positive</td>\n",
              "    </tr>\n",
              "    <tr>\n",
              "      <th>...</th>\n",
              "      <td>...</td>\n",
              "      <td>...</td>\n",
              "    </tr>\n",
              "    <tr>\n",
              "      <th>49995</th>\n",
              "      <td>I thought this movie did a down right good job...</td>\n",
              "      <td>positive</td>\n",
              "    </tr>\n",
              "    <tr>\n",
              "      <th>49996</th>\n",
              "      <td>Bad plot, bad dialogue, bad acting, idiotic di...</td>\n",
              "      <td>negative</td>\n",
              "    </tr>\n",
              "    <tr>\n",
              "      <th>49997</th>\n",
              "      <td>I am a Catholic taught in parochial elementary...</td>\n",
              "      <td>negative</td>\n",
              "    </tr>\n",
              "    <tr>\n",
              "      <th>49998</th>\n",
              "      <td>I'm going to have to disagree with the previou...</td>\n",
              "      <td>negative</td>\n",
              "    </tr>\n",
              "    <tr>\n",
              "      <th>49999</th>\n",
              "      <td>No one expects the Star Trek movies to be high...</td>\n",
              "      <td>negative</td>\n",
              "    </tr>\n",
              "  </tbody>\n",
              "</table>\n",
              "<p>50000 rows × 2 columns</p>\n",
              "</div>\n",
              "      <button class=\"colab-df-convert\" onclick=\"convertToInteractive('df-63820cb5-4fc2-4984-88e9-d640236358b8')\"\n",
              "              title=\"Convert this dataframe to an interactive table.\"\n",
              "              style=\"display:none;\">\n",
              "        \n",
              "  <svg xmlns=\"http://www.w3.org/2000/svg\" height=\"24px\"viewBox=\"0 0 24 24\"\n",
              "       width=\"24px\">\n",
              "    <path d=\"M0 0h24v24H0V0z\" fill=\"none\"/>\n",
              "    <path d=\"M18.56 5.44l.94 2.06.94-2.06 2.06-.94-2.06-.94-.94-2.06-.94 2.06-2.06.94zm-11 1L8.5 8.5l.94-2.06 2.06-.94-2.06-.94L8.5 2.5l-.94 2.06-2.06.94zm10 10l.94 2.06.94-2.06 2.06-.94-2.06-.94-.94-2.06-.94 2.06-2.06.94z\"/><path d=\"M17.41 7.96l-1.37-1.37c-.4-.4-.92-.59-1.43-.59-.52 0-1.04.2-1.43.59L10.3 9.45l-7.72 7.72c-.78.78-.78 2.05 0 2.83L4 21.41c.39.39.9.59 1.41.59.51 0 1.02-.2 1.41-.59l7.78-7.78 2.81-2.81c.8-.78.8-2.07 0-2.86zM5.41 20L4 18.59l7.72-7.72 1.47 1.35L5.41 20z\"/>\n",
              "  </svg>\n",
              "      </button>\n",
              "      \n",
              "  <style>\n",
              "    .colab-df-container {\n",
              "      display:flex;\n",
              "      flex-wrap:wrap;\n",
              "      gap: 12px;\n",
              "    }\n",
              "\n",
              "    .colab-df-convert {\n",
              "      background-color: #E8F0FE;\n",
              "      border: none;\n",
              "      border-radius: 50%;\n",
              "      cursor: pointer;\n",
              "      display: none;\n",
              "      fill: #1967D2;\n",
              "      height: 32px;\n",
              "      padding: 0 0 0 0;\n",
              "      width: 32px;\n",
              "    }\n",
              "\n",
              "    .colab-df-convert:hover {\n",
              "      background-color: #E2EBFA;\n",
              "      box-shadow: 0px 1px 2px rgba(60, 64, 67, 0.3), 0px 1px 3px 1px rgba(60, 64, 67, 0.15);\n",
              "      fill: #174EA6;\n",
              "    }\n",
              "\n",
              "    [theme=dark] .colab-df-convert {\n",
              "      background-color: #3B4455;\n",
              "      fill: #D2E3FC;\n",
              "    }\n",
              "\n",
              "    [theme=dark] .colab-df-convert:hover {\n",
              "      background-color: #434B5C;\n",
              "      box-shadow: 0px 1px 3px 1px rgba(0, 0, 0, 0.15);\n",
              "      filter: drop-shadow(0px 1px 2px rgba(0, 0, 0, 0.3));\n",
              "      fill: #FFFFFF;\n",
              "    }\n",
              "  </style>\n",
              "\n",
              "      <script>\n",
              "        const buttonEl =\n",
              "          document.querySelector('#df-63820cb5-4fc2-4984-88e9-d640236358b8 button.colab-df-convert');\n",
              "        buttonEl.style.display =\n",
              "          google.colab.kernel.accessAllowed ? 'block' : 'none';\n",
              "\n",
              "        async function convertToInteractive(key) {\n",
              "          const element = document.querySelector('#df-63820cb5-4fc2-4984-88e9-d640236358b8');\n",
              "          const dataTable =\n",
              "            await google.colab.kernel.invokeFunction('convertToInteractive',\n",
              "                                                     [key], {});\n",
              "          if (!dataTable) return;\n",
              "\n",
              "          const docLinkHtml = 'Like what you see? Visit the ' +\n",
              "            '<a target=\"_blank\" href=https://colab.research.google.com/notebooks/data_table.ipynb>data table notebook</a>'\n",
              "            + ' to learn more about interactive tables.';\n",
              "          element.innerHTML = '';\n",
              "          dataTable['output_type'] = 'display_data';\n",
              "          await google.colab.output.renderOutput(dataTable, element);\n",
              "          const docLink = document.createElement('div');\n",
              "          docLink.innerHTML = docLinkHtml;\n",
              "          element.appendChild(docLink);\n",
              "        }\n",
              "      </script>\n",
              "    </div>\n",
              "  </div>\n",
              "  "
            ]
          },
          "metadata": {},
          "execution_count": 4
        }
      ]
    },
    {
      "cell_type": "markdown",
      "source": [
        "Après avoir trouvé un modèle qui semble convenir sur https://huggingface.co/, nous pouvons sauvegarder son nom dans une variable. Ici deux modèles sont suggérés :\n",
        "\n",
        "* `\"bert-base-uncased\"` : le modèle qui est le plus fréquemment utilisé lorsque l'on utilise BERT, mais qui est relativement volumineux.\n",
        "* `\"prajjwal1/bert-mini\"` : un modèle miniature de BERT, permettant des calculs plus rapides au détriment d'une moins bonne représentation des séquences d'entrée.\n",
        "\n",
        "Vous pouvez décommenter le modèle qui vous convient, ou en trouver encore un autre. Les deux modèles sont \"uncased\", c'est-à-dire qu'ils ne prennent pas en compte les majuscules."
      ],
      "metadata": {
        "id": "dtXnhxpMH1cQ"
      }
    },
    {
      "cell_type": "code",
      "source": [
        "#model_name = \"prajjwal1/bert-mini\"\n",
        "model_name = \"bert-base-uncased\""
      ],
      "metadata": {
        "id": "h-0xPwbQI4Kl"
      },
      "execution_count": null,
      "outputs": []
    },
    {
      "cell_type": "markdown",
      "source": [
        "Les modèles de la librairie `transformers` proposent des tokenisateurs associés, permettant ainsi de pré-traiter les données textuelles de manière à les rendre compatible avec les entrées attendues. Nous allons charger le tokenisateur de type BERT basé sur le nom de notre modèle. "
      ],
      "metadata": {
        "id": "5bcdRUnYJNzF"
      }
    },
    {
      "cell_type": "code",
      "source": [
        "tokenizer = BertTokenizer.from_pretrained(model_name)"
      ],
      "metadata": {
        "id": "qEGN4bzs-pxn"
      },
      "execution_count": null,
      "outputs": []
    },
    {
      "cell_type": "markdown",
      "source": [
        "Regardons quelques opérations qu'il est possible d'effectuer avec cet objet, tel que la séparation et la transformation en identifiants numériques d'une chaine de caractères."
      ],
      "metadata": {
        "id": "VusbiSXbJ7Re"
      }
    },
    {
      "cell_type": "code",
      "source": [
        "example_text = \"We are going to train a model, for sentiment classification!\"\n",
        "tokens = tokenizer.tokenize(example_text)\n",
        "token_ids = tokenizer.convert_tokens_to_ids(tokens)\n",
        "print(example_text)\n",
        "print(tokens)\n",
        "print(token_ids)"
      ],
      "metadata": {
        "colab": {
          "base_uri": "https://localhost:8080/"
        },
        "id": "TxmP2aWk_8Mh",
        "outputId": "16243e8b-e33f-4723-c1a0-ae135fbf9297"
      },
      "execution_count": null,
      "outputs": [
        {
          "output_type": "stream",
          "name": "stdout",
          "text": [
            "We are going to train a model, for sentiment classification!\n",
            "['we', 'are', 'going', 'to', 'train', 'a', 'model', ',', 'for', 'sentiment', 'classification', '!']\n",
            "[2057, 2024, 2183, 2000, 3345, 1037, 2944, 1010, 2005, 15792, 5579, 999]\n"
          ]
        }
      ]
    },
    {
      "cell_type": "markdown",
      "source": [
        "La méthode `encode_plus()` permet un traitement plus complet d'une chaine de caractères, en donnant non seulement la traduction en identifiants numériques des différents tokens, mais aussi le masque pour le méchanisme d'attention. Différentes options sont possibles, telles que la longueur maximale des séquences (`max_length=32`) et le type de tenseurs à donner (tenseurs de Pytorch avec `return_tensors=\"pt\"`)."
      ],
      "metadata": {
        "id": "t_rBI_HgKJgX"
      }
    },
    {
      "cell_type": "code",
      "source": [
        "encoding = tokenizer.encode_plus(\n",
        "    example_text, \n",
        "    truncation=True,\n",
        "    max_length=32,\n",
        "    add_special_tokens=True,\n",
        "    return_token_type_ids=False,\n",
        "    padding=\"max_length\",\n",
        "    return_attention_mask=True,\n",
        "    return_tensors=\"pt\"\n",
        ")\n",
        "print(encoding[\"input_ids\"])\n",
        "print(encoding[\"attention_mask\"])"
      ],
      "metadata": {
        "colab": {
          "base_uri": "https://localhost:8080/"
        },
        "id": "DVDaxRMuEwZ3",
        "outputId": "ef6d6772-ddb0-4c22-eaf4-bab39c2f592b"
      },
      "execution_count": null,
      "outputs": [
        {
          "output_type": "stream",
          "name": "stdout",
          "text": [
            "tensor([[  101,  2057,  2024,  2183,  2000,  3345,  1037,  2944,  1010,  2005,\n",
            "         15792,  5579,   999,   102,     0,     0,     0,     0,     0,     0,\n",
            "             0,     0,     0,     0,     0,     0,     0,     0,     0,     0,\n",
            "             0,     0]])\n",
            "tensor([[1, 1, 1, 1, 1, 1, 1, 1, 1, 1, 1, 1, 1, 1, 0, 0, 0, 0, 0, 0, 0, 0, 0, 0,\n",
            "         0, 0, 0, 0, 0, 0, 0, 0]])\n"
          ]
        }
      ]
    },
    {
      "cell_type": "markdown",
      "source": [
        "Cette méthode nous permet donc de construire une transformation que nous allons utiliser sur notre dataset, où l'on précise la longueur maximale des séquences et le tokenisateur à utiliser."
      ],
      "metadata": {
        "id": "SqIKBE2gLKEn"
      }
    },
    {
      "cell_type": "code",
      "source": [
        "def my_transform(text, tokenizer, max_length):\n",
        "\n",
        "  # L'encodage\n",
        "  encoding = tokenizer.encode_plus(\n",
        "      text,\n",
        "      truncation=True,\n",
        "      max_length=max_length,\n",
        "      add_special_tokens=True,\n",
        "      return_token_type_ids=False,\n",
        "      padding=\"max_length\",\n",
        "      return_attention_mask=True,\n",
        "      return_tensors=\"pt\",   \n",
        "  )\n",
        "  # Retour de l'encodage et du masque\n",
        "  return encoding[\"input_ids\"].flatten(), encoding[\"attention_mask\"].flatten()"
      ],
      "metadata": {
        "id": "SQb7Sh3eMVSG"
      },
      "execution_count": null,
      "outputs": []
    },
    {
      "cell_type": "markdown",
      "source": [
        "Il est temps de créer notre classe héritée de `torch.utils.data.Dataset`. Nous transformons les sorties en valeurs numériques (avec 1 = \"positive\", 0 = \"negative\"), puis en array numpy. Lorsqu'un élément du dataset est demandé, nous appliquons la transformation (donnée en argument) et transformons la sortie en tenseur."
      ],
      "metadata": {
        "id": "e3VjUYJMLfNb"
      }
    },
    {
      "cell_type": "code",
      "source": [
        "class MyDataset(Dataset):\n",
        "\n",
        "  # Constructeur\n",
        "  def __init__(self, data_path, transform, tokenizer, sent_len):\n",
        "    # On charge les données\n",
        "    df = pd.read_csv(data_path)\n",
        "    self.inputs = df.review.to_numpy()\n",
        "    self.probs = (df.sentiment == \"positive\").to_numpy()\n",
        "    self.transform = transform\n",
        "    self.tokenizer = tokenizer\n",
        "    self.sent_len = sent_len\n",
        "\n",
        "  # Longueur\n",
        "  def __len__(self):\n",
        "    return len(self.probs)\n",
        "\n",
        "  # Un élément\n",
        "  def __getitem__(self, index):\n",
        "    input = self.transform(str(self.inputs[index]), \n",
        "                           self.tokenizer, \n",
        "                           self.sent_len)\n",
        "    prob = torch.tensor(self.probs[index], dtype=torch.float32)\n",
        "    return input, prob"
      ],
      "metadata": {
        "id": "bU7iZmOdFw7M"
      },
      "execution_count": null,
      "outputs": []
    },
    {
      "cell_type": "markdown",
      "source": [
        "Créons une instance de notre classe pour notre dataset, et regardons un élément. Une séquence d'entiers et le masque sont donnés comme éléments d'entrée."
      ],
      "metadata": {
        "id": "qoVlFWkjOpKt"
      }
    },
    {
      "cell_type": "code",
      "source": [
        "max_length = 512\n",
        "data_path = \"/content/drive/MyDrive/Colab Notebooks/\" \\\n",
        "              \"ml_data/TP12/IMDB Dataset.csv\"\n",
        "my_data = MyDataset(data_path, my_transform, tokenizer, max_length)\n",
        "my_data[0]"
      ],
      "metadata": {
        "colab": {
          "base_uri": "https://localhost:8080/"
        },
        "id": "pZ-gbiBJOxei",
        "outputId": "b4bd188d-f925-42e9-be38-f5a76cac3e81"
      },
      "execution_count": null,
      "outputs": [
        {
          "output_type": "execute_result",
          "data": {
            "text/plain": [
              "((tensor([  101,  2028,  1997,  1996,  2060, 15814,  2038,  3855,  2008,  2044,\n",
              "           3666,  2074,  1015, 11472,  2792,  2017,  1005,  2222,  2022, 13322,\n",
              "           1012,  2027,  2024,  2157,  1010,  2004,  2023,  2003,  3599,  2054,\n",
              "           3047,  2007,  2033,  1012,  1026,  7987,  1013,  1028,  1026,  7987,\n",
              "           1013,  1028,  1996,  2034,  2518,  2008,  4930,  2033,  2055, 11472,\n",
              "           2001,  2049, 24083,  1998,  4895, 10258,  2378,  8450,  5019,  1997,\n",
              "           4808,  1010,  2029,  2275,  1999,  2157,  2013,  1996,  2773,  2175,\n",
              "           1012,  3404,  2033,  1010,  2023,  2003,  2025,  1037,  2265,  2005,\n",
              "           1996,  8143, 18627,  2030,  5199,  3593,  1012,  2023,  2265,  8005,\n",
              "           2053, 17957,  2007, 12362,  2000,  5850,  1010,  3348,  2030,  4808,\n",
              "           1012,  2049,  2003, 13076,  1010,  1999,  1996,  4438,  2224,  1997,\n",
              "           1996,  2773,  1012,  1026,  7987,  1013,  1028,  1026,  7987,  1013,\n",
              "           1028,  2009,  2003,  2170, 11472,  2004,  2008,  2003,  1996,  8367,\n",
              "           2445,  2000,  1996, 17411,  4555,  3036,  2110,  7279,  4221, 12380,\n",
              "           2854,  1012,  2009,  7679,  3701,  2006, 14110,  2103,  1010,  2019,\n",
              "           6388,  2930,  1997,  1996,  3827,  2073,  2035,  1996,  4442,  2031,\n",
              "           3221, 21430,  1998,  2227, 20546,  2015,  1010,  2061,  9394,  2003,\n",
              "           2025,  2152,  2006,  1996, 11376,  1012,  7861,  2103,  2003,  2188,\n",
              "           2000,  2116,  1012,  1012, 26030,  2015,  1010,  7486,  1010, 18542,\n",
              "          10230,  1010,  7402,  2015,  1010,  8135,  1010, 16773,  1010,  3493,\n",
              "           1998,  2062,  1012,  1012,  1012,  1012,  2061,  8040, 16093, 28331,\n",
              "           1010,  2331, 14020,  1010, 26489,  6292, 24069,  1998, 22824, 10540,\n",
              "           2024,  2196,  2521,  2185,  1012,  1026,  7987,  1013,  1028,  1026,\n",
              "           7987,  1013,  1028,  1045,  2052,  2360,  1996,  2364,  5574,  1997,\n",
              "           1996,  2265,  2003,  2349,  2000,  1996,  2755,  2008,  2009,  3632,\n",
              "           2073,  2060,  3065,  2876,  1005,  1056,  8108,  1012,  5293,  3492,\n",
              "           4620,  4993,  2005,  7731,  9501,  1010,  5293, 11084,  1010,  5293,\n",
              "           7472,  1012,  1012,  1012, 11472,  2987,  1005,  1056,  6752,  2105,\n",
              "           1012,  1996,  2034,  2792,  1045,  2412,  2387,  4930,  2033,  2004,\n",
              "           2061, 11808,  2009,  2001, 16524,  1010,  1045,  2481,  1005,  1056,\n",
              "           2360,  1045,  2001,  3201,  2005,  2009,  1010,  2021,  2004,  1045,\n",
              "           3427,  2062,  1010,  1045,  2764,  1037,  5510,  2005, 11472,  1010,\n",
              "           1998,  2288, 17730,  2000,  1996,  2152,  3798,  1997,  8425,  4808,\n",
              "           1012,  2025,  2074,  4808,  1010,  2021, 21321,  1006, 15274,  4932,\n",
              "           2040,  1005,  2222,  2022,  2853,  2041,  2005,  1037, 15519,  1010,\n",
              "          13187,  2040,  1005,  2222,  3102,  2006,  2344,  1998,  2131,  2185,\n",
              "           2007,  2009,  1010,  2092,  5450,  2098,  1010,  2690,  2465, 13187,\n",
              "           2108,  2357,  2046,  3827,  7743,  2229,  2349,  2000,  2037,  3768,\n",
              "           1997,  2395,  4813,  2030,  3827,  3325,  1007,  3666, 11472,  1010,\n",
              "           2017,  2089,  2468,  6625,  2007,  2054,  2003,  8796, 10523,  1012,\n",
              "           1012,  1012,  1012,  2008,  2015,  2065,  2017,  2064,  2131,  1999,\n",
              "           3543,  2007,  2115,  9904,  2217,  1012,   102,     0,     0,     0,\n",
              "              0,     0,     0,     0,     0,     0,     0,     0,     0,     0,\n",
              "              0,     0,     0,     0,     0,     0,     0,     0,     0,     0,\n",
              "              0,     0,     0,     0,     0,     0,     0,     0,     0,     0,\n",
              "              0,     0,     0,     0,     0,     0,     0,     0,     0,     0,\n",
              "              0,     0,     0,     0,     0,     0,     0,     0,     0,     0,\n",
              "              0,     0,     0,     0,     0,     0,     0,     0,     0,     0,\n",
              "              0,     0,     0,     0,     0,     0,     0,     0,     0,     0,\n",
              "              0,     0,     0,     0,     0,     0,     0,     0,     0,     0,\n",
              "              0,     0,     0,     0,     0,     0,     0,     0,     0,     0,\n",
              "              0,     0]),\n",
              "  tensor([1, 1, 1, 1, 1, 1, 1, 1, 1, 1, 1, 1, 1, 1, 1, 1, 1, 1, 1, 1, 1, 1, 1, 1,\n",
              "          1, 1, 1, 1, 1, 1, 1, 1, 1, 1, 1, 1, 1, 1, 1, 1, 1, 1, 1, 1, 1, 1, 1, 1,\n",
              "          1, 1, 1, 1, 1, 1, 1, 1, 1, 1, 1, 1, 1, 1, 1, 1, 1, 1, 1, 1, 1, 1, 1, 1,\n",
              "          1, 1, 1, 1, 1, 1, 1, 1, 1, 1, 1, 1, 1, 1, 1, 1, 1, 1, 1, 1, 1, 1, 1, 1,\n",
              "          1, 1, 1, 1, 1, 1, 1, 1, 1, 1, 1, 1, 1, 1, 1, 1, 1, 1, 1, 1, 1, 1, 1, 1,\n",
              "          1, 1, 1, 1, 1, 1, 1, 1, 1, 1, 1, 1, 1, 1, 1, 1, 1, 1, 1, 1, 1, 1, 1, 1,\n",
              "          1, 1, 1, 1, 1, 1, 1, 1, 1, 1, 1, 1, 1, 1, 1, 1, 1, 1, 1, 1, 1, 1, 1, 1,\n",
              "          1, 1, 1, 1, 1, 1, 1, 1, 1, 1, 1, 1, 1, 1, 1, 1, 1, 1, 1, 1, 1, 1, 1, 1,\n",
              "          1, 1, 1, 1, 1, 1, 1, 1, 1, 1, 1, 1, 1, 1, 1, 1, 1, 1, 1, 1, 1, 1, 1, 1,\n",
              "          1, 1, 1, 1, 1, 1, 1, 1, 1, 1, 1, 1, 1, 1, 1, 1, 1, 1, 1, 1, 1, 1, 1, 1,\n",
              "          1, 1, 1, 1, 1, 1, 1, 1, 1, 1, 1, 1, 1, 1, 1, 1, 1, 1, 1, 1, 1, 1, 1, 1,\n",
              "          1, 1, 1, 1, 1, 1, 1, 1, 1, 1, 1, 1, 1, 1, 1, 1, 1, 1, 1, 1, 1, 1, 1, 1,\n",
              "          1, 1, 1, 1, 1, 1, 1, 1, 1, 1, 1, 1, 1, 1, 1, 1, 1, 1, 1, 1, 1, 1, 1, 1,\n",
              "          1, 1, 1, 1, 1, 1, 1, 1, 1, 1, 1, 1, 1, 1, 1, 1, 1, 1, 1, 1, 1, 1, 1, 1,\n",
              "          1, 1, 1, 1, 1, 1, 1, 1, 1, 1, 1, 1, 1, 1, 1, 1, 1, 1, 1, 1, 1, 1, 1, 1,\n",
              "          1, 1, 1, 1, 1, 1, 1, 1, 1, 1, 1, 1, 1, 1, 1, 1, 1, 1, 1, 1, 1, 1, 1, 1,\n",
              "          1, 1, 1, 1, 1, 1, 1, 1, 1, 1, 1, 1, 1, 1, 1, 1, 1, 1, 1, 1, 1, 1, 1, 1,\n",
              "          1, 1, 1, 1, 1, 1, 1, 1, 1, 0, 0, 0, 0, 0, 0, 0, 0, 0, 0, 0, 0, 0, 0, 0,\n",
              "          0, 0, 0, 0, 0, 0, 0, 0, 0, 0, 0, 0, 0, 0, 0, 0, 0, 0, 0, 0, 0, 0, 0, 0,\n",
              "          0, 0, 0, 0, 0, 0, 0, 0, 0, 0, 0, 0, 0, 0, 0, 0, 0, 0, 0, 0, 0, 0, 0, 0,\n",
              "          0, 0, 0, 0, 0, 0, 0, 0, 0, 0, 0, 0, 0, 0, 0, 0, 0, 0, 0, 0, 0, 0, 0, 0,\n",
              "          0, 0, 0, 0, 0, 0, 0, 0])),\n",
              " tensor(1.))"
            ]
          },
          "metadata": {},
          "execution_count": 11
        }
      ]
    },
    {
      "cell_type": "markdown",
      "source": [
        "Séparons notre jeu de données en jeux d'entrainement, validation et test, avec les proportions 70% - 15% - 15%."
      ],
      "metadata": {
        "id": "65mQ-UZSO9Fl"
      }
    },
    {
      "cell_type": "code",
      "source": [
        "valid_ratio = 0.15\n",
        "test_ratio = 0.15\n",
        "valid_size = int(valid_ratio * len(my_data))\n",
        "test_size = int(test_ratio * len(my_data))\n",
        "train_size = len(my_data) - valid_size - test_size\n",
        "my_data_train, my_data_valid, my_data_test = \\\n",
        "  random_split(my_data, [train_size, valid_size, test_size])\n",
        "print(train_size, valid_size, test_size)"
      ],
      "metadata": {
        "colab": {
          "base_uri": "https://localhost:8080/"
        },
        "id": "IGFN-tW-PboN",
        "outputId": "03bdd0c8-17fa-4ac7-8a9f-8e6e22493200"
      },
      "execution_count": null,
      "outputs": [
        {
          "output_type": "stream",
          "name": "stdout",
          "text": [
            "35000 7500 7500\n"
          ]
        }
      ]
    },
    {
      "cell_type": "markdown",
      "source": [
        "Créons les Dataloaders, avec batch de 32. Le paramètre `num_workers` nous permet d'attribuer plus de processus chargés d'envoyer les données."
      ],
      "metadata": {
        "id": "NliQOzaAPKZA"
      }
    },
    {
      "cell_type": "code",
      "source": [
        "batch_size = 32\n",
        "train_loader = DataLoader(my_data_train, batch_size, num_workers=2)\n",
        "valid_loader = DataLoader(my_data_valid, batch_size, num_workers=2)\n",
        "test_loader = DataLoader(my_data_test, batch_size, num_workers=2)"
      ],
      "metadata": {
        "id": "X9q5QTdTXizb"
      },
      "execution_count": null,
      "outputs": []
    },
    {
      "cell_type": "markdown",
      "source": [
        "La classe `transformers.BertModel` nous permet des créer des instances de modèles pré-entrainés, grâce à sa méthode `from_pretrained()`, à partir d'un nom de modèle Hugging Face. Le modèle est téchargé et mis en mémoire."
      ],
      "metadata": {
        "id": "es5eTcIyPlXR"
      }
    },
    {
      "cell_type": "code",
      "source": [
        "bert_model = BertModel.from_pretrained(model_name)"
      ],
      "metadata": {
        "colab": {
          "base_uri": "https://localhost:8080/"
        },
        "id": "avAetOfzATJG",
        "outputId": "76a4099c-2d2d-4dfb-ec8d-7c9e2a458936"
      },
      "execution_count": null,
      "outputs": [
        {
          "output_type": "stream",
          "name": "stderr",
          "text": [
            "Some weights of the model checkpoint at bert-base-uncased were not used when initializing BertModel: ['cls.seq_relationship.bias', 'cls.predictions.transform.dense.bias', 'cls.predictions.bias', 'cls.predictions.transform.dense.weight', 'cls.predictions.transform.LayerNorm.weight', 'cls.seq_relationship.weight', 'cls.predictions.decoder.weight', 'cls.predictions.transform.LayerNorm.bias']\n",
            "- This IS expected if you are initializing BertModel from the checkpoint of a model trained on another task or with another architecture (e.g. initializing a BertForSequenceClassification model from a BertForPreTraining model).\n",
            "- This IS NOT expected if you are initializing BertModel from the checkpoint of a model that you expect to be exactly identical (initializing a BertForSequenceClassification model from a BertForSequenceClassification model).\n"
          ]
        }
      ]
    },
    {
      "cell_type": "markdown",
      "source": [
        "En passant un exemple de notre jeu de données dans ce modèle, nous pouvons voir la sortie, qui est constituée de deux éléments `last_hidden_state` et `pooler_output`. Ces deux sorties contiennent :\n",
        "\n",
        "* `last_hidden_state` : les sorties cachées de la dernière couche du modèle, avec un vecteur d'une taille définie (par la modèle) pour chaque token d'entrée.\n",
        "* `pooler_output` : le vecteur caché du premier élément de la phrase, correspondant au token [CLS], et qui sert de résumé pour toute la phrase."
      ],
      "metadata": {
        "id": "xu9tur82QNDD"
      }
    },
    {
      "cell_type": "code",
      "source": [
        "input, _ = my_data[0]\n",
        "bert_output = bert_model(input_ids=input[0].unsqueeze(0), \n",
        "                         attention_mask=input[1].unsqueeze(0))\n",
        "bert_output.keys()"
      ],
      "metadata": {
        "colab": {
          "base_uri": "https://localhost:8080/"
        },
        "id": "rIQ17wliDrjT",
        "outputId": "5302ab3a-6309-4715-8586-c8e24e99c180"
      },
      "execution_count": null,
      "outputs": [
        {
          "output_type": "execute_result",
          "data": {
            "text/plain": [
              "odict_keys(['last_hidden_state', 'pooler_output'])"
            ]
          },
          "metadata": {},
          "execution_count": 15
        }
      ]
    },
    {
      "cell_type": "code",
      "source": [
        "print(bert_output[\"last_hidden_state\"].shape)\n",
        "print(bert_output[\"pooler_output\"].shape)"
      ],
      "metadata": {
        "colab": {
          "base_uri": "https://localhost:8080/"
        },
        "id": "EaX-gqCpRC2-",
        "outputId": "57015a2e-4425-47e6-fc3f-f277d24a46fd"
      },
      "execution_count": null,
      "outputs": [
        {
          "output_type": "stream",
          "name": "stdout",
          "text": [
            "torch.Size([1, 512, 768])\n",
            "torch.Size([1, 768])\n"
          ]
        }
      ]
    },
    {
      "cell_type": "markdown",
      "source": [
        "Nous allons maintenant créer un modèle qui consiste en :\n",
        "* Un modèle pré-entrainé de type BERT.\n",
        "* Une couche entièrement connectée qui prend le premier état caché de la sortie du modèle BERT (avec dropout) et l'envoie sur une seule sortie, nous servant ainsi de log-odds pour le sentiment positif.\n",
        "\n",
        "Notez que la taille du vecteur caché peut s'obtenir en utilisant l'attribut `bert.config.hidden_size`, permettant ainsi de définir le bon nombre de neurones dans la couche entièrement connectée."
      ],
      "metadata": {
        "id": "pYs1ZVtcRqa5"
      }
    },
    {
      "cell_type": "code",
      "source": [
        "class SentClassifier(nn.Module):\n",
        "\n",
        "  def __init__(self, bert_model_name):\n",
        "    super(SentClassifier, self).__init__()\n",
        "    self.bert = BertModel.from_pretrained(bert_model_name)\n",
        "    self.drop = nn.Dropout(p=0.3)\n",
        "    self.full = nn.Linear(self.bert.config.hidden_size, 1)\n",
        "\n",
        "  def forward(self, input_ids, attention_mask):\n",
        "    bert_output = self.bert(input_ids, attention_mask)\n",
        "    dropout = self.drop(bert_output[\"pooler_output\"])\n",
        "    logits = self.full(dropout)\n",
        "    return logits"
      ],
      "metadata": {
        "id": "sOBqDBskSmpG"
      },
      "execution_count": null,
      "outputs": []
    },
    {
      "cell_type": "markdown",
      "source": [
        "Vérifions que notre modèle fonctionne correctement en lui envoyant une entrée de notre jeu de données."
      ],
      "metadata": {
        "id": "ow3JTfXuSxS3"
      }
    },
    {
      "cell_type": "code",
      "source": [
        "my_model = SentClassifier(model_name)\n",
        "my_model.to(device)\n",
        "my_model(input[0].unsqueeze(0).to(device), input[1].unsqueeze(0).to(device))"
      ],
      "metadata": {
        "colab": {
          "base_uri": "https://localhost:8080/"
        },
        "id": "axlqhTVUV4lc",
        "outputId": "34ed0033-51f5-4af4-ed73-ee1940f43202"
      },
      "execution_count": null,
      "outputs": [
        {
          "output_type": "stream",
          "name": "stderr",
          "text": [
            "Some weights of the model checkpoint at bert-base-uncased were not used when initializing BertModel: ['cls.seq_relationship.bias', 'cls.predictions.transform.dense.bias', 'cls.predictions.bias', 'cls.predictions.transform.dense.weight', 'cls.predictions.transform.LayerNorm.weight', 'cls.seq_relationship.weight', 'cls.predictions.decoder.weight', 'cls.predictions.transform.LayerNorm.bias']\n",
            "- This IS expected if you are initializing BertModel from the checkpoint of a model trained on another task or with another architecture (e.g. initializing a BertForSequenceClassification model from a BertForPreTraining model).\n",
            "- This IS NOT expected if you are initializing BertModel from the checkpoint of a model that you expect to be exactly identical (initializing a BertForSequenceClassification model from a BertForSequenceClassification model).\n"
          ]
        },
        {
          "output_type": "execute_result",
          "data": {
            "text/plain": [
              "tensor([[-0.0851]], device='cuda:0', grad_fn=<AddmmBackward0>)"
            ]
          },
          "metadata": {},
          "execution_count": 18
        }
      ]
    },
    {
      "cell_type": "markdown",
      "source": [
        "L'entrainement du modèle va s'effectuer d'une manière légèrement plus complexe que les dernières fois. Nous allons utiliser ici un **ordonnanceur** pour le taux d'apprentissage, avec une instance de classe obtenu avec la fonction `transformers.get_linear_schedule_with_warmup()`. Cette instance permet de faire varier le taux d'apprentissage en fonction des itérations. Le taux d'apprentissage commence à 0, monte rapidement jusqu'à sa valeur maximale définie dans l'optimisateur, puis diminue lentement jusqu'à le nombre d'itérations maximal (`len(train_loader) * n_epochs`). Cette procédure permet de chercher plus efficacement un minimum dans la fonctionnelle. Pour en savoir plus, voir https://huggingface.co/docs/transformers/main_classes/optimizer_schedules#transformers.get_linear_schedule_with_warmup.optimizer. \n",
        "\n",
        "La fonction de perte est `torch.nn.BCEWithLogitsLoss()` qui permet de comparer une sortie entre un log-odd vs une valeur binaire."
      ],
      "metadata": {
        "id": "ax-irH6TS9TF"
      }
    },
    {
      "cell_type": "code",
      "source": [
        "n_epochs = 10\n",
        "optimizer = torch.optim.AdamW(my_model.parameters(), lr=2e-5)\n",
        "scheduler = get_linear_schedule_with_warmup(\n",
        "  optimizer,\n",
        "  num_warmup_steps=0,\n",
        "  num_training_steps=len(train_loader) * n_epochs\n",
        ")\n",
        "loss_fn = nn.BCEWithLogitsLoss()"
      ],
      "metadata": {
        "id": "ZFksIEIoWGFa"
      },
      "execution_count": null,
      "outputs": []
    },
    {
      "cell_type": "markdown",
      "source": [
        "Nous allons aussi implémenter un arrêt prématuré dans notre entrainement. Pour cela, nous allons sauver le modèle (sous `checkpoint_path`) à chaque fois que celui-ci diminue la perte de validation, et nous arrêterons l'entrainement si la perte d'entrainement n'a pas diminué durant `patience` epochs. Il nous suffira de revenir au dernier modèle sauvé pour avoir celui qui présente les meilleurs performances de validation."
      ],
      "metadata": {
        "id": "brEmMODxWSyE"
      }
    },
    {
      "cell_type": "code",
      "source": [
        "patience = 3\n",
        "checkpoint_path = \"checkpoint.pt\""
      ],
      "metadata": {
        "id": "vhQoqOuQKzwj"
      },
      "execution_count": null,
      "outputs": []
    },
    {
      "cell_type": "markdown",
      "source": [
        "Nous allons maintenant effectuer l'entrainement. Vous pouvez lire les commentaires ci-dessous pour avoir les détails."
      ],
      "metadata": {
        "id": "wlvqRRSkYWm6"
      }
    },
    {
      "cell_type": "code",
      "source": [
        "# Valeur initiale de la perte minimale obtenue (artificiellement \n",
        "# élevée initialement) pour l'arrêt prématuré\n",
        "lowest_valid_loss = 1e5\n",
        "# Le conteur de patience\n",
        "patience_counter = 0\n",
        "# La boucle sur les epochs\n",
        "for epoch in range(n_epochs):\n",
        "\n",
        "  print(f\"Epoch {epoch + 1}/{n_epochs}\")\n",
        "\n",
        "  # --- Training\n",
        "\n",
        "  my_model.train()\n",
        "  sum_train_loss = 0\n",
        "  sum_train_acc = 0\n",
        "  # La boucle sur le loader d'entrainement\n",
        "  for (input_ids, masks), outputs in tqdm(train_loader):\n",
        "    input_ids = input_ids.to(device)\n",
        "    masks = masks.to(device)\n",
        "    outputs = outputs.to(device).unsqueeze(1)\n",
        "\n",
        "    optimizer.zero_grad()\n",
        "    logits = my_model(input_ids, masks)\n",
        "    loss = loss_fn(logits, outputs)\n",
        "    loss.backward()\n",
        "    # On procède ici au gradient clipping, pour être sur que celui-ci\n",
        "    # ne déborde pas.\n",
        "    nn.utils.clip_grad_norm_(my_model.parameters(), max_norm=1.0)\n",
        "    # Notre optimisateur et notre ordonnanceur son mis à jour\n",
        "    optimizer.step()\n",
        "    scheduler.step()\n",
        "\n",
        "    sum_train_loss += loss.detach().item()\n",
        "    sum_train_acc += ((logits.flatten() > 0) == \n",
        "                      outputs.flatten()).detach().sum().item()\n",
        "\n",
        "  # --- Validation\n",
        "\n",
        "  my_model.eval()\n",
        "  sum_valid_loss = 0\n",
        "  sum_valid_acc = 0\n",
        "  for (input_ids, masks), outputs in tqdm(valid_loader):\n",
        "    input_ids = input_ids.to(device)\n",
        "    masks = masks.to(device)\n",
        "    outputs = outputs.to(device).unsqueeze(1)\n",
        "\n",
        "    logits = my_model(input_ids, masks)\n",
        "    loss = loss_fn(logits, outputs)\n",
        "\n",
        "    sum_valid_loss += loss.detach()\n",
        "    sum_valid_acc += ((logits.flatten() > 0) == \n",
        "                      outputs.flatten()).detach().sum().item()\n",
        "\n",
        "  train_loss = sum_train_loss/len(train_loader)\n",
        "  train_acc = sum_train_acc/len(train_loader.dataset)\n",
        "  valid_loss = sum_valid_loss/len(valid_loader)\n",
        "  valid_acc = sum_valid_acc/len(valid_loader.dataset)\n",
        "\n",
        "  print(f\"Train loss: {train_loss:.4f}, Valid loss: {valid_loss:.4f}\")\n",
        "  print(f\"Train accuracy: {train_acc:.2%}, Valid accuracy: {valid_acc:.2%}\")\n",
        "\n",
        "  # --- Pour l'arrêt prématuré\n",
        "\n",
        "  # Si la perte de validation est plus petite que la dernière enregistrée,\n",
        "  # on effectue un checkpoint du modèle\n",
        "  if valid_loss < lowest_valid_loss:\n",
        "    print(f\"***{valid_loss:.4f} < {lowest_valid_loss:.4f}, saving.***\")\n",
        "    torch.save({\"model_state_dict\": my_model.state_dict(),\n",
        "                \"optimizer_state_dict\": optimizer.state_dict(),\n",
        "                \"scheduler_state_dict\": scheduler.state_dict()},\n",
        "               checkpoint_path)\n",
        "    lowest_valid_loss = valid_loss\n",
        "    patience_counter = 0\n",
        "  # Sinon, on augmente le compteur de patience\n",
        "  else:\n",
        "    patience_counter += 1\n",
        "\n",
        "  # Si le compteur de patience atteint la limite, on arrête l'entrainement\n",
        "  if patience_counter >= patience:\n",
        "    print(\"Early stopping\")\n",
        "    break\n",
        "\n",
        "# On charge le dernier modèle sauvé\n",
        "checkpoint_dict = torch.load(checkpoint_path, map_location=torch.device(device))\n",
        "my_model.load_state_dict(checkpoint_dict[\"model_state_dict\"])\n",
        "optimizer.load_state_dict(checkpoint_dict[\"optimizer_state_dict\"])\n",
        "scheduler.load_state_dict(checkpoint_dict[\"scheduler_state_dict\"])"
      ],
      "metadata": {
        "id": "kKlA3zsZYTCc",
        "colab": {
          "base_uri": "https://localhost:8080/"
        },
        "outputId": "933997af-8635-4ae1-d5cd-84348ff34846"
      },
      "execution_count": null,
      "outputs": [
        {
          "output_type": "stream",
          "name": "stdout",
          "text": [
            "Epoch 1/10\n"
          ]
        },
        {
          "output_type": "stream",
          "name": "stderr",
          "text": [
            "100%|██████████| 1094/1094 [12:47<00:00,  1.42it/s]\n",
            "100%|██████████| 235/235 [00:51<00:00,  4.52it/s]\n"
          ]
        },
        {
          "output_type": "stream",
          "name": "stdout",
          "text": [
            "Train loss: 0.2348, Valid loss: 0.1879\n",
            "Train accuracy: 90.47%, Valid accuracy: 93.28%\n",
            "***0.1879 < 100000.0000, saving.***\n",
            "Epoch 2/10\n"
          ]
        },
        {
          "output_type": "stream",
          "name": "stderr",
          "text": [
            "100%|██████████| 1094/1094 [12:48<00:00,  1.42it/s]\n",
            "100%|██████████| 235/235 [00:51<00:00,  4.52it/s]\n"
          ]
        },
        {
          "output_type": "stream",
          "name": "stdout",
          "text": [
            "Train loss: 0.1253, Valid loss: 0.2005\n",
            "Train accuracy: 95.96%, Valid accuracy: 93.93%\n",
            "Epoch 3/10\n"
          ]
        },
        {
          "output_type": "stream",
          "name": "stderr",
          "text": [
            "100%|██████████| 1094/1094 [12:48<00:00,  1.42it/s]\n",
            "100%|██████████| 235/235 [00:51<00:00,  4.52it/s]\n"
          ]
        },
        {
          "output_type": "stream",
          "name": "stdout",
          "text": [
            "Train loss: 0.0708, Valid loss: 0.2520\n",
            "Train accuracy: 98.01%, Valid accuracy: 94.09%\n",
            "Epoch 4/10\n"
          ]
        },
        {
          "output_type": "stream",
          "name": "stderr",
          "text": [
            "100%|██████████| 1094/1094 [12:48<00:00,  1.42it/s]\n",
            "100%|██████████| 235/235 [00:51<00:00,  4.52it/s]\n"
          ]
        },
        {
          "output_type": "stream",
          "name": "stdout",
          "text": [
            "Train loss: 0.0490, Valid loss: 0.3095\n",
            "Train accuracy: 98.79%, Valid accuracy: 94.03%\n",
            "Early stopping\n"
          ]
        }
      ]
    },
    {
      "cell_type": "markdown",
      "source": [
        "Effectuons maintenant l'évaluation du modèle sur le jeu de test. On va également sauver chaque sortie en terme de probabilité, afin de voir la répartition de ces dernières."
      ],
      "metadata": {
        "id": "yN3Wij4nbuEU"
      }
    },
    {
      "cell_type": "code",
      "source": [
        "my_model.eval()\n",
        "sum_test_loss = 0\n",
        "sum_test_acc = 0\n",
        "real_sent = []\n",
        "pred_sent = []\n",
        "for (input_ids, masks), outputs in tqdm(test_loader):\n",
        "  input_ids = input_ids.to(device)\n",
        "  masks = masks.to(device)\n",
        "  outputs = outputs.to(device).unsqueeze(1)\n",
        "\n",
        "  logits = my_model(input_ids, masks).detach()\n",
        "  loss = loss_fn(logits, outputs).detach()\n",
        "  sum_test_acc += ((logits.flatten() > 0) == outputs.flatten()).sum().item()\n",
        "  probs = torch.sigmoid(logits)\n",
        "\n",
        "  real_sent.extend([real_prob.item() for real_prob in outputs.flatten()])\n",
        "  pred_sent.extend([pred_prob.item() for pred_prob in probs.flatten()])\n",
        "  sum_test_loss += loss.item()\n",
        "\n",
        "print(f\"\\nLoss : {sum_test_loss/len(test_loader):.4f}\")\n",
        "print(f\"Accuracy : {sum_test_acc/len(test_loader.dataset):.2%}\")"
      ],
      "metadata": {
        "id": "hQ_XU4zAiAxT",
        "colab": {
          "base_uri": "https://localhost:8080/"
        },
        "outputId": "71ebfcc7-c297-4e24-9b4b-84c1a102ee47"
      },
      "execution_count": null,
      "outputs": [
        {
          "output_type": "stream",
          "name": "stderr",
          "text": [
            "100%|██████████| 235/235 [00:52<00:00,  4.49it/s]"
          ]
        },
        {
          "output_type": "stream",
          "name": "stdout",
          "text": [
            "\n",
            "Loss : 0.1769\n",
            "Accuracy : 0.9383\n"
          ]
        },
        {
          "output_type": "stream",
          "name": "stderr",
          "text": [
            "\n"
          ]
        }
      ]
    },
    {
      "cell_type": "markdown",
      "source": [
        "On peut tracer les boxplots des probabilités prédites pour les critiques négatives et positives. Il y a quelques critiques (par rapport à la taille du jeu de test) avec une probabilité contre-intuitive par rapport à leur appréciation, mais la majorité semble concentré sur les pôles adéquats."
      ],
      "metadata": {
        "id": "ig6cSCd7cFyh"
      }
    },
    {
      "cell_type": "code",
      "source": [
        "real_sent = np.array(real_sent)\n",
        "pred_sent = np.array(pred_sent)\n",
        "unique_real_sent = list(set(real_sent))\n",
        "binned_pred_sent = [np.array(pred_sent)[np.where(real_sent == sent)[0]]\n",
        "                    for sent in unique_real_sent]\n",
        "\n",
        "plt.rcParams[\"figure.figsize\"] = [12, 9]\n",
        "plt.boxplot(binned_pred_sent, positions=unique_real_sent)\n",
        "plt.show()"
      ],
      "metadata": {
        "id": "ZKsTbx6djbZ2",
        "colab": {
          "base_uri": "https://localhost:8080/",
          "height": 592
        },
        "outputId": "6501f5d4-10d8-4a2b-e84a-589b3cd1de14"
      },
      "execution_count": null,
      "outputs": [
        {
          "output_type": "stream",
          "name": "stderr",
          "text": [
            "/usr/local/lib/python3.8/dist-packages/matplotlib/cbook/__init__.py:1376: VisibleDeprecationWarning: Creating an ndarray from ragged nested sequences (which is a list-or-tuple of lists-or-tuples-or ndarrays with different lengths or shapes) is deprecated. If you meant to do this, you must specify 'dtype=object' when creating the ndarray.\n",
            "  X = np.atleast_1d(X.T if isinstance(X, np.ndarray) else np.asarray(X))\n"
          ]
        },
        {
          "output_type": "display_data",
          "data": {
            "text/plain": [
              "<Figure size 864x648 with 1 Axes>"
            ],
            "image/png": "[encoded data removed]"
          },
          "metadata": {
            "needs_background": "light"
          }
        }
      ]
    },
    {
      "cell_type": "markdown",
      "source": [
        "On sauve maintenant le modèle dans le drive, afin de pouvoir l'utiliser dans la deuxième partie sans la phase d'entrainement."
      ],
      "metadata": {
        "id": "LPwhVscOcbLG"
      }
    },
    {
      "cell_type": "code",
      "source": [
        "model_path = \"/content/drive/MyDrive/Colab Notebooks/ml_data/\" \\\n",
        "             \"TP12/sent_analyser_bert_base.pt\"\n",
        "torch.save({\"model_state_dict\": my_model.state_dict(),\n",
        "            \"optimizer_tat_dict\": optimizer.state_dict(),\n",
        "            \"scheduler_state_dict\": scheduler.state_dict()},\n",
        "            model_path)"
      ],
      "metadata": {
        "id": "pgJ7Kojseybs"
      },
      "execution_count": null,
      "outputs": []
    },
    {
      "cell_type": "markdown",
      "source": [
        "---"
      ],
      "metadata": {
        "id": "E2f6kR64h6IG"
      }
    },
    {
      "cell_type": "markdown",
      "source": [
        "## 2. Utilisation du modèle pour l'analyse des sentiments\n",
        "\n",
        "Passons maintenant à la partie où nous allons utiliser notre modèle d'analyse des sentiments sur le corpus des Misérables.\n",
        "\n",
        "Comme cette deuxième partie peut être utilisée de manière indépendante de la première partie, nous allons redéfinir ici plusieurs éléments, tout en rechargeant le modèle entrainé."
      ],
      "metadata": {
        "id": "LYYA1-H6cv4B"
      }
    },
    {
      "cell_type": "code",
      "source": [
        "# --- Le nom du modèle à charger\n",
        "\n",
        "# model_name = \"prajjwal1/bert-mini\"\n",
        "# model_path = \"/content/drive/MyDrive/Colab Notebooks/ml_data/\" \\\n",
        "#              \"TP12/sent_analyser_bert_mini.pt\"\n",
        "model_name = \"bert-base-uncased\"\n",
        "model_path = \"/content/drive/MyDrive/Colab Notebooks/ml_data/\" \\\n",
        "             \"TP12/sent_analyser_bert_base.pt\"\n",
        "\n",
        "# --- La longueur maximale des séquences\n",
        "\n",
        "max_length = 512\n",
        "\n",
        "# --- Définition du modèle et chargement\n",
        "\n",
        "class SentClassifier(nn.Module):\n",
        "\n",
        "  def __init__(self, bert_model_name):\n",
        "    super(SentClassifier, self).__init__()\n",
        "    self.bert = BertModel.from_pretrained(bert_model_name)\n",
        "    self.drop = nn.Dropout(p=0.3)\n",
        "    self.full = nn.Linear(self.bert.config.hidden_size, 1)\n",
        "\n",
        "  def forward(self, input_ids, attention_mask):\n",
        "    bert_output = self.bert(input_ids, attention_mask)\n",
        "    dropout = self.drop(bert_output[\"pooler_output\"])\n",
        "    logits = self.full(dropout)\n",
        "    return logits\n",
        "\n",
        "sent_classif = SentClassifier(model_name)\n",
        "model_dict = torch.load(model_path, map_location=torch.device(device))\n",
        "sent_classif.load_state_dict(model_dict[\"model_state_dict\"])\n",
        "\n",
        "# --- Le tokenisateur\n",
        "\n",
        "tokenizer = BertTokenizer.from_pretrained(model_name)\n",
        "\n",
        "# --- la transformation\n",
        "\n",
        "def my_transform(text, tokenizer, max_length):\n",
        "  # L'encodage\n",
        "  encoding = tokenizer.encode_plus(text, truncation=True, max_length=max_length,\n",
        "      add_special_tokens=True, return_token_type_ids=False, return_tensors=\"pt\",\n",
        "      return_attention_mask=True, padding=\"max_length\")\n",
        "  # Retour de l'encodage et du masque\n",
        "  return encoding[\"input_ids\"].flatten(), encoding[\"attention_mask\"].flatten()"
      ],
      "metadata": {
        "id": "TjTI4Qmzh3Y7",
        "colab": {
          "base_uri": "https://localhost:8080/",
          "height": 153,
          "referenced_widgets": [
            "b46e8479e2ab41abb6827dc9986f6cc9",
            "21b8a9a0b0314987853682f1f7c5bb42",
            "3b1ec056016944af8a13f2e06e4fc873",
            "e2fbc65d36db4316ad19c9125d28a7b3",
            "b348e1b91fc042d38063afb8490f2291",
            "4004fae03fe346789541bd5f2b916083",
            "e08068998e214832bd5757cb2490e538",
            "74407eb2fc6e48bebcb9f0b3b875c251",
            "39d947b5635045c6a4e797497a357c0b",
            "4f7fbaf2abfd44c38effddf747999880",
            "001e99c4affb4423baae176985f5b1b1",
            "2bdc74fd29ee4ea485b858ea2d33fccd",
            "790d15f726ed4ce4ac4068d5c1305e72",
            "5d1f9ca6dd3c4acaa2594edae88b937d",
            "e0181af8bb5e4cf6a4f30d1e3750848f",
            "51743ae9e4af4a4986b5cdbb90bb00a1",
            "95f240ab626545d2a24f8c3076c25929",
            "34dc339e5fe84b959f5f3da09dbf604a",
            "173e63573f3b4fb986da945de8eb70f8",
            "7e63ca80eb5c4c119a9c35756462dd0e",
            "5441a619aff04cda86c4e445a4bacc0e",
            "2c995c38fc034bce954391cc462e0edd"
          ]
        },
        "outputId": "2315634a-0553-4481-cb89-c59a2e7187a7"
      },
      "execution_count": null,
      "outputs": [
        {
          "output_type": "stream",
          "name": "stderr",
          "text": [
            "Some weights of the model checkpoint at bert-base-uncased were not used when initializing BertModel: ['cls.predictions.decoder.weight', 'cls.seq_relationship.bias', 'cls.predictions.transform.dense.weight', 'cls.predictions.bias', 'cls.predictions.transform.dense.bias', 'cls.predictions.transform.LayerNorm.weight', 'cls.predictions.transform.LayerNorm.bias', 'cls.seq_relationship.weight']\n",
            "- This IS expected if you are initializing BertModel from the checkpoint of a model trained on another task or with another architecture (e.g. initializing a BertForSequenceClassification model from a BertForPreTraining model).\n",
            "- This IS NOT expected if you are initializing BertModel from the checkpoint of a model that you expect to be exactly identical (initializing a BertForSequenceClassification model from a BertForSequenceClassification model).\n"
          ]
        },
        {
          "output_type": "display_data",
          "data": {
            "text/plain": [
              "Downloading:   0%|          | 0.00/232k [00:00<?, ?B/s]"
            ],
            "application/vnd.jupyter.widget-view+json": {
              "version_major": 2,
              "version_minor": 0,
              "model_id": "b46e8479e2ab41abb6827dc9986f6cc9"
            }
          },
          "metadata": {}
        },
        {
          "output_type": "display_data",
          "data": {
            "text/plain": [
              "Downloading:   0%|          | 0.00/28.0 [00:00<?, ?B/s]"
            ],
            "application/vnd.jupyter.widget-view+json": {
              "version_major": 2,
              "version_minor": 0,
              "model_id": "2bdc74fd29ee4ea485b858ea2d33fccd"
            }
          },
          "metadata": {}
        }
      ]
    },
    {
      "cell_type": "markdown",
      "source": [
        "Définissons maintenant une classe héritée de `torch.utils.data.Dataset` qui permet de donner des entrées compatibles avec notre modèle à partir d'un livre de notre corpus. Pour cela, nous divisons notre livre en blocs, de au plus `max_length` tokens, et transformons ces blocs en tenseurs grâce à notre transformation."
      ],
      "metadata": {
        "id": "LQJovF-i36MM"
      }
    },
    {
      "cell_type": "code",
      "source": [
        "class MyDocument(Dataset):\n",
        "    def __init__(self, file_path, tokenizer, max_length, transform):\n",
        "        self.file_path = file_path\n",
        "        self.tokenizer = tokenizer\n",
        "        self.max_length = max_length\n",
        "        self.transform = transform\n",
        "\n",
        "        with open(self.file_path, \"r\") as f:\n",
        "          self.text = f.read()\n",
        "\n",
        "        # On encode avec le tokenizer pour estimer le nombre de tokens\n",
        "        tokens = self.tokenizer.encode_plus(self.text)[\"input_ids\"]\n",
        "        n_tokens = len(tokens)\n",
        "        # Le nombre de blocs \n",
        "        n_blocs = int(n_tokens / max_length) + 1\n",
        "        # Les blocs résultant (avec ids des tokens)\n",
        "        id_blocs = np.array_split(tokens[1:-1], n_blocs)\n",
        "        # On converti à nouveau en texte\n",
        "        self.blocs = [\" \".join(self.tokenizer.convert_ids_to_tokens(id_bloc)) \n",
        "                      for id_bloc in id_blocs]\n",
        "\n",
        "    def __len__(self):\n",
        "        return len(self.blocs)\n",
        "\n",
        "    def __getitem__(self, idx):\n",
        "        return self.transform(self.blocs[idx], self.tokenizer, self.max_length)"
      ],
      "metadata": {
        "id": "U2JFXlyI09iS"
      },
      "execution_count": null,
      "outputs": []
    },
    {
      "cell_type": "markdown",
      "source": [
        "On teste notre classe Dataset avec le premier livre."
      ],
      "metadata": {
        "id": "IBh6ZyC85Ry8"
      }
    },
    {
      "cell_type": "code",
      "source": [
        "file_path = \"/content/drive/MyDrive/Colab Notebooks/ml_data/TP10/\" \\\n",
        "            \"by_book/book_01.txt\"\n",
        "doc_data = MyDocument(file_path, tokenizer, max_length, my_transform)"
      ],
      "metadata": {
        "id": "NJlqIjtky5xc",
        "colab": {
          "base_uri": "https://localhost:8080/"
        },
        "outputId": "d416165c-f580-4d7f-ec0f-965ef5f4562c"
      },
      "execution_count": null,
      "outputs": [
        {
          "output_type": "stream",
          "name": "stderr",
          "text": [
            "Token indices sequence length is longer than the specified maximum sequence length for this model (31641 > 512). Running this sequence through the model will result in indexing errors\n"
          ]
        }
      ]
    },
    {
      "cell_type": "markdown",
      "source": [
        "L'entrée et le masque correspondant au premier bloc sont affichés."
      ],
      "metadata": {
        "id": "-hQN2flb5WUV"
      }
    },
    {
      "cell_type": "code",
      "source": [
        "doc_data[0]"
      ],
      "metadata": {
        "id": "L0Stsckrzj5A",
        "colab": {
          "base_uri": "https://localhost:8080/"
        },
        "outputId": "f1a4b24b-d650-4e13-d961-c2e8c1ce7cb2"
      },
      "execution_count": null,
      "outputs": [
        {
          "output_type": "execute_result",
          "data": {
            "text/plain": [
              "(tensor([  101,  1999, 10679,  1010,  1049,  1012,  2798,  1011,  8173,  1011,\n",
              "         29316,  1001,  1001,  2310,  2078,  1001,  1001,  1057,  2026,  1001,\n",
              "          1001, 15544,  2063,  1001,  1001,  1048,  2001,  3387,  1997,  1040,\n",
              "          1517,  1517,  2002,  2001,  2019,  2214,  2158,  1997,  2055, 10920,\n",
              "          1011,  2274,  2086,  1997,  2287,  1025,  2002,  2018,  4548,  1996,\n",
              "          2156,  1997,  1040,  1517,  1517,  2144, 12518,  1012,  2348,  2023,\n",
              "          6987,  2038,  2053,  4434,  3649,  2007,  1996,  2613,  9415,  1997,\n",
              "          2054,  2057,  2024,  2055,  2000, 14396,  1010,  2009,  2097,  2025,\n",
              "          2022,  3565,  1001,  1001, 13109,  1001,  1001,  1057,  3560,  1010,\n",
              "          2065,  6414,  2005,  1996,  8739,  1997,  6635,  1001,  1001, 23384,\n",
              "          1999,  2035,  2685,  1010,  2000,  5254,  2182,  1996,  2536, 11256,\n",
              "          1998, 12629,  2029,  2018,  2042,  1999,  9141,  2055,  2032,  2013,\n",
              "          1996,  2200,  2617,  2043,  2002,  3369,  1999,  1996,  5801,  1012,\n",
              "          2995,  2030,  6270,  1010,  2008,  2029,  2003,  2056,  1997,  2273,\n",
              "          2411, 14133,  2004,  2590,  1037,  2173,  1999,  2037,  3268,  1010,\n",
              "          1998,  2682,  2035,  1999,  2037,  4078,  1001,  1001,  9543,  1001,\n",
              "          1001, 29464,  2015,  1010,  2004,  2008,  2029,  2027,  2079,  1012,\n",
              "          1049,  1012,  2026,  1001,  1001, 15544,  2063,  1001,  1001,  1048,\n",
              "          2001,  1996,  2365,  1997,  1037, 10674,  1997,  1996,  3323,  1997,\n",
              "         28443,  1025,  6516,  2002,  6272,  2000,  1996, 11760,  1997,  1996,\n",
              "          3347,  1012,  2009,  2001,  2056,  2008,  2010,  2269,  1010,  4078,\n",
              "          1001,  1001,  9543,  1001,  1001, 13749,  2032,  2000,  2022,  1996,\n",
              "          8215,  1997,  2010,  2219,  2695,  1010,  2018,  2496,  2032,  2012,\n",
              "          1037,  2200,  2220,  2287,  1010,  7763,  2030,  3174,  1010,  1999,\n",
              "         10388,  2007,  1037,  7661,  2029,  2003,  2738,  4235, 15157,  1999,\n",
              "          5768,  2945,  1012,  1999,  8741,  1997,  2023,  3510,  1010,  2174,\n",
              "          1010,  2009,  2001,  2056,  2008,  2798,  2026,  1001,  1001, 15544,\n",
              "          2063,  1001,  1001,  1048,  2580,  1037,  2307,  3066,  1997,  2831,\n",
              "          1012,  2002,  2001,  2092,  2719,  1010,  2295,  2738,  2460,  1999,\n",
              "         21120,  1010, 11552,  1010, 19415,  1010,  9414,  1025,  1996,  2878,\n",
              "          1997,  1996,  2034,  4664,  1997,  2010,  2166,  2018,  2042,  7422,\n",
              "          2000,  1996,  2088,  1998,  2000, 22111,  1012,  1996,  4329,  2234,\n",
              "          1025,  2824,  4594,  2169,  2060,  2007, 13511,  1025,  1996,  5768,\n",
              "          2945,  1010, 11703,  1001,  1001, 10047,  4383,  1010,  9505,  1010,\n",
              "         14682,  2091,  1010,  2020, 15484,  1012,  1049,  1012,  2798,  2026,\n",
              "          1001,  1001, 15544,  2063,  1001,  1001,  1048, 11367,  2000,  3304,\n",
              "          2012,  1996,  2200,  2927,  1997,  1996,  4329,  1012,  2045,  2010,\n",
              "          2564,  2351,  1997,  1037, 28935,  1001,  1001,  1040,  2100,  1997,\n",
              "          1996,  3108,  1010,  2013,  2029,  2016,  2018,  2146,  4265,  1012,\n",
              "          2002,  2018,  2053,  2336,  1012,  2054,  2165,  2173,  2279,  1999,\n",
              "          1996,  6580,  1997,  1049,  1012,  2026,  1001,  1001, 15544,  2063,\n",
              "          1001,  1001,  1048,  1029,  1996, 10083,  1997,  1996,  2413,  2554,\n",
              "          1997,  1996,  2214,  1001,  1001,  4372,  2420,  1010,  1996,  2991,\n",
              "          1997,  2010,  2219,  2155,  1010,  1996, 13800, 21177,  1001,  1001,\n",
              "          1055,  1997,  1521,  6109,  1010,  2029,  2020,  1010,  3383,  1010,\n",
              "          2130,  2062,  8598,  1001,  1001, 13749,  2000,  1996, 12495,  1001,\n",
              "          1001,  8624,  2040,  7021,  2068,  2013,  1037,  3292,  1010,  2007,\n",
              "          1996, 23848,  1001,  1001,  9152,  1001,  1001,  1042, 14147,  4204,\n",
              "          1997,  7404,  1010,  1517,  2106,  2122,  3426,  1996,  4784,  1997,\n",
              "         14916,  1001,  1001,  4895, 23247,  1998, 22560,  2000, 16216,  1001,\n",
              "          1001, 28549,  2378,  1001,  1001,  8823,  1999,  2032,  1029,  2001,\n",
              "          2002,   102]),\n",
              " tensor([1, 1, 1, 1, 1, 1, 1, 1, 1, 1, 1, 1, 1, 1, 1, 1, 1, 1, 1, 1, 1, 1, 1, 1,\n",
              "         1, 1, 1, 1, 1, 1, 1, 1, 1, 1, 1, 1, 1, 1, 1, 1, 1, 1, 1, 1, 1, 1, 1, 1,\n",
              "         1, 1, 1, 1, 1, 1, 1, 1, 1, 1, 1, 1, 1, 1, 1, 1, 1, 1, 1, 1, 1, 1, 1, 1,\n",
              "         1, 1, 1, 1, 1, 1, 1, 1, 1, 1, 1, 1, 1, 1, 1, 1, 1, 1, 1, 1, 1, 1, 1, 1,\n",
              "         1, 1, 1, 1, 1, 1, 1, 1, 1, 1, 1, 1, 1, 1, 1, 1, 1, 1, 1, 1, 1, 1, 1, 1,\n",
              "         1, 1, 1, 1, 1, 1, 1, 1, 1, 1, 1, 1, 1, 1, 1, 1, 1, 1, 1, 1, 1, 1, 1, 1,\n",
              "         1, 1, 1, 1, 1, 1, 1, 1, 1, 1, 1, 1, 1, 1, 1, 1, 1, 1, 1, 1, 1, 1, 1, 1,\n",
              "         1, 1, 1, 1, 1, 1, 1, 1, 1, 1, 1, 1, 1, 1, 1, 1, 1, 1, 1, 1, 1, 1, 1, 1,\n",
              "         1, 1, 1, 1, 1, 1, 1, 1, 1, 1, 1, 1, 1, 1, 1, 1, 1, 1, 1, 1, 1, 1, 1, 1,\n",
              "         1, 1, 1, 1, 1, 1, 1, 1, 1, 1, 1, 1, 1, 1, 1, 1, 1, 1, 1, 1, 1, 1, 1, 1,\n",
              "         1, 1, 1, 1, 1, 1, 1, 1, 1, 1, 1, 1, 1, 1, 1, 1, 1, 1, 1, 1, 1, 1, 1, 1,\n",
              "         1, 1, 1, 1, 1, 1, 1, 1, 1, 1, 1, 1, 1, 1, 1, 1, 1, 1, 1, 1, 1, 1, 1, 1,\n",
              "         1, 1, 1, 1, 1, 1, 1, 1, 1, 1, 1, 1, 1, 1, 1, 1, 1, 1, 1, 1, 1, 1, 1, 1,\n",
              "         1, 1, 1, 1, 1, 1, 1, 1, 1, 1, 1, 1, 1, 1, 1, 1, 1, 1, 1, 1, 1, 1, 1, 1,\n",
              "         1, 1, 1, 1, 1, 1, 1, 1, 1, 1, 1, 1, 1, 1, 1, 1, 1, 1, 1, 1, 1, 1, 1, 1,\n",
              "         1, 1, 1, 1, 1, 1, 1, 1, 1, 1, 1, 1, 1, 1, 1, 1, 1, 1, 1, 1, 1, 1, 1, 1,\n",
              "         1, 1, 1, 1, 1, 1, 1, 1, 1, 1, 1, 1, 1, 1, 1, 1, 1, 1, 1, 1, 1, 1, 1, 1,\n",
              "         1, 1, 1, 1, 1, 1, 1, 1, 1, 1, 1, 1, 1, 1, 1, 1, 1, 1, 1, 1, 1, 1, 1, 1,\n",
              "         1, 1, 1, 1, 1, 1, 1, 1, 1, 1, 1, 1, 1, 1, 1, 1, 1, 1, 1, 1, 1, 1, 1, 1,\n",
              "         1, 1, 1, 1, 1, 1, 1, 1, 1, 1, 1, 1, 1, 1, 1, 1, 1, 1, 1, 1, 1, 1, 1, 1,\n",
              "         1, 1, 1, 1, 1, 1, 1, 1, 1, 1, 1, 1, 1, 1, 1, 1, 1, 1, 1, 1, 1, 1, 1, 1,\n",
              "         1, 1, 1, 1, 1, 1, 1, 1]))"
            ]
          },
          "metadata": {},
          "execution_count": 9
        }
      ]
    },
    {
      "cell_type": "markdown",
      "source": [
        "Regardons si nous pouvons passer une entrée dans notre modèle, pour voir si tout fonctionne."
      ],
      "metadata": {
        "id": "Vm7hrfA45i9t"
      }
    },
    {
      "cell_type": "code",
      "source": [
        "input, mask = doc_data[0]\n",
        "sent_classif.eval()\n",
        "sent_classif(input.unsqueeze(0), mask.unsqueeze(0))"
      ],
      "metadata": {
        "id": "7UdWUJ8P0Qnx",
        "colab": {
          "base_uri": "https://localhost:8080/"
        },
        "outputId": "9e1a5c2f-078e-43f6-bfdc-fd4238b91dc9"
      },
      "execution_count": null,
      "outputs": [
        {
          "output_type": "execute_result",
          "data": {
            "text/plain": [
              "tensor([[0.4101]], grad_fn=<AddmmBackward0>)"
            ]
          },
          "metadata": {},
          "execution_count": 10
        }
      ]
    },
    {
      "cell_type": "markdown",
      "source": [
        "Nous créons maintenant une fonction qui prend une instance de notre classe Dataset en entrée et permet d'estimer le sentiment de chaque bloc."
      ],
      "metadata": {
        "id": "kyswABe25ode"
      }
    },
    {
      "cell_type": "code",
      "source": [
        "def get_sentiments(file_data, model, batch_size):\n",
        "  file_data_loader = DataLoader(file_data, batch_size)\n",
        "\n",
        "  file_sents = []\n",
        "  model.eval()\n",
        "  for inputs, masks in file_data_loader:\n",
        "    logits = model(inputs, masks).detach()\n",
        "    probs = torch.sigmoid(logits)\n",
        "    file_sents.extend(probs.flatten().tolist())\n",
        "  \n",
        "  return file_sents"
      ],
      "metadata": {
        "id": "GV7t44c1O7c0"
      },
      "execution_count": null,
      "outputs": []
    },
    {
      "cell_type": "markdown",
      "source": [
        "On va executer cette fonction sur tout notre corpus, et sauvegarder les sentiments prédits dans une liste (livre) de liste (blocs)."
      ],
      "metadata": {
        "id": "CIg-nbs153bG"
      }
    },
    {
      "cell_type": "code",
      "source": [
        "corpus_path = \"/content/drive/MyDrive/Colab Notebooks/ml_data/TP10/by_book\"\n",
        "batch_size = 64\n",
        "\n",
        "file_names = os.listdir(corpus_path)\n",
        "file_names.sort()\n",
        "\n",
        "corpus_sents = []\n",
        "for i, file_name in tqdm(enumerate(file_names)):\n",
        "\n",
        "  file_path = f\"{corpus_path}/{file_name}\"\n",
        "  file_data = MyDocument(file_path, tokenizer, max_length, my_transform)\n",
        "  file_sents = get_sentiments(file_data, sent_classif, batch_size)\n",
        "\n",
        "  corpus_sents.append(file_sents)"
      ],
      "metadata": {
        "id": "g4TLPIsbDiv-",
        "colab": {
          "base_uri": "https://localhost:8080/"
        },
        "outputId": "92268a2d-37f8-41f9-9b6e-a4258380dafc"
      },
      "execution_count": null,
      "outputs": [
        {
          "output_type": "stream",
          "name": "stderr",
          "text": [
            "49it [06:41,  8.19s/it]\n"
          ]
        }
      ]
    },
    {
      "cell_type": "markdown",
      "source": [
        "On affiche le sentiment calculé sur chaque bloc, avec une moyenne mobile sur une fenêtre de `ma_window_size`. De plus, les sentiments moyens de chaque livre et du corpus sont calculés."
      ],
      "metadata": {
        "id": "8EkGdfcg6C8W"
      }
    },
    {
      "cell_type": "code",
      "source": [
        "ma_window_size = 5\n",
        "\n",
        "nx_grid = int(np.sqrt(len(corpus_sents)))\n",
        "ny_grid= int(np.ceil(len(corpus_sents) / nx_grid))\n",
        "plt.rcParams[\"figure.figsize\"] = [ny_grid*2, nx_grid*1.5]\n",
        "\n",
        "fig = plt.figure()\n",
        "grid_layout = GridSpec(nx_grid, ny_grid)\n",
        "\n",
        "total_sent, total_part = 0, 0\n",
        "for i, file_sents in enumerate(corpus_sents):\n",
        "\n",
        "  # Pour calculer la moyenne mobile\n",
        "  mov_avg_df = pd.Series(file_sents).rolling(ma_window_size, min_periods=1)\n",
        "  mov_avg = mov_avg_df.mean().to_list()\n",
        "\n",
        "  x_range = list(range(1, len(file_sents) + 1))\n",
        "\n",
        "  ax = fig.add_subplot(grid_layout[i])\n",
        "  ax.bar(x_range, file_sents, alpha=0.5)\n",
        "  ax.plot(x_range, mov_avg, color=\"red\")\n",
        "  ax.set_ylim([0, 1])\n",
        "  ax.set_title(f\"Livre {i}, Sent={np.mean(file_sents):.3f}\")\n",
        "\n",
        "  # On fait la somme du sentiment et comptons le nombre de blocs\n",
        "  total_sent += np.sum(file_sents)\n",
        "  total_part += len(file_sents)\n",
        "\n",
        "grid_layout.tight_layout(fig)\n",
        "\n",
        "print(f\"Sentiment moyen total = {total_sent/total_part:.3f}\")"
      ],
      "metadata": {
        "colab": {
          "base_uri": "https://localhost:8080/",
          "height": 782
        },
        "id": "S2xWHZ0rp4xr",
        "outputId": "ac31ac7e-e896-4254-c64a-02c9c6ee8839"
      },
      "execution_count": null,
      "outputs": [
        {
          "output_type": "stream",
          "name": "stdout",
          "text": [
            "Sentiment moyen total = 0.353\n"
          ]
        },
        {
          "output_type": "display_data",
          "data": {
            "text/plain": [
              "<Figure size 1008x756 with 49 Axes>"
            ],
            "image/png": "[encoded data removed]"
          },
          "metadata": {
            "needs_background": "light"
          }
        }
      ]
    },
    {
      "cell_type": "markdown",
      "source": [
        "---"
      ],
      "metadata": {
        "id": "KdnZ_HtXOcZh"
      }
    }
  ]
}