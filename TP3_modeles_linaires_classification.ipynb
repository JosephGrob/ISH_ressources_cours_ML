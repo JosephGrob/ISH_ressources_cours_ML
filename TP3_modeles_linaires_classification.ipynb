{
  "nbformat": 4,
  "nbformat_minor": 0,
  "metadata": {
    "colab": {
      "provenance": [],
      "collapsed_sections": [],
      "mount_file_id": "1eYB-KBM_AxI6wa74I3b2lZHdlb3aTOCJ",
      "authorship_tag": "ABX9TyPbRaE1AWa8MEoMFHItKrF5",
      "include_colab_link": true
    },
    "kernelspec": {
      "name": "python3",
      "display_name": "Python 3"
    },
    "language_info": {
      "name": "python"
    }
  },
  "cells": [
    {
      "cell_type": "markdown",
      "metadata": {
        "id": "view-in-github",
        "colab_type": "text"
      },
      "source": [
        "<a href=\"https://colab.research.google.com/github/gguex/ISH_ressources_cours_ML/blob/main/TP3_modeles_linaires_classification.ipynb\" target=\"_parent\"><img src=\"https://colab.research.google.com/assets/colab-badge.svg\" alt=\"Open In Colab\"/></a>"
      ]
    },
    {
      "cell_type": "markdown",
      "source": [
        "# TP 3 modèles linéaires pour la classification\n",
        "\n",
        "Dans ce troisième TP, nous allons faire des régressions linéaires et logistiques pour de la classification. Il y aura deux parties :\n",
        "\n",
        "* La régression linéaire et logistique pour une variable binaire\n",
        "* La régression linéaire et logistique pour une variable multimodale \n",
        "\n",
        "Un exercice consitera à refaire ces modèles, afin d'optimiser cette fois la mesure F1, sur un nouveau jeu de données.\n",
        "\n",
        "Les librairies et modules nécessaires sont"
      ],
      "metadata": {
        "id": "qNpexjLWmjpE"
      }
    },
    {
      "cell_type": "code",
      "execution_count": 1,
      "metadata": {
        "id": "1ZGiKBDBh6R7"
      },
      "outputs": [],
      "source": [
        "import pandas as pd\n",
        "import numpy as np\n",
        "import matplotlib.pyplot as plt\n",
        "# Pour modifier la taille de sortie de graphiques dans le notebook\n",
        "plt.rcParams['figure.figsize'] = [20, 10]\n",
        "# Les modèles de régression\n",
        "from sklearn.linear_model import LinearRegression, LogisticRegression\n",
        "# Pour la CV\n",
        "from sklearn.model_selection import train_test_split, GridSearchCV\n",
        "# Nos différentes mesures\n",
        "from sklearn.metrics import make_scorer, accuracy_score, \\\n",
        "  precision_score, recall_score\n",
        "# Pour encoder les sorties en vecteurs one-hot\n",
        "from sklearn.preprocessing import OneHotEncoder"
      ]
    },
    {
      "cell_type": "markdown",
      "source": [
        "---"
      ],
      "metadata": {
        "id": "AtpWtaA5oSr2"
      }
    },
    {
      "cell_type": "markdown",
      "source": [
        "## 1. Variable binaire\n",
        "\n",
        "Nous allons utiliser ici le jeu de données \"BreastCancer.csv\" (https://www.rdocumentation.org/packages/mlbench/versions/2.1-3/topics/BreastCancer) possédant une variable \"Class\" indiquant si la tumeur prélevée est bénigne ou maligne. Les autres variables sont numériques.\n",
        "\n",
        "On commence par charger le jeu de données "
      ],
      "metadata": {
        "id": "ZazFet2X2VZw"
      }
    },
    {
      "cell_type": "code",
      "source": [
        "file_path = \"drive/MyDrive/Colab Notebooks/ml_data/TP3/BreastCancer.csv\"\n",
        "data = pd.read_csv(file_path)\n",
        "data "
      ],
      "metadata": {
        "colab": {
          "base_uri": "https://localhost:8080/",
          "height": 424
        },
        "id": "GD-0rMr9moRh",
        "outputId": "5ff4daec-30b7-4e9a-cfbc-e869bbf8295b"
      },
      "execution_count": 2,
      "outputs": [
        {
          "output_type": "execute_result",
          "data": {
            "text/plain": [
              "          Id  Cl.thickness  Cell.size  Cell.shape  Marg.adhesion  \\\n",
              "0    1000025             5          1           1              1   \n",
              "1    1002945             5          4           4              5   \n",
              "2    1015425             3          1           1              1   \n",
              "3    1016277             6          8           8              1   \n",
              "4    1017023             4          1           1              3   \n",
              "..       ...           ...        ...         ...            ...   \n",
              "678   776715             3          1           1              1   \n",
              "679   841769             2          1           1              1   \n",
              "680   888820             5         10          10              3   \n",
              "681   897471             4          8           6              4   \n",
              "682   897471             4          8           8              5   \n",
              "\n",
              "     Epith.c.size  Bare.nuclei  Bl.cromatin  Normal.nucleoli  Mitoses  \\\n",
              "0               2            1            3                1        1   \n",
              "1               7           10            3                2        1   \n",
              "2               2            2            3                1        1   \n",
              "3               3            4            3                7        1   \n",
              "4               2            1            3                1        1   \n",
              "..            ...          ...          ...              ...      ...   \n",
              "678             3            2            1                1        1   \n",
              "679             2            1            1                1        1   \n",
              "680             7            3            8               10        2   \n",
              "681             3            4           10                6        1   \n",
              "682             4            5           10                4        1   \n",
              "\n",
              "         Class  \n",
              "0       benign  \n",
              "1       benign  \n",
              "2       benign  \n",
              "3       benign  \n",
              "4       benign  \n",
              "..         ...  \n",
              "678     benign  \n",
              "679     benign  \n",
              "680  malignant  \n",
              "681  malignant  \n",
              "682  malignant  \n",
              "\n",
              "[683 rows x 11 columns]"
            ],
            "text/html": [
              "\n",
              "  <div id=\"df-3b84830c-be1c-4bd0-b40a-b1197f2f1e40\">\n",
              "    <div class=\"colab-df-container\">\n",
              "      <div>\n",
              "<style scoped>\n",
              "    .dataframe tbody tr th:only-of-type {\n",
              "        vertical-align: middle;\n",
              "    }\n",
              "\n",
              "    .dataframe tbody tr th {\n",
              "        vertical-align: top;\n",
              "    }\n",
              "\n",
              "    .dataframe thead th {\n",
              "        text-align: right;\n",
              "    }\n",
              "</style>\n",
              "<table border=\"1\" class=\"dataframe\">\n",
              "  <thead>\n",
              "    <tr style=\"text-align: right;\">\n",
              "      <th></th>\n",
              "      <th>Id</th>\n",
              "      <th>Cl.thickness</th>\n",
              "      <th>Cell.size</th>\n",
              "      <th>Cell.shape</th>\n",
              "      <th>Marg.adhesion</th>\n",
              "      <th>Epith.c.size</th>\n",
              "      <th>Bare.nuclei</th>\n",
              "      <th>Bl.cromatin</th>\n",
              "      <th>Normal.nucleoli</th>\n",
              "      <th>Mitoses</th>\n",
              "      <th>Class</th>\n",
              "    </tr>\n",
              "  </thead>\n",
              "  <tbody>\n",
              "    <tr>\n",
              "      <th>0</th>\n",
              "      <td>1000025</td>\n",
              "      <td>5</td>\n",
              "      <td>1</td>\n",
              "      <td>1</td>\n",
              "      <td>1</td>\n",
              "      <td>2</td>\n",
              "      <td>1</td>\n",
              "      <td>3</td>\n",
              "      <td>1</td>\n",
              "      <td>1</td>\n",
              "      <td>benign</td>\n",
              "    </tr>\n",
              "    <tr>\n",
              "      <th>1</th>\n",
              "      <td>1002945</td>\n",
              "      <td>5</td>\n",
              "      <td>4</td>\n",
              "      <td>4</td>\n",
              "      <td>5</td>\n",
              "      <td>7</td>\n",
              "      <td>10</td>\n",
              "      <td>3</td>\n",
              "      <td>2</td>\n",
              "      <td>1</td>\n",
              "      <td>benign</td>\n",
              "    </tr>\n",
              "    <tr>\n",
              "      <th>2</th>\n",
              "      <td>1015425</td>\n",
              "      <td>3</td>\n",
              "      <td>1</td>\n",
              "      <td>1</td>\n",
              "      <td>1</td>\n",
              "      <td>2</td>\n",
              "      <td>2</td>\n",
              "      <td>3</td>\n",
              "      <td>1</td>\n",
              "      <td>1</td>\n",
              "      <td>benign</td>\n",
              "    </tr>\n",
              "    <tr>\n",
              "      <th>3</th>\n",
              "      <td>1016277</td>\n",
              "      <td>6</td>\n",
              "      <td>8</td>\n",
              "      <td>8</td>\n",
              "      <td>1</td>\n",
              "      <td>3</td>\n",
              "      <td>4</td>\n",
              "      <td>3</td>\n",
              "      <td>7</td>\n",
              "      <td>1</td>\n",
              "      <td>benign</td>\n",
              "    </tr>\n",
              "    <tr>\n",
              "      <th>4</th>\n",
              "      <td>1017023</td>\n",
              "      <td>4</td>\n",
              "      <td>1</td>\n",
              "      <td>1</td>\n",
              "      <td>3</td>\n",
              "      <td>2</td>\n",
              "      <td>1</td>\n",
              "      <td>3</td>\n",
              "      <td>1</td>\n",
              "      <td>1</td>\n",
              "      <td>benign</td>\n",
              "    </tr>\n",
              "    <tr>\n",
              "      <th>...</th>\n",
              "      <td>...</td>\n",
              "      <td>...</td>\n",
              "      <td>...</td>\n",
              "      <td>...</td>\n",
              "      <td>...</td>\n",
              "      <td>...</td>\n",
              "      <td>...</td>\n",
              "      <td>...</td>\n",
              "      <td>...</td>\n",
              "      <td>...</td>\n",
              "      <td>...</td>\n",
              "    </tr>\n",
              "    <tr>\n",
              "      <th>678</th>\n",
              "      <td>776715</td>\n",
              "      <td>3</td>\n",
              "      <td>1</td>\n",
              "      <td>1</td>\n",
              "      <td>1</td>\n",
              "      <td>3</td>\n",
              "      <td>2</td>\n",
              "      <td>1</td>\n",
              "      <td>1</td>\n",
              "      <td>1</td>\n",
              "      <td>benign</td>\n",
              "    </tr>\n",
              "    <tr>\n",
              "      <th>679</th>\n",
              "      <td>841769</td>\n",
              "      <td>2</td>\n",
              "      <td>1</td>\n",
              "      <td>1</td>\n",
              "      <td>1</td>\n",
              "      <td>2</td>\n",
              "      <td>1</td>\n",
              "      <td>1</td>\n",
              "      <td>1</td>\n",
              "      <td>1</td>\n",
              "      <td>benign</td>\n",
              "    </tr>\n",
              "    <tr>\n",
              "      <th>680</th>\n",
              "      <td>888820</td>\n",
              "      <td>5</td>\n",
              "      <td>10</td>\n",
              "      <td>10</td>\n",
              "      <td>3</td>\n",
              "      <td>7</td>\n",
              "      <td>3</td>\n",
              "      <td>8</td>\n",
              "      <td>10</td>\n",
              "      <td>2</td>\n",
              "      <td>malignant</td>\n",
              "    </tr>\n",
              "    <tr>\n",
              "      <th>681</th>\n",
              "      <td>897471</td>\n",
              "      <td>4</td>\n",
              "      <td>8</td>\n",
              "      <td>6</td>\n",
              "      <td>4</td>\n",
              "      <td>3</td>\n",
              "      <td>4</td>\n",
              "      <td>10</td>\n",
              "      <td>6</td>\n",
              "      <td>1</td>\n",
              "      <td>malignant</td>\n",
              "    </tr>\n",
              "    <tr>\n",
              "      <th>682</th>\n",
              "      <td>897471</td>\n",
              "      <td>4</td>\n",
              "      <td>8</td>\n",
              "      <td>8</td>\n",
              "      <td>5</td>\n",
              "      <td>4</td>\n",
              "      <td>5</td>\n",
              "      <td>10</td>\n",
              "      <td>4</td>\n",
              "      <td>1</td>\n",
              "      <td>malignant</td>\n",
              "    </tr>\n",
              "  </tbody>\n",
              "</table>\n",
              "<p>683 rows × 11 columns</p>\n",
              "</div>\n",
              "      <button class=\"colab-df-convert\" onclick=\"convertToInteractive('df-3b84830c-be1c-4bd0-b40a-b1197f2f1e40')\"\n",
              "              title=\"Convert this dataframe to an interactive table.\"\n",
              "              style=\"display:none;\">\n",
              "        \n",
              "  <svg xmlns=\"http://www.w3.org/2000/svg\" height=\"24px\"viewBox=\"0 0 24 24\"\n",
              "       width=\"24px\">\n",
              "    <path d=\"M0 0h24v24H0V0z\" fill=\"none\"/>\n",
              "    <path d=\"M18.56 5.44l.94 2.06.94-2.06 2.06-.94-2.06-.94-.94-2.06-.94 2.06-2.06.94zm-11 1L8.5 8.5l.94-2.06 2.06-.94-2.06-.94L8.5 2.5l-.94 2.06-2.06.94zm10 10l.94 2.06.94-2.06 2.06-.94-2.06-.94-.94-2.06-.94 2.06-2.06.94z\"/><path d=\"M17.41 7.96l-1.37-1.37c-.4-.4-.92-.59-1.43-.59-.52 0-1.04.2-1.43.59L10.3 9.45l-7.72 7.72c-.78.78-.78 2.05 0 2.83L4 21.41c.39.39.9.59 1.41.59.51 0 1.02-.2 1.41-.59l7.78-7.78 2.81-2.81c.8-.78.8-2.07 0-2.86zM5.41 20L4 18.59l7.72-7.72 1.47 1.35L5.41 20z\"/>\n",
              "  </svg>\n",
              "      </button>\n",
              "      \n",
              "  <style>\n",
              "    .colab-df-container {\n",
              "      display:flex;\n",
              "      flex-wrap:wrap;\n",
              "      gap: 12px;\n",
              "    }\n",
              "\n",
              "    .colab-df-convert {\n",
              "      background-color: #E8F0FE;\n",
              "      border: none;\n",
              "      border-radius: 50%;\n",
              "      cursor: pointer;\n",
              "      display: none;\n",
              "      fill: #1967D2;\n",
              "      height: 32px;\n",
              "      padding: 0 0 0 0;\n",
              "      width: 32px;\n",
              "    }\n",
              "\n",
              "    .colab-df-convert:hover {\n",
              "      background-color: #E2EBFA;\n",
              "      box-shadow: 0px 1px 2px rgba(60, 64, 67, 0.3), 0px 1px 3px 1px rgba(60, 64, 67, 0.15);\n",
              "      fill: #174EA6;\n",
              "    }\n",
              "\n",
              "    [theme=dark] .colab-df-convert {\n",
              "      background-color: #3B4455;\n",
              "      fill: #D2E3FC;\n",
              "    }\n",
              "\n",
              "    [theme=dark] .colab-df-convert:hover {\n",
              "      background-color: #434B5C;\n",
              "      box-shadow: 0px 1px 3px 1px rgba(0, 0, 0, 0.15);\n",
              "      filter: drop-shadow(0px 1px 2px rgba(0, 0, 0, 0.3));\n",
              "      fill: #FFFFFF;\n",
              "    }\n",
              "  </style>\n",
              "\n",
              "      <script>\n",
              "        const buttonEl =\n",
              "          document.querySelector('#df-3b84830c-be1c-4bd0-b40a-b1197f2f1e40 button.colab-df-convert');\n",
              "        buttonEl.style.display =\n",
              "          google.colab.kernel.accessAllowed ? 'block' : 'none';\n",
              "\n",
              "        async function convertToInteractive(key) {\n",
              "          const element = document.querySelector('#df-3b84830c-be1c-4bd0-b40a-b1197f2f1e40');\n",
              "          const dataTable =\n",
              "            await google.colab.kernel.invokeFunction('convertToInteractive',\n",
              "                                                     [key], {});\n",
              "          if (!dataTable) return;\n",
              "\n",
              "          const docLinkHtml = 'Like what you see? Visit the ' +\n",
              "            '<a target=\"_blank\" href=https://colab.research.google.com/notebooks/data_table.ipynb>data table notebook</a>'\n",
              "            + ' to learn more about interactive tables.';\n",
              "          element.innerHTML = '';\n",
              "          dataTable['output_type'] = 'display_data';\n",
              "          await google.colab.output.renderOutput(dataTable, element);\n",
              "          const docLink = document.createElement('div');\n",
              "          docLink.innerHTML = docLinkHtml;\n",
              "          element.appendChild(docLink);\n",
              "        }\n",
              "      </script>\n",
              "    </div>\n",
              "  </div>\n",
              "  "
            ]
          },
          "metadata": {},
          "execution_count": 2
        }
      ]
    },
    {
      "cell_type": "markdown",
      "source": [
        "On isole nos entrées et sorties, et on transforme ces dernières en un vecteur binaire avec \"benign\" = 0 et \"malignant\" = 1."
      ],
      "metadata": {
        "id": "tcW6CKnno3k3"
      }
    },
    {
      "cell_type": "code",
      "source": [
        "inputs = data.drop([\"Id\", \"Class\"], axis=1)\n",
        "outputs = (data[\"Class\"].to_numpy() == \"malignant\")*1"
      ],
      "metadata": {
        "id": "_lwRDh1GnaPY"
      },
      "execution_count": 3,
      "outputs": []
    },
    {
      "cell_type": "markdown",
      "source": [
        "On va maintenant séparer notre jeu de données en jeu d'entrainement/validation et test, avec l'option `stratify=outputs`, c'est-à-dire qu'on prend garde à ce que les classes contenues dans le vecteur `outputs` soient réparties de manière similaire dans les deux jeux de données."
      ],
      "metadata": {
        "id": "KStKIDgHpDLb"
      }
    },
    {
      "cell_type": "code",
      "source": [
        "inputs_train_val, inputs_test, outputs_train_val, outputs_test \\\n",
        "  = train_test_split(inputs, outputs, test_size=0.2, stratify=outputs)\n",
        "# On observe les proportions\n",
        "print(f\"Proportion de malignant dans train_val : \" \n",
        "      f\"{np.sum(outputs_train_val) / len(outputs_train_val):.2%}\")\n",
        "print(f\"Proportion de malignant dans test : \" \n",
        "      f\"{np.sum(outputs_test) / len(outputs_test):.2%}\")"
      ],
      "metadata": {
        "id": "dUA0yZiRswQT",
        "colab": {
          "base_uri": "https://localhost:8080/"
        },
        "outputId": "4e740817-9220-4f3e-ce47-1d13559124d1"
      },
      "execution_count": 4,
      "outputs": [
        {
          "output_type": "stream",
          "name": "stdout",
          "text": [
            "Proportion de malignant dans train_val : 34.98%\n",
            "Proportion de malignant dans test : 35.04%\n"
          ]
        }
      ]
    },
    {
      "cell_type": "markdown",
      "source": [
        "On va maintenant entrainer un modèle linéaire sur le jeu d'entrainement/validation"
      ],
      "metadata": {
        "id": "FHkKmVS-pk4w"
      }
    },
    {
      "cell_type": "code",
      "source": [
        "linear_reg = LinearRegression()\n",
        "linear_reg.fit(inputs_train_val, outputs_train_val)"
      ],
      "metadata": {
        "colab": {
          "base_uri": "https://localhost:8080/"
        },
        "id": "RpxyUaCMtM9N",
        "outputId": "198f978f-9e4a-4b07-f258-281920e2f5d6"
      },
      "execution_count": 5,
      "outputs": [
        {
          "output_type": "execute_result",
          "data": {
            "text/plain": [
              "LinearRegression()"
            ]
          },
          "metadata": {},
          "execution_count": 5
        }
      ]
    },
    {
      "cell_type": "markdown",
      "source": [
        "Les prédictions $\\widehat{y}_i = 1$ s'obtiennent ssi $\\widehat{z}_i > 5$. On calcul ensuite l'exactitude, la précision et le rappel, pour les jeux d'entrainement et de test"
      ],
      "metadata": {
        "id": "s6XLC8x_pope"
      }
    },
    {
      "cell_type": "code",
      "source": [
        "# Les prédictions\n",
        "outputs_lin_train = (linear_reg.predict(inputs_train_val) > 0.5)*1\n",
        "outputs_lin_test = (linear_reg.predict(inputs_test) > 0.5)*1\n",
        "# Les scores\n",
        "accuracy_lin_train = np.mean(outputs_train_val == outputs_lin_train)\n",
        "accuracy_lin_test = np.mean(outputs_test == outputs_lin_test)\n",
        "precision_lin_train = precision_score(outputs_train_val, outputs_lin_train)\n",
        "precision_lin_test = precision_score(outputs_test, outputs_lin_test)\n",
        "recall_lin_train = recall_score(outputs_train_val, outputs_lin_train)\n",
        "recall_lin_test = recall_score(outputs_test, outputs_lin_test)"
      ],
      "metadata": {
        "id": "fjCe_518ulep"
      },
      "execution_count": 6,
      "outputs": []
    },
    {
      "cell_type": "markdown",
      "source": [
        "La régression logistique sera régularisée avec un hyperparamètre $\\lambda \\in [0.001, 0.5]$. On effectue donc une `GridSearchCV`, mais en observant nos trois mesures (`refit`, qui permet d'entrainer automatiquement le meilleur modèle, doit être mis selon une de ces mesures ou sur `False`)"
      ],
      "metadata": {
        "id": "VzKk5djmqI13"
      }
    },
    {
      "cell_type": "code",
      "source": [
        "# Paramètres pour la CV\n",
        "params = np.linspace(0.001, 0.5, 50)\n",
        "param_dict = {\"C\": params}\n",
        "k = 5\n",
        "# Recherche sur grille avec CV\n",
        "logistic_reg = LogisticRegression()\n",
        "gride_search = GridSearchCV(logistic_reg, \n",
        "                            param_dict,\n",
        "                            cv=k,\n",
        "                            scoring=[\"accuracy\", \"precision\", \"recall\"],\n",
        "                            refit=False)\n",
        "gride_search.fit(inputs_train_val, outputs_train_val)"
      ],
      "metadata": {
        "colab": {
          "base_uri": "https://localhost:8080/"
        },
        "id": "8zq5T6KOp2cq",
        "outputId": "6cd7edb6-2b73-4f4f-e890-60919f9d8128"
      },
      "execution_count": 7,
      "outputs": [
        {
          "output_type": "execute_result",
          "data": {
            "text/plain": [
              "GridSearchCV(cv=5, estimator=LogisticRegression(),\n",
              "             param_grid={'C': array([0.001     , 0.01118367, 0.02136735, 0.03155102, 0.04173469,\n",
              "       0.05191837, 0.06210204, 0.07228571, 0.08246939, 0.09265306,\n",
              "       0.10283673, 0.11302041, 0.12320408, 0.13338776, 0.14357143,\n",
              "       0.1537551 , 0.16393878, 0.17412245, 0.18430612, 0.1944898 ,\n",
              "       0.20467347, 0.21485714, 0.22504082, 0.23522449, 0.24540816,\n",
              "       0.25559184, 0.26577551, 0.27595918, 0.28614286, 0.29632653,\n",
              "       0.3065102 , 0.31669388, 0.32687755, 0.33706122, 0.3472449 ,\n",
              "       0.35742857, 0.36761224, 0.37779592, 0.38797959, 0.39816327,\n",
              "       0.40834694, 0.41853061, 0.42871429, 0.43889796, 0.44908163,\n",
              "       0.45926531, 0.46944898, 0.47963265, 0.48981633, 0.5       ])},\n",
              "             refit=False, scoring=['accuracy', 'precision', 'recall'])"
            ]
          },
          "metadata": {},
          "execution_count": 7
        }
      ]
    },
    {
      "cell_type": "markdown",
      "source": [
        "On va faire le graphique de ces scores en fonction de $\\lambda$"
      ],
      "metadata": {
        "id": "PJPpngoIqzuQ"
      }
    },
    {
      "cell_type": "code",
      "source": [
        "# Plot des scores\n",
        "accuracy_scores = gride_search.cv_results_[\"mean_test_accuracy\"]\n",
        "precision_scores = gride_search.cv_results_[\"mean_test_precision\"]\n",
        "recall_scores = gride_search.cv_results_[\"mean_test_recall\"]\n",
        "# Plot des scores\n",
        "fig, ax = plt.subplots()\n",
        "ax.plot(params, accuracy_scores, c=\"red\", label=\"Accuracy\")\n",
        "ax.plot(params, precision_scores, c=\"blue\", label=\"Precision\")\n",
        "ax.plot(params, recall_scores, c=\"green\", label=\"Recall\")\n",
        "ax.set_xlabel(\"$\\lambda$\")\n",
        "ax.set_ylabel(\"$Score$\")\n",
        "ax.legend()\n",
        "plt.plot()"
      ],
      "metadata": {
        "colab": {
          "base_uri": "https://localhost:8080/",
          "height": 625
        },
        "id": "trBmabzG6405",
        "outputId": "622f34cc-a2c8-4945-f8c5-4b782731f983"
      },
      "execution_count": 8,
      "outputs": [
        {
          "output_type": "execute_result",
          "data": {
            "text/plain": [
              "[]"
            ]
          },
          "metadata": {},
          "execution_count": 8
        },
        {
          "output_type": "display_data",
          "data": {
            "text/plain": [
              "<Figure size 1440x720 with 1 Axes>"
            ],
            "image/png": "[encoded data removed]"
          },
          "metadata": {
            "needs_background": "light"
          }
        }
      ]
    },
    {
      "cell_type": "markdown",
      "source": [
        "Sélectionnons le meilleur hyparamètre selon le rappel, puis entrainons ce modèle sur tout notre jeu d'entrainement/validation"
      ],
      "metadata": {
        "id": "QhOet8tFq47J"
      }
    },
    {
      "cell_type": "code",
      "source": [
        "# Les meilleurs modèles selon le recall\n",
        "index_best_recall = np.where(recall_scores == max(recall_scores))[0][0]\n",
        "best_recall_par = params[index_best_recall]\n",
        "best_recall_log_reg = LogisticRegression(C=best_recall_par)\n",
        "best_recall_log_reg.fit(inputs_train_val, outputs_train_val)"
      ],
      "metadata": {
        "colab": {
          "base_uri": "https://localhost:8080/"
        },
        "id": "KF-o9DIgqI9h",
        "outputId": "11d2b223-6cd6-4fb4-e104-3a08a1e44bec"
      },
      "execution_count": 9,
      "outputs": [
        {
          "output_type": "execute_result",
          "data": {
            "text/plain": [
              "LogisticRegression(C=0.011183673469387756)"
            ]
          },
          "metadata": {},
          "execution_count": 9
        }
      ]
    },
    {
      "cell_type": "markdown",
      "source": [
        "On calcule maintenant les différentes mesures selon ce modèle, sur le jeu d'entrainement/validation et test"
      ],
      "metadata": {
        "id": "AQX4r9r2rIMn"
      }
    },
    {
      "cell_type": "code",
      "source": [
        "# Les prédictions\n",
        "outputs_log_train = best_recall_log_reg.predict(inputs_train_val)\n",
        "outputs_log_test = best_recall_log_reg.predict(inputs_test)\n",
        "# Les scores\n",
        "accuracy_log_train = accuracy_score(outputs_train_val, outputs_log_train)\n",
        "accuracy_log_test = accuracy_score(outputs_test, outputs_log_test)\n",
        "precision_log_train = precision_score(outputs_train_val, outputs_log_train)\n",
        "precision_log_test = precision_score(outputs_test, outputs_log_test)\n",
        "recall_log_train = recall_score(outputs_train_val, outputs_log_train)\n",
        "recall_log_test = recall_score(outputs_test, outputs_log_test)"
      ],
      "metadata": {
        "id": "6tkT4kWNuclW"
      },
      "execution_count": 10,
      "outputs": []
    },
    {
      "cell_type": "markdown",
      "source": [
        "Comparons les résultats entre notre modèle linéaire et le modèle logisitique retenu"
      ],
      "metadata": {
        "id": "kzcJqb17rPxM"
      }
    },
    {
      "cell_type": "code",
      "source": [
        "print(f\"L'exactitude pour le modèle linéaire est de \"\n",
        "f\"{accuracy_lin_train:.2%} (train) {accuracy_lin_test:.2%} (test)\")\n",
        "print(f\"La précision pour le modèle linéaire est de \"\n",
        "f\"{precision_lin_train:.2%} (train) {precision_lin_test:.2%} (test)\")\n",
        "print(f\"Le rappel pour le modèle linéaire est de \"\n",
        "f\"{recall_lin_train:.2%} (train) {recall_lin_test:.2%} (test)\")\n",
        "print(f\"L'exactitude pour le modèle logistique (C={best_recall_par:.4f}) est \"\n",
        "f\"de {accuracy_log_train:.2%} (train) {accuracy_log_test:.2%} (test)\")\n",
        "print(f\"La précision pour le modèle logistique (C={best_recall_par:.4f}) est \"\n",
        "f\"de {precision_log_train:.2%} (train) {precision_log_test:.2%} (test)\")\n",
        "print(f\"Le rappel pour le modèle logistique (C={best_recall_par:.4f}) est \"\n",
        "f\"de {recall_log_train:.2%} (train) {recall_log_test:.2%} (test)\")"
      ],
      "metadata": {
        "colab": {
          "base_uri": "https://localhost:8080/"
        },
        "id": "XcR07z9tzzts",
        "outputId": "0ef4d01a-43ed-400a-ecbe-fa56b42fd724"
      },
      "execution_count": 11,
      "outputs": [
        {
          "output_type": "stream",
          "name": "stdout",
          "text": [
            "L'exactitude pour le modèle linéaire est de 96.15% (train) 95.62% (test)\n",
            "La précision pour le modèle linéaire est de 96.20% (train) 97.73% (test)\n",
            "Le rappel pour le modèle linéaire est de 92.67% (train) 89.58% (test)\n",
            "L'exactitude pour le modèle logistique (C=0.0112) est de 97.25% (train) 96.35% (test)\n",
            "La précision pour le modèle logistique (C=0.0112) est de 96.32% (train) 97.78% (test)\n",
            "Le rappel pour le modèle logistique (C=0.0112) est de 95.81% (train) 91.67% (test)\n"
          ]
        }
      ]
    },
    {
      "cell_type": "markdown",
      "source": [
        "---"
      ],
      "metadata": {
        "id": "HWv40bm61UXS"
      }
    },
    {
      "cell_type": "markdown",
      "source": [
        "## 2. Multiples classes\n",
        "\n",
        "La même procédure peut être effectuée sur un jeu de données contenant une variable avec de multiples classes, en l'occurence les Iris de Fisher, qui contient le type d'Iris dans \"variety\". On charge les données"
      ],
      "metadata": {
        "id": "Zkv5CgG62N8x"
      }
    },
    {
      "cell_type": "code",
      "source": [
        "file_path = \"drive/MyDrive/Colab Notebooks/ml_data/TP3/iris.csv\"\n",
        "data = pd.read_csv(file_path)\n",
        "inputs = data.drop([\"variety\"], axis=1)\n",
        "outputs = data[\"variety\"]"
      ],
      "metadata": {
        "id": "PPNhJXwa1cZq"
      },
      "execution_count": 12,
      "outputs": []
    },
    {
      "cell_type": "markdown",
      "source": [
        "On va maintenant utiliser une instance de `OneHotEncoder()` pour recoder notre variable catégorielle en vecteurs one-hot. Notons que l'argument `categories_` continent l'ordre dans lequel le recodage a été effectué"
      ],
      "metadata": {
        "id": "KGzX2H-grotf"
      }
    },
    {
      "cell_type": "code",
      "source": [
        "encoder_1hot = OneHotEncoder()\n",
        "outputs_1hot = encoder_1hot.fit_transform(\n",
        "    outputs.to_numpy().reshape(-1, 1)\n",
        "    ).toarray()\n",
        "print(outputs_1hot[:10,:])\n",
        "# Une array contenant les classes dans le bon ordre\n",
        "classes = encoder_1hot.categories_[0]\n",
        "print(classes)"
      ],
      "metadata": {
        "colab": {
          "base_uri": "https://localhost:8080/"
        },
        "id": "JnYHY_kPiw2g",
        "outputId": "4b726440-b7cb-4166-b0ea-d34e127efdb2"
      },
      "execution_count": 13,
      "outputs": [
        {
          "output_type": "stream",
          "name": "stdout",
          "text": [
            "[[1. 0. 0.]\n",
            " [1. 0. 0.]\n",
            " [1. 0. 0.]\n",
            " [1. 0. 0.]\n",
            " [1. 0. 0.]\n",
            " [1. 0. 0.]\n",
            " [1. 0. 0.]\n",
            " [1. 0. 0.]\n",
            " [1. 0. 0.]\n",
            " [1. 0. 0.]]\n",
            "['Setosa' 'Versicolor' 'Virginica']\n"
          ]
        }
      ]
    },
    {
      "cell_type": "markdown",
      "source": [
        "Séparons en jeu d'entrainement/validation et test, tout en stratifiant selon `outputs`"
      ],
      "metadata": {
        "id": "W0VtvJp5sE9Z"
      }
    },
    {
      "cell_type": "code",
      "source": [
        "inputs_train_val, inputs_test, outputs_train_val, outputs_test, \\\n",
        "outputs_1hot_train_val, outputs_1hot_test \\\n",
        "  = train_test_split(inputs, outputs, outputs_1hot, stratify=outputs)"
      ],
      "metadata": {
        "id": "yXKXldtijDO4"
      },
      "execution_count": 14,
      "outputs": []
    },
    {
      "cell_type": "markdown",
      "source": [
        "La fonction ci-dessous nous permettra d'entrainer autant de modèles linaires qu'il y a de classe dans notre matrice de vecteur one-hot. Chaque modèle va essayer de prédire un des vecteurs one-hot"
      ],
      "metadata": {
        "id": "sszwhMaxsOvR"
      }
    },
    {
      "cell_type": "code",
      "source": [
        "def train_lin_models(inputs, outputs_1hot):\n",
        "  # Pour contenir les modèles\n",
        "  lin_models = []\n",
        "  # Boucle sur le nombre de classes\n",
        "  for j in range(outputs_1hot.shape[1]):\n",
        "    # On fait la régression avec comme sortie la colonne j\n",
        "    lin_reg = LinearRegression()\n",
        "    lin_reg.fit(inputs, outputs_1hot[:, j])\n",
        "    lin_models.append(lin_reg)\n",
        "  # Retour du vecteur de modèles\n",
        "  return lin_models"
      ],
      "metadata": {
        "id": "2Js_vKGJrAos"
      },
      "execution_count": 15,
      "outputs": []
    },
    {
      "cell_type": "markdown",
      "source": [
        "On utilise cette fonction pour entrainer tous nos modèles linaires"
      ],
      "metadata": {
        "id": "WlFMPvDMseyT"
      }
    },
    {
      "cell_type": "code",
      "source": [
        "trained_lin_models = train_lin_models(inputs_train_val, outputs_1hot_train_val)"
      ],
      "metadata": {
        "id": "aghBNjhsknpD"
      },
      "execution_count": 16,
      "outputs": []
    },
    {
      "cell_type": "markdown",
      "source": [
        "La fonction ci-dessous nous permet de prédire les classes en fonction des entrées et des différents modèles. La classe retenue correspond au numéro de la régression linéaire qui donne la plus grande sortie"
      ],
      "metadata": {
        "id": "MFla9o1Usi0C"
      }
    },
    {
      "cell_type": "code",
      "source": [
        "def predict_class(lin_models, inputs):\n",
        "  # Nombre d'individus dans les entrées\n",
        "  n_indiv = inputs.shape[0]\n",
        "  # Nombre de modèles linéaires\n",
        "  n_model = len(trained_lin_models)\n",
        "  # Boucle pour remplir les prédictions linéaire dans \n",
        "  # une matrice de taille n_indiv x n_model\n",
        "  pred_mat = np.zeros((n_indiv, n_model))\n",
        "  for i in range(n_model):\n",
        "    pred = lin_models[i].predict(inputs)\n",
        "    pred_mat[:, i] = pred\n",
        "  # Transformation en vecteur de groupe\n",
        "  class_pred = np.argmax(pred_mat, axis=1)\n",
        "  # Retour du vecteur de class\n",
        "  return class_pred\n"
      ],
      "metadata": {
        "id": "SADpPgbasXB0"
      },
      "execution_count": 17,
      "outputs": []
    },
    {
      "cell_type": "markdown",
      "source": [
        "On fait les prédictions sur les jeux d'entrainement/validation et test"
      ],
      "metadata": {
        "id": "iFDQ7gHktoo2"
      }
    },
    {
      "cell_type": "code",
      "source": [
        "outputs_num_lin_train = predict_class(trained_lin_models, inputs_train_val)\n",
        "outputs_num_lin_test = predict_class(trained_lin_models, inputs_test)\n",
        "outputs_lin_train = classes[outputs_num_lin_train]\n",
        "outputs_lin_test = classes[outputs_num_lin_test]\n",
        "print(outputs_lin_test)"
      ],
      "metadata": {
        "id": "yo2xwGZep2zZ",
        "colab": {
          "base_uri": "https://localhost:8080/"
        },
        "outputId": "a408511c-b407-42ae-febe-d48c4c12ad9f"
      },
      "execution_count": 18,
      "outputs": [
        {
          "output_type": "stream",
          "name": "stdout",
          "text": [
            "['Virginica' 'Virginica' 'Setosa' 'Setosa' 'Setosa' 'Versicolor' 'Setosa'\n",
            " 'Setosa' 'Versicolor' 'Setosa' 'Versicolor' 'Versicolor' 'Virginica'\n",
            " 'Setosa' 'Virginica' 'Virginica' 'Setosa' 'Setosa' 'Virginica'\n",
            " 'Virginica' 'Virginica' 'Virginica' 'Versicolor' 'Versicolor' 'Setosa'\n",
            " 'Virginica' 'Versicolor' 'Virginica' 'Virginica' 'Virginica' 'Virginica'\n",
            " 'Setosa' 'Virginica' 'Virginica' 'Versicolor' 'Versicolor' 'Virginica'\n",
            " 'Versicolor']\n"
          ]
        }
      ]
    },
    {
      "cell_type": "markdown",
      "source": [
        "On calcule maintenant l'exactitude et la précision"
      ],
      "metadata": {
        "id": "cGLpm4edtylD"
      }
    },
    {
      "cell_type": "code",
      "source": [
        "accuracy_lin_train = np.mean(outputs_train_val == outputs_lin_train)\n",
        "accuracy_lin_test = np.mean(outputs_test == outputs_lin_test)\n",
        "precision_lin_train = precision_score(outputs_train_val, outputs_lin_train, \n",
        "                                      average=\"weighted\")\n",
        "precision_lin_test = precision_score(outputs_test, outputs_lin_test, \n",
        "                                     average=\"weighted\")"
      ],
      "metadata": {
        "id": "w7aeiL6ily4a"
      },
      "execution_count": 19,
      "outputs": []
    },
    {
      "cell_type": "markdown",
      "source": [
        "On va rafaire tout cela avec une régression logistique multinomiale régularisée avec $\\lambda \\in [0.001, 2]$. **Attention**, l'option `multi_class` doit être sur `\"multinomial\"` lors de l'instanciation de la classe `LogisticRegression`, afin de bien faire une régression avec la fonction *softmax*. On remarque ici que l'on doit créer un score personnalisé (qui s'appuie sur `precision_score`) afin de dire comment doit être calculé la précision avec des classes multiples (ici, l'option `average=\"weighted\"` permet de faire la moyenne pondérée de la précision sur chaque classe)."
      ],
      "metadata": {
        "id": "JjWKBpmLw74L"
      }
    },
    {
      "cell_type": "code",
      "source": [
        "# Paramètres pour la CV\n",
        "params = np.linspace(0.001, 2, 50)\n",
        "param_dict = {\"C\": params}\n",
        "k = 5\n",
        "# Fonction particulière pour le scoring : \n",
        "# on fait la moyenne pondérée des précisions par classe, one-vs-rest\n",
        "def my_precision(y_true, y_pred):\n",
        "  return precision_score(y_true, y_pred, average=\"weighted\")\n",
        "# Pour ce modèle, on a du augmenter le nombre d'itérations \n",
        "# dans la descente du gradient\n",
        "logistic_reg = LogisticRegression(max_iter=1e4, multi_class=\"multinomial\")\n",
        "# Recherche sur grille avec CV\n",
        "gride_search = GridSearchCV(logistic_reg, \n",
        "                            param_dict,\n",
        "                            cv=k,\n",
        "                            scoring={\"accuracy\": \"accuracy\",\n",
        "                                     \"precision\": make_scorer(my_precision)},\n",
        "                            refit=False)\n",
        "gride_search.fit(inputs_train_val, outputs_train_val)"
      ],
      "metadata": {
        "colab": {
          "base_uri": "https://localhost:8080/"
        },
        "id": "nM4kxFsKl-MQ",
        "outputId": "f209776c-b966-4138-9645-9d6e6152eaff"
      },
      "execution_count": 20,
      "outputs": [
        {
          "output_type": "stream",
          "name": "stderr",
          "text": [
            "/usr/local/lib/python3.7/dist-packages/sklearn/metrics/_classification.py:1318: UndefinedMetricWarning: Precision is ill-defined and being set to 0.0 in labels with no predicted samples. Use `zero_division` parameter to control this behavior.\n",
            "  _warn_prf(average, modifier, msg_start, len(result))\n",
            "/usr/local/lib/python3.7/dist-packages/sklearn/metrics/_classification.py:1318: UndefinedMetricWarning: Precision is ill-defined and being set to 0.0 in labels with no predicted samples. Use `zero_division` parameter to control this behavior.\n",
            "  _warn_prf(average, modifier, msg_start, len(result))\n"
          ]
        },
        {
          "output_type": "execute_result",
          "data": {
            "text/plain": [
              "GridSearchCV(cv=5,\n",
              "             estimator=LogisticRegression(max_iter=10000.0,\n",
              "                                          multi_class='multinomial'),\n",
              "             param_grid={'C': array([1.00000000e-03, 4.17959184e-02, 8.25918367e-02, 1.23387755e-01,\n",
              "       1.64183673e-01, 2.04979592e-01, 2.45775510e-01, 2.86571429e-01,\n",
              "       3.27367347e-01, 3.68163265e-01, 4.08959184e-01, 4.49755102e-01,\n",
              "       4.90551020e-01, 5.31346939e-01, 5.72142857e-01, 6.12938776e...\n",
              "       1.30646939e+00, 1.34726531e+00, 1.38806122e+00, 1.42885714e+00,\n",
              "       1.46965306e+00, 1.51044898e+00, 1.55124490e+00, 1.59204082e+00,\n",
              "       1.63283673e+00, 1.67363265e+00, 1.71442857e+00, 1.75522449e+00,\n",
              "       1.79602041e+00, 1.83681633e+00, 1.87761224e+00, 1.91840816e+00,\n",
              "       1.95920408e+00, 2.00000000e+00])},\n",
              "             refit=False,\n",
              "             scoring={'accuracy': 'accuracy',\n",
              "                      'precision': make_scorer(my_precision)})"
            ]
          },
          "metadata": {},
          "execution_count": 20
        }
      ]
    },
    {
      "cell_type": "markdown",
      "source": [
        "On peut maintenant faire le graphique de nos mesures en fonction de $\\lambda$"
      ],
      "metadata": {
        "id": "8Z67hlgjxTHL"
      }
    },
    {
      "cell_type": "code",
      "source": [
        "# Plot des scores\n",
        "accuracy_scores = gride_search.cv_results_[\"mean_test_accuracy\"]\n",
        "precision_scores = gride_search.cv_results_[\"mean_test_precision\"]\n",
        "# Plot des scores\n",
        "fig, ax = plt.subplots()\n",
        "ax.plot(params, accuracy_scores, c=\"red\", label=\"Accuracy\")\n",
        "ax.plot(params, precision_scores, c=\"blue\", label=\"Precision\")\n",
        "ax.set_xlabel(\"$\\lambda$\")\n",
        "ax.set_ylabel(\"$Score$\")\n",
        "ax.legend()\n",
        "plt.plot()"
      ],
      "metadata": {
        "colab": {
          "base_uri": "https://localhost:8080/",
          "height": 625
        },
        "id": "1McXkke7o2zS",
        "outputId": "bb14822c-a31f-41d4-d65d-9a82e503fff4"
      },
      "execution_count": 21,
      "outputs": [
        {
          "output_type": "execute_result",
          "data": {
            "text/plain": [
              "[]"
            ]
          },
          "metadata": {},
          "execution_count": 21
        },
        {
          "output_type": "display_data",
          "data": {
            "text/plain": [
              "<Figure size 1440x720 with 1 Axes>"
            ],
            "image/png": "[encoded data removed]"
          },
          "metadata": {
            "needs_background": "light"
          }
        }
      ]
    },
    {
      "cell_type": "markdown",
      "source": [
        "On retient le meilleur modèle selon la précision"
      ],
      "metadata": {
        "id": "TnBTd8X7xZ8R"
      }
    },
    {
      "cell_type": "code",
      "source": [
        "# Les meilleurs modèles selon la précision\n",
        "index_best_precision = np.where(precision_scores == max(precision_scores))[0][0]\n",
        "best_precision_par = params[index_best_precision]\n",
        "best_precision_log_reg = LogisticRegression(max_iter=1e4, C=best_precision_par)\n",
        "best_precision_log_reg.fit(inputs_train_val, outputs_train_val)"
      ],
      "metadata": {
        "colab": {
          "base_uri": "https://localhost:8080/"
        },
        "id": "vJmHnujxVIfa",
        "outputId": "70cbf36e-5e10-4a0f-cc9f-2970a3191559"
      },
      "execution_count": 22,
      "outputs": [
        {
          "output_type": "execute_result",
          "data": {
            "text/plain": [
              "LogisticRegression(C=0.16418367346938775, max_iter=10000.0)"
            ]
          },
          "metadata": {},
          "execution_count": 22
        }
      ]
    },
    {
      "cell_type": "markdown",
      "source": [
        "On calcule les mesures"
      ],
      "metadata": {
        "id": "aWpa2ExtxgGO"
      }
    },
    {
      "cell_type": "code",
      "source": [
        "# Les prédictions\n",
        "outputs_log_train = best_precision_log_reg.predict(inputs_train_val)\n",
        "outputs_log_test = best_precision_log_reg.predict(inputs_test)\n",
        "# Les scores\n",
        "accuracy_log_train = accuracy_score(outputs_train_val, outputs_log_train)\n",
        "accuracy_log_test = accuracy_score(outputs_test, outputs_log_test)\n",
        "precision_log_train = my_precision(outputs_train_val, outputs_log_train)\n",
        "precision_log_test = my_precision(outputs_test, outputs_log_test)"
      ],
      "metadata": {
        "id": "C81-QRSTV_1f"
      },
      "execution_count": 23,
      "outputs": []
    },
    {
      "cell_type": "markdown",
      "source": [
        "Et on compare à la régression linéaire"
      ],
      "metadata": {
        "id": "EBTQ5mNoxizv"
      }
    },
    {
      "cell_type": "code",
      "source": [
        "print(f\"L'exactitude pour le modèle linéaire est de \"\n",
        "f\"{accuracy_lin_train:.2%} (train) {accuracy_lin_test:.2%} (test)\")\n",
        "print(f\"La précision pour le modèle linéaire est de \"\n",
        "f\"{precision_lin_train:.2%} (train) {precision_lin_test:.2%} (test)\")\n",
        "print(f\"L'exactitude pour le modèle logistique (C={best_recall_par:.4f}) est \"\n",
        "f\"de {accuracy_log_train:.2%} (train) {accuracy_log_test:.2%} (test)\")\n",
        "print(f\"La précision pour le modèle logistique (C={best_recall_par:.4f}) est \"\n",
        "f\"de {precision_log_train:.2%} (train) {precision_log_test:.2%} (test)\")"
      ],
      "metadata": {
        "colab": {
          "base_uri": "https://localhost:8080/"
        },
        "id": "45b6EE0nnzC8",
        "outputId": "d262f96b-df68-455f-eddb-55dca8ae8871"
      },
      "execution_count": 24,
      "outputs": [
        {
          "output_type": "stream",
          "name": "stdout",
          "text": [
            "L'exactitude pour le modèle linéaire est de 87.50% (train) 65.79% (test)\n",
            "La précision pour le modèle linéaire est de 87.50% (train) 66.80% (test)\n",
            "L'exactitude pour le modèle logistique (C=0.0112) est de 97.32% (train) 94.74% (test)\n",
            "La précision pour le modèle logistique (C=0.0112) est de 97.34% (train) 94.74% (test)\n"
          ]
        }
      ]
    },
    {
      "cell_type": "markdown",
      "source": [
        "Finalement, on va afficher, à l'aide de `contourf`, les zones de décision de notre modèle. Il s'agit pour cela de créer des points d'une grille (définie sur les variables \"petal.length\" et \"petal.width\", les variables associées aux sépales seront maintenues constantes sur leur moyenne) puis d'estimer les prédictions de ces différents points. Remarquez que nous utilisons ici `predict_proba` qui premet d'obtenir les probabilités d'être dans chaque classe. Les `contourf` utilisent ensuite ces probabilités pour tracer les contours"
      ],
      "metadata": {
        "id": "qcV7tYL_xm6D"
      }
    },
    {
      "cell_type": "code",
      "source": [
        "# On fait une grille\n",
        "grid_size = 500\n",
        "p_length_min = data[\"petal.length\"].min()\n",
        "p_length_max =  data[\"petal.length\"].max()\n",
        "p_width_min = data[\"petal.width\"].min()\n",
        "p_width_max =  data[\"petal.width\"].max()\n",
        "grid_x, grid_y = np.meshgrid(np.linspace(p_length_min, p_length_max, grid_size),\n",
        "                             np.linspace(p_width_min, p_width_max, grid_size))\n",
        "\n",
        "# On recrée un jeu de données avec les points de la grille\n",
        "mean_sepal_length = data[\"sepal.length\"].mean()\n",
        "mean_sepal_width = data[\"sepal.width\"].mean()\n",
        "grid_data_mat = np.stack((np.repeat([mean_sepal_length], grid_size**2),\n",
        "                          np.repeat([mean_sepal_width], grid_size**2),\n",
        "                          grid_x.flatten(), \n",
        "                          grid_y.flatten())).T\n",
        "grid_data = pd.DataFrame(grid_data_mat, columns=inputs.columns)\n",
        "\n",
        "# Les prédicions probabiliste sur la grille\n",
        "grid_proba_pred = best_precision_log_reg.predict_proba(grid_data)\n",
        "\n",
        "# Création d'un dictionnaire pour les couleurs \n",
        "colors = {\"Setosa\": \"blue\", \"Versicolor\": \"green\", \"Virginica\": \"red\"}\n",
        "\n",
        "# Création des objets servant à l'affichage graphique\n",
        "fig, ax = plt.subplots() \n",
        "\n",
        "# On ajoute notre contour\n",
        "pred_0 = grid_proba_pred[:, 0].reshape(grid_x.shape)\n",
        "pred_1 = grid_proba_pred[:, 1].reshape(grid_x.shape)\n",
        "pred_2 = grid_proba_pred[:, 2].reshape(grid_x.shape)\n",
        "ax.contourf(grid_x, grid_y, pred_0, cmap=\"Blues\", alpha=0.4)\n",
        "ax.contourf(grid_x, grid_y, pred_1, cmap=\"Greens\", alpha=0.4)\n",
        "ax.contourf(grid_x, grid_y, pred_2, cmap=\"Reds\", alpha=0.4)\n",
        "\n",
        "# On fait une boucle sur les espèces \n",
        "for species in data[\"variety\"].unique():\n",
        "\n",
        "  # Selection de l'espèce \n",
        "  species_df = data[data[\"variety\"] == species]\n",
        "\n",
        "  # Scatter plot de l'espèce\n",
        "  ax.scatter(x=species_df[\"petal.length\"], \n",
        "            y=species_df[\"petal.width\"], \n",
        "            c=colors[species],\n",
        "            label=species)\n",
        "\n",
        "# Ajout du nom des axes, d'un titre, d'une légende, et d'une grille\n",
        "ax.set_xlabel(\"Petal Length\")\n",
        "ax.set_ylabel(\"Petal Width\")\n",
        "ax.set_title(\"Iris\")\n",
        "ax.legend()\n",
        "ax.grid(True)\n",
        "\n",
        "plt.plot()"
      ],
      "metadata": {
        "colab": {
          "base_uri": "https://localhost:8080/",
          "height": 638
        },
        "id": "cJ--cNK4WlfY",
        "outputId": "cbe36b1d-01ed-4150-b8fd-dc7e77a1e769"
      },
      "execution_count": 25,
      "outputs": [
        {
          "output_type": "execute_result",
          "data": {
            "text/plain": [
              "[]"
            ]
          },
          "metadata": {},
          "execution_count": 25
        },
        {
          "output_type": "display_data",
          "data": {
            "text/plain": [
              "<Figure size 1440x720 with 1 Axes>"
            ],
            "image/png": "[encoded data removed]"
          },
          "metadata": {
            "needs_background": "light"
          }
        }
      ]
    },
    {
      "cell_type": "markdown",
      "source": [
        "## Exercice \n",
        "\n",
        "Dans cet exercice, vous allez effectuer la même procédure que dans les exemples précédents, mais sur le jeu de données \"PimaIndiansDiabetes.csv\" (plus d'info https://www.rdocumentation.org/packages/mlbench/versions/2.1-3/topics/PimaIndiansDiabetes) et pour optimiser la mesure F1 (https://scikit-learn.org/stable/modules/generated/sklearn.metrics.f1_score.html).\n",
        "\n",
        "* La variable dépendante est \"diabetes\", qui peut être \"pos\" ou \"neg\". Toutes les autres variables sont numériques.\n",
        "* Il s'agira de faire une régression linaire et une régression logistique régularisée. À vous de trouver l'intervalle des hyparamètres à tester.\n",
        "* La mesure à optimiser est la mesure F1, qui peut être calculée avec `sklearn.metrics.f1_score`.\n",
        "\n",
        "Bonne chance !"
      ],
      "metadata": {
        "id": "pZda0S9RyjmK"
      }
    }
  ]
}